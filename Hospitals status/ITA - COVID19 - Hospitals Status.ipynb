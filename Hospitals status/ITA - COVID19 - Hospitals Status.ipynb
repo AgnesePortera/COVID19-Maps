{
 "cells": [
  {
   "cell_type": "markdown",
   "id": "infectious-values",
   "metadata": {},
   "source": [
    "Import libraries and last updated data from *Protezione civile* (see [pcm-dpc](https://github.com/pcm-dpc/COVID-19)):"
   ]
  },
  {
   "cell_type": "code",
   "execution_count": 68,
   "id": "dynamic-george",
   "metadata": {},
   "outputs": [
    {
     "data": {
      "text/html": [
       "        <script type=\"text/javascript\">\n",
       "        window.PlotlyConfig = {MathJaxConfig: 'local'};\n",
       "        if (window.MathJax) {MathJax.Hub.Config({SVG: {font: \"STIX-Web\"}});}\n",
       "        if (typeof require !== 'undefined') {\n",
       "        require.undef(\"plotly\");\n",
       "        requirejs.config({\n",
       "            paths: {\n",
       "                'plotly': ['https://cdn.plot.ly/plotly-latest.min']\n",
       "            }\n",
       "        });\n",
       "        require(['plotly'], function(Plotly) {\n",
       "            window._Plotly = Plotly;\n",
       "        });\n",
       "        }\n",
       "        </script>\n",
       "        "
      ]
     },
     "metadata": {},
     "output_type": "display_data"
    }
   ],
   "source": [
    "from urllib.request import urlopen\n",
    "import pandas as pd\n",
    "import json\n",
    "import plotly.express as px\n",
    "from plotly.offline import iplot\n",
    "import cufflinks as cf\n",
    "\n",
    "cf.go_offline()\n",
    "\n",
    "df = pd.read_csv(\"https://raw.githubusercontent.com/pcm-dpc/COVID-19/master/dati-regioni/dpc-covid19-ita-regioni.csv\")\n",
    "df2 = pd.read_csv(\"https://raw.githubusercontent.com/pcm-dpc/COVID-19/master/dati-andamento-nazionale/dpc-covid19-ita-andamento-nazionale.csv\")"
   ]
  },
  {
   "cell_type": "markdown",
   "id": "urban-latvia",
   "metadata": {},
   "source": [
    "Check DataFrame:"
   ]
  },
  {
   "cell_type": "code",
   "execution_count": 62,
   "id": "irish-spending",
   "metadata": {},
   "outputs": [
    {
     "data": {
      "text/html": [
       "<div>\n",
       "<style scoped>\n",
       "    .dataframe tbody tr th:only-of-type {\n",
       "        vertical-align: middle;\n",
       "    }\n",
       "\n",
       "    .dataframe tbody tr th {\n",
       "        vertical-align: top;\n",
       "    }\n",
       "\n",
       "    .dataframe thead th {\n",
       "        text-align: right;\n",
       "    }\n",
       "</style>\n",
       "<table border=\"1\" class=\"dataframe\">\n",
       "  <thead>\n",
       "    <tr style=\"text-align: right;\">\n",
       "      <th></th>\n",
       "      <th>data</th>\n",
       "      <th>stato</th>\n",
       "      <th>codice_regione</th>\n",
       "      <th>denominazione_regione</th>\n",
       "      <th>lat</th>\n",
       "      <th>long</th>\n",
       "      <th>ricoverati_con_sintomi</th>\n",
       "      <th>terapia_intensiva</th>\n",
       "      <th>totale_ospedalizzati</th>\n",
       "      <th>isolamento_domiciliare</th>\n",
       "      <th>...</th>\n",
       "      <th>note</th>\n",
       "      <th>ingressi_terapia_intensiva</th>\n",
       "      <th>note_test</th>\n",
       "      <th>note_casi</th>\n",
       "      <th>totale_positivi_test_molecolare</th>\n",
       "      <th>totale_positivi_test_antigenico_rapido</th>\n",
       "      <th>tamponi_test_molecolare</th>\n",
       "      <th>tamponi_test_antigenico_rapido</th>\n",
       "      <th>codice_nuts_1</th>\n",
       "      <th>codice_nuts_2</th>\n",
       "    </tr>\n",
       "  </thead>\n",
       "  <tbody>\n",
       "    <tr>\n",
       "      <th>0</th>\n",
       "      <td>2020-02-24T18:00:00</td>\n",
       "      <td>ITA</td>\n",
       "      <td>13</td>\n",
       "      <td>Abruzzo</td>\n",
       "      <td>42.351222</td>\n",
       "      <td>13.398438</td>\n",
       "      <td>0</td>\n",
       "      <td>0</td>\n",
       "      <td>0</td>\n",
       "      <td>0</td>\n",
       "      <td>...</td>\n",
       "      <td>NaN</td>\n",
       "      <td>NaN</td>\n",
       "      <td>NaN</td>\n",
       "      <td>NaN</td>\n",
       "      <td>NaN</td>\n",
       "      <td>NaN</td>\n",
       "      <td>NaN</td>\n",
       "      <td>NaN</td>\n",
       "      <td>NaN</td>\n",
       "      <td>NaN</td>\n",
       "    </tr>\n",
       "    <tr>\n",
       "      <th>1</th>\n",
       "      <td>2020-02-24T18:00:00</td>\n",
       "      <td>ITA</td>\n",
       "      <td>17</td>\n",
       "      <td>Basilicata</td>\n",
       "      <td>40.639471</td>\n",
       "      <td>15.805148</td>\n",
       "      <td>0</td>\n",
       "      <td>0</td>\n",
       "      <td>0</td>\n",
       "      <td>0</td>\n",
       "      <td>...</td>\n",
       "      <td>NaN</td>\n",
       "      <td>NaN</td>\n",
       "      <td>NaN</td>\n",
       "      <td>NaN</td>\n",
       "      <td>NaN</td>\n",
       "      <td>NaN</td>\n",
       "      <td>NaN</td>\n",
       "      <td>NaN</td>\n",
       "      <td>NaN</td>\n",
       "      <td>NaN</td>\n",
       "    </tr>\n",
       "    <tr>\n",
       "      <th>2</th>\n",
       "      <td>2020-02-24T18:00:00</td>\n",
       "      <td>ITA</td>\n",
       "      <td>18</td>\n",
       "      <td>Calabria</td>\n",
       "      <td>38.905976</td>\n",
       "      <td>16.594402</td>\n",
       "      <td>0</td>\n",
       "      <td>0</td>\n",
       "      <td>0</td>\n",
       "      <td>0</td>\n",
       "      <td>...</td>\n",
       "      <td>NaN</td>\n",
       "      <td>NaN</td>\n",
       "      <td>NaN</td>\n",
       "      <td>NaN</td>\n",
       "      <td>NaN</td>\n",
       "      <td>NaN</td>\n",
       "      <td>NaN</td>\n",
       "      <td>NaN</td>\n",
       "      <td>NaN</td>\n",
       "      <td>NaN</td>\n",
       "    </tr>\n",
       "    <tr>\n",
       "      <th>3</th>\n",
       "      <td>2020-02-24T18:00:00</td>\n",
       "      <td>ITA</td>\n",
       "      <td>15</td>\n",
       "      <td>Campania</td>\n",
       "      <td>40.839566</td>\n",
       "      <td>14.250850</td>\n",
       "      <td>0</td>\n",
       "      <td>0</td>\n",
       "      <td>0</td>\n",
       "      <td>0</td>\n",
       "      <td>...</td>\n",
       "      <td>NaN</td>\n",
       "      <td>NaN</td>\n",
       "      <td>NaN</td>\n",
       "      <td>NaN</td>\n",
       "      <td>NaN</td>\n",
       "      <td>NaN</td>\n",
       "      <td>NaN</td>\n",
       "      <td>NaN</td>\n",
       "      <td>NaN</td>\n",
       "      <td>NaN</td>\n",
       "    </tr>\n",
       "    <tr>\n",
       "      <th>4</th>\n",
       "      <td>2020-02-24T18:00:00</td>\n",
       "      <td>ITA</td>\n",
       "      <td>8</td>\n",
       "      <td>Emilia-Romagna</td>\n",
       "      <td>44.494367</td>\n",
       "      <td>11.341721</td>\n",
       "      <td>10</td>\n",
       "      <td>2</td>\n",
       "      <td>12</td>\n",
       "      <td>6</td>\n",
       "      <td>...</td>\n",
       "      <td>NaN</td>\n",
       "      <td>NaN</td>\n",
       "      <td>NaN</td>\n",
       "      <td>NaN</td>\n",
       "      <td>NaN</td>\n",
       "      <td>NaN</td>\n",
       "      <td>NaN</td>\n",
       "      <td>NaN</td>\n",
       "      <td>NaN</td>\n",
       "      <td>NaN</td>\n",
       "    </tr>\n",
       "  </tbody>\n",
       "</table>\n",
       "<p>5 rows × 30 columns</p>\n",
       "</div>"
      ],
      "text/plain": [
       "                  data stato  codice_regione denominazione_regione        lat  \\\n",
       "0  2020-02-24T18:00:00   ITA              13               Abruzzo  42.351222   \n",
       "1  2020-02-24T18:00:00   ITA              17            Basilicata  40.639471   \n",
       "2  2020-02-24T18:00:00   ITA              18              Calabria  38.905976   \n",
       "3  2020-02-24T18:00:00   ITA              15              Campania  40.839566   \n",
       "4  2020-02-24T18:00:00   ITA               8        Emilia-Romagna  44.494367   \n",
       "\n",
       "        long  ricoverati_con_sintomi  terapia_intensiva  totale_ospedalizzati  \\\n",
       "0  13.398438                       0                  0                     0   \n",
       "1  15.805148                       0                  0                     0   \n",
       "2  16.594402                       0                  0                     0   \n",
       "3  14.250850                       0                  0                     0   \n",
       "4  11.341721                      10                  2                    12   \n",
       "\n",
       "   isolamento_domiciliare  ...  note  ingressi_terapia_intensiva  note_test  \\\n",
       "0                       0  ...   NaN                         NaN        NaN   \n",
       "1                       0  ...   NaN                         NaN        NaN   \n",
       "2                       0  ...   NaN                         NaN        NaN   \n",
       "3                       0  ...   NaN                         NaN        NaN   \n",
       "4                       6  ...   NaN                         NaN        NaN   \n",
       "\n",
       "   note_casi  totale_positivi_test_molecolare  \\\n",
       "0        NaN                              NaN   \n",
       "1        NaN                              NaN   \n",
       "2        NaN                              NaN   \n",
       "3        NaN                              NaN   \n",
       "4        NaN                              NaN   \n",
       "\n",
       "   totale_positivi_test_antigenico_rapido  tamponi_test_molecolare  \\\n",
       "0                                     NaN                      NaN   \n",
       "1                                     NaN                      NaN   \n",
       "2                                     NaN                      NaN   \n",
       "3                                     NaN                      NaN   \n",
       "4                                     NaN                      NaN   \n",
       "\n",
       "   tamponi_test_antigenico_rapido  codice_nuts_1  codice_nuts_2  \n",
       "0                             NaN            NaN            NaN  \n",
       "1                             NaN            NaN            NaN  \n",
       "2                             NaN            NaN            NaN  \n",
       "3                             NaN            NaN            NaN  \n",
       "4                             NaN            NaN            NaN  \n",
       "\n",
       "[5 rows x 30 columns]"
      ]
     },
     "execution_count": 62,
     "metadata": {},
     "output_type": "execute_result"
    }
   ],
   "source": [
    "df.head()"
   ]
  },
  {
   "cell_type": "markdown",
   "id": "intimate-group",
   "metadata": {},
   "source": [
    "Consider **P.A. Trento** and **P.A. Bolzano** as standard code 4 (i.e. *Trentino Alto Adige*)."
   ]
  },
  {
   "cell_type": "code",
   "execution_count": 69,
   "id": "geological-advance",
   "metadata": {},
   "outputs": [],
   "source": [
    "df.loc[df['codice_regione'] >= 21,'codice_regione'] = 4"
   ]
  },
  {
   "cell_type": "markdown",
   "id": "unlike-portugal",
   "metadata": {},
   "source": [
    "Drop not used column and rename *Region* and *terapia_intensiva* columns:"
   ]
  },
  {
   "cell_type": "code",
   "execution_count": 70,
   "id": "reliable-chinese",
   "metadata": {},
   "outputs": [],
   "source": [
    "df.drop(columns=['stato','lat', 'long'], axis=1, inplace=True)\n",
    "df = df[df['denominazione_regione'] != 'In fase di definizione/aggiornamento']\n",
    "df = df.rename(columns={'codice_regione': 'Region'})\n",
    "df = df.rename(columns={'terapia_intensiva': 'ICU'})\n",
    "df['Date'] = pd.to_datetime(df['data'], format=\"%Y-%m-%d\")\n",
    "df['Date'] = df['Date'].dt.strftime('%Y-%m-%d')"
   ]
  },
  {
   "cell_type": "markdown",
   "id": "mineral-foster",
   "metadata": {},
   "source": [
    "Print map using geojson Italy region file ([openpolis](https://github.com/openpolis/geojson-italy)):"
   ]
  },
  {
   "cell_type": "code",
   "execution_count": 37,
   "id": "acute-degree",
   "metadata": {},
   "outputs": [
    {
     "data": {
      "application/vnd.plotly.v1+json": {
       "config": {
        "plotlyServerURL": "https://plot.ly"
       },
       "data": [
        {
         "coloraxis": "coloraxis",
         "featureidkey": "properties.reg_istat_code_num",
         "geo": "geo",
         "geojson": "https://raw.githubusercontent.com/openpolis/geojson-italy/master/geojson/limits_IT_regions.geojson",
         "hovertemplate": "Date=2020-02-24<br>Region=%{location}<br>ICU=%{z}<extra></extra>",
         "locations": [
          13,
          17,
          18,
          15,
          8,
          6,
          12,
          7,
          3,
          11,
          14,
          4,
          4,
          1,
          16,
          20,
          19,
          9,
          10,
          2,
          5
         ],
         "name": "",
         "type": "choropleth",
         "z": [
          0,
          0,
          0,
          0,
          2,
          0,
          1,
          0,
          19,
          0,
          0,
          0,
          0,
          0,
          0,
          0,
          0,
          0,
          0,
          0,
          4
         ]
        }
       ],
       "frames": [
        {
         "data": [
          {
           "coloraxis": "coloraxis",
           "featureidkey": "properties.reg_istat_code_num",
           "geo": "geo",
           "geojson": "https://raw.githubusercontent.com/openpolis/geojson-italy/master/geojson/limits_IT_regions.geojson",
           "hovertemplate": "Date=2020-02-24<br>Region=%{location}<br>ICU=%{z}<extra></extra>",
           "locations": [
            13,
            17,
            18,
            15,
            8,
            6,
            12,
            7,
            3,
            11,
            14,
            4,
            4,
            1,
            16,
            20,
            19,
            9,
            10,
            2,
            5
           ],
           "name": "",
           "type": "choropleth",
           "z": [
            0,
            0,
            0,
            0,
            2,
            0,
            1,
            0,
            19,
            0,
            0,
            0,
            0,
            0,
            0,
            0,
            0,
            0,
            0,
            0,
            4
           ]
          }
         ],
         "name": "2020-02-24"
        },
        {
         "data": [
          {
           "coloraxis": "coloraxis",
           "featureidkey": "properties.reg_istat_code_num",
           "geo": "geo",
           "geojson": "https://raw.githubusercontent.com/openpolis/geojson-italy/master/geojson/limits_IT_regions.geojson",
           "hovertemplate": "Date=2020-02-25<br>Region=%{location}<br>ICU=%{z}<extra></extra>",
           "locations": [
            13,
            17,
            18,
            15,
            8,
            6,
            12,
            7,
            3,
            11,
            14,
            4,
            4,
            1,
            16,
            20,
            19,
            9,
            10,
            2,
            5
           ],
           "name": "",
           "type": "choropleth",
           "z": [
            0,
            0,
            0,
            0,
            2,
            0,
            1,
            0,
            25,
            0,
            0,
            0,
            0,
            0,
            0,
            0,
            0,
            0,
            0,
            0,
            7
           ]
          }
         ],
         "name": "2020-02-25"
        },
        {
         "data": [
          {
           "coloraxis": "coloraxis",
           "featureidkey": "properties.reg_istat_code_num",
           "geo": "geo",
           "geojson": "https://raw.githubusercontent.com/openpolis/geojson-italy/master/geojson/limits_IT_regions.geojson",
           "hovertemplate": "Date=2020-02-26<br>Region=%{location}<br>ICU=%{z}<extra></extra>",
           "locations": [
            13,
            17,
            18,
            15,
            8,
            6,
            12,
            7,
            3,
            11,
            14,
            4,
            4,
            1,
            16,
            20,
            19,
            9,
            10,
            2,
            5
           ],
           "name": "",
           "type": "choropleth",
           "z": [
            0,
            0,
            0,
            0,
            3,
            0,
            0,
            0,
            25,
            0,
            0,
            0,
            0,
            0,
            0,
            0,
            0,
            0,
            0,
            0,
            8
           ]
          }
         ],
         "name": "2020-02-26"
        },
        {
         "data": [
          {
           "coloraxis": "coloraxis",
           "featureidkey": "properties.reg_istat_code_num",
           "geo": "geo",
           "geojson": "https://raw.githubusercontent.com/openpolis/geojson-italy/master/geojson/limits_IT_regions.geojson",
           "hovertemplate": "Date=2020-02-27<br>Region=%{location}<br>ICU=%{z}<extra></extra>",
           "locations": [
            13,
            17,
            18,
            15,
            8,
            6,
            12,
            7,
            3,
            11,
            14,
            4,
            4,
            1,
            16,
            20,
            19,
            9,
            10,
            2,
            5
           ],
           "name": "",
           "type": "choropleth",
           "z": [
            0,
            0,
            0,
            0,
            6,
            0,
            0,
            0,
            41,
            1,
            0,
            0,
            0,
            0,
            0,
            0,
            0,
            0,
            0,
            0,
            8
           ]
          }
         ],
         "name": "2020-02-27"
        },
        {
         "data": [
          {
           "coloraxis": "coloraxis",
           "featureidkey": "properties.reg_istat_code_num",
           "geo": "geo",
           "geojson": "https://raw.githubusercontent.com/openpolis/geojson-italy/master/geojson/limits_IT_regions.geojson",
           "hovertemplate": "Date=2020-02-28<br>Region=%{location}<br>ICU=%{z}<extra></extra>",
           "locations": [
            13,
            17,
            18,
            15,
            8,
            6,
            12,
            7,
            3,
            11,
            14,
            4,
            4,
            1,
            16,
            20,
            19,
            9,
            10,
            2,
            5
           ],
           "name": "",
           "type": "choropleth",
           "z": [
            0,
            0,
            0,
            0,
            6,
            0,
            0,
            0,
            47,
            2,
            0,
            0,
            0,
            0,
            0,
            0,
            0,
            0,
            0,
            0,
            9
           ]
          }
         ],
         "name": "2020-02-28"
        },
        {
         "data": [
          {
           "coloraxis": "coloraxis",
           "featureidkey": "properties.reg_istat_code_num",
           "geo": "geo",
           "geojson": "https://raw.githubusercontent.com/openpolis/geojson-italy/master/geojson/limits_IT_regions.geojson",
           "hovertemplate": "Date=2020-02-29<br>Region=%{location}<br>ICU=%{z}<extra></extra>",
           "locations": [
            13,
            17,
            18,
            15,
            8,
            6,
            12,
            7,
            3,
            11,
            14,
            4,
            4,
            1,
            16,
            20,
            19,
            9,
            10,
            2,
            5
           ],
           "name": "",
           "type": "choropleth",
           "z": [
            0,
            0,
            0,
            0,
            11,
            0,
            0,
            1,
            80,
            2,
            0,
            0,
            0,
            0,
            0,
            0,
            0,
            0,
            0,
            0,
            11
           ]
          }
         ],
         "name": "2020-02-29"
        },
        {
         "data": [
          {
           "coloraxis": "coloraxis",
           "featureidkey": "properties.reg_istat_code_num",
           "geo": "geo",
           "geojson": "https://raw.githubusercontent.com/openpolis/geojson-italy/master/geojson/limits_IT_regions.geojson",
           "hovertemplate": "Date=2020-03-01<br>Region=%{location}<br>ICU=%{z}<extra></extra>",
           "locations": [
            13,
            17,
            18,
            15,
            8,
            6,
            12,
            7,
            3,
            11,
            14,
            4,
            4,
            1,
            16,
            20,
            19,
            9,
            10,
            2,
            5
           ],
           "name": "",
           "type": "choropleth",
           "z": [
            0,
            0,
            0,
            0,
            13,
            0,
            0,
            1,
            106,
            5,
            0,
            0,
            0,
            2,
            0,
            0,
            0,
            0,
            0,
            0,
            13
           ]
          }
         ],
         "name": "2020-03-01"
        },
        {
         "data": [
          {
           "coloraxis": "coloraxis",
           "featureidkey": "properties.reg_istat_code_num",
           "geo": "geo",
           "geojson": "https://raw.githubusercontent.com/openpolis/geojson-italy/master/geojson/limits_IT_regions.geojson",
           "hovertemplate": "Date=2020-03-02<br>Region=%{location}<br>ICU=%{z}<extra></extra>",
           "locations": [
            13,
            17,
            18,
            15,
            8,
            6,
            12,
            7,
            3,
            11,
            14,
            4,
            4,
            1,
            16,
            20,
            19,
            9,
            10,
            2,
            5
           ],
           "name": "",
           "type": "choropleth",
           "z": [
            0,
            0,
            0,
            0,
            16,
            0,
            0,
            1,
            127,
            6,
            0,
            0,
            0,
            2,
            0,
            0,
            0,
            0,
            0,
            0,
            14
           ]
          }
         ],
         "name": "2020-03-02"
        },
        {
         "data": [
          {
           "coloraxis": "coloraxis",
           "featureidkey": "properties.reg_istat_code_num",
           "geo": "geo",
           "geojson": "https://raw.githubusercontent.com/openpolis/geojson-italy/master/geojson/limits_IT_regions.geojson",
           "hovertemplate": "Date=2020-03-03<br>Region=%{location}<br>ICU=%{z}<extra></extra>",
           "locations": [
            13,
            17,
            18,
            15,
            8,
            6,
            12,
            7,
            3,
            11,
            14,
            4,
            4,
            1,
            16,
            20,
            19,
            9,
            10,
            2,
            5
           ],
           "name": "",
           "type": "choropleth",
           "z": [
            0,
            0,
            0,
            0,
            24,
            0,
            0,
            2,
            167,
            13,
            0,
            0,
            0,
            3,
            0,
            0,
            0,
            0,
            1,
            0,
            19
           ]
          }
         ],
         "name": "2020-03-03"
        },
        {
         "data": [
          {
           "coloraxis": "coloraxis",
           "featureidkey": "properties.reg_istat_code_num",
           "geo": "geo",
           "geojson": "https://raw.githubusercontent.com/openpolis/geojson-italy/master/geojson/limits_IT_regions.geojson",
           "hovertemplate": "Date=2020-03-04<br>Region=%{location}<br>ICU=%{z}<extra></extra>",
           "locations": [
            13,
            17,
            18,
            15,
            8,
            6,
            12,
            7,
            3,
            11,
            14,
            4,
            4,
            1,
            16,
            20,
            19,
            9,
            10,
            2,
            5
           ],
           "name": "",
           "type": "choropleth",
           "z": [
            0,
            0,
            0,
            0,
            26,
            0,
            3,
            3,
            209,
            15,
            0,
            0,
            0,
            13,
            0,
            0,
            0,
            2,
            1,
            0,
            23
           ]
          }
         ],
         "name": "2020-03-04"
        },
        {
         "data": [
          {
           "coloraxis": "coloraxis",
           "featureidkey": "properties.reg_istat_code_num",
           "geo": "geo",
           "geojson": "https://raw.githubusercontent.com/openpolis/geojson-italy/master/geojson/limits_IT_regions.geojson",
           "hovertemplate": "Date=2020-03-05<br>Region=%{location}<br>ICU=%{z}<extra></extra>",
           "locations": [
            13,
            17,
            18,
            15,
            8,
            6,
            12,
            7,
            3,
            11,
            14,
            4,
            4,
            1,
            16,
            20,
            19,
            9,
            10,
            2,
            5
           ],
           "name": "",
           "type": "choropleth",
           "z": [
            0,
            0,
            0,
            0,
            32,
            0,
            7,
            3,
            244,
            19,
            0,
            0,
            0,
            17,
            1,
            0,
            0,
            3,
            1,
            0,
            24
           ]
          }
         ],
         "name": "2020-03-05"
        },
        {
         "data": [
          {
           "coloraxis": "coloraxis",
           "featureidkey": "properties.reg_istat_code_num",
           "geo": "geo",
           "geojson": "https://raw.githubusercontent.com/openpolis/geojson-italy/master/geojson/limits_IT_regions.geojson",
           "hovertemplate": "Date=2020-03-06<br>Region=%{location}<br>ICU=%{z}<extra></extra>",
           "locations": [
            13,
            17,
            18,
            15,
            8,
            6,
            12,
            7,
            3,
            11,
            14,
            4,
            4,
            1,
            16,
            20,
            19,
            9,
            10,
            2,
            5
           ],
           "name": "",
           "type": "choropleth",
           "z": [
            0,
            0,
            0,
            0,
            53,
            0,
            8,
            5,
            309,
            20,
            2,
            0,
            0,
            30,
            1,
            0,
            0,
            5,
            2,
            0,
            27
           ]
          }
         ],
         "name": "2020-03-06"
        },
        {
         "data": [
          {
           "coloraxis": "coloraxis",
           "featureidkey": "properties.reg_istat_code_num",
           "geo": "geo",
           "geojson": "https://raw.githubusercontent.com/openpolis/geojson-italy/master/geojson/limits_IT_regions.geojson",
           "hovertemplate": "Date=2020-03-07<br>Region=%{location}<br>ICU=%{z}<extra></extra>",
           "locations": [
            13,
            17,
            18,
            15,
            8,
            6,
            12,
            7,
            3,
            11,
            14,
            4,
            4,
            1,
            16,
            20,
            19,
            9,
            10,
            2,
            5
           ],
           "name": "",
           "type": "choropleth",
           "z": [
            0,
            0,
            0,
            0,
            64,
            1,
            8,
            6,
            359,
            36,
            2,
            0,
            1,
            38,
            2,
            0,
            0,
            7,
            2,
            0,
            41
           ]
          }
         ],
         "name": "2020-03-07"
        },
        {
         "data": [
          {
           "coloraxis": "coloraxis",
           "featureidkey": "properties.reg_istat_code_num",
           "geo": "geo",
           "geojson": "https://raw.githubusercontent.com/openpolis/geojson-italy/master/geojson/limits_IT_regions.geojson",
           "hovertemplate": "Date=2020-03-08<br>Region=%{location}<br>ICU=%{z}<extra></extra>",
           "locations": [
            13,
            17,
            18,
            15,
            8,
            6,
            12,
            7,
            3,
            11,
            14,
            4,
            4,
            1,
            16,
            20,
            19,
            9,
            10,
            2,
            5
           ],
           "name": "",
           "type": "choropleth",
           "z": [
            0,
            0,
            0,
            7,
            75,
            1,
            8,
            11,
            399,
            41,
            2,
            0,
            2,
            45,
            3,
            0,
            0,
            7,
            2,
            0,
            47
           ]
          }
         ],
         "name": "2020-03-08"
        },
        {
         "data": [
          {
           "coloraxis": "coloraxis",
           "featureidkey": "properties.reg_istat_code_num",
           "geo": "geo",
           "geojson": "https://raw.githubusercontent.com/openpolis/geojson-italy/master/geojson/limits_IT_regions.geojson",
           "hovertemplate": "Date=2020-03-09<br>Region=%{location}<br>ICU=%{z}<extra></extra>",
           "locations": [
            13,
            17,
            18,
            15,
            8,
            6,
            12,
            7,
            3,
            11,
            14,
            4,
            4,
            1,
            16,
            20,
            19,
            9,
            10,
            2,
            5
           ],
           "name": "",
           "type": "choropleth",
           "z": [
            0,
            0,
            0,
            8,
            90,
            1,
            8,
            17,
            440,
            47,
            2,
            0,
            2,
            50,
            6,
            0,
            0,
            9,
            2,
            0,
            51
           ]
          }
         ],
         "name": "2020-03-09"
        },
        {
         "data": [
          {
           "coloraxis": "coloraxis",
           "featureidkey": "properties.reg_istat_code_num",
           "geo": "geo",
           "geojson": "https://raw.githubusercontent.com/openpolis/geojson-italy/master/geojson/limits_IT_regions.geojson",
           "hovertemplate": "Date=2020-03-10<br>Region=%{location}<br>ICU=%{z}<extra></extra>",
           "locations": [
            13,
            17,
            18,
            15,
            8,
            6,
            12,
            7,
            3,
            11,
            14,
            4,
            4,
            1,
            16,
            20,
            19,
            9,
            10,
            2,
            5
           ],
           "name": "",
           "type": "choropleth",
           "z": [
            9,
            0,
            2,
            8,
            98,
            6,
            15,
            29,
            466,
            54,
            3,
            1,
            3,
            66,
            6,
            0,
            2,
            40,
            2,
            0,
            67
           ]
          }
         ],
         "name": "2020-03-10"
        },
        {
         "data": [
          {
           "coloraxis": "coloraxis",
           "featureidkey": "properties.reg_istat_code_num",
           "geo": "geo",
           "geojson": "https://raw.githubusercontent.com/openpolis/geojson-italy/master/geojson/limits_IT_regions.geojson",
           "hovertemplate": "Date=2020-03-11<br>Region=%{location}<br>ICU=%{z}<extra></extra>",
           "locations": [
            13,
            17,
            18,
            15,
            8,
            6,
            12,
            7,
            3,
            11,
            14,
            4,
            4,
            1,
            16,
            20,
            19,
            9,
            10,
            2,
            5
           ],
           "name": "",
           "type": "choropleth",
           "z": [
            9,
            1,
            2,
            11,
            104,
            5,
            18,
            34,
            560,
            66,
            3,
            4,
            4,
            75,
            4,
            0,
            1,
            54,
            5,
            0,
            68
           ]
          }
         ],
         "name": "2020-03-11"
        },
        {
         "data": [
          {
           "coloraxis": "coloraxis",
           "featureidkey": "properties.reg_istat_code_num",
           "geo": "geo",
           "geojson": "https://raw.githubusercontent.com/openpolis/geojson-italy/master/geojson/limits_IT_regions.geojson",
           "hovertemplate": "Date=2020-03-12<br>Region=%{location}<br>ICU=%{z}<extra></extra>",
           "locations": [
            13,
            17,
            18,
            15,
            8,
            6,
            12,
            7,
            3,
            11,
            14,
            4,
            4,
            1,
            16,
            20,
            19,
            9,
            10,
            2,
            5
           ],
           "name": "",
           "type": "choropleth",
           "z": [
            12,
            1,
            2,
            11,
            112,
            10,
            20,
            36,
            605,
            76,
            3,
            4,
            5,
            97,
            2,
            0,
            5,
            59,
            8,
            0,
            85
           ]
          }
         ],
         "name": "2020-03-12"
        },
        {
         "data": [
          {
           "coloraxis": "coloraxis",
           "featureidkey": "properties.reg_istat_code_num",
           "geo": "geo",
           "geojson": "https://raw.githubusercontent.com/openpolis/geojson-italy/master/geojson/limits_IT_regions.geojson",
           "hovertemplate": "Date=2020-03-13<br>Region=%{location}<br>ICU=%{z}<extra></extra>",
           "locations": [
            13,
            17,
            18,
            15,
            8,
            6,
            12,
            7,
            3,
            11,
            14,
            4,
            4,
            1,
            16,
            20,
            19,
            9,
            10,
            2,
            5
           ],
           "name": "",
           "type": "choropleth",
           "z": [
            14,
            1,
            3,
            19,
            128,
            8,
            24,
            44,
            650,
            85,
            3,
            5,
            6,
            135,
            2,
            0,
            7,
            77,
            10,
            0,
            107
           ]
          }
         ],
         "name": "2020-03-13"
        },
        {
         "data": [
          {
           "coloraxis": "coloraxis",
           "featureidkey": "properties.reg_istat_code_num",
           "geo": "geo",
           "geojson": "https://raw.githubusercontent.com/openpolis/geojson-italy/master/geojson/limits_IT_regions.geojson",
           "hovertemplate": "Date=2020-03-14<br>Region=%{location}<br>ICU=%{z}<extra></extra>",
           "locations": [
            13,
            17,
            18,
            15,
            8,
            6,
            12,
            7,
            3,
            11,
            14,
            4,
            4,
            1,
            16,
            20,
            19,
            9,
            10,
            2,
            5
           ],
           "name": "",
           "type": "choropleth",
           "z": [
            14,
            2,
            4,
            17,
            152,
            11,
            25,
            62,
            732,
            93,
            3,
            7,
            12,
            150,
            6,
            0,
            11,
            87,
            11,
            0,
            119
           ]
          }
         ],
         "name": "2020-03-14"
        },
        {
         "data": [
          {
           "coloraxis": "coloraxis",
           "featureidkey": "properties.reg_istat_code_num",
           "geo": "geo",
           "geojson": "https://raw.githubusercontent.com/openpolis/geojson-italy/master/geojson/limits_IT_regions.geojson",
           "hovertemplate": "Date=2020-03-15<br>Region=%{location}<br>ICU=%{z}<extra></extra>",
           "locations": [
            13,
            17,
            18,
            15,
            8,
            6,
            12,
            7,
            3,
            11,
            14,
            4,
            4,
            1,
            16,
            20,
            19,
            9,
            10,
            2,
            5
           ],
           "name": "",
           "type": "choropleth",
           "z": [
            28,
            2,
            6,
            22,
            169,
            12,
            31,
            66,
            767,
            98,
            4,
            4,
            19,
            171,
            6,
            0,
            15,
            107,
            13,
            3,
            129
           ]
          }
         ],
         "name": "2020-03-15"
        },
        {
         "data": [
          {
           "coloraxis": "coloraxis",
           "featureidkey": "properties.reg_istat_code_num",
           "geo": "geo",
           "geojson": "https://raw.githubusercontent.com/openpolis/geojson-italy/master/geojson/limits_IT_regions.geojson",
           "hovertemplate": "Date=2020-03-16<br>Region=%{location}<br>ICU=%{z}<extra></extra>",
           "locations": [
            13,
            17,
            18,
            15,
            8,
            6,
            12,
            7,
            3,
            11,
            14,
            4,
            4,
            1,
            16,
            20,
            19,
            9,
            10,
            2,
            5
           ],
           "name": "",
           "type": "choropleth",
           "z": [
            37,
            2,
            7,
            22,
            197,
            19,
            31,
            73,
            823,
            110,
            5,
            11,
            19,
            186,
            6,
            0,
            20,
            107,
            15,
            5,
            156
           ]
          }
         ],
         "name": "2020-03-16"
        },
        {
         "data": [
          {
           "coloraxis": "coloraxis",
           "featureidkey": "properties.reg_istat_code_num",
           "geo": "geo",
           "geojson": "https://raw.githubusercontent.com/openpolis/geojson-italy/master/geojson/limits_IT_regions.geojson",
           "hovertemplate": "Date=2020-03-17<br>Region=%{location}<br>ICU=%{z}<extra></extra>",
           "locations": [
            13,
            17,
            18,
            15,
            8,
            6,
            12,
            7,
            3,
            11,
            14,
            4,
            4,
            1,
            16,
            20,
            19,
            9,
            10,
            2,
            5
           ],
           "name": "",
           "type": "choropleth",
           "z": [
            32,
            2,
            10,
            24,
            223,
            21,
            44,
            85,
            879,
            109,
            5,
            11,
            22,
            206,
            14,
            4,
            28,
            143,
            21,
            6,
            171
           ]
          }
         ],
         "name": "2020-03-17"
        },
        {
         "data": [
          {
           "coloraxis": "coloraxis",
           "featureidkey": "properties.reg_istat_code_num",
           "geo": "geo",
           "geojson": "https://raw.githubusercontent.com/openpolis/geojson-italy/master/geojson/limits_IT_regions.geojson",
           "hovertemplate": "Date=2020-03-18<br>Region=%{location}<br>ICU=%{z}<extra></extra>",
           "locations": [
            13,
            17,
            18,
            15,
            8,
            6,
            12,
            7,
            3,
            11,
            14,
            4,
            4,
            1,
            16,
            20,
            19,
            9,
            10,
            2,
            5
           ],
           "name": "",
           "type": "choropleth",
           "z": [
            41,
            2,
            11,
            24,
            247,
            27,
            44,
            100,
            924,
            119,
            6,
            18,
            22,
            227,
            30,
            7,
            29,
            160,
            21,
            3,
            195
           ]
          }
         ],
         "name": "2020-03-18"
        },
        {
         "data": [
          {
           "coloraxis": "coloraxis",
           "featureidkey": "properties.reg_istat_code_num",
           "geo": "geo",
           "geojson": "https://raw.githubusercontent.com/openpolis/geojson-italy/master/geojson/limits_IT_regions.geojson",
           "hovertemplate": "Date=2020-03-19<br>Region=%{location}<br>ICU=%{z}<extra></extra>",
           "locations": [
            13,
            17,
            18,
            15,
            8,
            6,
            12,
            7,
            3,
            11,
            14,
            4,
            4,
            1,
            16,
            20,
            19,
            9,
            10,
            2,
            5
           ],
           "name": "",
           "type": "choropleth",
           "z": [
            47,
            5,
            13,
            36,
            260,
            29,
            45,
            112,
            1006,
            141,
            6,
            18,
            30,
            257,
            31,
            9,
            36,
            178,
            21,
            9,
            209
           ]
          }
         ],
         "name": "2020-03-19"
        },
        {
         "data": [
          {
           "coloraxis": "coloraxis",
           "featureidkey": "properties.reg_istat_code_num",
           "geo": "geo",
           "geojson": "https://raw.githubusercontent.com/openpolis/geojson-italy/master/geojson/limits_IT_regions.geojson",
           "hovertemplate": "Date=2020-03-20<br>Region=%{location}<br>ICU=%{z}<extra></extra>",
           "locations": [
            13,
            17,
            18,
            15,
            8,
            6,
            12,
            7,
            3,
            11,
            14,
            4,
            4,
            1,
            16,
            20,
            19,
            9,
            10,
            2,
            5
           ],
           "name": "",
           "type": "choropleth",
           "z": [
            48,
            5,
            16,
            41,
            267,
            32,
            47,
            121,
            1050,
            138,
            6,
            24,
            34,
            280,
            31,
            15,
            42,
            189,
            24,
            9,
            236
           ]
          }
         ],
         "name": "2020-03-20"
        },
        {
         "data": [
          {
           "coloraxis": "coloraxis",
           "featureidkey": "properties.reg_istat_code_num",
           "geo": "geo",
           "geojson": "https://raw.githubusercontent.com/openpolis/geojson-italy/master/geojson/limits_IT_regions.geojson",
           "hovertemplate": "Date=2020-03-21<br>Region=%{location}<br>ICU=%{z}<extra></extra>",
           "locations": [
            13,
            17,
            18,
            15,
            8,
            6,
            12,
            7,
            3,
            11,
            14,
            4,
            4,
            1,
            16,
            20,
            19,
            9,
            10,
            2,
            5
           ],
           "name": "",
           "type": "choropleth",
           "z": [
            44,
            7,
            16,
            87,
            265,
            37,
            70,
            129,
            1093,
            141,
            6,
            30,
            39,
            301,
            33,
            16,
            48,
            202,
            29,
            15,
            249
           ]
          }
         ],
         "name": "2020-03-21"
        },
        {
         "data": [
          {
           "coloraxis": "coloraxis",
           "featureidkey": "properties.reg_istat_code_num",
           "geo": "geo",
           "geojson": "https://raw.githubusercontent.com/openpolis/geojson-italy/master/geojson/limits_IT_regions.geojson",
           "hovertemplate": "Date=2020-03-22<br>Region=%{location}<br>ICU=%{z}<extra></extra>",
           "locations": [
            13,
            17,
            18,
            15,
            8,
            6,
            12,
            7,
            3,
            11,
            14,
            4,
            4,
            1,
            16,
            20,
            19,
            9,
            10,
            2,
            5
           ],
           "name": "",
           "type": "choropleth",
           "z": [
            49,
            10,
            17,
            99,
            269,
            47,
            79,
            132,
            1142,
            138,
            7,
            32,
            46,
            308,
            37,
            16,
            55,
            215,
            35,
            21,
            255
           ]
          }
         ],
         "name": "2020-03-22"
        },
        {
         "data": [
          {
           "coloraxis": "coloraxis",
           "featureidkey": "properties.reg_istat_code_num",
           "geo": "geo",
           "geojson": "https://raw.githubusercontent.com/openpolis/geojson-italy/master/geojson/limits_IT_regions.geojson",
           "hovertemplate": "Date=2020-03-23<br>Region=%{location}<br>ICU=%{z}<extra></extra>",
           "locations": [
            13,
            17,
            18,
            15,
            8,
            6,
            12,
            7,
            3,
            11,
            14,
            4,
            4,
            1,
            16,
            20,
            19,
            9,
            10,
            2,
            5
           ],
           "name": "",
           "type": "choropleth",
           "z": [
            52,
            12,
            20,
            110,
            276,
            41,
            96,
            133,
            1183,
            148,
            7,
            33,
            46,
            343,
            45,
            18,
            60,
            238,
            42,
            20,
            281
           ]
          }
         ],
         "name": "2020-03-23"
        },
        {
         "data": [
          {
           "coloraxis": "coloraxis",
           "featureidkey": "properties.reg_istat_code_num",
           "geo": "geo",
           "geojson": "https://raw.githubusercontent.com/openpolis/geojson-italy/master/geojson/limits_IT_regions.geojson",
           "hovertemplate": "Date=2020-03-24<br>Region=%{location}<br>ICU=%{z}<extra></extra>",
           "locations": [
            13,
            17,
            18,
            15,
            8,
            6,
            12,
            7,
            3,
            11,
            14,
            4,
            4,
            1,
            16,
            20,
            19,
            9,
            10,
            2,
            5
           ],
           "name": "",
           "type": "choropleth",
           "z": [
            57,
            12,
            21,
            181,
            291,
            49,
            94,
            147,
            1194,
            149,
            7,
            38,
            49,
            360,
            57,
            19,
            60,
            244,
            43,
            20,
            304
           ]
          }
         ],
         "name": "2020-03-24"
        },
        {
         "data": [
          {
           "coloraxis": "coloraxis",
           "featureidkey": "properties.reg_istat_code_num",
           "geo": "geo",
           "geojson": "https://raw.githubusercontent.com/openpolis/geojson-italy/master/geojson/limits_IT_regions.geojson",
           "hovertemplate": "Date=2020-03-25<br>Region=%{location}<br>ICU=%{z}<extra></extra>",
           "locations": [
            13,
            17,
            18,
            15,
            8,
            6,
            12,
            7,
            3,
            11,
            14,
            4,
            4,
            1,
            16,
            20,
            19,
            9,
            10,
            2,
            5
           ],
           "name": "",
           "type": "choropleth",
           "z": [
            59,
            14,
            23,
            123,
            294,
            52,
            101,
            147,
            1236,
            148,
            7,
            40,
            65,
            381,
            64,
            19,
            80,
            251,
            44,
            25,
            316
           ]
          }
         ],
         "name": "2020-03-25"
        },
        {
         "data": [
          {
           "coloraxis": "coloraxis",
           "featureidkey": "properties.reg_istat_code_num",
           "geo": "geo",
           "geojson": "https://raw.githubusercontent.com/openpolis/geojson-italy/master/geojson/limits_IT_regions.geojson",
           "hovertemplate": "Date=2020-03-26<br>Region=%{location}<br>ICU=%{z}<extra></extra>",
           "locations": [
            13,
            17,
            18,
            15,
            8,
            6,
            12,
            7,
            3,
            11,
            14,
            4,
            4,
            1,
            16,
            20,
            19,
            9,
            10,
            2,
            5
           ],
           "name": "",
           "type": "choropleth",
           "z": [
            64,
            16,
            23,
            114,
            301,
            54,
            113,
            154,
            1263,
            166,
            8,
            43,
            66,
            408,
            76,
            20,
            68,
            259,
            46,
            24,
            326
           ]
          }
         ],
         "name": "2020-03-26"
        },
        {
         "data": [
          {
           "coloraxis": "coloraxis",
           "featureidkey": "properties.reg_istat_code_num",
           "geo": "geo",
           "geojson": "https://raw.githubusercontent.com/openpolis/geojson-italy/master/geojson/limits_IT_regions.geojson",
           "hovertemplate": "Date=2020-03-27<br>Region=%{location}<br>ICU=%{z}<extra></extra>",
           "locations": [
            13,
            17,
            18,
            15,
            8,
            6,
            12,
            7,
            3,
            11,
            14,
            4,
            4,
            1,
            16,
            20,
            19,
            9,
            10,
            2,
            5
           ],
           "name": "",
           "type": "choropleth",
           "z": [
            71,
            15,
            22,
            113,
            308,
            57,
            126,
            157,
            1292,
            162,
            9,
            45,
            66,
            431,
            82,
            19,
            75,
            274,
            46,
            24,
            338
           ]
          }
         ],
         "name": "2020-03-27"
        },
        {
         "data": [
          {
           "coloraxis": "coloraxis",
           "featureidkey": "properties.reg_istat_code_num",
           "geo": "geo",
           "geojson": "https://raw.githubusercontent.com/openpolis/geojson-italy/master/geojson/limits_IT_regions.geojson",
           "hovertemplate": "Date=2020-03-28<br>Region=%{location}<br>ICU=%{z}<extra></extra>",
           "locations": [
            13,
            17,
            18,
            15,
            8,
            6,
            12,
            7,
            3,
            11,
            14,
            4,
            4,
            1,
            16,
            20,
            19,
            9,
            10,
            2,
            5
           ],
           "name": "",
           "type": "choropleth",
           "z": [
            70,
            19,
            22,
            132,
            316,
            59,
            133,
            167,
            1319,
            166,
            9,
            51,
            72,
            439,
            98,
            22,
            71,
            277,
            44,
            26,
            344
           ]
          }
         ],
         "name": "2020-03-28"
        },
        {
         "data": [
          {
           "coloraxis": "coloraxis",
           "featureidkey": "properties.reg_istat_code_num",
           "geo": "geo",
           "geojson": "https://raw.githubusercontent.com/openpolis/geojson-italy/master/geojson/limits_IT_regions.geojson",
           "hovertemplate": "Date=2020-03-29<br>Region=%{location}<br>ICU=%{z}<extra></extra>",
           "locations": [
            13,
            17,
            18,
            15,
            8,
            6,
            12,
            7,
            3,
            11,
            14,
            4,
            4,
            1,
            16,
            20,
            19,
            9,
            10,
            2,
            5
           ],
           "name": "",
           "type": "choropleth",
           "z": [
            68,
            18,
            19,
            135,
            333,
            60,
            133,
            166,
            1328,
            168,
            9,
            56,
            75,
            443,
            99,
            23,
            71,
            275,
            46,
            26,
            355
           ]
          }
         ],
         "name": "2020-03-29"
        },
        {
         "data": [
          {
           "coloraxis": "coloraxis",
           "featureidkey": "properties.reg_istat_code_num",
           "geo": "geo",
           "geojson": "https://raw.githubusercontent.com/openpolis/geojson-italy/master/geojson/limits_IT_regions.geojson",
           "hovertemplate": "Date=2020-03-30<br>Region=%{location}<br>ICU=%{z}<extra></extra>",
           "locations": [
            13,
            17,
            18,
            15,
            8,
            6,
            12,
            7,
            3,
            11,
            14,
            4,
            4,
            1,
            16,
            20,
            19,
            9,
            10,
            2,
            5
           ],
           "name": "",
           "type": "choropleth",
           "z": [
            69,
            18,
            18,
            126,
            351,
            60,
            154,
            175,
            1330,
            167,
            8,
            62,
            78,
            452,
            106,
            24,
            75,
            279,
            47,
            26,
            356
           ]
          }
         ],
         "name": "2020-03-30"
        },
        {
         "data": [
          {
           "coloraxis": "coloraxis",
           "featureidkey": "properties.reg_istat_code_num",
           "geo": "geo",
           "geojson": "https://raw.githubusercontent.com/openpolis/geojson-italy/master/geojson/limits_IT_regions.geojson",
           "hovertemplate": "Date=2020-03-31<br>Region=%{location}<br>ICU=%{z}<extra></extra>",
           "locations": [
            13,
            17,
            18,
            15,
            8,
            6,
            12,
            7,
            3,
            11,
            14,
            4,
            4,
            1,
            16,
            20,
            19,
            9,
            10,
            2,
            5
           ],
           "name": "",
           "type": "choropleth",
           "z": [
            73,
            17,
            17,
            133,
            353,
            60,
            173,
            179,
            1324,
            169,
            8,
            62,
            80,
            452,
            105,
            28,
            72,
            293,
            43,
            26,
            356
           ]
          }
         ],
         "name": "2020-03-31"
        },
        {
         "data": [
          {
           "coloraxis": "coloraxis",
           "featureidkey": "properties.reg_istat_code_num",
           "geo": "geo",
           "geojson": "https://raw.githubusercontent.com/openpolis/geojson-italy/master/geojson/limits_IT_regions.geojson",
           "hovertemplate": "Date=2020-04-01<br>Region=%{location}<br>ICU=%{z}<extra></extra>",
           "locations": [
            13,
            17,
            18,
            15,
            8,
            6,
            12,
            7,
            3,
            11,
            14,
            4,
            4,
            1,
            16,
            20,
            19,
            9,
            10,
            2,
            5
           ],
           "name": "",
           "type": "choropleth",
           "z": [
            71,
            15,
            16,
            129,
            359,
            60,
            177,
            179,
            1342,
            168,
            8,
            57,
            76,
            453,
            107,
            27,
            72,
            297,
            45,
            27,
            350
           ]
          }
         ],
         "name": "2020-04-01"
        },
        {
         "data": [
          {
           "coloraxis": "coloraxis",
           "featureidkey": "properties.reg_istat_code_num",
           "geo": "geo",
           "geojson": "https://raw.githubusercontent.com/openpolis/geojson-italy/master/geojson/limits_IT_regions.geojson",
           "hovertemplate": "Date=2020-04-02<br>Region=%{location}<br>ICU=%{z}<extra></extra>",
           "locations": [
            13,
            17,
            18,
            15,
            8,
            6,
            12,
            7,
            3,
            11,
            14,
            4,
            4,
            1,
            16,
            20,
            19,
            9,
            10,
            2,
            5
           ],
           "name": "",
           "type": "choropleth",
           "z": [
            75,
            19,
            19,
            120,
            366,
            60,
            181,
            172,
            1351,
            164,
            8,
            60,
            78,
            453,
            118,
            24,
            73,
            295,
            47,
            25,
            345
           ]
          }
         ],
         "name": "2020-04-02"
        },
        {
         "data": [
          {
           "coloraxis": "coloraxis",
           "featureidkey": "properties.reg_istat_code_num",
           "geo": "geo",
           "geojson": "https://raw.githubusercontent.com/openpolis/geojson-italy/master/geojson/limits_IT_regions.geojson",
           "hovertemplate": "Date=2020-04-03<br>Region=%{location}<br>ICU=%{z}<extra></extra>",
           "locations": [
            13,
            17,
            18,
            15,
            8,
            6,
            12,
            7,
            3,
            11,
            14,
            4,
            4,
            1,
            16,
            20,
            19,
            9,
            10,
            2,
            5
           ],
           "name": "",
           "type": "choropleth",
           "z": [
            76,
            19,
            17,
            115,
            364,
            61,
            188,
            173,
            1381,
            158,
            8,
            60,
            80,
            452,
            123,
            24,
            73,
            288,
            48,
            25,
            335
           ]
          }
         ],
         "name": "2020-04-03"
        },
        {
         "data": [
          {
           "coloraxis": "coloraxis",
           "featureidkey": "properties.reg_istat_code_num",
           "geo": "geo",
           "geojson": "https://raw.githubusercontent.com/openpolis/geojson-italy/master/geojson/limits_IT_regions.geojson",
           "hovertemplate": "Date=2020-04-04<br>Region=%{location}<br>ICU=%{z}<extra></extra>",
           "locations": [
            13,
            17,
            18,
            15,
            8,
            6,
            12,
            7,
            3,
            11,
            14,
            4,
            4,
            1,
            16,
            20,
            19,
            9,
            10,
            2,
            5
           ],
           "name": "",
           "type": "choropleth",
           "z": [
            71,
            19,
            15,
            114,
            358,
            50,
            193,
            169,
            1326,
            153,
            6,
            61,
            81,
            450,
            153,
            24,
            74,
            286,
            44,
            23,
            324
           ]
          }
         ],
         "name": "2020-04-04"
        },
        {
         "data": [
          {
           "coloraxis": "coloraxis",
           "featureidkey": "properties.reg_istat_code_num",
           "geo": "geo",
           "geojson": "https://raw.githubusercontent.com/openpolis/geojson-italy/master/geojson/limits_IT_regions.geojson",
           "hovertemplate": "Date=2020-04-05<br>Region=%{location}<br>ICU=%{z}<extra></extra>",
           "locations": [
            13,
            17,
            18,
            15,
            8,
            6,
            12,
            7,
            3,
            11,
            14,
            4,
            4,
            1,
            16,
            20,
            19,
            9,
            10,
            2,
            5
           ],
           "name": "",
           "type": "choropleth",
           "z": [
            67,
            18,
            13,
            108,
            375,
            50,
            197,
            165,
            1317,
            151,
            6,
            53,
            80,
            444,
            159,
            25,
            76,
            276,
            45,
            23,
            329
           ]
          }
         ],
         "name": "2020-04-05"
        },
        {
         "data": [
          {
           "coloraxis": "coloraxis",
           "featureidkey": "properties.reg_istat_code_num",
           "geo": "geo",
           "geojson": "https://raw.githubusercontent.com/openpolis/geojson-italy/master/geojson/limits_IT_regions.geojson",
           "hovertemplate": "Date=2020-04-06<br>Region=%{location}<br>ICU=%{z}<extra></extra>",
           "locations": [
            13,
            17,
            18,
            15,
            8,
            6,
            12,
            7,
            3,
            11,
            14,
            4,
            4,
            1,
            16,
            20,
            19,
            9,
            10,
            2,
            5
           ],
           "name": "",
           "type": "choropleth",
           "z": [
            66,
            18,
            14,
            101,
            372,
            46,
            197,
            162,
            1343,
            140,
            5,
            52,
            79,
            438,
            97,
            26,
            74,
            279,
            46,
            21,
            322
           ]
          }
         ],
         "name": "2020-04-06"
        },
        {
         "data": [
          {
           "coloraxis": "coloraxis",
           "featureidkey": "properties.reg_istat_code_num",
           "geo": "geo",
           "geojson": "https://raw.githubusercontent.com/openpolis/geojson-italy/master/geojson/limits_IT_regions.geojson",
           "hovertemplate": "Date=2020-04-07<br>Region=%{location}<br>ICU=%{z}<extra></extra>",
           "locations": [
            13,
            17,
            18,
            15,
            8,
            6,
            12,
            7,
            3,
            11,
            14,
            4,
            4,
            1,
            16,
            20,
            19,
            9,
            10,
            2,
            5
           ],
           "name": "",
           "type": "choropleth",
           "z": [
            67,
            17,
            14,
            103,
            366,
            44,
            192,
            156,
            1305,
            139,
            5,
            64,
            78,
            432,
            93,
            26,
            73,
            263,
            41,
            17,
            297
           ]
          }
         ],
         "name": "2020-04-07"
        },
        {
         "data": [
          {
           "coloraxis": "coloraxis",
           "featureidkey": "properties.reg_istat_code_num",
           "geo": "geo",
           "geojson": "https://raw.githubusercontent.com/openpolis/geojson-italy/master/geojson/limits_IT_regions.geojson",
           "hovertemplate": "Date=2020-04-08<br>Region=%{location}<br>ICU=%{z}<extra></extra>",
           "locations": [
            13,
            17,
            18,
            15,
            8,
            6,
            12,
            7,
            3,
            11,
            14,
            4,
            4,
            1,
            16,
            20,
            19,
            9,
            10,
            2,
            5
           ],
           "name": "",
           "type": "choropleth",
           "z": [
            62,
            17,
            15,
            97,
            361,
            41,
            196,
            153,
            1257,
            133,
            4,
            65,
            77,
            423,
            90,
            31,
            65,
            260,
            41,
            20,
            285
           ]
          }
         ],
         "name": "2020-04-08"
        },
        {
         "data": [
          {
           "coloraxis": "coloraxis",
           "featureidkey": "properties.reg_istat_code_num",
           "geo": "geo",
           "geojson": "https://raw.githubusercontent.com/openpolis/geojson-italy/master/geojson/limits_IT_regions.geojson",
           "hovertemplate": "Date=2020-04-09<br>Region=%{location}<br>ICU=%{z}<extra></extra>",
           "locations": [
            13,
            17,
            18,
            15,
            8,
            6,
            12,
            7,
            3,
            11,
            14,
            4,
            4,
            1,
            16,
            20,
            19,
            9,
            10,
            2,
            5
           ],
           "name": "",
           "type": "choropleth",
           "z": [
            57,
            17,
            15,
            94,
            355,
            37,
            198,
            154,
            1236,
            133,
            4,
            64,
            69,
            412,
            86,
            25,
            63,
            256,
            38,
            18,
            274
           ]
          }
         ],
         "name": "2020-04-09"
        },
        {
         "data": [
          {
           "coloraxis": "coloraxis",
           "featureidkey": "properties.reg_istat_code_num",
           "geo": "geo",
           "geojson": "https://raw.githubusercontent.com/openpolis/geojson-italy/master/geojson/limits_IT_regions.geojson",
           "hovertemplate": "Date=2020-04-10<br>Region=%{location}<br>ICU=%{z}<extra></extra>",
           "locations": [
            13,
            17,
            18,
            15,
            8,
            6,
            12,
            7,
            3,
            11,
            14,
            4,
            4,
            1,
            16,
            20,
            19,
            9,
            10,
            2,
            5
           ],
           "name": "",
           "type": "choropleth",
           "z": [
            53,
            15,
            14,
            90,
            349,
            33,
            201,
            151,
            1202,
            127,
            4,
            58,
            70,
            394,
            80,
            26,
            62,
            256,
            39,
            16,
            257
           ]
          }
         ],
         "name": "2020-04-10"
        },
        {
         "data": [
          {
           "coloraxis": "coloraxis",
           "featureidkey": "properties.reg_istat_code_num",
           "geo": "geo",
           "geojson": "https://raw.githubusercontent.com/openpolis/geojson-italy/master/geojson/limits_IT_regions.geojson",
           "hovertemplate": "Date=2020-04-11<br>Region=%{location}<br>ICU=%{z}<extra></extra>",
           "locations": [
            13,
            17,
            18,
            15,
            8,
            6,
            12,
            7,
            3,
            11,
            14,
            4,
            4,
            1,
            16,
            20,
            19,
            9,
            10,
            2,
            5
           ],
           "name": "",
           "type": "choropleth",
           "z": [
            54,
            12,
            15,
            85,
            341,
            28,
            203,
            146,
            1174,
            118,
            4,
            56,
            62,
            384,
            73,
            24,
            58,
            237,
            39,
            17,
            251
           ]
          }
         ],
         "name": "2020-04-11"
        },
        {
         "data": [
          {
           "coloraxis": "coloraxis",
           "featureidkey": "properties.reg_istat_code_num",
           "geo": "geo",
           "geojson": "https://raw.githubusercontent.com/openpolis/geojson-italy/master/geojson/limits_IT_regions.geojson",
           "hovertemplate": "Date=2020-04-12<br>Region=%{location}<br>ICU=%{z}<extra></extra>",
           "locations": [
            13,
            17,
            18,
            15,
            8,
            6,
            12,
            7,
            3,
            11,
            14,
            4,
            4,
            1,
            16,
            20,
            19,
            9,
            10,
            2,
            5
           ],
           "name": "",
           "type": "choropleth",
           "z": [
            54,
            12,
            14,
            82,
            335,
            28,
            201,
            144,
            1176,
            114,
            4,
            45,
            61,
            381,
            71,
            26,
            53,
            238,
            39,
            16,
            249
           ]
          }
         ],
         "name": "2020-04-12"
        },
        {
         "data": [
          {
           "coloraxis": "coloraxis",
           "featureidkey": "properties.reg_istat_code_num",
           "geo": "geo",
           "geojson": "https://raw.githubusercontent.com/openpolis/geojson-italy/master/geojson/limits_IT_regions.geojson",
           "hovertemplate": "Date=2020-04-13<br>Region=%{location}<br>ICU=%{z}<extra></extra>",
           "locations": [
            13,
            17,
            18,
            15,
            8,
            6,
            12,
            7,
            3,
            11,
            14,
            4,
            4,
            1,
            16,
            20,
            19,
            9,
            10,
            2,
            5
           ],
           "name": "",
           "type": "choropleth",
           "z": [
            54,
            12,
            12,
            80,
            331,
            30,
            200,
            138,
            1143,
            108,
            4,
            41,
            56,
            379,
            71,
            27,
            51,
            225,
            38,
            15,
            245
           ]
          }
         ],
         "name": "2020-04-13"
        },
        {
         "data": [
          {
           "coloraxis": "coloraxis",
           "featureidkey": "properties.reg_istat_code_num",
           "geo": "geo",
           "geojson": "https://raw.githubusercontent.com/openpolis/geojson-italy/master/geojson/limits_IT_regions.geojson",
           "hovertemplate": "Date=2020-04-14<br>Region=%{location}<br>ICU=%{z}<extra></extra>",
           "locations": [
            13,
            17,
            18,
            15,
            8,
            6,
            12,
            7,
            3,
            11,
            14,
            4,
            4,
            1,
            16,
            20,
            19,
            9,
            10,
            2,
            5
           ],
           "name": "",
           "type": "choropleth",
           "z": [
            52,
            12,
            12,
            82,
            328,
            28,
            199,
            133,
            1122,
            106,
            4,
            39,
            54,
            367,
            62,
            24,
            53,
            225,
            37,
            14,
            233
           ]
          }
         ],
         "name": "2020-04-14"
        },
        {
         "data": [
          {
           "coloraxis": "coloraxis",
           "featureidkey": "properties.reg_istat_code_num",
           "geo": "geo",
           "geojson": "https://raw.githubusercontent.com/openpolis/geojson-italy/master/geojson/limits_IT_regions.geojson",
           "hovertemplate": "Date=2020-04-15<br>Region=%{location}<br>ICU=%{z}<extra></extra>",
           "locations": [
            13,
            17,
            18,
            15,
            8,
            6,
            12,
            7,
            3,
            11,
            14,
            4,
            4,
            1,
            16,
            20,
            19,
            9,
            10,
            2,
            5
           ],
           "name": "",
           "type": "choropleth",
           "z": [
            44,
            12,
            11,
            86,
            325,
            24,
            196,
            120,
            1074,
            106,
            4,
            32,
            48,
            366,
            73,
            26,
            49,
            216,
            37,
            11,
            219
           ]
          }
         ],
         "name": "2020-04-15"
        },
        {
         "data": [
          {
           "coloraxis": "coloraxis",
           "featureidkey": "properties.reg_istat_code_num",
           "geo": "geo",
           "geojson": "https://raw.githubusercontent.com/openpolis/geojson-italy/master/geojson/limits_IT_regions.geojson",
           "hovertemplate": "Date=2020-04-16<br>Region=%{location}<br>ICU=%{z}<extra></extra>",
           "locations": [
            13,
            17,
            18,
            15,
            8,
            6,
            12,
            7,
            3,
            11,
            14,
            4,
            4,
            1,
            16,
            20,
            19,
            9,
            10,
            2,
            5
           ],
           "name": "",
           "type": "choropleth",
           "z": [
            42,
            9,
            9,
            76,
            316,
            26,
            197,
            103,
            1032,
            102,
            4,
            34,
            43,
            346,
            58,
            24,
            48,
            213,
            33,
            12,
            209
           ]
          }
         ],
         "name": "2020-04-16"
        },
        {
         "data": [
          {
           "coloraxis": "coloraxis",
           "featureidkey": "properties.reg_istat_code_num",
           "geo": "geo",
           "geojson": "https://raw.githubusercontent.com/openpolis/geojson-italy/master/geojson/limits_IT_regions.geojson",
           "hovertemplate": "Date=2020-04-17<br>Region=%{location}<br>ICU=%{z}<extra></extra>",
           "locations": [
            13,
            17,
            18,
            15,
            8,
            6,
            12,
            7,
            3,
            11,
            14,
            4,
            4,
            1,
            16,
            20,
            19,
            9,
            10,
            2,
            5
           ],
           "name": "",
           "type": "choropleth",
           "z": [
            43,
            9,
            7,
            76,
            309,
            23,
            187,
            105,
            971,
            94,
            4,
            32,
            44,
            333,
            62,
            23,
            46,
            207,
            31,
            9,
            197
           ]
          }
         ],
         "name": "2020-04-17"
        },
        {
         "data": [
          {
           "coloraxis": "coloraxis",
           "featureidkey": "properties.reg_istat_code_num",
           "geo": "geo",
           "geojson": "https://raw.githubusercontent.com/openpolis/geojson-italy/master/geojson/limits_IT_regions.geojson",
           "hovertemplate": "Date=2020-04-18<br>Region=%{location}<br>ICU=%{z}<extra></extra>",
           "locations": [
            13,
            17,
            18,
            15,
            8,
            6,
            12,
            7,
            3,
            11,
            14,
            4,
            4,
            1,
            16,
            20,
            19,
            9,
            10,
            2,
            5
           ],
           "name": "",
           "type": "choropleth",
           "z": [
            41,
            8,
            7,
            76,
            296,
            27,
            186,
            105,
            947,
            88,
            4,
            28,
            42,
            323,
            60,
            23,
            42,
            198,
            32,
            10,
            190
           ]
          }
         ],
         "name": "2020-04-18"
        },
        {
         "data": [
          {
           "coloraxis": "coloraxis",
           "featureidkey": "properties.reg_istat_code_num",
           "geo": "geo",
           "geojson": "https://raw.githubusercontent.com/openpolis/geojson-italy/master/geojson/limits_IT_regions.geojson",
           "hovertemplate": "Date=2020-04-19<br>Region=%{location}<br>ICU=%{z}<extra></extra>",
           "locations": [
            13,
            17,
            18,
            15,
            8,
            6,
            12,
            7,
            3,
            11,
            14,
            4,
            4,
            1,
            16,
            20,
            19,
            9,
            10,
            2,
            5
           ],
           "name": "",
           "type": "choropleth",
           "z": [
            40,
            8,
            6,
            61,
            289,
            25,
            185,
            101,
            922,
            86,
            4,
            23,
            41,
            305,
            60,
            22,
            41,
            192,
            30,
            10,
            184
           ]
          }
         ],
         "name": "2020-04-19"
        },
        {
         "data": [
          {
           "coloraxis": "coloraxis",
           "featureidkey": "properties.reg_istat_code_num",
           "geo": "geo",
           "geojson": "https://raw.githubusercontent.com/openpolis/geojson-italy/master/geojson/limits_IT_regions.geojson",
           "hovertemplate": "Date=2020-04-20<br>Region=%{location}<br>ICU=%{z}<extra></extra>",
           "locations": [
            13,
            17,
            18,
            15,
            8,
            6,
            12,
            7,
            3,
            11,
            14,
            4,
            4,
            1,
            16,
            20,
            19,
            9,
            10,
            2,
            5
           ],
           "name": "",
           "type": "choropleth",
           "z": [
            38,
            7,
            7,
            61,
            283,
            22,
            185,
            102,
            901,
            80,
            2,
            19,
            40,
            301,
            66,
            21,
            39,
            182,
            29,
            8,
            180
           ]
          }
         ],
         "name": "2020-04-20"
        },
        {
         "data": [
          {
           "coloraxis": "coloraxis",
           "featureidkey": "properties.reg_istat_code_num",
           "geo": "geo",
           "geojson": "https://raw.githubusercontent.com/openpolis/geojson-italy/master/geojson/limits_IT_regions.geojson",
           "hovertemplate": "Date=2020-04-21<br>Region=%{location}<br>ICU=%{z}<extra></extra>",
           "locations": [
            13,
            17,
            18,
            15,
            8,
            6,
            12,
            7,
            3,
            11,
            14,
            4,
            4,
            1,
            16,
            20,
            19,
            9,
            10,
            2,
            5
           ],
           "name": "",
           "type": "choropleth",
           "z": [
            35,
            7,
            7,
            58,
            282,
            21,
            184,
            94,
            851,
            78,
            2,
            20,
            38,
            293,
            65,
            21,
            37,
            171,
            22,
            8,
            177
           ]
          }
         ],
         "name": "2020-04-21"
        },
        {
         "data": [
          {
           "coloraxis": "coloraxis",
           "featureidkey": "properties.reg_istat_code_num",
           "geo": "geo",
           "geojson": "https://raw.githubusercontent.com/openpolis/geojson-italy/master/geojson/limits_IT_regions.geojson",
           "hovertemplate": "Date=2020-04-22<br>Region=%{location}<br>ICU=%{z}<extra></extra>",
           "locations": [
            13,
            17,
            18,
            15,
            8,
            6,
            12,
            7,
            3,
            11,
            14,
            4,
            4,
            1,
            16,
            20,
            19,
            9,
            10,
            2,
            5
           ],
           "name": "",
           "type": "choropleth",
           "z": [
            35,
            7,
            7,
            53,
            282,
            20,
            187,
            92,
            817,
            76,
            2,
            19,
            34,
            273,
            60,
            20,
            35,
            174,
            20,
            8,
            163
           ]
          }
         ],
         "name": "2020-04-22"
        },
        {
         "data": [
          {
           "coloraxis": "coloraxis",
           "featureidkey": "properties.reg_istat_code_num",
           "geo": "geo",
           "geojson": "https://raw.githubusercontent.com/openpolis/geojson-italy/master/geojson/limits_IT_regions.geojson",
           "hovertemplate": "Date=2020-04-23<br>Region=%{location}<br>ICU=%{z}<extra></extra>",
           "locations": [
            13,
            17,
            18,
            15,
            8,
            6,
            12,
            7,
            3,
            11,
            14,
            4,
            4,
            1,
            16,
            20,
            19,
            9,
            10,
            2,
            5
           ],
           "name": "",
           "type": "choropleth",
           "z": [
            31,
            7,
            7,
            47,
            266,
            18,
            186,
            91,
            790,
            71,
            1,
            17,
            29,
            261,
            55,
            20,
            34,
            168,
            19,
            9,
            140
           ]
          }
         ],
         "name": "2020-04-23"
        },
        {
         "data": [
          {
           "coloraxis": "coloraxis",
           "featureidkey": "properties.reg_istat_code_num",
           "geo": "geo",
           "geojson": "https://raw.githubusercontent.com/openpolis/geojson-italy/master/geojson/limits_IT_regions.geojson",
           "hovertemplate": "Date=2020-04-24<br>Region=%{location}<br>ICU=%{z}<extra></extra>",
           "locations": [
            13,
            17,
            18,
            15,
            8,
            6,
            12,
            7,
            3,
            11,
            14,
            4,
            4,
            1,
            16,
            20,
            19,
            9,
            10,
            2,
            5
           ],
           "name": "",
           "type": "choropleth",
           "z": [
            28,
            7,
            7,
            44,
            264,
            16,
            184,
            87,
            756,
            61,
            1,
            16,
            28,
            257,
            51,
            19,
            32,
            159,
            19,
            7,
            130
           ]
          }
         ],
         "name": "2020-04-24"
        },
        {
         "data": [
          {
           "coloraxis": "coloraxis",
           "featureidkey": "properties.reg_istat_code_num",
           "geo": "geo",
           "geojson": "https://raw.githubusercontent.com/openpolis/geojson-italy/master/geojson/limits_IT_regions.geojson",
           "hovertemplate": "Date=2020-04-25<br>Region=%{location}<br>ICU=%{z}<extra></extra>",
           "locations": [
            13,
            17,
            18,
            15,
            8,
            6,
            12,
            7,
            3,
            11,
            14,
            4,
            4,
            1,
            16,
            20,
            19,
            9,
            10,
            2,
            5
           ],
           "name": "",
           "type": "choropleth",
           "z": [
            26,
            7,
            7,
            55,
            246,
            15,
            183,
            83,
            724,
            58,
            1,
            14,
            27,
            238,
            48,
            18,
            33,
            166,
            18,
            6,
            129
           ]
          }
         ],
         "name": "2020-04-25"
        },
        {
         "data": [
          {
           "coloraxis": "coloraxis",
           "featureidkey": "properties.reg_istat_code_num",
           "geo": "geo",
           "geojson": "https://raw.githubusercontent.com/openpolis/geojson-italy/master/geojson/limits_IT_regions.geojson",
           "hovertemplate": "Date=2020-04-26<br>Region=%{location}<br>ICU=%{z}<extra></extra>",
           "locations": [
            13,
            17,
            18,
            15,
            8,
            6,
            12,
            7,
            3,
            11,
            14,
            4,
            4,
            1,
            16,
            20,
            19,
            9,
            10,
            2,
            5
           ],
           "name": "",
           "type": "choropleth",
           "z": [
            24,
            7,
            8,
            45,
            245,
            13,
            161,
            82,
            706,
            58,
            1,
            14,
            24,
            214,
            48,
            20,
            33,
            158,
            17,
            7,
            124
           ]
          }
         ],
         "name": "2020-04-26"
        },
        {
         "data": [
          {
           "coloraxis": "coloraxis",
           "featureidkey": "properties.reg_istat_code_num",
           "geo": "geo",
           "geojson": "https://raw.githubusercontent.com/openpolis/geojson-italy/master/geojson/limits_IT_regions.geojson",
           "hovertemplate": "Date=2020-04-27<br>Region=%{location}<br>ICU=%{z}<extra></extra>",
           "locations": [
            13,
            17,
            18,
            15,
            8,
            6,
            12,
            7,
            3,
            11,
            14,
            4,
            4,
            1,
            16,
            20,
            19,
            9,
            10,
            2,
            5
           ],
           "name": "",
           "type": "choropleth",
           "z": [
            23,
            7,
            6,
            37,
            247,
            13,
            143,
            83,
            680,
            58,
            1,
            16,
            23,
            214,
            51,
            19,
            35,
            154,
            16,
            7,
            123
           ]
          }
         ],
         "name": "2020-04-27"
        },
        {
         "data": [
          {
           "coloraxis": "coloraxis",
           "featureidkey": "properties.reg_istat_code_num",
           "geo": "geo",
           "geojson": "https://raw.githubusercontent.com/openpolis/geojson-italy/master/geojson/limits_IT_regions.geojson",
           "hovertemplate": "Date=2020-04-28<br>Region=%{location}<br>ICU=%{z}<extra></extra>",
           "locations": [
            13,
            17,
            18,
            15,
            8,
            6,
            12,
            7,
            3,
            11,
            14,
            4,
            4,
            1,
            16,
            20,
            19,
            9,
            10,
            2,
            5
           ],
           "name": "",
           "type": "choropleth",
           "z": [
            21,
            7,
            6,
            33,
            228,
            13,
            132,
            81,
            655,
            58,
            1,
            15,
            22,
            202,
            51,
            18,
            34,
            144,
            17,
            5,
            120
           ]
          }
         ],
         "name": "2020-04-28"
        },
        {
         "data": [
          {
           "coloraxis": "coloraxis",
           "featureidkey": "properties.reg_istat_code_num",
           "geo": "geo",
           "geojson": "https://raw.githubusercontent.com/openpolis/geojson-italy/master/geojson/limits_IT_regions.geojson",
           "hovertemplate": "Date=2020-04-29<br>Region=%{location}<br>ICU=%{z}<extra></extra>",
           "locations": [
            13,
            17,
            18,
            15,
            8,
            6,
            12,
            7,
            3,
            11,
            14,
            4,
            4,
            1,
            16,
            20,
            19,
            9,
            10,
            2,
            5
           ],
           "name": "",
           "type": "choropleth",
           "z": [
            19,
            4,
            6,
            31,
            226,
            12,
            130,
            70,
            634,
            52,
            1,
            14,
            22,
            202,
            47,
            17,
            34,
            139,
            16,
            5,
            114
           ]
          }
         ],
         "name": "2020-04-29"
        },
        {
         "data": [
          {
           "coloraxis": "coloraxis",
           "featureidkey": "properties.reg_istat_code_num",
           "geo": "geo",
           "geojson": "https://raw.githubusercontent.com/openpolis/geojson-italy/master/geojson/limits_IT_regions.geojson",
           "hovertemplate": "Date=2020-04-30<br>Region=%{location}<br>ICU=%{z}<extra></extra>",
           "locations": [
            13,
            17,
            18,
            15,
            8,
            6,
            12,
            7,
            3,
            11,
            14,
            4,
            4,
            1,
            16,
            20,
            19,
            9,
            10,
            2,
            5
           ],
           "name": "",
           "type": "choropleth",
           "z": [
            16,
            4,
            6,
            29,
            206,
            11,
            115,
            69,
            605,
            48,
            1,
            13,
            21,
            199,
            42,
            16,
            33,
            126,
            16,
            4,
            114
           ]
          }
         ],
         "name": "2020-04-30"
        },
        {
         "data": [
          {
           "coloraxis": "coloraxis",
           "featureidkey": "properties.reg_istat_code_num",
           "geo": "geo",
           "geojson": "https://raw.githubusercontent.com/openpolis/geojson-italy/master/geojson/limits_IT_regions.geojson",
           "hovertemplate": "Date=2020-05-01<br>Region=%{location}<br>ICU=%{z}<extra></extra>",
           "locations": [
            13,
            17,
            18,
            15,
            8,
            6,
            12,
            7,
            3,
            11,
            14,
            4,
            4,
            1,
            16,
            20,
            19,
            9,
            10,
            2,
            5
           ],
           "name": "",
           "type": "choropleth",
           "z": [
            16,
            4,
            3,
            29,
            197,
            6,
            105,
            68,
            563,
            44,
            1,
            11,
            19,
            181,
            39,
            12,
            30,
            124,
            13,
            3,
            110
           ]
          }
         ],
         "name": "2020-05-01"
        },
        {
         "data": [
          {
           "coloraxis": "coloraxis",
           "featureidkey": "properties.reg_istat_code_num",
           "geo": "geo",
           "geojson": "https://raw.githubusercontent.com/openpolis/geojson-italy/master/geojson/limits_IT_regions.geojson",
           "hovertemplate": "Date=2020-05-02<br>Region=%{location}<br>ICU=%{z}<extra></extra>",
           "locations": [
            13,
            17,
            18,
            15,
            8,
            6,
            12,
            7,
            3,
            11,
            14,
            4,
            4,
            1,
            16,
            20,
            19,
            9,
            10,
            2,
            5
           ],
           "name": "",
           "type": "choropleth",
           "z": [
            16,
            4,
            4,
            27,
            196,
            5,
            96,
            68,
            545,
            46,
            1,
            10,
            19,
            178,
            39,
            13,
            30,
            118,
            13,
            3,
            108
           ]
          }
         ],
         "name": "2020-05-02"
        },
        {
         "data": [
          {
           "coloraxis": "coloraxis",
           "featureidkey": "properties.reg_istat_code_num",
           "geo": "geo",
           "geojson": "https://raw.githubusercontent.com/openpolis/geojson-italy/master/geojson/limits_IT_regions.geojson",
           "hovertemplate": "Date=2020-05-03<br>Region=%{location}<br>ICU=%{z}<extra></extra>",
           "locations": [
            13,
            17,
            18,
            15,
            8,
            6,
            12,
            7,
            3,
            11,
            14,
            4,
            4,
            1,
            16,
            20,
            19,
            9,
            10,
            2,
            5
           ],
           "name": "",
           "type": "choropleth",
           "z": [
            16,
            3,
            4,
            30,
            197,
            6,
            95,
            68,
            532,
            43,
            1,
            11,
            17,
            169,
            40,
            10,
            29,
            112,
            13,
            2,
            103
           ]
          }
         ],
         "name": "2020-05-03"
        },
        {
         "data": [
          {
           "coloraxis": "coloraxis",
           "featureidkey": "properties.reg_istat_code_num",
           "geo": "geo",
           "geojson": "https://raw.githubusercontent.com/openpolis/geojson-italy/master/geojson/limits_IT_regions.geojson",
           "hovertemplate": "Date=2020-05-04<br>Region=%{location}<br>ICU=%{z}<extra></extra>",
           "locations": [
            13,
            17,
            18,
            15,
            8,
            6,
            12,
            7,
            3,
            11,
            14,
            4,
            4,
            1,
            16,
            20,
            19,
            9,
            10,
            2,
            5
           ],
           "name": "",
           "type": "choropleth",
           "z": [
            15,
            3,
            4,
            24,
            199,
            4,
            95,
            72,
            532,
            44,
            1,
            10,
            17,
            161,
            39,
            9,
            27,
            107,
            13,
            2,
            101
           ]
          }
         ],
         "name": "2020-05-04"
        },
        {
         "data": [
          {
           "coloraxis": "coloraxis",
           "featureidkey": "properties.reg_istat_code_num",
           "geo": "geo",
           "geojson": "https://raw.githubusercontent.com/openpolis/geojson-italy/master/geojson/limits_IT_regions.geojson",
           "hovertemplate": "Date=2020-05-05<br>Region=%{location}<br>ICU=%{z}<extra></extra>",
           "locations": [
            13,
            17,
            18,
            15,
            8,
            6,
            12,
            7,
            3,
            11,
            14,
            4,
            4,
            1,
            16,
            20,
            19,
            9,
            10,
            2,
            5
           ],
           "name": "",
           "type": "choropleth",
           "z": [
            11,
            3,
            4,
            25,
            191,
            4,
            91,
            68,
            509,
            42,
            1,
            11,
            15,
            155,
            39,
            9,
            26,
            111,
            11,
            3,
            98
           ]
          }
         ],
         "name": "2020-05-05"
        },
        {
         "data": [
          {
           "coloraxis": "coloraxis",
           "featureidkey": "properties.reg_istat_code_num",
           "geo": "geo",
           "geojson": "https://raw.githubusercontent.com/openpolis/geojson-italy/master/geojson/limits_IT_regions.geojson",
           "hovertemplate": "Date=2020-05-06<br>Region=%{location}<br>ICU=%{z}<extra></extra>",
           "locations": [
            13,
            17,
            18,
            15,
            8,
            6,
            12,
            7,
            3,
            11,
            14,
            4,
            4,
            1,
            16,
            20,
            19,
            9,
            10,
            2,
            5
           ],
           "name": "",
           "type": "choropleth",
           "z": [
            11,
            3,
            3,
            25,
            176,
            3,
            91,
            59,
            480,
            42,
            0,
            11,
            13,
            150,
            36,
            11,
            25,
            92,
            9,
            3,
            90
           ]
          }
         ],
         "name": "2020-05-06"
        },
        {
         "data": [
          {
           "coloraxis": "coloraxis",
           "featureidkey": "properties.reg_istat_code_num",
           "geo": "geo",
           "geojson": "https://raw.githubusercontent.com/openpolis/geojson-italy/master/geojson/limits_IT_regions.geojson",
           "hovertemplate": "Date=2020-05-07<br>Region=%{location}<br>ICU=%{z}<extra></extra>",
           "locations": [
            13,
            17,
            18,
            15,
            8,
            6,
            12,
            7,
            3,
            11,
            14,
            4,
            4,
            1,
            16,
            20,
            19,
            9,
            10,
            2,
            5
           ],
           "name": "",
           "type": "choropleth",
           "z": [
            12,
            2,
            2,
            27,
            173,
            2,
            89,
            57,
            480,
            41,
            0,
            11,
            11,
            150,
            35,
            9,
            21,
            91,
            9,
            2,
            87
           ]
          }
         ],
         "name": "2020-05-07"
        },
        {
         "data": [
          {
           "coloraxis": "coloraxis",
           "featureidkey": "properties.reg_istat_code_num",
           "geo": "geo",
           "geojson": "https://raw.githubusercontent.com/openpolis/geojson-italy/master/geojson/limits_IT_regions.geojson",
           "hovertemplate": "Date=2020-05-08<br>Region=%{location}<br>ICU=%{z}<extra></extra>",
           "locations": [
            13,
            17,
            18,
            15,
            8,
            6,
            12,
            7,
            3,
            11,
            14,
            4,
            4,
            1,
            16,
            20,
            19,
            9,
            10,
            2,
            5
           ],
           "name": "",
           "type": "choropleth",
           "z": [
            10,
            2,
            2,
            28,
            163,
            2,
            84,
            46,
            400,
            38,
            0,
            9,
            11,
            140,
            33,
            10,
            19,
            84,
            6,
            2,
            79
           ]
          }
         ],
         "name": "2020-05-08"
        },
        {
         "data": [
          {
           "coloraxis": "coloraxis",
           "featureidkey": "properties.reg_istat_code_num",
           "geo": "geo",
           "geojson": "https://raw.githubusercontent.com/openpolis/geojson-italy/master/geojson/limits_IT_regions.geojson",
           "hovertemplate": "Date=2020-05-09<br>Region=%{location}<br>ICU=%{z}<extra></extra>",
           "locations": [
            13,
            17,
            18,
            15,
            8,
            6,
            12,
            7,
            3,
            11,
            14,
            4,
            4,
            1,
            16,
            20,
            19,
            9,
            10,
            2,
            5
           ],
           "name": "",
           "type": "choropleth",
           "z": [
            10,
            1,
            2,
            26,
            155,
            3,
            82,
            42,
            330,
            32,
            0,
            9,
            10,
            143,
            33,
            11,
            17,
            79,
            6,
            3,
            40
           ]
          }
         ],
         "name": "2020-05-09"
        },
        {
         "data": [
          {
           "coloraxis": "coloraxis",
           "featureidkey": "properties.reg_istat_code_num",
           "geo": "geo",
           "geojson": "https://raw.githubusercontent.com/openpolis/geojson-italy/master/geojson/limits_IT_regions.geojson",
           "hovertemplate": "Date=2020-05-10<br>Region=%{location}<br>ICU=%{z}<extra></extra>",
           "locations": [
            13,
            17,
            18,
            15,
            8,
            6,
            12,
            7,
            3,
            11,
            14,
            4,
            4,
            1,
            16,
            20,
            19,
            9,
            10,
            2,
            5
           ],
           "name": "",
           "type": "choropleth",
           "z": [
            10,
            1,
            2,
            20,
            150,
            3,
            84,
            41,
            348,
            30,
            0,
            8,
            10,
            137,
            34,
            10,
            16,
            78,
            6,
            2,
            37
           ]
          }
         ],
         "name": "2020-05-10"
        },
        {
         "data": [
          {
           "coloraxis": "coloraxis",
           "featureidkey": "properties.reg_istat_code_num",
           "geo": "geo",
           "geojson": "https://raw.githubusercontent.com/openpolis/geojson-italy/master/geojson/limits_IT_regions.geojson",
           "hovertemplate": "Date=2020-05-11<br>Region=%{location}<br>ICU=%{z}<extra></extra>",
           "locations": [
            13,
            17,
            18,
            15,
            8,
            6,
            12,
            7,
            3,
            11,
            14,
            4,
            4,
            1,
            16,
            20,
            19,
            9,
            10,
            2,
            5
           ],
           "name": "",
           "type": "choropleth",
           "z": [
            9,
            1,
            1,
            23,
            141,
            3,
            83,
            38,
            341,
            28,
            0,
            7,
            11,
            135,
            32,
            10,
            16,
            77,
            4,
            1,
            38
           ]
          }
         ],
         "name": "2020-05-11"
        },
        {
         "data": [
          {
           "coloraxis": "coloraxis",
           "featureidkey": "properties.reg_istat_code_num",
           "geo": "geo",
           "geojson": "https://raw.githubusercontent.com/openpolis/geojson-italy/master/geojson/limits_IT_regions.geojson",
           "hovertemplate": "Date=2020-05-12<br>Region=%{location}<br>ICU=%{z}<extra></extra>",
           "locations": [
            13,
            17,
            18,
            15,
            8,
            6,
            12,
            7,
            3,
            11,
            14,
            4,
            4,
            1,
            16,
            20,
            19,
            9,
            10,
            2,
            5
           ],
           "name": "",
           "type": "choropleth",
           "z": [
            8,
            1,
            1,
            20,
            136,
            2,
            84,
            35,
            322,
            24,
            1,
            7,
            9,
            136,
            31,
            11,
            15,
            72,
            4,
            0,
            33
           ]
          }
         ],
         "name": "2020-05-12"
        },
        {
         "data": [
          {
           "coloraxis": "coloraxis",
           "featureidkey": "properties.reg_istat_code_num",
           "geo": "geo",
           "geojson": "https://raw.githubusercontent.com/openpolis/geojson-italy/master/geojson/limits_IT_regions.geojson",
           "hovertemplate": "Date=2020-05-13<br>Region=%{location}<br>ICU=%{z}<extra></extra>",
           "locations": [
            13,
            17,
            18,
            15,
            8,
            6,
            12,
            7,
            3,
            11,
            14,
            4,
            4,
            1,
            16,
            20,
            19,
            9,
            10,
            2,
            5
           ],
           "name": "",
           "type": "choropleth",
           "z": [
            7,
            1,
            1,
            19,
            123,
            2,
            83,
            35,
            307,
            20,
            1,
            7,
            9,
            122,
            27,
            10,
            13,
            72,
            4,
            0,
            30
           ]
          }
         ],
         "name": "2020-05-13"
        },
        {
         "data": [
          {
           "coloraxis": "coloraxis",
           "featureidkey": "properties.reg_istat_code_num",
           "geo": "geo",
           "geojson": "https://raw.githubusercontent.com/openpolis/geojson-italy/master/geojson/limits_IT_regions.geojson",
           "hovertemplate": "Date=2020-05-14<br>Region=%{location}<br>ICU=%{z}<extra></extra>",
           "locations": [
            13,
            17,
            18,
            15,
            8,
            6,
            12,
            7,
            3,
            11,
            14,
            4,
            4,
            1,
            16,
            20,
            19,
            9,
            10,
            2,
            5
           ],
           "name": "",
           "type": "choropleth",
           "z": [
            6,
            1,
            2,
            19,
            122,
            2,
            79,
            35,
            297,
            18,
            1,
            7,
            9,
            116,
            24,
            10,
            12,
            68,
            1,
            0,
            26
           ]
          }
         ],
         "name": "2020-05-14"
        },
        {
         "data": [
          {
           "coloraxis": "coloraxis",
           "featureidkey": "properties.reg_istat_code_num",
           "geo": "geo",
           "geojson": "https://raw.githubusercontent.com/openpolis/geojson-italy/master/geojson/limits_IT_regions.geojson",
           "hovertemplate": "Date=2020-05-15<br>Region=%{location}<br>ICU=%{z}<extra></extra>",
           "locations": [
            13,
            17,
            18,
            15,
            8,
            6,
            12,
            7,
            3,
            11,
            14,
            4,
            4,
            1,
            16,
            20,
            19,
            9,
            10,
            2,
            5
           ],
           "name": "",
           "type": "choropleth",
           "z": [
            6,
            1,
            2,
            17,
            114,
            3,
            79,
            31,
            276,
            18,
            2,
            5,
            9,
            108,
            23,
            10,
            11,
            67,
            2,
            0,
            24
           ]
          }
         ],
         "name": "2020-05-15"
        },
        {
         "data": [
          {
           "coloraxis": "coloraxis",
           "featureidkey": "properties.reg_istat_code_num",
           "geo": "geo",
           "geojson": "https://raw.githubusercontent.com/openpolis/geojson-italy/master/geojson/limits_IT_regions.geojson",
           "hovertemplate": "Date=2020-05-16<br>Region=%{location}<br>ICU=%{z}<extra></extra>",
           "locations": [
            13,
            17,
            18,
            15,
            8,
            6,
            12,
            7,
            3,
            11,
            14,
            4,
            4,
            1,
            16,
            20,
            19,
            9,
            10,
            2,
            5
           ],
           "name": "",
           "type": "choropleth",
           "z": [
            7,
            1,
            2,
            16,
            112,
            3,
            76,
            26,
            268,
            17,
            2,
            5,
            8,
            100,
            22,
            10,
            12,
            66,
            2,
            0,
            20
           ]
          }
         ],
         "name": "2020-05-16"
        },
        {
         "data": [
          {
           "coloraxis": "coloraxis",
           "featureidkey": "properties.reg_istat_code_num",
           "geo": "geo",
           "geojson": "https://raw.githubusercontent.com/openpolis/geojson-italy/master/geojson/limits_IT_regions.geojson",
           "hovertemplate": "Date=2020-05-17<br>Region=%{location}<br>ICU=%{z}<extra></extra>",
           "locations": [
            13,
            17,
            18,
            15,
            8,
            6,
            12,
            7,
            3,
            11,
            14,
            4,
            4,
            1,
            16,
            20,
            19,
            9,
            10,
            2,
            5
           ],
           "name": "",
           "type": "choropleth",
           "z": [
            6,
            1,
            2,
            17,
            111,
            3,
            74,
            24,
            255,
            18,
            2,
            5,
            8,
            101,
            21,
            10,
            13,
            67,
            2,
            0,
            22
           ]
          }
         ],
         "name": "2020-05-17"
        },
        {
         "data": [
          {
           "coloraxis": "coloraxis",
           "featureidkey": "properties.reg_istat_code_num",
           "geo": "geo",
           "geojson": "https://raw.githubusercontent.com/openpolis/geojson-italy/master/geojson/limits_IT_regions.geojson",
           "hovertemplate": "Date=2020-05-18<br>Region=%{location}<br>ICU=%{z}<extra></extra>",
           "locations": [
            13,
            17,
            18,
            15,
            8,
            6,
            12,
            7,
            3,
            11,
            14,
            4,
            4,
            1,
            16,
            20,
            19,
            9,
            10,
            2,
            5
           ],
           "name": "",
           "type": "choropleth",
           "z": [
            6,
            1,
            2,
            17,
            105,
            3,
            73,
            23,
            252,
            17,
            2,
            6,
            8,
            99,
            22,
            10,
            13,
            66,
            2,
            0,
            22
           ]
          }
         ],
         "name": "2020-05-18"
        },
        {
         "data": [
          {
           "coloraxis": "coloraxis",
           "featureidkey": "properties.reg_istat_code_num",
           "geo": "geo",
           "geojson": "https://raw.githubusercontent.com/openpolis/geojson-italy/master/geojson/limits_IT_regions.geojson",
           "hovertemplate": "Date=2020-05-19<br>Region=%{location}<br>ICU=%{z}<extra></extra>",
           "locations": [
            13,
            17,
            18,
            15,
            8,
            6,
            12,
            7,
            3,
            11,
            14,
            4,
            4,
            1,
            16,
            20,
            19,
            9,
            10,
            2,
            5
           ],
           "name": "",
           "type": "choropleth",
           "z": [
            6,
            1,
            2,
            17,
            99,
            2,
            74,
            22,
            244,
            17,
            2,
            6,
            8,
            96,
            22,
            9,
            12,
            56,
            2,
            1,
            18
           ]
          }
         ],
         "name": "2020-05-19"
        },
        {
         "data": [
          {
           "coloraxis": "coloraxis",
           "featureidkey": "properties.reg_istat_code_num",
           "geo": "geo",
           "geojson": "https://raw.githubusercontent.com/openpolis/geojson-italy/master/geojson/limits_IT_regions.geojson",
           "hovertemplate": "Date=2020-05-20<br>Region=%{location}<br>ICU=%{z}<extra></extra>",
           "locations": [
            13,
            17,
            18,
            15,
            8,
            6,
            12,
            7,
            3,
            11,
            14,
            4,
            4,
            1,
            16,
            20,
            19,
            9,
            10,
            2,
            5
           ],
           "name": "",
           "type": "choropleth",
           "z": [
            6,
            1,
            1,
            12,
            96,
            2,
            74,
            22,
            231,
            16,
            2,
            5,
            6,
            96,
            21,
            10,
            11,
            45,
            2,
            1,
            16
           ]
          }
         ],
         "name": "2020-05-20"
        },
        {
         "data": [
          {
           "coloraxis": "coloraxis",
           "featureidkey": "properties.reg_istat_code_num",
           "geo": "geo",
           "geojson": "https://raw.githubusercontent.com/openpolis/geojson-italy/master/geojson/limits_IT_regions.geojson",
           "hovertemplate": "Date=2020-05-21<br>Region=%{location}<br>ICU=%{z}<extra></extra>",
           "locations": [
            13,
            17,
            18,
            15,
            8,
            6,
            12,
            7,
            3,
            11,
            14,
            4,
            4,
            1,
            16,
            20,
            19,
            9,
            10,
            2,
            5
           ],
           "name": "",
           "type": "choropleth",
           "z": [
            5,
            1,
            1,
            9,
            92,
            2,
            68,
            22,
            226,
            16,
            2,
            5,
            6,
            83,
            20,
            12,
            11,
            41,
            2,
            1,
            15
           ]
          }
         ],
         "name": "2020-05-21"
        },
        {
         "data": [
          {
           "coloraxis": "coloraxis",
           "featureidkey": "properties.reg_istat_code_num",
           "geo": "geo",
           "geojson": "https://raw.githubusercontent.com/openpolis/geojson-italy/master/geojson/limits_IT_regions.geojson",
           "hovertemplate": "Date=2020-05-22<br>Region=%{location}<br>ICU=%{z}<extra></extra>",
           "locations": [
            13,
            17,
            18,
            15,
            8,
            6,
            12,
            7,
            3,
            11,
            14,
            4,
            4,
            1,
            16,
            20,
            19,
            9,
            10,
            2,
            5
           ],
           "name": "",
           "type": "choropleth",
           "z": [
            4,
            1,
            1,
            9,
            89,
            2,
            67,
            19,
            207,
            15,
            2,
            5,
            4,
            79,
            17,
            6,
            10,
            42,
            2,
            2,
            12
           ]
          }
         ],
         "name": "2020-05-22"
        },
        {
         "data": [
          {
           "coloraxis": "coloraxis",
           "featureidkey": "properties.reg_istat_code_num",
           "geo": "geo",
           "geojson": "https://raw.githubusercontent.com/openpolis/geojson-italy/master/geojson/limits_IT_regions.geojson",
           "hovertemplate": "Date=2020-05-23<br>Region=%{location}<br>ICU=%{z}<extra></extra>",
           "locations": [
            13,
            17,
            18,
            15,
            8,
            6,
            12,
            7,
            3,
            11,
            14,
            4,
            4,
            1,
            16,
            20,
            19,
            9,
            10,
            2,
            5
           ],
           "name": "",
           "type": "choropleth",
           "z": [
            4,
            1,
            1,
            10,
            84,
            1,
            60,
            20,
            199,
            15,
            2,
            5,
            4,
            76,
            17,
            6,
            9,
            40,
            2,
            2,
            14
           ]
          }
         ],
         "name": "2020-05-23"
        },
        {
         "data": [
          {
           "coloraxis": "coloraxis",
           "featureidkey": "properties.reg_istat_code_num",
           "geo": "geo",
           "geojson": "https://raw.githubusercontent.com/openpolis/geojson-italy/master/geojson/limits_IT_regions.geojson",
           "hovertemplate": "Date=2020-05-24<br>Region=%{location}<br>ICU=%{z}<extra></extra>",
           "locations": [
            13,
            17,
            18,
            15,
            8,
            6,
            12,
            7,
            3,
            11,
            14,
            4,
            4,
            1,
            16,
            20,
            19,
            9,
            10,
            2,
            5
           ],
           "name": "",
           "type": "choropleth",
           "z": [
            3,
            1,
            1,
            8,
            83,
            1,
            61,
            18,
            197,
            13,
            2,
            5,
            4,
            75,
            17,
            3,
            9,
            38,
            2,
            1,
            11
           ]
          }
         ],
         "name": "2020-05-24"
        },
        {
         "data": [
          {
           "coloraxis": "coloraxis",
           "featureidkey": "properties.reg_istat_code_num",
           "geo": "geo",
           "geojson": "https://raw.githubusercontent.com/openpolis/geojson-italy/master/geojson/limits_IT_regions.geojson",
           "hovertemplate": "Date=2020-05-25<br>Region=%{location}<br>ICU=%{z}<extra></extra>",
           "locations": [
            13,
            17,
            18,
            15,
            8,
            6,
            12,
            7,
            3,
            11,
            14,
            4,
            4,
            1,
            16,
            20,
            19,
            9,
            10,
            2,
            5
           ],
           "name": "",
           "type": "choropleth",
           "z": [
            3,
            0,
            1,
            7,
            82,
            1,
            60,
            18,
            196,
            13,
            2,
            5,
            4,
            72,
            15,
            3,
            9,
            37,
            2,
            1,
            10
           ]
          }
         ],
         "name": "2020-05-25"
        },
        {
         "data": [
          {
           "coloraxis": "coloraxis",
           "featureidkey": "properties.reg_istat_code_num",
           "geo": "geo",
           "geojson": "https://raw.githubusercontent.com/openpolis/geojson-italy/master/geojson/limits_IT_regions.geojson",
           "hovertemplate": "Date=2020-05-26<br>Region=%{location}<br>ICU=%{z}<extra></extra>",
           "locations": [
            13,
            17,
            18,
            15,
            8,
            6,
            12,
            7,
            3,
            11,
            14,
            4,
            4,
            1,
            16,
            20,
            19,
            9,
            10,
            2,
            5
           ],
           "name": "",
           "type": "choropleth",
           "z": [
            3,
            0,
            1,
            5,
            80,
            1,
            59,
            19,
            183,
            13,
            2,
            5,
            3,
            70,
            17,
            2,
            10,
            34,
            2,
            1,
            11
           ]
          }
         ],
         "name": "2020-05-26"
        },
        {
         "data": [
          {
           "coloraxis": "coloraxis",
           "featureidkey": "properties.reg_istat_code_num",
           "geo": "geo",
           "geojson": "https://raw.githubusercontent.com/openpolis/geojson-italy/master/geojson/limits_IT_regions.geojson",
           "hovertemplate": "Date=2020-05-27<br>Region=%{location}<br>ICU=%{z}<extra></extra>",
           "locations": [
            13,
            17,
            18,
            15,
            8,
            6,
            12,
            7,
            3,
            11,
            14,
            4,
            4,
            1,
            16,
            20,
            19,
            9,
            10,
            2,
            5
           ],
           "name": "",
           "type": "choropleth",
           "z": [
            3,
            0,
            1,
            6,
            78,
            1,
            65,
            14,
            175,
            13,
            2,
            5,
            2,
            68,
            17,
            2,
            10,
            31,
            2,
            1,
            9
           ]
          }
         ],
         "name": "2020-05-27"
        },
        {
         "data": [
          {
           "coloraxis": "coloraxis",
           "featureidkey": "properties.reg_istat_code_num",
           "geo": "geo",
           "geojson": "https://raw.githubusercontent.com/openpolis/geojson-italy/master/geojson/limits_IT_regions.geojson",
           "hovertemplate": "Date=2020-05-28<br>Region=%{location}<br>ICU=%{z}<extra></extra>",
           "locations": [
            13,
            17,
            18,
            15,
            8,
            6,
            12,
            7,
            3,
            11,
            14,
            4,
            4,
            1,
            16,
            20,
            19,
            9,
            10,
            2,
            5
           ],
           "name": "",
           "type": "choropleth",
           "z": [
            3,
            0,
            1,
            6,
            77,
            1,
            64,
            13,
            173,
            13,
            2,
            5,
            3,
            64,
            16,
            2,
            8,
            27,
            2,
            0,
            9
           ]
          }
         ],
         "name": "2020-05-28"
        },
        {
         "data": [
          {
           "coloraxis": "coloraxis",
           "featureidkey": "properties.reg_istat_code_num",
           "geo": "geo",
           "geojson": "https://raw.githubusercontent.com/openpolis/geojson-italy/master/geojson/limits_IT_regions.geojson",
           "hovertemplate": "Date=2020-05-29<br>Region=%{location}<br>ICU=%{z}<extra></extra>",
           "locations": [
            13,
            17,
            18,
            15,
            8,
            6,
            12,
            7,
            3,
            11,
            14,
            4,
            4,
            1,
            16,
            20,
            19,
            9,
            10,
            2,
            5
           ],
           "name": "",
           "type": "choropleth",
           "z": [
            3,
            0,
            1,
            7,
            76,
            2,
            59,
            13,
            173,
            9,
            2,
            5,
            3,
            61,
            12,
            2,
            7,
            31,
            2,
            0,
            7
           ]
          }
         ],
         "name": "2020-05-29"
        },
        {
         "data": [
          {
           "coloraxis": "coloraxis",
           "featureidkey": "properties.reg_istat_code_num",
           "geo": "geo",
           "geojson": "https://raw.githubusercontent.com/openpolis/geojson-italy/master/geojson/limits_IT_regions.geojson",
           "hovertemplate": "Date=2020-05-30<br>Region=%{location}<br>ICU=%{z}<extra></extra>",
           "locations": [
            13,
            17,
            18,
            15,
            8,
            6,
            12,
            7,
            3,
            11,
            14,
            4,
            4,
            1,
            16,
            20,
            19,
            9,
            10,
            2,
            5
           ],
           "name": "",
           "type": "choropleth",
           "z": [
            3,
            0,
            1,
            7,
            65,
            1,
            58,
            9,
            172,
            9,
            2,
            4,
            3,
            60,
            12,
            2,
            7,
            27,
            1,
            0,
            7
           ]
          }
         ],
         "name": "2020-05-30"
        },
        {
         "data": [
          {
           "coloraxis": "coloraxis",
           "featureidkey": "properties.reg_istat_code_num",
           "geo": "geo",
           "geojson": "https://raw.githubusercontent.com/openpolis/geojson-italy/master/geojson/limits_IT_regions.geojson",
           "hovertemplate": "Date=2020-05-31<br>Region=%{location}<br>ICU=%{z}<extra></extra>",
           "locations": [
            13,
            17,
            18,
            15,
            8,
            6,
            12,
            7,
            3,
            11,
            14,
            4,
            4,
            1,
            16,
            20,
            19,
            9,
            10,
            2,
            5
           ],
           "name": "",
           "type": "choropleth",
           "z": [
            4,
            0,
            1,
            5,
            57,
            1,
            57,
            8,
            170,
            9,
            2,
            4,
            3,
            58,
            11,
            2,
            7,
            28,
            2,
            0,
            6
           ]
          }
         ],
         "name": "2020-05-31"
        },
        {
         "data": [
          {
           "coloraxis": "coloraxis",
           "featureidkey": "properties.reg_istat_code_num",
           "geo": "geo",
           "geojson": "https://raw.githubusercontent.com/openpolis/geojson-italy/master/geojson/limits_IT_regions.geojson",
           "hovertemplate": "Date=2020-06-01<br>Region=%{location}<br>ICU=%{z}<extra></extra>",
           "locations": [
            13,
            17,
            18,
            15,
            8,
            6,
            12,
            7,
            3,
            11,
            14,
            4,
            4,
            1,
            16,
            20,
            19,
            9,
            10,
            2,
            5
           ],
           "name": "",
           "type": "choropleth",
           "z": [
            6,
            0,
            1,
            6,
            54,
            2,
            56,
            7,
            167,
            9,
            2,
            4,
            3,
            54,
            11,
            1,
            8,
            25,
            2,
            0,
            6
           ]
          }
         ],
         "name": "2020-06-01"
        },
        {
         "data": [
          {
           "coloraxis": "coloraxis",
           "featureidkey": "properties.reg_istat_code_num",
           "geo": "geo",
           "geojson": "https://raw.githubusercontent.com/openpolis/geojson-italy/master/geojson/limits_IT_regions.geojson",
           "hovertemplate": "Date=2020-06-02<br>Region=%{location}<br>ICU=%{z}<extra></extra>",
           "locations": [
            13,
            17,
            18,
            15,
            8,
            6,
            12,
            7,
            3,
            11,
            14,
            4,
            4,
            1,
            16,
            20,
            19,
            9,
            10,
            2,
            5
           ],
           "name": "",
           "type": "choropleth",
           "z": [
            6,
            0,
            1,
            7,
            50,
            2,
            56,
            7,
            166,
            9,
            2,
            3,
            2,
            46,
            11,
            1,
            7,
            25,
            2,
            0,
            5
           ]
          }
         ],
         "name": "2020-06-02"
        },
        {
         "data": [
          {
           "coloraxis": "coloraxis",
           "featureidkey": "properties.reg_istat_code_num",
           "geo": "geo",
           "geojson": "https://raw.githubusercontent.com/openpolis/geojson-italy/master/geojson/limits_IT_regions.geojson",
           "hovertemplate": "Date=2020-06-03<br>Region=%{location}<br>ICU=%{z}<extra></extra>",
           "locations": [
            13,
            17,
            18,
            15,
            8,
            6,
            12,
            7,
            3,
            11,
            14,
            4,
            4,
            1,
            16,
            20,
            19,
            9,
            10,
            2,
            5
           ],
           "name": "",
           "type": "choropleth",
           "z": [
            3,
            0,
            0,
            4,
            50,
            2,
            51,
            6,
            131,
            8,
            2,
            3,
            2,
            44,
            10,
            1,
            7,
            25,
            2,
            0,
            2
           ]
          }
         ],
         "name": "2020-06-03"
        },
        {
         "data": [
          {
           "coloraxis": "coloraxis",
           "featureidkey": "properties.reg_istat_code_num",
           "geo": "geo",
           "geojson": "https://raw.githubusercontent.com/openpolis/geojson-italy/master/geojson/limits_IT_regions.geojson",
           "hovertemplate": "Date=2020-06-04<br>Region=%{location}<br>ICU=%{z}<extra></extra>",
           "locations": [
            13,
            17,
            18,
            15,
            8,
            6,
            12,
            7,
            3,
            11,
            14,
            4,
            4,
            1,
            16,
            20,
            19,
            9,
            10,
            2,
            5
           ],
           "name": "",
           "type": "choropleth",
           "z": [
            3,
            0,
            0,
            5,
            49,
            2,
            51,
            6,
            125,
            5,
            2,
            2,
            1,
            43,
            9,
            1,
            6,
            24,
            2,
            0,
            2
           ]
          }
         ],
         "name": "2020-06-04"
        },
        {
         "data": [
          {
           "coloraxis": "coloraxis",
           "featureidkey": "properties.reg_istat_code_num",
           "geo": "geo",
           "geojson": "https://raw.githubusercontent.com/openpolis/geojson-italy/master/geojson/limits_IT_regions.geojson",
           "hovertemplate": "Date=2020-06-05<br>Region=%{location}<br>ICU=%{z}<extra></extra>",
           "locations": [
            13,
            17,
            18,
            15,
            8,
            6,
            12,
            7,
            3,
            11,
            14,
            4,
            4,
            1,
            16,
            20,
            19,
            9,
            10,
            2,
            5
           ],
           "name": "",
           "type": "choropleth",
           "z": [
            4,
            0,
            0,
            7,
            38,
            2,
            51,
            6,
            120,
            5,
            2,
            2,
            1,
            40,
            5,
            0,
            6,
            23,
            2,
            0,
            2
           ]
          }
         ],
         "name": "2020-06-05"
        },
        {
         "data": [
          {
           "coloraxis": "coloraxis",
           "featureidkey": "properties.reg_istat_code_num",
           "geo": "geo",
           "geojson": "https://raw.githubusercontent.com/openpolis/geojson-italy/master/geojson/limits_IT_regions.geojson",
           "hovertemplate": "Date=2020-06-06<br>Region=%{location}<br>ICU=%{z}<extra></extra>",
           "locations": [
            13,
            17,
            18,
            15,
            8,
            6,
            12,
            7,
            3,
            11,
            14,
            4,
            4,
            1,
            16,
            20,
            19,
            9,
            10,
            2,
            5
           ],
           "name": "",
           "type": "choropleth",
           "z": [
            3,
            0,
            0,
            7,
            35,
            2,
            49,
            4,
            110,
            3,
            2,
            2,
            1,
            37,
            4,
            1,
            7,
            22,
            2,
            0,
            2
           ]
          }
         ],
         "name": "2020-06-06"
        },
        {
         "data": [
          {
           "coloraxis": "coloraxis",
           "featureidkey": "properties.reg_istat_code_num",
           "geo": "geo",
           "geojson": "https://raw.githubusercontent.com/openpolis/geojson-italy/master/geojson/limits_IT_regions.geojson",
           "hovertemplate": "Date=2020-06-07<br>Region=%{location}<br>ICU=%{z}<extra></extra>",
           "locations": [
            13,
            17,
            18,
            15,
            8,
            6,
            12,
            7,
            3,
            11,
            14,
            4,
            4,
            1,
            16,
            20,
            19,
            9,
            10,
            2,
            5
           ],
           "name": "",
           "type": "choropleth",
           "z": [
            4,
            0,
            0,
            6,
            32,
            4,
            49,
            5,
            107,
            2,
            2,
            2,
            1,
            38,
            4,
            1,
            7,
            20,
            2,
            0,
            1
           ]
          }
         ],
         "name": "2020-06-07"
        },
        {
         "data": [
          {
           "coloraxis": "coloraxis",
           "featureidkey": "properties.reg_istat_code_num",
           "geo": "geo",
           "geojson": "https://raw.githubusercontent.com/openpolis/geojson-italy/master/geojson/limits_IT_regions.geojson",
           "hovertemplate": "Date=2020-06-08<br>Region=%{location}<br>ICU=%{z}<extra></extra>",
           "locations": [
            13,
            17,
            18,
            15,
            8,
            6,
            12,
            7,
            3,
            11,
            14,
            4,
            4,
            1,
            16,
            20,
            19,
            9,
            10,
            2,
            5
           ],
           "name": "",
           "type": "choropleth",
           "z": [
            4,
            0,
            0,
            6,
            31,
            3,
            49,
            5,
            107,
            2,
            2,
            2,
            1,
            36,
            4,
            1,
            7,
            20,
            2,
            0,
            1
           ]
          }
         ],
         "name": "2020-06-08"
        },
        {
         "data": [
          {
           "coloraxis": "coloraxis",
           "featureidkey": "properties.reg_istat_code_num",
           "geo": "geo",
           "geojson": "https://raw.githubusercontent.com/openpolis/geojson-italy/master/geojson/limits_IT_regions.geojson",
           "hovertemplate": "Date=2020-06-09<br>Region=%{location}<br>ICU=%{z}<extra></extra>",
           "locations": [
            13,
            17,
            18,
            15,
            8,
            6,
            12,
            7,
            3,
            11,
            14,
            4,
            4,
            1,
            16,
            20,
            19,
            9,
            10,
            2,
            5
           ],
           "name": "",
           "type": "choropleth",
           "z": [
            4,
            0,
            0,
            3,
            31,
            2,
            47,
            5,
            96,
            0,
            2,
            2,
            1,
            39,
            5,
            1,
            6,
            17,
            2,
            0,
            0
           ]
          }
         ],
         "name": "2020-06-09"
        },
        {
         "data": [
          {
           "coloraxis": "coloraxis",
           "featureidkey": "properties.reg_istat_code_num",
           "geo": "geo",
           "geojson": "https://raw.githubusercontent.com/openpolis/geojson-italy/master/geojson/limits_IT_regions.geojson",
           "hovertemplate": "Date=2020-06-10<br>Region=%{location}<br>ICU=%{z}<extra></extra>",
           "locations": [
            13,
            17,
            18,
            15,
            8,
            6,
            12,
            7,
            3,
            11,
            14,
            4,
            4,
            1,
            16,
            20,
            19,
            9,
            10,
            2,
            5
           ],
           "name": "",
           "type": "choropleth",
           "z": [
            5,
            0,
            0,
            2,
            25,
            1,
            47,
            3,
            98,
            0,
            2,
            2,
            1,
            35,
            4,
            1,
            6,
            15,
            2,
            0,
            0
           ]
          }
         ],
         "name": "2020-06-10"
        },
        {
         "data": [
          {
           "coloraxis": "coloraxis",
           "featureidkey": "properties.reg_istat_code_num",
           "geo": "geo",
           "geojson": "https://raw.githubusercontent.com/openpolis/geojson-italy/master/geojson/limits_IT_regions.geojson",
           "hovertemplate": "Date=2020-06-11<br>Region=%{location}<br>ICU=%{z}<extra></extra>",
           "locations": [
            13,
            17,
            18,
            15,
            8,
            6,
            12,
            7,
            3,
            11,
            14,
            4,
            4,
            1,
            16,
            20,
            19,
            9,
            10,
            2,
            5
           ],
           "name": "",
           "type": "choropleth",
           "z": [
            5,
            1,
            1,
            2,
            18,
            0,
            46,
            3,
            97,
            0,
            1,
            2,
            1,
            33,
            3,
            1,
            5,
            15,
            2,
            0,
            0
           ]
          }
         ],
         "name": "2020-06-11"
        },
        {
         "data": [
          {
           "coloraxis": "coloraxis",
           "featureidkey": "properties.reg_istat_code_num",
           "geo": "geo",
           "geojson": "https://raw.githubusercontent.com/openpolis/geojson-italy/master/geojson/limits_IT_regions.geojson",
           "hovertemplate": "Date=2020-06-12<br>Region=%{location}<br>ICU=%{z}<extra></extra>",
           "locations": [
            13,
            17,
            18,
            15,
            8,
            6,
            12,
            7,
            3,
            11,
            14,
            4,
            4,
            1,
            16,
            20,
            19,
            9,
            10,
            2,
            5
           ],
           "name": "",
           "type": "choropleth",
           "z": [
            4,
            1,
            1,
            2,
            17,
            0,
            47,
            3,
            97,
            0,
            1,
            2,
            1,
            30,
            2,
            1,
            3,
            14,
            1,
            0,
            0
           ]
          }
         ],
         "name": "2020-06-12"
        },
        {
         "data": [
          {
           "coloraxis": "coloraxis",
           "featureidkey": "properties.reg_istat_code_num",
           "geo": "geo",
           "geojson": "https://raw.githubusercontent.com/openpolis/geojson-italy/master/geojson/limits_IT_regions.geojson",
           "hovertemplate": "Date=2020-06-13<br>Region=%{location}<br>ICU=%{z}<extra></extra>",
           "locations": [
            13,
            17,
            18,
            15,
            8,
            6,
            12,
            7,
            3,
            11,
            14,
            4,
            4,
            1,
            16,
            20,
            19,
            9,
            10,
            2,
            5
           ],
           "name": "",
           "type": "choropleth",
           "z": [
            4,
            1,
            1,
            2,
            15,
            0,
            45,
            3,
            96,
            0,
            0,
            2,
            1,
            27,
            2,
            0,
            3,
            16,
            1,
            0,
            1
           ]
          }
         ],
         "name": "2020-06-13"
        },
        {
         "data": [
          {
           "coloraxis": "coloraxis",
           "featureidkey": "properties.reg_istat_code_num",
           "geo": "geo",
           "geojson": "https://raw.githubusercontent.com/openpolis/geojson-italy/master/geojson/limits_IT_regions.geojson",
           "hovertemplate": "Date=2020-06-14<br>Region=%{location}<br>ICU=%{z}<extra></extra>",
           "locations": [
            13,
            17,
            18,
            15,
            8,
            6,
            12,
            7,
            3,
            11,
            14,
            4,
            4,
            1,
            16,
            20,
            19,
            9,
            10,
            2,
            5
           ],
           "name": "",
           "type": "choropleth",
           "z": [
            4,
            1,
            1,
            2,
            14,
            1,
            37,
            3,
            94,
            0,
            0,
            2,
            1,
            26,
            2,
            0,
            3,
            16,
            1,
            0,
            1
           ]
          }
         ],
         "name": "2020-06-14"
        },
        {
         "data": [
          {
           "coloraxis": "coloraxis",
           "featureidkey": "properties.reg_istat_code_num",
           "geo": "geo",
           "geojson": "https://raw.githubusercontent.com/openpolis/geojson-italy/master/geojson/limits_IT_regions.geojson",
           "hovertemplate": "Date=2020-06-15<br>Region=%{location}<br>ICU=%{z}<extra></extra>",
           "locations": [
            13,
            17,
            18,
            15,
            8,
            6,
            12,
            7,
            3,
            11,
            14,
            4,
            4,
            1,
            16,
            20,
            19,
            9,
            10,
            2,
            5
           ],
           "name": "",
           "type": "choropleth",
           "z": [
            3,
            1,
            1,
            2,
            13,
            1,
            37,
            2,
            94,
            0,
            0,
            1,
            0,
            28,
            2,
            0,
            4,
            16,
            1,
            0,
            1
           ]
          }
         ],
         "name": "2020-06-15"
        },
        {
         "data": [
          {
           "coloraxis": "coloraxis",
           "featureidkey": "properties.reg_istat_code_num",
           "geo": "geo",
           "geojson": "https://raw.githubusercontent.com/openpolis/geojson-italy/master/geojson/limits_IT_regions.geojson",
           "hovertemplate": "Date=2020-06-16<br>Region=%{location}<br>ICU=%{z}<extra></extra>",
           "locations": [
            13,
            17,
            18,
            15,
            8,
            6,
            12,
            7,
            3,
            11,
            14,
            4,
            4,
            1,
            16,
            20,
            19,
            9,
            10,
            2,
            5
           ],
           "name": "",
           "type": "choropleth",
           "z": [
            3,
            1,
            0,
            2,
            11,
            0,
            38,
            2,
            69,
            0,
            0,
            1,
            0,
            28,
            2,
            0,
            4,
            14,
            1,
            0,
            1
           ]
          }
         ],
         "name": "2020-06-16"
        },
        {
         "data": [
          {
           "coloraxis": "coloraxis",
           "featureidkey": "properties.reg_istat_code_num",
           "geo": "geo",
           "geojson": "https://raw.githubusercontent.com/openpolis/geojson-italy/master/geojson/limits_IT_regions.geojson",
           "hovertemplate": "Date=2020-06-17<br>Region=%{location}<br>ICU=%{z}<extra></extra>",
           "locations": [
            13,
            17,
            18,
            15,
            8,
            6,
            12,
            7,
            3,
            11,
            14,
            4,
            4,
            1,
            16,
            20,
            19,
            9,
            10,
            2,
            5
           ],
           "name": "",
           "type": "choropleth",
           "z": [
            2,
            1,
            0,
            2,
            11,
            0,
            38,
            2,
            59,
            0,
            0,
            1,
            0,
            25,
            2,
            0,
            3,
            14,
            2,
            0,
            1
           ]
          }
         ],
         "name": "2020-06-17"
        },
        {
         "data": [
          {
           "coloraxis": "coloraxis",
           "featureidkey": "properties.reg_istat_code_num",
           "geo": "geo",
           "geojson": "https://raw.githubusercontent.com/openpolis/geojson-italy/master/geojson/limits_IT_regions.geojson",
           "hovertemplate": "Date=2020-06-18<br>Region=%{location}<br>ICU=%{z}<extra></extra>",
           "locations": [
            13,
            17,
            18,
            15,
            8,
            6,
            12,
            7,
            3,
            11,
            14,
            4,
            4,
            1,
            16,
            20,
            19,
            9,
            10,
            2,
            5
           ],
           "name": "",
           "type": "choropleth",
           "z": [
            2,
            1,
            0,
            6,
            11,
            1,
            38,
            2,
            60,
            0,
            0,
            2,
            0,
            25,
            1,
            0,
            3,
            13,
            2,
            0,
            1
           ]
          }
         ],
         "name": "2020-06-18"
        },
        {
         "data": [
          {
           "coloraxis": "coloraxis",
           "featureidkey": "properties.reg_istat_code_num",
           "geo": "geo",
           "geojson": "https://raw.githubusercontent.com/openpolis/geojson-italy/master/geojson/limits_IT_regions.geojson",
           "hovertemplate": "Date=2020-06-19<br>Region=%{location}<br>ICU=%{z}<extra></extra>",
           "locations": [
            13,
            17,
            18,
            15,
            8,
            6,
            12,
            7,
            3,
            11,
            14,
            4,
            4,
            1,
            16,
            20,
            19,
            9,
            10,
            2,
            5
           ],
           "name": "",
           "type": "choropleth",
           "z": [
            1,
            1,
            0,
            3,
            11,
            0,
            38,
            3,
            60,
            0,
            0,
            1,
            0,
            22,
            1,
            0,
            5,
            12,
            2,
            0,
            1
           ]
          }
         ],
         "name": "2020-06-19"
        },
        {
         "data": [
          {
           "coloraxis": "coloraxis",
           "featureidkey": "properties.reg_istat_code_num",
           "geo": "geo",
           "geojson": "https://raw.githubusercontent.com/openpolis/geojson-italy/master/geojson/limits_IT_regions.geojson",
           "hovertemplate": "Date=2020-06-20<br>Region=%{location}<br>ICU=%{z}<extra></extra>",
           "locations": [
            13,
            17,
            18,
            15,
            8,
            6,
            12,
            7,
            3,
            11,
            14,
            4,
            4,
            1,
            16,
            20,
            19,
            9,
            10,
            2,
            5
           ],
           "name": "",
           "type": "choropleth",
           "z": [
            3,
            1,
            0,
            1,
            11,
            1,
            39,
            3,
            54,
            0,
            0,
            1,
            0,
            17,
            1,
            0,
            5,
            12,
            2,
            0,
            1
           ]
          }
         ],
         "name": "2020-06-20"
        },
        {
         "data": [
          {
           "coloraxis": "coloraxis",
           "featureidkey": "properties.reg_istat_code_num",
           "geo": "geo",
           "geojson": "https://raw.githubusercontent.com/openpolis/geojson-italy/master/geojson/limits_IT_regions.geojson",
           "hovertemplate": "Date=2020-06-21<br>Region=%{location}<br>ICU=%{z}<extra></extra>",
           "locations": [
            13,
            17,
            18,
            15,
            8,
            6,
            12,
            7,
            3,
            11,
            14,
            4,
            4,
            1,
            16,
            20,
            19,
            9,
            10,
            2,
            5
           ],
           "name": "",
           "type": "choropleth",
           "z": [
            3,
            0,
            0,
            1,
            12,
            0,
            39,
            2,
            53,
            0,
            0,
            1,
            0,
            19,
            1,
            0,
            6,
            9,
            1,
            0,
            1
           ]
          }
         ],
         "name": "2020-06-21"
        },
        {
         "data": [
          {
           "coloraxis": "coloraxis",
           "featureidkey": "properties.reg_istat_code_num",
           "geo": "geo",
           "geojson": "https://raw.githubusercontent.com/openpolis/geojson-italy/master/geojson/limits_IT_regions.geojson",
           "hovertemplate": "Date=2020-06-22<br>Region=%{location}<br>ICU=%{z}<extra></extra>",
           "locations": [
            13,
            17,
            18,
            15,
            8,
            6,
            12,
            7,
            3,
            11,
            14,
            4,
            4,
            1,
            16,
            20,
            19,
            9,
            10,
            2,
            5
           ],
           "name": "",
           "type": "choropleth",
           "z": [
            3,
            0,
            0,
            0,
            12,
            0,
            23,
            1,
            51,
            0,
            0,
            1,
            0,
            19,
            0,
            0,
            6,
            9,
            1,
            0,
            1
           ]
          }
         ],
         "name": "2020-06-22"
        },
        {
         "data": [
          {
           "coloraxis": "coloraxis",
           "featureidkey": "properties.reg_istat_code_num",
           "geo": "geo",
           "geojson": "https://raw.githubusercontent.com/openpolis/geojson-italy/master/geojson/limits_IT_regions.geojson",
           "hovertemplate": "Date=2020-06-23<br>Region=%{location}<br>ICU=%{z}<extra></extra>",
           "locations": [
            13,
            17,
            18,
            15,
            8,
            6,
            12,
            7,
            3,
            11,
            14,
            4,
            4,
            1,
            16,
            20,
            19,
            9,
            10,
            2,
            5
           ],
           "name": "",
           "type": "choropleth",
           "z": [
            3,
            0,
            0,
            0,
            12,
            0,
            16,
            1,
            51,
            0,
            0,
            1,
            0,
            18,
            0,
            0,
            5,
            6,
            1,
            0,
            1
           ]
          }
         ],
         "name": "2020-06-23"
        },
        {
         "data": [
          {
           "coloraxis": "coloraxis",
           "featureidkey": "properties.reg_istat_code_num",
           "geo": "geo",
           "geojson": "https://raw.githubusercontent.com/openpolis/geojson-italy/master/geojson/limits_IT_regions.geojson",
           "hovertemplate": "Date=2020-06-24<br>Region=%{location}<br>ICU=%{z}<extra></extra>",
           "locations": [
            13,
            17,
            18,
            15,
            8,
            6,
            12,
            7,
            3,
            11,
            14,
            4,
            4,
            1,
            16,
            20,
            19,
            9,
            10,
            2,
            5
           ],
           "name": "",
           "type": "choropleth",
           "z": [
            2,
            0,
            0,
            0,
            12,
            0,
            13,
            1,
            48,
            0,
            0,
            1,
            0,
            18,
            0,
            0,
            5,
            5,
            1,
            0,
            1
           ]
          }
         ],
         "name": "2020-06-24"
        },
        {
         "data": [
          {
           "coloraxis": "coloraxis",
           "featureidkey": "properties.reg_istat_code_num",
           "geo": "geo",
           "geojson": "https://raw.githubusercontent.com/openpolis/geojson-italy/master/geojson/limits_IT_regions.geojson",
           "hovertemplate": "Date=2020-06-25<br>Region=%{location}<br>ICU=%{z}<extra></extra>",
           "locations": [
            13,
            17,
            18,
            15,
            8,
            6,
            12,
            7,
            3,
            11,
            14,
            4,
            4,
            1,
            16,
            20,
            19,
            9,
            10,
            2,
            5
           ],
           "name": "",
           "type": "choropleth",
           "z": [
            2,
            0,
            0,
            0,
            11,
            0,
            12,
            1,
            48,
            0,
            0,
            1,
            0,
            15,
            0,
            0,
            5,
            6,
            1,
            0,
            1
           ]
          }
         ],
         "name": "2020-06-25"
        },
        {
         "data": [
          {
           "coloraxis": "coloraxis",
           "featureidkey": "properties.reg_istat_code_num",
           "geo": "geo",
           "geojson": "https://raw.githubusercontent.com/openpolis/geojson-italy/master/geojson/limits_IT_regions.geojson",
           "hovertemplate": "Date=2020-06-26<br>Region=%{location}<br>ICU=%{z}<extra></extra>",
           "locations": [
            13,
            17,
            18,
            15,
            8,
            6,
            12,
            7,
            3,
            11,
            14,
            4,
            4,
            1,
            16,
            20,
            19,
            9,
            10,
            2,
            5
           ],
           "name": "",
           "type": "choropleth",
           "z": [
            2,
            0,
            0,
            1,
            12,
            0,
            13,
            3,
            47,
            0,
            0,
            1,
            0,
            14,
            0,
            0,
            4,
            6,
            1,
            0,
            1
           ]
          }
         ],
         "name": "2020-06-26"
        },
        {
         "data": [
          {
           "coloraxis": "coloraxis",
           "featureidkey": "properties.reg_istat_code_num",
           "geo": "geo",
           "geojson": "https://raw.githubusercontent.com/openpolis/geojson-italy/master/geojson/limits_IT_regions.geojson",
           "hovertemplate": "Date=2020-06-27<br>Region=%{location}<br>ICU=%{z}<extra></extra>",
           "locations": [
            13,
            17,
            18,
            15,
            8,
            6,
            12,
            7,
            3,
            11,
            14,
            4,
            4,
            1,
            16,
            20,
            19,
            9,
            10,
            2,
            5
           ],
           "name": "",
           "type": "choropleth",
           "z": [
            2,
            0,
            0,
            0,
            11,
            0,
            13,
            3,
            43,
            0,
            0,
            1,
            0,
            12,
            0,
            0,
            4,
            6,
            1,
            0,
            1
           ]
          }
         ],
         "name": "2020-06-27"
        },
        {
         "data": [
          {
           "coloraxis": "coloraxis",
           "featureidkey": "properties.reg_istat_code_num",
           "geo": "geo",
           "geojson": "https://raw.githubusercontent.com/openpolis/geojson-italy/master/geojson/limits_IT_regions.geojson",
           "hovertemplate": "Date=2020-06-28<br>Region=%{location}<br>ICU=%{z}<extra></extra>",
           "locations": [
            13,
            17,
            18,
            15,
            8,
            6,
            12,
            7,
            3,
            11,
            14,
            4,
            4,
            1,
            16,
            20,
            19,
            9,
            10,
            2,
            5
           ],
           "name": "",
           "type": "choropleth",
           "z": [
            2,
            0,
            0,
            0,
            12,
            0,
            13,
            3,
            43,
            0,
            0,
            1,
            0,
            12,
            0,
            0,
            4,
            6,
            1,
            0,
            1
           ]
          }
         ],
         "name": "2020-06-28"
        },
        {
         "data": [
          {
           "coloraxis": "coloraxis",
           "featureidkey": "properties.reg_istat_code_num",
           "geo": "geo",
           "geojson": "https://raw.githubusercontent.com/openpolis/geojson-italy/master/geojson/limits_IT_regions.geojson",
           "hovertemplate": "Date=2020-06-29<br>Region=%{location}<br>ICU=%{z}<extra></extra>",
           "locations": [
            13,
            17,
            18,
            15,
            8,
            6,
            12,
            7,
            3,
            11,
            14,
            4,
            4,
            1,
            16,
            20,
            19,
            9,
            10,
            2,
            5
           ],
           "name": "",
           "type": "choropleth",
           "z": [
            2,
            0,
            0,
            0,
            12,
            0,
            13,
            3,
            43,
            0,
            0,
            1,
            0,
            11,
            0,
            0,
            3,
            6,
            1,
            0,
            1
           ]
          }
         ],
         "name": "2020-06-29"
        },
        {
         "data": [
          {
           "coloraxis": "coloraxis",
           "featureidkey": "properties.reg_istat_code_num",
           "geo": "geo",
           "geojson": "https://raw.githubusercontent.com/openpolis/geojson-italy/master/geojson/limits_IT_regions.geojson",
           "hovertemplate": "Date=2020-06-30<br>Region=%{location}<br>ICU=%{z}<extra></extra>",
           "locations": [
            13,
            17,
            18,
            15,
            8,
            6,
            12,
            7,
            3,
            11,
            14,
            4,
            4,
            1,
            16,
            20,
            19,
            9,
            10,
            2,
            5
           ],
           "name": "",
           "type": "choropleth",
           "z": [
            0,
            0,
            0,
            0,
            12,
            0,
            13,
            3,
            42,
            0,
            0,
            1,
            0,
            12,
            0,
            0,
            3,
            6,
            1,
            0,
            0
           ]
          }
         ],
         "name": "2020-06-30"
        },
        {
         "data": [
          {
           "coloraxis": "coloraxis",
           "featureidkey": "properties.reg_istat_code_num",
           "geo": "geo",
           "geojson": "https://raw.githubusercontent.com/openpolis/geojson-italy/master/geojson/limits_IT_regions.geojson",
           "hovertemplate": "Date=2020-07-01<br>Region=%{location}<br>ICU=%{z}<extra></extra>",
           "locations": [
            13,
            17,
            18,
            15,
            8,
            6,
            12,
            7,
            3,
            11,
            14,
            4,
            4,
            1,
            16,
            20,
            19,
            9,
            10,
            2,
            5
           ],
           "name": "",
           "type": "choropleth",
           "z": [
            0,
            0,
            0,
            0,
            10,
            0,
            12,
            3,
            41,
            0,
            0,
            1,
            0,
            11,
            0,
            0,
            3,
            5,
            1,
            0,
            0
           ]
          }
         ],
         "name": "2020-07-01"
        },
        {
         "data": [
          {
           "coloraxis": "coloraxis",
           "featureidkey": "properties.reg_istat_code_num",
           "geo": "geo",
           "geojson": "https://raw.githubusercontent.com/openpolis/geojson-italy/master/geojson/limits_IT_regions.geojson",
           "hovertemplate": "Date=2020-07-02<br>Region=%{location}<br>ICU=%{z}<extra></extra>",
           "locations": [
            13,
            17,
            18,
            15,
            8,
            6,
            12,
            7,
            3,
            11,
            14,
            4,
            4,
            1,
            16,
            20,
            19,
            9,
            10,
            2,
            5
           ],
           "name": "",
           "type": "choropleth",
           "z": [
            0,
            0,
            0,
            0,
            9,
            0,
            11,
            3,
            41,
            0,
            0,
            0,
            0,
            11,
            0,
            0,
            3,
            3,
            1,
            0,
            0
           ]
          }
         ],
         "name": "2020-07-02"
        },
        {
         "data": [
          {
           "coloraxis": "coloraxis",
           "featureidkey": "properties.reg_istat_code_num",
           "geo": "geo",
           "geojson": "https://raw.githubusercontent.com/openpolis/geojson-italy/master/geojson/limits_IT_regions.geojson",
           "hovertemplate": "Date=2020-07-03<br>Region=%{location}<br>ICU=%{z}<extra></extra>",
           "locations": [
            13,
            17,
            18,
            15,
            8,
            6,
            12,
            7,
            3,
            11,
            14,
            4,
            4,
            1,
            16,
            20,
            19,
            9,
            10,
            2,
            5
           ],
           "name": "",
           "type": "choropleth",
           "z": [
            0,
            0,
            0,
            0,
            9,
            0,
            11,
            3,
            41,
            0,
            0,
            0,
            0,
            10,
            0,
            0,
            2,
            3,
            0,
            0,
            0
           ]
          }
         ],
         "name": "2020-07-03"
        },
        {
         "data": [
          {
           "coloraxis": "coloraxis",
           "featureidkey": "properties.reg_istat_code_num",
           "geo": "geo",
           "geojson": "https://raw.githubusercontent.com/openpolis/geojson-italy/master/geojson/limits_IT_regions.geojson",
           "hovertemplate": "Date=2020-07-04<br>Region=%{location}<br>ICU=%{z}<extra></extra>",
           "locations": [
            13,
            17,
            18,
            15,
            8,
            6,
            12,
            7,
            3,
            11,
            14,
            4,
            4,
            1,
            16,
            20,
            19,
            9,
            10,
            2,
            5
           ],
           "name": "",
           "type": "choropleth",
           "z": [
            0,
            0,
            0,
            0,
            8,
            0,
            11,
            2,
            36,
            0,
            0,
            0,
            0,
            9,
            0,
            0,
            2,
            2,
            0,
            0,
            1
           ]
          }
         ],
         "name": "2020-07-04"
        },
        {
         "data": [
          {
           "coloraxis": "coloraxis",
           "featureidkey": "properties.reg_istat_code_num",
           "geo": "geo",
           "geojson": "https://raw.githubusercontent.com/openpolis/geojson-italy/master/geojson/limits_IT_regions.geojson",
           "hovertemplate": "Date=2020-07-05<br>Region=%{location}<br>ICU=%{z}<extra></extra>",
           "locations": [
            13,
            17,
            18,
            15,
            8,
            6,
            12,
            7,
            3,
            11,
            14,
            4,
            4,
            1,
            16,
            20,
            19,
            9,
            10,
            2,
            5
           ],
           "name": "",
           "type": "choropleth",
           "z": [
            0,
            0,
            0,
            0,
            9,
            0,
            11,
            3,
            36,
            0,
            0,
            0,
            0,
            9,
            0,
            0,
            2,
            2,
            0,
            0,
            2
           ]
          }
         ],
         "name": "2020-07-05"
        },
        {
         "data": [
          {
           "coloraxis": "coloraxis",
           "featureidkey": "properties.reg_istat_code_num",
           "geo": "geo",
           "geojson": "https://raw.githubusercontent.com/openpolis/geojson-italy/master/geojson/limits_IT_regions.geojson",
           "hovertemplate": "Date=2020-07-06<br>Region=%{location}<br>ICU=%{z}<extra></extra>",
           "locations": [
            13,
            17,
            18,
            15,
            8,
            6,
            12,
            7,
            3,
            11,
            14,
            4,
            4,
            1,
            16,
            20,
            19,
            9,
            10,
            2,
            5
           ],
           "name": "",
           "type": "choropleth",
           "z": [
            0,
            0,
            0,
            0,
            9,
            0,
            12,
            0,
            36,
            0,
            0,
            0,
            0,
            9,
            0,
            0,
            2,
            2,
            0,
            0,
            2
           ]
          }
         ],
         "name": "2020-07-06"
        },
        {
         "data": [
          {
           "coloraxis": "coloraxis",
           "featureidkey": "properties.reg_istat_code_num",
           "geo": "geo",
           "geojson": "https://raw.githubusercontent.com/openpolis/geojson-italy/master/geojson/limits_IT_regions.geojson",
           "hovertemplate": "Date=2020-07-07<br>Region=%{location}<br>ICU=%{z}<extra></extra>",
           "locations": [
            13,
            17,
            18,
            15,
            8,
            6,
            12,
            7,
            3,
            11,
            14,
            4,
            4,
            1,
            16,
            20,
            19,
            9,
            10,
            2,
            5
           ],
           "name": "",
           "type": "choropleth",
           "z": [
            0,
            0,
            0,
            0,
            10,
            0,
            13,
            0,
            36,
            0,
            0,
            0,
            0,
            8,
            0,
            0,
            0,
            1,
            0,
            0,
            2
           ]
          }
         ],
         "name": "2020-07-07"
        },
        {
         "data": [
          {
           "coloraxis": "coloraxis",
           "featureidkey": "properties.reg_istat_code_num",
           "geo": "geo",
           "geojson": "https://raw.githubusercontent.com/openpolis/geojson-italy/master/geojson/limits_IT_regions.geojson",
           "hovertemplate": "Date=2020-07-08<br>Region=%{location}<br>ICU=%{z}<extra></extra>",
           "locations": [
            13,
            17,
            18,
            15,
            8,
            6,
            12,
            7,
            3,
            11,
            14,
            4,
            4,
            1,
            16,
            20,
            19,
            9,
            10,
            2,
            5
           ],
           "name": "",
           "type": "choropleth",
           "z": [
            0,
            0,
            0,
            0,
            10,
            0,
            13,
            1,
            34,
            0,
            0,
            0,
            0,
            8,
            0,
            0,
            0,
            2,
            0,
            0,
            3
           ]
          }
         ],
         "name": "2020-07-08"
        },
        {
         "data": [
          {
           "coloraxis": "coloraxis",
           "featureidkey": "properties.reg_istat_code_num",
           "geo": "geo",
           "geojson": "https://raw.githubusercontent.com/openpolis/geojson-italy/master/geojson/limits_IT_regions.geojson",
           "hovertemplate": "Date=2020-07-09<br>Region=%{location}<br>ICU=%{z}<extra></extra>",
           "locations": [
            13,
            17,
            18,
            15,
            8,
            6,
            12,
            7,
            3,
            11,
            14,
            4,
            4,
            1,
            16,
            20,
            19,
            9,
            10,
            2,
            5
           ],
           "name": "",
           "type": "choropleth",
           "z": [
            0,
            0,
            0,
            0,
            10,
            0,
            13,
            1,
            31,
            0,
            0,
            0,
            0,
            10,
            0,
            0,
            0,
            2,
            0,
            0,
            2
           ]
          }
         ],
         "name": "2020-07-09"
        },
        {
         "data": [
          {
           "coloraxis": "coloraxis",
           "featureidkey": "properties.reg_istat_code_num",
           "geo": "geo",
           "geojson": "https://raw.githubusercontent.com/openpolis/geojson-italy/master/geojson/limits_IT_regions.geojson",
           "hovertemplate": "Date=2020-07-10<br>Region=%{location}<br>ICU=%{z}<extra></extra>",
           "locations": [
            13,
            17,
            18,
            15,
            8,
            6,
            12,
            7,
            3,
            11,
            14,
            4,
            4,
            1,
            16,
            20,
            19,
            9,
            10,
            2,
            5
           ],
           "name": "",
           "type": "choropleth",
           "z": [
            0,
            0,
            0,
            0,
            10,
            0,
            13,
            1,
            27,
            0,
            0,
            0,
            0,
            9,
            0,
            0,
            0,
            2,
            0,
            0,
            3
           ]
          }
         ],
         "name": "2020-07-10"
        },
        {
         "data": [
          {
           "coloraxis": "coloraxis",
           "featureidkey": "properties.reg_istat_code_num",
           "geo": "geo",
           "geojson": "https://raw.githubusercontent.com/openpolis/geojson-italy/master/geojson/limits_IT_regions.geojson",
           "hovertemplate": "Date=2020-07-11<br>Region=%{location}<br>ICU=%{z}<extra></extra>",
           "locations": [
            13,
            17,
            18,
            15,
            8,
            6,
            12,
            7,
            3,
            11,
            14,
            4,
            4,
            1,
            16,
            20,
            19,
            9,
            10,
            2,
            5
           ],
           "name": "",
           "type": "choropleth",
           "z": [
            0,
            0,
            0,
            0,
            10,
            0,
            13,
            0,
            29,
            0,
            0,
            0,
            0,
            9,
            0,
            0,
            0,
            3,
            0,
            0,
            3
           ]
          }
         ],
         "name": "2020-07-11"
        },
        {
         "data": [
          {
           "coloraxis": "coloraxis",
           "featureidkey": "properties.reg_istat_code_num",
           "geo": "geo",
           "geojson": "https://raw.githubusercontent.com/openpolis/geojson-italy/master/geojson/limits_IT_regions.geojson",
           "hovertemplate": "Date=2020-07-12<br>Region=%{location}<br>ICU=%{z}<extra></extra>",
           "locations": [
            13,
            17,
            18,
            15,
            8,
            6,
            12,
            7,
            3,
            11,
            14,
            4,
            4,
            1,
            16,
            20,
            19,
            9,
            10,
            2,
            5
           ],
           "name": "",
           "type": "choropleth",
           "z": [
            0,
            0,
            0,
            0,
            10,
            0,
            12,
            0,
            31,
            0,
            0,
            0,
            0,
            9,
            0,
            0,
            0,
            3,
            0,
            0,
            3
           ]
          }
         ],
         "name": "2020-07-12"
        },
        {
         "data": [
          {
           "coloraxis": "coloraxis",
           "featureidkey": "properties.reg_istat_code_num",
           "geo": "geo",
           "geojson": "https://raw.githubusercontent.com/openpolis/geojson-italy/master/geojson/limits_IT_regions.geojson",
           "hovertemplate": "Date=2020-07-13<br>Region=%{location}<br>ICU=%{z}<extra></extra>",
           "locations": [
            13,
            17,
            18,
            15,
            8,
            6,
            12,
            7,
            3,
            11,
            14,
            4,
            4,
            1,
            16,
            20,
            19,
            9,
            10,
            2,
            5
           ],
           "name": "",
           "type": "choropleth",
           "z": [
            0,
            0,
            0,
            0,
            9,
            0,
            11,
            0,
            30,
            0,
            0,
            0,
            0,
            9,
            0,
            0,
            0,
            3,
            0,
            0,
            3
           ]
          }
         ],
         "name": "2020-07-13"
        },
        {
         "data": [
          {
           "coloraxis": "coloraxis",
           "featureidkey": "properties.reg_istat_code_num",
           "geo": "geo",
           "geojson": "https://raw.githubusercontent.com/openpolis/geojson-italy/master/geojson/limits_IT_regions.geojson",
           "hovertemplate": "Date=2020-07-14<br>Region=%{location}<br>ICU=%{z}<extra></extra>",
           "locations": [
            13,
            17,
            18,
            15,
            8,
            6,
            12,
            7,
            3,
            11,
            14,
            4,
            4,
            1,
            16,
            20,
            19,
            9,
            10,
            2,
            5
           ],
           "name": "",
           "type": "choropleth",
           "z": [
            0,
            0,
            0,
            1,
            9,
            0,
            10,
            0,
            27,
            0,
            0,
            0,
            0,
            9,
            0,
            0,
            0,
            2,
            0,
            0,
            2
           ]
          }
         ],
         "name": "2020-07-14"
        },
        {
         "data": [
          {
           "coloraxis": "coloraxis",
           "featureidkey": "properties.reg_istat_code_num",
           "geo": "geo",
           "geojson": "https://raw.githubusercontent.com/openpolis/geojson-italy/master/geojson/limits_IT_regions.geojson",
           "hovertemplate": "Date=2020-07-15<br>Region=%{location}<br>ICU=%{z}<extra></extra>",
           "locations": [
            13,
            17,
            18,
            15,
            8,
            6,
            12,
            7,
            3,
            11,
            14,
            4,
            4,
            1,
            16,
            20,
            19,
            9,
            10,
            2,
            5
           ],
           "name": "",
           "type": "choropleth",
           "z": [
            0,
            0,
            0,
            1,
            9,
            0,
            10,
            0,
            23,
            1,
            0,
            0,
            0,
            8,
            0,
            0,
            0,
            3,
            0,
            0,
            2
           ]
          }
         ],
         "name": "2020-07-15"
        },
        {
         "data": [
          {
           "coloraxis": "coloraxis",
           "featureidkey": "properties.reg_istat_code_num",
           "geo": "geo",
           "geojson": "https://raw.githubusercontent.com/openpolis/geojson-italy/master/geojson/limits_IT_regions.geojson",
           "hovertemplate": "Date=2020-07-16<br>Region=%{location}<br>ICU=%{z}<extra></extra>",
           "locations": [
            13,
            17,
            18,
            15,
            8,
            6,
            12,
            7,
            3,
            11,
            14,
            4,
            4,
            1,
            16,
            20,
            19,
            9,
            10,
            2,
            5
           ],
           "name": "",
           "type": "choropleth",
           "z": [
            0,
            0,
            0,
            1,
            9,
            0,
            9,
            0,
            23,
            1,
            0,
            0,
            0,
            6,
            0,
            0,
            0,
            2,
            0,
            0,
            2
           ]
          }
         ],
         "name": "2020-07-16"
        },
        {
         "data": [
          {
           "coloraxis": "coloraxis",
           "featureidkey": "properties.reg_istat_code_num",
           "geo": "geo",
           "geojson": "https://raw.githubusercontent.com/openpolis/geojson-italy/master/geojson/limits_IT_regions.geojson",
           "hovertemplate": "Date=2020-07-17<br>Region=%{location}<br>ICU=%{z}<extra></extra>",
           "locations": [
            13,
            17,
            18,
            15,
            8,
            6,
            12,
            7,
            3,
            11,
            14,
            4,
            4,
            1,
            16,
            20,
            19,
            9,
            10,
            2,
            5
           ],
           "name": "",
           "type": "choropleth",
           "z": [
            0,
            0,
            0,
            1,
            8,
            0,
            9,
            0,
            22,
            1,
            0,
            0,
            0,
            6,
            0,
            0,
            0,
            1,
            0,
            0,
            2
           ]
          }
         ],
         "name": "2020-07-17"
        },
        {
         "data": [
          {
           "coloraxis": "coloraxis",
           "featureidkey": "properties.reg_istat_code_num",
           "geo": "geo",
           "geojson": "https://raw.githubusercontent.com/openpolis/geojson-italy/master/geojson/limits_IT_regions.geojson",
           "hovertemplate": "Date=2020-07-18<br>Region=%{location}<br>ICU=%{z}<extra></extra>",
           "locations": [
            13,
            17,
            18,
            15,
            8,
            6,
            12,
            7,
            3,
            11,
            14,
            4,
            4,
            1,
            16,
            20,
            19,
            9,
            10,
            2,
            5
           ],
           "name": "",
           "type": "choropleth",
           "z": [
            0,
            0,
            0,
            1,
            8,
            0,
            9,
            0,
            22,
            1,
            0,
            0,
            0,
            6,
            0,
            0,
            0,
            1,
            0,
            0,
            2
           ]
          }
         ],
         "name": "2020-07-18"
        },
        {
         "data": [
          {
           "coloraxis": "coloraxis",
           "featureidkey": "properties.reg_istat_code_num",
           "geo": "geo",
           "geojson": "https://raw.githubusercontent.com/openpolis/geojson-italy/master/geojson/limits_IT_regions.geojson",
           "hovertemplate": "Date=2020-07-19<br>Region=%{location}<br>ICU=%{z}<extra></extra>",
           "locations": [
            13,
            17,
            18,
            15,
            8,
            6,
            12,
            7,
            3,
            11,
            14,
            4,
            4,
            1,
            16,
            20,
            19,
            9,
            10,
            2,
            5
           ],
           "name": "",
           "type": "choropleth",
           "z": [
            0,
            0,
            0,
            0,
            8,
            0,
            9,
            0,
            22,
            1,
            0,
            0,
            0,
            6,
            0,
            0,
            1,
            0,
            0,
            0,
            2
           ]
          }
         ],
         "name": "2020-07-19"
        },
        {
         "data": [
          {
           "coloraxis": "coloraxis",
           "featureidkey": "properties.reg_istat_code_num",
           "geo": "geo",
           "geojson": "https://raw.githubusercontent.com/openpolis/geojson-italy/master/geojson/limits_IT_regions.geojson",
           "hovertemplate": "Date=2020-07-20<br>Region=%{location}<br>ICU=%{z}<extra></extra>",
           "locations": [
            13,
            17,
            18,
            15,
            8,
            6,
            12,
            7,
            3,
            11,
            14,
            4,
            4,
            1,
            16,
            20,
            19,
            9,
            10,
            2,
            5
           ],
           "name": "",
           "type": "choropleth",
           "z": [
            0,
            0,
            0,
            0,
            6,
            0,
            9,
            0,
            21,
            1,
            0,
            0,
            0,
            6,
            0,
            0,
            2,
            0,
            0,
            0,
            2
           ]
          }
         ],
         "name": "2020-07-20"
        },
        {
         "data": [
          {
           "coloraxis": "coloraxis",
           "featureidkey": "properties.reg_istat_code_num",
           "geo": "geo",
           "geojson": "https://raw.githubusercontent.com/openpolis/geojson-italy/master/geojson/limits_IT_regions.geojson",
           "hovertemplate": "Date=2020-07-21<br>Region=%{location}<br>ICU=%{z}<extra></extra>",
           "locations": [
            13,
            17,
            18,
            15,
            8,
            6,
            12,
            7,
            3,
            11,
            14,
            4,
            4,
            1,
            16,
            20,
            19,
            9,
            10,
            2,
            5
           ],
           "name": "",
           "type": "choropleth",
           "z": [
            0,
            0,
            0,
            1,
            6,
            0,
            9,
            0,
            21,
            1,
            0,
            0,
            0,
            6,
            0,
            0,
            2,
            1,
            0,
            0,
            2
           ]
          }
         ],
         "name": "2020-07-21"
        },
        {
         "data": [
          {
           "coloraxis": "coloraxis",
           "featureidkey": "properties.reg_istat_code_num",
           "geo": "geo",
           "geojson": "https://raw.githubusercontent.com/openpolis/geojson-italy/master/geojson/limits_IT_regions.geojson",
           "hovertemplate": "Date=2020-07-22<br>Region=%{location}<br>ICU=%{z}<extra></extra>",
           "locations": [
            13,
            17,
            18,
            15,
            8,
            6,
            12,
            7,
            3,
            11,
            14,
            4,
            4,
            1,
            16,
            20,
            19,
            9,
            10,
            2,
            5
           ],
           "name": "",
           "type": "choropleth",
           "z": [
            1,
            0,
            0,
            1,
            7,
            0,
            9,
            0,
            17,
            1,
            0,
            0,
            0,
            6,
            0,
            0,
            3,
            1,
            0,
            0,
            2
           ]
          }
         ],
         "name": "2020-07-22"
        },
        {
         "data": [
          {
           "coloraxis": "coloraxis",
           "featureidkey": "properties.reg_istat_code_num",
           "geo": "geo",
           "geojson": "https://raw.githubusercontent.com/openpolis/geojson-italy/master/geojson/limits_IT_regions.geojson",
           "hovertemplate": "Date=2020-07-23<br>Region=%{location}<br>ICU=%{z}<extra></extra>",
           "locations": [
            13,
            17,
            18,
            15,
            8,
            6,
            12,
            7,
            3,
            11,
            14,
            4,
            4,
            1,
            16,
            20,
            19,
            9,
            10,
            2,
            5
           ],
           "name": "",
           "type": "choropleth",
           "z": [
            2,
            0,
            0,
            1,
            6,
            1,
            9,
            0,
            17,
            1,
            0,
            0,
            0,
            6,
            0,
            0,
            3,
            1,
            0,
            0,
            2
           ]
          }
         ],
         "name": "2020-07-23"
        },
        {
         "data": [
          {
           "coloraxis": "coloraxis",
           "featureidkey": "properties.reg_istat_code_num",
           "geo": "geo",
           "geojson": "https://raw.githubusercontent.com/openpolis/geojson-italy/master/geojson/limits_IT_regions.geojson",
           "hovertemplate": "Date=2020-07-24<br>Region=%{location}<br>ICU=%{z}<extra></extra>",
           "locations": [
            13,
            17,
            18,
            15,
            8,
            6,
            12,
            7,
            3,
            11,
            14,
            4,
            4,
            1,
            16,
            20,
            19,
            9,
            10,
            2,
            5
           ],
           "name": "",
           "type": "choropleth",
           "z": [
            2,
            0,
            0,
            2,
            4,
            2,
            9,
            0,
            17,
            1,
            0,
            0,
            0,
            5,
            0,
            0,
            2,
            0,
            0,
            0,
            2
           ]
          }
         ],
         "name": "2020-07-24"
        },
        {
         "data": [
          {
           "coloraxis": "coloraxis",
           "featureidkey": "properties.reg_istat_code_num",
           "geo": "geo",
           "geojson": "https://raw.githubusercontent.com/openpolis/geojson-italy/master/geojson/limits_IT_regions.geojson",
           "hovertemplate": "Date=2020-07-25<br>Region=%{location}<br>ICU=%{z}<extra></extra>",
           "locations": [
            13,
            17,
            18,
            15,
            8,
            6,
            12,
            7,
            3,
            11,
            14,
            4,
            4,
            1,
            16,
            20,
            19,
            9,
            10,
            2,
            5
           ],
           "name": "",
           "type": "choropleth",
           "z": [
            2,
            0,
            0,
            2,
            4,
            2,
            9,
            0,
            13,
            1,
            0,
            0,
            0,
            5,
            0,
            0,
            2,
            0,
            0,
            0,
            1
           ]
          }
         ],
         "name": "2020-07-25"
        },
        {
         "data": [
          {
           "coloraxis": "coloraxis",
           "featureidkey": "properties.reg_istat_code_num",
           "geo": "geo",
           "geojson": "https://raw.githubusercontent.com/openpolis/geojson-italy/master/geojson/limits_IT_regions.geojson",
           "hovertemplate": "Date=2020-07-26<br>Region=%{location}<br>ICU=%{z}<extra></extra>",
           "locations": [
            13,
            17,
            18,
            15,
            8,
            6,
            12,
            7,
            3,
            11,
            14,
            4,
            4,
            1,
            16,
            20,
            19,
            9,
            10,
            2,
            5
           ],
           "name": "",
           "type": "choropleth",
           "z": [
            2,
            0,
            0,
            4,
            4,
            2,
            9,
            1,
            13,
            1,
            0,
            0,
            0,
            5,
            0,
            0,
            2,
            0,
            0,
            0,
            1
           ]
          }
         ],
         "name": "2020-07-26"
        },
        {
         "data": [
          {
           "coloraxis": "coloraxis",
           "featureidkey": "properties.reg_istat_code_num",
           "geo": "geo",
           "geojson": "https://raw.githubusercontent.com/openpolis/geojson-italy/master/geojson/limits_IT_regions.geojson",
           "hovertemplate": "Date=2020-07-27<br>Region=%{location}<br>ICU=%{z}<extra></extra>",
           "locations": [
            13,
            17,
            18,
            15,
            8,
            6,
            12,
            7,
            3,
            11,
            14,
            4,
            4,
            1,
            16,
            20,
            19,
            9,
            10,
            2,
            5
           ],
           "name": "",
           "type": "choropleth",
           "z": [
            1,
            0,
            0,
            4,
            4,
            2,
            9,
            1,
            14,
            0,
            0,
            0,
            0,
            5,
            0,
            0,
            4,
            0,
            1,
            0,
            0
           ]
          }
         ],
         "name": "2020-07-27"
        },
        {
         "data": [
          {
           "coloraxis": "coloraxis",
           "featureidkey": "properties.reg_istat_code_num",
           "geo": "geo",
           "geojson": "https://raw.githubusercontent.com/openpolis/geojson-italy/master/geojson/limits_IT_regions.geojson",
           "hovertemplate": "Date=2020-07-28<br>Region=%{location}<br>ICU=%{z}<extra></extra>",
           "locations": [
            13,
            17,
            18,
            15,
            8,
            6,
            12,
            7,
            3,
            11,
            14,
            4,
            4,
            1,
            16,
            20,
            19,
            9,
            10,
            2,
            5
           ],
           "name": "",
           "type": "choropleth",
           "z": [
            1,
            0,
            0,
            4,
            3,
            2,
            9,
            0,
            13,
            0,
            0,
            0,
            0,
            5,
            0,
            0,
            2,
            0,
            1,
            0,
            0
           ]
          }
         ],
         "name": "2020-07-28"
        },
        {
         "data": [
          {
           "coloraxis": "coloraxis",
           "featureidkey": "properties.reg_istat_code_num",
           "geo": "geo",
           "geojson": "https://raw.githubusercontent.com/openpolis/geojson-italy/master/geojson/limits_IT_regions.geojson",
           "hovertemplate": "Date=2020-07-29<br>Region=%{location}<br>ICU=%{z}<extra></extra>",
           "locations": [
            13,
            17,
            18,
            15,
            8,
            6,
            12,
            7,
            3,
            11,
            14,
            4,
            4,
            1,
            16,
            20,
            19,
            9,
            10,
            2,
            5
           ],
           "name": "",
           "type": "choropleth",
           "z": [
            1,
            0,
            0,
            1,
            3,
            2,
            9,
            0,
            13,
            0,
            0,
            1,
            0,
            5,
            0,
            0,
            2,
            0,
            1,
            0,
            0
           ]
          }
         ],
         "name": "2020-07-29"
        },
        {
         "data": [
          {
           "coloraxis": "coloraxis",
           "featureidkey": "properties.reg_istat_code_num",
           "geo": "geo",
           "geojson": "https://raw.githubusercontent.com/openpolis/geojson-italy/master/geojson/limits_IT_regions.geojson",
           "hovertemplate": "Date=2020-07-30<br>Region=%{location}<br>ICU=%{z}<extra></extra>",
           "locations": [
            13,
            17,
            18,
            15,
            8,
            6,
            12,
            7,
            3,
            11,
            14,
            4,
            4,
            1,
            16,
            20,
            19,
            9,
            10,
            2,
            5
           ],
           "name": "",
           "type": "choropleth",
           "z": [
            1,
            0,
            1,
            6,
            4,
            2,
            9,
            0,
            13,
            0,
            0,
            1,
            0,
            5,
            0,
            0,
            2,
            0,
            0,
            0,
            3
           ]
          }
         ],
         "name": "2020-07-30"
        },
        {
         "data": [
          {
           "coloraxis": "coloraxis",
           "featureidkey": "properties.reg_istat_code_num",
           "geo": "geo",
           "geojson": "https://raw.githubusercontent.com/openpolis/geojson-italy/master/geojson/limits_IT_regions.geojson",
           "hovertemplate": "Date=2020-07-31<br>Region=%{location}<br>ICU=%{z}<extra></extra>",
           "locations": [
            13,
            17,
            18,
            15,
            8,
            6,
            12,
            7,
            3,
            11,
            14,
            4,
            4,
            1,
            16,
            20,
            19,
            9,
            10,
            2,
            5
           ],
           "name": "",
           "type": "choropleth",
           "z": [
            1,
            0,
            1,
            6,
            4,
            2,
            9,
            0,
            7,
            0,
            0,
            1,
            0,
            5,
            0,
            0,
            2,
            0,
            0,
            0,
            3
           ]
          }
         ],
         "name": "2020-07-31"
        },
        {
         "data": [
          {
           "coloraxis": "coloraxis",
           "featureidkey": "properties.reg_istat_code_num",
           "geo": "geo",
           "geojson": "https://raw.githubusercontent.com/openpolis/geojson-italy/master/geojson/limits_IT_regions.geojson",
           "hovertemplate": "Date=2020-08-01<br>Region=%{location}<br>ICU=%{z}<extra></extra>",
           "locations": [
            13,
            17,
            18,
            15,
            8,
            6,
            12,
            7,
            3,
            11,
            14,
            4,
            4,
            1,
            16,
            20,
            19,
            9,
            10,
            2,
            5
           ],
           "name": "",
           "type": "choropleth",
           "z": [
            1,
            0,
            1,
            3,
            4,
            3,
            9,
            0,
            9,
            0,
            0,
            1,
            0,
            5,
            0,
            0,
            3,
            0,
            0,
            0,
            4
           ]
          }
         ],
         "name": "2020-08-01"
        },
        {
         "data": [
          {
           "coloraxis": "coloraxis",
           "featureidkey": "properties.reg_istat_code_num",
           "geo": "geo",
           "geojson": "https://raw.githubusercontent.com/openpolis/geojson-italy/master/geojson/limits_IT_regions.geojson",
           "hovertemplate": "Date=2020-08-02<br>Region=%{location}<br>ICU=%{z}<extra></extra>",
           "locations": [
            13,
            17,
            18,
            15,
            8,
            6,
            12,
            7,
            3,
            11,
            14,
            4,
            4,
            1,
            16,
            20,
            19,
            9,
            10,
            2,
            5
           ],
           "name": "",
           "type": "choropleth",
           "z": [
            1,
            0,
            1,
            3,
            4,
            3,
            9,
            0,
            9,
            0,
            0,
            0,
            0,
            5,
            0,
            0,
            3,
            0,
            0,
            0,
            4
           ]
          }
         ],
         "name": "2020-08-02"
        },
        {
         "data": [
          {
           "coloraxis": "coloraxis",
           "featureidkey": "properties.reg_istat_code_num",
           "geo": "geo",
           "geojson": "https://raw.githubusercontent.com/openpolis/geojson-italy/master/geojson/limits_IT_regions.geojson",
           "hovertemplate": "Date=2020-08-03<br>Region=%{location}<br>ICU=%{z}<extra></extra>",
           "locations": [
            13,
            17,
            18,
            15,
            8,
            6,
            12,
            7,
            3,
            11,
            14,
            4,
            4,
            1,
            16,
            20,
            19,
            9,
            10,
            2,
            5
           ],
           "name": "",
           "type": "choropleth",
           "z": [
            1,
            0,
            1,
            2,
            3,
            3,
            9,
            0,
            9,
            0,
            0,
            0,
            0,
            5,
            0,
            0,
            3,
            1,
            0,
            0,
            4
           ]
          }
         ],
         "name": "2020-08-03"
        },
        {
         "data": [
          {
           "coloraxis": "coloraxis",
           "featureidkey": "properties.reg_istat_code_num",
           "geo": "geo",
           "geojson": "https://raw.githubusercontent.com/openpolis/geojson-italy/master/geojson/limits_IT_regions.geojson",
           "hovertemplate": "Date=2020-08-04<br>Region=%{location}<br>ICU=%{z}<extra></extra>",
           "locations": [
            13,
            17,
            18,
            15,
            8,
            6,
            12,
            7,
            3,
            11,
            14,
            4,
            4,
            1,
            16,
            20,
            19,
            9,
            10,
            2,
            5
           ],
           "name": "",
           "type": "choropleth",
           "z": [
            1,
            0,
            1,
            2,
            4,
            2,
            8,
            0,
            9,
            0,
            0,
            0,
            0,
            6,
            0,
            0,
            3,
            0,
            0,
            0,
            5
           ]
          }
         ],
         "name": "2020-08-04"
        },
        {
         "data": [
          {
           "coloraxis": "coloraxis",
           "featureidkey": "properties.reg_istat_code_num",
           "geo": "geo",
           "geojson": "https://raw.githubusercontent.com/openpolis/geojson-italy/master/geojson/limits_IT_regions.geojson",
           "hovertemplate": "Date=2020-08-05<br>Region=%{location}<br>ICU=%{z}<extra></extra>",
           "locations": [
            13,
            17,
            18,
            15,
            8,
            6,
            12,
            7,
            3,
            11,
            14,
            4,
            4,
            1,
            16,
            20,
            19,
            9,
            10,
            2,
            5
           ],
           "name": "",
           "type": "choropleth",
           "z": [
            1,
            0,
            1,
            1,
            4,
            2,
            7,
            0,
            11,
            0,
            0,
            0,
            0,
            4,
            0,
            0,
            4,
            0,
            0,
            0,
            6
           ]
          }
         ],
         "name": "2020-08-05"
        },
        {
         "data": [
          {
           "coloraxis": "coloraxis",
           "featureidkey": "properties.reg_istat_code_num",
           "geo": "geo",
           "geojson": "https://raw.githubusercontent.com/openpolis/geojson-italy/master/geojson/limits_IT_regions.geojson",
           "hovertemplate": "Date=2020-08-06<br>Region=%{location}<br>ICU=%{z}<extra></extra>",
           "locations": [
            13,
            17,
            18,
            15,
            8,
            6,
            12,
            7,
            3,
            11,
            14,
            4,
            4,
            1,
            16,
            20,
            19,
            9,
            10,
            2,
            5
           ],
           "name": "",
           "type": "choropleth",
           "z": [
            1,
            0,
            1,
            1,
            4,
            2,
            8,
            0,
            11,
            0,
            0,
            0,
            0,
            4,
            0,
            0,
            4,
            0,
            0,
            0,
            6
           ]
          }
         ],
         "name": "2020-08-06"
        },
        {
         "data": [
          {
           "coloraxis": "coloraxis",
           "featureidkey": "properties.reg_istat_code_num",
           "geo": "geo",
           "geojson": "https://raw.githubusercontent.com/openpolis/geojson-italy/master/geojson/limits_IT_regions.geojson",
           "hovertemplate": "Date=2020-08-07<br>Region=%{location}<br>ICU=%{z}<extra></extra>",
           "locations": [
            13,
            17,
            18,
            15,
            8,
            6,
            12,
            7,
            3,
            11,
            14,
            4,
            4,
            1,
            16,
            20,
            19,
            9,
            10,
            2,
            5
           ],
           "name": "",
           "type": "choropleth",
           "z": [
            1,
            0,
            1,
            2,
            4,
            3,
            8,
            1,
            9,
            0,
            0,
            0,
            0,
            3,
            0,
            0,
            4,
            0,
            0,
            0,
            6
           ]
          }
         ],
         "name": "2020-08-07"
        },
        {
         "data": [
          {
           "coloraxis": "coloraxis",
           "featureidkey": "properties.reg_istat_code_num",
           "geo": "geo",
           "geojson": "https://raw.githubusercontent.com/openpolis/geojson-italy/master/geojson/limits_IT_regions.geojson",
           "hovertemplate": "Date=2020-08-08<br>Region=%{location}<br>ICU=%{z}<extra></extra>",
           "locations": [
            13,
            17,
            18,
            15,
            8,
            6,
            12,
            7,
            3,
            11,
            14,
            4,
            4,
            1,
            16,
            20,
            19,
            9,
            10,
            2,
            5
           ],
           "name": "",
           "type": "choropleth",
           "z": [
            1,
            0,
            1,
            2,
            4,
            3,
            8,
            1,
            9,
            0,
            0,
            0,
            0,
            3,
            0,
            0,
            4,
            1,
            0,
            0,
            6
           ]
          }
         ],
         "name": "2020-08-08"
        },
        {
         "data": [
          {
           "coloraxis": "coloraxis",
           "featureidkey": "properties.reg_istat_code_num",
           "geo": "geo",
           "geojson": "https://raw.githubusercontent.com/openpolis/geojson-italy/master/geojson/limits_IT_regions.geojson",
           "hovertemplate": "Date=2020-08-09<br>Region=%{location}<br>ICU=%{z}<extra></extra>",
           "locations": [
            13,
            17,
            18,
            15,
            8,
            6,
            12,
            7,
            3,
            11,
            14,
            4,
            4,
            1,
            16,
            20,
            19,
            9,
            10,
            2,
            5
           ],
           "name": "",
           "type": "choropleth",
           "z": [
            1,
            0,
            1,
            2,
            4,
            3,
            8,
            2,
            9,
            0,
            0,
            0,
            0,
            3,
            0,
            0,
            5,
            1,
            0,
            0,
            6
           ]
          }
         ],
         "name": "2020-08-09"
        },
        {
         "data": [
          {
           "coloraxis": "coloraxis",
           "featureidkey": "properties.reg_istat_code_num",
           "geo": "geo",
           "geojson": "https://raw.githubusercontent.com/openpolis/geojson-italy/master/geojson/limits_IT_regions.geojson",
           "hovertemplate": "Date=2020-08-10<br>Region=%{location}<br>ICU=%{z}<extra></extra>",
           "locations": [
            13,
            17,
            18,
            15,
            8,
            6,
            12,
            7,
            3,
            11,
            14,
            4,
            4,
            1,
            16,
            20,
            19,
            9,
            10,
            2,
            5
           ],
           "name": "",
           "type": "choropleth",
           "z": [
            1,
            0,
            1,
            1,
            4,
            3,
            8,
            2,
            9,
            0,
            0,
            0,
            0,
            3,
            1,
            0,
            6,
            1,
            0,
            0,
            6
           ]
          }
         ],
         "name": "2020-08-10"
        },
        {
         "data": [
          {
           "coloraxis": "coloraxis",
           "featureidkey": "properties.reg_istat_code_num",
           "geo": "geo",
           "geojson": "https://raw.githubusercontent.com/openpolis/geojson-italy/master/geojson/limits_IT_regions.geojson",
           "hovertemplate": "Date=2020-08-11<br>Region=%{location}<br>ICU=%{z}<extra></extra>",
           "locations": [
            13,
            17,
            18,
            15,
            8,
            6,
            12,
            7,
            3,
            11,
            14,
            4,
            4,
            1,
            16,
            20,
            19,
            9,
            10,
            2,
            5
           ],
           "name": "",
           "type": "choropleth",
           "z": [
            1,
            0,
            1,
            2,
            4,
            3,
            9,
            2,
            10,
            0,
            0,
            0,
            0,
            3,
            1,
            0,
            6,
            1,
            0,
            0,
            6
           ]
          }
         ],
         "name": "2020-08-11"
        },
        {
         "data": [
          {
           "coloraxis": "coloraxis",
           "featureidkey": "properties.reg_istat_code_num",
           "geo": "geo",
           "geojson": "https://raw.githubusercontent.com/openpolis/geojson-italy/master/geojson/limits_IT_regions.geojson",
           "hovertemplate": "Date=2020-08-12<br>Region=%{location}<br>ICU=%{z}<extra></extra>",
           "locations": [
            13,
            17,
            18,
            15,
            8,
            6,
            12,
            7,
            3,
            11,
            14,
            4,
            4,
            1,
            16,
            20,
            19,
            9,
            10,
            2,
            5
           ],
           "name": "",
           "type": "choropleth",
           "z": [
            1,
            0,
            1,
            2,
            4,
            3,
            9,
            2,
            10,
            0,
            0,
            0,
            1,
            3,
            2,
            0,
            6,
            3,
            0,
            0,
            6
           ]
          }
         ],
         "name": "2020-08-12"
        },
        {
         "data": [
          {
           "coloraxis": "coloraxis",
           "featureidkey": "properties.reg_istat_code_num",
           "geo": "geo",
           "geojson": "https://raw.githubusercontent.com/openpolis/geojson-italy/master/geojson/limits_IT_regions.geojson",
           "hovertemplate": "Date=2020-08-13<br>Region=%{location}<br>ICU=%{z}<extra></extra>",
           "locations": [
            13,
            17,
            18,
            15,
            8,
            6,
            12,
            7,
            3,
            11,
            14,
            4,
            4,
            1,
            16,
            20,
            19,
            9,
            10,
            2,
            5
           ],
           "name": "",
           "type": "choropleth",
           "z": [
            1,
            0,
            1,
            2,
            4,
            3,
            9,
            2,
            11,
            0,
            0,
            1,
            1,
            3,
            2,
            0,
            6,
            3,
            0,
            0,
            6
           ]
          }
         ],
         "name": "2020-08-13"
        },
        {
         "data": [
          {
           "coloraxis": "coloraxis",
           "featureidkey": "properties.reg_istat_code_num",
           "geo": "geo",
           "geojson": "https://raw.githubusercontent.com/openpolis/geojson-italy/master/geojson/limits_IT_regions.geojson",
           "hovertemplate": "Date=2020-08-14<br>Region=%{location}<br>ICU=%{z}<extra></extra>",
           "locations": [
            13,
            17,
            18,
            15,
            8,
            6,
            12,
            7,
            3,
            11,
            14,
            4,
            4,
            1,
            16,
            20,
            19,
            9,
            10,
            2,
            5
           ],
           "name": "",
           "type": "choropleth",
           "z": [
            1,
            0,
            1,
            1,
            4,
            3,
            9,
            3,
            12,
            1,
            0,
            1,
            1,
            3,
            1,
            0,
            6,
            3,
            0,
            0,
            6
           ]
          }
         ],
         "name": "2020-08-14"
        },
        {
         "data": [
          {
           "coloraxis": "coloraxis",
           "featureidkey": "properties.reg_istat_code_num",
           "geo": "geo",
           "geojson": "https://raw.githubusercontent.com/openpolis/geojson-italy/master/geojson/limits_IT_regions.geojson",
           "hovertemplate": "Date=2020-08-15<br>Region=%{location}<br>ICU=%{z}<extra></extra>",
           "locations": [
            13,
            17,
            18,
            15,
            8,
            6,
            12,
            7,
            3,
            11,
            14,
            4,
            4,
            1,
            16,
            20,
            19,
            9,
            10,
            2,
            5
           ],
           "name": "",
           "type": "choropleth",
           "z": [
            1,
            0,
            1,
            1,
            4,
            3,
            9,
            3,
            12,
            1,
            0,
            1,
            1,
            3,
            1,
            0,
            5,
            4,
            1,
            0,
            4
           ]
          }
         ],
         "name": "2020-08-15"
        },
        {
         "data": [
          {
           "coloraxis": "coloraxis",
           "featureidkey": "properties.reg_istat_code_num",
           "geo": "geo",
           "geojson": "https://raw.githubusercontent.com/openpolis/geojson-italy/master/geojson/limits_IT_regions.geojson",
           "hovertemplate": "Date=2020-08-16<br>Region=%{location}<br>ICU=%{z}<extra></extra>",
           "locations": [
            13,
            17,
            18,
            15,
            8,
            6,
            12,
            7,
            3,
            11,
            14,
            4,
            4,
            1,
            16,
            20,
            19,
            9,
            10,
            2,
            5
           ],
           "name": "",
           "type": "choropleth",
           "z": [
            1,
            0,
            1,
            1,
            4,
            3,
            9,
            3,
            13,
            1,
            0,
            1,
            1,
            3,
            1,
            0,
            5,
            4,
            1,
            0,
            4
           ]
          }
         ],
         "name": "2020-08-16"
        },
        {
         "data": [
          {
           "coloraxis": "coloraxis",
           "featureidkey": "properties.reg_istat_code_num",
           "geo": "geo",
           "geojson": "https://raw.githubusercontent.com/openpolis/geojson-italy/master/geojson/limits_IT_regions.geojson",
           "hovertemplate": "Date=2020-08-17<br>Region=%{location}<br>ICU=%{z}<extra></extra>",
           "locations": [
            13,
            17,
            18,
            15,
            8,
            6,
            12,
            7,
            3,
            11,
            14,
            4,
            4,
            1,
            16,
            20,
            19,
            9,
            10,
            2,
            5
           ],
           "name": "",
           "type": "choropleth",
           "z": [
            1,
            0,
            1,
            1,
            4,
            3,
            9,
            3,
            14,
            1,
            0,
            1,
            1,
            2,
            2,
            0,
            6,
            4,
            1,
            0,
            4
           ]
          }
         ],
         "name": "2020-08-17"
        },
        {
         "data": [
          {
           "coloraxis": "coloraxis",
           "featureidkey": "properties.reg_istat_code_num",
           "geo": "geo",
           "geojson": "https://raw.githubusercontent.com/openpolis/geojson-italy/master/geojson/limits_IT_regions.geojson",
           "hovertemplate": "Date=2020-08-18<br>Region=%{location}<br>ICU=%{z}<extra></extra>",
           "locations": [
            13,
            17,
            18,
            15,
            8,
            6,
            12,
            7,
            3,
            11,
            14,
            4,
            4,
            1,
            16,
            20,
            19,
            9,
            10,
            2,
            5
           ],
           "name": "",
           "type": "choropleth",
           "z": [
            1,
            0,
            1,
            2,
            4,
            3,
            6,
            1,
            14,
            1,
            0,
            1,
            1,
            3,
            3,
            0,
            6,
            4,
            1,
            0,
            6
           ]
          }
         ],
         "name": "2020-08-18"
        },
        {
         "data": [
          {
           "coloraxis": "coloraxis",
           "featureidkey": "properties.reg_istat_code_num",
           "geo": "geo",
           "geojson": "https://raw.githubusercontent.com/openpolis/geojson-italy/master/geojson/limits_IT_regions.geojson",
           "hovertemplate": "Date=2020-08-19<br>Region=%{location}<br>ICU=%{z}<extra></extra>",
           "locations": [
            13,
            17,
            18,
            15,
            8,
            6,
            12,
            7,
            3,
            11,
            14,
            4,
            4,
            1,
            16,
            20,
            19,
            9,
            10,
            2,
            5
           ],
           "name": "",
           "type": "choropleth",
           "z": [
            2,
            0,
            1,
            2,
            7,
            3,
            6,
            1,
            14,
            1,
            0,
            1,
            1,
            3,
            3,
            0,
            8,
            5,
            2,
            0,
            6
           ]
          }
         ],
         "name": "2020-08-19"
        },
        {
         "data": [
          {
           "coloraxis": "coloraxis",
           "featureidkey": "properties.reg_istat_code_num",
           "geo": "geo",
           "geojson": "https://raw.githubusercontent.com/openpolis/geojson-italy/master/geojson/limits_IT_regions.geojson",
           "hovertemplate": "Date=2020-08-20<br>Region=%{location}<br>ICU=%{z}<extra></extra>",
           "locations": [
            13,
            17,
            18,
            15,
            8,
            6,
            12,
            7,
            3,
            11,
            14,
            4,
            4,
            1,
            16,
            20,
            19,
            9,
            10,
            2,
            5
           ],
           "name": "",
           "type": "choropleth",
           "z": [
            1,
            0,
            1,
            2,
            8,
            3,
            6,
            1,
            16,
            1,
            0,
            1,
            1,
            3,
            3,
            0,
            8,
            5,
            1,
            0,
            7
           ]
          }
         ],
         "name": "2020-08-20"
        },
        {
         "data": [
          {
           "coloraxis": "coloraxis",
           "featureidkey": "properties.reg_istat_code_num",
           "geo": "geo",
           "geojson": "https://raw.githubusercontent.com/openpolis/geojson-italy/master/geojson/limits_IT_regions.geojson",
           "hovertemplate": "Date=2020-08-21<br>Region=%{location}<br>ICU=%{z}<extra></extra>",
           "locations": [
            13,
            17,
            18,
            15,
            8,
            6,
            12,
            7,
            3,
            11,
            14,
            4,
            4,
            1,
            16,
            20,
            19,
            9,
            10,
            2,
            5
           ],
           "name": "",
           "type": "choropleth",
           "z": [
            1,
            0,
            1,
            2,
            8,
            2,
            6,
            1,
            17,
            1,
            0,
            1,
            1,
            4,
            4,
            0,
            8,
            5,
            1,
            0,
            6
           ]
          }
         ],
         "name": "2020-08-21"
        },
        {
         "data": [
          {
           "coloraxis": "coloraxis",
           "featureidkey": "properties.reg_istat_code_num",
           "geo": "geo",
           "geojson": "https://raw.githubusercontent.com/openpolis/geojson-italy/master/geojson/limits_IT_regions.geojson",
           "hovertemplate": "Date=2020-08-22<br>Region=%{location}<br>ICU=%{z}<extra></extra>",
           "locations": [
            13,
            17,
            18,
            15,
            8,
            6,
            12,
            7,
            3,
            11,
            14,
            4,
            4,
            1,
            16,
            20,
            19,
            9,
            10,
            2,
            5
           ],
           "name": "",
           "type": "choropleth",
           "z": [
            1,
            0,
            1,
            1,
            8,
            2,
            6,
            1,
            14,
            1,
            0,
            1,
            1,
            4,
            4,
            0,
            8,
            6,
            1,
            0,
            4
           ]
          }
         ],
         "name": "2020-08-22"
        },
        {
         "data": [
          {
           "coloraxis": "coloraxis",
           "featureidkey": "properties.reg_istat_code_num",
           "geo": "geo",
           "geojson": "https://raw.githubusercontent.com/openpolis/geojson-italy/master/geojson/limits_IT_regions.geojson",
           "hovertemplate": "Date=2020-08-23<br>Region=%{location}<br>ICU=%{z}<extra></extra>",
           "locations": [
            13,
            17,
            18,
            15,
            8,
            6,
            12,
            7,
            3,
            11,
            14,
            4,
            4,
            1,
            16,
            20,
            19,
            9,
            10,
            2,
            5
           ],
           "name": "",
           "type": "choropleth",
           "z": [
            1,
            0,
            1,
            2,
            8,
            2,
            6,
            1,
            14,
            1,
            0,
            1,
            1,
            5,
            4,
            0,
            10,
            7,
            1,
            0,
            4
           ]
          }
         ],
         "name": "2020-08-23"
        },
        {
         "data": [
          {
           "coloraxis": "coloraxis",
           "featureidkey": "properties.reg_istat_code_num",
           "geo": "geo",
           "geojson": "https://raw.githubusercontent.com/openpolis/geojson-italy/master/geojson/limits_IT_regions.geojson",
           "hovertemplate": "Date=2020-08-24<br>Region=%{location}<br>ICU=%{z}<extra></extra>",
           "locations": [
            13,
            17,
            18,
            15,
            8,
            6,
            12,
            7,
            3,
            11,
            14,
            4,
            4,
            1,
            16,
            20,
            19,
            9,
            10,
            2,
            5
           ],
           "name": "",
           "type": "choropleth",
           "z": [
            1,
            0,
            1,
            2,
            8,
            2,
            6,
            0,
            15,
            0,
            0,
            1,
            1,
            5,
            4,
            0,
            9,
            5,
            1,
            0,
            4
           ]
          }
         ],
         "name": "2020-08-24"
        },
        {
         "data": [
          {
           "coloraxis": "coloraxis",
           "featureidkey": "properties.reg_istat_code_num",
           "geo": "geo",
           "geojson": "https://raw.githubusercontent.com/openpolis/geojson-italy/master/geojson/limits_IT_regions.geojson",
           "hovertemplate": "Date=2020-08-25<br>Region=%{location}<br>ICU=%{z}<extra></extra>",
           "locations": [
            13,
            17,
            18,
            15,
            8,
            6,
            12,
            7,
            3,
            11,
            14,
            4,
            4,
            1,
            16,
            20,
            19,
            9,
            10,
            2,
            5
           ],
           "name": "",
           "type": "choropleth",
           "z": [
            1,
            0,
            1,
            3,
            5,
            2,
            6,
            0,
            15,
            0,
            0,
            1,
            1,
            6,
            4,
            0,
            10,
            5,
            1,
            0,
            5
           ]
          }
         ],
         "name": "2020-08-25"
        },
        {
         "data": [
          {
           "coloraxis": "coloraxis",
           "featureidkey": "properties.reg_istat_code_num",
           "geo": "geo",
           "geojson": "https://raw.githubusercontent.com/openpolis/geojson-italy/master/geojson/limits_IT_regions.geojson",
           "hovertemplate": "Date=2020-08-26<br>Region=%{location}<br>ICU=%{z}<extra></extra>",
           "locations": [
            13,
            17,
            18,
            15,
            8,
            6,
            12,
            7,
            3,
            11,
            14,
            4,
            4,
            1,
            16,
            20,
            19,
            9,
            10,
            2,
            5
           ],
           "name": "",
           "type": "choropleth",
           "z": [
            1,
            0,
            0,
            3,
            6,
            0,
            6,
            0,
            17,
            0,
            0,
            1,
            1,
            6,
            4,
            1,
            10,
            6,
            1,
            0,
            6
           ]
          }
         ],
         "name": "2020-08-26"
        },
        {
         "data": [
          {
           "coloraxis": "coloraxis",
           "featureidkey": "properties.reg_istat_code_num",
           "geo": "geo",
           "geojson": "https://raw.githubusercontent.com/openpolis/geojson-italy/master/geojson/limits_IT_regions.geojson",
           "hovertemplate": "Date=2020-08-27<br>Region=%{location}<br>ICU=%{z}<extra></extra>",
           "locations": [
            13,
            17,
            18,
            15,
            8,
            6,
            12,
            7,
            3,
            11,
            14,
            4,
            4,
            1,
            16,
            20,
            19,
            9,
            10,
            2,
            5
           ],
           "name": "",
           "type": "choropleth",
           "z": [
            1,
            0,
            0,
            4,
            8,
            0,
            6,
            0,
            14,
            0,
            0,
            1,
            1,
            6,
            3,
            2,
            10,
            5,
            1,
            0,
            5
           ]
          }
         ],
         "name": "2020-08-27"
        },
        {
         "data": [
          {
           "coloraxis": "coloraxis",
           "featureidkey": "properties.reg_istat_code_num",
           "geo": "geo",
           "geojson": "https://raw.githubusercontent.com/openpolis/geojson-italy/master/geojson/limits_IT_regions.geojson",
           "hovertemplate": "Date=2020-08-28<br>Region=%{location}<br>ICU=%{z}<extra></extra>",
           "locations": [
            13,
            17,
            18,
            15,
            8,
            6,
            12,
            7,
            3,
            11,
            14,
            4,
            4,
            1,
            16,
            20,
            19,
            9,
            10,
            2,
            5
           ],
           "name": "",
           "type": "choropleth",
           "z": [
            1,
            1,
            0,
            5,
            9,
            0,
            6,
            0,
            17,
            1,
            0,
            1,
            1,
            6,
            5,
            2,
            9,
            4,
            0,
            0,
            6
           ]
          }
         ],
         "name": "2020-08-28"
        },
        {
         "data": [
          {
           "coloraxis": "coloraxis",
           "featureidkey": "properties.reg_istat_code_num",
           "geo": "geo",
           "geojson": "https://raw.githubusercontent.com/openpolis/geojson-italy/master/geojson/limits_IT_regions.geojson",
           "hovertemplate": "Date=2020-08-29<br>Region=%{location}<br>ICU=%{z}<extra></extra>",
           "locations": [
            13,
            17,
            18,
            15,
            8,
            6,
            12,
            7,
            3,
            11,
            14,
            4,
            4,
            1,
            16,
            20,
            19,
            9,
            10,
            2,
            5
           ],
           "name": "",
           "type": "choropleth",
           "z": [
            1,
            1,
            0,
            2,
            10,
            0,
            8,
            1,
            18,
            1,
            0,
            2,
            1,
            5,
            5,
            2,
            10,
            5,
            1,
            0,
            6
           ]
          }
         ],
         "name": "2020-08-29"
        },
        {
         "data": [
          {
           "coloraxis": "coloraxis",
           "featureidkey": "properties.reg_istat_code_num",
           "geo": "geo",
           "geojson": "https://raw.githubusercontent.com/openpolis/geojson-italy/master/geojson/limits_IT_regions.geojson",
           "hovertemplate": "Date=2020-08-30<br>Region=%{location}<br>ICU=%{z}<extra></extra>",
           "locations": [
            13,
            17,
            18,
            15,
            8,
            6,
            12,
            7,
            3,
            11,
            14,
            4,
            4,
            1,
            16,
            20,
            19,
            9,
            10,
            2,
            5
           ],
           "name": "",
           "type": "choropleth",
           "z": [
            1,
            1,
            0,
            4,
            11,
            1,
            7,
            1,
            20,
            1,
            0,
            2,
            1,
            5,
            5,
            3,
            10,
            5,
            1,
            0,
            7
           ]
          }
         ],
         "name": "2020-08-30"
        },
        {
         "data": [
          {
           "coloraxis": "coloraxis",
           "featureidkey": "properties.reg_istat_code_num",
           "geo": "geo",
           "geojson": "https://raw.githubusercontent.com/openpolis/geojson-italy/master/geojson/limits_IT_regions.geojson",
           "hovertemplate": "Date=2020-08-31<br>Region=%{location}<br>ICU=%{z}<extra></extra>",
           "locations": [
            13,
            17,
            18,
            15,
            8,
            6,
            12,
            7,
            3,
            11,
            14,
            4,
            4,
            1,
            16,
            20,
            19,
            9,
            10,
            2,
            5
           ],
           "name": "",
           "type": "choropleth",
           "z": [
            1,
            1,
            0,
            1,
            9,
            2,
            7,
            1,
            22,
            1,
            0,
            2,
            1,
            7,
            7,
            4,
            10,
            8,
            2,
            0,
            8
           ]
          }
         ],
         "name": "2020-08-31"
        },
        {
         "data": [
          {
           "coloraxis": "coloraxis",
           "featureidkey": "properties.reg_istat_code_num",
           "geo": "geo",
           "geojson": "https://raw.githubusercontent.com/openpolis/geojson-italy/master/geojson/limits_IT_regions.geojson",
           "hovertemplate": "Date=2020-09-01<br>Region=%{location}<br>ICU=%{z}<extra></extra>",
           "locations": [
            13,
            17,
            18,
            15,
            8,
            6,
            12,
            7,
            3,
            11,
            14,
            4,
            4,
            1,
            16,
            20,
            19,
            9,
            10,
            2,
            5
           ],
           "name": "",
           "type": "choropleth",
           "z": [
            1,
            1,
            0,
            6,
            9,
            2,
            8,
            5,
            21,
            1,
            0,
            2,
            1,
            7,
            7,
            6,
            10,
            9,
            2,
            0,
            9
           ]
          }
         ],
         "name": "2020-09-01"
        },
        {
         "data": [
          {
           "coloraxis": "coloraxis",
           "featureidkey": "properties.reg_istat_code_num",
           "geo": "geo",
           "geojson": "https://raw.githubusercontent.com/openpolis/geojson-italy/master/geojson/limits_IT_regions.geojson",
           "hovertemplate": "Date=2020-09-02<br>Region=%{location}<br>ICU=%{z}<extra></extra>",
           "locations": [
            13,
            17,
            18,
            15,
            8,
            6,
            12,
            7,
            3,
            11,
            14,
            4,
            4,
            1,
            16,
            20,
            19,
            9,
            10,
            2,
            5
           ],
           "name": "",
           "type": "choropleth",
           "z": [
            1,
            1,
            0,
            4,
            10,
            3,
            9,
            6,
            22,
            1,
            0,
            2,
            1,
            7,
            6,
            5,
            12,
            8,
            2,
            0,
            9
           ]
          }
         ],
         "name": "2020-09-02"
        },
        {
         "data": [
          {
           "coloraxis": "coloraxis",
           "featureidkey": "properties.reg_istat_code_num",
           "geo": "geo",
           "geojson": "https://raw.githubusercontent.com/openpolis/geojson-italy/master/geojson/limits_IT_regions.geojson",
           "hovertemplate": "Date=2020-09-03<br>Region=%{location}<br>ICU=%{z}<extra></extra>",
           "locations": [
            13,
            17,
            18,
            15,
            8,
            6,
            12,
            7,
            3,
            11,
            14,
            4,
            4,
            1,
            16,
            20,
            19,
            9,
            10,
            2,
            5
           ],
           "name": "",
           "type": "choropleth",
           "z": [
            1,
            1,
            1,
            4,
            11,
            3,
            9,
            7,
            27,
            1,
            0,
            2,
            1,
            7,
            6,
            6,
            12,
            7,
            2,
            0,
            12
           ]
          }
         ],
         "name": "2020-09-03"
        },
        {
         "data": [
          {
           "coloraxis": "coloraxis",
           "featureidkey": "properties.reg_istat_code_num",
           "geo": "geo",
           "geojson": "https://raw.githubusercontent.com/openpolis/geojson-italy/master/geojson/limits_IT_regions.geojson",
           "hovertemplate": "Date=2020-09-04<br>Region=%{location}<br>ICU=%{z}<extra></extra>",
           "locations": [
            13,
            17,
            18,
            15,
            8,
            6,
            12,
            7,
            3,
            11,
            14,
            4,
            4,
            1,
            16,
            20,
            19,
            9,
            10,
            2,
            5
           ],
           "name": "",
           "type": "choropleth",
           "z": [
            1,
            1,
            1,
            5,
            13,
            4,
            9,
            6,
            26,
            1,
            0,
            2,
            0,
            7,
            7,
            6,
            11,
            8,
            3,
            0,
            10
           ]
          }
         ],
         "name": "2020-09-04"
        },
        {
         "data": [
          {
           "coloraxis": "coloraxis",
           "featureidkey": "properties.reg_istat_code_num",
           "geo": "geo",
           "geojson": "https://raw.githubusercontent.com/openpolis/geojson-italy/master/geojson/limits_IT_regions.geojson",
           "hovertemplate": "Date=2020-09-05<br>Region=%{location}<br>ICU=%{z}<extra></extra>",
           "locations": [
            13,
            17,
            18,
            15,
            8,
            6,
            12,
            7,
            3,
            11,
            14,
            4,
            4,
            1,
            16,
            20,
            19,
            9,
            10,
            2,
            5
           ],
           "name": "",
           "type": "choropleth",
           "z": [
            2,
            1,
            0,
            6,
            12,
            3,
            11,
            7,
            23,
            1,
            0,
            2,
            0,
            7,
            7,
            8,
            12,
            8,
            2,
            0,
            9
           ]
          }
         ],
         "name": "2020-09-05"
        },
        {
         "data": [
          {
           "coloraxis": "coloraxis",
           "featureidkey": "properties.reg_istat_code_num",
           "geo": "geo",
           "geojson": "https://raw.githubusercontent.com/openpolis/geojson-italy/master/geojson/limits_IT_regions.geojson",
           "hovertemplate": "Date=2020-09-06<br>Region=%{location}<br>ICU=%{z}<extra></extra>",
           "locations": [
            13,
            17,
            18,
            15,
            8,
            6,
            12,
            7,
            3,
            11,
            14,
            4,
            4,
            1,
            16,
            20,
            19,
            9,
            10,
            2,
            5
           ],
           "name": "",
           "type": "choropleth",
           "z": [
            2,
            1,
            0,
            7,
            14,
            4,
            10,
            9,
            25,
            1,
            0,
            2,
            0,
            8,
            7,
            8,
            13,
            8,
            2,
            0,
            12
           ]
          }
         ],
         "name": "2020-09-06"
        },
        {
         "data": [
          {
           "coloraxis": "coloraxis",
           "featureidkey": "properties.reg_istat_code_num",
           "geo": "geo",
           "geojson": "https://raw.githubusercontent.com/openpolis/geojson-italy/master/geojson/limits_IT_regions.geojson",
           "hovertemplate": "Date=2020-09-07<br>Region=%{location}<br>ICU=%{z}<extra></extra>",
           "locations": [
            13,
            17,
            18,
            15,
            8,
            6,
            12,
            7,
            3,
            11,
            14,
            4,
            4,
            1,
            16,
            20,
            19,
            9,
            10,
            2,
            5
           ],
           "name": "",
           "type": "choropleth",
           "z": [
            2,
            1,
            1,
            7,
            18,
            4,
            9,
            10,
            26,
            1,
            0,
            2,
            0,
            8,
            6,
            10,
            13,
            9,
            2,
            0,
            13
           ]
          }
         ],
         "name": "2020-09-07"
        },
        {
         "data": [
          {
           "coloraxis": "coloraxis",
           "featureidkey": "properties.reg_istat_code_num",
           "geo": "geo",
           "geojson": "https://raw.githubusercontent.com/openpolis/geojson-italy/master/geojson/limits_IT_regions.geojson",
           "hovertemplate": "Date=2020-09-08<br>Region=%{location}<br>ICU=%{z}<extra></extra>",
           "locations": [
            13,
            17,
            18,
            15,
            8,
            6,
            12,
            7,
            3,
            11,
            14,
            4,
            4,
            1,
            16,
            20,
            19,
            9,
            10,
            2,
            5
           ],
           "name": "",
           "type": "choropleth",
           "z": [
            2,
            1,
            1,
            9,
            16,
            4,
            9,
            11,
            27,
            1,
            0,
            0,
            0,
            9,
            7,
            10,
            13,
            9,
            2,
            0,
            12
           ]
          }
         ],
         "name": "2020-09-08"
        },
        {
         "data": [
          {
           "coloraxis": "coloraxis",
           "featureidkey": "properties.reg_istat_code_num",
           "geo": "geo",
           "geojson": "https://raw.githubusercontent.com/openpolis/geojson-italy/master/geojson/limits_IT_regions.geojson",
           "hovertemplate": "Date=2020-09-09<br>Region=%{location}<br>ICU=%{z}<extra></extra>",
           "locations": [
            13,
            17,
            18,
            15,
            8,
            6,
            12,
            7,
            3,
            11,
            14,
            4,
            4,
            1,
            16,
            20,
            19,
            9,
            10,
            2,
            5
           ],
           "name": "",
           "type": "choropleth",
           "z": [
            2,
            1,
            2,
            10,
            16,
            3,
            9,
            11,
            27,
            2,
            0,
            0,
            0,
            9,
            6,
            12,
            15,
            11,
            2,
            0,
            12
           ]
          }
         ],
         "name": "2020-09-09"
        },
        {
         "data": [
          {
           "coloraxis": "coloraxis",
           "featureidkey": "properties.reg_istat_code_num",
           "geo": "geo",
           "geojson": "https://raw.githubusercontent.com/openpolis/geojson-italy/master/geojson/limits_IT_regions.geojson",
           "hovertemplate": "Date=2020-09-10<br>Region=%{location}<br>ICU=%{z}<extra></extra>",
           "locations": [
            13,
            17,
            18,
            15,
            8,
            6,
            12,
            7,
            3,
            11,
            14,
            4,
            4,
            1,
            16,
            20,
            19,
            9,
            10,
            2,
            5
           ],
           "name": "",
           "type": "choropleth",
           "z": [
            3,
            1,
            3,
            10,
            17,
            3,
            9,
            11,
            30,
            2,
            0,
            0,
            0,
            9,
            8,
            12,
            18,
            13,
            3,
            0,
            12
           ]
          }
         ],
         "name": "2020-09-10"
        },
        {
         "data": [
          {
           "coloraxis": "coloraxis",
           "featureidkey": "properties.reg_istat_code_num",
           "geo": "geo",
           "geojson": "https://raw.githubusercontent.com/openpolis/geojson-italy/master/geojson/limits_IT_regions.geojson",
           "hovertemplate": "Date=2020-09-11<br>Region=%{location}<br>ICU=%{z}<extra></extra>",
           "locations": [
            13,
            17,
            18,
            15,
            8,
            6,
            12,
            7,
            3,
            11,
            14,
            4,
            4,
            1,
            16,
            20,
            19,
            9,
            10,
            2,
            5
           ],
           "name": "",
           "type": "choropleth",
           "z": [
            4,
            1,
            3,
            13,
            18,
            3,
            14,
            12,
            27,
            2,
            0,
            0,
            0,
            9,
            8,
            12,
            17,
            17,
            4,
            0,
            11
           ]
          }
         ],
         "name": "2020-09-11"
        },
        {
         "data": [
          {
           "coloraxis": "coloraxis",
           "featureidkey": "properties.reg_istat_code_num",
           "geo": "geo",
           "geojson": "https://raw.githubusercontent.com/openpolis/geojson-italy/master/geojson/limits_IT_regions.geojson",
           "hovertemplate": "Date=2020-09-12<br>Region=%{location}<br>ICU=%{z}<extra></extra>",
           "locations": [
            13,
            17,
            18,
            15,
            8,
            6,
            12,
            7,
            3,
            11,
            14,
            4,
            4,
            1,
            16,
            20,
            19,
            9,
            10,
            2,
            5
           ],
           "name": "",
           "type": "choropleth",
           "z": [
            3,
            1,
            3,
            17,
            17,
            2,
            16,
            11,
            27,
            2,
            0,
            0,
            0,
            9,
            8,
            14,
            18,
            18,
            4,
            0,
            12
           ]
          }
         ],
         "name": "2020-09-12"
        },
        {
         "data": [
          {
           "coloraxis": "coloraxis",
           "featureidkey": "properties.reg_istat_code_num",
           "geo": "geo",
           "geojson": "https://raw.githubusercontent.com/openpolis/geojson-italy/master/geojson/limits_IT_regions.geojson",
           "hovertemplate": "Date=2020-09-13<br>Region=%{location}<br>ICU=%{z}<extra></extra>",
           "locations": [
            13,
            17,
            18,
            15,
            8,
            6,
            12,
            7,
            3,
            11,
            14,
            4,
            4,
            1,
            16,
            20,
            19,
            9,
            10,
            2,
            5
           ],
           "name": "",
           "type": "choropleth",
           "z": [
            3,
            1,
            3,
            19,
            17,
            2,
            17,
            11,
            28,
            2,
            1,
            0,
            0,
            8,
            9,
            14,
            17,
            17,
            4,
            0,
            14
           ]
          }
         ],
         "name": "2020-09-13"
        },
        {
         "data": [
          {
           "coloraxis": "coloraxis",
           "featureidkey": "properties.reg_istat_code_num",
           "geo": "geo",
           "geojson": "https://raw.githubusercontent.com/openpolis/geojson-italy/master/geojson/limits_IT_regions.geojson",
           "hovertemplate": "Date=2020-09-14<br>Region=%{location}<br>ICU=%{z}<extra></extra>",
           "locations": [
            13,
            17,
            18,
            15,
            8,
            6,
            12,
            7,
            3,
            11,
            14,
            4,
            4,
            1,
            16,
            20,
            19,
            9,
            10,
            2,
            5
           ],
           "name": "",
           "type": "choropleth",
           "z": [
            4,
            1,
            2,
            19,
            18,
            3,
            17,
            12,
            28,
            2,
            1,
            0,
            0,
            9,
            11,
            16,
            16,
            18,
            5,
            1,
            14
           ]
          }
         ],
         "name": "2020-09-14"
        },
        {
         "data": [
          {
           "coloraxis": "coloraxis",
           "featureidkey": "properties.reg_istat_code_num",
           "geo": "geo",
           "geojson": "https://raw.githubusercontent.com/openpolis/geojson-italy/master/geojson/limits_IT_regions.geojson",
           "hovertemplate": "Date=2020-09-15<br>Region=%{location}<br>ICU=%{z}<extra></extra>",
           "locations": [
            13,
            17,
            18,
            15,
            8,
            6,
            12,
            7,
            3,
            11,
            14,
            4,
            4,
            1,
            16,
            20,
            19,
            9,
            10,
            2,
            5
           ],
           "name": "",
           "type": "choropleth",
           "z": [
            4,
            1,
            2,
            18,
            17,
            2,
            18,
            12,
            29,
            2,
            1,
            1,
            0,
            8,
            13,
            18,
            17,
            17,
            6,
            0,
            15
           ]
          }
         ],
         "name": "2020-09-15"
        },
        {
         "data": [
          {
           "coloraxis": "coloraxis",
           "featureidkey": "properties.reg_istat_code_num",
           "geo": "geo",
           "geojson": "https://raw.githubusercontent.com/openpolis/geojson-italy/master/geojson/limits_IT_regions.geojson",
           "hovertemplate": "Date=2020-09-16<br>Region=%{location}<br>ICU=%{z}<extra></extra>",
           "locations": [
            13,
            17,
            18,
            15,
            8,
            6,
            12,
            7,
            3,
            11,
            14,
            4,
            4,
            1,
            16,
            20,
            19,
            9,
            10,
            2,
            5
           ],
           "name": "",
           "type": "choropleth",
           "z": [
            5,
            1,
            2,
            19,
            19,
            3,
            18,
            13,
            30,
            2,
            1,
            2,
            0,
            6,
            14,
            17,
            16,
            20,
            5,
            0,
            14
           ]
          }
         ],
         "name": "2020-09-16"
        },
        {
         "data": [
          {
           "coloraxis": "coloraxis",
           "featureidkey": "properties.reg_istat_code_num",
           "geo": "geo",
           "geojson": "https://raw.githubusercontent.com/openpolis/geojson-italy/master/geojson/limits_IT_regions.geojson",
           "hovertemplate": "Date=2020-09-17<br>Region=%{location}<br>ICU=%{z}<extra></extra>",
           "locations": [
            13,
            17,
            18,
            15,
            8,
            6,
            12,
            7,
            3,
            11,
            14,
            4,
            4,
            1,
            16,
            20,
            19,
            9,
            10,
            2,
            5
           ],
           "name": "",
           "type": "choropleth",
           "z": [
            5,
            1,
            4,
            21,
            21,
            4,
            16,
            15,
            32,
            2,
            1,
            2,
            0,
            6,
            14,
            17,
            14,
            20,
            5,
            0,
            12
           ]
          }
         ],
         "name": "2020-09-17"
        },
        {
         "data": [
          {
           "coloraxis": "coloraxis",
           "featureidkey": "properties.reg_istat_code_num",
           "geo": "geo",
           "geojson": "https://raw.githubusercontent.com/openpolis/geojson-italy/master/geojson/limits_IT_regions.geojson",
           "hovertemplate": "Date=2020-09-18<br>Region=%{location}<br>ICU=%{z}<extra></extra>",
           "locations": [
            13,
            17,
            18,
            15,
            8,
            6,
            12,
            7,
            3,
            11,
            14,
            4,
            4,
            1,
            16,
            20,
            19,
            9,
            10,
            2,
            5
           ],
           "name": "",
           "type": "choropleth",
           "z": [
            5,
            1,
            4,
            20,
            21,
            4,
            17,
            16,
            32,
            1,
            1,
            2,
            0,
            6,
            12,
            17,
            15,
            21,
            5,
            0,
            8
           ]
          }
         ],
         "name": "2020-09-18"
        },
        {
         "data": [
          {
           "coloraxis": "coloraxis",
           "featureidkey": "properties.reg_istat_code_num",
           "geo": "geo",
           "geojson": "https://raw.githubusercontent.com/openpolis/geojson-italy/master/geojson/limits_IT_regions.geojson",
           "hovertemplate": "Date=2020-09-19<br>Region=%{location}<br>ICU=%{z}<extra></extra>",
           "locations": [
            13,
            17,
            18,
            15,
            8,
            6,
            12,
            7,
            3,
            11,
            14,
            4,
            4,
            1,
            16,
            20,
            19,
            9,
            10,
            2,
            5
           ],
           "name": "",
           "type": "choropleth",
           "z": [
            5,
            1,
            4,
            19,
            19,
            3,
            22,
            16,
            36,
            2,
            1,
            2,
            0,
            6,
            13,
            18,
            13,
            21,
            4,
            0,
            10
           ]
          }
         ],
         "name": "2020-09-19"
        },
        {
         "data": [
          {
           "coloraxis": "coloraxis",
           "featureidkey": "properties.reg_istat_code_num",
           "geo": "geo",
           "geojson": "https://raw.githubusercontent.com/openpolis/geojson-italy/master/geojson/limits_IT_regions.geojson",
           "hovertemplate": "Date=2020-09-20<br>Region=%{location}<br>ICU=%{z}<extra></extra>",
           "locations": [
            13,
            17,
            18,
            15,
            8,
            6,
            12,
            7,
            3,
            11,
            14,
            4,
            4,
            1,
            16,
            20,
            19,
            9,
            10,
            2,
            5
           ],
           "name": "",
           "type": "choropleth",
           "z": [
            5,
            1,
            4,
            22,
            19,
            4,
            23,
            15,
            38,
            2,
            1,
            2,
            0,
            7,
            11,
            18,
            13,
            23,
            4,
            0,
            10
           ]
          }
         ],
         "name": "2020-09-20"
        },
        {
         "data": [
          {
           "coloraxis": "coloraxis",
           "featureidkey": "properties.reg_istat_code_num",
           "geo": "geo",
           "geojson": "https://raw.githubusercontent.com/openpolis/geojson-italy/master/geojson/limits_IT_regions.geojson",
           "hovertemplate": "Date=2020-09-21<br>Region=%{location}<br>ICU=%{z}<extra></extra>",
           "locations": [
            13,
            17,
            18,
            15,
            8,
            6,
            12,
            7,
            3,
            11,
            14,
            4,
            4,
            1,
            16,
            20,
            19,
            9,
            10,
            2,
            5
           ],
           "name": "",
           "type": "choropleth",
           "z": [
            5,
            1,
            4,
            21,
            23,
            5,
            27,
            15,
            36,
            2,
            1,
            1,
            0,
            7,
            11,
            20,
            14,
            23,
            4,
            0,
            12
           ]
          }
         ],
         "name": "2020-09-21"
        },
        {
         "data": [
          {
           "coloraxis": "coloraxis",
           "featureidkey": "properties.reg_istat_code_num",
           "geo": "geo",
           "geojson": "https://raw.githubusercontent.com/openpolis/geojson-italy/master/geojson/limits_IT_regions.geojson",
           "hovertemplate": "Date=2020-09-22<br>Region=%{location}<br>ICU=%{z}<extra></extra>",
           "locations": [
            13,
            17,
            18,
            15,
            8,
            6,
            12,
            7,
            3,
            11,
            14,
            4,
            4,
            1,
            16,
            20,
            19,
            9,
            10,
            2,
            5
           ],
           "name": "",
           "type": "choropleth",
           "z": [
            5,
            1,
            4,
            23,
            22,
            5,
            31,
            17,
            34,
            3,
            1,
            1,
            0,
            7,
            10,
            21,
            15,
            21,
            4,
            0,
            14
           ]
          }
         ],
         "name": "2020-09-22"
        },
        {
         "data": [
          {
           "coloraxis": "coloraxis",
           "featureidkey": "properties.reg_istat_code_num",
           "geo": "geo",
           "geojson": "https://raw.githubusercontent.com/openpolis/geojson-italy/master/geojson/limits_IT_regions.geojson",
           "hovertemplate": "Date=2020-09-23<br>Region=%{location}<br>ICU=%{z}<extra></extra>",
           "locations": [
            13,
            17,
            18,
            15,
            8,
            6,
            12,
            7,
            3,
            11,
            14,
            4,
            4,
            1,
            16,
            20,
            19,
            9,
            10,
            2,
            5
           ],
           "name": "",
           "type": "choropleth",
           "z": [
            4,
            1,
            4,
            22,
            20,
            6,
            32,
            18,
            33,
            4,
            1,
            1,
            0,
            8,
            10,
            21,
            16,
            24,
            3,
            0,
            16
           ]
          }
         ],
         "name": "2020-09-23"
        },
        {
         "data": [
          {
           "coloraxis": "coloraxis",
           "featureidkey": "properties.reg_istat_code_num",
           "geo": "geo",
           "geojson": "https://raw.githubusercontent.com/openpolis/geojson-italy/master/geojson/limits_IT_regions.geojson",
           "hovertemplate": "Date=2020-09-24<br>Region=%{location}<br>ICU=%{z}<extra></extra>",
           "locations": [
            13,
            17,
            18,
            15,
            8,
            6,
            12,
            7,
            3,
            11,
            14,
            4,
            4,
            1,
            16,
            20,
            19,
            9,
            10,
            2,
            5
           ],
           "name": "",
           "type": "choropleth",
           "z": [
            4,
            1,
            4,
            25,
            20,
            6,
            35,
            18,
            31,
            3,
            1,
            1,
            0,
            9,
            10,
            18,
            16,
            24,
            3,
            0,
            17
           ]
          }
         ],
         "name": "2020-09-24"
        },
        {
         "data": [
          {
           "coloraxis": "coloraxis",
           "featureidkey": "properties.reg_istat_code_num",
           "geo": "geo",
           "geojson": "https://raw.githubusercontent.com/openpolis/geojson-italy/master/geojson/limits_IT_regions.geojson",
           "hovertemplate": "Date=2020-09-25<br>Region=%{location}<br>ICU=%{z}<extra></extra>",
           "locations": [
            13,
            17,
            18,
            15,
            8,
            6,
            12,
            7,
            3,
            11,
            14,
            4,
            4,
            1,
            16,
            20,
            19,
            9,
            10,
            2,
            5
           ],
           "name": "",
           "type": "choropleth",
           "z": [
            5,
            1,
            3,
            27,
            18,
            6,
            36,
            17,
            30,
            2,
            1,
            1,
            0,
            9,
            10,
            19,
            13,
            24,
            3,
            0,
            19
           ]
          }
         ],
         "name": "2020-09-25"
        },
        {
         "data": [
          {
           "coloraxis": "coloraxis",
           "featureidkey": "properties.reg_istat_code_num",
           "geo": "geo",
           "geojson": "https://raw.githubusercontent.com/openpolis/geojson-italy/master/geojson/limits_IT_regions.geojson",
           "hovertemplate": "Date=2020-09-26<br>Region=%{location}<br>ICU=%{z}<extra></extra>",
           "locations": [
            13,
            17,
            18,
            15,
            8,
            6,
            12,
            7,
            3,
            11,
            14,
            4,
            4,
            1,
            16,
            20,
            19,
            9,
            10,
            2,
            5
           ],
           "name": "",
           "type": "choropleth",
           "z": [
            5,
            1,
            2,
            29,
            17,
            6,
            35,
            19,
            30,
            2,
            1,
            0,
            0,
            10,
            11,
            18,
            13,
            24,
            3,
            0,
            21
           ]
          }
         ],
         "name": "2020-09-26"
        },
        {
         "data": [
          {
           "coloraxis": "coloraxis",
           "featureidkey": "properties.reg_istat_code_num",
           "geo": "geo",
           "geojson": "https://raw.githubusercontent.com/openpolis/geojson-italy/master/geojson/limits_IT_regions.geojson",
           "hovertemplate": "Date=2020-09-27<br>Region=%{location}<br>ICU=%{z}<extra></extra>",
           "locations": [
            13,
            17,
            18,
            15,
            8,
            6,
            12,
            7,
            3,
            11,
            14,
            4,
            4,
            1,
            16,
            20,
            19,
            9,
            10,
            2,
            5
           ],
           "name": "",
           "type": "choropleth",
           "z": [
            5,
            1,
            2,
            30,
            15,
            6,
            38,
            22,
            31,
            2,
            1,
            0,
            0,
            10,
            12,
            18,
            14,
            23,
            3,
            0,
            21
           ]
          }
         ],
         "name": "2020-09-27"
        },
        {
         "data": [
          {
           "coloraxis": "coloraxis",
           "featureidkey": "properties.reg_istat_code_num",
           "geo": "geo",
           "geojson": "https://raw.githubusercontent.com/openpolis/geojson-italy/master/geojson/limits_IT_regions.geojson",
           "hovertemplate": "Date=2020-09-28<br>Region=%{location}<br>ICU=%{z}<extra></extra>",
           "locations": [
            13,
            17,
            18,
            15,
            8,
            6,
            12,
            7,
            3,
            11,
            14,
            4,
            4,
            1,
            16,
            20,
            19,
            9,
            10,
            2,
            5
           ],
           "name": "",
           "type": "choropleth",
           "z": [
            4,
            1,
            2,
            30,
            15,
            6,
            41,
            24,
            31,
            4,
            1,
            0,
            0,
            12,
            15,
            17,
            15,
            22,
            3,
            0,
            21
           ]
          }
         ],
         "name": "2020-09-28"
        },
        {
         "data": [
          {
           "coloraxis": "coloraxis",
           "featureidkey": "properties.reg_istat_code_num",
           "geo": "geo",
           "geojson": "https://raw.githubusercontent.com/openpolis/geojson-italy/master/geojson/limits_IT_regions.geojson",
           "hovertemplate": "Date=2020-09-29<br>Region=%{location}<br>ICU=%{z}<extra></extra>",
           "locations": [
            13,
            17,
            18,
            15,
            8,
            6,
            12,
            7,
            3,
            11,
            14,
            4,
            4,
            1,
            16,
            20,
            19,
            9,
            10,
            2,
            5
           ],
           "name": "",
           "type": "choropleth",
           "z": [
            4,
            1,
            2,
            35,
            14,
            6,
            45,
            22,
            33,
            3,
            1,
            0,
            0,
            12,
            14,
            19,
            16,
            20,
            3,
            0,
            21
           ]
          }
         ],
         "name": "2020-09-29"
        },
        {
         "data": [
          {
           "coloraxis": "coloraxis",
           "featureidkey": "properties.reg_istat_code_num",
           "geo": "geo",
           "geojson": "https://raw.githubusercontent.com/openpolis/geojson-italy/master/geojson/limits_IT_regions.geojson",
           "hovertemplate": "Date=2020-09-30<br>Region=%{location}<br>ICU=%{z}<extra></extra>",
           "locations": [
            13,
            17,
            18,
            15,
            8,
            6,
            12,
            7,
            3,
            11,
            14,
            4,
            4,
            1,
            16,
            20,
            19,
            9,
            10,
            2,
            5
           ],
           "name": "",
           "type": "choropleth",
           "z": [
            5,
            2,
            2,
            39,
            14,
            6,
            47,
            22,
            34,
            2,
            0,
            0,
            0,
            12,
            11,
            19,
            19,
            22,
            3,
            0,
            21
           ]
          }
         ],
         "name": "2020-09-30"
        },
        {
         "data": [
          {
           "coloraxis": "coloraxis",
           "featureidkey": "properties.reg_istat_code_num",
           "geo": "geo",
           "geojson": "https://raw.githubusercontent.com/openpolis/geojson-italy/master/geojson/limits_IT_regions.geojson",
           "hovertemplate": "Date=2020-10-01<br>Region=%{location}<br>ICU=%{z}<extra></extra>",
           "locations": [
            13,
            17,
            18,
            15,
            8,
            6,
            12,
            7,
            3,
            11,
            14,
            4,
            4,
            1,
            16,
            20,
            19,
            9,
            10,
            2,
            5
           ],
           "name": "",
           "type": "choropleth",
           "z": [
            5,
            2,
            2,
            38,
            14,
            4,
            49,
            21,
            35,
            6,
            0,
            0,
            0,
            12,
            14,
            20,
            20,
            22,
            3,
            0,
            24
           ]
          }
         ],
         "name": "2020-10-01"
        },
        {
         "data": [
          {
           "coloraxis": "coloraxis",
           "featureidkey": "properties.reg_istat_code_num",
           "geo": "geo",
           "geojson": "https://raw.githubusercontent.com/openpolis/geojson-italy/master/geojson/limits_IT_regions.geojson",
           "hovertemplate": "Date=2020-10-02<br>Region=%{location}<br>ICU=%{z}<extra></extra>",
           "locations": [
            13,
            17,
            18,
            15,
            8,
            6,
            12,
            7,
            3,
            11,
            14,
            4,
            4,
            1,
            16,
            20,
            19,
            9,
            10,
            2,
            5
           ],
           "name": "",
           "type": "choropleth",
           "z": [
            6,
            2,
            1,
            39,
            11,
            2,
            49,
            23,
            39,
            4,
            0,
            0,
            0,
            13,
            13,
            21,
            21,
            24,
            4,
            0,
            22
           ]
          }
         ],
         "name": "2020-10-02"
        },
        {
         "data": [
          {
           "coloraxis": "coloraxis",
           "featureidkey": "properties.reg_istat_code_num",
           "geo": "geo",
           "geojson": "https://raw.githubusercontent.com/openpolis/geojson-italy/master/geojson/limits_IT_regions.geojson",
           "hovertemplate": "Date=2020-10-03<br>Region=%{location}<br>ICU=%{z}<extra></extra>",
           "locations": [
            13,
            17,
            18,
            15,
            8,
            6,
            12,
            7,
            3,
            11,
            14,
            4,
            4,
            1,
            16,
            20,
            19,
            9,
            10,
            2,
            5
           ],
           "name": "",
           "type": "choropleth",
           "z": [
            6,
            2,
            2,
            40,
            11,
            5,
            47,
            21,
            42,
            6,
            0,
            0,
            0,
            12,
            12,
            21,
            20,
            24,
            5,
            0,
            21
           ]
          }
         ],
         "name": "2020-10-03"
        },
        {
         "data": [
          {
           "coloraxis": "coloraxis",
           "featureidkey": "properties.reg_istat_code_num",
           "geo": "geo",
           "geojson": "https://raw.githubusercontent.com/openpolis/geojson-italy/master/geojson/limits_IT_regions.geojson",
           "hovertemplate": "Date=2020-10-04<br>Region=%{location}<br>ICU=%{z}<extra></extra>",
           "locations": [
            13,
            17,
            18,
            15,
            8,
            6,
            12,
            7,
            3,
            11,
            14,
            4,
            4,
            1,
            16,
            20,
            19,
            9,
            10,
            2,
            5
           ],
           "name": "",
           "type": "choropleth",
           "z": [
            6,
            2,
            2,
            41,
            11,
            5,
            48,
            23,
            39,
            6,
            0,
            0,
            0,
            13,
            13,
            20,
            24,
            26,
            4,
            0,
            20
           ]
          }
         ],
         "name": "2020-10-04"
        },
        {
         "data": [
          {
           "coloraxis": "coloraxis",
           "featureidkey": "properties.reg_istat_code_num",
           "geo": "geo",
           "geojson": "https://raw.githubusercontent.com/openpolis/geojson-italy/master/geojson/limits_IT_regions.geojson",
           "hovertemplate": "Date=2020-10-05<br>Region=%{location}<br>ICU=%{z}<extra></extra>",
           "locations": [
            13,
            17,
            18,
            15,
            8,
            6,
            12,
            7,
            3,
            11,
            14,
            4,
            4,
            1,
            16,
            20,
            19,
            9,
            10,
            2,
            5
           ],
           "name": "",
           "type": "choropleth",
           "z": [
            7,
            2,
            2,
            43,
            11,
            5,
            48,
            24,
            41,
            6,
            0,
            0,
            0,
            15,
            14,
            19,
            28,
            32,
            5,
            1,
            20
           ]
          }
         ],
         "name": "2020-10-05"
        },
        {
         "data": [
          {
           "coloraxis": "coloraxis",
           "featureidkey": "properties.reg_istat_code_num",
           "geo": "geo",
           "geojson": "https://raw.githubusercontent.com/openpolis/geojson-italy/master/geojson/limits_IT_regions.geojson",
           "hovertemplate": "Date=2020-10-06<br>Region=%{location}<br>ICU=%{z}<extra></extra>",
           "locations": [
            13,
            17,
            18,
            15,
            8,
            6,
            12,
            7,
            3,
            11,
            14,
            4,
            4,
            1,
            16,
            20,
            19,
            9,
            10,
            2,
            5
           ],
           "name": "",
           "type": "choropleth",
           "z": [
            6,
            2,
            1,
            47,
            13,
            5,
            44,
            23,
            40,
            6,
            0,
            0,
            0,
            15,
            21,
            19,
            28,
            28,
            5,
            1,
            15
           ]
          }
         ],
         "name": "2020-10-06"
        },
        {
         "data": [
          {
           "coloraxis": "coloraxis",
           "featureidkey": "properties.reg_istat_code_num",
           "geo": "geo",
           "geojson": "https://raw.githubusercontent.com/openpolis/geojson-italy/master/geojson/limits_IT_regions.geojson",
           "hovertemplate": "Date=2020-10-07<br>Region=%{location}<br>ICU=%{z}<extra></extra>",
           "locations": [
            13,
            17,
            18,
            15,
            8,
            6,
            12,
            7,
            3,
            11,
            14,
            4,
            4,
            1,
            16,
            20,
            19,
            9,
            10,
            2,
            5
           ],
           "name": "",
           "type": "choropleth",
           "z": [
            6,
            0,
            1,
            52,
            14,
            6,
            48,
            24,
            40,
            5,
            0,
            1,
            0,
            15,
            23,
            19,
            30,
            28,
            8,
            1,
            16
           ]
          }
         ],
         "name": "2020-10-07"
        },
        {
         "data": [
          {
           "coloraxis": "coloraxis",
           "featureidkey": "properties.reg_istat_code_num",
           "geo": "geo",
           "geojson": "https://raw.githubusercontent.com/openpolis/geojson-italy/master/geojson/limits_IT_regions.geojson",
           "hovertemplate": "Date=2020-10-08<br>Region=%{location}<br>ICU=%{z}<extra></extra>",
           "locations": [
            13,
            17,
            18,
            15,
            8,
            6,
            12,
            7,
            3,
            11,
            14,
            4,
            4,
            1,
            16,
            20,
            19,
            9,
            10,
            2,
            5
           ],
           "name": "",
           "type": "choropleth",
           "z": [
            7,
            0,
            1,
            55,
            13,
            6,
            55,
            28,
            41,
            5,
            0,
            1,
            0,
            16,
            23,
            19,
            33,
            27,
            8,
            1,
            19
           ]
          }
         ],
         "name": "2020-10-08"
        },
        {
         "data": [
          {
           "coloraxis": "coloraxis",
           "featureidkey": "properties.reg_istat_code_num",
           "geo": "geo",
           "geojson": "https://raw.githubusercontent.com/openpolis/geojson-italy/master/geojson/limits_IT_regions.geojson",
           "hovertemplate": "Date=2020-10-09<br>Region=%{location}<br>ICU=%{z}<extra></extra>",
           "locations": [
            13,
            17,
            18,
            15,
            8,
            6,
            12,
            7,
            3,
            11,
            14,
            4,
            4,
            1,
            16,
            20,
            19,
            9,
            10,
            2,
            5
           ],
           "name": "",
           "type": "choropleth",
           "z": [
            7,
            0,
            1,
            63,
            14,
            6,
            57,
            26,
            44,
            3,
            0,
            2,
            0,
            22,
            23,
            23,
            35,
            30,
            8,
            2,
            21
           ]
          }
         ],
         "name": "2020-10-09"
        },
        {
         "data": [
          {
           "coloraxis": "coloraxis",
           "featureidkey": "properties.reg_istat_code_num",
           "geo": "geo",
           "geojson": "https://raw.githubusercontent.com/openpolis/geojson-italy/master/geojson/limits_IT_regions.geojson",
           "hovertemplate": "Date=2020-10-10<br>Region=%{location}<br>ICU=%{z}<extra></extra>",
           "locations": [
            13,
            17,
            18,
            15,
            8,
            6,
            12,
            7,
            3,
            11,
            14,
            4,
            4,
            1,
            16,
            20,
            19,
            9,
            10,
            2,
            5
           ],
           "name": "",
           "type": "choropleth",
           "z": [
            7,
            0,
            1,
            63,
            16,
            6,
            57,
            26,
            44,
            3,
            0,
            2,
            0,
            22,
            22,
            25,
            35,
            30,
            8,
            3,
            20
           ]
          }
         ],
         "name": "2020-10-10"
        },
        {
         "data": [
          {
           "coloraxis": "coloraxis",
           "featureidkey": "properties.reg_istat_code_num",
           "geo": "geo",
           "geojson": "https://raw.githubusercontent.com/openpolis/geojson-italy/master/geojson/limits_IT_regions.geojson",
           "hovertemplate": "Date=2020-10-11<br>Region=%{location}<br>ICU=%{z}<extra></extra>",
           "locations": [
            13,
            17,
            18,
            15,
            8,
            6,
            12,
            7,
            3,
            11,
            14,
            4,
            4,
            1,
            16,
            20,
            19,
            9,
            10,
            2,
            5
           ],
           "name": "",
           "type": "choropleth",
           "z": [
            8,
            0,
            1,
            61,
            23,
            5,
            69,
            26,
            48,
            6,
            0,
            1,
            0,
            24,
            21,
            22,
            38,
            31,
            9,
            3,
            24
           ]
          }
         ],
         "name": "2020-10-11"
        },
        {
         "data": [
          {
           "coloraxis": "coloraxis",
           "featureidkey": "properties.reg_istat_code_num",
           "geo": "geo",
           "geojson": "https://raw.githubusercontent.com/openpolis/geojson-italy/master/geojson/limits_IT_regions.geojson",
           "hovertemplate": "Date=2020-10-12<br>Region=%{location}<br>ICU=%{z}<extra></extra>",
           "locations": [
            13,
            17,
            18,
            15,
            8,
            6,
            12,
            7,
            3,
            11,
            14,
            4,
            4,
            1,
            16,
            20,
            19,
            9,
            10,
            2,
            5
           ],
           "name": "",
           "type": "choropleth",
           "z": [
            11,
            0,
            1,
            64,
            25,
            5,
            78,
            24,
            50,
            5,
            0,
            2,
            0,
            22,
            19,
            23,
            42,
            40,
            9,
            3,
            29
           ]
          }
         ],
         "name": "2020-10-12"
        },
        {
         "data": [
          {
           "coloraxis": "coloraxis",
           "featureidkey": "properties.reg_istat_code_num",
           "geo": "geo",
           "geojson": "https://raw.githubusercontent.com/openpolis/geojson-italy/master/geojson/limits_IT_regions.geojson",
           "hovertemplate": "Date=2020-10-13<br>Region=%{location}<br>ICU=%{z}<extra></extra>",
           "locations": [
            13,
            17,
            18,
            15,
            8,
            6,
            12,
            7,
            3,
            11,
            14,
            4,
            4,
            1,
            16,
            20,
            19,
            9,
            10,
            2,
            5
           ],
           "name": "",
           "type": "choropleth",
           "z": [
            15,
            0,
            1,
            62,
            31,
            10,
            83,
            27,
            62,
            6,
            0,
            3,
            0,
            30,
            23,
            26,
            44,
            44,
            11,
            3,
            33
           ]
          }
         ],
         "name": "2020-10-13"
        },
        {
         "data": [
          {
           "coloraxis": "coloraxis",
           "featureidkey": "properties.reg_istat_code_num",
           "geo": "geo",
           "geojson": "https://raw.githubusercontent.com/openpolis/geojson-italy/master/geojson/limits_IT_regions.geojson",
           "hovertemplate": "Date=2020-10-14<br>Region=%{location}<br>ICU=%{z}<extra></extra>",
           "locations": [
            13,
            17,
            18,
            15,
            8,
            6,
            12,
            7,
            3,
            11,
            14,
            4,
            4,
            1,
            16,
            20,
            19,
            9,
            10,
            2,
            5
           ],
           "name": "",
           "type": "choropleth",
           "z": [
            15,
            0,
            1,
            61,
            35,
            11,
            85,
            29,
            64,
            8,
            0,
            3,
            0,
            33,
            23,
            26,
            49,
            46,
            12,
            3,
            35
           ]
          }
         ],
         "name": "2020-10-14"
        },
        {
         "data": [
          {
           "coloraxis": "coloraxis",
           "featureidkey": "properties.reg_istat_code_num",
           "geo": "geo",
           "geojson": "https://raw.githubusercontent.com/openpolis/geojson-italy/master/geojson/limits_IT_regions.geojson",
           "hovertemplate": "Date=2020-10-15<br>Region=%{location}<br>ICU=%{z}<extra></extra>",
           "locations": [
            13,
            17,
            18,
            15,
            8,
            6,
            12,
            7,
            3,
            11,
            14,
            4,
            4,
            1,
            16,
            20,
            19,
            9,
            10,
            2,
            5
           ],
           "name": "",
           "type": "choropleth",
           "z": [
            10,
            0,
            3,
            66,
            49,
            11,
            90,
            26,
            72,
            9,
            0,
            3,
            0,
            40,
            26,
            28,
            52,
            46,
            12,
            3,
            40
           ]
          }
         ],
         "name": "2020-10-15"
        },
        {
         "data": [
          {
           "coloraxis": "coloraxis",
           "featureidkey": "properties.reg_istat_code_num",
           "geo": "geo",
           "geojson": "https://raw.githubusercontent.com/openpolis/geojson-italy/master/geojson/limits_IT_regions.geojson",
           "hovertemplate": "Date=2020-10-16<br>Region=%{location}<br>ICU=%{z}<extra></extra>",
           "locations": [
            13,
            17,
            18,
            15,
            8,
            6,
            12,
            7,
            3,
            11,
            14,
            4,
            4,
            1,
            16,
            20,
            19,
            9,
            10,
            2,
            5
           ],
           "name": "",
           "type": "choropleth",
           "z": [
            11,
            0,
            4,
            67,
            61,
            12,
            98,
            32,
            71,
            10,
            0,
            6,
            0,
            43,
            26,
            29,
            58,
            51,
            15,
            4,
            40
           ]
          }
         ],
         "name": "2020-10-16"
        },
        {
         "data": [
          {
           "coloraxis": "coloraxis",
           "featureidkey": "properties.reg_istat_code_num",
           "geo": "geo",
           "geojson": "https://raw.githubusercontent.com/openpolis/geojson-italy/master/geojson/limits_IT_regions.geojson",
           "hovertemplate": "Date=2020-10-17<br>Region=%{location}<br>ICU=%{z}<extra></extra>",
           "locations": [
            13,
            17,
            18,
            15,
            8,
            6,
            12,
            7,
            3,
            11,
            14,
            4,
            4,
            1,
            16,
            20,
            19,
            9,
            10,
            2,
            5
           ],
           "name": "",
           "type": "choropleth",
           "z": [
            13,
            0,
            5,
            75,
            65,
            13,
            98,
            38,
            96,
            10,
            0,
            6,
            0,
            51,
            33,
            30,
            61,
            50,
            16,
            2,
            43
           ]
          }
         ],
         "name": "2020-10-17"
        },
        {
         "data": [
          {
           "coloraxis": "coloraxis",
           "featureidkey": "properties.reg_istat_code_num",
           "geo": "geo",
           "geojson": "https://raw.githubusercontent.com/openpolis/geojson-italy/master/geojson/limits_IT_regions.geojson",
           "hovertemplate": "Date=2020-10-18<br>Region=%{location}<br>ICU=%{z}<extra></extra>",
           "locations": [
            13,
            17,
            18,
            15,
            8,
            6,
            12,
            7,
            3,
            11,
            14,
            4,
            4,
            1,
            16,
            20,
            19,
            9,
            10,
            2,
            5
           ],
           "name": "",
           "type": "choropleth",
           "z": [
            13,
            0,
            5,
            78,
            67,
            14,
            99,
            39,
            110,
            13,
            0,
            7,
            0,
            55,
            36,
            29,
            70,
            55,
            14,
            2,
            44
           ]
          }
         ],
         "name": "2020-10-18"
        },
        {
         "data": [
          {
           "coloraxis": "coloraxis",
           "featureidkey": "properties.reg_istat_code_num",
           "geo": "geo",
           "geojson": "https://raw.githubusercontent.com/openpolis/geojson-italy/master/geojson/limits_IT_regions.geojson",
           "hovertemplate": "Date=2020-10-19<br>Region=%{location}<br>ICU=%{z}<extra></extra>",
           "locations": [
            13,
            17,
            18,
            15,
            8,
            6,
            12,
            7,
            3,
            11,
            14,
            4,
            4,
            1,
            16,
            20,
            19,
            9,
            10,
            2,
            5
           ],
           "name": "",
           "type": "choropleth",
           "z": [
            13,
            1,
            5,
            85,
            70,
            13,
            111,
            34,
            113,
            16,
            0,
            7,
            0,
            61,
            38,
            33,
            72,
            62,
            15,
            4,
            44
           ]
          }
         ],
         "name": "2020-10-19"
        },
        {
         "data": [
          {
           "coloraxis": "coloraxis",
           "featureidkey": "properties.reg_istat_code_num",
           "geo": "geo",
           "geojson": "https://raw.githubusercontent.com/openpolis/geojson-italy/master/geojson/limits_IT_regions.geojson",
           "hovertemplate": "Date=2020-10-20<br>Region=%{location}<br>ICU=%{z}<extra></extra>",
           "locations": [
            13,
            17,
            18,
            15,
            8,
            6,
            12,
            7,
            3,
            11,
            14,
            4,
            4,
            1,
            16,
            20,
            19,
            9,
            10,
            2,
            5
           ],
           "name": "",
           "type": "choropleth",
           "z": [
            15,
            1,
            6,
            91,
            78,
            14,
            123,
            32,
            123,
            19,
            0,
            7,
            1,
            62,
            39,
            34,
            77,
            72,
            20,
            5,
            51
           ]
          }
         ],
         "name": "2020-10-20"
        },
        {
         "data": [
          {
           "coloraxis": "coloraxis",
           "featureidkey": "properties.reg_istat_code_num",
           "geo": "geo",
           "geojson": "https://raw.githubusercontent.com/openpolis/geojson-italy/master/geojson/limits_IT_regions.geojson",
           "hovertemplate": "Date=2020-10-21<br>Region=%{location}<br>ICU=%{z}<extra></extra>",
           "locations": [
            13,
            17,
            18,
            15,
            8,
            6,
            12,
            7,
            3,
            11,
            14,
            4,
            4,
            1,
            16,
            20,
            19,
            9,
            10,
            2,
            5
           ],
           "name": "",
           "type": "choropleth",
           "z": [
            14,
            4,
            6,
            85,
            86,
            16,
            129,
            31,
            134,
            19,
            1,
            7,
            2,
            74,
            42,
            36,
            83,
            76,
            20,
            5,
            56
           ]
          }
         ],
         "name": "2020-10-21"
        },
        {
         "data": [
          {
           "coloraxis": "coloraxis",
           "featureidkey": "properties.reg_istat_code_num",
           "geo": "geo",
           "geojson": "https://raw.githubusercontent.com/openpolis/geojson-italy/master/geojson/limits_IT_regions.geojson",
           "hovertemplate": "Date=2020-10-22<br>Region=%{location}<br>ICU=%{z}<extra></extra>",
           "locations": [
            13,
            17,
            18,
            15,
            8,
            6,
            12,
            7,
            3,
            11,
            14,
            4,
            4,
            1,
            16,
            20,
            19,
            9,
            10,
            2,
            5
           ],
           "name": "",
           "type": "choropleth",
           "z": [
            16,
            4,
            8,
            94,
            86,
            14,
            131,
            34,
            156,
            19,
            1,
            8,
            1,
            79,
            50,
            36,
            89,
            82,
            22,
            3,
            59
           ]
          }
         ],
         "name": "2020-10-22"
        },
        {
         "data": [
          {
           "coloraxis": "coloraxis",
           "featureidkey": "properties.reg_istat_code_num",
           "geo": "geo",
           "geojson": "https://raw.githubusercontent.com/openpolis/geojson-italy/master/geojson/limits_IT_regions.geojson",
           "hovertemplate": "Date=2020-10-23<br>Region=%{location}<br>ICU=%{z}<extra></extra>",
           "locations": [
            13,
            17,
            18,
            15,
            8,
            6,
            12,
            7,
            3,
            11,
            14,
            4,
            4,
            1,
            16,
            20,
            19,
            9,
            10,
            2,
            5
           ],
           "name": "",
           "type": "choropleth",
           "z": [
            16,
            4,
            9,
            98,
            86,
            19,
            135,
            33,
            184,
            22,
            1,
            8,
            3,
            84,
            52,
            36,
            89,
            82,
            21,
            3,
            64
           ]
          }
         ],
         "name": "2020-10-23"
        },
        {
         "data": [
          {
           "coloraxis": "coloraxis",
           "featureidkey": "properties.reg_istat_code_num",
           "geo": "geo",
           "geojson": "https://raw.githubusercontent.com/openpolis/geojson-italy/master/geojson/limits_IT_regions.geojson",
           "hovertemplate": "Date=2020-10-24<br>Region=%{location}<br>ICU=%{z}<extra></extra>",
           "locations": [
            13,
            17,
            18,
            15,
            8,
            6,
            12,
            7,
            3,
            11,
            14,
            4,
            4,
            1,
            16,
            20,
            19,
            9,
            10,
            2,
            5
           ],
           "name": "",
           "type": "choropleth",
           "z": [
            18,
            5,
            10,
            108,
            89,
            16,
            141,
            38,
            213,
            23,
            2,
            12,
            4,
            88,
            53,
            36,
            90,
            87,
            25,
            2,
            68
           ]
          }
         ],
         "name": "2020-10-24"
        },
        {
         "data": [
          {
           "coloraxis": "coloraxis",
           "featureidkey": "properties.reg_istat_code_num",
           "geo": "geo",
           "geojson": "https://raw.githubusercontent.com/openpolis/geojson-italy/master/geojson/limits_IT_regions.geojson",
           "hovertemplate": "Date=2020-10-25<br>Region=%{location}<br>ICU=%{z}<extra></extra>",
           "locations": [
            13,
            17,
            18,
            15,
            8,
            6,
            12,
            7,
            3,
            11,
            14,
            4,
            4,
            1,
            16,
            20,
            19,
            9,
            10,
            2,
            5
           ],
           "name": "",
           "type": "choropleth",
           "z": [
            18,
            5,
            10,
            113,
            88,
            23,
            146,
            41,
            231,
            23,
            2,
            11,
            4,
            94,
            57,
            34,
            95,
            111,
            29,
            2,
            71
           ]
          }
         ],
         "name": "2020-10-25"
        },
        {
         "data": [
          {
           "coloraxis": "coloraxis",
           "featureidkey": "properties.reg_istat_code_num",
           "geo": "geo",
           "geojson": "https://raw.githubusercontent.com/openpolis/geojson-italy/master/geojson/limits_IT_regions.geojson",
           "hovertemplate": "Date=2020-10-26<br>Region=%{location}<br>ICU=%{z}<extra></extra>",
           "locations": [
            13,
            17,
            18,
            15,
            8,
            6,
            12,
            7,
            3,
            11,
            14,
            4,
            4,
            1,
            16,
            20,
            19,
            9,
            10,
            2,
            5
           ],
           "name": "",
           "type": "choropleth",
           "z": [
            21,
            6,
            9,
            123,
            93,
            27,
            158,
            46,
            242,
            26,
            3,
            12,
            5,
            102,
            59,
            35,
            98,
            110,
            31,
            2,
            76
           ]
          }
         ],
         "name": "2020-10-26"
        },
        {
         "data": [
          {
           "coloraxis": "coloraxis",
           "featureidkey": "properties.reg_istat_code_num",
           "geo": "geo",
           "geojson": "https://raw.githubusercontent.com/openpolis/geojson-italy/master/geojson/limits_IT_regions.geojson",
           "hovertemplate": "Date=2020-10-27<br>Region=%{location}<br>ICU=%{z}<extra></extra>",
           "locations": [
            13,
            17,
            18,
            15,
            8,
            6,
            12,
            7,
            3,
            11,
            14,
            4,
            4,
            1,
            16,
            20,
            19,
            9,
            10,
            2,
            5
           ],
           "name": "",
           "type": "choropleth",
           "z": [
            22,
            7,
            9,
            140,
            103,
            31,
            166,
            45,
            271,
            28,
            4,
            12,
            5,
            121,
            62,
            36,
            103,
            119,
            37,
            7,
            83
           ]
          }
         ],
         "name": "2020-10-27"
        },
        {
         "data": [
          {
           "coloraxis": "coloraxis",
           "featureidkey": "properties.reg_istat_code_num",
           "geo": "geo",
           "geojson": "https://raw.githubusercontent.com/openpolis/geojson-italy/master/geojson/limits_IT_regions.geojson",
           "hovertemplate": "Date=2020-10-28<br>Region=%{location}<br>ICU=%{z}<extra></extra>",
           "locations": [
            13,
            17,
            18,
            15,
            8,
            6,
            12,
            7,
            3,
            11,
            14,
            4,
            4,
            1,
            16,
            20,
            19,
            9,
            10,
            2,
            5
           ],
           "name": "",
           "type": "choropleth",
           "z": [
            26,
            7,
            11,
            160,
            119,
            35,
            166,
            46,
            292,
            32,
            4,
            15,
            6,
            135,
            70,
            37,
            111,
            130,
            37,
            7,
            90
           ]
          }
         ],
         "name": "2020-10-28"
        },
        {
         "data": [
          {
           "coloraxis": "coloraxis",
           "featureidkey": "properties.reg_istat_code_num",
           "geo": "geo",
           "geojson": "https://raw.githubusercontent.com/openpolis/geojson-italy/master/geojson/limits_IT_regions.geojson",
           "hovertemplate": "Date=2020-10-29<br>Region=%{location}<br>ICU=%{z}<extra></extra>",
           "locations": [
            13,
            17,
            18,
            15,
            8,
            6,
            12,
            7,
            3,
            11,
            14,
            4,
            4,
            1,
            16,
            20,
            19,
            9,
            10,
            2,
            5
           ],
           "name": "",
           "type": "choropleth",
           "z": [
            26,
            7,
            7,
            164,
            123,
            34,
            168,
            50,
            345,
            39,
            4,
            15,
            9,
            146,
            78,
            39,
            115,
            137,
            41,
            7,
            97
           ]
          }
         ],
         "name": "2020-10-29"
        },
        {
         "data": [
          {
           "coloraxis": "coloraxis",
           "featureidkey": "properties.reg_istat_code_num",
           "geo": "geo",
           "geojson": "https://raw.githubusercontent.com/openpolis/geojson-italy/master/geojson/limits_IT_regions.geojson",
           "hovertemplate": "Date=2020-10-30<br>Region=%{location}<br>ICU=%{z}<extra></extra>",
           "locations": [
            13,
            17,
            18,
            15,
            8,
            6,
            12,
            7,
            3,
            11,
            14,
            4,
            4,
            1,
            16,
            20,
            19,
            9,
            10,
            2,
            5
           ],
           "name": "",
           "type": "choropleth",
           "z": [
            27,
            7,
            9,
            161,
            119,
            35,
            175,
            52,
            370,
            39,
            6,
            18,
            9,
            159,
            84,
            40,
            117,
            153,
            42,
            7,
            117
           ]
          }
         ],
         "name": "2020-10-30"
        },
        {
         "data": [
          {
           "coloraxis": "coloraxis",
           "featureidkey": "properties.reg_istat_code_num",
           "geo": "geo",
           "geojson": "https://raw.githubusercontent.com/openpolis/geojson-italy/master/geojson/limits_IT_regions.geojson",
           "hovertemplate": "Date=2020-10-31<br>Region=%{location}<br>ICU=%{z}<extra></extra>",
           "locations": [
            13,
            17,
            18,
            15,
            8,
            6,
            12,
            7,
            3,
            11,
            14,
            4,
            4,
            1,
            16,
            20,
            19,
            9,
            10,
            2,
            5
           ],
           "name": "",
           "type": "choropleth",
           "z": [
            29,
            7,
            9,
            168,
            125,
            36,
            182,
            57,
            392,
            47,
            6,
            18,
            9,
            174,
            87,
            39,
            122,
            163,
            43,
            7,
            123
           ]
          }
         ],
         "name": "2020-10-31"
        },
        {
         "data": [
          {
           "coloraxis": "coloraxis",
           "featureidkey": "properties.reg_istat_code_num",
           "geo": "geo",
           "geojson": "https://raw.githubusercontent.com/openpolis/geojson-italy/master/geojson/limits_IT_regions.geojson",
           "hovertemplate": "Date=2020-11-01<br>Region=%{location}<br>ICU=%{z}<extra></extra>",
           "locations": [
            13,
            17,
            18,
            15,
            8,
            6,
            12,
            7,
            3,
            11,
            14,
            4,
            4,
            1,
            16,
            20,
            19,
            9,
            10,
            2,
            5
           ],
           "name": "",
           "type": "choropleth",
           "z": [
            32,
            11,
            13,
            170,
            132,
            38,
            185,
            63,
            418,
            42,
            5,
            17,
            9,
            179,
            87,
            43,
            132,
            173,
            46,
            12,
            132
           ]
          }
         ],
         "name": "2020-11-01"
        },
        {
         "data": [
          {
           "coloraxis": "coloraxis",
           "featureidkey": "properties.reg_istat_code_num",
           "geo": "geo",
           "geojson": "https://raw.githubusercontent.com/openpolis/geojson-italy/master/geojson/limits_IT_regions.geojson",
           "hovertemplate": "Date=2020-11-02<br>Region=%{location}<br>ICU=%{z}<extra></extra>",
           "locations": [
            13,
            17,
            18,
            15,
            8,
            6,
            12,
            7,
            3,
            11,
            14,
            4,
            4,
            1,
            16,
            20,
            19,
            9,
            10,
            2,
            5
           ],
           "name": "",
           "type": "choropleth",
           "z": [
            33,
            13,
            19,
            171,
            138,
            37,
            185,
            57,
            435,
            50,
            5,
            23,
            11,
            196,
            88,
            43,
            142,
            182,
            46,
            12,
            136
           ]
          }
         ],
         "name": "2020-11-02"
        },
        {
         "data": [
          {
           "coloraxis": "coloraxis",
           "featureidkey": "properties.reg_istat_code_num",
           "geo": "geo",
           "geojson": "https://raw.githubusercontent.com/openpolis/geojson-italy/master/geojson/limits_IT_regions.geojson",
           "hovertemplate": "Date=2020-11-03<br>Region=%{location}<br>ICU=%{z}<extra></extra>",
           "locations": [
            13,
            17,
            18,
            15,
            8,
            6,
            12,
            7,
            3,
            11,
            14,
            4,
            4,
            1,
            16,
            20,
            19,
            9,
            10,
            2,
            5
           ],
           "name": "",
           "type": "choropleth",
           "z": [
            38,
            11,
            26,
            227,
            153,
            39,
            197,
            64,
            475,
            53,
            6,
            28,
            12,
            213,
            95,
            45,
            150,
            190,
            48,
            13,
            142
           ]
          }
         ],
         "name": "2020-11-03"
        },
        {
         "data": [
          {
           "coloraxis": "coloraxis",
           "featureidkey": "properties.reg_istat_code_num",
           "geo": "geo",
           "geojson": "https://raw.githubusercontent.com/openpolis/geojson-italy/master/geojson/limits_IT_regions.geojson",
           "hovertemplate": "Date=2020-11-04<br>Region=%{location}<br>ICU=%{z}<extra></extra>",
           "locations": [
            13,
            17,
            18,
            15,
            8,
            6,
            12,
            7,
            3,
            11,
            14,
            4,
            4,
            1,
            16,
            20,
            19,
            9,
            10,
            2,
            5
           ],
           "name": "",
           "type": "choropleth",
           "z": [
            36,
            15,
            11,
            175,
            161,
            40,
            217,
            77,
            507,
            54,
            7,
            33,
            11,
            233,
            116,
            45,
            148,
            197,
            49,
            11,
            149
           ]
          }
         ],
         "name": "2020-11-04"
        },
        {
         "data": [
          {
           "coloraxis": "coloraxis",
           "featureidkey": "properties.reg_istat_code_num",
           "geo": "geo",
           "geojson": "https://raw.githubusercontent.com/openpolis/geojson-italy/master/geojson/limits_IT_regions.geojson",
           "hovertemplate": "Date=2020-11-05<br>Region=%{location}<br>ICU=%{z}<extra></extra>",
           "locations": [
            13,
            17,
            18,
            15,
            8,
            6,
            12,
            7,
            3,
            11,
            14,
            4,
            4,
            1,
            16,
            20,
            19,
            9,
            10,
            2,
            5
           ],
           "name": "",
           "type": "choropleth",
           "z": [
            36,
            16,
            11,
            174,
            177,
            44,
            222,
            76,
            522,
            56,
            7,
            33,
            15,
            249,
            122,
            46,
            157,
            202,
            50,
            12,
            164
           ]
          }
         ],
         "name": "2020-11-05"
        },
        {
         "data": [
          {
           "coloraxis": "coloraxis",
           "featureidkey": "properties.reg_istat_code_num",
           "geo": "geo",
           "geojson": "https://raw.githubusercontent.com/openpolis/geojson-italy/master/geojson/limits_IT_regions.geojson",
           "hovertemplate": "Date=2020-11-06<br>Region=%{location}<br>ICU=%{z}<extra></extra>",
           "locations": [
            13,
            17,
            18,
            15,
            8,
            6,
            12,
            7,
            3,
            11,
            14,
            4,
            4,
            1,
            16,
            20,
            19,
            9,
            10,
            2,
            5
           ],
           "name": "",
           "type": "choropleth",
           "z": [
            42,
            16,
            15,
            180,
            177,
            44,
            234,
            78,
            570,
            60,
            8,
            35,
            17,
            268,
            122,
            46,
            159,
            209,
            53,
            13,
            169
           ]
          }
         ],
         "name": "2020-11-06"
        },
        {
         "data": [
          {
           "coloraxis": "coloraxis",
           "featureidkey": "properties.reg_istat_code_num",
           "geo": "geo",
           "geojson": "https://raw.githubusercontent.com/openpolis/geojson-italy/master/geojson/limits_IT_regions.geojson",
           "hovertemplate": "Date=2020-11-07<br>Region=%{location}<br>ICU=%{z}<extra></extra>",
           "locations": [
            13,
            17,
            18,
            15,
            8,
            6,
            12,
            7,
            3,
            11,
            14,
            4,
            4,
            1,
            16,
            20,
            19,
            9,
            10,
            2,
            5
           ],
           "name": "",
           "type": "choropleth",
           "z": [
            43,
            15,
            16,
            179,
            188,
            45,
            237,
            77,
            610,
            67,
            8,
            36,
            18,
            284,
            124,
            56,
            169,
            214,
            58,
            14,
            176
           ]
          }
         ],
         "name": "2020-11-07"
        },
        {
         "data": [
          {
           "coloraxis": "coloraxis",
           "featureidkey": "properties.reg_istat_code_num",
           "geo": "geo",
           "geojson": "https://raw.githubusercontent.com/openpolis/geojson-italy/master/geojson/limits_IT_regions.geojson",
           "hovertemplate": "Date=2020-11-08<br>Region=%{location}<br>ICU=%{z}<extra></extra>",
           "locations": [
            13,
            17,
            18,
            15,
            8,
            6,
            12,
            7,
            3,
            11,
            14,
            4,
            4,
            1,
            16,
            20,
            19,
            9,
            10,
            2,
            5
           ],
           "name": "",
           "type": "choropleth",
           "z": [
            43,
            16,
            16,
            186,
            194,
            45,
            237,
            81,
            650,
            69,
            7,
            39,
            20,
            304,
            123,
            55,
            177,
            226,
            62,
            14,
            185
           ]
          }
         ],
         "name": "2020-11-08"
        },
        {
         "data": [
          {
           "coloraxis": "coloraxis",
           "featureidkey": "properties.reg_istat_code_num",
           "geo": "geo",
           "geojson": "https://raw.githubusercontent.com/openpolis/geojson-italy/master/geojson/limits_IT_regions.geojson",
           "hovertemplate": "Date=2020-11-09<br>Region=%{location}<br>ICU=%{z}<extra></extra>",
           "locations": [
            13,
            17,
            18,
            15,
            8,
            6,
            12,
            7,
            3,
            11,
            14,
            4,
            4,
            1,
            16,
            20,
            19,
            9,
            10,
            2,
            5
           ],
           "name": "",
           "type": "choropleth",
           "z": [
            48,
            18,
            16,
            191,
            204,
            46,
            237,
            92,
            670,
            71,
            7,
            41,
            24,
            312,
            119,
            58,
            187,
            234,
            64,
            15,
            195
           ]
          }
         ],
         "name": "2020-11-09"
        },
        {
         "data": [
          {
           "coloraxis": "coloraxis",
           "featureidkey": "properties.reg_istat_code_num",
           "geo": "geo",
           "geojson": "https://raw.githubusercontent.com/openpolis/geojson-italy/master/geojson/limits_IT_regions.geojson",
           "hovertemplate": "Date=2020-11-10<br>Region=%{location}<br>ICU=%{z}<extra></extra>",
           "locations": [
            13,
            17,
            18,
            15,
            8,
            6,
            12,
            7,
            3,
            11,
            14,
            4,
            4,
            1,
            16,
            20,
            19,
            9,
            10,
            2,
            5
           ],
           "name": "",
           "type": "choropleth",
           "z": [
            46,
            18,
            19,
            193,
            215,
            47,
            257,
            92,
            708,
            75,
            7,
            37,
            28,
            325,
            131,
            51,
            195,
            242,
            66,
            15,
            204
           ]
          }
         ],
         "name": "2020-11-10"
        },
        {
         "data": [
          {
           "coloraxis": "coloraxis",
           "featureidkey": "properties.reg_istat_code_num",
           "geo": "geo",
           "geojson": "https://raw.githubusercontent.com/openpolis/geojson-italy/master/geojson/limits_IT_regions.geojson",
           "hovertemplate": "Date=2020-11-11<br>Region=%{location}<br>ICU=%{z}<extra></extra>",
           "locations": [
            13,
            17,
            18,
            15,
            8,
            6,
            12,
            7,
            3,
            11,
            14,
            4,
            4,
            1,
            16,
            20,
            19,
            9,
            10,
            2,
            5
           ],
           "name": "",
           "type": "choropleth",
           "z": [
            51,
            19,
            18,
            181,
            222,
            46,
            255,
            98,
            764,
            74,
            8,
            37,
            31,
            340,
            142,
            54,
            202,
            246,
            68,
            17,
            208
           ]
          }
         ],
         "name": "2020-11-11"
        },
        {
         "data": [
          {
           "coloraxis": "coloraxis",
           "featureidkey": "properties.reg_istat_code_num",
           "geo": "geo",
           "geojson": "https://raw.githubusercontent.com/openpolis/geojson-italy/master/geojson/limits_IT_regions.geojson",
           "hovertemplate": "Date=2020-11-12<br>Region=%{location}<br>ICU=%{z}<extra></extra>",
           "locations": [
            13,
            17,
            18,
            15,
            8,
            6,
            12,
            7,
            3,
            11,
            14,
            4,
            4,
            1,
            16,
            20,
            19,
            9,
            10,
            2,
            5
           ],
           "name": "",
           "type": "choropleth",
           "z": [
            52,
            19,
            21,
            192,
            228,
            47,
            259,
            109,
            782,
            74,
            7,
            42,
            30,
            348,
            145,
            56,
            205,
            256,
            69,
            16,
            213
           ]
          }
         ],
         "name": "2020-11-12"
        },
        {
         "data": [
          {
           "coloraxis": "coloraxis",
           "featureidkey": "properties.reg_istat_code_num",
           "geo": "geo",
           "geojson": "https://raw.githubusercontent.com/openpolis/geojson-italy/master/geojson/limits_IT_regions.geojson",
           "hovertemplate": "Date=2020-11-13<br>Region=%{location}<br>ICU=%{z}<extra></extra>",
           "locations": [
            13,
            17,
            18,
            15,
            8,
            6,
            12,
            7,
            3,
            11,
            14,
            4,
            4,
            1,
            16,
            20,
            19,
            9,
            10,
            2,
            5
           ],
           "name": "",
           "type": "choropleth",
           "z": [
            57,
            23,
            27,
            183,
            225,
            47,
            260,
            110,
            801,
            74,
            7,
            41,
            30,
            353,
            158,
            57,
            210,
            265,
            68,
            15,
            219
           ]
          }
         ],
         "name": "2020-11-13"
        },
        {
         "data": [
          {
           "coloraxis": "coloraxis",
           "featureidkey": "properties.reg_istat_code_num",
           "geo": "geo",
           "geojson": "https://raw.githubusercontent.com/openpolis/geojson-italy/master/geojson/limits_IT_regions.geojson",
           "hovertemplate": "Date=2020-11-14<br>Region=%{location}<br>ICU=%{z}<extra></extra>",
           "locations": [
            13,
            17,
            18,
            15,
            8,
            6,
            12,
            7,
            3,
            11,
            14,
            4,
            4,
            1,
            16,
            20,
            19,
            9,
            10,
            2,
            5
           ],
           "name": "",
           "type": "choropleth",
           "z": [
            59,
            21,
            26,
            184,
            231,
            45,
            273,
            108,
            817,
            74,
            6,
            44,
            31,
            360,
            178,
            59,
            215,
            266,
            68,
            13,
            228
           ]
          }
         ],
         "name": "2020-11-14"
        },
        {
         "data": [
          {
           "coloraxis": "coloraxis",
           "featureidkey": "properties.reg_istat_code_num",
           "geo": "geo",
           "geojson": "https://raw.githubusercontent.com/openpolis/geojson-italy/master/geojson/limits_IT_regions.geojson",
           "hovertemplate": "Date=2020-11-15<br>Region=%{location}<br>ICU=%{z}<extra></extra>",
           "locations": [
            13,
            17,
            18,
            15,
            8,
            6,
            12,
            7,
            3,
            11,
            14,
            4,
            4,
            1,
            16,
            20,
            19,
            9,
            10,
            2,
            5
           ],
           "name": "",
           "type": "choropleth",
           "z": [
            59,
            26,
            41,
            194,
            246,
            43,
            274,
            115,
            837,
            77,
            7,
            43,
            33,
            372,
            180,
            60,
            217,
            274,
            71,
            12,
            241
           ]
          }
         ],
         "name": "2020-11-15"
        },
        {
         "data": [
          {
           "coloraxis": "coloraxis",
           "featureidkey": "properties.reg_istat_code_num",
           "geo": "geo",
           "geojson": "https://raw.githubusercontent.com/openpolis/geojson-italy/master/geojson/limits_IT_regions.geojson",
           "hovertemplate": "Date=2020-11-16<br>Region=%{location}<br>ICU=%{z}<extra></extra>",
           "locations": [
            13,
            17,
            18,
            15,
            8,
            6,
            12,
            7,
            3,
            11,
            14,
            4,
            4,
            1,
            16,
            20,
            19,
            9,
            10,
            2,
            5
           ],
           "name": "",
           "type": "choropleth",
           "z": [
            59,
            27,
            45,
            192,
            247,
            47,
            278,
            111,
            855,
            78,
            7,
            43,
            32,
            378,
            182,
            63,
            224,
            284,
            72,
            16,
            252
           ]
          }
         ],
         "name": "2020-11-16"
        },
        {
         "data": [
          {
           "coloraxis": "coloraxis",
           "featureidkey": "properties.reg_istat_code_num",
           "geo": "geo",
           "geojson": "https://raw.githubusercontent.com/openpolis/geojson-italy/master/geojson/limits_IT_regions.geojson",
           "hovertemplate": "Date=2020-11-17<br>Region=%{location}<br>ICU=%{z}<extra></extra>",
           "locations": [
            13,
            17,
            18,
            15,
            8,
            6,
            12,
            7,
            3,
            11,
            14,
            4,
            4,
            1,
            16,
            20,
            19,
            9,
            10,
            2,
            5
           ],
           "name": "",
           "type": "choropleth",
           "z": [
            66,
            30,
            53,
            201,
            247,
            44,
            308,
            117,
            894,
            78,
            9,
            44,
            35,
            384,
            181,
            64,
            227,
            277,
            70,
            17,
            266
           ]
          }
         ],
         "name": "2020-11-17"
        },
        {
         "data": [
          {
           "coloraxis": "coloraxis",
           "featureidkey": "properties.reg_istat_code_num",
           "geo": "geo",
           "geojson": "https://raw.githubusercontent.com/openpolis/geojson-italy/master/geojson/limits_IT_regions.geojson",
           "hovertemplate": "Date=2020-11-18<br>Region=%{location}<br>ICU=%{z}<extra></extra>",
           "locations": [
            13,
            17,
            18,
            15,
            8,
            6,
            12,
            7,
            3,
            11,
            14,
            4,
            4,
            1,
            16,
            20,
            19,
            9,
            10,
            2,
            5
           ],
           "name": "",
           "type": "choropleth",
           "z": [
            65,
            28,
            46,
            200,
            244,
            49,
            318,
            118,
            903,
            79,
            7,
            39,
            38,
            388,
            198,
            63,
            240,
            282,
            74,
            17,
            274
           ]
          }
         ],
         "name": "2020-11-18"
        },
        {
         "data": [
          {
           "coloraxis": "coloraxis",
           "featureidkey": "properties.reg_istat_code_num",
           "geo": "geo",
           "geojson": "https://raw.githubusercontent.com/openpolis/geojson-italy/master/geojson/limits_IT_regions.geojson",
           "hovertemplate": "Date=2020-11-19<br>Region=%{location}<br>ICU=%{z}<extra></extra>",
           "locations": [
            13,
            17,
            18,
            15,
            8,
            6,
            12,
            7,
            3,
            11,
            14,
            4,
            4,
            1,
            16,
            20,
            19,
            9,
            10,
            2,
            5
           ],
           "name": "",
           "type": "choropleth",
           "z": [
            74,
            28,
            47,
            194,
            244,
            48,
            329,
            119,
            915,
            78,
            8,
            39,
            39,
            390,
            200,
            67,
            240,
            287,
            75,
            12,
            279
           ]
          }
         ],
         "name": "2020-11-19"
        },
        {
         "data": [
          {
           "coloraxis": "coloraxis",
           "featureidkey": "properties.reg_istat_code_num",
           "geo": "geo",
           "geojson": "https://raw.githubusercontent.com/openpolis/geojson-italy/master/geojson/limits_IT_regions.geojson",
           "hovertemplate": "Date=2020-11-20<br>Region=%{location}<br>ICU=%{z}<extra></extra>",
           "locations": [
            13,
            17,
            18,
            15,
            8,
            6,
            12,
            7,
            3,
            11,
            14,
            4,
            4,
            1,
            16,
            20,
            19,
            9,
            10,
            2,
            5
           ],
           "name": "",
           "type": "choropleth",
           "z": [
            75,
            27,
            46,
            201,
            244,
            54,
            337,
            120,
            930,
            81,
            8,
            38,
            38,
            393,
            202,
            69,
            242,
            295,
            71,
            10,
            267
           ]
          }
         ],
         "name": "2020-11-20"
        },
        {
         "data": [
          {
           "coloraxis": "coloraxis",
           "featureidkey": "properties.reg_istat_code_num",
           "geo": "geo",
           "geojson": "https://raw.githubusercontent.com/openpolis/geojson-italy/master/geojson/limits_IT_regions.geojson",
           "hovertemplate": "Date=2020-11-21<br>Region=%{location}<br>ICU=%{z}<extra></extra>",
           "locations": [
            13,
            17,
            18,
            15,
            8,
            6,
            12,
            7,
            3,
            11,
            14,
            4,
            4,
            1,
            16,
            20,
            19,
            9,
            10,
            2,
            5
           ],
           "name": "",
           "type": "choropleth",
           "z": [
            73,
            24,
            45,
            198,
            241,
            55,
            337,
            119,
            936,
            86,
            9,
            39,
            40,
            390,
            197,
            70,
            242,
            296,
            75,
            11,
            275
           ]
          }
         ],
         "name": "2020-11-21"
        },
        {
         "data": [
          {
           "coloraxis": "coloraxis",
           "featureidkey": "properties.reg_istat_code_num",
           "geo": "geo",
           "geojson": "https://raw.githubusercontent.com/openpolis/geojson-italy/master/geojson/limits_IT_regions.geojson",
           "hovertemplate": "Date=2020-11-22<br>Region=%{location}<br>ICU=%{z}<extra></extra>",
           "locations": [
            13,
            17,
            18,
            15,
            8,
            6,
            12,
            7,
            3,
            11,
            14,
            4,
            4,
            1,
            16,
            20,
            19,
            9,
            10,
            2,
            5
           ],
           "name": "",
           "type": "choropleth",
           "z": [
            72,
            23,
            47,
            201,
            249,
            56,
            339,
            122,
            949,
            88,
            11,
            38,
            41,
            398,
            188,
            70,
            241,
            298,
            75,
            14,
            281
           ]
          }
         ],
         "name": "2020-11-22"
        },
        {
         "data": [
          {
           "coloraxis": "coloraxis",
           "featureidkey": "properties.reg_istat_code_num",
           "geo": "geo",
           "geojson": "https://raw.githubusercontent.com/openpolis/geojson-italy/master/geojson/limits_IT_regions.geojson",
           "hovertemplate": "Date=2020-11-23<br>Region=%{location}<br>ICU=%{z}<extra></extra>",
           "locations": [
            13,
            17,
            18,
            15,
            8,
            6,
            12,
            7,
            3,
            11,
            14,
            4,
            4,
            1,
            16,
            20,
            19,
            9,
            10,
            2,
            5
           ],
           "name": "",
           "type": "choropleth",
           "z": [
            71,
            23,
            47,
            201,
            248,
            55,
            335,
            122,
            945,
            90,
            10,
            38,
            43,
            399,
            191,
            72,
            243,
            296,
            78,
            13,
            290
           ]
          }
         ],
         "name": "2020-11-23"
        },
        {
         "data": [
          {
           "coloraxis": "coloraxis",
           "featureidkey": "properties.reg_istat_code_num",
           "geo": "geo",
           "geojson": "https://raw.githubusercontent.com/openpolis/geojson-italy/master/geojson/limits_IT_regions.geojson",
           "hovertemplate": "Date=2020-11-24<br>Region=%{location}<br>ICU=%{z}<extra></extra>",
           "locations": [
            13,
            17,
            18,
            15,
            8,
            6,
            12,
            7,
            3,
            11,
            14,
            4,
            4,
            1,
            16,
            20,
            19,
            9,
            10,
            2,
            5
           ],
           "name": "",
           "type": "choropleth",
           "z": [
            71,
            19,
            42,
            201,
            243,
            54,
            345,
            121,
            932,
            89,
            10,
            40,
            42,
            404,
            205,
            73,
            243,
            296,
            72,
            14,
            300
           ]
          }
         ],
         "name": "2020-11-24"
        },
        {
         "data": [
          {
           "coloraxis": "coloraxis",
           "featureidkey": "properties.reg_istat_code_num",
           "geo": "geo",
           "geojson": "https://raw.githubusercontent.com/openpolis/geojson-italy/master/geojson/limits_IT_regions.geojson",
           "hovertemplate": "Date=2020-11-25<br>Region=%{location}<br>ICU=%{z}<extra></extra>",
           "locations": [
            13,
            17,
            18,
            15,
            8,
            6,
            12,
            7,
            3,
            11,
            14,
            4,
            4,
            1,
            16,
            20,
            19,
            9,
            10,
            2,
            5
           ],
           "name": "",
           "type": "choropleth",
           "z": [
            72,
            22,
            43,
            192,
            249,
            54,
            349,
            123,
            942,
            94,
            10,
            41,
            41,
            403,
            210,
            76,
            250,
            286,
            70,
            16,
            305
           ]
          }
         ],
         "name": "2020-11-25"
        },
        {
         "data": [
          {
           "coloraxis": "coloraxis",
           "featureidkey": "properties.reg_istat_code_num",
           "geo": "geo",
           "geojson": "https://raw.githubusercontent.com/openpolis/geojson-italy/master/geojson/limits_IT_regions.geojson",
           "hovertemplate": "Date=2020-11-26<br>Region=%{location}<br>ICU=%{z}<extra></extra>",
           "locations": [
            13,
            17,
            18,
            15,
            8,
            6,
            12,
            7,
            3,
            11,
            14,
            4,
            4,
            1,
            16,
            20,
            19,
            9,
            10,
            2,
            5
           ],
           "name": "",
           "type": "choropleth",
           "z": [
            74,
            22,
            45,
            200,
            258,
            55,
            352,
            114,
            934,
            90,
            9,
            40,
            43,
            403,
            211,
            73,
            253,
            281,
            68,
            17,
            304
           ]
          }
         ],
         "name": "2020-11-26"
        },
        {
         "data": [
          {
           "coloraxis": "coloraxis",
           "featureidkey": "properties.reg_istat_code_num",
           "geo": "geo",
           "geojson": "https://raw.githubusercontent.com/openpolis/geojson-italy/master/geojson/limits_IT_regions.geojson",
           "hovertemplate": "Date=2020-11-27<br>Region=%{location}<br>ICU=%{z}<extra></extra>",
           "locations": [
            13,
            17,
            18,
            15,
            8,
            6,
            12,
            7,
            3,
            11,
            14,
            4,
            4,
            1,
            16,
            20,
            19,
            9,
            10,
            2,
            5
           ],
           "name": "",
           "type": "choropleth",
           "z": [
            74,
            23,
            44,
            184,
            250,
            55,
            355,
            109,
            925,
            91,
            11,
            42,
            44,
            395,
            201,
            71,
            250,
            278,
            62,
            15,
            303
           ]
          }
         ],
         "name": "2020-11-27"
        },
        {
         "data": [
          {
           "coloraxis": "coloraxis",
           "featureidkey": "properties.reg_istat_code_num",
           "geo": "geo",
           "geojson": "https://raw.githubusercontent.com/openpolis/geojson-italy/master/geojson/limits_IT_regions.geojson",
           "hovertemplate": "Date=2020-11-28<br>Region=%{location}<br>ICU=%{z}<extra></extra>",
           "locations": [
            13,
            17,
            18,
            15,
            8,
            6,
            12,
            7,
            3,
            11,
            14,
            4,
            4,
            1,
            16,
            20,
            19,
            9,
            10,
            2,
            5
           ],
           "name": "",
           "type": "choropleth",
           "z": [
            77,
            22,
            42,
            186,
            245,
            53,
            356,
            117,
            919,
            85,
            12,
            36,
            42,
            384,
            200,
            73,
            247,
            279,
            64,
            14,
            309
           ]
          }
         ],
         "name": "2020-11-28"
        },
        {
         "data": [
          {
           "coloraxis": "coloraxis",
           "featureidkey": "properties.reg_istat_code_num",
           "geo": "geo",
           "geojson": "https://raw.githubusercontent.com/openpolis/geojson-italy/master/geojson/limits_IT_regions.geojson",
           "hovertemplate": "Date=2020-11-29<br>Region=%{location}<br>ICU=%{z}<extra></extra>",
           "locations": [
            13,
            17,
            18,
            15,
            8,
            6,
            12,
            7,
            3,
            11,
            14,
            4,
            4,
            1,
            16,
            20,
            19,
            9,
            10,
            2,
            5
           ],
           "name": "",
           "type": "choropleth",
           "z": [
            75,
            25,
            43,
            183,
            245,
            57,
            355,
            111,
            907,
            85,
            13,
            36,
            44,
            385,
            212,
            69,
            241,
            278,
            65,
            13,
            311
           ]
          }
         ],
         "name": "2020-11-29"
        },
        {
         "data": [
          {
           "coloraxis": "coloraxis",
           "featureidkey": "properties.reg_istat_code_num",
           "geo": "geo",
           "geojson": "https://raw.githubusercontent.com/openpolis/geojson-italy/master/geojson/limits_IT_regions.geojson",
           "hovertemplate": "Date=2020-11-30<br>Region=%{location}<br>ICU=%{z}<extra></extra>",
           "locations": [
            13,
            17,
            18,
            15,
            8,
            6,
            12,
            7,
            3,
            11,
            14,
            4,
            4,
            1,
            16,
            20,
            19,
            9,
            10,
            2,
            5
           ],
           "name": "",
           "type": "choropleth",
           "z": [
            76,
            22,
            42,
            182,
            249,
            55,
            350,
            113,
            906,
            87,
            14,
            37,
            44,
            388,
            209,
            70,
            226,
            278,
            65,
            11,
            320
           ]
          }
         ],
         "name": "2020-11-30"
        },
        {
         "data": [
          {
           "coloraxis": "coloraxis",
           "featureidkey": "properties.reg_istat_code_num",
           "geo": "geo",
           "geojson": "https://raw.githubusercontent.com/openpolis/geojson-italy/master/geojson/limits_IT_regions.geojson",
           "hovertemplate": "Date=2020-12-01<br>Region=%{location}<br>ICU=%{z}<extra></extra>",
           "locations": [
            13,
            17,
            18,
            15,
            8,
            6,
            12,
            7,
            3,
            11,
            14,
            4,
            4,
            1,
            16,
            20,
            19,
            9,
            10,
            2,
            5
           ],
           "name": "",
           "type": "choropleth",
           "z": [
            76,
            21,
            40,
            179,
            247,
            62,
            352,
            105,
            876,
            86,
            13,
            34,
            44,
            377,
            218,
            68,
            220,
            267,
            64,
            13,
            301
           ]
          }
         ],
         "name": "2020-12-01"
        },
        {
         "data": [
          {
           "coloraxis": "coloraxis",
           "featureidkey": "properties.reg_istat_code_num",
           "geo": "geo",
           "geojson": "https://raw.githubusercontent.com/openpolis/geojson-italy/master/geojson/limits_IT_regions.geojson",
           "hovertemplate": "Date=2020-12-02<br>Region=%{location}<br>ICU=%{z}<extra></extra>",
           "locations": [
            13,
            17,
            18,
            15,
            8,
            6,
            12,
            7,
            3,
            11,
            14,
            4,
            4,
            1,
            16,
            20,
            19,
            9,
            10,
            2,
            5
           ],
           "name": "",
           "type": "choropleth",
           "z": [
            74,
            21,
            36,
            173,
            247,
            58,
            350,
            102,
            855,
            85,
            9,
            33,
            47,
            382,
            204,
            66,
            220,
            271,
            62,
            13,
            308
           ]
          }
         ],
         "name": "2020-12-02"
        },
        {
         "data": [
          {
           "coloraxis": "coloraxis",
           "featureidkey": "properties.reg_istat_code_num",
           "geo": "geo",
           "geojson": "https://raw.githubusercontent.com/openpolis/geojson-italy/master/geojson/limits_IT_regions.geojson",
           "hovertemplate": "Date=2020-12-03<br>Region=%{location}<br>ICU=%{z}<extra></extra>",
           "locations": [
            13,
            17,
            18,
            15,
            8,
            6,
            12,
            7,
            3,
            11,
            14,
            4,
            4,
            1,
            16,
            20,
            19,
            9,
            10,
            2,
            5
           ],
           "name": "",
           "type": "choropleth",
           "z": [
            76,
            20,
            32,
            162,
            245,
            59,
            364,
            102,
            836,
            88,
            10,
            35,
            45,
            366,
            226,
            66,
            221,
            272,
            54,
            11,
            307
           ]
          }
         ],
         "name": "2020-12-03"
        },
        {
         "data": [
          {
           "coloraxis": "coloraxis",
           "featureidkey": "properties.reg_istat_code_num",
           "geo": "geo",
           "geojson": "https://raw.githubusercontent.com/openpolis/geojson-italy/master/geojson/limits_IT_regions.geojson",
           "hovertemplate": "Date=2020-12-04<br>Region=%{location}<br>ICU=%{z}<extra></extra>",
           "locations": [
            13,
            17,
            18,
            15,
            8,
            6,
            12,
            7,
            3,
            11,
            14,
            4,
            4,
            1,
            16,
            20,
            19,
            9,
            10,
            2,
            5
           ],
           "name": "",
           "type": "choropleth",
           "z": [
            73,
            20,
            34,
            166,
            248,
            59,
            360,
            99,
            822,
            87,
            10,
            32,
            47,
            357,
            227,
            70,
            216,
            263,
            57,
            11,
            309
           ]
          }
         ],
         "name": "2020-12-04"
        },
        {
         "data": [
          {
           "coloraxis": "coloraxis",
           "featureidkey": "properties.reg_istat_code_num",
           "geo": "geo",
           "geojson": "https://raw.githubusercontent.com/openpolis/geojson-italy/master/geojson/limits_IT_regions.geojson",
           "hovertemplate": "Date=2020-12-05<br>Region=%{location}<br>ICU=%{z}<extra></extra>",
           "locations": [
            13,
            17,
            18,
            15,
            8,
            6,
            12,
            7,
            3,
            11,
            14,
            4,
            4,
            1,
            16,
            20,
            19,
            9,
            10,
            2,
            5
           ],
           "name": "",
           "type": "choropleth",
           "z": [
            73,
            19,
            29,
            165,
            243,
            58,
            349,
            93,
            805,
            84,
            9,
            31,
            48,
            366,
            220,
            67,
            215,
            261,
            61,
            9,
            312
           ]
          }
         ],
         "name": "2020-12-05"
        },
        {
         "data": [
          {
           "coloraxis": "coloraxis",
           "featureidkey": "properties.reg_istat_code_num",
           "geo": "geo",
           "geojson": "https://raw.githubusercontent.com/openpolis/geojson-italy/master/geojson/limits_IT_regions.geojson",
           "hovertemplate": "Date=2020-12-06<br>Region=%{location}<br>ICU=%{z}<extra></extra>",
           "locations": [
            13,
            17,
            18,
            15,
            8,
            6,
            12,
            7,
            3,
            11,
            14,
            4,
            4,
            1,
            16,
            20,
            19,
            9,
            10,
            2,
            5
           ],
           "name": "",
           "type": "choropleth",
           "z": [
            71,
            18,
            32,
            155,
            241,
            59,
            340,
            92,
            807,
            82,
            10,
            32,
            48,
            359,
            203,
            64,
            213,
            252,
            60,
            8,
            308
           ]
          }
         ],
         "name": "2020-12-06"
        },
        {
         "data": [
          {
           "coloraxis": "coloraxis",
           "featureidkey": "properties.reg_istat_code_num",
           "geo": "geo",
           "geojson": "https://raw.githubusercontent.com/openpolis/geojson-italy/master/geojson/limits_IT_regions.geojson",
           "hovertemplate": "Date=2020-12-07<br>Region=%{location}<br>ICU=%{z}<extra></extra>",
           "locations": [
            13,
            17,
            18,
            15,
            8,
            6,
            12,
            7,
            3,
            11,
            14,
            4,
            4,
            1,
            16,
            20,
            19,
            9,
            10,
            2,
            5
           ],
           "name": "",
           "type": "choropleth",
           "z": [
            73,
            16,
            27,
            137,
            239,
            58,
            340,
            92,
            781,
            82,
            9,
            33,
            48,
            345,
            197,
            64,
            205,
            253,
            56,
            10,
            317
           ]
          }
         ],
         "name": "2020-12-07"
        },
        {
         "data": [
          {
           "coloraxis": "coloraxis",
           "featureidkey": "properties.reg_istat_code_num",
           "geo": "geo",
           "geojson": "https://raw.githubusercontent.com/openpolis/geojson-italy/master/geojson/limits_IT_regions.geojson",
           "hovertemplate": "Date=2020-12-08<br>Region=%{location}<br>ICU=%{z}<extra></extra>",
           "locations": [
            13,
            17,
            18,
            15,
            8,
            6,
            12,
            7,
            3,
            11,
            14,
            4,
            4,
            1,
            16,
            20,
            19,
            9,
            10,
            2,
            5
           ],
           "name": "",
           "type": "choropleth",
           "z": [
            69,
            15,
            25,
            140,
            234,
            64,
            341,
            91,
            767,
            87,
            8,
            30,
            48,
            330,
            197,
            62,
            199,
            253,
            57,
            9,
            319
           ]
          }
         ],
         "name": "2020-12-08"
        },
        {
         "data": [
          {
           "coloraxis": "coloraxis",
           "featureidkey": "properties.reg_istat_code_num",
           "geo": "geo",
           "geojson": "https://raw.githubusercontent.com/openpolis/geojson-italy/master/geojson/limits_IT_regions.geojson",
           "hovertemplate": "Date=2020-12-09<br>Region=%{location}<br>ICU=%{z}<extra></extra>",
           "locations": [
            13,
            17,
            18,
            15,
            8,
            6,
            12,
            7,
            3,
            11,
            14,
            4,
            4,
            1,
            16,
            20,
            19,
            9,
            10,
            2,
            5
           ],
           "name": "",
           "type": "choropleth",
           "z": [
            64,
            13,
            25,
            138,
            233,
            63,
            342,
            88,
            766,
            85,
            8,
            30,
            48,
            318,
            199,
            61,
            198,
            253,
            56,
            13,
            319
           ]
          }
         ],
         "name": "2020-12-09"
        },
        {
         "data": [
          {
           "coloraxis": "coloraxis",
           "featureidkey": "properties.reg_istat_code_num",
           "geo": "geo",
           "geojson": "https://raw.githubusercontent.com/openpolis/geojson-italy/master/geojson/limits_IT_regions.geojson",
           "hovertemplate": "Date=2020-12-10<br>Region=%{location}<br>ICU=%{z}<extra></extra>",
           "locations": [
            13,
            17,
            18,
            15,
            8,
            6,
            12,
            7,
            3,
            11,
            14,
            4,
            4,
            1,
            16,
            20,
            19,
            9,
            10,
            2,
            5
           ],
           "name": "",
           "type": "choropleth",
           "z": [
            65,
            15,
            24,
            140,
            229,
            62,
            339,
            85,
            748,
            86,
            7,
            31,
            48,
            310,
            200,
            63,
            197,
            247,
            55,
            10,
            330
           ]
          }
         ],
         "name": "2020-12-10"
        },
        {
         "data": [
          {
           "coloraxis": "coloraxis",
           "featureidkey": "properties.reg_istat_code_num",
           "geo": "geo",
           "geojson": "https://raw.githubusercontent.com/openpolis/geojson-italy/master/geojson/limits_IT_regions.geojson",
           "hovertemplate": "Date=2020-12-11<br>Region=%{location}<br>ICU=%{z}<extra></extra>",
           "locations": [
            13,
            17,
            18,
            15,
            8,
            6,
            12,
            7,
            3,
            11,
            14,
            4,
            4,
            1,
            16,
            20,
            19,
            9,
            10,
            2,
            5
           ],
           "name": "",
           "type": "choropleth",
           "z": [
            66,
            15,
            21,
            144,
            231,
            63,
            339,
            84,
            733,
            86,
            8,
            27,
            47,
            300,
            187,
            64,
            197,
            241,
            54,
            9,
            349
           ]
          }
         ],
         "name": "2020-12-11"
        },
        {
         "data": [
          {
           "coloraxis": "coloraxis",
           "featureidkey": "properties.reg_istat_code_num",
           "geo": "geo",
           "geojson": "https://raw.githubusercontent.com/openpolis/geojson-italy/master/geojson/limits_IT_regions.geojson",
           "hovertemplate": "Date=2020-12-12<br>Region=%{location}<br>ICU=%{z}<extra></extra>",
           "locations": [
            13,
            17,
            18,
            15,
            8,
            6,
            12,
            7,
            3,
            11,
            14,
            4,
            4,
            1,
            16,
            20,
            19,
            9,
            10,
            2,
            5
           ],
           "name": "",
           "type": "choropleth",
           "z": [
            64,
            14,
            22,
            137,
            222,
            59,
            337,
            77,
            717,
            86,
            8,
            27,
            44,
            304,
            194,
            61,
            196,
            228,
            49,
            8,
            345
           ]
          }
         ],
         "name": "2020-12-12"
        },
        {
         "data": [
          {
           "coloraxis": "coloraxis",
           "featureidkey": "properties.reg_istat_code_num",
           "geo": "geo",
           "geojson": "https://raw.githubusercontent.com/openpolis/geojson-italy/master/geojson/limits_IT_regions.geojson",
           "hovertemplate": "Date=2020-12-13<br>Region=%{location}<br>ICU=%{z}<extra></extra>",
           "locations": [
            13,
            17,
            18,
            15,
            8,
            6,
            12,
            7,
            3,
            11,
            14,
            4,
            4,
            1,
            16,
            20,
            19,
            9,
            10,
            2,
            5
           ],
           "name": "",
           "type": "choropleth",
           "z": [
            63,
            15,
            23,
            134,
            220,
            60,
            341,
            75,
            714,
            81,
            7,
            26,
            48,
            291,
            191,
            59,
            198,
            219,
            45,
            8,
            340
           ]
          }
         ],
         "name": "2020-12-13"
        },
        {
         "data": [
          {
           "coloraxis": "coloraxis",
           "featureidkey": "properties.reg_istat_code_num",
           "geo": "geo",
           "geojson": "https://raw.githubusercontent.com/openpolis/geojson-italy/master/geojson/limits_IT_regions.geojson",
           "hovertemplate": "Date=2020-12-14<br>Region=%{location}<br>ICU=%{z}<extra></extra>",
           "locations": [
            13,
            17,
            18,
            15,
            8,
            6,
            12,
            7,
            3,
            11,
            14,
            4,
            4,
            1,
            16,
            20,
            19,
            9,
            10,
            2,
            5
           ],
           "name": "",
           "type": "choropleth",
           "z": [
            64,
            12,
            21,
            130,
            222,
            58,
            347,
            73,
            685,
            83,
            8,
            26,
            53,
            278,
            184,
            57,
            189,
            210,
            41,
            9,
            345
           ]
          }
         ],
         "name": "2020-12-14"
        },
        {
         "data": [
          {
           "coloraxis": "coloraxis",
           "featureidkey": "properties.reg_istat_code_num",
           "geo": "geo",
           "geojson": "https://raw.githubusercontent.com/openpolis/geojson-italy/master/geojson/limits_IT_regions.geojson",
           "hovertemplate": "Date=2020-12-15<br>Region=%{location}<br>ICU=%{z}<extra></extra>",
           "locations": [
            13,
            17,
            18,
            15,
            8,
            6,
            12,
            7,
            3,
            11,
            14,
            4,
            4,
            1,
            16,
            20,
            19,
            9,
            10,
            2,
            5
           ],
           "name": "",
           "type": "choropleth",
           "z": [
            59,
            11,
            21,
            123,
            214,
            56,
            321,
            71,
            656,
            78,
            8,
            24,
            53,
            266,
            187,
            58,
            185,
            214,
            46,
            6,
            346
           ]
          }
         ],
         "name": "2020-12-15"
        },
        {
         "data": [
          {
           "coloraxis": "coloraxis",
           "featureidkey": "properties.reg_istat_code_num",
           "geo": "geo",
           "geojson": "https://raw.githubusercontent.com/openpolis/geojson-italy/master/geojson/limits_IT_regions.geojson",
           "hovertemplate": "Date=2020-12-16<br>Region=%{location}<br>ICU=%{z}<extra></extra>",
           "locations": [
            13,
            17,
            18,
            15,
            8,
            6,
            12,
            7,
            3,
            11,
            14,
            4,
            4,
            1,
            16,
            20,
            19,
            9,
            10,
            2,
            5
           ],
           "name": "",
           "type": "choropleth",
           "z": [
            56,
            11,
            22,
            124,
            212,
            54,
            305,
            71,
            629,
            75,
            10,
            22,
            50,
            257,
            185,
            57,
            183,
            202,
            47,
            7,
            347
           ]
          }
         ],
         "name": "2020-12-16"
        },
        {
         "data": [
          {
           "coloraxis": "coloraxis",
           "featureidkey": "properties.reg_istat_code_num",
           "geo": "geo",
           "geojson": "https://raw.githubusercontent.com/openpolis/geojson-italy/master/geojson/limits_IT_regions.geojson",
           "hovertemplate": "Date=2020-12-17<br>Region=%{location}<br>ICU=%{z}<extra></extra>",
           "locations": [
            13,
            17,
            18,
            15,
            8,
            6,
            12,
            7,
            3,
            11,
            14,
            4,
            4,
            1,
            16,
            20,
            19,
            9,
            10,
            2,
            5
           ],
           "name": "",
           "type": "choropleth",
           "z": [
            49,
            10,
            21,
            119,
            206,
            57,
            311,
            69,
            611,
            67,
            10,
            22,
            48,
            240,
            179,
            56,
            179,
            199,
            42,
            8,
            352
           ]
          }
         ],
         "name": "2020-12-17"
        },
        {
         "data": [
          {
           "coloraxis": "coloraxis",
           "featureidkey": "properties.reg_istat_code_num",
           "geo": "geo",
           "geojson": "https://raw.githubusercontent.com/openpolis/geojson-italy/master/geojson/limits_IT_regions.geojson",
           "hovertemplate": "Date=2020-12-18<br>Region=%{location}<br>ICU=%{z}<extra></extra>",
           "locations": [
            13,
            17,
            18,
            15,
            8,
            6,
            12,
            7,
            3,
            11,
            14,
            4,
            4,
            1,
            16,
            20,
            19,
            9,
            10,
            2,
            5
           ],
           "name": "",
           "type": "choropleth",
           "z": [
            42,
            10,
            21,
            120,
            207,
            59,
            310,
            70,
            602,
            64,
            9,
            23,
            50,
            243,
            174,
            53,
            182,
            191,
            43,
            7,
            339
           ]
          }
         ],
         "name": "2020-12-18"
        },
        {
         "data": [
          {
           "coloraxis": "coloraxis",
           "featureidkey": "properties.reg_istat_code_num",
           "geo": "geo",
           "geojson": "https://raw.githubusercontent.com/openpolis/geojson-italy/master/geojson/limits_IT_regions.geojson",
           "hovertemplate": "Date=2020-12-19<br>Region=%{location}<br>ICU=%{z}<extra></extra>",
           "locations": [
            13,
            17,
            18,
            15,
            8,
            6,
            12,
            7,
            3,
            11,
            14,
            4,
            4,
            1,
            16,
            20,
            19,
            9,
            10,
            2,
            5
           ],
           "name": "",
           "type": "choropleth",
           "z": [
            43,
            10,
            21,
            122,
            206,
            55,
            306,
            71,
            592,
            65,
            10,
            23,
            50,
            234,
            177,
            52,
            174,
            189,
            41,
            4,
            339
           ]
          }
         ],
         "name": "2020-12-19"
        },
        {
         "data": [
          {
           "coloraxis": "coloraxis",
           "featureidkey": "properties.reg_istat_code_num",
           "geo": "geo",
           "geojson": "https://raw.githubusercontent.com/openpolis/geojson-italy/master/geojson/limits_IT_regions.geojson",
           "hovertemplate": "Date=2020-12-20<br>Region=%{location}<br>ICU=%{z}<extra></extra>",
           "locations": [
            13,
            17,
            18,
            15,
            8,
            6,
            12,
            7,
            3,
            11,
            14,
            4,
            4,
            1,
            16,
            20,
            19,
            9,
            10,
            2,
            5
           ],
           "name": "",
           "type": "choropleth",
           "z": [
            42,
            9,
            22,
            119,
            201,
            55,
            306,
            70,
            583,
            64,
            11,
            20,
            49,
            221,
            169,
            50,
            178,
            187,
            44,
            4,
            339
           ]
          }
         ],
         "name": "2020-12-20"
        },
        {
         "data": [
          {
           "coloraxis": "coloraxis",
           "featureidkey": "properties.reg_istat_code_num",
           "geo": "geo",
           "geojson": "https://raw.githubusercontent.com/openpolis/geojson-italy/master/geojson/limits_IT_regions.geojson",
           "hovertemplate": "Date=2020-12-21<br>Region=%{location}<br>ICU=%{z}<extra></extra>",
           "locations": [
            13,
            17,
            18,
            15,
            8,
            6,
            12,
            7,
            3,
            11,
            14,
            4,
            4,
            1,
            16,
            20,
            19,
            9,
            10,
            2,
            5
           ],
           "name": "",
           "type": "choropleth",
           "z": [
            43,
            8,
            22,
            120,
            203,
            56,
            307,
            70,
            561,
            63,
            9,
            22,
            49,
            230,
            164,
            48,
            181,
            185,
            41,
            4,
            345
           ]
          }
         ],
         "name": "2020-12-21"
        },
        {
         "data": [
          {
           "coloraxis": "coloraxis",
           "featureidkey": "properties.reg_istat_code_num",
           "geo": "geo",
           "geojson": "https://raw.githubusercontent.com/openpolis/geojson-italy/master/geojson/limits_IT_regions.geojson",
           "hovertemplate": "Date=2020-12-22<br>Region=%{location}<br>ICU=%{z}<extra></extra>",
           "locations": [
            13,
            17,
            18,
            15,
            8,
            6,
            12,
            7,
            3,
            11,
            14,
            4,
            4,
            1,
            16,
            20,
            19,
            9,
            10,
            2,
            5
           ],
           "name": "",
           "type": "choropleth",
           "z": [
            41,
            8,
            23,
            118,
            210,
            57,
            292,
            65,
            540,
            61,
            8,
            23,
            49,
            228,
            167,
            48,
            176,
            175,
            44,
            5,
            349
           ]
          }
         ],
         "name": "2020-12-22"
        },
        {
         "data": [
          {
           "coloraxis": "coloraxis",
           "featureidkey": "properties.reg_istat_code_num",
           "geo": "geo",
           "geojson": "https://raw.githubusercontent.com/openpolis/geojson-italy/master/geojson/limits_IT_regions.geojson",
           "hovertemplate": "Date=2020-12-23<br>Region=%{location}<br>ICU=%{z}<extra></extra>",
           "locations": [
            13,
            17,
            18,
            15,
            8,
            6,
            12,
            7,
            3,
            11,
            14,
            4,
            4,
            1,
            16,
            20,
            19,
            9,
            10,
            2,
            5
           ],
           "name": "",
           "type": "choropleth",
           "z": [
            39,
            9,
            19,
            107,
            207,
            56,
            286,
            64,
            536,
            61,
            7,
            19,
            47,
            215,
            172,
            44,
            176,
            166,
            40,
            4,
            350
           ]
          }
         ],
         "name": "2020-12-23"
        },
        {
         "data": [
          {
           "coloraxis": "coloraxis",
           "featureidkey": "properties.reg_istat_code_num",
           "geo": "geo",
           "geojson": "https://raw.githubusercontent.com/openpolis/geojson-italy/master/geojson/limits_IT_regions.geojson",
           "hovertemplate": "Date=2020-12-24<br>Region=%{location}<br>ICU=%{z}<extra></extra>",
           "locations": [
            13,
            17,
            18,
            15,
            8,
            6,
            12,
            7,
            3,
            11,
            14,
            4,
            4,
            1,
            16,
            20,
            19,
            9,
            10,
            2,
            5
           ],
           "name": "",
           "type": "choropleth",
           "z": [
            35,
            8,
            21,
            102,
            201,
            56,
            293,
            64,
            521,
            64,
            7,
            17,
            49,
            213,
            170,
            41,
            173,
            161,
            38,
            4,
            351
           ]
          }
         ],
         "name": "2020-12-24"
        },
        {
         "data": [
          {
           "coloraxis": "coloraxis",
           "featureidkey": "properties.reg_istat_code_num",
           "geo": "geo",
           "geojson": "https://raw.githubusercontent.com/openpolis/geojson-italy/master/geojson/limits_IT_regions.geojson",
           "hovertemplate": "Date=2020-12-25<br>Region=%{location}<br>ICU=%{z}<extra></extra>",
           "locations": [
            13,
            17,
            18,
            15,
            8,
            6,
            12,
            7,
            3,
            11,
            14,
            4,
            4,
            1,
            16,
            20,
            19,
            9,
            10,
            2,
            5
           ],
           "name": "",
           "type": "choropleth",
           "z": [
            34,
            7,
            21,
            102,
            206,
            54,
            290,
            64,
            522,
            60,
            7,
            19,
            49,
            214,
            166,
            43,
            174,
            166,
            36,
            4,
            346
           ]
          }
         ],
         "name": "2020-12-25"
        },
        {
         "data": [
          {
           "coloraxis": "coloraxis",
           "featureidkey": "properties.reg_istat_code_num",
           "geo": "geo",
           "geojson": "https://raw.githubusercontent.com/openpolis/geojson-italy/master/geojson/limits_IT_regions.geojson",
           "hovertemplate": "Date=2020-12-26<br>Region=%{location}<br>ICU=%{z}<extra></extra>",
           "locations": [
            13,
            17,
            18,
            15,
            8,
            6,
            12,
            7,
            3,
            11,
            14,
            4,
            4,
            1,
            16,
            20,
            19,
            9,
            10,
            2,
            5
           ],
           "name": "",
           "type": "choropleth",
           "z": [
            36,
            7,
            18,
            98,
            214,
            56,
            297,
            66,
            513,
            64,
            8,
            17,
            48,
            208,
            158,
            43,
            170,
            166,
            34,
            4,
            355
           ]
          }
         ],
         "name": "2020-12-26"
        },
        {
         "data": [
          {
           "coloraxis": "coloraxis",
           "featureidkey": "properties.reg_istat_code_num",
           "geo": "geo",
           "geojson": "https://raw.githubusercontent.com/openpolis/geojson-italy/master/geojson/limits_IT_regions.geojson",
           "hovertemplate": "Date=2020-12-27<br>Region=%{location}<br>ICU=%{z}<extra></extra>",
           "locations": [
            13,
            17,
            18,
            15,
            8,
            6,
            12,
            7,
            3,
            11,
            14,
            4,
            4,
            1,
            16,
            20,
            19,
            9,
            10,
            2,
            5
           ],
           "name": "",
           "type": "choropleth",
           "z": [
            36,
            5,
            18,
            95,
            210,
            58,
            301,
            66,
            508,
            65,
            8,
            20,
            45,
            211,
            154,
            43,
            174,
            165,
            36,
            2,
            360
           ]
          }
         ],
         "name": "2020-12-27"
        },
        {
         "data": [
          {
           "coloraxis": "coloraxis",
           "featureidkey": "properties.reg_istat_code_num",
           "geo": "geo",
           "geojson": "https://raw.githubusercontent.com/openpolis/geojson-italy/master/geojson/limits_IT_regions.geojson",
           "hovertemplate": "Date=2020-12-28<br>Region=%{location}<br>ICU=%{z}<extra></extra>",
           "locations": [
            13,
            17,
            18,
            15,
            8,
            6,
            12,
            7,
            3,
            11,
            14,
            4,
            4,
            1,
            16,
            20,
            19,
            9,
            10,
            2,
            5
           ],
           "name": "",
           "type": "choropleth",
           "z": [
            38,
            6,
            14,
            98,
            220,
            56,
            307,
            61,
            512,
            60,
            8,
            20,
            45,
            205,
            139,
            44,
            175,
            164,
            34,
            4,
            355
           ]
          }
         ],
         "name": "2020-12-28"
        },
        {
         "data": [
          {
           "coloraxis": "coloraxis",
           "featureidkey": "properties.reg_istat_code_num",
           "geo": "geo",
           "geojson": "https://raw.githubusercontent.com/openpolis/geojson-italy/master/geojson/limits_IT_regions.geojson",
           "hovertemplate": "Date=2020-12-29<br>Region=%{location}<br>ICU=%{z}<extra></extra>",
           "locations": [
            13,
            17,
            18,
            15,
            8,
            6,
            12,
            7,
            3,
            11,
            14,
            4,
            4,
            1,
            16,
            20,
            19,
            9,
            10,
            2,
            5
           ],
           "name": "",
           "type": "choropleth",
           "z": [
            38,
            6,
            16,
            97,
            221,
            60,
            305,
            63,
            498,
            61,
            8,
            22,
            46,
            196,
            136,
            45,
            169,
            157,
            38,
            1,
            366
           ]
          }
         ],
         "name": "2020-12-29"
        },
        {
         "data": [
          {
           "coloraxis": "coloraxis",
           "featureidkey": "properties.reg_istat_code_num",
           "geo": "geo",
           "geojson": "https://raw.githubusercontent.com/openpolis/geojson-italy/master/geojson/limits_IT_regions.geojson",
           "hovertemplate": "Date=2020-12-30<br>Region=%{location}<br>ICU=%{z}<extra></extra>",
           "locations": [
            13,
            17,
            18,
            15,
            8,
            6,
            12,
            7,
            3,
            11,
            14,
            4,
            4,
            1,
            16,
            20,
            19,
            9,
            10,
            2,
            5
           ],
           "name": "",
           "type": "choropleth",
           "z": [
            36,
            4,
            17,
            102,
            230,
            59,
            303,
            63,
            481,
            62,
            10,
            22,
            45,
            192,
            128,
            44,
            166,
            160,
            44,
            2,
            358
           ]
          }
         ],
         "name": "2020-12-30"
        },
        {
         "data": [
          {
           "coloraxis": "coloraxis",
           "featureidkey": "properties.reg_istat_code_num",
           "geo": "geo",
           "geojson": "https://raw.githubusercontent.com/openpolis/geojson-italy/master/geojson/limits_IT_regions.geojson",
           "hovertemplate": "Date=2020-12-31<br>Region=%{location}<br>ICU=%{z}<extra></extra>",
           "locations": [
            13,
            17,
            18,
            15,
            8,
            6,
            12,
            7,
            3,
            11,
            14,
            4,
            4,
            1,
            16,
            20,
            19,
            9,
            10,
            2,
            5
           ],
           "name": "",
           "type": "choropleth",
           "z": [
            35,
            4,
            18,
            113,
            233,
            62,
            303,
            65,
            489,
            62,
            10,
            26,
            42,
            190,
            129,
            46,
            171,
            150,
            44,
            2,
            361
           ]
          }
         ],
         "name": "2020-12-31"
        },
        {
         "data": [
          {
           "coloraxis": "coloraxis",
           "featureidkey": "properties.reg_istat_code_num",
           "geo": "geo",
           "geojson": "https://raw.githubusercontent.com/openpolis/geojson-italy/master/geojson/limits_IT_regions.geojson",
           "hovertemplate": "Date=2021-01-01<br>Region=%{location}<br>ICU=%{z}<extra></extra>",
           "locations": [
            13,
            17,
            18,
            15,
            8,
            6,
            12,
            7,
            3,
            11,
            14,
            4,
            4,
            1,
            16,
            20,
            19,
            9,
            10,
            2,
            5
           ],
           "name": "",
           "type": "choropleth",
           "z": [
            38,
            5,
            18,
            104,
            231,
            63,
            305,
            63,
            487,
            61,
            11,
            27,
            39,
            184,
            137,
            42,
            176,
            143,
            46,
            1,
            372
           ]
          }
         ],
         "name": "2021-01-01"
        },
        {
         "data": [
          {
           "coloraxis": "coloraxis",
           "featureidkey": "properties.reg_istat_code_num",
           "geo": "geo",
           "geojson": "https://raw.githubusercontent.com/openpolis/geojson-italy/master/geojson/limits_IT_regions.geojson",
           "hovertemplate": "Date=2021-01-02<br>Region=%{location}<br>ICU=%{z}<extra></extra>",
           "locations": [
            13,
            17,
            18,
            15,
            8,
            6,
            12,
            7,
            3,
            11,
            14,
            4,
            4,
            1,
            16,
            20,
            19,
            9,
            10,
            2,
            5
           ],
           "name": "",
           "type": "choropleth",
           "z": [
            37,
            3,
            19,
            99,
            229,
            63,
            315,
            66,
            491,
            65,
            9,
            24,
            41,
            182,
            139,
            41,
            186,
            139,
            47,
            2,
            372
           ]
          }
         ],
         "name": "2021-01-02"
        },
        {
         "data": [
          {
           "coloraxis": "coloraxis",
           "featureidkey": "properties.reg_istat_code_num",
           "geo": "geo",
           "geojson": "https://raw.githubusercontent.com/openpolis/geojson-italy/master/geojson/limits_IT_regions.geojson",
           "hovertemplate": "Date=2021-01-03<br>Region=%{location}<br>ICU=%{z}<extra></extra>",
           "locations": [
            13,
            17,
            18,
            15,
            8,
            6,
            12,
            7,
            3,
            11,
            14,
            4,
            4,
            1,
            16,
            20,
            19,
            9,
            10,
            2,
            5
           ],
           "name": "",
           "type": "choropleth",
           "z": [
            41,
            3,
            19,
            98,
            234,
            61,
            309,
            71,
            489,
            67,
            10,
            24,
            44,
            188,
            136,
            43,
            184,
            147,
            48,
            2,
            365
           ]
          }
         ],
         "name": "2021-01-03"
        },
        {
         "data": [
          {
           "coloraxis": "coloraxis",
           "featureidkey": "properties.reg_istat_code_num",
           "geo": "geo",
           "geojson": "https://raw.githubusercontent.com/openpolis/geojson-italy/master/geojson/limits_IT_regions.geojson",
           "hovertemplate": "Date=2021-01-04<br>Region=%{location}<br>ICU=%{z}<extra></extra>",
           "locations": [
            13,
            17,
            18,
            15,
            8,
            6,
            12,
            7,
            3,
            11,
            14,
            4,
            4,
            1,
            16,
            20,
            19,
            9,
            10,
            2,
            5
           ],
           "name": "",
           "type": "choropleth",
           "z": [
            39,
            4,
            19,
            96,
            235,
            63,
            318,
            75,
            484,
            65,
            10,
            25,
            43,
            183,
            137,
            43,
            186,
            141,
            44,
            1,
            368
           ]
          }
         ],
         "name": "2021-01-04"
        },
        {
         "data": [
          {
           "coloraxis": "coloraxis",
           "featureidkey": "properties.reg_istat_code_num",
           "geo": "geo",
           "geojson": "https://raw.githubusercontent.com/openpolis/geojson-italy/master/geojson/limits_IT_regions.geojson",
           "hovertemplate": "Date=2021-01-05<br>Region=%{location}<br>ICU=%{z}<extra></extra>",
           "locations": [
            13,
            17,
            18,
            15,
            8,
            6,
            12,
            7,
            3,
            11,
            14,
            4,
            4,
            1,
            16,
            20,
            19,
            9,
            10,
            2,
            5
           ],
           "name": "",
           "type": "choropleth",
           "z": [
            39,
            4,
            19,
            97,
            232,
            59,
            308,
            73,
            475,
            65,
            8,
            27,
            45,
            187,
            152,
            45,
            190,
            139,
            43,
            1,
            361
           ]
          }
         ],
         "name": "2021-01-05"
        },
        {
         "data": [
          {
           "coloraxis": "coloraxis",
           "featureidkey": "properties.reg_istat_code_num",
           "geo": "geo",
           "geojson": "https://raw.githubusercontent.com/openpolis/geojson-italy/master/geojson/limits_IT_regions.geojson",
           "hovertemplate": "Date=2021-01-06<br>Region=%{location}<br>ICU=%{z}<extra></extra>",
           "locations": [
            13,
            17,
            18,
            15,
            8,
            6,
            12,
            7,
            3,
            11,
            14,
            4,
            4,
            1,
            16,
            20,
            19,
            9,
            10,
            2,
            5
           ],
           "name": "",
           "type": "choropleth",
           "z": [
            39,
            4,
            20,
            99,
            236,
            62,
            306,
            65,
            471,
            67,
            9,
            27,
            45,
            192,
            153,
            47,
            194,
            146,
            45,
            1,
            343
           ]
          }
         ],
         "name": "2021-01-06"
        },
        {
         "data": [
          {
           "coloraxis": "coloraxis",
           "featureidkey": "properties.reg_istat_code_num",
           "geo": "geo",
           "geojson": "https://raw.githubusercontent.com/openpolis/geojson-italy/master/geojson/limits_IT_regions.geojson",
           "hovertemplate": "Date=2021-01-07<br>Region=%{location}<br>ICU=%{z}<extra></extra>",
           "locations": [
            13,
            17,
            18,
            15,
            8,
            6,
            12,
            7,
            3,
            11,
            14,
            4,
            4,
            1,
            16,
            20,
            19,
            9,
            10,
            2,
            5
           ],
           "name": "",
           "type": "choropleth",
           "z": [
            36,
            4,
            21,
            96,
            240,
            64,
            310,
            62,
            473,
            69,
            8,
            25,
            47,
            184,
            154,
            48,
            196,
            146,
            44,
            1,
            359
           ]
          }
         ],
         "name": "2021-01-07"
        },
        {
         "data": [
          {
           "coloraxis": "coloraxis",
           "featureidkey": "properties.reg_istat_code_num",
           "geo": "geo",
           "geojson": "https://raw.githubusercontent.com/openpolis/geojson-italy/master/geojson/limits_IT_regions.geojson",
           "hovertemplate": "Date=2021-01-08<br>Region=%{location}<br>ICU=%{z}<extra></extra>",
           "locations": [
            13,
            17,
            18,
            15,
            8,
            6,
            12,
            7,
            3,
            11,
            14,
            4,
            4,
            1,
            16,
            20,
            19,
            9,
            10,
            2,
            5
           ],
           "name": "",
           "type": "choropleth",
           "z": [
            36,
            4,
            21,
            100,
            245,
            64,
            309,
            67,
            466,
            68,
            8,
            24,
            46,
            176,
            163,
            50,
            200,
            139,
            43,
            1,
            357
           ]
          }
         ],
         "name": "2021-01-08"
        },
        {
         "data": [
          {
           "coloraxis": "coloraxis",
           "featureidkey": "properties.reg_istat_code_num",
           "geo": "geo",
           "geojson": "https://raw.githubusercontent.com/openpolis/geojson-italy/master/geojson/limits_IT_regions.geojson",
           "hovertemplate": "Date=2021-01-09<br>Region=%{location}<br>ICU=%{z}<extra></extra>",
           "locations": [
            13,
            17,
            18,
            15,
            8,
            6,
            12,
            7,
            3,
            11,
            14,
            4,
            4,
            1,
            16,
            20,
            19,
            9,
            10,
            2,
            5
           ],
           "name": "",
           "type": "choropleth",
           "z": [
            40,
            4,
            22,
            107,
            240,
            62,
            310,
            65,
            456,
            71,
            9,
            24,
            48,
            172,
            175,
            47,
            205,
            139,
            47,
            1,
            349
           ]
          }
         ],
         "name": "2021-01-09"
        },
        {
         "data": [
          {
           "coloraxis": "coloraxis",
           "featureidkey": "properties.reg_istat_code_num",
           "geo": "geo",
           "geojson": "https://raw.githubusercontent.com/openpolis/geojson-italy/master/geojson/limits_IT_regions.geojson",
           "hovertemplate": "Date=2021-01-10<br>Region=%{location}<br>ICU=%{z}<extra></extra>",
           "locations": [
            13,
            17,
            18,
            15,
            8,
            6,
            12,
            7,
            3,
            11,
            14,
            4,
            4,
            1,
            16,
            20,
            19,
            9,
            10,
            2,
            5
           ],
           "name": "",
           "type": "choropleth",
           "z": [
            41,
            4,
            25,
            106,
            237,
            64,
            323,
            64,
            459,
            73,
            7,
            24,
            46,
            176,
            165,
            47,
            208,
            140,
            50,
            1,
            355
           ]
          }
         ],
         "name": "2021-01-10"
        },
        {
         "data": [
          {
           "coloraxis": "coloraxis",
           "featureidkey": "properties.reg_istat_code_num",
           "geo": "geo",
           "geojson": "https://raw.githubusercontent.com/openpolis/geojson-italy/master/geojson/limits_IT_regions.geojson",
           "hovertemplate": "Date=2021-01-11<br>Region=%{location}<br>ICU=%{z}<extra></extra>",
           "locations": [
            13,
            17,
            18,
            15,
            8,
            6,
            12,
            7,
            3,
            11,
            14,
            4,
            4,
            1,
            16,
            20,
            19,
            9,
            10,
            2,
            5
           ],
           "name": "",
           "type": "choropleth",
           "z": [
            38,
            6,
            24,
            109,
            238,
            67,
            321,
            64,
            462,
            81,
            7,
            24,
            45,
            177,
            169,
            48,
            208,
            144,
            51,
            1,
            358
           ]
          }
         ],
         "name": "2021-01-11"
        },
        {
         "data": [
          {
           "coloraxis": "coloraxis",
           "featureidkey": "properties.reg_istat_code_num",
           "geo": "geo",
           "geojson": "https://raw.githubusercontent.com/openpolis/geojson-italy/master/geojson/limits_IT_regions.geojson",
           "hovertemplate": "Date=2021-01-12<br>Region=%{location}<br>ICU=%{z}<extra></extra>",
           "locations": [
            13,
            17,
            18,
            15,
            8,
            6,
            12,
            7,
            3,
            11,
            14,
            4,
            4,
            1,
            16,
            20,
            19,
            9,
            10,
            2,
            5
           ],
           "name": "",
           "type": "choropleth",
           "z": [
            38,
            4,
            22,
            109,
            237,
            68,
            326,
            65,
            466,
            79,
            6,
            25,
            43,
            171,
            170,
            45,
            209,
            137,
            56,
            1,
            359
           ]
          }
         ],
         "name": "2021-01-12"
        },
        {
         "data": [
          {
           "coloraxis": "coloraxis",
           "featureidkey": "properties.reg_istat_code_num",
           "geo": "geo",
           "geojson": "https://raw.githubusercontent.com/openpolis/geojson-italy/master/geojson/limits_IT_regions.geojson",
           "hovertemplate": "Date=2021-01-13<br>Region=%{location}<br>ICU=%{z}<extra></extra>",
           "locations": [
            13,
            17,
            18,
            15,
            8,
            6,
            12,
            7,
            3,
            11,
            14,
            4,
            4,
            1,
            16,
            20,
            19,
            9,
            10,
            2,
            5
           ],
           "name": "",
           "type": "choropleth",
           "z": [
            40,
            4,
            25,
            106,
            229,
            69,
            313,
            62,
            462,
            73,
            9,
            23,
            44,
            172,
            165,
            47,
            208,
            140,
            50,
            2,
            336
           ]
          }
         ],
         "name": "2021-01-13"
        },
        {
         "data": [
          {
           "coloraxis": "coloraxis",
           "featureidkey": "properties.reg_istat_code_num",
           "geo": "geo",
           "geojson": "https://raw.githubusercontent.com/openpolis/geojson-italy/master/geojson/limits_IT_regions.geojson",
           "hovertemplate": "Date=2021-01-14<br>Region=%{location}<br>ICU=%{z}<extra></extra>",
           "locations": [
            13,
            17,
            18,
            15,
            8,
            6,
            12,
            7,
            3,
            11,
            14,
            4,
            4,
            1,
            16,
            20,
            19,
            9,
            10,
            2,
            5
           ],
           "name": "",
           "type": "choropleth",
           "z": [
            40,
            4,
            29,
            104,
            233,
            68,
            295,
            65,
            468,
            76,
            8,
            23,
            42,
            172,
            162,
            50,
            205,
            132,
            51,
            2,
            328
           ]
          }
         ],
         "name": "2021-01-14"
        },
        {
         "data": [
          {
           "coloraxis": "coloraxis",
           "featureidkey": "properties.reg_istat_code_num",
           "geo": "geo",
           "geojson": "https://raw.githubusercontent.com/openpolis/geojson-italy/master/geojson/limits_IT_regions.geojson",
           "hovertemplate": "Date=2021-01-15<br>Region=%{location}<br>ICU=%{z}<extra></extra>",
           "locations": [
            13,
            17,
            18,
            15,
            8,
            6,
            12,
            7,
            3,
            11,
            14,
            4,
            4,
            1,
            16,
            20,
            19,
            9,
            10,
            2,
            5
           ],
           "name": "",
           "type": "choropleth",
           "z": [
            41,
            4,
            27,
            93,
            231,
            68,
            299,
            59,
            466,
            82,
            7,
            23,
            42,
            163,
            148,
            50,
            210,
            129,
            50,
            3,
            327
           ]
          }
         ],
         "name": "2021-01-15"
        },
        {
         "data": [
          {
           "coloraxis": "coloraxis",
           "featureidkey": "properties.reg_istat_code_num",
           "geo": "geo",
           "geojson": "https://raw.githubusercontent.com/openpolis/geojson-italy/master/geojson/limits_IT_regions.geojson",
           "hovertemplate": "Date=2021-01-16<br>Region=%{location}<br>ICU=%{z}<extra></extra>",
           "locations": [
            13,
            17,
            18,
            15,
            8,
            6,
            12,
            7,
            3,
            11,
            14,
            4,
            4,
            1,
            16,
            20,
            19,
            9,
            10,
            2,
            5
           ],
           "name": "",
           "type": "choropleth",
           "z": [
            41,
            3,
            27,
            97,
            231,
            66,
            286,
            63,
            454,
            85,
            8,
            26,
            46,
            162,
            148,
            49,
            212,
            125,
            49,
            4,
            338
           ]
          }
         ],
         "name": "2021-01-16"
        },
        {
         "data": [
          {
           "coloraxis": "coloraxis",
           "featureidkey": "properties.reg_istat_code_num",
           "geo": "geo",
           "geojson": "https://raw.githubusercontent.com/openpolis/geojson-italy/master/geojson/limits_IT_regions.geojson",
           "hovertemplate": "Date=2021-01-17<br>Region=%{location}<br>ICU=%{z}<extra></extra>",
           "locations": [
            13,
            17,
            18,
            15,
            8,
            6,
            12,
            7,
            3,
            11,
            14,
            4,
            4,
            1,
            16,
            20,
            19,
            9,
            10,
            2,
            5
           ],
           "name": "",
           "type": "choropleth",
           "z": [
            38,
            4,
            25,
            94,
            234,
            63,
            296,
            62,
            452,
            83,
            9,
            26,
            47,
            164,
            142,
            48,
            208,
            118,
            49,
            3,
            338
           ]
          }
         ],
         "name": "2021-01-17"
        },
        {
         "data": [
          {
           "coloraxis": "coloraxis",
           "featureidkey": "properties.reg_istat_code_num",
           "geo": "geo",
           "geojson": "https://raw.githubusercontent.com/openpolis/geojson-italy/master/geojson/limits_IT_regions.geojson",
           "hovertemplate": "Date=2021-01-18<br>Region=%{location}<br>ICU=%{z}<extra></extra>",
           "locations": [
            13,
            17,
            18,
            15,
            8,
            6,
            12,
            7,
            3,
            11,
            14,
            4,
            4,
            1,
            16,
            20,
            19,
            9,
            10,
            2,
            5
           ],
           "name": "",
           "type": "choropleth",
           "z": [
            43,
            6,
            24,
            94,
            238,
            63,
            315,
            64,
            449,
            85,
            10,
            30,
            46,
            166,
            143,
            51,
            205,
            125,
            49,
            2,
            336
           ]
          }
         ],
         "name": "2021-01-18"
        },
        {
         "data": [
          {
           "coloraxis": "coloraxis",
           "featureidkey": "properties.reg_istat_code_num",
           "geo": "geo",
           "geojson": "https://raw.githubusercontent.com/openpolis/geojson-italy/master/geojson/limits_IT_regions.geojson",
           "hovertemplate": "Date=2021-01-19<br>Region=%{location}<br>ICU=%{z}<extra></extra>",
           "locations": [
            13,
            17,
            18,
            15,
            8,
            6,
            12,
            7,
            3,
            11,
            14,
            4,
            4,
            1,
            16,
            20,
            19,
            9,
            10,
            2,
            5
           ],
           "name": "",
           "type": "choropleth",
           "z": [
            44,
            5,
            24,
            97,
            232,
            63,
            305,
            60,
            425,
            85,
            9,
            30,
            46,
            168,
            142,
            53,
            211,
            121,
            47,
            2,
            318
           ]
          }
         ],
         "name": "2021-01-19"
        },
        {
         "data": [
          {
           "coloraxis": "coloraxis",
           "featureidkey": "properties.reg_istat_code_num",
           "geo": "geo",
           "geojson": "https://raw.githubusercontent.com/openpolis/geojson-italy/master/geojson/limits_IT_regions.geojson",
           "hovertemplate": "Date=2021-01-20<br>Region=%{location}<br>ICU=%{z}<extra></extra>",
           "locations": [
            13,
            17,
            18,
            15,
            8,
            6,
            12,
            7,
            3,
            11,
            14,
            4,
            4,
            1,
            16,
            20,
            19,
            9,
            10,
            2,
            5
           ],
           "name": "",
           "type": "choropleth",
           "z": [
            45,
            4,
            27,
            100,
            230,
            58,
            288,
            59,
            428,
            84,
            9,
            30,
            42,
            165,
            148,
            53,
            215,
            113,
            46,
            2,
            315
           ]
          }
         ],
         "name": "2021-01-20"
        },
        {
         "data": [
          {
           "coloraxis": "coloraxis",
           "featureidkey": "properties.reg_istat_code_num",
           "geo": "geo",
           "geojson": "https://raw.githubusercontent.com/openpolis/geojson-italy/master/geojson/limits_IT_regions.geojson",
           "hovertemplate": "Date=2021-01-21<br>Region=%{location}<br>ICU=%{z}<extra></extra>",
           "locations": [
            13,
            17,
            18,
            15,
            8,
            6,
            12,
            7,
            3,
            11,
            14,
            4,
            4,
            1,
            16,
            20,
            19,
            9,
            10,
            2,
            5
           ],
           "name": "",
           "type": "choropleth",
           "z": [
            43,
            6,
            26,
            100,
            218,
            59,
            280,
            62,
            411,
            83,
            8,
            28,
            43,
            159,
            151,
            51,
            221,
            116,
            46,
            2,
            305
           ]
          }
         ],
         "name": "2021-01-21"
        },
        {
         "data": [
          {
           "coloraxis": "coloraxis",
           "featureidkey": "properties.reg_istat_code_num",
           "geo": "geo",
           "geojson": "https://raw.githubusercontent.com/openpolis/geojson-italy/master/geojson/limits_IT_regions.geojson",
           "hovertemplate": "Date=2021-01-22<br>Region=%{location}<br>ICU=%{z}<extra></extra>",
           "locations": [
            13,
            17,
            18,
            15,
            8,
            6,
            12,
            7,
            3,
            11,
            14,
            4,
            4,
            1,
            16,
            20,
            19,
            9,
            10,
            2,
            5
           ],
           "name": "",
           "type": "choropleth",
           "z": [
            40,
            5,
            24,
            104,
            220,
            61,
            289,
            61,
            408,
            79,
            8,
            24,
            41,
            152,
            153,
            52,
            222,
            110,
            44,
            2,
            291
           ]
          }
         ],
         "name": "2021-01-22"
        },
        {
         "data": [
          {
           "coloraxis": "coloraxis",
           "featureidkey": "properties.reg_istat_code_num",
           "geo": "geo",
           "geojson": "https://raw.githubusercontent.com/openpolis/geojson-italy/master/geojson/limits_IT_regions.geojson",
           "hovertemplate": "Date=2021-01-23<br>Region=%{location}<br>ICU=%{z}<extra></extra>",
           "locations": [
            13,
            17,
            18,
            15,
            8,
            6,
            12,
            7,
            3,
            11,
            14,
            4,
            4,
            1,
            16,
            20,
            19,
            9,
            10,
            2,
            5
           ],
           "name": "",
           "type": "choropleth",
           "z": [
            41,
            4,
            24,
            114,
            217,
            63,
            283,
            65,
            398,
            77,
            8,
            24,
            43,
            156,
            159,
            46,
            223,
            107,
            46,
            2,
            286
           ]
          }
         ],
         "name": "2021-01-23"
        },
        {
         "data": [
          {
           "coloraxis": "coloraxis",
           "featureidkey": "properties.reg_istat_code_num",
           "geo": "geo",
           "geojson": "https://raw.githubusercontent.com/openpolis/geojson-italy/master/geojson/limits_IT_regions.geojson",
           "hovertemplate": "Date=2021-01-24<br>Region=%{location}<br>ICU=%{z}<extra></extra>",
           "locations": [
            13,
            17,
            18,
            15,
            8,
            6,
            12,
            7,
            3,
            11,
            14,
            4,
            4,
            1,
            16,
            20,
            19,
            9,
            10,
            2,
            5
           ],
           "name": "",
           "type": "choropleth",
           "z": [
            44,
            4,
            21,
            112,
            219,
            61,
            286,
            64,
            405,
            74,
            9,
            25,
            43,
            156,
            164,
            45,
            227,
            106,
            47,
            2,
            286
           ]
          }
         ],
         "name": "2021-01-24"
        },
        {
         "data": [
          {
           "coloraxis": "coloraxis",
           "featureidkey": "properties.reg_istat_code_num",
           "geo": "geo",
           "geojson": "https://raw.githubusercontent.com/openpolis/geojson-italy/master/geojson/limits_IT_regions.geojson",
           "hovertemplate": "Date=2021-01-25<br>Region=%{location}<br>ICU=%{z}<extra></extra>",
           "locations": [
            13,
            17,
            18,
            15,
            8,
            6,
            12,
            7,
            3,
            11,
            14,
            4,
            4,
            1,
            16,
            20,
            19,
            9,
            10,
            2,
            5
           ],
           "name": "",
           "type": "choropleth",
           "z": [
            44,
            6,
            22,
            105,
            222,
            62,
            287,
            67,
            407,
            73,
            7,
            28,
            41,
            163,
            169,
            48,
            227,
            109,
            47,
            3,
            284
           ]
          }
         ],
         "name": "2021-01-25"
        },
        {
         "data": [
          {
           "coloraxis": "coloraxis",
           "featureidkey": "properties.reg_istat_code_num",
           "geo": "geo",
           "geojson": "https://raw.githubusercontent.com/openpolis/geojson-italy/master/geojson/limits_IT_regions.geojson",
           "hovertemplate": "Date=2021-01-26<br>Region=%{location}<br>ICU=%{z}<extra></extra>",
           "locations": [
            13,
            17,
            18,
            15,
            8,
            6,
            12,
            7,
            3,
            11,
            14,
            4,
            4,
            1,
            16,
            20,
            19,
            9,
            10,
            2,
            5
           ],
           "name": "",
           "type": "choropleth",
           "z": [
            42,
            2,
            19,
            101,
            220,
            64,
            283,
            65,
            392,
            73,
            7,
            30,
            36,
            163,
            180,
            44,
            229,
            103,
            50,
            4,
            265
           ]
          }
         ],
         "name": "2021-01-26"
        },
        {
         "data": [
          {
           "coloraxis": "coloraxis",
           "featureidkey": "properties.reg_istat_code_num",
           "geo": "geo",
           "geojson": "https://raw.githubusercontent.com/openpolis/geojson-italy/master/geojson/limits_IT_regions.geojson",
           "hovertemplate": "Date=2021-01-27<br>Region=%{location}<br>ICU=%{z}<extra></extra>",
           "locations": [
            13,
            17,
            18,
            15,
            8,
            6,
            12,
            7,
            3,
            11,
            14,
            4,
            4,
            1,
            16,
            20,
            19,
            9,
            10,
            2,
            5
           ],
           "name": "",
           "type": "choropleth",
           "z": [
            40,
            2,
            22,
            107,
            210,
            61,
            283,
            68,
            377,
            72,
            8,
            32,
            35,
            163,
            182,
            43,
            232,
            103,
            50,
            4,
            258
           ]
          }
         ],
         "name": "2021-01-27"
        }
       ],
       "layout": {
        "coloraxis": {
         "cmax": 1381,
         "cmin": 0,
         "colorbar": {
          "title": {
           "text": "ICU"
          }
         },
         "colorscale": [
          [
           0,
           "rgb(255,245,240)"
          ],
          [
           0.125,
           "rgb(254,224,210)"
          ],
          [
           0.25,
           "rgb(252,187,161)"
          ],
          [
           0.375,
           "rgb(252,146,114)"
          ],
          [
           0.5,
           "rgb(251,106,74)"
          ],
          [
           0.625,
           "rgb(239,59,44)"
          ],
          [
           0.75,
           "rgb(203,24,29)"
          ],
          [
           0.875,
           "rgb(165,15,21)"
          ],
          [
           1,
           "rgb(103,0,13)"
          ]
         ]
        },
        "geo": {
         "center": {},
         "domain": {
          "x": [
           0,
           1
          ],
          "y": [
           0,
           1
          ]
         },
         "fitbounds": "locations",
         "visible": false
        },
        "legend": {
         "tracegroupgap": 0
        },
        "margin": {
         "b": 0,
         "l": 0,
         "r": 0,
         "t": 0
        },
        "sliders": [
         {
          "active": 0,
          "currentvalue": {
           "prefix": "Date="
          },
          "len": 0.9,
          "pad": {
           "b": 10,
           "t": 60
          },
          "steps": [
           {
            "args": [
             [
              "2020-02-24"
             ],
             {
              "frame": {
               "duration": 0,
               "redraw": true
              },
              "fromcurrent": true,
              "mode": "immediate",
              "transition": {
               "duration": 0,
               "easing": "linear"
              }
             }
            ],
            "label": "2020-02-24",
            "method": "animate"
           },
           {
            "args": [
             [
              "2020-02-25"
             ],
             {
              "frame": {
               "duration": 0,
               "redraw": true
              },
              "fromcurrent": true,
              "mode": "immediate",
              "transition": {
               "duration": 0,
               "easing": "linear"
              }
             }
            ],
            "label": "2020-02-25",
            "method": "animate"
           },
           {
            "args": [
             [
              "2020-02-26"
             ],
             {
              "frame": {
               "duration": 0,
               "redraw": true
              },
              "fromcurrent": true,
              "mode": "immediate",
              "transition": {
               "duration": 0,
               "easing": "linear"
              }
             }
            ],
            "label": "2020-02-26",
            "method": "animate"
           },
           {
            "args": [
             [
              "2020-02-27"
             ],
             {
              "frame": {
               "duration": 0,
               "redraw": true
              },
              "fromcurrent": true,
              "mode": "immediate",
              "transition": {
               "duration": 0,
               "easing": "linear"
              }
             }
            ],
            "label": "2020-02-27",
            "method": "animate"
           },
           {
            "args": [
             [
              "2020-02-28"
             ],
             {
              "frame": {
               "duration": 0,
               "redraw": true
              },
              "fromcurrent": true,
              "mode": "immediate",
              "transition": {
               "duration": 0,
               "easing": "linear"
              }
             }
            ],
            "label": "2020-02-28",
            "method": "animate"
           },
           {
            "args": [
             [
              "2020-02-29"
             ],
             {
              "frame": {
               "duration": 0,
               "redraw": true
              },
              "fromcurrent": true,
              "mode": "immediate",
              "transition": {
               "duration": 0,
               "easing": "linear"
              }
             }
            ],
            "label": "2020-02-29",
            "method": "animate"
           },
           {
            "args": [
             [
              "2020-03-01"
             ],
             {
              "frame": {
               "duration": 0,
               "redraw": true
              },
              "fromcurrent": true,
              "mode": "immediate",
              "transition": {
               "duration": 0,
               "easing": "linear"
              }
             }
            ],
            "label": "2020-03-01",
            "method": "animate"
           },
           {
            "args": [
             [
              "2020-03-02"
             ],
             {
              "frame": {
               "duration": 0,
               "redraw": true
              },
              "fromcurrent": true,
              "mode": "immediate",
              "transition": {
               "duration": 0,
               "easing": "linear"
              }
             }
            ],
            "label": "2020-03-02",
            "method": "animate"
           },
           {
            "args": [
             [
              "2020-03-03"
             ],
             {
              "frame": {
               "duration": 0,
               "redraw": true
              },
              "fromcurrent": true,
              "mode": "immediate",
              "transition": {
               "duration": 0,
               "easing": "linear"
              }
             }
            ],
            "label": "2020-03-03",
            "method": "animate"
           },
           {
            "args": [
             [
              "2020-03-04"
             ],
             {
              "frame": {
               "duration": 0,
               "redraw": true
              },
              "fromcurrent": true,
              "mode": "immediate",
              "transition": {
               "duration": 0,
               "easing": "linear"
              }
             }
            ],
            "label": "2020-03-04",
            "method": "animate"
           },
           {
            "args": [
             [
              "2020-03-05"
             ],
             {
              "frame": {
               "duration": 0,
               "redraw": true
              },
              "fromcurrent": true,
              "mode": "immediate",
              "transition": {
               "duration": 0,
               "easing": "linear"
              }
             }
            ],
            "label": "2020-03-05",
            "method": "animate"
           },
           {
            "args": [
             [
              "2020-03-06"
             ],
             {
              "frame": {
               "duration": 0,
               "redraw": true
              },
              "fromcurrent": true,
              "mode": "immediate",
              "transition": {
               "duration": 0,
               "easing": "linear"
              }
             }
            ],
            "label": "2020-03-06",
            "method": "animate"
           },
           {
            "args": [
             [
              "2020-03-07"
             ],
             {
              "frame": {
               "duration": 0,
               "redraw": true
              },
              "fromcurrent": true,
              "mode": "immediate",
              "transition": {
               "duration": 0,
               "easing": "linear"
              }
             }
            ],
            "label": "2020-03-07",
            "method": "animate"
           },
           {
            "args": [
             [
              "2020-03-08"
             ],
             {
              "frame": {
               "duration": 0,
               "redraw": true
              },
              "fromcurrent": true,
              "mode": "immediate",
              "transition": {
               "duration": 0,
               "easing": "linear"
              }
             }
            ],
            "label": "2020-03-08",
            "method": "animate"
           },
           {
            "args": [
             [
              "2020-03-09"
             ],
             {
              "frame": {
               "duration": 0,
               "redraw": true
              },
              "fromcurrent": true,
              "mode": "immediate",
              "transition": {
               "duration": 0,
               "easing": "linear"
              }
             }
            ],
            "label": "2020-03-09",
            "method": "animate"
           },
           {
            "args": [
             [
              "2020-03-10"
             ],
             {
              "frame": {
               "duration": 0,
               "redraw": true
              },
              "fromcurrent": true,
              "mode": "immediate",
              "transition": {
               "duration": 0,
               "easing": "linear"
              }
             }
            ],
            "label": "2020-03-10",
            "method": "animate"
           },
           {
            "args": [
             [
              "2020-03-11"
             ],
             {
              "frame": {
               "duration": 0,
               "redraw": true
              },
              "fromcurrent": true,
              "mode": "immediate",
              "transition": {
               "duration": 0,
               "easing": "linear"
              }
             }
            ],
            "label": "2020-03-11",
            "method": "animate"
           },
           {
            "args": [
             [
              "2020-03-12"
             ],
             {
              "frame": {
               "duration": 0,
               "redraw": true
              },
              "fromcurrent": true,
              "mode": "immediate",
              "transition": {
               "duration": 0,
               "easing": "linear"
              }
             }
            ],
            "label": "2020-03-12",
            "method": "animate"
           },
           {
            "args": [
             [
              "2020-03-13"
             ],
             {
              "frame": {
               "duration": 0,
               "redraw": true
              },
              "fromcurrent": true,
              "mode": "immediate",
              "transition": {
               "duration": 0,
               "easing": "linear"
              }
             }
            ],
            "label": "2020-03-13",
            "method": "animate"
           },
           {
            "args": [
             [
              "2020-03-14"
             ],
             {
              "frame": {
               "duration": 0,
               "redraw": true
              },
              "fromcurrent": true,
              "mode": "immediate",
              "transition": {
               "duration": 0,
               "easing": "linear"
              }
             }
            ],
            "label": "2020-03-14",
            "method": "animate"
           },
           {
            "args": [
             [
              "2020-03-15"
             ],
             {
              "frame": {
               "duration": 0,
               "redraw": true
              },
              "fromcurrent": true,
              "mode": "immediate",
              "transition": {
               "duration": 0,
               "easing": "linear"
              }
             }
            ],
            "label": "2020-03-15",
            "method": "animate"
           },
           {
            "args": [
             [
              "2020-03-16"
             ],
             {
              "frame": {
               "duration": 0,
               "redraw": true
              },
              "fromcurrent": true,
              "mode": "immediate",
              "transition": {
               "duration": 0,
               "easing": "linear"
              }
             }
            ],
            "label": "2020-03-16",
            "method": "animate"
           },
           {
            "args": [
             [
              "2020-03-17"
             ],
             {
              "frame": {
               "duration": 0,
               "redraw": true
              },
              "fromcurrent": true,
              "mode": "immediate",
              "transition": {
               "duration": 0,
               "easing": "linear"
              }
             }
            ],
            "label": "2020-03-17",
            "method": "animate"
           },
           {
            "args": [
             [
              "2020-03-18"
             ],
             {
              "frame": {
               "duration": 0,
               "redraw": true
              },
              "fromcurrent": true,
              "mode": "immediate",
              "transition": {
               "duration": 0,
               "easing": "linear"
              }
             }
            ],
            "label": "2020-03-18",
            "method": "animate"
           },
           {
            "args": [
             [
              "2020-03-19"
             ],
             {
              "frame": {
               "duration": 0,
               "redraw": true
              },
              "fromcurrent": true,
              "mode": "immediate",
              "transition": {
               "duration": 0,
               "easing": "linear"
              }
             }
            ],
            "label": "2020-03-19",
            "method": "animate"
           },
           {
            "args": [
             [
              "2020-03-20"
             ],
             {
              "frame": {
               "duration": 0,
               "redraw": true
              },
              "fromcurrent": true,
              "mode": "immediate",
              "transition": {
               "duration": 0,
               "easing": "linear"
              }
             }
            ],
            "label": "2020-03-20",
            "method": "animate"
           },
           {
            "args": [
             [
              "2020-03-21"
             ],
             {
              "frame": {
               "duration": 0,
               "redraw": true
              },
              "fromcurrent": true,
              "mode": "immediate",
              "transition": {
               "duration": 0,
               "easing": "linear"
              }
             }
            ],
            "label": "2020-03-21",
            "method": "animate"
           },
           {
            "args": [
             [
              "2020-03-22"
             ],
             {
              "frame": {
               "duration": 0,
               "redraw": true
              },
              "fromcurrent": true,
              "mode": "immediate",
              "transition": {
               "duration": 0,
               "easing": "linear"
              }
             }
            ],
            "label": "2020-03-22",
            "method": "animate"
           },
           {
            "args": [
             [
              "2020-03-23"
             ],
             {
              "frame": {
               "duration": 0,
               "redraw": true
              },
              "fromcurrent": true,
              "mode": "immediate",
              "transition": {
               "duration": 0,
               "easing": "linear"
              }
             }
            ],
            "label": "2020-03-23",
            "method": "animate"
           },
           {
            "args": [
             [
              "2020-03-24"
             ],
             {
              "frame": {
               "duration": 0,
               "redraw": true
              },
              "fromcurrent": true,
              "mode": "immediate",
              "transition": {
               "duration": 0,
               "easing": "linear"
              }
             }
            ],
            "label": "2020-03-24",
            "method": "animate"
           },
           {
            "args": [
             [
              "2020-03-25"
             ],
             {
              "frame": {
               "duration": 0,
               "redraw": true
              },
              "fromcurrent": true,
              "mode": "immediate",
              "transition": {
               "duration": 0,
               "easing": "linear"
              }
             }
            ],
            "label": "2020-03-25",
            "method": "animate"
           },
           {
            "args": [
             [
              "2020-03-26"
             ],
             {
              "frame": {
               "duration": 0,
               "redraw": true
              },
              "fromcurrent": true,
              "mode": "immediate",
              "transition": {
               "duration": 0,
               "easing": "linear"
              }
             }
            ],
            "label": "2020-03-26",
            "method": "animate"
           },
           {
            "args": [
             [
              "2020-03-27"
             ],
             {
              "frame": {
               "duration": 0,
               "redraw": true
              },
              "fromcurrent": true,
              "mode": "immediate",
              "transition": {
               "duration": 0,
               "easing": "linear"
              }
             }
            ],
            "label": "2020-03-27",
            "method": "animate"
           },
           {
            "args": [
             [
              "2020-03-28"
             ],
             {
              "frame": {
               "duration": 0,
               "redraw": true
              },
              "fromcurrent": true,
              "mode": "immediate",
              "transition": {
               "duration": 0,
               "easing": "linear"
              }
             }
            ],
            "label": "2020-03-28",
            "method": "animate"
           },
           {
            "args": [
             [
              "2020-03-29"
             ],
             {
              "frame": {
               "duration": 0,
               "redraw": true
              },
              "fromcurrent": true,
              "mode": "immediate",
              "transition": {
               "duration": 0,
               "easing": "linear"
              }
             }
            ],
            "label": "2020-03-29",
            "method": "animate"
           },
           {
            "args": [
             [
              "2020-03-30"
             ],
             {
              "frame": {
               "duration": 0,
               "redraw": true
              },
              "fromcurrent": true,
              "mode": "immediate",
              "transition": {
               "duration": 0,
               "easing": "linear"
              }
             }
            ],
            "label": "2020-03-30",
            "method": "animate"
           },
           {
            "args": [
             [
              "2020-03-31"
             ],
             {
              "frame": {
               "duration": 0,
               "redraw": true
              },
              "fromcurrent": true,
              "mode": "immediate",
              "transition": {
               "duration": 0,
               "easing": "linear"
              }
             }
            ],
            "label": "2020-03-31",
            "method": "animate"
           },
           {
            "args": [
             [
              "2020-04-01"
             ],
             {
              "frame": {
               "duration": 0,
               "redraw": true
              },
              "fromcurrent": true,
              "mode": "immediate",
              "transition": {
               "duration": 0,
               "easing": "linear"
              }
             }
            ],
            "label": "2020-04-01",
            "method": "animate"
           },
           {
            "args": [
             [
              "2020-04-02"
             ],
             {
              "frame": {
               "duration": 0,
               "redraw": true
              },
              "fromcurrent": true,
              "mode": "immediate",
              "transition": {
               "duration": 0,
               "easing": "linear"
              }
             }
            ],
            "label": "2020-04-02",
            "method": "animate"
           },
           {
            "args": [
             [
              "2020-04-03"
             ],
             {
              "frame": {
               "duration": 0,
               "redraw": true
              },
              "fromcurrent": true,
              "mode": "immediate",
              "transition": {
               "duration": 0,
               "easing": "linear"
              }
             }
            ],
            "label": "2020-04-03",
            "method": "animate"
           },
           {
            "args": [
             [
              "2020-04-04"
             ],
             {
              "frame": {
               "duration": 0,
               "redraw": true
              },
              "fromcurrent": true,
              "mode": "immediate",
              "transition": {
               "duration": 0,
               "easing": "linear"
              }
             }
            ],
            "label": "2020-04-04",
            "method": "animate"
           },
           {
            "args": [
             [
              "2020-04-05"
             ],
             {
              "frame": {
               "duration": 0,
               "redraw": true
              },
              "fromcurrent": true,
              "mode": "immediate",
              "transition": {
               "duration": 0,
               "easing": "linear"
              }
             }
            ],
            "label": "2020-04-05",
            "method": "animate"
           },
           {
            "args": [
             [
              "2020-04-06"
             ],
             {
              "frame": {
               "duration": 0,
               "redraw": true
              },
              "fromcurrent": true,
              "mode": "immediate",
              "transition": {
               "duration": 0,
               "easing": "linear"
              }
             }
            ],
            "label": "2020-04-06",
            "method": "animate"
           },
           {
            "args": [
             [
              "2020-04-07"
             ],
             {
              "frame": {
               "duration": 0,
               "redraw": true
              },
              "fromcurrent": true,
              "mode": "immediate",
              "transition": {
               "duration": 0,
               "easing": "linear"
              }
             }
            ],
            "label": "2020-04-07",
            "method": "animate"
           },
           {
            "args": [
             [
              "2020-04-08"
             ],
             {
              "frame": {
               "duration": 0,
               "redraw": true
              },
              "fromcurrent": true,
              "mode": "immediate",
              "transition": {
               "duration": 0,
               "easing": "linear"
              }
             }
            ],
            "label": "2020-04-08",
            "method": "animate"
           },
           {
            "args": [
             [
              "2020-04-09"
             ],
             {
              "frame": {
               "duration": 0,
               "redraw": true
              },
              "fromcurrent": true,
              "mode": "immediate",
              "transition": {
               "duration": 0,
               "easing": "linear"
              }
             }
            ],
            "label": "2020-04-09",
            "method": "animate"
           },
           {
            "args": [
             [
              "2020-04-10"
             ],
             {
              "frame": {
               "duration": 0,
               "redraw": true
              },
              "fromcurrent": true,
              "mode": "immediate",
              "transition": {
               "duration": 0,
               "easing": "linear"
              }
             }
            ],
            "label": "2020-04-10",
            "method": "animate"
           },
           {
            "args": [
             [
              "2020-04-11"
             ],
             {
              "frame": {
               "duration": 0,
               "redraw": true
              },
              "fromcurrent": true,
              "mode": "immediate",
              "transition": {
               "duration": 0,
               "easing": "linear"
              }
             }
            ],
            "label": "2020-04-11",
            "method": "animate"
           },
           {
            "args": [
             [
              "2020-04-12"
             ],
             {
              "frame": {
               "duration": 0,
               "redraw": true
              },
              "fromcurrent": true,
              "mode": "immediate",
              "transition": {
               "duration": 0,
               "easing": "linear"
              }
             }
            ],
            "label": "2020-04-12",
            "method": "animate"
           },
           {
            "args": [
             [
              "2020-04-13"
             ],
             {
              "frame": {
               "duration": 0,
               "redraw": true
              },
              "fromcurrent": true,
              "mode": "immediate",
              "transition": {
               "duration": 0,
               "easing": "linear"
              }
             }
            ],
            "label": "2020-04-13",
            "method": "animate"
           },
           {
            "args": [
             [
              "2020-04-14"
             ],
             {
              "frame": {
               "duration": 0,
               "redraw": true
              },
              "fromcurrent": true,
              "mode": "immediate",
              "transition": {
               "duration": 0,
               "easing": "linear"
              }
             }
            ],
            "label": "2020-04-14",
            "method": "animate"
           },
           {
            "args": [
             [
              "2020-04-15"
             ],
             {
              "frame": {
               "duration": 0,
               "redraw": true
              },
              "fromcurrent": true,
              "mode": "immediate",
              "transition": {
               "duration": 0,
               "easing": "linear"
              }
             }
            ],
            "label": "2020-04-15",
            "method": "animate"
           },
           {
            "args": [
             [
              "2020-04-16"
             ],
             {
              "frame": {
               "duration": 0,
               "redraw": true
              },
              "fromcurrent": true,
              "mode": "immediate",
              "transition": {
               "duration": 0,
               "easing": "linear"
              }
             }
            ],
            "label": "2020-04-16",
            "method": "animate"
           },
           {
            "args": [
             [
              "2020-04-17"
             ],
             {
              "frame": {
               "duration": 0,
               "redraw": true
              },
              "fromcurrent": true,
              "mode": "immediate",
              "transition": {
               "duration": 0,
               "easing": "linear"
              }
             }
            ],
            "label": "2020-04-17",
            "method": "animate"
           },
           {
            "args": [
             [
              "2020-04-18"
             ],
             {
              "frame": {
               "duration": 0,
               "redraw": true
              },
              "fromcurrent": true,
              "mode": "immediate",
              "transition": {
               "duration": 0,
               "easing": "linear"
              }
             }
            ],
            "label": "2020-04-18",
            "method": "animate"
           },
           {
            "args": [
             [
              "2020-04-19"
             ],
             {
              "frame": {
               "duration": 0,
               "redraw": true
              },
              "fromcurrent": true,
              "mode": "immediate",
              "transition": {
               "duration": 0,
               "easing": "linear"
              }
             }
            ],
            "label": "2020-04-19",
            "method": "animate"
           },
           {
            "args": [
             [
              "2020-04-20"
             ],
             {
              "frame": {
               "duration": 0,
               "redraw": true
              },
              "fromcurrent": true,
              "mode": "immediate",
              "transition": {
               "duration": 0,
               "easing": "linear"
              }
             }
            ],
            "label": "2020-04-20",
            "method": "animate"
           },
           {
            "args": [
             [
              "2020-04-21"
             ],
             {
              "frame": {
               "duration": 0,
               "redraw": true
              },
              "fromcurrent": true,
              "mode": "immediate",
              "transition": {
               "duration": 0,
               "easing": "linear"
              }
             }
            ],
            "label": "2020-04-21",
            "method": "animate"
           },
           {
            "args": [
             [
              "2020-04-22"
             ],
             {
              "frame": {
               "duration": 0,
               "redraw": true
              },
              "fromcurrent": true,
              "mode": "immediate",
              "transition": {
               "duration": 0,
               "easing": "linear"
              }
             }
            ],
            "label": "2020-04-22",
            "method": "animate"
           },
           {
            "args": [
             [
              "2020-04-23"
             ],
             {
              "frame": {
               "duration": 0,
               "redraw": true
              },
              "fromcurrent": true,
              "mode": "immediate",
              "transition": {
               "duration": 0,
               "easing": "linear"
              }
             }
            ],
            "label": "2020-04-23",
            "method": "animate"
           },
           {
            "args": [
             [
              "2020-04-24"
             ],
             {
              "frame": {
               "duration": 0,
               "redraw": true
              },
              "fromcurrent": true,
              "mode": "immediate",
              "transition": {
               "duration": 0,
               "easing": "linear"
              }
             }
            ],
            "label": "2020-04-24",
            "method": "animate"
           },
           {
            "args": [
             [
              "2020-04-25"
             ],
             {
              "frame": {
               "duration": 0,
               "redraw": true
              },
              "fromcurrent": true,
              "mode": "immediate",
              "transition": {
               "duration": 0,
               "easing": "linear"
              }
             }
            ],
            "label": "2020-04-25",
            "method": "animate"
           },
           {
            "args": [
             [
              "2020-04-26"
             ],
             {
              "frame": {
               "duration": 0,
               "redraw": true
              },
              "fromcurrent": true,
              "mode": "immediate",
              "transition": {
               "duration": 0,
               "easing": "linear"
              }
             }
            ],
            "label": "2020-04-26",
            "method": "animate"
           },
           {
            "args": [
             [
              "2020-04-27"
             ],
             {
              "frame": {
               "duration": 0,
               "redraw": true
              },
              "fromcurrent": true,
              "mode": "immediate",
              "transition": {
               "duration": 0,
               "easing": "linear"
              }
             }
            ],
            "label": "2020-04-27",
            "method": "animate"
           },
           {
            "args": [
             [
              "2020-04-28"
             ],
             {
              "frame": {
               "duration": 0,
               "redraw": true
              },
              "fromcurrent": true,
              "mode": "immediate",
              "transition": {
               "duration": 0,
               "easing": "linear"
              }
             }
            ],
            "label": "2020-04-28",
            "method": "animate"
           },
           {
            "args": [
             [
              "2020-04-29"
             ],
             {
              "frame": {
               "duration": 0,
               "redraw": true
              },
              "fromcurrent": true,
              "mode": "immediate",
              "transition": {
               "duration": 0,
               "easing": "linear"
              }
             }
            ],
            "label": "2020-04-29",
            "method": "animate"
           },
           {
            "args": [
             [
              "2020-04-30"
             ],
             {
              "frame": {
               "duration": 0,
               "redraw": true
              },
              "fromcurrent": true,
              "mode": "immediate",
              "transition": {
               "duration": 0,
               "easing": "linear"
              }
             }
            ],
            "label": "2020-04-30",
            "method": "animate"
           },
           {
            "args": [
             [
              "2020-05-01"
             ],
             {
              "frame": {
               "duration": 0,
               "redraw": true
              },
              "fromcurrent": true,
              "mode": "immediate",
              "transition": {
               "duration": 0,
               "easing": "linear"
              }
             }
            ],
            "label": "2020-05-01",
            "method": "animate"
           },
           {
            "args": [
             [
              "2020-05-02"
             ],
             {
              "frame": {
               "duration": 0,
               "redraw": true
              },
              "fromcurrent": true,
              "mode": "immediate",
              "transition": {
               "duration": 0,
               "easing": "linear"
              }
             }
            ],
            "label": "2020-05-02",
            "method": "animate"
           },
           {
            "args": [
             [
              "2020-05-03"
             ],
             {
              "frame": {
               "duration": 0,
               "redraw": true
              },
              "fromcurrent": true,
              "mode": "immediate",
              "transition": {
               "duration": 0,
               "easing": "linear"
              }
             }
            ],
            "label": "2020-05-03",
            "method": "animate"
           },
           {
            "args": [
             [
              "2020-05-04"
             ],
             {
              "frame": {
               "duration": 0,
               "redraw": true
              },
              "fromcurrent": true,
              "mode": "immediate",
              "transition": {
               "duration": 0,
               "easing": "linear"
              }
             }
            ],
            "label": "2020-05-04",
            "method": "animate"
           },
           {
            "args": [
             [
              "2020-05-05"
             ],
             {
              "frame": {
               "duration": 0,
               "redraw": true
              },
              "fromcurrent": true,
              "mode": "immediate",
              "transition": {
               "duration": 0,
               "easing": "linear"
              }
             }
            ],
            "label": "2020-05-05",
            "method": "animate"
           },
           {
            "args": [
             [
              "2020-05-06"
             ],
             {
              "frame": {
               "duration": 0,
               "redraw": true
              },
              "fromcurrent": true,
              "mode": "immediate",
              "transition": {
               "duration": 0,
               "easing": "linear"
              }
             }
            ],
            "label": "2020-05-06",
            "method": "animate"
           },
           {
            "args": [
             [
              "2020-05-07"
             ],
             {
              "frame": {
               "duration": 0,
               "redraw": true
              },
              "fromcurrent": true,
              "mode": "immediate",
              "transition": {
               "duration": 0,
               "easing": "linear"
              }
             }
            ],
            "label": "2020-05-07",
            "method": "animate"
           },
           {
            "args": [
             [
              "2020-05-08"
             ],
             {
              "frame": {
               "duration": 0,
               "redraw": true
              },
              "fromcurrent": true,
              "mode": "immediate",
              "transition": {
               "duration": 0,
               "easing": "linear"
              }
             }
            ],
            "label": "2020-05-08",
            "method": "animate"
           },
           {
            "args": [
             [
              "2020-05-09"
             ],
             {
              "frame": {
               "duration": 0,
               "redraw": true
              },
              "fromcurrent": true,
              "mode": "immediate",
              "transition": {
               "duration": 0,
               "easing": "linear"
              }
             }
            ],
            "label": "2020-05-09",
            "method": "animate"
           },
           {
            "args": [
             [
              "2020-05-10"
             ],
             {
              "frame": {
               "duration": 0,
               "redraw": true
              },
              "fromcurrent": true,
              "mode": "immediate",
              "transition": {
               "duration": 0,
               "easing": "linear"
              }
             }
            ],
            "label": "2020-05-10",
            "method": "animate"
           },
           {
            "args": [
             [
              "2020-05-11"
             ],
             {
              "frame": {
               "duration": 0,
               "redraw": true
              },
              "fromcurrent": true,
              "mode": "immediate",
              "transition": {
               "duration": 0,
               "easing": "linear"
              }
             }
            ],
            "label": "2020-05-11",
            "method": "animate"
           },
           {
            "args": [
             [
              "2020-05-12"
             ],
             {
              "frame": {
               "duration": 0,
               "redraw": true
              },
              "fromcurrent": true,
              "mode": "immediate",
              "transition": {
               "duration": 0,
               "easing": "linear"
              }
             }
            ],
            "label": "2020-05-12",
            "method": "animate"
           },
           {
            "args": [
             [
              "2020-05-13"
             ],
             {
              "frame": {
               "duration": 0,
               "redraw": true
              },
              "fromcurrent": true,
              "mode": "immediate",
              "transition": {
               "duration": 0,
               "easing": "linear"
              }
             }
            ],
            "label": "2020-05-13",
            "method": "animate"
           },
           {
            "args": [
             [
              "2020-05-14"
             ],
             {
              "frame": {
               "duration": 0,
               "redraw": true
              },
              "fromcurrent": true,
              "mode": "immediate",
              "transition": {
               "duration": 0,
               "easing": "linear"
              }
             }
            ],
            "label": "2020-05-14",
            "method": "animate"
           },
           {
            "args": [
             [
              "2020-05-15"
             ],
             {
              "frame": {
               "duration": 0,
               "redraw": true
              },
              "fromcurrent": true,
              "mode": "immediate",
              "transition": {
               "duration": 0,
               "easing": "linear"
              }
             }
            ],
            "label": "2020-05-15",
            "method": "animate"
           },
           {
            "args": [
             [
              "2020-05-16"
             ],
             {
              "frame": {
               "duration": 0,
               "redraw": true
              },
              "fromcurrent": true,
              "mode": "immediate",
              "transition": {
               "duration": 0,
               "easing": "linear"
              }
             }
            ],
            "label": "2020-05-16",
            "method": "animate"
           },
           {
            "args": [
             [
              "2020-05-17"
             ],
             {
              "frame": {
               "duration": 0,
               "redraw": true
              },
              "fromcurrent": true,
              "mode": "immediate",
              "transition": {
               "duration": 0,
               "easing": "linear"
              }
             }
            ],
            "label": "2020-05-17",
            "method": "animate"
           },
           {
            "args": [
             [
              "2020-05-18"
             ],
             {
              "frame": {
               "duration": 0,
               "redraw": true
              },
              "fromcurrent": true,
              "mode": "immediate",
              "transition": {
               "duration": 0,
               "easing": "linear"
              }
             }
            ],
            "label": "2020-05-18",
            "method": "animate"
           },
           {
            "args": [
             [
              "2020-05-19"
             ],
             {
              "frame": {
               "duration": 0,
               "redraw": true
              },
              "fromcurrent": true,
              "mode": "immediate",
              "transition": {
               "duration": 0,
               "easing": "linear"
              }
             }
            ],
            "label": "2020-05-19",
            "method": "animate"
           },
           {
            "args": [
             [
              "2020-05-20"
             ],
             {
              "frame": {
               "duration": 0,
               "redraw": true
              },
              "fromcurrent": true,
              "mode": "immediate",
              "transition": {
               "duration": 0,
               "easing": "linear"
              }
             }
            ],
            "label": "2020-05-20",
            "method": "animate"
           },
           {
            "args": [
             [
              "2020-05-21"
             ],
             {
              "frame": {
               "duration": 0,
               "redraw": true
              },
              "fromcurrent": true,
              "mode": "immediate",
              "transition": {
               "duration": 0,
               "easing": "linear"
              }
             }
            ],
            "label": "2020-05-21",
            "method": "animate"
           },
           {
            "args": [
             [
              "2020-05-22"
             ],
             {
              "frame": {
               "duration": 0,
               "redraw": true
              },
              "fromcurrent": true,
              "mode": "immediate",
              "transition": {
               "duration": 0,
               "easing": "linear"
              }
             }
            ],
            "label": "2020-05-22",
            "method": "animate"
           },
           {
            "args": [
             [
              "2020-05-23"
             ],
             {
              "frame": {
               "duration": 0,
               "redraw": true
              },
              "fromcurrent": true,
              "mode": "immediate",
              "transition": {
               "duration": 0,
               "easing": "linear"
              }
             }
            ],
            "label": "2020-05-23",
            "method": "animate"
           },
           {
            "args": [
             [
              "2020-05-24"
             ],
             {
              "frame": {
               "duration": 0,
               "redraw": true
              },
              "fromcurrent": true,
              "mode": "immediate",
              "transition": {
               "duration": 0,
               "easing": "linear"
              }
             }
            ],
            "label": "2020-05-24",
            "method": "animate"
           },
           {
            "args": [
             [
              "2020-05-25"
             ],
             {
              "frame": {
               "duration": 0,
               "redraw": true
              },
              "fromcurrent": true,
              "mode": "immediate",
              "transition": {
               "duration": 0,
               "easing": "linear"
              }
             }
            ],
            "label": "2020-05-25",
            "method": "animate"
           },
           {
            "args": [
             [
              "2020-05-26"
             ],
             {
              "frame": {
               "duration": 0,
               "redraw": true
              },
              "fromcurrent": true,
              "mode": "immediate",
              "transition": {
               "duration": 0,
               "easing": "linear"
              }
             }
            ],
            "label": "2020-05-26",
            "method": "animate"
           },
           {
            "args": [
             [
              "2020-05-27"
             ],
             {
              "frame": {
               "duration": 0,
               "redraw": true
              },
              "fromcurrent": true,
              "mode": "immediate",
              "transition": {
               "duration": 0,
               "easing": "linear"
              }
             }
            ],
            "label": "2020-05-27",
            "method": "animate"
           },
           {
            "args": [
             [
              "2020-05-28"
             ],
             {
              "frame": {
               "duration": 0,
               "redraw": true
              },
              "fromcurrent": true,
              "mode": "immediate",
              "transition": {
               "duration": 0,
               "easing": "linear"
              }
             }
            ],
            "label": "2020-05-28",
            "method": "animate"
           },
           {
            "args": [
             [
              "2020-05-29"
             ],
             {
              "frame": {
               "duration": 0,
               "redraw": true
              },
              "fromcurrent": true,
              "mode": "immediate",
              "transition": {
               "duration": 0,
               "easing": "linear"
              }
             }
            ],
            "label": "2020-05-29",
            "method": "animate"
           },
           {
            "args": [
             [
              "2020-05-30"
             ],
             {
              "frame": {
               "duration": 0,
               "redraw": true
              },
              "fromcurrent": true,
              "mode": "immediate",
              "transition": {
               "duration": 0,
               "easing": "linear"
              }
             }
            ],
            "label": "2020-05-30",
            "method": "animate"
           },
           {
            "args": [
             [
              "2020-05-31"
             ],
             {
              "frame": {
               "duration": 0,
               "redraw": true
              },
              "fromcurrent": true,
              "mode": "immediate",
              "transition": {
               "duration": 0,
               "easing": "linear"
              }
             }
            ],
            "label": "2020-05-31",
            "method": "animate"
           },
           {
            "args": [
             [
              "2020-06-01"
             ],
             {
              "frame": {
               "duration": 0,
               "redraw": true
              },
              "fromcurrent": true,
              "mode": "immediate",
              "transition": {
               "duration": 0,
               "easing": "linear"
              }
             }
            ],
            "label": "2020-06-01",
            "method": "animate"
           },
           {
            "args": [
             [
              "2020-06-02"
             ],
             {
              "frame": {
               "duration": 0,
               "redraw": true
              },
              "fromcurrent": true,
              "mode": "immediate",
              "transition": {
               "duration": 0,
               "easing": "linear"
              }
             }
            ],
            "label": "2020-06-02",
            "method": "animate"
           },
           {
            "args": [
             [
              "2020-06-03"
             ],
             {
              "frame": {
               "duration": 0,
               "redraw": true
              },
              "fromcurrent": true,
              "mode": "immediate",
              "transition": {
               "duration": 0,
               "easing": "linear"
              }
             }
            ],
            "label": "2020-06-03",
            "method": "animate"
           },
           {
            "args": [
             [
              "2020-06-04"
             ],
             {
              "frame": {
               "duration": 0,
               "redraw": true
              },
              "fromcurrent": true,
              "mode": "immediate",
              "transition": {
               "duration": 0,
               "easing": "linear"
              }
             }
            ],
            "label": "2020-06-04",
            "method": "animate"
           },
           {
            "args": [
             [
              "2020-06-05"
             ],
             {
              "frame": {
               "duration": 0,
               "redraw": true
              },
              "fromcurrent": true,
              "mode": "immediate",
              "transition": {
               "duration": 0,
               "easing": "linear"
              }
             }
            ],
            "label": "2020-06-05",
            "method": "animate"
           },
           {
            "args": [
             [
              "2020-06-06"
             ],
             {
              "frame": {
               "duration": 0,
               "redraw": true
              },
              "fromcurrent": true,
              "mode": "immediate",
              "transition": {
               "duration": 0,
               "easing": "linear"
              }
             }
            ],
            "label": "2020-06-06",
            "method": "animate"
           },
           {
            "args": [
             [
              "2020-06-07"
             ],
             {
              "frame": {
               "duration": 0,
               "redraw": true
              },
              "fromcurrent": true,
              "mode": "immediate",
              "transition": {
               "duration": 0,
               "easing": "linear"
              }
             }
            ],
            "label": "2020-06-07",
            "method": "animate"
           },
           {
            "args": [
             [
              "2020-06-08"
             ],
             {
              "frame": {
               "duration": 0,
               "redraw": true
              },
              "fromcurrent": true,
              "mode": "immediate",
              "transition": {
               "duration": 0,
               "easing": "linear"
              }
             }
            ],
            "label": "2020-06-08",
            "method": "animate"
           },
           {
            "args": [
             [
              "2020-06-09"
             ],
             {
              "frame": {
               "duration": 0,
               "redraw": true
              },
              "fromcurrent": true,
              "mode": "immediate",
              "transition": {
               "duration": 0,
               "easing": "linear"
              }
             }
            ],
            "label": "2020-06-09",
            "method": "animate"
           },
           {
            "args": [
             [
              "2020-06-10"
             ],
             {
              "frame": {
               "duration": 0,
               "redraw": true
              },
              "fromcurrent": true,
              "mode": "immediate",
              "transition": {
               "duration": 0,
               "easing": "linear"
              }
             }
            ],
            "label": "2020-06-10",
            "method": "animate"
           },
           {
            "args": [
             [
              "2020-06-11"
             ],
             {
              "frame": {
               "duration": 0,
               "redraw": true
              },
              "fromcurrent": true,
              "mode": "immediate",
              "transition": {
               "duration": 0,
               "easing": "linear"
              }
             }
            ],
            "label": "2020-06-11",
            "method": "animate"
           },
           {
            "args": [
             [
              "2020-06-12"
             ],
             {
              "frame": {
               "duration": 0,
               "redraw": true
              },
              "fromcurrent": true,
              "mode": "immediate",
              "transition": {
               "duration": 0,
               "easing": "linear"
              }
             }
            ],
            "label": "2020-06-12",
            "method": "animate"
           },
           {
            "args": [
             [
              "2020-06-13"
             ],
             {
              "frame": {
               "duration": 0,
               "redraw": true
              },
              "fromcurrent": true,
              "mode": "immediate",
              "transition": {
               "duration": 0,
               "easing": "linear"
              }
             }
            ],
            "label": "2020-06-13",
            "method": "animate"
           },
           {
            "args": [
             [
              "2020-06-14"
             ],
             {
              "frame": {
               "duration": 0,
               "redraw": true
              },
              "fromcurrent": true,
              "mode": "immediate",
              "transition": {
               "duration": 0,
               "easing": "linear"
              }
             }
            ],
            "label": "2020-06-14",
            "method": "animate"
           },
           {
            "args": [
             [
              "2020-06-15"
             ],
             {
              "frame": {
               "duration": 0,
               "redraw": true
              },
              "fromcurrent": true,
              "mode": "immediate",
              "transition": {
               "duration": 0,
               "easing": "linear"
              }
             }
            ],
            "label": "2020-06-15",
            "method": "animate"
           },
           {
            "args": [
             [
              "2020-06-16"
             ],
             {
              "frame": {
               "duration": 0,
               "redraw": true
              },
              "fromcurrent": true,
              "mode": "immediate",
              "transition": {
               "duration": 0,
               "easing": "linear"
              }
             }
            ],
            "label": "2020-06-16",
            "method": "animate"
           },
           {
            "args": [
             [
              "2020-06-17"
             ],
             {
              "frame": {
               "duration": 0,
               "redraw": true
              },
              "fromcurrent": true,
              "mode": "immediate",
              "transition": {
               "duration": 0,
               "easing": "linear"
              }
             }
            ],
            "label": "2020-06-17",
            "method": "animate"
           },
           {
            "args": [
             [
              "2020-06-18"
             ],
             {
              "frame": {
               "duration": 0,
               "redraw": true
              },
              "fromcurrent": true,
              "mode": "immediate",
              "transition": {
               "duration": 0,
               "easing": "linear"
              }
             }
            ],
            "label": "2020-06-18",
            "method": "animate"
           },
           {
            "args": [
             [
              "2020-06-19"
             ],
             {
              "frame": {
               "duration": 0,
               "redraw": true
              },
              "fromcurrent": true,
              "mode": "immediate",
              "transition": {
               "duration": 0,
               "easing": "linear"
              }
             }
            ],
            "label": "2020-06-19",
            "method": "animate"
           },
           {
            "args": [
             [
              "2020-06-20"
             ],
             {
              "frame": {
               "duration": 0,
               "redraw": true
              },
              "fromcurrent": true,
              "mode": "immediate",
              "transition": {
               "duration": 0,
               "easing": "linear"
              }
             }
            ],
            "label": "2020-06-20",
            "method": "animate"
           },
           {
            "args": [
             [
              "2020-06-21"
             ],
             {
              "frame": {
               "duration": 0,
               "redraw": true
              },
              "fromcurrent": true,
              "mode": "immediate",
              "transition": {
               "duration": 0,
               "easing": "linear"
              }
             }
            ],
            "label": "2020-06-21",
            "method": "animate"
           },
           {
            "args": [
             [
              "2020-06-22"
             ],
             {
              "frame": {
               "duration": 0,
               "redraw": true
              },
              "fromcurrent": true,
              "mode": "immediate",
              "transition": {
               "duration": 0,
               "easing": "linear"
              }
             }
            ],
            "label": "2020-06-22",
            "method": "animate"
           },
           {
            "args": [
             [
              "2020-06-23"
             ],
             {
              "frame": {
               "duration": 0,
               "redraw": true
              },
              "fromcurrent": true,
              "mode": "immediate",
              "transition": {
               "duration": 0,
               "easing": "linear"
              }
             }
            ],
            "label": "2020-06-23",
            "method": "animate"
           },
           {
            "args": [
             [
              "2020-06-24"
             ],
             {
              "frame": {
               "duration": 0,
               "redraw": true
              },
              "fromcurrent": true,
              "mode": "immediate",
              "transition": {
               "duration": 0,
               "easing": "linear"
              }
             }
            ],
            "label": "2020-06-24",
            "method": "animate"
           },
           {
            "args": [
             [
              "2020-06-25"
             ],
             {
              "frame": {
               "duration": 0,
               "redraw": true
              },
              "fromcurrent": true,
              "mode": "immediate",
              "transition": {
               "duration": 0,
               "easing": "linear"
              }
             }
            ],
            "label": "2020-06-25",
            "method": "animate"
           },
           {
            "args": [
             [
              "2020-06-26"
             ],
             {
              "frame": {
               "duration": 0,
               "redraw": true
              },
              "fromcurrent": true,
              "mode": "immediate",
              "transition": {
               "duration": 0,
               "easing": "linear"
              }
             }
            ],
            "label": "2020-06-26",
            "method": "animate"
           },
           {
            "args": [
             [
              "2020-06-27"
             ],
             {
              "frame": {
               "duration": 0,
               "redraw": true
              },
              "fromcurrent": true,
              "mode": "immediate",
              "transition": {
               "duration": 0,
               "easing": "linear"
              }
             }
            ],
            "label": "2020-06-27",
            "method": "animate"
           },
           {
            "args": [
             [
              "2020-06-28"
             ],
             {
              "frame": {
               "duration": 0,
               "redraw": true
              },
              "fromcurrent": true,
              "mode": "immediate",
              "transition": {
               "duration": 0,
               "easing": "linear"
              }
             }
            ],
            "label": "2020-06-28",
            "method": "animate"
           },
           {
            "args": [
             [
              "2020-06-29"
             ],
             {
              "frame": {
               "duration": 0,
               "redraw": true
              },
              "fromcurrent": true,
              "mode": "immediate",
              "transition": {
               "duration": 0,
               "easing": "linear"
              }
             }
            ],
            "label": "2020-06-29",
            "method": "animate"
           },
           {
            "args": [
             [
              "2020-06-30"
             ],
             {
              "frame": {
               "duration": 0,
               "redraw": true
              },
              "fromcurrent": true,
              "mode": "immediate",
              "transition": {
               "duration": 0,
               "easing": "linear"
              }
             }
            ],
            "label": "2020-06-30",
            "method": "animate"
           },
           {
            "args": [
             [
              "2020-07-01"
             ],
             {
              "frame": {
               "duration": 0,
               "redraw": true
              },
              "fromcurrent": true,
              "mode": "immediate",
              "transition": {
               "duration": 0,
               "easing": "linear"
              }
             }
            ],
            "label": "2020-07-01",
            "method": "animate"
           },
           {
            "args": [
             [
              "2020-07-02"
             ],
             {
              "frame": {
               "duration": 0,
               "redraw": true
              },
              "fromcurrent": true,
              "mode": "immediate",
              "transition": {
               "duration": 0,
               "easing": "linear"
              }
             }
            ],
            "label": "2020-07-02",
            "method": "animate"
           },
           {
            "args": [
             [
              "2020-07-03"
             ],
             {
              "frame": {
               "duration": 0,
               "redraw": true
              },
              "fromcurrent": true,
              "mode": "immediate",
              "transition": {
               "duration": 0,
               "easing": "linear"
              }
             }
            ],
            "label": "2020-07-03",
            "method": "animate"
           },
           {
            "args": [
             [
              "2020-07-04"
             ],
             {
              "frame": {
               "duration": 0,
               "redraw": true
              },
              "fromcurrent": true,
              "mode": "immediate",
              "transition": {
               "duration": 0,
               "easing": "linear"
              }
             }
            ],
            "label": "2020-07-04",
            "method": "animate"
           },
           {
            "args": [
             [
              "2020-07-05"
             ],
             {
              "frame": {
               "duration": 0,
               "redraw": true
              },
              "fromcurrent": true,
              "mode": "immediate",
              "transition": {
               "duration": 0,
               "easing": "linear"
              }
             }
            ],
            "label": "2020-07-05",
            "method": "animate"
           },
           {
            "args": [
             [
              "2020-07-06"
             ],
             {
              "frame": {
               "duration": 0,
               "redraw": true
              },
              "fromcurrent": true,
              "mode": "immediate",
              "transition": {
               "duration": 0,
               "easing": "linear"
              }
             }
            ],
            "label": "2020-07-06",
            "method": "animate"
           },
           {
            "args": [
             [
              "2020-07-07"
             ],
             {
              "frame": {
               "duration": 0,
               "redraw": true
              },
              "fromcurrent": true,
              "mode": "immediate",
              "transition": {
               "duration": 0,
               "easing": "linear"
              }
             }
            ],
            "label": "2020-07-07",
            "method": "animate"
           },
           {
            "args": [
             [
              "2020-07-08"
             ],
             {
              "frame": {
               "duration": 0,
               "redraw": true
              },
              "fromcurrent": true,
              "mode": "immediate",
              "transition": {
               "duration": 0,
               "easing": "linear"
              }
             }
            ],
            "label": "2020-07-08",
            "method": "animate"
           },
           {
            "args": [
             [
              "2020-07-09"
             ],
             {
              "frame": {
               "duration": 0,
               "redraw": true
              },
              "fromcurrent": true,
              "mode": "immediate",
              "transition": {
               "duration": 0,
               "easing": "linear"
              }
             }
            ],
            "label": "2020-07-09",
            "method": "animate"
           },
           {
            "args": [
             [
              "2020-07-10"
             ],
             {
              "frame": {
               "duration": 0,
               "redraw": true
              },
              "fromcurrent": true,
              "mode": "immediate",
              "transition": {
               "duration": 0,
               "easing": "linear"
              }
             }
            ],
            "label": "2020-07-10",
            "method": "animate"
           },
           {
            "args": [
             [
              "2020-07-11"
             ],
             {
              "frame": {
               "duration": 0,
               "redraw": true
              },
              "fromcurrent": true,
              "mode": "immediate",
              "transition": {
               "duration": 0,
               "easing": "linear"
              }
             }
            ],
            "label": "2020-07-11",
            "method": "animate"
           },
           {
            "args": [
             [
              "2020-07-12"
             ],
             {
              "frame": {
               "duration": 0,
               "redraw": true
              },
              "fromcurrent": true,
              "mode": "immediate",
              "transition": {
               "duration": 0,
               "easing": "linear"
              }
             }
            ],
            "label": "2020-07-12",
            "method": "animate"
           },
           {
            "args": [
             [
              "2020-07-13"
             ],
             {
              "frame": {
               "duration": 0,
               "redraw": true
              },
              "fromcurrent": true,
              "mode": "immediate",
              "transition": {
               "duration": 0,
               "easing": "linear"
              }
             }
            ],
            "label": "2020-07-13",
            "method": "animate"
           },
           {
            "args": [
             [
              "2020-07-14"
             ],
             {
              "frame": {
               "duration": 0,
               "redraw": true
              },
              "fromcurrent": true,
              "mode": "immediate",
              "transition": {
               "duration": 0,
               "easing": "linear"
              }
             }
            ],
            "label": "2020-07-14",
            "method": "animate"
           },
           {
            "args": [
             [
              "2020-07-15"
             ],
             {
              "frame": {
               "duration": 0,
               "redraw": true
              },
              "fromcurrent": true,
              "mode": "immediate",
              "transition": {
               "duration": 0,
               "easing": "linear"
              }
             }
            ],
            "label": "2020-07-15",
            "method": "animate"
           },
           {
            "args": [
             [
              "2020-07-16"
             ],
             {
              "frame": {
               "duration": 0,
               "redraw": true
              },
              "fromcurrent": true,
              "mode": "immediate",
              "transition": {
               "duration": 0,
               "easing": "linear"
              }
             }
            ],
            "label": "2020-07-16",
            "method": "animate"
           },
           {
            "args": [
             [
              "2020-07-17"
             ],
             {
              "frame": {
               "duration": 0,
               "redraw": true
              },
              "fromcurrent": true,
              "mode": "immediate",
              "transition": {
               "duration": 0,
               "easing": "linear"
              }
             }
            ],
            "label": "2020-07-17",
            "method": "animate"
           },
           {
            "args": [
             [
              "2020-07-18"
             ],
             {
              "frame": {
               "duration": 0,
               "redraw": true
              },
              "fromcurrent": true,
              "mode": "immediate",
              "transition": {
               "duration": 0,
               "easing": "linear"
              }
             }
            ],
            "label": "2020-07-18",
            "method": "animate"
           },
           {
            "args": [
             [
              "2020-07-19"
             ],
             {
              "frame": {
               "duration": 0,
               "redraw": true
              },
              "fromcurrent": true,
              "mode": "immediate",
              "transition": {
               "duration": 0,
               "easing": "linear"
              }
             }
            ],
            "label": "2020-07-19",
            "method": "animate"
           },
           {
            "args": [
             [
              "2020-07-20"
             ],
             {
              "frame": {
               "duration": 0,
               "redraw": true
              },
              "fromcurrent": true,
              "mode": "immediate",
              "transition": {
               "duration": 0,
               "easing": "linear"
              }
             }
            ],
            "label": "2020-07-20",
            "method": "animate"
           },
           {
            "args": [
             [
              "2020-07-21"
             ],
             {
              "frame": {
               "duration": 0,
               "redraw": true
              },
              "fromcurrent": true,
              "mode": "immediate",
              "transition": {
               "duration": 0,
               "easing": "linear"
              }
             }
            ],
            "label": "2020-07-21",
            "method": "animate"
           },
           {
            "args": [
             [
              "2020-07-22"
             ],
             {
              "frame": {
               "duration": 0,
               "redraw": true
              },
              "fromcurrent": true,
              "mode": "immediate",
              "transition": {
               "duration": 0,
               "easing": "linear"
              }
             }
            ],
            "label": "2020-07-22",
            "method": "animate"
           },
           {
            "args": [
             [
              "2020-07-23"
             ],
             {
              "frame": {
               "duration": 0,
               "redraw": true
              },
              "fromcurrent": true,
              "mode": "immediate",
              "transition": {
               "duration": 0,
               "easing": "linear"
              }
             }
            ],
            "label": "2020-07-23",
            "method": "animate"
           },
           {
            "args": [
             [
              "2020-07-24"
             ],
             {
              "frame": {
               "duration": 0,
               "redraw": true
              },
              "fromcurrent": true,
              "mode": "immediate",
              "transition": {
               "duration": 0,
               "easing": "linear"
              }
             }
            ],
            "label": "2020-07-24",
            "method": "animate"
           },
           {
            "args": [
             [
              "2020-07-25"
             ],
             {
              "frame": {
               "duration": 0,
               "redraw": true
              },
              "fromcurrent": true,
              "mode": "immediate",
              "transition": {
               "duration": 0,
               "easing": "linear"
              }
             }
            ],
            "label": "2020-07-25",
            "method": "animate"
           },
           {
            "args": [
             [
              "2020-07-26"
             ],
             {
              "frame": {
               "duration": 0,
               "redraw": true
              },
              "fromcurrent": true,
              "mode": "immediate",
              "transition": {
               "duration": 0,
               "easing": "linear"
              }
             }
            ],
            "label": "2020-07-26",
            "method": "animate"
           },
           {
            "args": [
             [
              "2020-07-27"
             ],
             {
              "frame": {
               "duration": 0,
               "redraw": true
              },
              "fromcurrent": true,
              "mode": "immediate",
              "transition": {
               "duration": 0,
               "easing": "linear"
              }
             }
            ],
            "label": "2020-07-27",
            "method": "animate"
           },
           {
            "args": [
             [
              "2020-07-28"
             ],
             {
              "frame": {
               "duration": 0,
               "redraw": true
              },
              "fromcurrent": true,
              "mode": "immediate",
              "transition": {
               "duration": 0,
               "easing": "linear"
              }
             }
            ],
            "label": "2020-07-28",
            "method": "animate"
           },
           {
            "args": [
             [
              "2020-07-29"
             ],
             {
              "frame": {
               "duration": 0,
               "redraw": true
              },
              "fromcurrent": true,
              "mode": "immediate",
              "transition": {
               "duration": 0,
               "easing": "linear"
              }
             }
            ],
            "label": "2020-07-29",
            "method": "animate"
           },
           {
            "args": [
             [
              "2020-07-30"
             ],
             {
              "frame": {
               "duration": 0,
               "redraw": true
              },
              "fromcurrent": true,
              "mode": "immediate",
              "transition": {
               "duration": 0,
               "easing": "linear"
              }
             }
            ],
            "label": "2020-07-30",
            "method": "animate"
           },
           {
            "args": [
             [
              "2020-07-31"
             ],
             {
              "frame": {
               "duration": 0,
               "redraw": true
              },
              "fromcurrent": true,
              "mode": "immediate",
              "transition": {
               "duration": 0,
               "easing": "linear"
              }
             }
            ],
            "label": "2020-07-31",
            "method": "animate"
           },
           {
            "args": [
             [
              "2020-08-01"
             ],
             {
              "frame": {
               "duration": 0,
               "redraw": true
              },
              "fromcurrent": true,
              "mode": "immediate",
              "transition": {
               "duration": 0,
               "easing": "linear"
              }
             }
            ],
            "label": "2020-08-01",
            "method": "animate"
           },
           {
            "args": [
             [
              "2020-08-02"
             ],
             {
              "frame": {
               "duration": 0,
               "redraw": true
              },
              "fromcurrent": true,
              "mode": "immediate",
              "transition": {
               "duration": 0,
               "easing": "linear"
              }
             }
            ],
            "label": "2020-08-02",
            "method": "animate"
           },
           {
            "args": [
             [
              "2020-08-03"
             ],
             {
              "frame": {
               "duration": 0,
               "redraw": true
              },
              "fromcurrent": true,
              "mode": "immediate",
              "transition": {
               "duration": 0,
               "easing": "linear"
              }
             }
            ],
            "label": "2020-08-03",
            "method": "animate"
           },
           {
            "args": [
             [
              "2020-08-04"
             ],
             {
              "frame": {
               "duration": 0,
               "redraw": true
              },
              "fromcurrent": true,
              "mode": "immediate",
              "transition": {
               "duration": 0,
               "easing": "linear"
              }
             }
            ],
            "label": "2020-08-04",
            "method": "animate"
           },
           {
            "args": [
             [
              "2020-08-05"
             ],
             {
              "frame": {
               "duration": 0,
               "redraw": true
              },
              "fromcurrent": true,
              "mode": "immediate",
              "transition": {
               "duration": 0,
               "easing": "linear"
              }
             }
            ],
            "label": "2020-08-05",
            "method": "animate"
           },
           {
            "args": [
             [
              "2020-08-06"
             ],
             {
              "frame": {
               "duration": 0,
               "redraw": true
              },
              "fromcurrent": true,
              "mode": "immediate",
              "transition": {
               "duration": 0,
               "easing": "linear"
              }
             }
            ],
            "label": "2020-08-06",
            "method": "animate"
           },
           {
            "args": [
             [
              "2020-08-07"
             ],
             {
              "frame": {
               "duration": 0,
               "redraw": true
              },
              "fromcurrent": true,
              "mode": "immediate",
              "transition": {
               "duration": 0,
               "easing": "linear"
              }
             }
            ],
            "label": "2020-08-07",
            "method": "animate"
           },
           {
            "args": [
             [
              "2020-08-08"
             ],
             {
              "frame": {
               "duration": 0,
               "redraw": true
              },
              "fromcurrent": true,
              "mode": "immediate",
              "transition": {
               "duration": 0,
               "easing": "linear"
              }
             }
            ],
            "label": "2020-08-08",
            "method": "animate"
           },
           {
            "args": [
             [
              "2020-08-09"
             ],
             {
              "frame": {
               "duration": 0,
               "redraw": true
              },
              "fromcurrent": true,
              "mode": "immediate",
              "transition": {
               "duration": 0,
               "easing": "linear"
              }
             }
            ],
            "label": "2020-08-09",
            "method": "animate"
           },
           {
            "args": [
             [
              "2020-08-10"
             ],
             {
              "frame": {
               "duration": 0,
               "redraw": true
              },
              "fromcurrent": true,
              "mode": "immediate",
              "transition": {
               "duration": 0,
               "easing": "linear"
              }
             }
            ],
            "label": "2020-08-10",
            "method": "animate"
           },
           {
            "args": [
             [
              "2020-08-11"
             ],
             {
              "frame": {
               "duration": 0,
               "redraw": true
              },
              "fromcurrent": true,
              "mode": "immediate",
              "transition": {
               "duration": 0,
               "easing": "linear"
              }
             }
            ],
            "label": "2020-08-11",
            "method": "animate"
           },
           {
            "args": [
             [
              "2020-08-12"
             ],
             {
              "frame": {
               "duration": 0,
               "redraw": true
              },
              "fromcurrent": true,
              "mode": "immediate",
              "transition": {
               "duration": 0,
               "easing": "linear"
              }
             }
            ],
            "label": "2020-08-12",
            "method": "animate"
           },
           {
            "args": [
             [
              "2020-08-13"
             ],
             {
              "frame": {
               "duration": 0,
               "redraw": true
              },
              "fromcurrent": true,
              "mode": "immediate",
              "transition": {
               "duration": 0,
               "easing": "linear"
              }
             }
            ],
            "label": "2020-08-13",
            "method": "animate"
           },
           {
            "args": [
             [
              "2020-08-14"
             ],
             {
              "frame": {
               "duration": 0,
               "redraw": true
              },
              "fromcurrent": true,
              "mode": "immediate",
              "transition": {
               "duration": 0,
               "easing": "linear"
              }
             }
            ],
            "label": "2020-08-14",
            "method": "animate"
           },
           {
            "args": [
             [
              "2020-08-15"
             ],
             {
              "frame": {
               "duration": 0,
               "redraw": true
              },
              "fromcurrent": true,
              "mode": "immediate",
              "transition": {
               "duration": 0,
               "easing": "linear"
              }
             }
            ],
            "label": "2020-08-15",
            "method": "animate"
           },
           {
            "args": [
             [
              "2020-08-16"
             ],
             {
              "frame": {
               "duration": 0,
               "redraw": true
              },
              "fromcurrent": true,
              "mode": "immediate",
              "transition": {
               "duration": 0,
               "easing": "linear"
              }
             }
            ],
            "label": "2020-08-16",
            "method": "animate"
           },
           {
            "args": [
             [
              "2020-08-17"
             ],
             {
              "frame": {
               "duration": 0,
               "redraw": true
              },
              "fromcurrent": true,
              "mode": "immediate",
              "transition": {
               "duration": 0,
               "easing": "linear"
              }
             }
            ],
            "label": "2020-08-17",
            "method": "animate"
           },
           {
            "args": [
             [
              "2020-08-18"
             ],
             {
              "frame": {
               "duration": 0,
               "redraw": true
              },
              "fromcurrent": true,
              "mode": "immediate",
              "transition": {
               "duration": 0,
               "easing": "linear"
              }
             }
            ],
            "label": "2020-08-18",
            "method": "animate"
           },
           {
            "args": [
             [
              "2020-08-19"
             ],
             {
              "frame": {
               "duration": 0,
               "redraw": true
              },
              "fromcurrent": true,
              "mode": "immediate",
              "transition": {
               "duration": 0,
               "easing": "linear"
              }
             }
            ],
            "label": "2020-08-19",
            "method": "animate"
           },
           {
            "args": [
             [
              "2020-08-20"
             ],
             {
              "frame": {
               "duration": 0,
               "redraw": true
              },
              "fromcurrent": true,
              "mode": "immediate",
              "transition": {
               "duration": 0,
               "easing": "linear"
              }
             }
            ],
            "label": "2020-08-20",
            "method": "animate"
           },
           {
            "args": [
             [
              "2020-08-21"
             ],
             {
              "frame": {
               "duration": 0,
               "redraw": true
              },
              "fromcurrent": true,
              "mode": "immediate",
              "transition": {
               "duration": 0,
               "easing": "linear"
              }
             }
            ],
            "label": "2020-08-21",
            "method": "animate"
           },
           {
            "args": [
             [
              "2020-08-22"
             ],
             {
              "frame": {
               "duration": 0,
               "redraw": true
              },
              "fromcurrent": true,
              "mode": "immediate",
              "transition": {
               "duration": 0,
               "easing": "linear"
              }
             }
            ],
            "label": "2020-08-22",
            "method": "animate"
           },
           {
            "args": [
             [
              "2020-08-23"
             ],
             {
              "frame": {
               "duration": 0,
               "redraw": true
              },
              "fromcurrent": true,
              "mode": "immediate",
              "transition": {
               "duration": 0,
               "easing": "linear"
              }
             }
            ],
            "label": "2020-08-23",
            "method": "animate"
           },
           {
            "args": [
             [
              "2020-08-24"
             ],
             {
              "frame": {
               "duration": 0,
               "redraw": true
              },
              "fromcurrent": true,
              "mode": "immediate",
              "transition": {
               "duration": 0,
               "easing": "linear"
              }
             }
            ],
            "label": "2020-08-24",
            "method": "animate"
           },
           {
            "args": [
             [
              "2020-08-25"
             ],
             {
              "frame": {
               "duration": 0,
               "redraw": true
              },
              "fromcurrent": true,
              "mode": "immediate",
              "transition": {
               "duration": 0,
               "easing": "linear"
              }
             }
            ],
            "label": "2020-08-25",
            "method": "animate"
           },
           {
            "args": [
             [
              "2020-08-26"
             ],
             {
              "frame": {
               "duration": 0,
               "redraw": true
              },
              "fromcurrent": true,
              "mode": "immediate",
              "transition": {
               "duration": 0,
               "easing": "linear"
              }
             }
            ],
            "label": "2020-08-26",
            "method": "animate"
           },
           {
            "args": [
             [
              "2020-08-27"
             ],
             {
              "frame": {
               "duration": 0,
               "redraw": true
              },
              "fromcurrent": true,
              "mode": "immediate",
              "transition": {
               "duration": 0,
               "easing": "linear"
              }
             }
            ],
            "label": "2020-08-27",
            "method": "animate"
           },
           {
            "args": [
             [
              "2020-08-28"
             ],
             {
              "frame": {
               "duration": 0,
               "redraw": true
              },
              "fromcurrent": true,
              "mode": "immediate",
              "transition": {
               "duration": 0,
               "easing": "linear"
              }
             }
            ],
            "label": "2020-08-28",
            "method": "animate"
           },
           {
            "args": [
             [
              "2020-08-29"
             ],
             {
              "frame": {
               "duration": 0,
               "redraw": true
              },
              "fromcurrent": true,
              "mode": "immediate",
              "transition": {
               "duration": 0,
               "easing": "linear"
              }
             }
            ],
            "label": "2020-08-29",
            "method": "animate"
           },
           {
            "args": [
             [
              "2020-08-30"
             ],
             {
              "frame": {
               "duration": 0,
               "redraw": true
              },
              "fromcurrent": true,
              "mode": "immediate",
              "transition": {
               "duration": 0,
               "easing": "linear"
              }
             }
            ],
            "label": "2020-08-30",
            "method": "animate"
           },
           {
            "args": [
             [
              "2020-08-31"
             ],
             {
              "frame": {
               "duration": 0,
               "redraw": true
              },
              "fromcurrent": true,
              "mode": "immediate",
              "transition": {
               "duration": 0,
               "easing": "linear"
              }
             }
            ],
            "label": "2020-08-31",
            "method": "animate"
           },
           {
            "args": [
             [
              "2020-09-01"
             ],
             {
              "frame": {
               "duration": 0,
               "redraw": true
              },
              "fromcurrent": true,
              "mode": "immediate",
              "transition": {
               "duration": 0,
               "easing": "linear"
              }
             }
            ],
            "label": "2020-09-01",
            "method": "animate"
           },
           {
            "args": [
             [
              "2020-09-02"
             ],
             {
              "frame": {
               "duration": 0,
               "redraw": true
              },
              "fromcurrent": true,
              "mode": "immediate",
              "transition": {
               "duration": 0,
               "easing": "linear"
              }
             }
            ],
            "label": "2020-09-02",
            "method": "animate"
           },
           {
            "args": [
             [
              "2020-09-03"
             ],
             {
              "frame": {
               "duration": 0,
               "redraw": true
              },
              "fromcurrent": true,
              "mode": "immediate",
              "transition": {
               "duration": 0,
               "easing": "linear"
              }
             }
            ],
            "label": "2020-09-03",
            "method": "animate"
           },
           {
            "args": [
             [
              "2020-09-04"
             ],
             {
              "frame": {
               "duration": 0,
               "redraw": true
              },
              "fromcurrent": true,
              "mode": "immediate",
              "transition": {
               "duration": 0,
               "easing": "linear"
              }
             }
            ],
            "label": "2020-09-04",
            "method": "animate"
           },
           {
            "args": [
             [
              "2020-09-05"
             ],
             {
              "frame": {
               "duration": 0,
               "redraw": true
              },
              "fromcurrent": true,
              "mode": "immediate",
              "transition": {
               "duration": 0,
               "easing": "linear"
              }
             }
            ],
            "label": "2020-09-05",
            "method": "animate"
           },
           {
            "args": [
             [
              "2020-09-06"
             ],
             {
              "frame": {
               "duration": 0,
               "redraw": true
              },
              "fromcurrent": true,
              "mode": "immediate",
              "transition": {
               "duration": 0,
               "easing": "linear"
              }
             }
            ],
            "label": "2020-09-06",
            "method": "animate"
           },
           {
            "args": [
             [
              "2020-09-07"
             ],
             {
              "frame": {
               "duration": 0,
               "redraw": true
              },
              "fromcurrent": true,
              "mode": "immediate",
              "transition": {
               "duration": 0,
               "easing": "linear"
              }
             }
            ],
            "label": "2020-09-07",
            "method": "animate"
           },
           {
            "args": [
             [
              "2020-09-08"
             ],
             {
              "frame": {
               "duration": 0,
               "redraw": true
              },
              "fromcurrent": true,
              "mode": "immediate",
              "transition": {
               "duration": 0,
               "easing": "linear"
              }
             }
            ],
            "label": "2020-09-08",
            "method": "animate"
           },
           {
            "args": [
             [
              "2020-09-09"
             ],
             {
              "frame": {
               "duration": 0,
               "redraw": true
              },
              "fromcurrent": true,
              "mode": "immediate",
              "transition": {
               "duration": 0,
               "easing": "linear"
              }
             }
            ],
            "label": "2020-09-09",
            "method": "animate"
           },
           {
            "args": [
             [
              "2020-09-10"
             ],
             {
              "frame": {
               "duration": 0,
               "redraw": true
              },
              "fromcurrent": true,
              "mode": "immediate",
              "transition": {
               "duration": 0,
               "easing": "linear"
              }
             }
            ],
            "label": "2020-09-10",
            "method": "animate"
           },
           {
            "args": [
             [
              "2020-09-11"
             ],
             {
              "frame": {
               "duration": 0,
               "redraw": true
              },
              "fromcurrent": true,
              "mode": "immediate",
              "transition": {
               "duration": 0,
               "easing": "linear"
              }
             }
            ],
            "label": "2020-09-11",
            "method": "animate"
           },
           {
            "args": [
             [
              "2020-09-12"
             ],
             {
              "frame": {
               "duration": 0,
               "redraw": true
              },
              "fromcurrent": true,
              "mode": "immediate",
              "transition": {
               "duration": 0,
               "easing": "linear"
              }
             }
            ],
            "label": "2020-09-12",
            "method": "animate"
           },
           {
            "args": [
             [
              "2020-09-13"
             ],
             {
              "frame": {
               "duration": 0,
               "redraw": true
              },
              "fromcurrent": true,
              "mode": "immediate",
              "transition": {
               "duration": 0,
               "easing": "linear"
              }
             }
            ],
            "label": "2020-09-13",
            "method": "animate"
           },
           {
            "args": [
             [
              "2020-09-14"
             ],
             {
              "frame": {
               "duration": 0,
               "redraw": true
              },
              "fromcurrent": true,
              "mode": "immediate",
              "transition": {
               "duration": 0,
               "easing": "linear"
              }
             }
            ],
            "label": "2020-09-14",
            "method": "animate"
           },
           {
            "args": [
             [
              "2020-09-15"
             ],
             {
              "frame": {
               "duration": 0,
               "redraw": true
              },
              "fromcurrent": true,
              "mode": "immediate",
              "transition": {
               "duration": 0,
               "easing": "linear"
              }
             }
            ],
            "label": "2020-09-15",
            "method": "animate"
           },
           {
            "args": [
             [
              "2020-09-16"
             ],
             {
              "frame": {
               "duration": 0,
               "redraw": true
              },
              "fromcurrent": true,
              "mode": "immediate",
              "transition": {
               "duration": 0,
               "easing": "linear"
              }
             }
            ],
            "label": "2020-09-16",
            "method": "animate"
           },
           {
            "args": [
             [
              "2020-09-17"
             ],
             {
              "frame": {
               "duration": 0,
               "redraw": true
              },
              "fromcurrent": true,
              "mode": "immediate",
              "transition": {
               "duration": 0,
               "easing": "linear"
              }
             }
            ],
            "label": "2020-09-17",
            "method": "animate"
           },
           {
            "args": [
             [
              "2020-09-18"
             ],
             {
              "frame": {
               "duration": 0,
               "redraw": true
              },
              "fromcurrent": true,
              "mode": "immediate",
              "transition": {
               "duration": 0,
               "easing": "linear"
              }
             }
            ],
            "label": "2020-09-18",
            "method": "animate"
           },
           {
            "args": [
             [
              "2020-09-19"
             ],
             {
              "frame": {
               "duration": 0,
               "redraw": true
              },
              "fromcurrent": true,
              "mode": "immediate",
              "transition": {
               "duration": 0,
               "easing": "linear"
              }
             }
            ],
            "label": "2020-09-19",
            "method": "animate"
           },
           {
            "args": [
             [
              "2020-09-20"
             ],
             {
              "frame": {
               "duration": 0,
               "redraw": true
              },
              "fromcurrent": true,
              "mode": "immediate",
              "transition": {
               "duration": 0,
               "easing": "linear"
              }
             }
            ],
            "label": "2020-09-20",
            "method": "animate"
           },
           {
            "args": [
             [
              "2020-09-21"
             ],
             {
              "frame": {
               "duration": 0,
               "redraw": true
              },
              "fromcurrent": true,
              "mode": "immediate",
              "transition": {
               "duration": 0,
               "easing": "linear"
              }
             }
            ],
            "label": "2020-09-21",
            "method": "animate"
           },
           {
            "args": [
             [
              "2020-09-22"
             ],
             {
              "frame": {
               "duration": 0,
               "redraw": true
              },
              "fromcurrent": true,
              "mode": "immediate",
              "transition": {
               "duration": 0,
               "easing": "linear"
              }
             }
            ],
            "label": "2020-09-22",
            "method": "animate"
           },
           {
            "args": [
             [
              "2020-09-23"
             ],
             {
              "frame": {
               "duration": 0,
               "redraw": true
              },
              "fromcurrent": true,
              "mode": "immediate",
              "transition": {
               "duration": 0,
               "easing": "linear"
              }
             }
            ],
            "label": "2020-09-23",
            "method": "animate"
           },
           {
            "args": [
             [
              "2020-09-24"
             ],
             {
              "frame": {
               "duration": 0,
               "redraw": true
              },
              "fromcurrent": true,
              "mode": "immediate",
              "transition": {
               "duration": 0,
               "easing": "linear"
              }
             }
            ],
            "label": "2020-09-24",
            "method": "animate"
           },
           {
            "args": [
             [
              "2020-09-25"
             ],
             {
              "frame": {
               "duration": 0,
               "redraw": true
              },
              "fromcurrent": true,
              "mode": "immediate",
              "transition": {
               "duration": 0,
               "easing": "linear"
              }
             }
            ],
            "label": "2020-09-25",
            "method": "animate"
           },
           {
            "args": [
             [
              "2020-09-26"
             ],
             {
              "frame": {
               "duration": 0,
               "redraw": true
              },
              "fromcurrent": true,
              "mode": "immediate",
              "transition": {
               "duration": 0,
               "easing": "linear"
              }
             }
            ],
            "label": "2020-09-26",
            "method": "animate"
           },
           {
            "args": [
             [
              "2020-09-27"
             ],
             {
              "frame": {
               "duration": 0,
               "redraw": true
              },
              "fromcurrent": true,
              "mode": "immediate",
              "transition": {
               "duration": 0,
               "easing": "linear"
              }
             }
            ],
            "label": "2020-09-27",
            "method": "animate"
           },
           {
            "args": [
             [
              "2020-09-28"
             ],
             {
              "frame": {
               "duration": 0,
               "redraw": true
              },
              "fromcurrent": true,
              "mode": "immediate",
              "transition": {
               "duration": 0,
               "easing": "linear"
              }
             }
            ],
            "label": "2020-09-28",
            "method": "animate"
           },
           {
            "args": [
             [
              "2020-09-29"
             ],
             {
              "frame": {
               "duration": 0,
               "redraw": true
              },
              "fromcurrent": true,
              "mode": "immediate",
              "transition": {
               "duration": 0,
               "easing": "linear"
              }
             }
            ],
            "label": "2020-09-29",
            "method": "animate"
           },
           {
            "args": [
             [
              "2020-09-30"
             ],
             {
              "frame": {
               "duration": 0,
               "redraw": true
              },
              "fromcurrent": true,
              "mode": "immediate",
              "transition": {
               "duration": 0,
               "easing": "linear"
              }
             }
            ],
            "label": "2020-09-30",
            "method": "animate"
           },
           {
            "args": [
             [
              "2020-10-01"
             ],
             {
              "frame": {
               "duration": 0,
               "redraw": true
              },
              "fromcurrent": true,
              "mode": "immediate",
              "transition": {
               "duration": 0,
               "easing": "linear"
              }
             }
            ],
            "label": "2020-10-01",
            "method": "animate"
           },
           {
            "args": [
             [
              "2020-10-02"
             ],
             {
              "frame": {
               "duration": 0,
               "redraw": true
              },
              "fromcurrent": true,
              "mode": "immediate",
              "transition": {
               "duration": 0,
               "easing": "linear"
              }
             }
            ],
            "label": "2020-10-02",
            "method": "animate"
           },
           {
            "args": [
             [
              "2020-10-03"
             ],
             {
              "frame": {
               "duration": 0,
               "redraw": true
              },
              "fromcurrent": true,
              "mode": "immediate",
              "transition": {
               "duration": 0,
               "easing": "linear"
              }
             }
            ],
            "label": "2020-10-03",
            "method": "animate"
           },
           {
            "args": [
             [
              "2020-10-04"
             ],
             {
              "frame": {
               "duration": 0,
               "redraw": true
              },
              "fromcurrent": true,
              "mode": "immediate",
              "transition": {
               "duration": 0,
               "easing": "linear"
              }
             }
            ],
            "label": "2020-10-04",
            "method": "animate"
           },
           {
            "args": [
             [
              "2020-10-05"
             ],
             {
              "frame": {
               "duration": 0,
               "redraw": true
              },
              "fromcurrent": true,
              "mode": "immediate",
              "transition": {
               "duration": 0,
               "easing": "linear"
              }
             }
            ],
            "label": "2020-10-05",
            "method": "animate"
           },
           {
            "args": [
             [
              "2020-10-06"
             ],
             {
              "frame": {
               "duration": 0,
               "redraw": true
              },
              "fromcurrent": true,
              "mode": "immediate",
              "transition": {
               "duration": 0,
               "easing": "linear"
              }
             }
            ],
            "label": "2020-10-06",
            "method": "animate"
           },
           {
            "args": [
             [
              "2020-10-07"
             ],
             {
              "frame": {
               "duration": 0,
               "redraw": true
              },
              "fromcurrent": true,
              "mode": "immediate",
              "transition": {
               "duration": 0,
               "easing": "linear"
              }
             }
            ],
            "label": "2020-10-07",
            "method": "animate"
           },
           {
            "args": [
             [
              "2020-10-08"
             ],
             {
              "frame": {
               "duration": 0,
               "redraw": true
              },
              "fromcurrent": true,
              "mode": "immediate",
              "transition": {
               "duration": 0,
               "easing": "linear"
              }
             }
            ],
            "label": "2020-10-08",
            "method": "animate"
           },
           {
            "args": [
             [
              "2020-10-09"
             ],
             {
              "frame": {
               "duration": 0,
               "redraw": true
              },
              "fromcurrent": true,
              "mode": "immediate",
              "transition": {
               "duration": 0,
               "easing": "linear"
              }
             }
            ],
            "label": "2020-10-09",
            "method": "animate"
           },
           {
            "args": [
             [
              "2020-10-10"
             ],
             {
              "frame": {
               "duration": 0,
               "redraw": true
              },
              "fromcurrent": true,
              "mode": "immediate",
              "transition": {
               "duration": 0,
               "easing": "linear"
              }
             }
            ],
            "label": "2020-10-10",
            "method": "animate"
           },
           {
            "args": [
             [
              "2020-10-11"
             ],
             {
              "frame": {
               "duration": 0,
               "redraw": true
              },
              "fromcurrent": true,
              "mode": "immediate",
              "transition": {
               "duration": 0,
               "easing": "linear"
              }
             }
            ],
            "label": "2020-10-11",
            "method": "animate"
           },
           {
            "args": [
             [
              "2020-10-12"
             ],
             {
              "frame": {
               "duration": 0,
               "redraw": true
              },
              "fromcurrent": true,
              "mode": "immediate",
              "transition": {
               "duration": 0,
               "easing": "linear"
              }
             }
            ],
            "label": "2020-10-12",
            "method": "animate"
           },
           {
            "args": [
             [
              "2020-10-13"
             ],
             {
              "frame": {
               "duration": 0,
               "redraw": true
              },
              "fromcurrent": true,
              "mode": "immediate",
              "transition": {
               "duration": 0,
               "easing": "linear"
              }
             }
            ],
            "label": "2020-10-13",
            "method": "animate"
           },
           {
            "args": [
             [
              "2020-10-14"
             ],
             {
              "frame": {
               "duration": 0,
               "redraw": true
              },
              "fromcurrent": true,
              "mode": "immediate",
              "transition": {
               "duration": 0,
               "easing": "linear"
              }
             }
            ],
            "label": "2020-10-14",
            "method": "animate"
           },
           {
            "args": [
             [
              "2020-10-15"
             ],
             {
              "frame": {
               "duration": 0,
               "redraw": true
              },
              "fromcurrent": true,
              "mode": "immediate",
              "transition": {
               "duration": 0,
               "easing": "linear"
              }
             }
            ],
            "label": "2020-10-15",
            "method": "animate"
           },
           {
            "args": [
             [
              "2020-10-16"
             ],
             {
              "frame": {
               "duration": 0,
               "redraw": true
              },
              "fromcurrent": true,
              "mode": "immediate",
              "transition": {
               "duration": 0,
               "easing": "linear"
              }
             }
            ],
            "label": "2020-10-16",
            "method": "animate"
           },
           {
            "args": [
             [
              "2020-10-17"
             ],
             {
              "frame": {
               "duration": 0,
               "redraw": true
              },
              "fromcurrent": true,
              "mode": "immediate",
              "transition": {
               "duration": 0,
               "easing": "linear"
              }
             }
            ],
            "label": "2020-10-17",
            "method": "animate"
           },
           {
            "args": [
             [
              "2020-10-18"
             ],
             {
              "frame": {
               "duration": 0,
               "redraw": true
              },
              "fromcurrent": true,
              "mode": "immediate",
              "transition": {
               "duration": 0,
               "easing": "linear"
              }
             }
            ],
            "label": "2020-10-18",
            "method": "animate"
           },
           {
            "args": [
             [
              "2020-10-19"
             ],
             {
              "frame": {
               "duration": 0,
               "redraw": true
              },
              "fromcurrent": true,
              "mode": "immediate",
              "transition": {
               "duration": 0,
               "easing": "linear"
              }
             }
            ],
            "label": "2020-10-19",
            "method": "animate"
           },
           {
            "args": [
             [
              "2020-10-20"
             ],
             {
              "frame": {
               "duration": 0,
               "redraw": true
              },
              "fromcurrent": true,
              "mode": "immediate",
              "transition": {
               "duration": 0,
               "easing": "linear"
              }
             }
            ],
            "label": "2020-10-20",
            "method": "animate"
           },
           {
            "args": [
             [
              "2020-10-21"
             ],
             {
              "frame": {
               "duration": 0,
               "redraw": true
              },
              "fromcurrent": true,
              "mode": "immediate",
              "transition": {
               "duration": 0,
               "easing": "linear"
              }
             }
            ],
            "label": "2020-10-21",
            "method": "animate"
           },
           {
            "args": [
             [
              "2020-10-22"
             ],
             {
              "frame": {
               "duration": 0,
               "redraw": true
              },
              "fromcurrent": true,
              "mode": "immediate",
              "transition": {
               "duration": 0,
               "easing": "linear"
              }
             }
            ],
            "label": "2020-10-22",
            "method": "animate"
           },
           {
            "args": [
             [
              "2020-10-23"
             ],
             {
              "frame": {
               "duration": 0,
               "redraw": true
              },
              "fromcurrent": true,
              "mode": "immediate",
              "transition": {
               "duration": 0,
               "easing": "linear"
              }
             }
            ],
            "label": "2020-10-23",
            "method": "animate"
           },
           {
            "args": [
             [
              "2020-10-24"
             ],
             {
              "frame": {
               "duration": 0,
               "redraw": true
              },
              "fromcurrent": true,
              "mode": "immediate",
              "transition": {
               "duration": 0,
               "easing": "linear"
              }
             }
            ],
            "label": "2020-10-24",
            "method": "animate"
           },
           {
            "args": [
             [
              "2020-10-25"
             ],
             {
              "frame": {
               "duration": 0,
               "redraw": true
              },
              "fromcurrent": true,
              "mode": "immediate",
              "transition": {
               "duration": 0,
               "easing": "linear"
              }
             }
            ],
            "label": "2020-10-25",
            "method": "animate"
           },
           {
            "args": [
             [
              "2020-10-26"
             ],
             {
              "frame": {
               "duration": 0,
               "redraw": true
              },
              "fromcurrent": true,
              "mode": "immediate",
              "transition": {
               "duration": 0,
               "easing": "linear"
              }
             }
            ],
            "label": "2020-10-26",
            "method": "animate"
           },
           {
            "args": [
             [
              "2020-10-27"
             ],
             {
              "frame": {
               "duration": 0,
               "redraw": true
              },
              "fromcurrent": true,
              "mode": "immediate",
              "transition": {
               "duration": 0,
               "easing": "linear"
              }
             }
            ],
            "label": "2020-10-27",
            "method": "animate"
           },
           {
            "args": [
             [
              "2020-10-28"
             ],
             {
              "frame": {
               "duration": 0,
               "redraw": true
              },
              "fromcurrent": true,
              "mode": "immediate",
              "transition": {
               "duration": 0,
               "easing": "linear"
              }
             }
            ],
            "label": "2020-10-28",
            "method": "animate"
           },
           {
            "args": [
             [
              "2020-10-29"
             ],
             {
              "frame": {
               "duration": 0,
               "redraw": true
              },
              "fromcurrent": true,
              "mode": "immediate",
              "transition": {
               "duration": 0,
               "easing": "linear"
              }
             }
            ],
            "label": "2020-10-29",
            "method": "animate"
           },
           {
            "args": [
             [
              "2020-10-30"
             ],
             {
              "frame": {
               "duration": 0,
               "redraw": true
              },
              "fromcurrent": true,
              "mode": "immediate",
              "transition": {
               "duration": 0,
               "easing": "linear"
              }
             }
            ],
            "label": "2020-10-30",
            "method": "animate"
           },
           {
            "args": [
             [
              "2020-10-31"
             ],
             {
              "frame": {
               "duration": 0,
               "redraw": true
              },
              "fromcurrent": true,
              "mode": "immediate",
              "transition": {
               "duration": 0,
               "easing": "linear"
              }
             }
            ],
            "label": "2020-10-31",
            "method": "animate"
           },
           {
            "args": [
             [
              "2020-11-01"
             ],
             {
              "frame": {
               "duration": 0,
               "redraw": true
              },
              "fromcurrent": true,
              "mode": "immediate",
              "transition": {
               "duration": 0,
               "easing": "linear"
              }
             }
            ],
            "label": "2020-11-01",
            "method": "animate"
           },
           {
            "args": [
             [
              "2020-11-02"
             ],
             {
              "frame": {
               "duration": 0,
               "redraw": true
              },
              "fromcurrent": true,
              "mode": "immediate",
              "transition": {
               "duration": 0,
               "easing": "linear"
              }
             }
            ],
            "label": "2020-11-02",
            "method": "animate"
           },
           {
            "args": [
             [
              "2020-11-03"
             ],
             {
              "frame": {
               "duration": 0,
               "redraw": true
              },
              "fromcurrent": true,
              "mode": "immediate",
              "transition": {
               "duration": 0,
               "easing": "linear"
              }
             }
            ],
            "label": "2020-11-03",
            "method": "animate"
           },
           {
            "args": [
             [
              "2020-11-04"
             ],
             {
              "frame": {
               "duration": 0,
               "redraw": true
              },
              "fromcurrent": true,
              "mode": "immediate",
              "transition": {
               "duration": 0,
               "easing": "linear"
              }
             }
            ],
            "label": "2020-11-04",
            "method": "animate"
           },
           {
            "args": [
             [
              "2020-11-05"
             ],
             {
              "frame": {
               "duration": 0,
               "redraw": true
              },
              "fromcurrent": true,
              "mode": "immediate",
              "transition": {
               "duration": 0,
               "easing": "linear"
              }
             }
            ],
            "label": "2020-11-05",
            "method": "animate"
           },
           {
            "args": [
             [
              "2020-11-06"
             ],
             {
              "frame": {
               "duration": 0,
               "redraw": true
              },
              "fromcurrent": true,
              "mode": "immediate",
              "transition": {
               "duration": 0,
               "easing": "linear"
              }
             }
            ],
            "label": "2020-11-06",
            "method": "animate"
           },
           {
            "args": [
             [
              "2020-11-07"
             ],
             {
              "frame": {
               "duration": 0,
               "redraw": true
              },
              "fromcurrent": true,
              "mode": "immediate",
              "transition": {
               "duration": 0,
               "easing": "linear"
              }
             }
            ],
            "label": "2020-11-07",
            "method": "animate"
           },
           {
            "args": [
             [
              "2020-11-08"
             ],
             {
              "frame": {
               "duration": 0,
               "redraw": true
              },
              "fromcurrent": true,
              "mode": "immediate",
              "transition": {
               "duration": 0,
               "easing": "linear"
              }
             }
            ],
            "label": "2020-11-08",
            "method": "animate"
           },
           {
            "args": [
             [
              "2020-11-09"
             ],
             {
              "frame": {
               "duration": 0,
               "redraw": true
              },
              "fromcurrent": true,
              "mode": "immediate",
              "transition": {
               "duration": 0,
               "easing": "linear"
              }
             }
            ],
            "label": "2020-11-09",
            "method": "animate"
           },
           {
            "args": [
             [
              "2020-11-10"
             ],
             {
              "frame": {
               "duration": 0,
               "redraw": true
              },
              "fromcurrent": true,
              "mode": "immediate",
              "transition": {
               "duration": 0,
               "easing": "linear"
              }
             }
            ],
            "label": "2020-11-10",
            "method": "animate"
           },
           {
            "args": [
             [
              "2020-11-11"
             ],
             {
              "frame": {
               "duration": 0,
               "redraw": true
              },
              "fromcurrent": true,
              "mode": "immediate",
              "transition": {
               "duration": 0,
               "easing": "linear"
              }
             }
            ],
            "label": "2020-11-11",
            "method": "animate"
           },
           {
            "args": [
             [
              "2020-11-12"
             ],
             {
              "frame": {
               "duration": 0,
               "redraw": true
              },
              "fromcurrent": true,
              "mode": "immediate",
              "transition": {
               "duration": 0,
               "easing": "linear"
              }
             }
            ],
            "label": "2020-11-12",
            "method": "animate"
           },
           {
            "args": [
             [
              "2020-11-13"
             ],
             {
              "frame": {
               "duration": 0,
               "redraw": true
              },
              "fromcurrent": true,
              "mode": "immediate",
              "transition": {
               "duration": 0,
               "easing": "linear"
              }
             }
            ],
            "label": "2020-11-13",
            "method": "animate"
           },
           {
            "args": [
             [
              "2020-11-14"
             ],
             {
              "frame": {
               "duration": 0,
               "redraw": true
              },
              "fromcurrent": true,
              "mode": "immediate",
              "transition": {
               "duration": 0,
               "easing": "linear"
              }
             }
            ],
            "label": "2020-11-14",
            "method": "animate"
           },
           {
            "args": [
             [
              "2020-11-15"
             ],
             {
              "frame": {
               "duration": 0,
               "redraw": true
              },
              "fromcurrent": true,
              "mode": "immediate",
              "transition": {
               "duration": 0,
               "easing": "linear"
              }
             }
            ],
            "label": "2020-11-15",
            "method": "animate"
           },
           {
            "args": [
             [
              "2020-11-16"
             ],
             {
              "frame": {
               "duration": 0,
               "redraw": true
              },
              "fromcurrent": true,
              "mode": "immediate",
              "transition": {
               "duration": 0,
               "easing": "linear"
              }
             }
            ],
            "label": "2020-11-16",
            "method": "animate"
           },
           {
            "args": [
             [
              "2020-11-17"
             ],
             {
              "frame": {
               "duration": 0,
               "redraw": true
              },
              "fromcurrent": true,
              "mode": "immediate",
              "transition": {
               "duration": 0,
               "easing": "linear"
              }
             }
            ],
            "label": "2020-11-17",
            "method": "animate"
           },
           {
            "args": [
             [
              "2020-11-18"
             ],
             {
              "frame": {
               "duration": 0,
               "redraw": true
              },
              "fromcurrent": true,
              "mode": "immediate",
              "transition": {
               "duration": 0,
               "easing": "linear"
              }
             }
            ],
            "label": "2020-11-18",
            "method": "animate"
           },
           {
            "args": [
             [
              "2020-11-19"
             ],
             {
              "frame": {
               "duration": 0,
               "redraw": true
              },
              "fromcurrent": true,
              "mode": "immediate",
              "transition": {
               "duration": 0,
               "easing": "linear"
              }
             }
            ],
            "label": "2020-11-19",
            "method": "animate"
           },
           {
            "args": [
             [
              "2020-11-20"
             ],
             {
              "frame": {
               "duration": 0,
               "redraw": true
              },
              "fromcurrent": true,
              "mode": "immediate",
              "transition": {
               "duration": 0,
               "easing": "linear"
              }
             }
            ],
            "label": "2020-11-20",
            "method": "animate"
           },
           {
            "args": [
             [
              "2020-11-21"
             ],
             {
              "frame": {
               "duration": 0,
               "redraw": true
              },
              "fromcurrent": true,
              "mode": "immediate",
              "transition": {
               "duration": 0,
               "easing": "linear"
              }
             }
            ],
            "label": "2020-11-21",
            "method": "animate"
           },
           {
            "args": [
             [
              "2020-11-22"
             ],
             {
              "frame": {
               "duration": 0,
               "redraw": true
              },
              "fromcurrent": true,
              "mode": "immediate",
              "transition": {
               "duration": 0,
               "easing": "linear"
              }
             }
            ],
            "label": "2020-11-22",
            "method": "animate"
           },
           {
            "args": [
             [
              "2020-11-23"
             ],
             {
              "frame": {
               "duration": 0,
               "redraw": true
              },
              "fromcurrent": true,
              "mode": "immediate",
              "transition": {
               "duration": 0,
               "easing": "linear"
              }
             }
            ],
            "label": "2020-11-23",
            "method": "animate"
           },
           {
            "args": [
             [
              "2020-11-24"
             ],
             {
              "frame": {
               "duration": 0,
               "redraw": true
              },
              "fromcurrent": true,
              "mode": "immediate",
              "transition": {
               "duration": 0,
               "easing": "linear"
              }
             }
            ],
            "label": "2020-11-24",
            "method": "animate"
           },
           {
            "args": [
             [
              "2020-11-25"
             ],
             {
              "frame": {
               "duration": 0,
               "redraw": true
              },
              "fromcurrent": true,
              "mode": "immediate",
              "transition": {
               "duration": 0,
               "easing": "linear"
              }
             }
            ],
            "label": "2020-11-25",
            "method": "animate"
           },
           {
            "args": [
             [
              "2020-11-26"
             ],
             {
              "frame": {
               "duration": 0,
               "redraw": true
              },
              "fromcurrent": true,
              "mode": "immediate",
              "transition": {
               "duration": 0,
               "easing": "linear"
              }
             }
            ],
            "label": "2020-11-26",
            "method": "animate"
           },
           {
            "args": [
             [
              "2020-11-27"
             ],
             {
              "frame": {
               "duration": 0,
               "redraw": true
              },
              "fromcurrent": true,
              "mode": "immediate",
              "transition": {
               "duration": 0,
               "easing": "linear"
              }
             }
            ],
            "label": "2020-11-27",
            "method": "animate"
           },
           {
            "args": [
             [
              "2020-11-28"
             ],
             {
              "frame": {
               "duration": 0,
               "redraw": true
              },
              "fromcurrent": true,
              "mode": "immediate",
              "transition": {
               "duration": 0,
               "easing": "linear"
              }
             }
            ],
            "label": "2020-11-28",
            "method": "animate"
           },
           {
            "args": [
             [
              "2020-11-29"
             ],
             {
              "frame": {
               "duration": 0,
               "redraw": true
              },
              "fromcurrent": true,
              "mode": "immediate",
              "transition": {
               "duration": 0,
               "easing": "linear"
              }
             }
            ],
            "label": "2020-11-29",
            "method": "animate"
           },
           {
            "args": [
             [
              "2020-11-30"
             ],
             {
              "frame": {
               "duration": 0,
               "redraw": true
              },
              "fromcurrent": true,
              "mode": "immediate",
              "transition": {
               "duration": 0,
               "easing": "linear"
              }
             }
            ],
            "label": "2020-11-30",
            "method": "animate"
           },
           {
            "args": [
             [
              "2020-12-01"
             ],
             {
              "frame": {
               "duration": 0,
               "redraw": true
              },
              "fromcurrent": true,
              "mode": "immediate",
              "transition": {
               "duration": 0,
               "easing": "linear"
              }
             }
            ],
            "label": "2020-12-01",
            "method": "animate"
           },
           {
            "args": [
             [
              "2020-12-02"
             ],
             {
              "frame": {
               "duration": 0,
               "redraw": true
              },
              "fromcurrent": true,
              "mode": "immediate",
              "transition": {
               "duration": 0,
               "easing": "linear"
              }
             }
            ],
            "label": "2020-12-02",
            "method": "animate"
           },
           {
            "args": [
             [
              "2020-12-03"
             ],
             {
              "frame": {
               "duration": 0,
               "redraw": true
              },
              "fromcurrent": true,
              "mode": "immediate",
              "transition": {
               "duration": 0,
               "easing": "linear"
              }
             }
            ],
            "label": "2020-12-03",
            "method": "animate"
           },
           {
            "args": [
             [
              "2020-12-04"
             ],
             {
              "frame": {
               "duration": 0,
               "redraw": true
              },
              "fromcurrent": true,
              "mode": "immediate",
              "transition": {
               "duration": 0,
               "easing": "linear"
              }
             }
            ],
            "label": "2020-12-04",
            "method": "animate"
           },
           {
            "args": [
             [
              "2020-12-05"
             ],
             {
              "frame": {
               "duration": 0,
               "redraw": true
              },
              "fromcurrent": true,
              "mode": "immediate",
              "transition": {
               "duration": 0,
               "easing": "linear"
              }
             }
            ],
            "label": "2020-12-05",
            "method": "animate"
           },
           {
            "args": [
             [
              "2020-12-06"
             ],
             {
              "frame": {
               "duration": 0,
               "redraw": true
              },
              "fromcurrent": true,
              "mode": "immediate",
              "transition": {
               "duration": 0,
               "easing": "linear"
              }
             }
            ],
            "label": "2020-12-06",
            "method": "animate"
           },
           {
            "args": [
             [
              "2020-12-07"
             ],
             {
              "frame": {
               "duration": 0,
               "redraw": true
              },
              "fromcurrent": true,
              "mode": "immediate",
              "transition": {
               "duration": 0,
               "easing": "linear"
              }
             }
            ],
            "label": "2020-12-07",
            "method": "animate"
           },
           {
            "args": [
             [
              "2020-12-08"
             ],
             {
              "frame": {
               "duration": 0,
               "redraw": true
              },
              "fromcurrent": true,
              "mode": "immediate",
              "transition": {
               "duration": 0,
               "easing": "linear"
              }
             }
            ],
            "label": "2020-12-08",
            "method": "animate"
           },
           {
            "args": [
             [
              "2020-12-09"
             ],
             {
              "frame": {
               "duration": 0,
               "redraw": true
              },
              "fromcurrent": true,
              "mode": "immediate",
              "transition": {
               "duration": 0,
               "easing": "linear"
              }
             }
            ],
            "label": "2020-12-09",
            "method": "animate"
           },
           {
            "args": [
             [
              "2020-12-10"
             ],
             {
              "frame": {
               "duration": 0,
               "redraw": true
              },
              "fromcurrent": true,
              "mode": "immediate",
              "transition": {
               "duration": 0,
               "easing": "linear"
              }
             }
            ],
            "label": "2020-12-10",
            "method": "animate"
           },
           {
            "args": [
             [
              "2020-12-11"
             ],
             {
              "frame": {
               "duration": 0,
               "redraw": true
              },
              "fromcurrent": true,
              "mode": "immediate",
              "transition": {
               "duration": 0,
               "easing": "linear"
              }
             }
            ],
            "label": "2020-12-11",
            "method": "animate"
           },
           {
            "args": [
             [
              "2020-12-12"
             ],
             {
              "frame": {
               "duration": 0,
               "redraw": true
              },
              "fromcurrent": true,
              "mode": "immediate",
              "transition": {
               "duration": 0,
               "easing": "linear"
              }
             }
            ],
            "label": "2020-12-12",
            "method": "animate"
           },
           {
            "args": [
             [
              "2020-12-13"
             ],
             {
              "frame": {
               "duration": 0,
               "redraw": true
              },
              "fromcurrent": true,
              "mode": "immediate",
              "transition": {
               "duration": 0,
               "easing": "linear"
              }
             }
            ],
            "label": "2020-12-13",
            "method": "animate"
           },
           {
            "args": [
             [
              "2020-12-14"
             ],
             {
              "frame": {
               "duration": 0,
               "redraw": true
              },
              "fromcurrent": true,
              "mode": "immediate",
              "transition": {
               "duration": 0,
               "easing": "linear"
              }
             }
            ],
            "label": "2020-12-14",
            "method": "animate"
           },
           {
            "args": [
             [
              "2020-12-15"
             ],
             {
              "frame": {
               "duration": 0,
               "redraw": true
              },
              "fromcurrent": true,
              "mode": "immediate",
              "transition": {
               "duration": 0,
               "easing": "linear"
              }
             }
            ],
            "label": "2020-12-15",
            "method": "animate"
           },
           {
            "args": [
             [
              "2020-12-16"
             ],
             {
              "frame": {
               "duration": 0,
               "redraw": true
              },
              "fromcurrent": true,
              "mode": "immediate",
              "transition": {
               "duration": 0,
               "easing": "linear"
              }
             }
            ],
            "label": "2020-12-16",
            "method": "animate"
           },
           {
            "args": [
             [
              "2020-12-17"
             ],
             {
              "frame": {
               "duration": 0,
               "redraw": true
              },
              "fromcurrent": true,
              "mode": "immediate",
              "transition": {
               "duration": 0,
               "easing": "linear"
              }
             }
            ],
            "label": "2020-12-17",
            "method": "animate"
           },
           {
            "args": [
             [
              "2020-12-18"
             ],
             {
              "frame": {
               "duration": 0,
               "redraw": true
              },
              "fromcurrent": true,
              "mode": "immediate",
              "transition": {
               "duration": 0,
               "easing": "linear"
              }
             }
            ],
            "label": "2020-12-18",
            "method": "animate"
           },
           {
            "args": [
             [
              "2020-12-19"
             ],
             {
              "frame": {
               "duration": 0,
               "redraw": true
              },
              "fromcurrent": true,
              "mode": "immediate",
              "transition": {
               "duration": 0,
               "easing": "linear"
              }
             }
            ],
            "label": "2020-12-19",
            "method": "animate"
           },
           {
            "args": [
             [
              "2020-12-20"
             ],
             {
              "frame": {
               "duration": 0,
               "redraw": true
              },
              "fromcurrent": true,
              "mode": "immediate",
              "transition": {
               "duration": 0,
               "easing": "linear"
              }
             }
            ],
            "label": "2020-12-20",
            "method": "animate"
           },
           {
            "args": [
             [
              "2020-12-21"
             ],
             {
              "frame": {
               "duration": 0,
               "redraw": true
              },
              "fromcurrent": true,
              "mode": "immediate",
              "transition": {
               "duration": 0,
               "easing": "linear"
              }
             }
            ],
            "label": "2020-12-21",
            "method": "animate"
           },
           {
            "args": [
             [
              "2020-12-22"
             ],
             {
              "frame": {
               "duration": 0,
               "redraw": true
              },
              "fromcurrent": true,
              "mode": "immediate",
              "transition": {
               "duration": 0,
               "easing": "linear"
              }
             }
            ],
            "label": "2020-12-22",
            "method": "animate"
           },
           {
            "args": [
             [
              "2020-12-23"
             ],
             {
              "frame": {
               "duration": 0,
               "redraw": true
              },
              "fromcurrent": true,
              "mode": "immediate",
              "transition": {
               "duration": 0,
               "easing": "linear"
              }
             }
            ],
            "label": "2020-12-23",
            "method": "animate"
           },
           {
            "args": [
             [
              "2020-12-24"
             ],
             {
              "frame": {
               "duration": 0,
               "redraw": true
              },
              "fromcurrent": true,
              "mode": "immediate",
              "transition": {
               "duration": 0,
               "easing": "linear"
              }
             }
            ],
            "label": "2020-12-24",
            "method": "animate"
           },
           {
            "args": [
             [
              "2020-12-25"
             ],
             {
              "frame": {
               "duration": 0,
               "redraw": true
              },
              "fromcurrent": true,
              "mode": "immediate",
              "transition": {
               "duration": 0,
               "easing": "linear"
              }
             }
            ],
            "label": "2020-12-25",
            "method": "animate"
           },
           {
            "args": [
             [
              "2020-12-26"
             ],
             {
              "frame": {
               "duration": 0,
               "redraw": true
              },
              "fromcurrent": true,
              "mode": "immediate",
              "transition": {
               "duration": 0,
               "easing": "linear"
              }
             }
            ],
            "label": "2020-12-26",
            "method": "animate"
           },
           {
            "args": [
             [
              "2020-12-27"
             ],
             {
              "frame": {
               "duration": 0,
               "redraw": true
              },
              "fromcurrent": true,
              "mode": "immediate",
              "transition": {
               "duration": 0,
               "easing": "linear"
              }
             }
            ],
            "label": "2020-12-27",
            "method": "animate"
           },
           {
            "args": [
             [
              "2020-12-28"
             ],
             {
              "frame": {
               "duration": 0,
               "redraw": true
              },
              "fromcurrent": true,
              "mode": "immediate",
              "transition": {
               "duration": 0,
               "easing": "linear"
              }
             }
            ],
            "label": "2020-12-28",
            "method": "animate"
           },
           {
            "args": [
             [
              "2020-12-29"
             ],
             {
              "frame": {
               "duration": 0,
               "redraw": true
              },
              "fromcurrent": true,
              "mode": "immediate",
              "transition": {
               "duration": 0,
               "easing": "linear"
              }
             }
            ],
            "label": "2020-12-29",
            "method": "animate"
           },
           {
            "args": [
             [
              "2020-12-30"
             ],
             {
              "frame": {
               "duration": 0,
               "redraw": true
              },
              "fromcurrent": true,
              "mode": "immediate",
              "transition": {
               "duration": 0,
               "easing": "linear"
              }
             }
            ],
            "label": "2020-12-30",
            "method": "animate"
           },
           {
            "args": [
             [
              "2020-12-31"
             ],
             {
              "frame": {
               "duration": 0,
               "redraw": true
              },
              "fromcurrent": true,
              "mode": "immediate",
              "transition": {
               "duration": 0,
               "easing": "linear"
              }
             }
            ],
            "label": "2020-12-31",
            "method": "animate"
           },
           {
            "args": [
             [
              "2021-01-01"
             ],
             {
              "frame": {
               "duration": 0,
               "redraw": true
              },
              "fromcurrent": true,
              "mode": "immediate",
              "transition": {
               "duration": 0,
               "easing": "linear"
              }
             }
            ],
            "label": "2021-01-01",
            "method": "animate"
           },
           {
            "args": [
             [
              "2021-01-02"
             ],
             {
              "frame": {
               "duration": 0,
               "redraw": true
              },
              "fromcurrent": true,
              "mode": "immediate",
              "transition": {
               "duration": 0,
               "easing": "linear"
              }
             }
            ],
            "label": "2021-01-02",
            "method": "animate"
           },
           {
            "args": [
             [
              "2021-01-03"
             ],
             {
              "frame": {
               "duration": 0,
               "redraw": true
              },
              "fromcurrent": true,
              "mode": "immediate",
              "transition": {
               "duration": 0,
               "easing": "linear"
              }
             }
            ],
            "label": "2021-01-03",
            "method": "animate"
           },
           {
            "args": [
             [
              "2021-01-04"
             ],
             {
              "frame": {
               "duration": 0,
               "redraw": true
              },
              "fromcurrent": true,
              "mode": "immediate",
              "transition": {
               "duration": 0,
               "easing": "linear"
              }
             }
            ],
            "label": "2021-01-04",
            "method": "animate"
           },
           {
            "args": [
             [
              "2021-01-05"
             ],
             {
              "frame": {
               "duration": 0,
               "redraw": true
              },
              "fromcurrent": true,
              "mode": "immediate",
              "transition": {
               "duration": 0,
               "easing": "linear"
              }
             }
            ],
            "label": "2021-01-05",
            "method": "animate"
           },
           {
            "args": [
             [
              "2021-01-06"
             ],
             {
              "frame": {
               "duration": 0,
               "redraw": true
              },
              "fromcurrent": true,
              "mode": "immediate",
              "transition": {
               "duration": 0,
               "easing": "linear"
              }
             }
            ],
            "label": "2021-01-06",
            "method": "animate"
           },
           {
            "args": [
             [
              "2021-01-07"
             ],
             {
              "frame": {
               "duration": 0,
               "redraw": true
              },
              "fromcurrent": true,
              "mode": "immediate",
              "transition": {
               "duration": 0,
               "easing": "linear"
              }
             }
            ],
            "label": "2021-01-07",
            "method": "animate"
           },
           {
            "args": [
             [
              "2021-01-08"
             ],
             {
              "frame": {
               "duration": 0,
               "redraw": true
              },
              "fromcurrent": true,
              "mode": "immediate",
              "transition": {
               "duration": 0,
               "easing": "linear"
              }
             }
            ],
            "label": "2021-01-08",
            "method": "animate"
           },
           {
            "args": [
             [
              "2021-01-09"
             ],
             {
              "frame": {
               "duration": 0,
               "redraw": true
              },
              "fromcurrent": true,
              "mode": "immediate",
              "transition": {
               "duration": 0,
               "easing": "linear"
              }
             }
            ],
            "label": "2021-01-09",
            "method": "animate"
           },
           {
            "args": [
             [
              "2021-01-10"
             ],
             {
              "frame": {
               "duration": 0,
               "redraw": true
              },
              "fromcurrent": true,
              "mode": "immediate",
              "transition": {
               "duration": 0,
               "easing": "linear"
              }
             }
            ],
            "label": "2021-01-10",
            "method": "animate"
           },
           {
            "args": [
             [
              "2021-01-11"
             ],
             {
              "frame": {
               "duration": 0,
               "redraw": true
              },
              "fromcurrent": true,
              "mode": "immediate",
              "transition": {
               "duration": 0,
               "easing": "linear"
              }
             }
            ],
            "label": "2021-01-11",
            "method": "animate"
           },
           {
            "args": [
             [
              "2021-01-12"
             ],
             {
              "frame": {
               "duration": 0,
               "redraw": true
              },
              "fromcurrent": true,
              "mode": "immediate",
              "transition": {
               "duration": 0,
               "easing": "linear"
              }
             }
            ],
            "label": "2021-01-12",
            "method": "animate"
           },
           {
            "args": [
             [
              "2021-01-13"
             ],
             {
              "frame": {
               "duration": 0,
               "redraw": true
              },
              "fromcurrent": true,
              "mode": "immediate",
              "transition": {
               "duration": 0,
               "easing": "linear"
              }
             }
            ],
            "label": "2021-01-13",
            "method": "animate"
           },
           {
            "args": [
             [
              "2021-01-14"
             ],
             {
              "frame": {
               "duration": 0,
               "redraw": true
              },
              "fromcurrent": true,
              "mode": "immediate",
              "transition": {
               "duration": 0,
               "easing": "linear"
              }
             }
            ],
            "label": "2021-01-14",
            "method": "animate"
           },
           {
            "args": [
             [
              "2021-01-15"
             ],
             {
              "frame": {
               "duration": 0,
               "redraw": true
              },
              "fromcurrent": true,
              "mode": "immediate",
              "transition": {
               "duration": 0,
               "easing": "linear"
              }
             }
            ],
            "label": "2021-01-15",
            "method": "animate"
           },
           {
            "args": [
             [
              "2021-01-16"
             ],
             {
              "frame": {
               "duration": 0,
               "redraw": true
              },
              "fromcurrent": true,
              "mode": "immediate",
              "transition": {
               "duration": 0,
               "easing": "linear"
              }
             }
            ],
            "label": "2021-01-16",
            "method": "animate"
           },
           {
            "args": [
             [
              "2021-01-17"
             ],
             {
              "frame": {
               "duration": 0,
               "redraw": true
              },
              "fromcurrent": true,
              "mode": "immediate",
              "transition": {
               "duration": 0,
               "easing": "linear"
              }
             }
            ],
            "label": "2021-01-17",
            "method": "animate"
           },
           {
            "args": [
             [
              "2021-01-18"
             ],
             {
              "frame": {
               "duration": 0,
               "redraw": true
              },
              "fromcurrent": true,
              "mode": "immediate",
              "transition": {
               "duration": 0,
               "easing": "linear"
              }
             }
            ],
            "label": "2021-01-18",
            "method": "animate"
           },
           {
            "args": [
             [
              "2021-01-19"
             ],
             {
              "frame": {
               "duration": 0,
               "redraw": true
              },
              "fromcurrent": true,
              "mode": "immediate",
              "transition": {
               "duration": 0,
               "easing": "linear"
              }
             }
            ],
            "label": "2021-01-19",
            "method": "animate"
           },
           {
            "args": [
             [
              "2021-01-20"
             ],
             {
              "frame": {
               "duration": 0,
               "redraw": true
              },
              "fromcurrent": true,
              "mode": "immediate",
              "transition": {
               "duration": 0,
               "easing": "linear"
              }
             }
            ],
            "label": "2021-01-20",
            "method": "animate"
           },
           {
            "args": [
             [
              "2021-01-21"
             ],
             {
              "frame": {
               "duration": 0,
               "redraw": true
              },
              "fromcurrent": true,
              "mode": "immediate",
              "transition": {
               "duration": 0,
               "easing": "linear"
              }
             }
            ],
            "label": "2021-01-21",
            "method": "animate"
           },
           {
            "args": [
             [
              "2021-01-22"
             ],
             {
              "frame": {
               "duration": 0,
               "redraw": true
              },
              "fromcurrent": true,
              "mode": "immediate",
              "transition": {
               "duration": 0,
               "easing": "linear"
              }
             }
            ],
            "label": "2021-01-22",
            "method": "animate"
           },
           {
            "args": [
             [
              "2021-01-23"
             ],
             {
              "frame": {
               "duration": 0,
               "redraw": true
              },
              "fromcurrent": true,
              "mode": "immediate",
              "transition": {
               "duration": 0,
               "easing": "linear"
              }
             }
            ],
            "label": "2021-01-23",
            "method": "animate"
           },
           {
            "args": [
             [
              "2021-01-24"
             ],
             {
              "frame": {
               "duration": 0,
               "redraw": true
              },
              "fromcurrent": true,
              "mode": "immediate",
              "transition": {
               "duration": 0,
               "easing": "linear"
              }
             }
            ],
            "label": "2021-01-24",
            "method": "animate"
           },
           {
            "args": [
             [
              "2021-01-25"
             ],
             {
              "frame": {
               "duration": 0,
               "redraw": true
              },
              "fromcurrent": true,
              "mode": "immediate",
              "transition": {
               "duration": 0,
               "easing": "linear"
              }
             }
            ],
            "label": "2021-01-25",
            "method": "animate"
           },
           {
            "args": [
             [
              "2021-01-26"
             ],
             {
              "frame": {
               "duration": 0,
               "redraw": true
              },
              "fromcurrent": true,
              "mode": "immediate",
              "transition": {
               "duration": 0,
               "easing": "linear"
              }
             }
            ],
            "label": "2021-01-26",
            "method": "animate"
           },
           {
            "args": [
             [
              "2021-01-27"
             ],
             {
              "frame": {
               "duration": 0,
               "redraw": true
              },
              "fromcurrent": true,
              "mode": "immediate",
              "transition": {
               "duration": 0,
               "easing": "linear"
              }
             }
            ],
            "label": "2021-01-27",
            "method": "animate"
           }
          ],
          "x": 0.1,
          "xanchor": "left",
          "y": 0,
          "yanchor": "top"
         }
        ],
        "template": {
         "data": {
          "bar": [
           {
            "error_x": {
             "color": "#2a3f5f"
            },
            "error_y": {
             "color": "#2a3f5f"
            },
            "marker": {
             "line": {
              "color": "#E5ECF6",
              "width": 0.5
             }
            },
            "type": "bar"
           }
          ],
          "barpolar": [
           {
            "marker": {
             "line": {
              "color": "#E5ECF6",
              "width": 0.5
             }
            },
            "type": "barpolar"
           }
          ],
          "carpet": [
           {
            "aaxis": {
             "endlinecolor": "#2a3f5f",
             "gridcolor": "white",
             "linecolor": "white",
             "minorgridcolor": "white",
             "startlinecolor": "#2a3f5f"
            },
            "baxis": {
             "endlinecolor": "#2a3f5f",
             "gridcolor": "white",
             "linecolor": "white",
             "minorgridcolor": "white",
             "startlinecolor": "#2a3f5f"
            },
            "type": "carpet"
           }
          ],
          "choropleth": [
           {
            "colorbar": {
             "outlinewidth": 0,
             "ticks": ""
            },
            "type": "choropleth"
           }
          ],
          "contour": [
           {
            "colorbar": {
             "outlinewidth": 0,
             "ticks": ""
            },
            "colorscale": [
             [
              0,
              "#0d0887"
             ],
             [
              0.1111111111111111,
              "#46039f"
             ],
             [
              0.2222222222222222,
              "#7201a8"
             ],
             [
              0.3333333333333333,
              "#9c179e"
             ],
             [
              0.4444444444444444,
              "#bd3786"
             ],
             [
              0.5555555555555556,
              "#d8576b"
             ],
             [
              0.6666666666666666,
              "#ed7953"
             ],
             [
              0.7777777777777778,
              "#fb9f3a"
             ],
             [
              0.8888888888888888,
              "#fdca26"
             ],
             [
              1,
              "#f0f921"
             ]
            ],
            "type": "contour"
           }
          ],
          "contourcarpet": [
           {
            "colorbar": {
             "outlinewidth": 0,
             "ticks": ""
            },
            "type": "contourcarpet"
           }
          ],
          "heatmap": [
           {
            "colorbar": {
             "outlinewidth": 0,
             "ticks": ""
            },
            "colorscale": [
             [
              0,
              "#0d0887"
             ],
             [
              0.1111111111111111,
              "#46039f"
             ],
             [
              0.2222222222222222,
              "#7201a8"
             ],
             [
              0.3333333333333333,
              "#9c179e"
             ],
             [
              0.4444444444444444,
              "#bd3786"
             ],
             [
              0.5555555555555556,
              "#d8576b"
             ],
             [
              0.6666666666666666,
              "#ed7953"
             ],
             [
              0.7777777777777778,
              "#fb9f3a"
             ],
             [
              0.8888888888888888,
              "#fdca26"
             ],
             [
              1,
              "#f0f921"
             ]
            ],
            "type": "heatmap"
           }
          ],
          "heatmapgl": [
           {
            "colorbar": {
             "outlinewidth": 0,
             "ticks": ""
            },
            "colorscale": [
             [
              0,
              "#0d0887"
             ],
             [
              0.1111111111111111,
              "#46039f"
             ],
             [
              0.2222222222222222,
              "#7201a8"
             ],
             [
              0.3333333333333333,
              "#9c179e"
             ],
             [
              0.4444444444444444,
              "#bd3786"
             ],
             [
              0.5555555555555556,
              "#d8576b"
             ],
             [
              0.6666666666666666,
              "#ed7953"
             ],
             [
              0.7777777777777778,
              "#fb9f3a"
             ],
             [
              0.8888888888888888,
              "#fdca26"
             ],
             [
              1,
              "#f0f921"
             ]
            ],
            "type": "heatmapgl"
           }
          ],
          "histogram": [
           {
            "marker": {
             "colorbar": {
              "outlinewidth": 0,
              "ticks": ""
             }
            },
            "type": "histogram"
           }
          ],
          "histogram2d": [
           {
            "colorbar": {
             "outlinewidth": 0,
             "ticks": ""
            },
            "colorscale": [
             [
              0,
              "#0d0887"
             ],
             [
              0.1111111111111111,
              "#46039f"
             ],
             [
              0.2222222222222222,
              "#7201a8"
             ],
             [
              0.3333333333333333,
              "#9c179e"
             ],
             [
              0.4444444444444444,
              "#bd3786"
             ],
             [
              0.5555555555555556,
              "#d8576b"
             ],
             [
              0.6666666666666666,
              "#ed7953"
             ],
             [
              0.7777777777777778,
              "#fb9f3a"
             ],
             [
              0.8888888888888888,
              "#fdca26"
             ],
             [
              1,
              "#f0f921"
             ]
            ],
            "type": "histogram2d"
           }
          ],
          "histogram2dcontour": [
           {
            "colorbar": {
             "outlinewidth": 0,
             "ticks": ""
            },
            "colorscale": [
             [
              0,
              "#0d0887"
             ],
             [
              0.1111111111111111,
              "#46039f"
             ],
             [
              0.2222222222222222,
              "#7201a8"
             ],
             [
              0.3333333333333333,
              "#9c179e"
             ],
             [
              0.4444444444444444,
              "#bd3786"
             ],
             [
              0.5555555555555556,
              "#d8576b"
             ],
             [
              0.6666666666666666,
              "#ed7953"
             ],
             [
              0.7777777777777778,
              "#fb9f3a"
             ],
             [
              0.8888888888888888,
              "#fdca26"
             ],
             [
              1,
              "#f0f921"
             ]
            ],
            "type": "histogram2dcontour"
           }
          ],
          "mesh3d": [
           {
            "colorbar": {
             "outlinewidth": 0,
             "ticks": ""
            },
            "type": "mesh3d"
           }
          ],
          "parcoords": [
           {
            "line": {
             "colorbar": {
              "outlinewidth": 0,
              "ticks": ""
             }
            },
            "type": "parcoords"
           }
          ],
          "pie": [
           {
            "automargin": true,
            "type": "pie"
           }
          ],
          "scatter": [
           {
            "marker": {
             "colorbar": {
              "outlinewidth": 0,
              "ticks": ""
             }
            },
            "type": "scatter"
           }
          ],
          "scatter3d": [
           {
            "line": {
             "colorbar": {
              "outlinewidth": 0,
              "ticks": ""
             }
            },
            "marker": {
             "colorbar": {
              "outlinewidth": 0,
              "ticks": ""
             }
            },
            "type": "scatter3d"
           }
          ],
          "scattercarpet": [
           {
            "marker": {
             "colorbar": {
              "outlinewidth": 0,
              "ticks": ""
             }
            },
            "type": "scattercarpet"
           }
          ],
          "scattergeo": [
           {
            "marker": {
             "colorbar": {
              "outlinewidth": 0,
              "ticks": ""
             }
            },
            "type": "scattergeo"
           }
          ],
          "scattergl": [
           {
            "marker": {
             "colorbar": {
              "outlinewidth": 0,
              "ticks": ""
             }
            },
            "type": "scattergl"
           }
          ],
          "scattermapbox": [
           {
            "marker": {
             "colorbar": {
              "outlinewidth": 0,
              "ticks": ""
             }
            },
            "type": "scattermapbox"
           }
          ],
          "scatterpolar": [
           {
            "marker": {
             "colorbar": {
              "outlinewidth": 0,
              "ticks": ""
             }
            },
            "type": "scatterpolar"
           }
          ],
          "scatterpolargl": [
           {
            "marker": {
             "colorbar": {
              "outlinewidth": 0,
              "ticks": ""
             }
            },
            "type": "scatterpolargl"
           }
          ],
          "scatterternary": [
           {
            "marker": {
             "colorbar": {
              "outlinewidth": 0,
              "ticks": ""
             }
            },
            "type": "scatterternary"
           }
          ],
          "surface": [
           {
            "colorbar": {
             "outlinewidth": 0,
             "ticks": ""
            },
            "colorscale": [
             [
              0,
              "#0d0887"
             ],
             [
              0.1111111111111111,
              "#46039f"
             ],
             [
              0.2222222222222222,
              "#7201a8"
             ],
             [
              0.3333333333333333,
              "#9c179e"
             ],
             [
              0.4444444444444444,
              "#bd3786"
             ],
             [
              0.5555555555555556,
              "#d8576b"
             ],
             [
              0.6666666666666666,
              "#ed7953"
             ],
             [
              0.7777777777777778,
              "#fb9f3a"
             ],
             [
              0.8888888888888888,
              "#fdca26"
             ],
             [
              1,
              "#f0f921"
             ]
            ],
            "type": "surface"
           }
          ],
          "table": [
           {
            "cells": {
             "fill": {
              "color": "#EBF0F8"
             },
             "line": {
              "color": "white"
             }
            },
            "header": {
             "fill": {
              "color": "#C8D4E3"
             },
             "line": {
              "color": "white"
             }
            },
            "type": "table"
           }
          ]
         },
         "layout": {
          "annotationdefaults": {
           "arrowcolor": "#2a3f5f",
           "arrowhead": 0,
           "arrowwidth": 1
          },
          "autotypenumbers": "strict",
          "coloraxis": {
           "colorbar": {
            "outlinewidth": 0,
            "ticks": ""
           }
          },
          "colorscale": {
           "diverging": [
            [
             0,
             "#8e0152"
            ],
            [
             0.1,
             "#c51b7d"
            ],
            [
             0.2,
             "#de77ae"
            ],
            [
             0.3,
             "#f1b6da"
            ],
            [
             0.4,
             "#fde0ef"
            ],
            [
             0.5,
             "#f7f7f7"
            ],
            [
             0.6,
             "#e6f5d0"
            ],
            [
             0.7,
             "#b8e186"
            ],
            [
             0.8,
             "#7fbc41"
            ],
            [
             0.9,
             "#4d9221"
            ],
            [
             1,
             "#276419"
            ]
           ],
           "sequential": [
            [
             0,
             "#0d0887"
            ],
            [
             0.1111111111111111,
             "#46039f"
            ],
            [
             0.2222222222222222,
             "#7201a8"
            ],
            [
             0.3333333333333333,
             "#9c179e"
            ],
            [
             0.4444444444444444,
             "#bd3786"
            ],
            [
             0.5555555555555556,
             "#d8576b"
            ],
            [
             0.6666666666666666,
             "#ed7953"
            ],
            [
             0.7777777777777778,
             "#fb9f3a"
            ],
            [
             0.8888888888888888,
             "#fdca26"
            ],
            [
             1,
             "#f0f921"
            ]
           ],
           "sequentialminus": [
            [
             0,
             "#0d0887"
            ],
            [
             0.1111111111111111,
             "#46039f"
            ],
            [
             0.2222222222222222,
             "#7201a8"
            ],
            [
             0.3333333333333333,
             "#9c179e"
            ],
            [
             0.4444444444444444,
             "#bd3786"
            ],
            [
             0.5555555555555556,
             "#d8576b"
            ],
            [
             0.6666666666666666,
             "#ed7953"
            ],
            [
             0.7777777777777778,
             "#fb9f3a"
            ],
            [
             0.8888888888888888,
             "#fdca26"
            ],
            [
             1,
             "#f0f921"
            ]
           ]
          },
          "colorway": [
           "#636efa",
           "#EF553B",
           "#00cc96",
           "#ab63fa",
           "#FFA15A",
           "#19d3f3",
           "#FF6692",
           "#B6E880",
           "#FF97FF",
           "#FECB52"
          ],
          "font": {
           "color": "#2a3f5f"
          },
          "geo": {
           "bgcolor": "white",
           "lakecolor": "white",
           "landcolor": "#E5ECF6",
           "showlakes": true,
           "showland": true,
           "subunitcolor": "white"
          },
          "hoverlabel": {
           "align": "left"
          },
          "hovermode": "closest",
          "mapbox": {
           "style": "light"
          },
          "paper_bgcolor": "white",
          "plot_bgcolor": "#E5ECF6",
          "polar": {
           "angularaxis": {
            "gridcolor": "white",
            "linecolor": "white",
            "ticks": ""
           },
           "bgcolor": "#E5ECF6",
           "radialaxis": {
            "gridcolor": "white",
            "linecolor": "white",
            "ticks": ""
           }
          },
          "scene": {
           "xaxis": {
            "backgroundcolor": "#E5ECF6",
            "gridcolor": "white",
            "gridwidth": 2,
            "linecolor": "white",
            "showbackground": true,
            "ticks": "",
            "zerolinecolor": "white"
           },
           "yaxis": {
            "backgroundcolor": "#E5ECF6",
            "gridcolor": "white",
            "gridwidth": 2,
            "linecolor": "white",
            "showbackground": true,
            "ticks": "",
            "zerolinecolor": "white"
           },
           "zaxis": {
            "backgroundcolor": "#E5ECF6",
            "gridcolor": "white",
            "gridwidth": 2,
            "linecolor": "white",
            "showbackground": true,
            "ticks": "",
            "zerolinecolor": "white"
           }
          },
          "shapedefaults": {
           "line": {
            "color": "#2a3f5f"
           }
          },
          "ternary": {
           "aaxis": {
            "gridcolor": "white",
            "linecolor": "white",
            "ticks": ""
           },
           "baxis": {
            "gridcolor": "white",
            "linecolor": "white",
            "ticks": ""
           },
           "bgcolor": "#E5ECF6",
           "caxis": {
            "gridcolor": "white",
            "linecolor": "white",
            "ticks": ""
           }
          },
          "title": {
           "x": 0.05
          },
          "xaxis": {
           "automargin": true,
           "gridcolor": "white",
           "linecolor": "white",
           "ticks": "",
           "title": {
            "standoff": 15
           },
           "zerolinecolor": "white",
           "zerolinewidth": 2
          },
          "yaxis": {
           "automargin": true,
           "gridcolor": "white",
           "linecolor": "white",
           "ticks": "",
           "title": {
            "standoff": 15
           },
           "zerolinecolor": "white",
           "zerolinewidth": 2
          }
         }
        },
        "updatemenus": [
         {
          "buttons": [
           {
            "args": [
             null,
             {
              "frame": {
               "duration": 500,
               "redraw": true
              },
              "fromcurrent": true,
              "mode": "immediate",
              "transition": {
               "duration": 500,
               "easing": "linear"
              }
             }
            ],
            "label": "&#9654;",
            "method": "animate"
           },
           {
            "args": [
             [
              null
             ],
             {
              "frame": {
               "duration": 0,
               "redraw": true
              },
              "fromcurrent": true,
              "mode": "immediate",
              "transition": {
               "duration": 0,
               "easing": "linear"
              }
             }
            ],
            "label": "&#9724;",
            "method": "animate"
           }
          ],
          "direction": "left",
          "pad": {
           "r": 10,
           "t": 70
          },
          "showactive": false,
          "type": "buttons",
          "x": 0.1,
          "xanchor": "right",
          "y": 0,
          "yanchor": "top"
         }
        ]
       }
      },
      "text/html": [
       "<div>                            <div id=\"8f60caf8-074d-4bc2-941e-17240059385c\" class=\"plotly-graph-div\" style=\"height:525px; width:100%;\"></div>            <script type=\"text/javascript\">                require([\"plotly\"], function(Plotly) {                    window.PLOTLYENV=window.PLOTLYENV || {};                                    if (document.getElementById(\"8f60caf8-074d-4bc2-941e-17240059385c\")) {                    Plotly.newPlot(                        \"8f60caf8-074d-4bc2-941e-17240059385c\",                        [{\"coloraxis\": \"coloraxis\", \"featureidkey\": \"properties.reg_istat_code_num\", \"geo\": \"geo\", \"geojson\": \"https://raw.githubusercontent.com/openpolis/geojson-italy/master/geojson/limits_IT_regions.geojson\", \"hovertemplate\": \"Date=2020-02-24<br>Region=%{location}<br>ICU=%{z}<extra></extra>\", \"locations\": [13, 17, 18, 15, 8, 6, 12, 7, 3, 11, 14, 4, 4, 1, 16, 20, 19, 9, 10, 2, 5], \"name\": \"\", \"type\": \"choropleth\", \"z\": [0, 0, 0, 0, 2, 0, 1, 0, 19, 0, 0, 0, 0, 0, 0, 0, 0, 0, 0, 0, 4]}],                        {\"coloraxis\": {\"cmax\": 1381, \"cmin\": 0, \"colorbar\": {\"title\": {\"text\": \"ICU\"}}, \"colorscale\": [[0.0, \"rgb(255,245,240)\"], [0.125, \"rgb(254,224,210)\"], [0.25, \"rgb(252,187,161)\"], [0.375, \"rgb(252,146,114)\"], [0.5, \"rgb(251,106,74)\"], [0.625, \"rgb(239,59,44)\"], [0.75, \"rgb(203,24,29)\"], [0.875, \"rgb(165,15,21)\"], [1.0, \"rgb(103,0,13)\"]]}, \"geo\": {\"center\": {}, \"domain\": {\"x\": [0.0, 1.0], \"y\": [0.0, 1.0]}, \"fitbounds\": \"locations\", \"visible\": false}, \"legend\": {\"tracegroupgap\": 0}, \"margin\": {\"b\": 0, \"l\": 0, \"r\": 0, \"t\": 0}, \"sliders\": [{\"active\": 0, \"currentvalue\": {\"prefix\": \"Date=\"}, \"len\": 0.9, \"pad\": {\"b\": 10, \"t\": 60}, \"steps\": [{\"args\": [[\"2020-02-24\"], {\"frame\": {\"duration\": 0, \"redraw\": true}, \"fromcurrent\": true, \"mode\": \"immediate\", \"transition\": {\"duration\": 0, \"easing\": \"linear\"}}], \"label\": \"2020-02-24\", \"method\": \"animate\"}, {\"args\": [[\"2020-02-25\"], {\"frame\": {\"duration\": 0, \"redraw\": true}, \"fromcurrent\": true, \"mode\": \"immediate\", \"transition\": {\"duration\": 0, \"easing\": \"linear\"}}], \"label\": \"2020-02-25\", \"method\": \"animate\"}, {\"args\": [[\"2020-02-26\"], {\"frame\": {\"duration\": 0, \"redraw\": true}, \"fromcurrent\": true, \"mode\": \"immediate\", \"transition\": {\"duration\": 0, \"easing\": \"linear\"}}], \"label\": \"2020-02-26\", \"method\": \"animate\"}, {\"args\": [[\"2020-02-27\"], {\"frame\": {\"duration\": 0, \"redraw\": true}, \"fromcurrent\": true, \"mode\": \"immediate\", \"transition\": {\"duration\": 0, \"easing\": \"linear\"}}], \"label\": \"2020-02-27\", \"method\": \"animate\"}, {\"args\": [[\"2020-02-28\"], {\"frame\": {\"duration\": 0, \"redraw\": true}, \"fromcurrent\": true, \"mode\": \"immediate\", \"transition\": {\"duration\": 0, \"easing\": \"linear\"}}], \"label\": \"2020-02-28\", \"method\": \"animate\"}, {\"args\": [[\"2020-02-29\"], {\"frame\": {\"duration\": 0, \"redraw\": true}, \"fromcurrent\": true, \"mode\": \"immediate\", \"transition\": {\"duration\": 0, \"easing\": \"linear\"}}], \"label\": \"2020-02-29\", \"method\": \"animate\"}, {\"args\": [[\"2020-03-01\"], {\"frame\": {\"duration\": 0, \"redraw\": true}, \"fromcurrent\": true, \"mode\": \"immediate\", \"transition\": {\"duration\": 0, \"easing\": \"linear\"}}], \"label\": \"2020-03-01\", \"method\": \"animate\"}, {\"args\": [[\"2020-03-02\"], {\"frame\": {\"duration\": 0, \"redraw\": true}, \"fromcurrent\": true, \"mode\": \"immediate\", \"transition\": {\"duration\": 0, \"easing\": \"linear\"}}], \"label\": \"2020-03-02\", \"method\": \"animate\"}, {\"args\": [[\"2020-03-03\"], {\"frame\": {\"duration\": 0, \"redraw\": true}, \"fromcurrent\": true, \"mode\": \"immediate\", \"transition\": {\"duration\": 0, \"easing\": \"linear\"}}], \"label\": \"2020-03-03\", \"method\": \"animate\"}, {\"args\": [[\"2020-03-04\"], {\"frame\": {\"duration\": 0, \"redraw\": true}, \"fromcurrent\": true, \"mode\": \"immediate\", \"transition\": {\"duration\": 0, \"easing\": \"linear\"}}], \"label\": \"2020-03-04\", \"method\": \"animate\"}, {\"args\": [[\"2020-03-05\"], {\"frame\": {\"duration\": 0, \"redraw\": true}, \"fromcurrent\": true, \"mode\": \"immediate\", \"transition\": {\"duration\": 0, \"easing\": \"linear\"}}], \"label\": \"2020-03-05\", \"method\": \"animate\"}, {\"args\": [[\"2020-03-06\"], {\"frame\": {\"duration\": 0, \"redraw\": true}, \"fromcurrent\": true, \"mode\": \"immediate\", \"transition\": {\"duration\": 0, \"easing\": \"linear\"}}], \"label\": \"2020-03-06\", \"method\": \"animate\"}, {\"args\": [[\"2020-03-07\"], {\"frame\": {\"duration\": 0, \"redraw\": true}, \"fromcurrent\": true, \"mode\": \"immediate\", \"transition\": {\"duration\": 0, \"easing\": \"linear\"}}], \"label\": \"2020-03-07\", \"method\": \"animate\"}, {\"args\": [[\"2020-03-08\"], {\"frame\": {\"duration\": 0, \"redraw\": true}, \"fromcurrent\": true, \"mode\": \"immediate\", \"transition\": {\"duration\": 0, \"easing\": \"linear\"}}], \"label\": \"2020-03-08\", \"method\": \"animate\"}, {\"args\": [[\"2020-03-09\"], {\"frame\": {\"duration\": 0, \"redraw\": true}, \"fromcurrent\": true, \"mode\": \"immediate\", \"transition\": {\"duration\": 0, \"easing\": \"linear\"}}], \"label\": \"2020-03-09\", \"method\": \"animate\"}, {\"args\": [[\"2020-03-10\"], {\"frame\": {\"duration\": 0, \"redraw\": true}, \"fromcurrent\": true, \"mode\": \"immediate\", \"transition\": {\"duration\": 0, \"easing\": \"linear\"}}], \"label\": \"2020-03-10\", \"method\": \"animate\"}, {\"args\": [[\"2020-03-11\"], {\"frame\": {\"duration\": 0, \"redraw\": true}, \"fromcurrent\": true, \"mode\": \"immediate\", \"transition\": {\"duration\": 0, \"easing\": \"linear\"}}], \"label\": \"2020-03-11\", \"method\": \"animate\"}, {\"args\": [[\"2020-03-12\"], {\"frame\": {\"duration\": 0, \"redraw\": true}, \"fromcurrent\": true, \"mode\": \"immediate\", \"transition\": {\"duration\": 0, \"easing\": \"linear\"}}], \"label\": \"2020-03-12\", \"method\": \"animate\"}, {\"args\": [[\"2020-03-13\"], {\"frame\": {\"duration\": 0, \"redraw\": true}, \"fromcurrent\": true, \"mode\": \"immediate\", \"transition\": {\"duration\": 0, \"easing\": \"linear\"}}], \"label\": \"2020-03-13\", \"method\": \"animate\"}, {\"args\": [[\"2020-03-14\"], {\"frame\": {\"duration\": 0, \"redraw\": true}, \"fromcurrent\": true, \"mode\": \"immediate\", \"transition\": {\"duration\": 0, \"easing\": \"linear\"}}], \"label\": \"2020-03-14\", \"method\": \"animate\"}, {\"args\": [[\"2020-03-15\"], {\"frame\": {\"duration\": 0, \"redraw\": true}, \"fromcurrent\": true, \"mode\": \"immediate\", \"transition\": {\"duration\": 0, \"easing\": \"linear\"}}], \"label\": \"2020-03-15\", \"method\": \"animate\"}, {\"args\": [[\"2020-03-16\"], {\"frame\": {\"duration\": 0, \"redraw\": true}, \"fromcurrent\": true, \"mode\": \"immediate\", \"transition\": {\"duration\": 0, \"easing\": \"linear\"}}], \"label\": \"2020-03-16\", \"method\": \"animate\"}, {\"args\": [[\"2020-03-17\"], {\"frame\": {\"duration\": 0, \"redraw\": true}, \"fromcurrent\": true, \"mode\": \"immediate\", \"transition\": {\"duration\": 0, \"easing\": \"linear\"}}], \"label\": \"2020-03-17\", \"method\": \"animate\"}, {\"args\": [[\"2020-03-18\"], {\"frame\": {\"duration\": 0, \"redraw\": true}, \"fromcurrent\": true, \"mode\": \"immediate\", \"transition\": {\"duration\": 0, \"easing\": \"linear\"}}], \"label\": \"2020-03-18\", \"method\": \"animate\"}, {\"args\": [[\"2020-03-19\"], {\"frame\": {\"duration\": 0, \"redraw\": true}, \"fromcurrent\": true, \"mode\": \"immediate\", \"transition\": {\"duration\": 0, \"easing\": \"linear\"}}], \"label\": \"2020-03-19\", \"method\": \"animate\"}, {\"args\": [[\"2020-03-20\"], {\"frame\": {\"duration\": 0, \"redraw\": true}, \"fromcurrent\": true, \"mode\": \"immediate\", \"transition\": {\"duration\": 0, \"easing\": \"linear\"}}], \"label\": \"2020-03-20\", \"method\": \"animate\"}, {\"args\": [[\"2020-03-21\"], {\"frame\": {\"duration\": 0, \"redraw\": true}, \"fromcurrent\": true, \"mode\": \"immediate\", \"transition\": {\"duration\": 0, \"easing\": \"linear\"}}], \"label\": \"2020-03-21\", \"method\": \"animate\"}, {\"args\": [[\"2020-03-22\"], {\"frame\": {\"duration\": 0, \"redraw\": true}, \"fromcurrent\": true, \"mode\": \"immediate\", \"transition\": {\"duration\": 0, \"easing\": \"linear\"}}], \"label\": \"2020-03-22\", \"method\": \"animate\"}, {\"args\": [[\"2020-03-23\"], {\"frame\": {\"duration\": 0, \"redraw\": true}, \"fromcurrent\": true, \"mode\": \"immediate\", \"transition\": {\"duration\": 0, \"easing\": \"linear\"}}], \"label\": \"2020-03-23\", \"method\": \"animate\"}, {\"args\": [[\"2020-03-24\"], {\"frame\": {\"duration\": 0, \"redraw\": true}, \"fromcurrent\": true, \"mode\": \"immediate\", \"transition\": {\"duration\": 0, \"easing\": \"linear\"}}], \"label\": \"2020-03-24\", \"method\": \"animate\"}, {\"args\": [[\"2020-03-25\"], {\"frame\": {\"duration\": 0, \"redraw\": true}, \"fromcurrent\": true, \"mode\": \"immediate\", \"transition\": {\"duration\": 0, \"easing\": \"linear\"}}], \"label\": \"2020-03-25\", \"method\": \"animate\"}, {\"args\": [[\"2020-03-26\"], {\"frame\": {\"duration\": 0, \"redraw\": true}, \"fromcurrent\": true, \"mode\": \"immediate\", \"transition\": {\"duration\": 0, \"easing\": \"linear\"}}], \"label\": \"2020-03-26\", \"method\": \"animate\"}, {\"args\": [[\"2020-03-27\"], {\"frame\": {\"duration\": 0, \"redraw\": true}, \"fromcurrent\": true, \"mode\": \"immediate\", \"transition\": {\"duration\": 0, \"easing\": \"linear\"}}], \"label\": \"2020-03-27\", \"method\": \"animate\"}, {\"args\": [[\"2020-03-28\"], {\"frame\": {\"duration\": 0, \"redraw\": true}, \"fromcurrent\": true, \"mode\": \"immediate\", \"transition\": {\"duration\": 0, \"easing\": \"linear\"}}], \"label\": \"2020-03-28\", \"method\": \"animate\"}, {\"args\": [[\"2020-03-29\"], {\"frame\": {\"duration\": 0, \"redraw\": true}, \"fromcurrent\": true, \"mode\": \"immediate\", \"transition\": {\"duration\": 0, \"easing\": \"linear\"}}], \"label\": \"2020-03-29\", \"method\": \"animate\"}, {\"args\": [[\"2020-03-30\"], {\"frame\": {\"duration\": 0, \"redraw\": true}, \"fromcurrent\": true, \"mode\": \"immediate\", \"transition\": {\"duration\": 0, \"easing\": \"linear\"}}], \"label\": \"2020-03-30\", \"method\": \"animate\"}, {\"args\": [[\"2020-03-31\"], {\"frame\": {\"duration\": 0, \"redraw\": true}, \"fromcurrent\": true, \"mode\": \"immediate\", \"transition\": {\"duration\": 0, \"easing\": \"linear\"}}], \"label\": \"2020-03-31\", \"method\": \"animate\"}, {\"args\": [[\"2020-04-01\"], {\"frame\": {\"duration\": 0, \"redraw\": true}, \"fromcurrent\": true, \"mode\": \"immediate\", \"transition\": {\"duration\": 0, \"easing\": \"linear\"}}], \"label\": \"2020-04-01\", \"method\": \"animate\"}, {\"args\": [[\"2020-04-02\"], {\"frame\": {\"duration\": 0, \"redraw\": true}, \"fromcurrent\": true, \"mode\": \"immediate\", \"transition\": {\"duration\": 0, \"easing\": \"linear\"}}], \"label\": \"2020-04-02\", \"method\": \"animate\"}, {\"args\": [[\"2020-04-03\"], {\"frame\": {\"duration\": 0, \"redraw\": true}, \"fromcurrent\": true, \"mode\": \"immediate\", \"transition\": {\"duration\": 0, \"easing\": \"linear\"}}], \"label\": \"2020-04-03\", \"method\": \"animate\"}, {\"args\": [[\"2020-04-04\"], {\"frame\": {\"duration\": 0, \"redraw\": true}, \"fromcurrent\": true, \"mode\": \"immediate\", \"transition\": {\"duration\": 0, \"easing\": \"linear\"}}], \"label\": \"2020-04-04\", \"method\": \"animate\"}, {\"args\": [[\"2020-04-05\"], {\"frame\": {\"duration\": 0, \"redraw\": true}, \"fromcurrent\": true, \"mode\": \"immediate\", \"transition\": {\"duration\": 0, \"easing\": \"linear\"}}], \"label\": \"2020-04-05\", \"method\": \"animate\"}, {\"args\": [[\"2020-04-06\"], {\"frame\": {\"duration\": 0, \"redraw\": true}, \"fromcurrent\": true, \"mode\": \"immediate\", \"transition\": {\"duration\": 0, \"easing\": \"linear\"}}], \"label\": \"2020-04-06\", \"method\": \"animate\"}, {\"args\": [[\"2020-04-07\"], {\"frame\": {\"duration\": 0, \"redraw\": true}, \"fromcurrent\": true, \"mode\": \"immediate\", \"transition\": {\"duration\": 0, \"easing\": \"linear\"}}], \"label\": \"2020-04-07\", \"method\": \"animate\"}, {\"args\": [[\"2020-04-08\"], {\"frame\": {\"duration\": 0, \"redraw\": true}, \"fromcurrent\": true, \"mode\": \"immediate\", \"transition\": {\"duration\": 0, \"easing\": \"linear\"}}], \"label\": \"2020-04-08\", \"method\": \"animate\"}, {\"args\": [[\"2020-04-09\"], {\"frame\": {\"duration\": 0, \"redraw\": true}, \"fromcurrent\": true, \"mode\": \"immediate\", \"transition\": {\"duration\": 0, \"easing\": \"linear\"}}], \"label\": \"2020-04-09\", \"method\": \"animate\"}, {\"args\": [[\"2020-04-10\"], {\"frame\": {\"duration\": 0, \"redraw\": true}, \"fromcurrent\": true, \"mode\": \"immediate\", \"transition\": {\"duration\": 0, \"easing\": \"linear\"}}], \"label\": \"2020-04-10\", \"method\": \"animate\"}, {\"args\": [[\"2020-04-11\"], {\"frame\": {\"duration\": 0, \"redraw\": true}, \"fromcurrent\": true, \"mode\": \"immediate\", \"transition\": {\"duration\": 0, \"easing\": \"linear\"}}], \"label\": \"2020-04-11\", \"method\": \"animate\"}, {\"args\": [[\"2020-04-12\"], {\"frame\": {\"duration\": 0, \"redraw\": true}, \"fromcurrent\": true, \"mode\": \"immediate\", \"transition\": {\"duration\": 0, \"easing\": \"linear\"}}], \"label\": \"2020-04-12\", \"method\": \"animate\"}, {\"args\": [[\"2020-04-13\"], {\"frame\": {\"duration\": 0, \"redraw\": true}, \"fromcurrent\": true, \"mode\": \"immediate\", \"transition\": {\"duration\": 0, \"easing\": \"linear\"}}], \"label\": \"2020-04-13\", \"method\": \"animate\"}, {\"args\": [[\"2020-04-14\"], {\"frame\": {\"duration\": 0, \"redraw\": true}, \"fromcurrent\": true, \"mode\": \"immediate\", \"transition\": {\"duration\": 0, \"easing\": \"linear\"}}], \"label\": \"2020-04-14\", \"method\": \"animate\"}, {\"args\": [[\"2020-04-15\"], {\"frame\": {\"duration\": 0, \"redraw\": true}, \"fromcurrent\": true, \"mode\": \"immediate\", \"transition\": {\"duration\": 0, \"easing\": \"linear\"}}], \"label\": \"2020-04-15\", \"method\": \"animate\"}, {\"args\": [[\"2020-04-16\"], {\"frame\": {\"duration\": 0, \"redraw\": true}, \"fromcurrent\": true, \"mode\": \"immediate\", \"transition\": {\"duration\": 0, \"easing\": \"linear\"}}], \"label\": \"2020-04-16\", \"method\": \"animate\"}, {\"args\": [[\"2020-04-17\"], {\"frame\": {\"duration\": 0, \"redraw\": true}, \"fromcurrent\": true, \"mode\": \"immediate\", \"transition\": {\"duration\": 0, \"easing\": \"linear\"}}], \"label\": \"2020-04-17\", \"method\": \"animate\"}, {\"args\": [[\"2020-04-18\"], {\"frame\": {\"duration\": 0, \"redraw\": true}, \"fromcurrent\": true, \"mode\": \"immediate\", \"transition\": {\"duration\": 0, \"easing\": \"linear\"}}], \"label\": \"2020-04-18\", \"method\": \"animate\"}, {\"args\": [[\"2020-04-19\"], {\"frame\": {\"duration\": 0, \"redraw\": true}, \"fromcurrent\": true, \"mode\": \"immediate\", \"transition\": {\"duration\": 0, \"easing\": \"linear\"}}], \"label\": \"2020-04-19\", \"method\": \"animate\"}, {\"args\": [[\"2020-04-20\"], {\"frame\": {\"duration\": 0, \"redraw\": true}, \"fromcurrent\": true, \"mode\": \"immediate\", \"transition\": {\"duration\": 0, \"easing\": \"linear\"}}], \"label\": \"2020-04-20\", \"method\": \"animate\"}, {\"args\": [[\"2020-04-21\"], {\"frame\": {\"duration\": 0, \"redraw\": true}, \"fromcurrent\": true, \"mode\": \"immediate\", \"transition\": {\"duration\": 0, \"easing\": \"linear\"}}], \"label\": \"2020-04-21\", \"method\": \"animate\"}, {\"args\": [[\"2020-04-22\"], {\"frame\": {\"duration\": 0, \"redraw\": true}, \"fromcurrent\": true, \"mode\": \"immediate\", \"transition\": {\"duration\": 0, \"easing\": \"linear\"}}], \"label\": \"2020-04-22\", \"method\": \"animate\"}, {\"args\": [[\"2020-04-23\"], {\"frame\": {\"duration\": 0, \"redraw\": true}, \"fromcurrent\": true, \"mode\": \"immediate\", \"transition\": {\"duration\": 0, \"easing\": \"linear\"}}], \"label\": \"2020-04-23\", \"method\": \"animate\"}, {\"args\": [[\"2020-04-24\"], {\"frame\": {\"duration\": 0, \"redraw\": true}, \"fromcurrent\": true, \"mode\": \"immediate\", \"transition\": {\"duration\": 0, \"easing\": \"linear\"}}], \"label\": \"2020-04-24\", \"method\": \"animate\"}, {\"args\": [[\"2020-04-25\"], {\"frame\": {\"duration\": 0, \"redraw\": true}, \"fromcurrent\": true, \"mode\": \"immediate\", \"transition\": {\"duration\": 0, \"easing\": \"linear\"}}], \"label\": \"2020-04-25\", \"method\": \"animate\"}, {\"args\": [[\"2020-04-26\"], {\"frame\": {\"duration\": 0, \"redraw\": true}, \"fromcurrent\": true, \"mode\": \"immediate\", \"transition\": {\"duration\": 0, \"easing\": \"linear\"}}], \"label\": \"2020-04-26\", \"method\": \"animate\"}, {\"args\": [[\"2020-04-27\"], {\"frame\": {\"duration\": 0, \"redraw\": true}, \"fromcurrent\": true, \"mode\": \"immediate\", \"transition\": {\"duration\": 0, \"easing\": \"linear\"}}], \"label\": \"2020-04-27\", \"method\": \"animate\"}, {\"args\": [[\"2020-04-28\"], {\"frame\": {\"duration\": 0, \"redraw\": true}, \"fromcurrent\": true, \"mode\": \"immediate\", \"transition\": {\"duration\": 0, \"easing\": \"linear\"}}], \"label\": \"2020-04-28\", \"method\": \"animate\"}, {\"args\": [[\"2020-04-29\"], {\"frame\": {\"duration\": 0, \"redraw\": true}, \"fromcurrent\": true, \"mode\": \"immediate\", \"transition\": {\"duration\": 0, \"easing\": \"linear\"}}], \"label\": \"2020-04-29\", \"method\": \"animate\"}, {\"args\": [[\"2020-04-30\"], {\"frame\": {\"duration\": 0, \"redraw\": true}, \"fromcurrent\": true, \"mode\": \"immediate\", \"transition\": {\"duration\": 0, \"easing\": \"linear\"}}], \"label\": \"2020-04-30\", \"method\": \"animate\"}, {\"args\": [[\"2020-05-01\"], {\"frame\": {\"duration\": 0, \"redraw\": true}, \"fromcurrent\": true, \"mode\": \"immediate\", \"transition\": {\"duration\": 0, \"easing\": \"linear\"}}], \"label\": \"2020-05-01\", \"method\": \"animate\"}, {\"args\": [[\"2020-05-02\"], {\"frame\": {\"duration\": 0, \"redraw\": true}, \"fromcurrent\": true, \"mode\": \"immediate\", \"transition\": {\"duration\": 0, \"easing\": \"linear\"}}], \"label\": \"2020-05-02\", \"method\": \"animate\"}, {\"args\": [[\"2020-05-03\"], {\"frame\": {\"duration\": 0, \"redraw\": true}, \"fromcurrent\": true, \"mode\": \"immediate\", \"transition\": {\"duration\": 0, \"easing\": \"linear\"}}], \"label\": \"2020-05-03\", \"method\": \"animate\"}, {\"args\": [[\"2020-05-04\"], {\"frame\": {\"duration\": 0, \"redraw\": true}, \"fromcurrent\": true, \"mode\": \"immediate\", \"transition\": {\"duration\": 0, \"easing\": \"linear\"}}], \"label\": \"2020-05-04\", \"method\": \"animate\"}, {\"args\": [[\"2020-05-05\"], {\"frame\": {\"duration\": 0, \"redraw\": true}, \"fromcurrent\": true, \"mode\": \"immediate\", \"transition\": {\"duration\": 0, \"easing\": \"linear\"}}], \"label\": \"2020-05-05\", \"method\": \"animate\"}, {\"args\": [[\"2020-05-06\"], {\"frame\": {\"duration\": 0, \"redraw\": true}, \"fromcurrent\": true, \"mode\": \"immediate\", \"transition\": {\"duration\": 0, \"easing\": \"linear\"}}], \"label\": \"2020-05-06\", \"method\": \"animate\"}, {\"args\": [[\"2020-05-07\"], {\"frame\": {\"duration\": 0, \"redraw\": true}, \"fromcurrent\": true, \"mode\": \"immediate\", \"transition\": {\"duration\": 0, \"easing\": \"linear\"}}], \"label\": \"2020-05-07\", \"method\": \"animate\"}, {\"args\": [[\"2020-05-08\"], {\"frame\": {\"duration\": 0, \"redraw\": true}, \"fromcurrent\": true, \"mode\": \"immediate\", \"transition\": {\"duration\": 0, \"easing\": \"linear\"}}], \"label\": \"2020-05-08\", \"method\": \"animate\"}, {\"args\": [[\"2020-05-09\"], {\"frame\": {\"duration\": 0, \"redraw\": true}, \"fromcurrent\": true, \"mode\": \"immediate\", \"transition\": {\"duration\": 0, \"easing\": \"linear\"}}], \"label\": \"2020-05-09\", \"method\": \"animate\"}, {\"args\": [[\"2020-05-10\"], {\"frame\": {\"duration\": 0, \"redraw\": true}, \"fromcurrent\": true, \"mode\": \"immediate\", \"transition\": {\"duration\": 0, \"easing\": \"linear\"}}], \"label\": \"2020-05-10\", \"method\": \"animate\"}, {\"args\": [[\"2020-05-11\"], {\"frame\": {\"duration\": 0, \"redraw\": true}, \"fromcurrent\": true, \"mode\": \"immediate\", \"transition\": {\"duration\": 0, \"easing\": \"linear\"}}], \"label\": \"2020-05-11\", \"method\": \"animate\"}, {\"args\": [[\"2020-05-12\"], {\"frame\": {\"duration\": 0, \"redraw\": true}, \"fromcurrent\": true, \"mode\": \"immediate\", \"transition\": {\"duration\": 0, \"easing\": \"linear\"}}], \"label\": \"2020-05-12\", \"method\": \"animate\"}, {\"args\": [[\"2020-05-13\"], {\"frame\": {\"duration\": 0, \"redraw\": true}, \"fromcurrent\": true, \"mode\": \"immediate\", \"transition\": {\"duration\": 0, \"easing\": \"linear\"}}], \"label\": \"2020-05-13\", \"method\": \"animate\"}, {\"args\": [[\"2020-05-14\"], {\"frame\": {\"duration\": 0, \"redraw\": true}, \"fromcurrent\": true, \"mode\": \"immediate\", \"transition\": {\"duration\": 0, \"easing\": \"linear\"}}], \"label\": \"2020-05-14\", \"method\": \"animate\"}, {\"args\": [[\"2020-05-15\"], {\"frame\": {\"duration\": 0, \"redraw\": true}, \"fromcurrent\": true, \"mode\": \"immediate\", \"transition\": {\"duration\": 0, \"easing\": \"linear\"}}], \"label\": \"2020-05-15\", \"method\": \"animate\"}, {\"args\": [[\"2020-05-16\"], {\"frame\": {\"duration\": 0, \"redraw\": true}, \"fromcurrent\": true, \"mode\": \"immediate\", \"transition\": {\"duration\": 0, \"easing\": \"linear\"}}], \"label\": \"2020-05-16\", \"method\": \"animate\"}, {\"args\": [[\"2020-05-17\"], {\"frame\": {\"duration\": 0, \"redraw\": true}, \"fromcurrent\": true, \"mode\": \"immediate\", \"transition\": {\"duration\": 0, \"easing\": \"linear\"}}], \"label\": \"2020-05-17\", \"method\": \"animate\"}, {\"args\": [[\"2020-05-18\"], {\"frame\": {\"duration\": 0, \"redraw\": true}, \"fromcurrent\": true, \"mode\": \"immediate\", \"transition\": {\"duration\": 0, \"easing\": \"linear\"}}], \"label\": \"2020-05-18\", \"method\": \"animate\"}, {\"args\": [[\"2020-05-19\"], {\"frame\": {\"duration\": 0, \"redraw\": true}, \"fromcurrent\": true, \"mode\": \"immediate\", \"transition\": {\"duration\": 0, \"easing\": \"linear\"}}], \"label\": \"2020-05-19\", \"method\": \"animate\"}, {\"args\": [[\"2020-05-20\"], {\"frame\": {\"duration\": 0, \"redraw\": true}, \"fromcurrent\": true, \"mode\": \"immediate\", \"transition\": {\"duration\": 0, \"easing\": \"linear\"}}], \"label\": \"2020-05-20\", \"method\": \"animate\"}, {\"args\": [[\"2020-05-21\"], {\"frame\": {\"duration\": 0, \"redraw\": true}, \"fromcurrent\": true, \"mode\": \"immediate\", \"transition\": {\"duration\": 0, \"easing\": \"linear\"}}], \"label\": \"2020-05-21\", \"method\": \"animate\"}, {\"args\": [[\"2020-05-22\"], {\"frame\": {\"duration\": 0, \"redraw\": true}, \"fromcurrent\": true, \"mode\": \"immediate\", \"transition\": {\"duration\": 0, \"easing\": \"linear\"}}], \"label\": \"2020-05-22\", \"method\": \"animate\"}, {\"args\": [[\"2020-05-23\"], {\"frame\": {\"duration\": 0, \"redraw\": true}, \"fromcurrent\": true, \"mode\": \"immediate\", \"transition\": {\"duration\": 0, \"easing\": \"linear\"}}], \"label\": \"2020-05-23\", \"method\": \"animate\"}, {\"args\": [[\"2020-05-24\"], {\"frame\": {\"duration\": 0, \"redraw\": true}, \"fromcurrent\": true, \"mode\": \"immediate\", \"transition\": {\"duration\": 0, \"easing\": \"linear\"}}], \"label\": \"2020-05-24\", \"method\": \"animate\"}, {\"args\": [[\"2020-05-25\"], {\"frame\": {\"duration\": 0, \"redraw\": true}, \"fromcurrent\": true, \"mode\": \"immediate\", \"transition\": {\"duration\": 0, \"easing\": \"linear\"}}], \"label\": \"2020-05-25\", \"method\": \"animate\"}, {\"args\": [[\"2020-05-26\"], {\"frame\": {\"duration\": 0, \"redraw\": true}, \"fromcurrent\": true, \"mode\": \"immediate\", \"transition\": {\"duration\": 0, \"easing\": \"linear\"}}], \"label\": \"2020-05-26\", \"method\": \"animate\"}, {\"args\": [[\"2020-05-27\"], {\"frame\": {\"duration\": 0, \"redraw\": true}, \"fromcurrent\": true, \"mode\": \"immediate\", \"transition\": {\"duration\": 0, \"easing\": \"linear\"}}], \"label\": \"2020-05-27\", \"method\": \"animate\"}, {\"args\": [[\"2020-05-28\"], {\"frame\": {\"duration\": 0, \"redraw\": true}, \"fromcurrent\": true, \"mode\": \"immediate\", \"transition\": {\"duration\": 0, \"easing\": \"linear\"}}], \"label\": \"2020-05-28\", \"method\": \"animate\"}, {\"args\": [[\"2020-05-29\"], {\"frame\": {\"duration\": 0, \"redraw\": true}, \"fromcurrent\": true, \"mode\": \"immediate\", \"transition\": {\"duration\": 0, \"easing\": \"linear\"}}], \"label\": \"2020-05-29\", \"method\": \"animate\"}, {\"args\": [[\"2020-05-30\"], {\"frame\": {\"duration\": 0, \"redraw\": true}, \"fromcurrent\": true, \"mode\": \"immediate\", \"transition\": {\"duration\": 0, \"easing\": \"linear\"}}], \"label\": \"2020-05-30\", \"method\": \"animate\"}, {\"args\": [[\"2020-05-31\"], {\"frame\": {\"duration\": 0, \"redraw\": true}, \"fromcurrent\": true, \"mode\": \"immediate\", \"transition\": {\"duration\": 0, \"easing\": \"linear\"}}], \"label\": \"2020-05-31\", \"method\": \"animate\"}, {\"args\": [[\"2020-06-01\"], {\"frame\": {\"duration\": 0, \"redraw\": true}, \"fromcurrent\": true, \"mode\": \"immediate\", \"transition\": {\"duration\": 0, \"easing\": \"linear\"}}], \"label\": \"2020-06-01\", \"method\": \"animate\"}, {\"args\": [[\"2020-06-02\"], {\"frame\": {\"duration\": 0, \"redraw\": true}, \"fromcurrent\": true, \"mode\": \"immediate\", \"transition\": {\"duration\": 0, \"easing\": \"linear\"}}], \"label\": \"2020-06-02\", \"method\": \"animate\"}, {\"args\": [[\"2020-06-03\"], {\"frame\": {\"duration\": 0, \"redraw\": true}, \"fromcurrent\": true, \"mode\": \"immediate\", \"transition\": {\"duration\": 0, \"easing\": \"linear\"}}], \"label\": \"2020-06-03\", \"method\": \"animate\"}, {\"args\": [[\"2020-06-04\"], {\"frame\": {\"duration\": 0, \"redraw\": true}, \"fromcurrent\": true, \"mode\": \"immediate\", \"transition\": {\"duration\": 0, \"easing\": \"linear\"}}], \"label\": \"2020-06-04\", \"method\": \"animate\"}, {\"args\": [[\"2020-06-05\"], {\"frame\": {\"duration\": 0, \"redraw\": true}, \"fromcurrent\": true, \"mode\": \"immediate\", \"transition\": {\"duration\": 0, \"easing\": \"linear\"}}], \"label\": \"2020-06-05\", \"method\": \"animate\"}, {\"args\": [[\"2020-06-06\"], {\"frame\": {\"duration\": 0, \"redraw\": true}, \"fromcurrent\": true, \"mode\": \"immediate\", \"transition\": {\"duration\": 0, \"easing\": \"linear\"}}], \"label\": \"2020-06-06\", \"method\": \"animate\"}, {\"args\": [[\"2020-06-07\"], {\"frame\": {\"duration\": 0, \"redraw\": true}, \"fromcurrent\": true, \"mode\": \"immediate\", \"transition\": {\"duration\": 0, \"easing\": \"linear\"}}], \"label\": \"2020-06-07\", \"method\": \"animate\"}, {\"args\": [[\"2020-06-08\"], {\"frame\": {\"duration\": 0, \"redraw\": true}, \"fromcurrent\": true, \"mode\": \"immediate\", \"transition\": {\"duration\": 0, \"easing\": \"linear\"}}], \"label\": \"2020-06-08\", \"method\": \"animate\"}, {\"args\": [[\"2020-06-09\"], {\"frame\": {\"duration\": 0, \"redraw\": true}, \"fromcurrent\": true, \"mode\": \"immediate\", \"transition\": {\"duration\": 0, \"easing\": \"linear\"}}], \"label\": \"2020-06-09\", \"method\": \"animate\"}, {\"args\": [[\"2020-06-10\"], {\"frame\": {\"duration\": 0, \"redraw\": true}, \"fromcurrent\": true, \"mode\": \"immediate\", \"transition\": {\"duration\": 0, \"easing\": \"linear\"}}], \"label\": \"2020-06-10\", \"method\": \"animate\"}, {\"args\": [[\"2020-06-11\"], {\"frame\": {\"duration\": 0, \"redraw\": true}, \"fromcurrent\": true, \"mode\": \"immediate\", \"transition\": {\"duration\": 0, \"easing\": \"linear\"}}], \"label\": \"2020-06-11\", \"method\": \"animate\"}, {\"args\": [[\"2020-06-12\"], {\"frame\": {\"duration\": 0, \"redraw\": true}, \"fromcurrent\": true, \"mode\": \"immediate\", \"transition\": {\"duration\": 0, \"easing\": \"linear\"}}], \"label\": \"2020-06-12\", \"method\": \"animate\"}, {\"args\": [[\"2020-06-13\"], {\"frame\": {\"duration\": 0, \"redraw\": true}, \"fromcurrent\": true, \"mode\": \"immediate\", \"transition\": {\"duration\": 0, \"easing\": \"linear\"}}], \"label\": \"2020-06-13\", \"method\": \"animate\"}, {\"args\": [[\"2020-06-14\"], {\"frame\": {\"duration\": 0, \"redraw\": true}, \"fromcurrent\": true, \"mode\": \"immediate\", \"transition\": {\"duration\": 0, \"easing\": \"linear\"}}], \"label\": \"2020-06-14\", \"method\": \"animate\"}, {\"args\": [[\"2020-06-15\"], {\"frame\": {\"duration\": 0, \"redraw\": true}, \"fromcurrent\": true, \"mode\": \"immediate\", \"transition\": {\"duration\": 0, \"easing\": \"linear\"}}], \"label\": \"2020-06-15\", \"method\": \"animate\"}, {\"args\": [[\"2020-06-16\"], {\"frame\": {\"duration\": 0, \"redraw\": true}, \"fromcurrent\": true, \"mode\": \"immediate\", \"transition\": {\"duration\": 0, \"easing\": \"linear\"}}], \"label\": \"2020-06-16\", \"method\": \"animate\"}, {\"args\": [[\"2020-06-17\"], {\"frame\": {\"duration\": 0, \"redraw\": true}, \"fromcurrent\": true, \"mode\": \"immediate\", \"transition\": {\"duration\": 0, \"easing\": \"linear\"}}], \"label\": \"2020-06-17\", \"method\": \"animate\"}, {\"args\": [[\"2020-06-18\"], {\"frame\": {\"duration\": 0, \"redraw\": true}, \"fromcurrent\": true, \"mode\": \"immediate\", \"transition\": {\"duration\": 0, \"easing\": \"linear\"}}], \"label\": \"2020-06-18\", \"method\": \"animate\"}, {\"args\": [[\"2020-06-19\"], {\"frame\": {\"duration\": 0, \"redraw\": true}, \"fromcurrent\": true, \"mode\": \"immediate\", \"transition\": {\"duration\": 0, \"easing\": \"linear\"}}], \"label\": \"2020-06-19\", \"method\": \"animate\"}, {\"args\": [[\"2020-06-20\"], {\"frame\": {\"duration\": 0, \"redraw\": true}, \"fromcurrent\": true, \"mode\": \"immediate\", \"transition\": {\"duration\": 0, \"easing\": \"linear\"}}], \"label\": \"2020-06-20\", \"method\": \"animate\"}, {\"args\": [[\"2020-06-21\"], {\"frame\": {\"duration\": 0, \"redraw\": true}, \"fromcurrent\": true, \"mode\": \"immediate\", \"transition\": {\"duration\": 0, \"easing\": \"linear\"}}], \"label\": \"2020-06-21\", \"method\": \"animate\"}, {\"args\": [[\"2020-06-22\"], {\"frame\": {\"duration\": 0, \"redraw\": true}, \"fromcurrent\": true, \"mode\": \"immediate\", \"transition\": {\"duration\": 0, \"easing\": \"linear\"}}], \"label\": \"2020-06-22\", \"method\": \"animate\"}, {\"args\": [[\"2020-06-23\"], {\"frame\": {\"duration\": 0, \"redraw\": true}, \"fromcurrent\": true, \"mode\": \"immediate\", \"transition\": {\"duration\": 0, \"easing\": \"linear\"}}], \"label\": \"2020-06-23\", \"method\": \"animate\"}, {\"args\": [[\"2020-06-24\"], {\"frame\": {\"duration\": 0, \"redraw\": true}, \"fromcurrent\": true, \"mode\": \"immediate\", \"transition\": {\"duration\": 0, \"easing\": \"linear\"}}], \"label\": \"2020-06-24\", \"method\": \"animate\"}, {\"args\": [[\"2020-06-25\"], {\"frame\": {\"duration\": 0, \"redraw\": true}, \"fromcurrent\": true, \"mode\": \"immediate\", \"transition\": {\"duration\": 0, \"easing\": \"linear\"}}], \"label\": \"2020-06-25\", \"method\": \"animate\"}, {\"args\": [[\"2020-06-26\"], {\"frame\": {\"duration\": 0, \"redraw\": true}, \"fromcurrent\": true, \"mode\": \"immediate\", \"transition\": {\"duration\": 0, \"easing\": \"linear\"}}], \"label\": \"2020-06-26\", \"method\": \"animate\"}, {\"args\": [[\"2020-06-27\"], {\"frame\": {\"duration\": 0, \"redraw\": true}, \"fromcurrent\": true, \"mode\": \"immediate\", \"transition\": {\"duration\": 0, \"easing\": \"linear\"}}], \"label\": \"2020-06-27\", \"method\": \"animate\"}, {\"args\": [[\"2020-06-28\"], {\"frame\": {\"duration\": 0, \"redraw\": true}, \"fromcurrent\": true, \"mode\": \"immediate\", \"transition\": {\"duration\": 0, \"easing\": \"linear\"}}], \"label\": \"2020-06-28\", \"method\": \"animate\"}, {\"args\": [[\"2020-06-29\"], {\"frame\": {\"duration\": 0, \"redraw\": true}, \"fromcurrent\": true, \"mode\": \"immediate\", \"transition\": {\"duration\": 0, \"easing\": \"linear\"}}], \"label\": \"2020-06-29\", \"method\": \"animate\"}, {\"args\": [[\"2020-06-30\"], {\"frame\": {\"duration\": 0, \"redraw\": true}, \"fromcurrent\": true, \"mode\": \"immediate\", \"transition\": {\"duration\": 0, \"easing\": \"linear\"}}], \"label\": \"2020-06-30\", \"method\": \"animate\"}, {\"args\": [[\"2020-07-01\"], {\"frame\": {\"duration\": 0, \"redraw\": true}, \"fromcurrent\": true, \"mode\": \"immediate\", \"transition\": {\"duration\": 0, \"easing\": \"linear\"}}], \"label\": \"2020-07-01\", \"method\": \"animate\"}, {\"args\": [[\"2020-07-02\"], {\"frame\": {\"duration\": 0, \"redraw\": true}, \"fromcurrent\": true, \"mode\": \"immediate\", \"transition\": {\"duration\": 0, \"easing\": \"linear\"}}], \"label\": \"2020-07-02\", \"method\": \"animate\"}, {\"args\": [[\"2020-07-03\"], {\"frame\": {\"duration\": 0, \"redraw\": true}, \"fromcurrent\": true, \"mode\": \"immediate\", \"transition\": {\"duration\": 0, \"easing\": \"linear\"}}], \"label\": \"2020-07-03\", \"method\": \"animate\"}, {\"args\": [[\"2020-07-04\"], {\"frame\": {\"duration\": 0, \"redraw\": true}, \"fromcurrent\": true, \"mode\": \"immediate\", \"transition\": {\"duration\": 0, \"easing\": \"linear\"}}], \"label\": \"2020-07-04\", \"method\": \"animate\"}, {\"args\": [[\"2020-07-05\"], {\"frame\": {\"duration\": 0, \"redraw\": true}, \"fromcurrent\": true, \"mode\": \"immediate\", \"transition\": {\"duration\": 0, \"easing\": \"linear\"}}], \"label\": \"2020-07-05\", \"method\": \"animate\"}, {\"args\": [[\"2020-07-06\"], {\"frame\": {\"duration\": 0, \"redraw\": true}, \"fromcurrent\": true, \"mode\": \"immediate\", \"transition\": {\"duration\": 0, \"easing\": \"linear\"}}], \"label\": \"2020-07-06\", \"method\": \"animate\"}, {\"args\": [[\"2020-07-07\"], {\"frame\": {\"duration\": 0, \"redraw\": true}, \"fromcurrent\": true, \"mode\": \"immediate\", \"transition\": {\"duration\": 0, \"easing\": \"linear\"}}], \"label\": \"2020-07-07\", \"method\": \"animate\"}, {\"args\": [[\"2020-07-08\"], {\"frame\": {\"duration\": 0, \"redraw\": true}, \"fromcurrent\": true, \"mode\": \"immediate\", \"transition\": {\"duration\": 0, \"easing\": \"linear\"}}], \"label\": \"2020-07-08\", \"method\": \"animate\"}, {\"args\": [[\"2020-07-09\"], {\"frame\": {\"duration\": 0, \"redraw\": true}, \"fromcurrent\": true, \"mode\": \"immediate\", \"transition\": {\"duration\": 0, \"easing\": \"linear\"}}], \"label\": \"2020-07-09\", \"method\": \"animate\"}, {\"args\": [[\"2020-07-10\"], {\"frame\": {\"duration\": 0, \"redraw\": true}, \"fromcurrent\": true, \"mode\": \"immediate\", \"transition\": {\"duration\": 0, \"easing\": \"linear\"}}], \"label\": \"2020-07-10\", \"method\": \"animate\"}, {\"args\": [[\"2020-07-11\"], {\"frame\": {\"duration\": 0, \"redraw\": true}, \"fromcurrent\": true, \"mode\": \"immediate\", \"transition\": {\"duration\": 0, \"easing\": \"linear\"}}], \"label\": \"2020-07-11\", \"method\": \"animate\"}, {\"args\": [[\"2020-07-12\"], {\"frame\": {\"duration\": 0, \"redraw\": true}, \"fromcurrent\": true, \"mode\": \"immediate\", \"transition\": {\"duration\": 0, \"easing\": \"linear\"}}], \"label\": \"2020-07-12\", \"method\": \"animate\"}, {\"args\": [[\"2020-07-13\"], {\"frame\": {\"duration\": 0, \"redraw\": true}, \"fromcurrent\": true, \"mode\": \"immediate\", \"transition\": {\"duration\": 0, \"easing\": \"linear\"}}], \"label\": \"2020-07-13\", \"method\": \"animate\"}, {\"args\": [[\"2020-07-14\"], {\"frame\": {\"duration\": 0, \"redraw\": true}, \"fromcurrent\": true, \"mode\": \"immediate\", \"transition\": {\"duration\": 0, \"easing\": \"linear\"}}], \"label\": \"2020-07-14\", \"method\": \"animate\"}, {\"args\": [[\"2020-07-15\"], {\"frame\": {\"duration\": 0, \"redraw\": true}, \"fromcurrent\": true, \"mode\": \"immediate\", \"transition\": {\"duration\": 0, \"easing\": \"linear\"}}], \"label\": \"2020-07-15\", \"method\": \"animate\"}, {\"args\": [[\"2020-07-16\"], {\"frame\": {\"duration\": 0, \"redraw\": true}, \"fromcurrent\": true, \"mode\": \"immediate\", \"transition\": {\"duration\": 0, \"easing\": \"linear\"}}], \"label\": \"2020-07-16\", \"method\": \"animate\"}, {\"args\": [[\"2020-07-17\"], {\"frame\": {\"duration\": 0, \"redraw\": true}, \"fromcurrent\": true, \"mode\": \"immediate\", \"transition\": {\"duration\": 0, \"easing\": \"linear\"}}], \"label\": \"2020-07-17\", \"method\": \"animate\"}, {\"args\": [[\"2020-07-18\"], {\"frame\": {\"duration\": 0, \"redraw\": true}, \"fromcurrent\": true, \"mode\": \"immediate\", \"transition\": {\"duration\": 0, \"easing\": \"linear\"}}], \"label\": \"2020-07-18\", \"method\": \"animate\"}, {\"args\": [[\"2020-07-19\"], {\"frame\": {\"duration\": 0, \"redraw\": true}, \"fromcurrent\": true, \"mode\": \"immediate\", \"transition\": {\"duration\": 0, \"easing\": \"linear\"}}], \"label\": \"2020-07-19\", \"method\": \"animate\"}, {\"args\": [[\"2020-07-20\"], {\"frame\": {\"duration\": 0, \"redraw\": true}, \"fromcurrent\": true, \"mode\": \"immediate\", \"transition\": {\"duration\": 0, \"easing\": \"linear\"}}], \"label\": \"2020-07-20\", \"method\": \"animate\"}, {\"args\": [[\"2020-07-21\"], {\"frame\": {\"duration\": 0, \"redraw\": true}, \"fromcurrent\": true, \"mode\": \"immediate\", \"transition\": {\"duration\": 0, \"easing\": \"linear\"}}], \"label\": \"2020-07-21\", \"method\": \"animate\"}, {\"args\": [[\"2020-07-22\"], {\"frame\": {\"duration\": 0, \"redraw\": true}, \"fromcurrent\": true, \"mode\": \"immediate\", \"transition\": {\"duration\": 0, \"easing\": \"linear\"}}], \"label\": \"2020-07-22\", \"method\": \"animate\"}, {\"args\": [[\"2020-07-23\"], {\"frame\": {\"duration\": 0, \"redraw\": true}, \"fromcurrent\": true, \"mode\": \"immediate\", \"transition\": {\"duration\": 0, \"easing\": \"linear\"}}], \"label\": \"2020-07-23\", \"method\": \"animate\"}, {\"args\": [[\"2020-07-24\"], {\"frame\": {\"duration\": 0, \"redraw\": true}, \"fromcurrent\": true, \"mode\": \"immediate\", \"transition\": {\"duration\": 0, \"easing\": \"linear\"}}], \"label\": \"2020-07-24\", \"method\": \"animate\"}, {\"args\": [[\"2020-07-25\"], {\"frame\": {\"duration\": 0, \"redraw\": true}, \"fromcurrent\": true, \"mode\": \"immediate\", \"transition\": {\"duration\": 0, \"easing\": \"linear\"}}], \"label\": \"2020-07-25\", \"method\": \"animate\"}, {\"args\": [[\"2020-07-26\"], {\"frame\": {\"duration\": 0, \"redraw\": true}, \"fromcurrent\": true, \"mode\": \"immediate\", \"transition\": {\"duration\": 0, \"easing\": \"linear\"}}], \"label\": \"2020-07-26\", \"method\": \"animate\"}, {\"args\": [[\"2020-07-27\"], {\"frame\": {\"duration\": 0, \"redraw\": true}, \"fromcurrent\": true, \"mode\": \"immediate\", \"transition\": {\"duration\": 0, \"easing\": \"linear\"}}], \"label\": \"2020-07-27\", \"method\": \"animate\"}, {\"args\": [[\"2020-07-28\"], {\"frame\": {\"duration\": 0, \"redraw\": true}, \"fromcurrent\": true, \"mode\": \"immediate\", \"transition\": {\"duration\": 0, \"easing\": \"linear\"}}], \"label\": \"2020-07-28\", \"method\": \"animate\"}, {\"args\": [[\"2020-07-29\"], {\"frame\": {\"duration\": 0, \"redraw\": true}, \"fromcurrent\": true, \"mode\": \"immediate\", \"transition\": {\"duration\": 0, \"easing\": \"linear\"}}], \"label\": \"2020-07-29\", \"method\": \"animate\"}, {\"args\": [[\"2020-07-30\"], {\"frame\": {\"duration\": 0, \"redraw\": true}, \"fromcurrent\": true, \"mode\": \"immediate\", \"transition\": {\"duration\": 0, \"easing\": \"linear\"}}], \"label\": \"2020-07-30\", \"method\": \"animate\"}, {\"args\": [[\"2020-07-31\"], {\"frame\": {\"duration\": 0, \"redraw\": true}, \"fromcurrent\": true, \"mode\": \"immediate\", \"transition\": {\"duration\": 0, \"easing\": \"linear\"}}], \"label\": \"2020-07-31\", \"method\": \"animate\"}, {\"args\": [[\"2020-08-01\"], {\"frame\": {\"duration\": 0, \"redraw\": true}, \"fromcurrent\": true, \"mode\": \"immediate\", \"transition\": {\"duration\": 0, \"easing\": \"linear\"}}], \"label\": \"2020-08-01\", \"method\": \"animate\"}, {\"args\": [[\"2020-08-02\"], {\"frame\": {\"duration\": 0, \"redraw\": true}, \"fromcurrent\": true, \"mode\": \"immediate\", \"transition\": {\"duration\": 0, \"easing\": \"linear\"}}], \"label\": \"2020-08-02\", \"method\": \"animate\"}, {\"args\": [[\"2020-08-03\"], {\"frame\": {\"duration\": 0, \"redraw\": true}, \"fromcurrent\": true, \"mode\": \"immediate\", \"transition\": {\"duration\": 0, \"easing\": \"linear\"}}], \"label\": \"2020-08-03\", \"method\": \"animate\"}, {\"args\": [[\"2020-08-04\"], {\"frame\": {\"duration\": 0, \"redraw\": true}, \"fromcurrent\": true, \"mode\": \"immediate\", \"transition\": {\"duration\": 0, \"easing\": \"linear\"}}], \"label\": \"2020-08-04\", \"method\": \"animate\"}, {\"args\": [[\"2020-08-05\"], {\"frame\": {\"duration\": 0, \"redraw\": true}, \"fromcurrent\": true, \"mode\": \"immediate\", \"transition\": {\"duration\": 0, \"easing\": \"linear\"}}], \"label\": \"2020-08-05\", \"method\": \"animate\"}, {\"args\": [[\"2020-08-06\"], {\"frame\": {\"duration\": 0, \"redraw\": true}, \"fromcurrent\": true, \"mode\": \"immediate\", \"transition\": {\"duration\": 0, \"easing\": \"linear\"}}], \"label\": \"2020-08-06\", \"method\": \"animate\"}, {\"args\": [[\"2020-08-07\"], {\"frame\": {\"duration\": 0, \"redraw\": true}, \"fromcurrent\": true, \"mode\": \"immediate\", \"transition\": {\"duration\": 0, \"easing\": \"linear\"}}], \"label\": \"2020-08-07\", \"method\": \"animate\"}, {\"args\": [[\"2020-08-08\"], {\"frame\": {\"duration\": 0, \"redraw\": true}, \"fromcurrent\": true, \"mode\": \"immediate\", \"transition\": {\"duration\": 0, \"easing\": \"linear\"}}], \"label\": \"2020-08-08\", \"method\": \"animate\"}, {\"args\": [[\"2020-08-09\"], {\"frame\": {\"duration\": 0, \"redraw\": true}, \"fromcurrent\": true, \"mode\": \"immediate\", \"transition\": {\"duration\": 0, \"easing\": \"linear\"}}], \"label\": \"2020-08-09\", \"method\": \"animate\"}, {\"args\": [[\"2020-08-10\"], {\"frame\": {\"duration\": 0, \"redraw\": true}, \"fromcurrent\": true, \"mode\": \"immediate\", \"transition\": {\"duration\": 0, \"easing\": \"linear\"}}], \"label\": \"2020-08-10\", \"method\": \"animate\"}, {\"args\": [[\"2020-08-11\"], {\"frame\": {\"duration\": 0, \"redraw\": true}, \"fromcurrent\": true, \"mode\": \"immediate\", \"transition\": {\"duration\": 0, \"easing\": \"linear\"}}], \"label\": \"2020-08-11\", \"method\": \"animate\"}, {\"args\": [[\"2020-08-12\"], {\"frame\": {\"duration\": 0, \"redraw\": true}, \"fromcurrent\": true, \"mode\": \"immediate\", \"transition\": {\"duration\": 0, \"easing\": \"linear\"}}], \"label\": \"2020-08-12\", \"method\": \"animate\"}, {\"args\": [[\"2020-08-13\"], {\"frame\": {\"duration\": 0, \"redraw\": true}, \"fromcurrent\": true, \"mode\": \"immediate\", \"transition\": {\"duration\": 0, \"easing\": \"linear\"}}], \"label\": \"2020-08-13\", \"method\": \"animate\"}, {\"args\": [[\"2020-08-14\"], {\"frame\": {\"duration\": 0, \"redraw\": true}, \"fromcurrent\": true, \"mode\": \"immediate\", \"transition\": {\"duration\": 0, \"easing\": \"linear\"}}], \"label\": \"2020-08-14\", \"method\": \"animate\"}, {\"args\": [[\"2020-08-15\"], {\"frame\": {\"duration\": 0, \"redraw\": true}, \"fromcurrent\": true, \"mode\": \"immediate\", \"transition\": {\"duration\": 0, \"easing\": \"linear\"}}], \"label\": \"2020-08-15\", \"method\": \"animate\"}, {\"args\": [[\"2020-08-16\"], {\"frame\": {\"duration\": 0, \"redraw\": true}, \"fromcurrent\": true, \"mode\": \"immediate\", \"transition\": {\"duration\": 0, \"easing\": \"linear\"}}], \"label\": \"2020-08-16\", \"method\": \"animate\"}, {\"args\": [[\"2020-08-17\"], {\"frame\": {\"duration\": 0, \"redraw\": true}, \"fromcurrent\": true, \"mode\": \"immediate\", \"transition\": {\"duration\": 0, \"easing\": \"linear\"}}], \"label\": \"2020-08-17\", \"method\": \"animate\"}, {\"args\": [[\"2020-08-18\"], {\"frame\": {\"duration\": 0, \"redraw\": true}, \"fromcurrent\": true, \"mode\": \"immediate\", \"transition\": {\"duration\": 0, \"easing\": \"linear\"}}], \"label\": \"2020-08-18\", \"method\": \"animate\"}, {\"args\": [[\"2020-08-19\"], {\"frame\": {\"duration\": 0, \"redraw\": true}, \"fromcurrent\": true, \"mode\": \"immediate\", \"transition\": {\"duration\": 0, \"easing\": \"linear\"}}], \"label\": \"2020-08-19\", \"method\": \"animate\"}, {\"args\": [[\"2020-08-20\"], {\"frame\": {\"duration\": 0, \"redraw\": true}, \"fromcurrent\": true, \"mode\": \"immediate\", \"transition\": {\"duration\": 0, \"easing\": \"linear\"}}], \"label\": \"2020-08-20\", \"method\": \"animate\"}, {\"args\": [[\"2020-08-21\"], {\"frame\": {\"duration\": 0, \"redraw\": true}, \"fromcurrent\": true, \"mode\": \"immediate\", \"transition\": {\"duration\": 0, \"easing\": \"linear\"}}], \"label\": \"2020-08-21\", \"method\": \"animate\"}, {\"args\": [[\"2020-08-22\"], {\"frame\": {\"duration\": 0, \"redraw\": true}, \"fromcurrent\": true, \"mode\": \"immediate\", \"transition\": {\"duration\": 0, \"easing\": \"linear\"}}], \"label\": \"2020-08-22\", \"method\": \"animate\"}, {\"args\": [[\"2020-08-23\"], {\"frame\": {\"duration\": 0, \"redraw\": true}, \"fromcurrent\": true, \"mode\": \"immediate\", \"transition\": {\"duration\": 0, \"easing\": \"linear\"}}], \"label\": \"2020-08-23\", \"method\": \"animate\"}, {\"args\": [[\"2020-08-24\"], {\"frame\": {\"duration\": 0, \"redraw\": true}, \"fromcurrent\": true, \"mode\": \"immediate\", \"transition\": {\"duration\": 0, \"easing\": \"linear\"}}], \"label\": \"2020-08-24\", \"method\": \"animate\"}, {\"args\": [[\"2020-08-25\"], {\"frame\": {\"duration\": 0, \"redraw\": true}, \"fromcurrent\": true, \"mode\": \"immediate\", \"transition\": {\"duration\": 0, \"easing\": \"linear\"}}], \"label\": \"2020-08-25\", \"method\": \"animate\"}, {\"args\": [[\"2020-08-26\"], {\"frame\": {\"duration\": 0, \"redraw\": true}, \"fromcurrent\": true, \"mode\": \"immediate\", \"transition\": {\"duration\": 0, \"easing\": \"linear\"}}], \"label\": \"2020-08-26\", \"method\": \"animate\"}, {\"args\": [[\"2020-08-27\"], {\"frame\": {\"duration\": 0, \"redraw\": true}, \"fromcurrent\": true, \"mode\": \"immediate\", \"transition\": {\"duration\": 0, \"easing\": \"linear\"}}], \"label\": \"2020-08-27\", \"method\": \"animate\"}, {\"args\": [[\"2020-08-28\"], {\"frame\": {\"duration\": 0, \"redraw\": true}, \"fromcurrent\": true, \"mode\": \"immediate\", \"transition\": {\"duration\": 0, \"easing\": \"linear\"}}], \"label\": \"2020-08-28\", \"method\": \"animate\"}, {\"args\": [[\"2020-08-29\"], {\"frame\": {\"duration\": 0, \"redraw\": true}, \"fromcurrent\": true, \"mode\": \"immediate\", \"transition\": {\"duration\": 0, \"easing\": \"linear\"}}], \"label\": \"2020-08-29\", \"method\": \"animate\"}, {\"args\": [[\"2020-08-30\"], {\"frame\": {\"duration\": 0, \"redraw\": true}, \"fromcurrent\": true, \"mode\": \"immediate\", \"transition\": {\"duration\": 0, \"easing\": \"linear\"}}], \"label\": \"2020-08-30\", \"method\": \"animate\"}, {\"args\": [[\"2020-08-31\"], {\"frame\": {\"duration\": 0, \"redraw\": true}, \"fromcurrent\": true, \"mode\": \"immediate\", \"transition\": {\"duration\": 0, \"easing\": \"linear\"}}], \"label\": \"2020-08-31\", \"method\": \"animate\"}, {\"args\": [[\"2020-09-01\"], {\"frame\": {\"duration\": 0, \"redraw\": true}, \"fromcurrent\": true, \"mode\": \"immediate\", \"transition\": {\"duration\": 0, \"easing\": \"linear\"}}], \"label\": \"2020-09-01\", \"method\": \"animate\"}, {\"args\": [[\"2020-09-02\"], {\"frame\": {\"duration\": 0, \"redraw\": true}, \"fromcurrent\": true, \"mode\": \"immediate\", \"transition\": {\"duration\": 0, \"easing\": \"linear\"}}], \"label\": \"2020-09-02\", \"method\": \"animate\"}, {\"args\": [[\"2020-09-03\"], {\"frame\": {\"duration\": 0, \"redraw\": true}, \"fromcurrent\": true, \"mode\": \"immediate\", \"transition\": {\"duration\": 0, \"easing\": \"linear\"}}], \"label\": \"2020-09-03\", \"method\": \"animate\"}, {\"args\": [[\"2020-09-04\"], {\"frame\": {\"duration\": 0, \"redraw\": true}, \"fromcurrent\": true, \"mode\": \"immediate\", \"transition\": {\"duration\": 0, \"easing\": \"linear\"}}], \"label\": \"2020-09-04\", \"method\": \"animate\"}, {\"args\": [[\"2020-09-05\"], {\"frame\": {\"duration\": 0, \"redraw\": true}, \"fromcurrent\": true, \"mode\": \"immediate\", \"transition\": {\"duration\": 0, \"easing\": \"linear\"}}], \"label\": \"2020-09-05\", \"method\": \"animate\"}, {\"args\": [[\"2020-09-06\"], {\"frame\": {\"duration\": 0, \"redraw\": true}, \"fromcurrent\": true, \"mode\": \"immediate\", \"transition\": {\"duration\": 0, \"easing\": \"linear\"}}], \"label\": \"2020-09-06\", \"method\": \"animate\"}, {\"args\": [[\"2020-09-07\"], {\"frame\": {\"duration\": 0, \"redraw\": true}, \"fromcurrent\": true, \"mode\": \"immediate\", \"transition\": {\"duration\": 0, \"easing\": \"linear\"}}], \"label\": \"2020-09-07\", \"method\": \"animate\"}, {\"args\": [[\"2020-09-08\"], {\"frame\": {\"duration\": 0, \"redraw\": true}, \"fromcurrent\": true, \"mode\": \"immediate\", \"transition\": {\"duration\": 0, \"easing\": \"linear\"}}], \"label\": \"2020-09-08\", \"method\": \"animate\"}, {\"args\": [[\"2020-09-09\"], {\"frame\": {\"duration\": 0, \"redraw\": true}, \"fromcurrent\": true, \"mode\": \"immediate\", \"transition\": {\"duration\": 0, \"easing\": \"linear\"}}], \"label\": \"2020-09-09\", \"method\": \"animate\"}, {\"args\": [[\"2020-09-10\"], {\"frame\": {\"duration\": 0, \"redraw\": true}, \"fromcurrent\": true, \"mode\": \"immediate\", \"transition\": {\"duration\": 0, \"easing\": \"linear\"}}], \"label\": \"2020-09-10\", \"method\": \"animate\"}, {\"args\": [[\"2020-09-11\"], {\"frame\": {\"duration\": 0, \"redraw\": true}, \"fromcurrent\": true, \"mode\": \"immediate\", \"transition\": {\"duration\": 0, \"easing\": \"linear\"}}], \"label\": \"2020-09-11\", \"method\": \"animate\"}, {\"args\": [[\"2020-09-12\"], {\"frame\": {\"duration\": 0, \"redraw\": true}, \"fromcurrent\": true, \"mode\": \"immediate\", \"transition\": {\"duration\": 0, \"easing\": \"linear\"}}], \"label\": \"2020-09-12\", \"method\": \"animate\"}, {\"args\": [[\"2020-09-13\"], {\"frame\": {\"duration\": 0, \"redraw\": true}, \"fromcurrent\": true, \"mode\": \"immediate\", \"transition\": {\"duration\": 0, \"easing\": \"linear\"}}], \"label\": \"2020-09-13\", \"method\": \"animate\"}, {\"args\": [[\"2020-09-14\"], {\"frame\": {\"duration\": 0, \"redraw\": true}, \"fromcurrent\": true, \"mode\": \"immediate\", \"transition\": {\"duration\": 0, \"easing\": \"linear\"}}], \"label\": \"2020-09-14\", \"method\": \"animate\"}, {\"args\": [[\"2020-09-15\"], {\"frame\": {\"duration\": 0, \"redraw\": true}, \"fromcurrent\": true, \"mode\": \"immediate\", \"transition\": {\"duration\": 0, \"easing\": \"linear\"}}], \"label\": \"2020-09-15\", \"method\": \"animate\"}, {\"args\": [[\"2020-09-16\"], {\"frame\": {\"duration\": 0, \"redraw\": true}, \"fromcurrent\": true, \"mode\": \"immediate\", \"transition\": {\"duration\": 0, \"easing\": \"linear\"}}], \"label\": \"2020-09-16\", \"method\": \"animate\"}, {\"args\": [[\"2020-09-17\"], {\"frame\": {\"duration\": 0, \"redraw\": true}, \"fromcurrent\": true, \"mode\": \"immediate\", \"transition\": {\"duration\": 0, \"easing\": \"linear\"}}], \"label\": \"2020-09-17\", \"method\": \"animate\"}, {\"args\": [[\"2020-09-18\"], {\"frame\": {\"duration\": 0, \"redraw\": true}, \"fromcurrent\": true, \"mode\": \"immediate\", \"transition\": {\"duration\": 0, \"easing\": \"linear\"}}], \"label\": \"2020-09-18\", \"method\": \"animate\"}, {\"args\": [[\"2020-09-19\"], {\"frame\": {\"duration\": 0, \"redraw\": true}, \"fromcurrent\": true, \"mode\": \"immediate\", \"transition\": {\"duration\": 0, \"easing\": \"linear\"}}], \"label\": \"2020-09-19\", \"method\": \"animate\"}, {\"args\": [[\"2020-09-20\"], {\"frame\": {\"duration\": 0, \"redraw\": true}, \"fromcurrent\": true, \"mode\": \"immediate\", \"transition\": {\"duration\": 0, \"easing\": \"linear\"}}], \"label\": \"2020-09-20\", \"method\": \"animate\"}, {\"args\": [[\"2020-09-21\"], {\"frame\": {\"duration\": 0, \"redraw\": true}, \"fromcurrent\": true, \"mode\": \"immediate\", \"transition\": {\"duration\": 0, \"easing\": \"linear\"}}], \"label\": \"2020-09-21\", \"method\": \"animate\"}, {\"args\": [[\"2020-09-22\"], {\"frame\": {\"duration\": 0, \"redraw\": true}, \"fromcurrent\": true, \"mode\": \"immediate\", \"transition\": {\"duration\": 0, \"easing\": \"linear\"}}], \"label\": \"2020-09-22\", \"method\": \"animate\"}, {\"args\": [[\"2020-09-23\"], {\"frame\": {\"duration\": 0, \"redraw\": true}, \"fromcurrent\": true, \"mode\": \"immediate\", \"transition\": {\"duration\": 0, \"easing\": \"linear\"}}], \"label\": \"2020-09-23\", \"method\": \"animate\"}, {\"args\": [[\"2020-09-24\"], {\"frame\": {\"duration\": 0, \"redraw\": true}, \"fromcurrent\": true, \"mode\": \"immediate\", \"transition\": {\"duration\": 0, \"easing\": \"linear\"}}], \"label\": \"2020-09-24\", \"method\": \"animate\"}, {\"args\": [[\"2020-09-25\"], {\"frame\": {\"duration\": 0, \"redraw\": true}, \"fromcurrent\": true, \"mode\": \"immediate\", \"transition\": {\"duration\": 0, \"easing\": \"linear\"}}], \"label\": \"2020-09-25\", \"method\": \"animate\"}, {\"args\": [[\"2020-09-26\"], {\"frame\": {\"duration\": 0, \"redraw\": true}, \"fromcurrent\": true, \"mode\": \"immediate\", \"transition\": {\"duration\": 0, \"easing\": \"linear\"}}], \"label\": \"2020-09-26\", \"method\": \"animate\"}, {\"args\": [[\"2020-09-27\"], {\"frame\": {\"duration\": 0, \"redraw\": true}, \"fromcurrent\": true, \"mode\": \"immediate\", \"transition\": {\"duration\": 0, \"easing\": \"linear\"}}], \"label\": \"2020-09-27\", \"method\": \"animate\"}, {\"args\": [[\"2020-09-28\"], {\"frame\": {\"duration\": 0, \"redraw\": true}, \"fromcurrent\": true, \"mode\": \"immediate\", \"transition\": {\"duration\": 0, \"easing\": \"linear\"}}], \"label\": \"2020-09-28\", \"method\": \"animate\"}, {\"args\": [[\"2020-09-29\"], {\"frame\": {\"duration\": 0, \"redraw\": true}, \"fromcurrent\": true, \"mode\": \"immediate\", \"transition\": {\"duration\": 0, \"easing\": \"linear\"}}], \"label\": \"2020-09-29\", \"method\": \"animate\"}, {\"args\": [[\"2020-09-30\"], {\"frame\": {\"duration\": 0, \"redraw\": true}, \"fromcurrent\": true, \"mode\": \"immediate\", \"transition\": {\"duration\": 0, \"easing\": \"linear\"}}], \"label\": \"2020-09-30\", \"method\": \"animate\"}, {\"args\": [[\"2020-10-01\"], {\"frame\": {\"duration\": 0, \"redraw\": true}, \"fromcurrent\": true, \"mode\": \"immediate\", \"transition\": {\"duration\": 0, \"easing\": \"linear\"}}], \"label\": \"2020-10-01\", \"method\": \"animate\"}, {\"args\": [[\"2020-10-02\"], {\"frame\": {\"duration\": 0, \"redraw\": true}, \"fromcurrent\": true, \"mode\": \"immediate\", \"transition\": {\"duration\": 0, \"easing\": \"linear\"}}], \"label\": \"2020-10-02\", \"method\": \"animate\"}, {\"args\": [[\"2020-10-03\"], {\"frame\": {\"duration\": 0, \"redraw\": true}, \"fromcurrent\": true, \"mode\": \"immediate\", \"transition\": {\"duration\": 0, \"easing\": \"linear\"}}], \"label\": \"2020-10-03\", \"method\": \"animate\"}, {\"args\": [[\"2020-10-04\"], {\"frame\": {\"duration\": 0, \"redraw\": true}, \"fromcurrent\": true, \"mode\": \"immediate\", \"transition\": {\"duration\": 0, \"easing\": \"linear\"}}], \"label\": \"2020-10-04\", \"method\": \"animate\"}, {\"args\": [[\"2020-10-05\"], {\"frame\": {\"duration\": 0, \"redraw\": true}, \"fromcurrent\": true, \"mode\": \"immediate\", \"transition\": {\"duration\": 0, \"easing\": \"linear\"}}], \"label\": \"2020-10-05\", \"method\": \"animate\"}, {\"args\": [[\"2020-10-06\"], {\"frame\": {\"duration\": 0, \"redraw\": true}, \"fromcurrent\": true, \"mode\": \"immediate\", \"transition\": {\"duration\": 0, \"easing\": \"linear\"}}], \"label\": \"2020-10-06\", \"method\": \"animate\"}, {\"args\": [[\"2020-10-07\"], {\"frame\": {\"duration\": 0, \"redraw\": true}, \"fromcurrent\": true, \"mode\": \"immediate\", \"transition\": {\"duration\": 0, \"easing\": \"linear\"}}], \"label\": \"2020-10-07\", \"method\": \"animate\"}, {\"args\": [[\"2020-10-08\"], {\"frame\": {\"duration\": 0, \"redraw\": true}, \"fromcurrent\": true, \"mode\": \"immediate\", \"transition\": {\"duration\": 0, \"easing\": \"linear\"}}], \"label\": \"2020-10-08\", \"method\": \"animate\"}, {\"args\": [[\"2020-10-09\"], {\"frame\": {\"duration\": 0, \"redraw\": true}, \"fromcurrent\": true, \"mode\": \"immediate\", \"transition\": {\"duration\": 0, \"easing\": \"linear\"}}], \"label\": \"2020-10-09\", \"method\": \"animate\"}, {\"args\": [[\"2020-10-10\"], {\"frame\": {\"duration\": 0, \"redraw\": true}, \"fromcurrent\": true, \"mode\": \"immediate\", \"transition\": {\"duration\": 0, \"easing\": \"linear\"}}], \"label\": \"2020-10-10\", \"method\": \"animate\"}, {\"args\": [[\"2020-10-11\"], {\"frame\": {\"duration\": 0, \"redraw\": true}, \"fromcurrent\": true, \"mode\": \"immediate\", \"transition\": {\"duration\": 0, \"easing\": \"linear\"}}], \"label\": \"2020-10-11\", \"method\": \"animate\"}, {\"args\": [[\"2020-10-12\"], {\"frame\": {\"duration\": 0, \"redraw\": true}, \"fromcurrent\": true, \"mode\": \"immediate\", \"transition\": {\"duration\": 0, \"easing\": \"linear\"}}], \"label\": \"2020-10-12\", \"method\": \"animate\"}, {\"args\": [[\"2020-10-13\"], {\"frame\": {\"duration\": 0, \"redraw\": true}, \"fromcurrent\": true, \"mode\": \"immediate\", \"transition\": {\"duration\": 0, \"easing\": \"linear\"}}], \"label\": \"2020-10-13\", \"method\": \"animate\"}, {\"args\": [[\"2020-10-14\"], {\"frame\": {\"duration\": 0, \"redraw\": true}, \"fromcurrent\": true, \"mode\": \"immediate\", \"transition\": {\"duration\": 0, \"easing\": \"linear\"}}], \"label\": \"2020-10-14\", \"method\": \"animate\"}, {\"args\": [[\"2020-10-15\"], {\"frame\": {\"duration\": 0, \"redraw\": true}, \"fromcurrent\": true, \"mode\": \"immediate\", \"transition\": {\"duration\": 0, \"easing\": \"linear\"}}], \"label\": \"2020-10-15\", \"method\": \"animate\"}, {\"args\": [[\"2020-10-16\"], {\"frame\": {\"duration\": 0, \"redraw\": true}, \"fromcurrent\": true, \"mode\": \"immediate\", \"transition\": {\"duration\": 0, \"easing\": \"linear\"}}], \"label\": \"2020-10-16\", \"method\": \"animate\"}, {\"args\": [[\"2020-10-17\"], {\"frame\": {\"duration\": 0, \"redraw\": true}, \"fromcurrent\": true, \"mode\": \"immediate\", \"transition\": {\"duration\": 0, \"easing\": \"linear\"}}], \"label\": \"2020-10-17\", \"method\": \"animate\"}, {\"args\": [[\"2020-10-18\"], {\"frame\": {\"duration\": 0, \"redraw\": true}, \"fromcurrent\": true, \"mode\": \"immediate\", \"transition\": {\"duration\": 0, \"easing\": \"linear\"}}], \"label\": \"2020-10-18\", \"method\": \"animate\"}, {\"args\": [[\"2020-10-19\"], {\"frame\": {\"duration\": 0, \"redraw\": true}, \"fromcurrent\": true, \"mode\": \"immediate\", \"transition\": {\"duration\": 0, \"easing\": \"linear\"}}], \"label\": \"2020-10-19\", \"method\": \"animate\"}, {\"args\": [[\"2020-10-20\"], {\"frame\": {\"duration\": 0, \"redraw\": true}, \"fromcurrent\": true, \"mode\": \"immediate\", \"transition\": {\"duration\": 0, \"easing\": \"linear\"}}], \"label\": \"2020-10-20\", \"method\": \"animate\"}, {\"args\": [[\"2020-10-21\"], {\"frame\": {\"duration\": 0, \"redraw\": true}, \"fromcurrent\": true, \"mode\": \"immediate\", \"transition\": {\"duration\": 0, \"easing\": \"linear\"}}], \"label\": \"2020-10-21\", \"method\": \"animate\"}, {\"args\": [[\"2020-10-22\"], {\"frame\": {\"duration\": 0, \"redraw\": true}, \"fromcurrent\": true, \"mode\": \"immediate\", \"transition\": {\"duration\": 0, \"easing\": \"linear\"}}], \"label\": \"2020-10-22\", \"method\": \"animate\"}, {\"args\": [[\"2020-10-23\"], {\"frame\": {\"duration\": 0, \"redraw\": true}, \"fromcurrent\": true, \"mode\": \"immediate\", \"transition\": {\"duration\": 0, \"easing\": \"linear\"}}], \"label\": \"2020-10-23\", \"method\": \"animate\"}, {\"args\": [[\"2020-10-24\"], {\"frame\": {\"duration\": 0, \"redraw\": true}, \"fromcurrent\": true, \"mode\": \"immediate\", \"transition\": {\"duration\": 0, \"easing\": \"linear\"}}], \"label\": \"2020-10-24\", \"method\": \"animate\"}, {\"args\": [[\"2020-10-25\"], {\"frame\": {\"duration\": 0, \"redraw\": true}, \"fromcurrent\": true, \"mode\": \"immediate\", \"transition\": {\"duration\": 0, \"easing\": \"linear\"}}], \"label\": \"2020-10-25\", \"method\": \"animate\"}, {\"args\": [[\"2020-10-26\"], {\"frame\": {\"duration\": 0, \"redraw\": true}, \"fromcurrent\": true, \"mode\": \"immediate\", \"transition\": {\"duration\": 0, \"easing\": \"linear\"}}], \"label\": \"2020-10-26\", \"method\": \"animate\"}, {\"args\": [[\"2020-10-27\"], {\"frame\": {\"duration\": 0, \"redraw\": true}, \"fromcurrent\": true, \"mode\": \"immediate\", \"transition\": {\"duration\": 0, \"easing\": \"linear\"}}], \"label\": \"2020-10-27\", \"method\": \"animate\"}, {\"args\": [[\"2020-10-28\"], {\"frame\": {\"duration\": 0, \"redraw\": true}, \"fromcurrent\": true, \"mode\": \"immediate\", \"transition\": {\"duration\": 0, \"easing\": \"linear\"}}], \"label\": \"2020-10-28\", \"method\": \"animate\"}, {\"args\": [[\"2020-10-29\"], {\"frame\": {\"duration\": 0, \"redraw\": true}, \"fromcurrent\": true, \"mode\": \"immediate\", \"transition\": {\"duration\": 0, \"easing\": \"linear\"}}], \"label\": \"2020-10-29\", \"method\": \"animate\"}, {\"args\": [[\"2020-10-30\"], {\"frame\": {\"duration\": 0, \"redraw\": true}, \"fromcurrent\": true, \"mode\": \"immediate\", \"transition\": {\"duration\": 0, \"easing\": \"linear\"}}], \"label\": \"2020-10-30\", \"method\": \"animate\"}, {\"args\": [[\"2020-10-31\"], {\"frame\": {\"duration\": 0, \"redraw\": true}, \"fromcurrent\": true, \"mode\": \"immediate\", \"transition\": {\"duration\": 0, \"easing\": \"linear\"}}], \"label\": \"2020-10-31\", \"method\": \"animate\"}, {\"args\": [[\"2020-11-01\"], {\"frame\": {\"duration\": 0, \"redraw\": true}, \"fromcurrent\": true, \"mode\": \"immediate\", \"transition\": {\"duration\": 0, \"easing\": \"linear\"}}], \"label\": \"2020-11-01\", \"method\": \"animate\"}, {\"args\": [[\"2020-11-02\"], {\"frame\": {\"duration\": 0, \"redraw\": true}, \"fromcurrent\": true, \"mode\": \"immediate\", \"transition\": {\"duration\": 0, \"easing\": \"linear\"}}], \"label\": \"2020-11-02\", \"method\": \"animate\"}, {\"args\": [[\"2020-11-03\"], {\"frame\": {\"duration\": 0, \"redraw\": true}, \"fromcurrent\": true, \"mode\": \"immediate\", \"transition\": {\"duration\": 0, \"easing\": \"linear\"}}], \"label\": \"2020-11-03\", \"method\": \"animate\"}, {\"args\": [[\"2020-11-04\"], {\"frame\": {\"duration\": 0, \"redraw\": true}, \"fromcurrent\": true, \"mode\": \"immediate\", \"transition\": {\"duration\": 0, \"easing\": \"linear\"}}], \"label\": \"2020-11-04\", \"method\": \"animate\"}, {\"args\": [[\"2020-11-05\"], {\"frame\": {\"duration\": 0, \"redraw\": true}, \"fromcurrent\": true, \"mode\": \"immediate\", \"transition\": {\"duration\": 0, \"easing\": \"linear\"}}], \"label\": \"2020-11-05\", \"method\": \"animate\"}, {\"args\": [[\"2020-11-06\"], {\"frame\": {\"duration\": 0, \"redraw\": true}, \"fromcurrent\": true, \"mode\": \"immediate\", \"transition\": {\"duration\": 0, \"easing\": \"linear\"}}], \"label\": \"2020-11-06\", \"method\": \"animate\"}, {\"args\": [[\"2020-11-07\"], {\"frame\": {\"duration\": 0, \"redraw\": true}, \"fromcurrent\": true, \"mode\": \"immediate\", \"transition\": {\"duration\": 0, \"easing\": \"linear\"}}], \"label\": \"2020-11-07\", \"method\": \"animate\"}, {\"args\": [[\"2020-11-08\"], {\"frame\": {\"duration\": 0, \"redraw\": true}, \"fromcurrent\": true, \"mode\": \"immediate\", \"transition\": {\"duration\": 0, \"easing\": \"linear\"}}], \"label\": \"2020-11-08\", \"method\": \"animate\"}, {\"args\": [[\"2020-11-09\"], {\"frame\": {\"duration\": 0, \"redraw\": true}, \"fromcurrent\": true, \"mode\": \"immediate\", \"transition\": {\"duration\": 0, \"easing\": \"linear\"}}], \"label\": \"2020-11-09\", \"method\": \"animate\"}, {\"args\": [[\"2020-11-10\"], {\"frame\": {\"duration\": 0, \"redraw\": true}, \"fromcurrent\": true, \"mode\": \"immediate\", \"transition\": {\"duration\": 0, \"easing\": \"linear\"}}], \"label\": \"2020-11-10\", \"method\": \"animate\"}, {\"args\": [[\"2020-11-11\"], {\"frame\": {\"duration\": 0, \"redraw\": true}, \"fromcurrent\": true, \"mode\": \"immediate\", \"transition\": {\"duration\": 0, \"easing\": \"linear\"}}], \"label\": \"2020-11-11\", \"method\": \"animate\"}, {\"args\": [[\"2020-11-12\"], {\"frame\": {\"duration\": 0, \"redraw\": true}, \"fromcurrent\": true, \"mode\": \"immediate\", \"transition\": {\"duration\": 0, \"easing\": \"linear\"}}], \"label\": \"2020-11-12\", \"method\": \"animate\"}, {\"args\": [[\"2020-11-13\"], {\"frame\": {\"duration\": 0, \"redraw\": true}, \"fromcurrent\": true, \"mode\": \"immediate\", \"transition\": {\"duration\": 0, \"easing\": \"linear\"}}], \"label\": \"2020-11-13\", \"method\": \"animate\"}, {\"args\": [[\"2020-11-14\"], {\"frame\": {\"duration\": 0, \"redraw\": true}, \"fromcurrent\": true, \"mode\": \"immediate\", \"transition\": {\"duration\": 0, \"easing\": \"linear\"}}], \"label\": \"2020-11-14\", \"method\": \"animate\"}, {\"args\": [[\"2020-11-15\"], {\"frame\": {\"duration\": 0, \"redraw\": true}, \"fromcurrent\": true, \"mode\": \"immediate\", \"transition\": {\"duration\": 0, \"easing\": \"linear\"}}], \"label\": \"2020-11-15\", \"method\": \"animate\"}, {\"args\": [[\"2020-11-16\"], {\"frame\": {\"duration\": 0, \"redraw\": true}, \"fromcurrent\": true, \"mode\": \"immediate\", \"transition\": {\"duration\": 0, \"easing\": \"linear\"}}], \"label\": \"2020-11-16\", \"method\": \"animate\"}, {\"args\": [[\"2020-11-17\"], {\"frame\": {\"duration\": 0, \"redraw\": true}, \"fromcurrent\": true, \"mode\": \"immediate\", \"transition\": {\"duration\": 0, \"easing\": \"linear\"}}], \"label\": \"2020-11-17\", \"method\": \"animate\"}, {\"args\": [[\"2020-11-18\"], {\"frame\": {\"duration\": 0, \"redraw\": true}, \"fromcurrent\": true, \"mode\": \"immediate\", \"transition\": {\"duration\": 0, \"easing\": \"linear\"}}], \"label\": \"2020-11-18\", \"method\": \"animate\"}, {\"args\": [[\"2020-11-19\"], {\"frame\": {\"duration\": 0, \"redraw\": true}, \"fromcurrent\": true, \"mode\": \"immediate\", \"transition\": {\"duration\": 0, \"easing\": \"linear\"}}], \"label\": \"2020-11-19\", \"method\": \"animate\"}, {\"args\": [[\"2020-11-20\"], {\"frame\": {\"duration\": 0, \"redraw\": true}, \"fromcurrent\": true, \"mode\": \"immediate\", \"transition\": {\"duration\": 0, \"easing\": \"linear\"}}], \"label\": \"2020-11-20\", \"method\": \"animate\"}, {\"args\": [[\"2020-11-21\"], {\"frame\": {\"duration\": 0, \"redraw\": true}, \"fromcurrent\": true, \"mode\": \"immediate\", \"transition\": {\"duration\": 0, \"easing\": \"linear\"}}], \"label\": \"2020-11-21\", \"method\": \"animate\"}, {\"args\": [[\"2020-11-22\"], {\"frame\": {\"duration\": 0, \"redraw\": true}, \"fromcurrent\": true, \"mode\": \"immediate\", \"transition\": {\"duration\": 0, \"easing\": \"linear\"}}], \"label\": \"2020-11-22\", \"method\": \"animate\"}, {\"args\": [[\"2020-11-23\"], {\"frame\": {\"duration\": 0, \"redraw\": true}, \"fromcurrent\": true, \"mode\": \"immediate\", \"transition\": {\"duration\": 0, \"easing\": \"linear\"}}], \"label\": \"2020-11-23\", \"method\": \"animate\"}, {\"args\": [[\"2020-11-24\"], {\"frame\": {\"duration\": 0, \"redraw\": true}, \"fromcurrent\": true, \"mode\": \"immediate\", \"transition\": {\"duration\": 0, \"easing\": \"linear\"}}], \"label\": \"2020-11-24\", \"method\": \"animate\"}, {\"args\": [[\"2020-11-25\"], {\"frame\": {\"duration\": 0, \"redraw\": true}, \"fromcurrent\": true, \"mode\": \"immediate\", \"transition\": {\"duration\": 0, \"easing\": \"linear\"}}], \"label\": \"2020-11-25\", \"method\": \"animate\"}, {\"args\": [[\"2020-11-26\"], {\"frame\": {\"duration\": 0, \"redraw\": true}, \"fromcurrent\": true, \"mode\": \"immediate\", \"transition\": {\"duration\": 0, \"easing\": \"linear\"}}], \"label\": \"2020-11-26\", \"method\": \"animate\"}, {\"args\": [[\"2020-11-27\"], {\"frame\": {\"duration\": 0, \"redraw\": true}, \"fromcurrent\": true, \"mode\": \"immediate\", \"transition\": {\"duration\": 0, \"easing\": \"linear\"}}], \"label\": \"2020-11-27\", \"method\": \"animate\"}, {\"args\": [[\"2020-11-28\"], {\"frame\": {\"duration\": 0, \"redraw\": true}, \"fromcurrent\": true, \"mode\": \"immediate\", \"transition\": {\"duration\": 0, \"easing\": \"linear\"}}], \"label\": \"2020-11-28\", \"method\": \"animate\"}, {\"args\": [[\"2020-11-29\"], {\"frame\": {\"duration\": 0, \"redraw\": true}, \"fromcurrent\": true, \"mode\": \"immediate\", \"transition\": {\"duration\": 0, \"easing\": \"linear\"}}], \"label\": \"2020-11-29\", \"method\": \"animate\"}, {\"args\": [[\"2020-11-30\"], {\"frame\": {\"duration\": 0, \"redraw\": true}, \"fromcurrent\": true, \"mode\": \"immediate\", \"transition\": {\"duration\": 0, \"easing\": \"linear\"}}], \"label\": \"2020-11-30\", \"method\": \"animate\"}, {\"args\": [[\"2020-12-01\"], {\"frame\": {\"duration\": 0, \"redraw\": true}, \"fromcurrent\": true, \"mode\": \"immediate\", \"transition\": {\"duration\": 0, \"easing\": \"linear\"}}], \"label\": \"2020-12-01\", \"method\": \"animate\"}, {\"args\": [[\"2020-12-02\"], {\"frame\": {\"duration\": 0, \"redraw\": true}, \"fromcurrent\": true, \"mode\": \"immediate\", \"transition\": {\"duration\": 0, \"easing\": \"linear\"}}], \"label\": \"2020-12-02\", \"method\": \"animate\"}, {\"args\": [[\"2020-12-03\"], {\"frame\": {\"duration\": 0, \"redraw\": true}, \"fromcurrent\": true, \"mode\": \"immediate\", \"transition\": {\"duration\": 0, \"easing\": \"linear\"}}], \"label\": \"2020-12-03\", \"method\": \"animate\"}, {\"args\": [[\"2020-12-04\"], {\"frame\": {\"duration\": 0, \"redraw\": true}, \"fromcurrent\": true, \"mode\": \"immediate\", \"transition\": {\"duration\": 0, \"easing\": \"linear\"}}], \"label\": \"2020-12-04\", \"method\": \"animate\"}, {\"args\": [[\"2020-12-05\"], {\"frame\": {\"duration\": 0, \"redraw\": true}, \"fromcurrent\": true, \"mode\": \"immediate\", \"transition\": {\"duration\": 0, \"easing\": \"linear\"}}], \"label\": \"2020-12-05\", \"method\": \"animate\"}, {\"args\": [[\"2020-12-06\"], {\"frame\": {\"duration\": 0, \"redraw\": true}, \"fromcurrent\": true, \"mode\": \"immediate\", \"transition\": {\"duration\": 0, \"easing\": \"linear\"}}], \"label\": \"2020-12-06\", \"method\": \"animate\"}, {\"args\": [[\"2020-12-07\"], {\"frame\": {\"duration\": 0, \"redraw\": true}, \"fromcurrent\": true, \"mode\": \"immediate\", \"transition\": {\"duration\": 0, \"easing\": \"linear\"}}], \"label\": \"2020-12-07\", \"method\": \"animate\"}, {\"args\": [[\"2020-12-08\"], {\"frame\": {\"duration\": 0, \"redraw\": true}, \"fromcurrent\": true, \"mode\": \"immediate\", \"transition\": {\"duration\": 0, \"easing\": \"linear\"}}], \"label\": \"2020-12-08\", \"method\": \"animate\"}, {\"args\": [[\"2020-12-09\"], {\"frame\": {\"duration\": 0, \"redraw\": true}, \"fromcurrent\": true, \"mode\": \"immediate\", \"transition\": {\"duration\": 0, \"easing\": \"linear\"}}], \"label\": \"2020-12-09\", \"method\": \"animate\"}, {\"args\": [[\"2020-12-10\"], {\"frame\": {\"duration\": 0, \"redraw\": true}, \"fromcurrent\": true, \"mode\": \"immediate\", \"transition\": {\"duration\": 0, \"easing\": \"linear\"}}], \"label\": \"2020-12-10\", \"method\": \"animate\"}, {\"args\": [[\"2020-12-11\"], {\"frame\": {\"duration\": 0, \"redraw\": true}, \"fromcurrent\": true, \"mode\": \"immediate\", \"transition\": {\"duration\": 0, \"easing\": \"linear\"}}], \"label\": \"2020-12-11\", \"method\": \"animate\"}, {\"args\": [[\"2020-12-12\"], {\"frame\": {\"duration\": 0, \"redraw\": true}, \"fromcurrent\": true, \"mode\": \"immediate\", \"transition\": {\"duration\": 0, \"easing\": \"linear\"}}], \"label\": \"2020-12-12\", \"method\": \"animate\"}, {\"args\": [[\"2020-12-13\"], {\"frame\": {\"duration\": 0, \"redraw\": true}, \"fromcurrent\": true, \"mode\": \"immediate\", \"transition\": {\"duration\": 0, \"easing\": \"linear\"}}], \"label\": \"2020-12-13\", \"method\": \"animate\"}, {\"args\": [[\"2020-12-14\"], {\"frame\": {\"duration\": 0, \"redraw\": true}, \"fromcurrent\": true, \"mode\": \"immediate\", \"transition\": {\"duration\": 0, \"easing\": \"linear\"}}], \"label\": \"2020-12-14\", \"method\": \"animate\"}, {\"args\": [[\"2020-12-15\"], {\"frame\": {\"duration\": 0, \"redraw\": true}, \"fromcurrent\": true, \"mode\": \"immediate\", \"transition\": {\"duration\": 0, \"easing\": \"linear\"}}], \"label\": \"2020-12-15\", \"method\": \"animate\"}, {\"args\": [[\"2020-12-16\"], {\"frame\": {\"duration\": 0, \"redraw\": true}, \"fromcurrent\": true, \"mode\": \"immediate\", \"transition\": {\"duration\": 0, \"easing\": \"linear\"}}], \"label\": \"2020-12-16\", \"method\": \"animate\"}, {\"args\": [[\"2020-12-17\"], {\"frame\": {\"duration\": 0, \"redraw\": true}, \"fromcurrent\": true, \"mode\": \"immediate\", \"transition\": {\"duration\": 0, \"easing\": \"linear\"}}], \"label\": \"2020-12-17\", \"method\": \"animate\"}, {\"args\": [[\"2020-12-18\"], {\"frame\": {\"duration\": 0, \"redraw\": true}, \"fromcurrent\": true, \"mode\": \"immediate\", \"transition\": {\"duration\": 0, \"easing\": \"linear\"}}], \"label\": \"2020-12-18\", \"method\": \"animate\"}, {\"args\": [[\"2020-12-19\"], {\"frame\": {\"duration\": 0, \"redraw\": true}, \"fromcurrent\": true, \"mode\": \"immediate\", \"transition\": {\"duration\": 0, \"easing\": \"linear\"}}], \"label\": \"2020-12-19\", \"method\": \"animate\"}, {\"args\": [[\"2020-12-20\"], {\"frame\": {\"duration\": 0, \"redraw\": true}, \"fromcurrent\": true, \"mode\": \"immediate\", \"transition\": {\"duration\": 0, \"easing\": \"linear\"}}], \"label\": \"2020-12-20\", \"method\": \"animate\"}, {\"args\": [[\"2020-12-21\"], {\"frame\": {\"duration\": 0, \"redraw\": true}, \"fromcurrent\": true, \"mode\": \"immediate\", \"transition\": {\"duration\": 0, \"easing\": \"linear\"}}], \"label\": \"2020-12-21\", \"method\": \"animate\"}, {\"args\": [[\"2020-12-22\"], {\"frame\": {\"duration\": 0, \"redraw\": true}, \"fromcurrent\": true, \"mode\": \"immediate\", \"transition\": {\"duration\": 0, \"easing\": \"linear\"}}], \"label\": \"2020-12-22\", \"method\": \"animate\"}, {\"args\": [[\"2020-12-23\"], {\"frame\": {\"duration\": 0, \"redraw\": true}, \"fromcurrent\": true, \"mode\": \"immediate\", \"transition\": {\"duration\": 0, \"easing\": \"linear\"}}], \"label\": \"2020-12-23\", \"method\": \"animate\"}, {\"args\": [[\"2020-12-24\"], {\"frame\": {\"duration\": 0, \"redraw\": true}, \"fromcurrent\": true, \"mode\": \"immediate\", \"transition\": {\"duration\": 0, \"easing\": \"linear\"}}], \"label\": \"2020-12-24\", \"method\": \"animate\"}, {\"args\": [[\"2020-12-25\"], {\"frame\": {\"duration\": 0, \"redraw\": true}, \"fromcurrent\": true, \"mode\": \"immediate\", \"transition\": {\"duration\": 0, \"easing\": \"linear\"}}], \"label\": \"2020-12-25\", \"method\": \"animate\"}, {\"args\": [[\"2020-12-26\"], {\"frame\": {\"duration\": 0, \"redraw\": true}, \"fromcurrent\": true, \"mode\": \"immediate\", \"transition\": {\"duration\": 0, \"easing\": \"linear\"}}], \"label\": \"2020-12-26\", \"method\": \"animate\"}, {\"args\": [[\"2020-12-27\"], {\"frame\": {\"duration\": 0, \"redraw\": true}, \"fromcurrent\": true, \"mode\": \"immediate\", \"transition\": {\"duration\": 0, \"easing\": \"linear\"}}], \"label\": \"2020-12-27\", \"method\": \"animate\"}, {\"args\": [[\"2020-12-28\"], {\"frame\": {\"duration\": 0, \"redraw\": true}, \"fromcurrent\": true, \"mode\": \"immediate\", \"transition\": {\"duration\": 0, \"easing\": \"linear\"}}], \"label\": \"2020-12-28\", \"method\": \"animate\"}, {\"args\": [[\"2020-12-29\"], {\"frame\": {\"duration\": 0, \"redraw\": true}, \"fromcurrent\": true, \"mode\": \"immediate\", \"transition\": {\"duration\": 0, \"easing\": \"linear\"}}], \"label\": \"2020-12-29\", \"method\": \"animate\"}, {\"args\": [[\"2020-12-30\"], {\"frame\": {\"duration\": 0, \"redraw\": true}, \"fromcurrent\": true, \"mode\": \"immediate\", \"transition\": {\"duration\": 0, \"easing\": \"linear\"}}], \"label\": \"2020-12-30\", \"method\": \"animate\"}, {\"args\": [[\"2020-12-31\"], {\"frame\": {\"duration\": 0, \"redraw\": true}, \"fromcurrent\": true, \"mode\": \"immediate\", \"transition\": {\"duration\": 0, \"easing\": \"linear\"}}], \"label\": \"2020-12-31\", \"method\": \"animate\"}, {\"args\": [[\"2021-01-01\"], {\"frame\": {\"duration\": 0, \"redraw\": true}, \"fromcurrent\": true, \"mode\": \"immediate\", \"transition\": {\"duration\": 0, \"easing\": \"linear\"}}], \"label\": \"2021-01-01\", \"method\": \"animate\"}, {\"args\": [[\"2021-01-02\"], {\"frame\": {\"duration\": 0, \"redraw\": true}, \"fromcurrent\": true, \"mode\": \"immediate\", \"transition\": {\"duration\": 0, \"easing\": \"linear\"}}], \"label\": \"2021-01-02\", \"method\": \"animate\"}, {\"args\": [[\"2021-01-03\"], {\"frame\": {\"duration\": 0, \"redraw\": true}, \"fromcurrent\": true, \"mode\": \"immediate\", \"transition\": {\"duration\": 0, \"easing\": \"linear\"}}], \"label\": \"2021-01-03\", \"method\": \"animate\"}, {\"args\": [[\"2021-01-04\"], {\"frame\": {\"duration\": 0, \"redraw\": true}, \"fromcurrent\": true, \"mode\": \"immediate\", \"transition\": {\"duration\": 0, \"easing\": \"linear\"}}], \"label\": \"2021-01-04\", \"method\": \"animate\"}, {\"args\": [[\"2021-01-05\"], {\"frame\": {\"duration\": 0, \"redraw\": true}, \"fromcurrent\": true, \"mode\": \"immediate\", \"transition\": {\"duration\": 0, \"easing\": \"linear\"}}], \"label\": \"2021-01-05\", \"method\": \"animate\"}, {\"args\": [[\"2021-01-06\"], {\"frame\": {\"duration\": 0, \"redraw\": true}, \"fromcurrent\": true, \"mode\": \"immediate\", \"transition\": {\"duration\": 0, \"easing\": \"linear\"}}], \"label\": \"2021-01-06\", \"method\": \"animate\"}, {\"args\": [[\"2021-01-07\"], {\"frame\": {\"duration\": 0, \"redraw\": true}, \"fromcurrent\": true, \"mode\": \"immediate\", \"transition\": {\"duration\": 0, \"easing\": \"linear\"}}], \"label\": \"2021-01-07\", \"method\": \"animate\"}, {\"args\": [[\"2021-01-08\"], {\"frame\": {\"duration\": 0, \"redraw\": true}, \"fromcurrent\": true, \"mode\": \"immediate\", \"transition\": {\"duration\": 0, \"easing\": \"linear\"}}], \"label\": \"2021-01-08\", \"method\": \"animate\"}, {\"args\": [[\"2021-01-09\"], {\"frame\": {\"duration\": 0, \"redraw\": true}, \"fromcurrent\": true, \"mode\": \"immediate\", \"transition\": {\"duration\": 0, \"easing\": \"linear\"}}], \"label\": \"2021-01-09\", \"method\": \"animate\"}, {\"args\": [[\"2021-01-10\"], {\"frame\": {\"duration\": 0, \"redraw\": true}, \"fromcurrent\": true, \"mode\": \"immediate\", \"transition\": {\"duration\": 0, \"easing\": \"linear\"}}], \"label\": \"2021-01-10\", \"method\": \"animate\"}, {\"args\": [[\"2021-01-11\"], {\"frame\": {\"duration\": 0, \"redraw\": true}, \"fromcurrent\": true, \"mode\": \"immediate\", \"transition\": {\"duration\": 0, \"easing\": \"linear\"}}], \"label\": \"2021-01-11\", \"method\": \"animate\"}, {\"args\": [[\"2021-01-12\"], {\"frame\": {\"duration\": 0, \"redraw\": true}, \"fromcurrent\": true, \"mode\": \"immediate\", \"transition\": {\"duration\": 0, \"easing\": \"linear\"}}], \"label\": \"2021-01-12\", \"method\": \"animate\"}, {\"args\": [[\"2021-01-13\"], {\"frame\": {\"duration\": 0, \"redraw\": true}, \"fromcurrent\": true, \"mode\": \"immediate\", \"transition\": {\"duration\": 0, \"easing\": \"linear\"}}], \"label\": \"2021-01-13\", \"method\": \"animate\"}, {\"args\": [[\"2021-01-14\"], {\"frame\": {\"duration\": 0, \"redraw\": true}, \"fromcurrent\": true, \"mode\": \"immediate\", \"transition\": {\"duration\": 0, \"easing\": \"linear\"}}], \"label\": \"2021-01-14\", \"method\": \"animate\"}, {\"args\": [[\"2021-01-15\"], {\"frame\": {\"duration\": 0, \"redraw\": true}, \"fromcurrent\": true, \"mode\": \"immediate\", \"transition\": {\"duration\": 0, \"easing\": \"linear\"}}], \"label\": \"2021-01-15\", \"method\": \"animate\"}, {\"args\": [[\"2021-01-16\"], {\"frame\": {\"duration\": 0, \"redraw\": true}, \"fromcurrent\": true, \"mode\": \"immediate\", \"transition\": {\"duration\": 0, \"easing\": \"linear\"}}], \"label\": \"2021-01-16\", \"method\": \"animate\"}, {\"args\": [[\"2021-01-17\"], {\"frame\": {\"duration\": 0, \"redraw\": true}, \"fromcurrent\": true, \"mode\": \"immediate\", \"transition\": {\"duration\": 0, \"easing\": \"linear\"}}], \"label\": \"2021-01-17\", \"method\": \"animate\"}, {\"args\": [[\"2021-01-18\"], {\"frame\": {\"duration\": 0, \"redraw\": true}, \"fromcurrent\": true, \"mode\": \"immediate\", \"transition\": {\"duration\": 0, \"easing\": \"linear\"}}], \"label\": \"2021-01-18\", \"method\": \"animate\"}, {\"args\": [[\"2021-01-19\"], {\"frame\": {\"duration\": 0, \"redraw\": true}, \"fromcurrent\": true, \"mode\": \"immediate\", \"transition\": {\"duration\": 0, \"easing\": \"linear\"}}], \"label\": \"2021-01-19\", \"method\": \"animate\"}, {\"args\": [[\"2021-01-20\"], {\"frame\": {\"duration\": 0, \"redraw\": true}, \"fromcurrent\": true, \"mode\": \"immediate\", \"transition\": {\"duration\": 0, \"easing\": \"linear\"}}], \"label\": \"2021-01-20\", \"method\": \"animate\"}, {\"args\": [[\"2021-01-21\"], {\"frame\": {\"duration\": 0, \"redraw\": true}, \"fromcurrent\": true, \"mode\": \"immediate\", \"transition\": {\"duration\": 0, \"easing\": \"linear\"}}], \"label\": \"2021-01-21\", \"method\": \"animate\"}, {\"args\": [[\"2021-01-22\"], {\"frame\": {\"duration\": 0, \"redraw\": true}, \"fromcurrent\": true, \"mode\": \"immediate\", \"transition\": {\"duration\": 0, \"easing\": \"linear\"}}], \"label\": \"2021-01-22\", \"method\": \"animate\"}, {\"args\": [[\"2021-01-23\"], {\"frame\": {\"duration\": 0, \"redraw\": true}, \"fromcurrent\": true, \"mode\": \"immediate\", \"transition\": {\"duration\": 0, \"easing\": \"linear\"}}], \"label\": \"2021-01-23\", \"method\": \"animate\"}, {\"args\": [[\"2021-01-24\"], {\"frame\": {\"duration\": 0, \"redraw\": true}, \"fromcurrent\": true, \"mode\": \"immediate\", \"transition\": {\"duration\": 0, \"easing\": \"linear\"}}], \"label\": \"2021-01-24\", \"method\": \"animate\"}, {\"args\": [[\"2021-01-25\"], {\"frame\": {\"duration\": 0, \"redraw\": true}, \"fromcurrent\": true, \"mode\": \"immediate\", \"transition\": {\"duration\": 0, \"easing\": \"linear\"}}], \"label\": \"2021-01-25\", \"method\": \"animate\"}, {\"args\": [[\"2021-01-26\"], {\"frame\": {\"duration\": 0, \"redraw\": true}, \"fromcurrent\": true, \"mode\": \"immediate\", \"transition\": {\"duration\": 0, \"easing\": \"linear\"}}], \"label\": \"2021-01-26\", \"method\": \"animate\"}, {\"args\": [[\"2021-01-27\"], {\"frame\": {\"duration\": 0, \"redraw\": true}, \"fromcurrent\": true, \"mode\": \"immediate\", \"transition\": {\"duration\": 0, \"easing\": \"linear\"}}], \"label\": \"2021-01-27\", \"method\": \"animate\"}], \"x\": 0.1, \"xanchor\": \"left\", \"y\": 0, \"yanchor\": \"top\"}], \"template\": {\"data\": {\"bar\": [{\"error_x\": {\"color\": \"#2a3f5f\"}, \"error_y\": {\"color\": \"#2a3f5f\"}, \"marker\": {\"line\": {\"color\": \"#E5ECF6\", \"width\": 0.5}}, \"type\": \"bar\"}], \"barpolar\": [{\"marker\": {\"line\": {\"color\": \"#E5ECF6\", \"width\": 0.5}}, \"type\": \"barpolar\"}], \"carpet\": [{\"aaxis\": {\"endlinecolor\": \"#2a3f5f\", \"gridcolor\": \"white\", \"linecolor\": \"white\", \"minorgridcolor\": \"white\", \"startlinecolor\": \"#2a3f5f\"}, \"baxis\": {\"endlinecolor\": \"#2a3f5f\", \"gridcolor\": \"white\", \"linecolor\": \"white\", \"minorgridcolor\": \"white\", \"startlinecolor\": \"#2a3f5f\"}, \"type\": \"carpet\"}], \"choropleth\": [{\"colorbar\": {\"outlinewidth\": 0, \"ticks\": \"\"}, \"type\": \"choropleth\"}], \"contour\": [{\"colorbar\": {\"outlinewidth\": 0, \"ticks\": \"\"}, \"colorscale\": [[0.0, \"#0d0887\"], [0.1111111111111111, \"#46039f\"], [0.2222222222222222, \"#7201a8\"], [0.3333333333333333, \"#9c179e\"], [0.4444444444444444, \"#bd3786\"], [0.5555555555555556, \"#d8576b\"], [0.6666666666666666, \"#ed7953\"], [0.7777777777777778, \"#fb9f3a\"], [0.8888888888888888, \"#fdca26\"], [1.0, \"#f0f921\"]], \"type\": \"contour\"}], \"contourcarpet\": [{\"colorbar\": {\"outlinewidth\": 0, \"ticks\": \"\"}, \"type\": \"contourcarpet\"}], \"heatmap\": [{\"colorbar\": {\"outlinewidth\": 0, \"ticks\": \"\"}, \"colorscale\": [[0.0, \"#0d0887\"], [0.1111111111111111, \"#46039f\"], [0.2222222222222222, \"#7201a8\"], [0.3333333333333333, \"#9c179e\"], [0.4444444444444444, \"#bd3786\"], [0.5555555555555556, \"#d8576b\"], [0.6666666666666666, \"#ed7953\"], [0.7777777777777778, \"#fb9f3a\"], [0.8888888888888888, \"#fdca26\"], [1.0, \"#f0f921\"]], \"type\": \"heatmap\"}], \"heatmapgl\": [{\"colorbar\": {\"outlinewidth\": 0, \"ticks\": \"\"}, \"colorscale\": [[0.0, \"#0d0887\"], [0.1111111111111111, \"#46039f\"], [0.2222222222222222, \"#7201a8\"], [0.3333333333333333, \"#9c179e\"], [0.4444444444444444, \"#bd3786\"], [0.5555555555555556, \"#d8576b\"], [0.6666666666666666, \"#ed7953\"], [0.7777777777777778, \"#fb9f3a\"], [0.8888888888888888, \"#fdca26\"], [1.0, \"#f0f921\"]], \"type\": \"heatmapgl\"}], \"histogram\": [{\"marker\": {\"colorbar\": {\"outlinewidth\": 0, \"ticks\": \"\"}}, \"type\": \"histogram\"}], \"histogram2d\": [{\"colorbar\": {\"outlinewidth\": 0, \"ticks\": \"\"}, \"colorscale\": [[0.0, \"#0d0887\"], [0.1111111111111111, \"#46039f\"], [0.2222222222222222, \"#7201a8\"], [0.3333333333333333, \"#9c179e\"], [0.4444444444444444, \"#bd3786\"], [0.5555555555555556, \"#d8576b\"], [0.6666666666666666, \"#ed7953\"], [0.7777777777777778, \"#fb9f3a\"], [0.8888888888888888, \"#fdca26\"], [1.0, \"#f0f921\"]], \"type\": \"histogram2d\"}], \"histogram2dcontour\": [{\"colorbar\": {\"outlinewidth\": 0, \"ticks\": \"\"}, \"colorscale\": [[0.0, \"#0d0887\"], [0.1111111111111111, \"#46039f\"], [0.2222222222222222, \"#7201a8\"], [0.3333333333333333, \"#9c179e\"], [0.4444444444444444, \"#bd3786\"], [0.5555555555555556, \"#d8576b\"], [0.6666666666666666, \"#ed7953\"], [0.7777777777777778, \"#fb9f3a\"], [0.8888888888888888, \"#fdca26\"], [1.0, \"#f0f921\"]], \"type\": \"histogram2dcontour\"}], \"mesh3d\": [{\"colorbar\": {\"outlinewidth\": 0, \"ticks\": \"\"}, \"type\": \"mesh3d\"}], \"parcoords\": [{\"line\": {\"colorbar\": {\"outlinewidth\": 0, \"ticks\": \"\"}}, \"type\": \"parcoords\"}], \"pie\": [{\"automargin\": true, \"type\": \"pie\"}], \"scatter\": [{\"marker\": {\"colorbar\": {\"outlinewidth\": 0, \"ticks\": \"\"}}, \"type\": \"scatter\"}], \"scatter3d\": [{\"line\": {\"colorbar\": {\"outlinewidth\": 0, \"ticks\": \"\"}}, \"marker\": {\"colorbar\": {\"outlinewidth\": 0, \"ticks\": \"\"}}, \"type\": \"scatter3d\"}], \"scattercarpet\": [{\"marker\": {\"colorbar\": {\"outlinewidth\": 0, \"ticks\": \"\"}}, \"type\": \"scattercarpet\"}], \"scattergeo\": [{\"marker\": {\"colorbar\": {\"outlinewidth\": 0, \"ticks\": \"\"}}, \"type\": \"scattergeo\"}], \"scattergl\": [{\"marker\": {\"colorbar\": {\"outlinewidth\": 0, \"ticks\": \"\"}}, \"type\": \"scattergl\"}], \"scattermapbox\": [{\"marker\": {\"colorbar\": {\"outlinewidth\": 0, \"ticks\": \"\"}}, \"type\": \"scattermapbox\"}], \"scatterpolar\": [{\"marker\": {\"colorbar\": {\"outlinewidth\": 0, \"ticks\": \"\"}}, \"type\": \"scatterpolar\"}], \"scatterpolargl\": [{\"marker\": {\"colorbar\": {\"outlinewidth\": 0, \"ticks\": \"\"}}, \"type\": \"scatterpolargl\"}], \"scatterternary\": [{\"marker\": {\"colorbar\": {\"outlinewidth\": 0, \"ticks\": \"\"}}, \"type\": \"scatterternary\"}], \"surface\": [{\"colorbar\": {\"outlinewidth\": 0, \"ticks\": \"\"}, \"colorscale\": [[0.0, \"#0d0887\"], [0.1111111111111111, \"#46039f\"], [0.2222222222222222, \"#7201a8\"], [0.3333333333333333, \"#9c179e\"], [0.4444444444444444, \"#bd3786\"], [0.5555555555555556, \"#d8576b\"], [0.6666666666666666, \"#ed7953\"], [0.7777777777777778, \"#fb9f3a\"], [0.8888888888888888, \"#fdca26\"], [1.0, \"#f0f921\"]], \"type\": \"surface\"}], \"table\": [{\"cells\": {\"fill\": {\"color\": \"#EBF0F8\"}, \"line\": {\"color\": \"white\"}}, \"header\": {\"fill\": {\"color\": \"#C8D4E3\"}, \"line\": {\"color\": \"white\"}}, \"type\": \"table\"}]}, \"layout\": {\"annotationdefaults\": {\"arrowcolor\": \"#2a3f5f\", \"arrowhead\": 0, \"arrowwidth\": 1}, \"autotypenumbers\": \"strict\", \"coloraxis\": {\"colorbar\": {\"outlinewidth\": 0, \"ticks\": \"\"}}, \"colorscale\": {\"diverging\": [[0, \"#8e0152\"], [0.1, \"#c51b7d\"], [0.2, \"#de77ae\"], [0.3, \"#f1b6da\"], [0.4, \"#fde0ef\"], [0.5, \"#f7f7f7\"], [0.6, \"#e6f5d0\"], [0.7, \"#b8e186\"], [0.8, \"#7fbc41\"], [0.9, \"#4d9221\"], [1, \"#276419\"]], \"sequential\": [[0.0, \"#0d0887\"], [0.1111111111111111, \"#46039f\"], [0.2222222222222222, \"#7201a8\"], [0.3333333333333333, \"#9c179e\"], [0.4444444444444444, \"#bd3786\"], [0.5555555555555556, \"#d8576b\"], [0.6666666666666666, \"#ed7953\"], [0.7777777777777778, \"#fb9f3a\"], [0.8888888888888888, \"#fdca26\"], [1.0, \"#f0f921\"]], \"sequentialminus\": [[0.0, \"#0d0887\"], [0.1111111111111111, \"#46039f\"], [0.2222222222222222, \"#7201a8\"], [0.3333333333333333, \"#9c179e\"], [0.4444444444444444, \"#bd3786\"], [0.5555555555555556, \"#d8576b\"], [0.6666666666666666, \"#ed7953\"], [0.7777777777777778, \"#fb9f3a\"], [0.8888888888888888, \"#fdca26\"], [1.0, \"#f0f921\"]]}, \"colorway\": [\"#636efa\", \"#EF553B\", \"#00cc96\", \"#ab63fa\", \"#FFA15A\", \"#19d3f3\", \"#FF6692\", \"#B6E880\", \"#FF97FF\", \"#FECB52\"], \"font\": {\"color\": \"#2a3f5f\"}, \"geo\": {\"bgcolor\": \"white\", \"lakecolor\": \"white\", \"landcolor\": \"#E5ECF6\", \"showlakes\": true, \"showland\": true, \"subunitcolor\": \"white\"}, \"hoverlabel\": {\"align\": \"left\"}, \"hovermode\": \"closest\", \"mapbox\": {\"style\": \"light\"}, \"paper_bgcolor\": \"white\", \"plot_bgcolor\": \"#E5ECF6\", \"polar\": {\"angularaxis\": {\"gridcolor\": \"white\", \"linecolor\": \"white\", \"ticks\": \"\"}, \"bgcolor\": \"#E5ECF6\", \"radialaxis\": {\"gridcolor\": \"white\", \"linecolor\": \"white\", \"ticks\": \"\"}}, \"scene\": {\"xaxis\": {\"backgroundcolor\": \"#E5ECF6\", \"gridcolor\": \"white\", \"gridwidth\": 2, \"linecolor\": \"white\", \"showbackground\": true, \"ticks\": \"\", \"zerolinecolor\": \"white\"}, \"yaxis\": {\"backgroundcolor\": \"#E5ECF6\", \"gridcolor\": \"white\", \"gridwidth\": 2, \"linecolor\": \"white\", \"showbackground\": true, \"ticks\": \"\", \"zerolinecolor\": \"white\"}, \"zaxis\": {\"backgroundcolor\": \"#E5ECF6\", \"gridcolor\": \"white\", \"gridwidth\": 2, \"linecolor\": \"white\", \"showbackground\": true, \"ticks\": \"\", \"zerolinecolor\": \"white\"}}, \"shapedefaults\": {\"line\": {\"color\": \"#2a3f5f\"}}, \"ternary\": {\"aaxis\": {\"gridcolor\": \"white\", \"linecolor\": \"white\", \"ticks\": \"\"}, \"baxis\": {\"gridcolor\": \"white\", \"linecolor\": \"white\", \"ticks\": \"\"}, \"bgcolor\": \"#E5ECF6\", \"caxis\": {\"gridcolor\": \"white\", \"linecolor\": \"white\", \"ticks\": \"\"}}, \"title\": {\"x\": 0.05}, \"xaxis\": {\"automargin\": true, \"gridcolor\": \"white\", \"linecolor\": \"white\", \"ticks\": \"\", \"title\": {\"standoff\": 15}, \"zerolinecolor\": \"white\", \"zerolinewidth\": 2}, \"yaxis\": {\"automargin\": true, \"gridcolor\": \"white\", \"linecolor\": \"white\", \"ticks\": \"\", \"title\": {\"standoff\": 15}, \"zerolinecolor\": \"white\", \"zerolinewidth\": 2}}}, \"updatemenus\": [{\"buttons\": [{\"args\": [null, {\"frame\": {\"duration\": 500, \"redraw\": true}, \"fromcurrent\": true, \"mode\": \"immediate\", \"transition\": {\"duration\": 500, \"easing\": \"linear\"}}], \"label\": \"&#9654;\", \"method\": \"animate\"}, {\"args\": [[null], {\"frame\": {\"duration\": 0, \"redraw\": true}, \"fromcurrent\": true, \"mode\": \"immediate\", \"transition\": {\"duration\": 0, \"easing\": \"linear\"}}], \"label\": \"&#9724;\", \"method\": \"animate\"}], \"direction\": \"left\", \"pad\": {\"r\": 10, \"t\": 70}, \"showactive\": false, \"type\": \"buttons\", \"x\": 0.1, \"xanchor\": \"right\", \"y\": 0, \"yanchor\": \"top\"}]},                        {\"responsive\": true}                    ).then(function(){\n",
       "                            Plotly.addFrames('8f60caf8-074d-4bc2-941e-17240059385c', [{\"data\": [{\"coloraxis\": \"coloraxis\", \"featureidkey\": \"properties.reg_istat_code_num\", \"geo\": \"geo\", \"geojson\": \"https://raw.githubusercontent.com/openpolis/geojson-italy/master/geojson/limits_IT_regions.geojson\", \"hovertemplate\": \"Date=2020-02-24<br>Region=%{location}<br>ICU=%{z}<extra></extra>\", \"locations\": [13, 17, 18, 15, 8, 6, 12, 7, 3, 11, 14, 4, 4, 1, 16, 20, 19, 9, 10, 2, 5], \"name\": \"\", \"z\": [0, 0, 0, 0, 2, 0, 1, 0, 19, 0, 0, 0, 0, 0, 0, 0, 0, 0, 0, 0, 4], \"type\": \"choropleth\"}], \"name\": \"2020-02-24\"}, {\"data\": [{\"coloraxis\": \"coloraxis\", \"featureidkey\": \"properties.reg_istat_code_num\", \"geo\": \"geo\", \"geojson\": \"https://raw.githubusercontent.com/openpolis/geojson-italy/master/geojson/limits_IT_regions.geojson\", \"hovertemplate\": \"Date=2020-02-25<br>Region=%{location}<br>ICU=%{z}<extra></extra>\", \"locations\": [13, 17, 18, 15, 8, 6, 12, 7, 3, 11, 14, 4, 4, 1, 16, 20, 19, 9, 10, 2, 5], \"name\": \"\", \"z\": [0, 0, 0, 0, 2, 0, 1, 0, 25, 0, 0, 0, 0, 0, 0, 0, 0, 0, 0, 0, 7], \"type\": \"choropleth\"}], \"name\": \"2020-02-25\"}, {\"data\": [{\"coloraxis\": \"coloraxis\", \"featureidkey\": \"properties.reg_istat_code_num\", \"geo\": \"geo\", \"geojson\": \"https://raw.githubusercontent.com/openpolis/geojson-italy/master/geojson/limits_IT_regions.geojson\", \"hovertemplate\": \"Date=2020-02-26<br>Region=%{location}<br>ICU=%{z}<extra></extra>\", \"locations\": [13, 17, 18, 15, 8, 6, 12, 7, 3, 11, 14, 4, 4, 1, 16, 20, 19, 9, 10, 2, 5], \"name\": \"\", \"z\": [0, 0, 0, 0, 3, 0, 0, 0, 25, 0, 0, 0, 0, 0, 0, 0, 0, 0, 0, 0, 8], \"type\": \"choropleth\"}], \"name\": \"2020-02-26\"}, {\"data\": [{\"coloraxis\": \"coloraxis\", \"featureidkey\": \"properties.reg_istat_code_num\", \"geo\": \"geo\", \"geojson\": \"https://raw.githubusercontent.com/openpolis/geojson-italy/master/geojson/limits_IT_regions.geojson\", \"hovertemplate\": \"Date=2020-02-27<br>Region=%{location}<br>ICU=%{z}<extra></extra>\", \"locations\": [13, 17, 18, 15, 8, 6, 12, 7, 3, 11, 14, 4, 4, 1, 16, 20, 19, 9, 10, 2, 5], \"name\": \"\", \"z\": [0, 0, 0, 0, 6, 0, 0, 0, 41, 1, 0, 0, 0, 0, 0, 0, 0, 0, 0, 0, 8], \"type\": \"choropleth\"}], \"name\": \"2020-02-27\"}, {\"data\": [{\"coloraxis\": \"coloraxis\", \"featureidkey\": \"properties.reg_istat_code_num\", \"geo\": \"geo\", \"geojson\": \"https://raw.githubusercontent.com/openpolis/geojson-italy/master/geojson/limits_IT_regions.geojson\", \"hovertemplate\": \"Date=2020-02-28<br>Region=%{location}<br>ICU=%{z}<extra></extra>\", \"locations\": [13, 17, 18, 15, 8, 6, 12, 7, 3, 11, 14, 4, 4, 1, 16, 20, 19, 9, 10, 2, 5], \"name\": \"\", \"z\": [0, 0, 0, 0, 6, 0, 0, 0, 47, 2, 0, 0, 0, 0, 0, 0, 0, 0, 0, 0, 9], \"type\": \"choropleth\"}], \"name\": \"2020-02-28\"}, {\"data\": [{\"coloraxis\": \"coloraxis\", \"featureidkey\": \"properties.reg_istat_code_num\", \"geo\": \"geo\", \"geojson\": \"https://raw.githubusercontent.com/openpolis/geojson-italy/master/geojson/limits_IT_regions.geojson\", \"hovertemplate\": \"Date=2020-02-29<br>Region=%{location}<br>ICU=%{z}<extra></extra>\", \"locations\": [13, 17, 18, 15, 8, 6, 12, 7, 3, 11, 14, 4, 4, 1, 16, 20, 19, 9, 10, 2, 5], \"name\": \"\", \"z\": [0, 0, 0, 0, 11, 0, 0, 1, 80, 2, 0, 0, 0, 0, 0, 0, 0, 0, 0, 0, 11], \"type\": \"choropleth\"}], \"name\": \"2020-02-29\"}, {\"data\": [{\"coloraxis\": \"coloraxis\", \"featureidkey\": \"properties.reg_istat_code_num\", \"geo\": \"geo\", \"geojson\": \"https://raw.githubusercontent.com/openpolis/geojson-italy/master/geojson/limits_IT_regions.geojson\", \"hovertemplate\": \"Date=2020-03-01<br>Region=%{location}<br>ICU=%{z}<extra></extra>\", \"locations\": [13, 17, 18, 15, 8, 6, 12, 7, 3, 11, 14, 4, 4, 1, 16, 20, 19, 9, 10, 2, 5], \"name\": \"\", \"z\": [0, 0, 0, 0, 13, 0, 0, 1, 106, 5, 0, 0, 0, 2, 0, 0, 0, 0, 0, 0, 13], \"type\": \"choropleth\"}], \"name\": \"2020-03-01\"}, {\"data\": [{\"coloraxis\": \"coloraxis\", \"featureidkey\": \"properties.reg_istat_code_num\", \"geo\": \"geo\", \"geojson\": \"https://raw.githubusercontent.com/openpolis/geojson-italy/master/geojson/limits_IT_regions.geojson\", \"hovertemplate\": \"Date=2020-03-02<br>Region=%{location}<br>ICU=%{z}<extra></extra>\", \"locations\": [13, 17, 18, 15, 8, 6, 12, 7, 3, 11, 14, 4, 4, 1, 16, 20, 19, 9, 10, 2, 5], \"name\": \"\", \"z\": [0, 0, 0, 0, 16, 0, 0, 1, 127, 6, 0, 0, 0, 2, 0, 0, 0, 0, 0, 0, 14], \"type\": \"choropleth\"}], \"name\": \"2020-03-02\"}, {\"data\": [{\"coloraxis\": \"coloraxis\", \"featureidkey\": \"properties.reg_istat_code_num\", \"geo\": \"geo\", \"geojson\": \"https://raw.githubusercontent.com/openpolis/geojson-italy/master/geojson/limits_IT_regions.geojson\", \"hovertemplate\": \"Date=2020-03-03<br>Region=%{location}<br>ICU=%{z}<extra></extra>\", \"locations\": [13, 17, 18, 15, 8, 6, 12, 7, 3, 11, 14, 4, 4, 1, 16, 20, 19, 9, 10, 2, 5], \"name\": \"\", \"z\": [0, 0, 0, 0, 24, 0, 0, 2, 167, 13, 0, 0, 0, 3, 0, 0, 0, 0, 1, 0, 19], \"type\": \"choropleth\"}], \"name\": \"2020-03-03\"}, {\"data\": [{\"coloraxis\": \"coloraxis\", \"featureidkey\": \"properties.reg_istat_code_num\", \"geo\": \"geo\", \"geojson\": \"https://raw.githubusercontent.com/openpolis/geojson-italy/master/geojson/limits_IT_regions.geojson\", \"hovertemplate\": \"Date=2020-03-04<br>Region=%{location}<br>ICU=%{z}<extra></extra>\", \"locations\": [13, 17, 18, 15, 8, 6, 12, 7, 3, 11, 14, 4, 4, 1, 16, 20, 19, 9, 10, 2, 5], \"name\": \"\", \"z\": [0, 0, 0, 0, 26, 0, 3, 3, 209, 15, 0, 0, 0, 13, 0, 0, 0, 2, 1, 0, 23], \"type\": \"choropleth\"}], \"name\": \"2020-03-04\"}, {\"data\": [{\"coloraxis\": \"coloraxis\", \"featureidkey\": \"properties.reg_istat_code_num\", \"geo\": \"geo\", \"geojson\": \"https://raw.githubusercontent.com/openpolis/geojson-italy/master/geojson/limits_IT_regions.geojson\", \"hovertemplate\": \"Date=2020-03-05<br>Region=%{location}<br>ICU=%{z}<extra></extra>\", \"locations\": [13, 17, 18, 15, 8, 6, 12, 7, 3, 11, 14, 4, 4, 1, 16, 20, 19, 9, 10, 2, 5], \"name\": \"\", \"z\": [0, 0, 0, 0, 32, 0, 7, 3, 244, 19, 0, 0, 0, 17, 1, 0, 0, 3, 1, 0, 24], \"type\": \"choropleth\"}], \"name\": \"2020-03-05\"}, {\"data\": [{\"coloraxis\": \"coloraxis\", \"featureidkey\": \"properties.reg_istat_code_num\", \"geo\": \"geo\", \"geojson\": \"https://raw.githubusercontent.com/openpolis/geojson-italy/master/geojson/limits_IT_regions.geojson\", \"hovertemplate\": \"Date=2020-03-06<br>Region=%{location}<br>ICU=%{z}<extra></extra>\", \"locations\": [13, 17, 18, 15, 8, 6, 12, 7, 3, 11, 14, 4, 4, 1, 16, 20, 19, 9, 10, 2, 5], \"name\": \"\", \"z\": [0, 0, 0, 0, 53, 0, 8, 5, 309, 20, 2, 0, 0, 30, 1, 0, 0, 5, 2, 0, 27], \"type\": \"choropleth\"}], \"name\": \"2020-03-06\"}, {\"data\": [{\"coloraxis\": \"coloraxis\", \"featureidkey\": \"properties.reg_istat_code_num\", \"geo\": \"geo\", \"geojson\": \"https://raw.githubusercontent.com/openpolis/geojson-italy/master/geojson/limits_IT_regions.geojson\", \"hovertemplate\": \"Date=2020-03-07<br>Region=%{location}<br>ICU=%{z}<extra></extra>\", \"locations\": [13, 17, 18, 15, 8, 6, 12, 7, 3, 11, 14, 4, 4, 1, 16, 20, 19, 9, 10, 2, 5], \"name\": \"\", \"z\": [0, 0, 0, 0, 64, 1, 8, 6, 359, 36, 2, 0, 1, 38, 2, 0, 0, 7, 2, 0, 41], \"type\": \"choropleth\"}], \"name\": \"2020-03-07\"}, {\"data\": [{\"coloraxis\": \"coloraxis\", \"featureidkey\": \"properties.reg_istat_code_num\", \"geo\": \"geo\", \"geojson\": \"https://raw.githubusercontent.com/openpolis/geojson-italy/master/geojson/limits_IT_regions.geojson\", \"hovertemplate\": \"Date=2020-03-08<br>Region=%{location}<br>ICU=%{z}<extra></extra>\", \"locations\": [13, 17, 18, 15, 8, 6, 12, 7, 3, 11, 14, 4, 4, 1, 16, 20, 19, 9, 10, 2, 5], \"name\": \"\", \"z\": [0, 0, 0, 7, 75, 1, 8, 11, 399, 41, 2, 0, 2, 45, 3, 0, 0, 7, 2, 0, 47], \"type\": \"choropleth\"}], \"name\": \"2020-03-08\"}, {\"data\": [{\"coloraxis\": \"coloraxis\", \"featureidkey\": \"properties.reg_istat_code_num\", \"geo\": \"geo\", \"geojson\": \"https://raw.githubusercontent.com/openpolis/geojson-italy/master/geojson/limits_IT_regions.geojson\", \"hovertemplate\": \"Date=2020-03-09<br>Region=%{location}<br>ICU=%{z}<extra></extra>\", \"locations\": [13, 17, 18, 15, 8, 6, 12, 7, 3, 11, 14, 4, 4, 1, 16, 20, 19, 9, 10, 2, 5], \"name\": \"\", \"z\": [0, 0, 0, 8, 90, 1, 8, 17, 440, 47, 2, 0, 2, 50, 6, 0, 0, 9, 2, 0, 51], \"type\": \"choropleth\"}], \"name\": \"2020-03-09\"}, {\"data\": [{\"coloraxis\": \"coloraxis\", \"featureidkey\": \"properties.reg_istat_code_num\", \"geo\": \"geo\", \"geojson\": \"https://raw.githubusercontent.com/openpolis/geojson-italy/master/geojson/limits_IT_regions.geojson\", \"hovertemplate\": \"Date=2020-03-10<br>Region=%{location}<br>ICU=%{z}<extra></extra>\", \"locations\": [13, 17, 18, 15, 8, 6, 12, 7, 3, 11, 14, 4, 4, 1, 16, 20, 19, 9, 10, 2, 5], \"name\": \"\", \"z\": [9, 0, 2, 8, 98, 6, 15, 29, 466, 54, 3, 1, 3, 66, 6, 0, 2, 40, 2, 0, 67], \"type\": \"choropleth\"}], \"name\": \"2020-03-10\"}, {\"data\": [{\"coloraxis\": \"coloraxis\", \"featureidkey\": \"properties.reg_istat_code_num\", \"geo\": \"geo\", \"geojson\": \"https://raw.githubusercontent.com/openpolis/geojson-italy/master/geojson/limits_IT_regions.geojson\", \"hovertemplate\": \"Date=2020-03-11<br>Region=%{location}<br>ICU=%{z}<extra></extra>\", \"locations\": [13, 17, 18, 15, 8, 6, 12, 7, 3, 11, 14, 4, 4, 1, 16, 20, 19, 9, 10, 2, 5], \"name\": \"\", \"z\": [9, 1, 2, 11, 104, 5, 18, 34, 560, 66, 3, 4, 4, 75, 4, 0, 1, 54, 5, 0, 68], \"type\": \"choropleth\"}], \"name\": \"2020-03-11\"}, {\"data\": [{\"coloraxis\": \"coloraxis\", \"featureidkey\": \"properties.reg_istat_code_num\", \"geo\": \"geo\", \"geojson\": \"https://raw.githubusercontent.com/openpolis/geojson-italy/master/geojson/limits_IT_regions.geojson\", \"hovertemplate\": \"Date=2020-03-12<br>Region=%{location}<br>ICU=%{z}<extra></extra>\", \"locations\": [13, 17, 18, 15, 8, 6, 12, 7, 3, 11, 14, 4, 4, 1, 16, 20, 19, 9, 10, 2, 5], \"name\": \"\", \"z\": [12, 1, 2, 11, 112, 10, 20, 36, 605, 76, 3, 4, 5, 97, 2, 0, 5, 59, 8, 0, 85], \"type\": \"choropleth\"}], \"name\": \"2020-03-12\"}, {\"data\": [{\"coloraxis\": \"coloraxis\", \"featureidkey\": \"properties.reg_istat_code_num\", \"geo\": \"geo\", \"geojson\": \"https://raw.githubusercontent.com/openpolis/geojson-italy/master/geojson/limits_IT_regions.geojson\", \"hovertemplate\": \"Date=2020-03-13<br>Region=%{location}<br>ICU=%{z}<extra></extra>\", \"locations\": [13, 17, 18, 15, 8, 6, 12, 7, 3, 11, 14, 4, 4, 1, 16, 20, 19, 9, 10, 2, 5], \"name\": \"\", \"z\": [14, 1, 3, 19, 128, 8, 24, 44, 650, 85, 3, 5, 6, 135, 2, 0, 7, 77, 10, 0, 107], \"type\": \"choropleth\"}], \"name\": \"2020-03-13\"}, {\"data\": [{\"coloraxis\": \"coloraxis\", \"featureidkey\": \"properties.reg_istat_code_num\", \"geo\": \"geo\", \"geojson\": \"https://raw.githubusercontent.com/openpolis/geojson-italy/master/geojson/limits_IT_regions.geojson\", \"hovertemplate\": \"Date=2020-03-14<br>Region=%{location}<br>ICU=%{z}<extra></extra>\", \"locations\": [13, 17, 18, 15, 8, 6, 12, 7, 3, 11, 14, 4, 4, 1, 16, 20, 19, 9, 10, 2, 5], \"name\": \"\", \"z\": [14, 2, 4, 17, 152, 11, 25, 62, 732, 93, 3, 7, 12, 150, 6, 0, 11, 87, 11, 0, 119], \"type\": \"choropleth\"}], \"name\": \"2020-03-14\"}, {\"data\": [{\"coloraxis\": \"coloraxis\", \"featureidkey\": \"properties.reg_istat_code_num\", \"geo\": \"geo\", \"geojson\": \"https://raw.githubusercontent.com/openpolis/geojson-italy/master/geojson/limits_IT_regions.geojson\", \"hovertemplate\": \"Date=2020-03-15<br>Region=%{location}<br>ICU=%{z}<extra></extra>\", \"locations\": [13, 17, 18, 15, 8, 6, 12, 7, 3, 11, 14, 4, 4, 1, 16, 20, 19, 9, 10, 2, 5], \"name\": \"\", \"z\": [28, 2, 6, 22, 169, 12, 31, 66, 767, 98, 4, 4, 19, 171, 6, 0, 15, 107, 13, 3, 129], \"type\": \"choropleth\"}], \"name\": \"2020-03-15\"}, {\"data\": [{\"coloraxis\": \"coloraxis\", \"featureidkey\": \"properties.reg_istat_code_num\", \"geo\": \"geo\", \"geojson\": \"https://raw.githubusercontent.com/openpolis/geojson-italy/master/geojson/limits_IT_regions.geojson\", \"hovertemplate\": \"Date=2020-03-16<br>Region=%{location}<br>ICU=%{z}<extra></extra>\", \"locations\": [13, 17, 18, 15, 8, 6, 12, 7, 3, 11, 14, 4, 4, 1, 16, 20, 19, 9, 10, 2, 5], \"name\": \"\", \"z\": [37, 2, 7, 22, 197, 19, 31, 73, 823, 110, 5, 11, 19, 186, 6, 0, 20, 107, 15, 5, 156], \"type\": \"choropleth\"}], \"name\": \"2020-03-16\"}, {\"data\": [{\"coloraxis\": \"coloraxis\", \"featureidkey\": \"properties.reg_istat_code_num\", \"geo\": \"geo\", \"geojson\": \"https://raw.githubusercontent.com/openpolis/geojson-italy/master/geojson/limits_IT_regions.geojson\", \"hovertemplate\": \"Date=2020-03-17<br>Region=%{location}<br>ICU=%{z}<extra></extra>\", \"locations\": [13, 17, 18, 15, 8, 6, 12, 7, 3, 11, 14, 4, 4, 1, 16, 20, 19, 9, 10, 2, 5], \"name\": \"\", \"z\": [32, 2, 10, 24, 223, 21, 44, 85, 879, 109, 5, 11, 22, 206, 14, 4, 28, 143, 21, 6, 171], \"type\": \"choropleth\"}], \"name\": \"2020-03-17\"}, {\"data\": [{\"coloraxis\": \"coloraxis\", \"featureidkey\": \"properties.reg_istat_code_num\", \"geo\": \"geo\", \"geojson\": \"https://raw.githubusercontent.com/openpolis/geojson-italy/master/geojson/limits_IT_regions.geojson\", \"hovertemplate\": \"Date=2020-03-18<br>Region=%{location}<br>ICU=%{z}<extra></extra>\", \"locations\": [13, 17, 18, 15, 8, 6, 12, 7, 3, 11, 14, 4, 4, 1, 16, 20, 19, 9, 10, 2, 5], \"name\": \"\", \"z\": [41, 2, 11, 24, 247, 27, 44, 100, 924, 119, 6, 18, 22, 227, 30, 7, 29, 160, 21, 3, 195], \"type\": \"choropleth\"}], \"name\": \"2020-03-18\"}, {\"data\": [{\"coloraxis\": \"coloraxis\", \"featureidkey\": \"properties.reg_istat_code_num\", \"geo\": \"geo\", \"geojson\": \"https://raw.githubusercontent.com/openpolis/geojson-italy/master/geojson/limits_IT_regions.geojson\", \"hovertemplate\": \"Date=2020-03-19<br>Region=%{location}<br>ICU=%{z}<extra></extra>\", \"locations\": [13, 17, 18, 15, 8, 6, 12, 7, 3, 11, 14, 4, 4, 1, 16, 20, 19, 9, 10, 2, 5], \"name\": \"\", \"z\": [47, 5, 13, 36, 260, 29, 45, 112, 1006, 141, 6, 18, 30, 257, 31, 9, 36, 178, 21, 9, 209], \"type\": \"choropleth\"}], \"name\": \"2020-03-19\"}, {\"data\": [{\"coloraxis\": \"coloraxis\", \"featureidkey\": \"properties.reg_istat_code_num\", \"geo\": \"geo\", \"geojson\": \"https://raw.githubusercontent.com/openpolis/geojson-italy/master/geojson/limits_IT_regions.geojson\", \"hovertemplate\": \"Date=2020-03-20<br>Region=%{location}<br>ICU=%{z}<extra></extra>\", \"locations\": [13, 17, 18, 15, 8, 6, 12, 7, 3, 11, 14, 4, 4, 1, 16, 20, 19, 9, 10, 2, 5], \"name\": \"\", \"z\": [48, 5, 16, 41, 267, 32, 47, 121, 1050, 138, 6, 24, 34, 280, 31, 15, 42, 189, 24, 9, 236], \"type\": \"choropleth\"}], \"name\": \"2020-03-20\"}, {\"data\": [{\"coloraxis\": \"coloraxis\", \"featureidkey\": \"properties.reg_istat_code_num\", \"geo\": \"geo\", \"geojson\": \"https://raw.githubusercontent.com/openpolis/geojson-italy/master/geojson/limits_IT_regions.geojson\", \"hovertemplate\": \"Date=2020-03-21<br>Region=%{location}<br>ICU=%{z}<extra></extra>\", \"locations\": [13, 17, 18, 15, 8, 6, 12, 7, 3, 11, 14, 4, 4, 1, 16, 20, 19, 9, 10, 2, 5], \"name\": \"\", \"z\": [44, 7, 16, 87, 265, 37, 70, 129, 1093, 141, 6, 30, 39, 301, 33, 16, 48, 202, 29, 15, 249], \"type\": \"choropleth\"}], \"name\": \"2020-03-21\"}, {\"data\": [{\"coloraxis\": \"coloraxis\", \"featureidkey\": \"properties.reg_istat_code_num\", \"geo\": \"geo\", \"geojson\": \"https://raw.githubusercontent.com/openpolis/geojson-italy/master/geojson/limits_IT_regions.geojson\", \"hovertemplate\": \"Date=2020-03-22<br>Region=%{location}<br>ICU=%{z}<extra></extra>\", \"locations\": [13, 17, 18, 15, 8, 6, 12, 7, 3, 11, 14, 4, 4, 1, 16, 20, 19, 9, 10, 2, 5], \"name\": \"\", \"z\": [49, 10, 17, 99, 269, 47, 79, 132, 1142, 138, 7, 32, 46, 308, 37, 16, 55, 215, 35, 21, 255], \"type\": \"choropleth\"}], \"name\": \"2020-03-22\"}, {\"data\": [{\"coloraxis\": \"coloraxis\", \"featureidkey\": \"properties.reg_istat_code_num\", \"geo\": \"geo\", \"geojson\": \"https://raw.githubusercontent.com/openpolis/geojson-italy/master/geojson/limits_IT_regions.geojson\", \"hovertemplate\": \"Date=2020-03-23<br>Region=%{location}<br>ICU=%{z}<extra></extra>\", \"locations\": [13, 17, 18, 15, 8, 6, 12, 7, 3, 11, 14, 4, 4, 1, 16, 20, 19, 9, 10, 2, 5], \"name\": \"\", \"z\": [52, 12, 20, 110, 276, 41, 96, 133, 1183, 148, 7, 33, 46, 343, 45, 18, 60, 238, 42, 20, 281], \"type\": \"choropleth\"}], \"name\": \"2020-03-23\"}, {\"data\": [{\"coloraxis\": \"coloraxis\", \"featureidkey\": \"properties.reg_istat_code_num\", \"geo\": \"geo\", \"geojson\": \"https://raw.githubusercontent.com/openpolis/geojson-italy/master/geojson/limits_IT_regions.geojson\", \"hovertemplate\": \"Date=2020-03-24<br>Region=%{location}<br>ICU=%{z}<extra></extra>\", \"locations\": [13, 17, 18, 15, 8, 6, 12, 7, 3, 11, 14, 4, 4, 1, 16, 20, 19, 9, 10, 2, 5], \"name\": \"\", \"z\": [57, 12, 21, 181, 291, 49, 94, 147, 1194, 149, 7, 38, 49, 360, 57, 19, 60, 244, 43, 20, 304], \"type\": \"choropleth\"}], \"name\": \"2020-03-24\"}, {\"data\": [{\"coloraxis\": \"coloraxis\", \"featureidkey\": \"properties.reg_istat_code_num\", \"geo\": \"geo\", \"geojson\": \"https://raw.githubusercontent.com/openpolis/geojson-italy/master/geojson/limits_IT_regions.geojson\", \"hovertemplate\": \"Date=2020-03-25<br>Region=%{location}<br>ICU=%{z}<extra></extra>\", \"locations\": [13, 17, 18, 15, 8, 6, 12, 7, 3, 11, 14, 4, 4, 1, 16, 20, 19, 9, 10, 2, 5], \"name\": \"\", \"z\": [59, 14, 23, 123, 294, 52, 101, 147, 1236, 148, 7, 40, 65, 381, 64, 19, 80, 251, 44, 25, 316], \"type\": \"choropleth\"}], \"name\": \"2020-03-25\"}, {\"data\": [{\"coloraxis\": \"coloraxis\", \"featureidkey\": \"properties.reg_istat_code_num\", \"geo\": \"geo\", \"geojson\": \"https://raw.githubusercontent.com/openpolis/geojson-italy/master/geojson/limits_IT_regions.geojson\", \"hovertemplate\": \"Date=2020-03-26<br>Region=%{location}<br>ICU=%{z}<extra></extra>\", \"locations\": [13, 17, 18, 15, 8, 6, 12, 7, 3, 11, 14, 4, 4, 1, 16, 20, 19, 9, 10, 2, 5], \"name\": \"\", \"z\": [64, 16, 23, 114, 301, 54, 113, 154, 1263, 166, 8, 43, 66, 408, 76, 20, 68, 259, 46, 24, 326], \"type\": \"choropleth\"}], \"name\": \"2020-03-26\"}, {\"data\": [{\"coloraxis\": \"coloraxis\", \"featureidkey\": \"properties.reg_istat_code_num\", \"geo\": \"geo\", \"geojson\": \"https://raw.githubusercontent.com/openpolis/geojson-italy/master/geojson/limits_IT_regions.geojson\", \"hovertemplate\": \"Date=2020-03-27<br>Region=%{location}<br>ICU=%{z}<extra></extra>\", \"locations\": [13, 17, 18, 15, 8, 6, 12, 7, 3, 11, 14, 4, 4, 1, 16, 20, 19, 9, 10, 2, 5], \"name\": \"\", \"z\": [71, 15, 22, 113, 308, 57, 126, 157, 1292, 162, 9, 45, 66, 431, 82, 19, 75, 274, 46, 24, 338], \"type\": \"choropleth\"}], \"name\": \"2020-03-27\"}, {\"data\": [{\"coloraxis\": \"coloraxis\", \"featureidkey\": \"properties.reg_istat_code_num\", \"geo\": \"geo\", \"geojson\": \"https://raw.githubusercontent.com/openpolis/geojson-italy/master/geojson/limits_IT_regions.geojson\", \"hovertemplate\": \"Date=2020-03-28<br>Region=%{location}<br>ICU=%{z}<extra></extra>\", \"locations\": [13, 17, 18, 15, 8, 6, 12, 7, 3, 11, 14, 4, 4, 1, 16, 20, 19, 9, 10, 2, 5], \"name\": \"\", \"z\": [70, 19, 22, 132, 316, 59, 133, 167, 1319, 166, 9, 51, 72, 439, 98, 22, 71, 277, 44, 26, 344], \"type\": \"choropleth\"}], \"name\": \"2020-03-28\"}, {\"data\": [{\"coloraxis\": \"coloraxis\", \"featureidkey\": \"properties.reg_istat_code_num\", \"geo\": \"geo\", \"geojson\": \"https://raw.githubusercontent.com/openpolis/geojson-italy/master/geojson/limits_IT_regions.geojson\", \"hovertemplate\": \"Date=2020-03-29<br>Region=%{location}<br>ICU=%{z}<extra></extra>\", \"locations\": [13, 17, 18, 15, 8, 6, 12, 7, 3, 11, 14, 4, 4, 1, 16, 20, 19, 9, 10, 2, 5], \"name\": \"\", \"z\": [68, 18, 19, 135, 333, 60, 133, 166, 1328, 168, 9, 56, 75, 443, 99, 23, 71, 275, 46, 26, 355], \"type\": \"choropleth\"}], \"name\": \"2020-03-29\"}, {\"data\": [{\"coloraxis\": \"coloraxis\", \"featureidkey\": \"properties.reg_istat_code_num\", \"geo\": \"geo\", \"geojson\": \"https://raw.githubusercontent.com/openpolis/geojson-italy/master/geojson/limits_IT_regions.geojson\", \"hovertemplate\": \"Date=2020-03-30<br>Region=%{location}<br>ICU=%{z}<extra></extra>\", \"locations\": [13, 17, 18, 15, 8, 6, 12, 7, 3, 11, 14, 4, 4, 1, 16, 20, 19, 9, 10, 2, 5], \"name\": \"\", \"z\": [69, 18, 18, 126, 351, 60, 154, 175, 1330, 167, 8, 62, 78, 452, 106, 24, 75, 279, 47, 26, 356], \"type\": \"choropleth\"}], \"name\": \"2020-03-30\"}, {\"data\": [{\"coloraxis\": \"coloraxis\", \"featureidkey\": \"properties.reg_istat_code_num\", \"geo\": \"geo\", \"geojson\": \"https://raw.githubusercontent.com/openpolis/geojson-italy/master/geojson/limits_IT_regions.geojson\", \"hovertemplate\": \"Date=2020-03-31<br>Region=%{location}<br>ICU=%{z}<extra></extra>\", \"locations\": [13, 17, 18, 15, 8, 6, 12, 7, 3, 11, 14, 4, 4, 1, 16, 20, 19, 9, 10, 2, 5], \"name\": \"\", \"z\": [73, 17, 17, 133, 353, 60, 173, 179, 1324, 169, 8, 62, 80, 452, 105, 28, 72, 293, 43, 26, 356], \"type\": \"choropleth\"}], \"name\": \"2020-03-31\"}, {\"data\": [{\"coloraxis\": \"coloraxis\", \"featureidkey\": \"properties.reg_istat_code_num\", \"geo\": \"geo\", \"geojson\": \"https://raw.githubusercontent.com/openpolis/geojson-italy/master/geojson/limits_IT_regions.geojson\", \"hovertemplate\": \"Date=2020-04-01<br>Region=%{location}<br>ICU=%{z}<extra></extra>\", \"locations\": [13, 17, 18, 15, 8, 6, 12, 7, 3, 11, 14, 4, 4, 1, 16, 20, 19, 9, 10, 2, 5], \"name\": \"\", \"z\": [71, 15, 16, 129, 359, 60, 177, 179, 1342, 168, 8, 57, 76, 453, 107, 27, 72, 297, 45, 27, 350], \"type\": \"choropleth\"}], \"name\": \"2020-04-01\"}, {\"data\": [{\"coloraxis\": \"coloraxis\", \"featureidkey\": \"properties.reg_istat_code_num\", \"geo\": \"geo\", \"geojson\": \"https://raw.githubusercontent.com/openpolis/geojson-italy/master/geojson/limits_IT_regions.geojson\", \"hovertemplate\": \"Date=2020-04-02<br>Region=%{location}<br>ICU=%{z}<extra></extra>\", \"locations\": [13, 17, 18, 15, 8, 6, 12, 7, 3, 11, 14, 4, 4, 1, 16, 20, 19, 9, 10, 2, 5], \"name\": \"\", \"z\": [75, 19, 19, 120, 366, 60, 181, 172, 1351, 164, 8, 60, 78, 453, 118, 24, 73, 295, 47, 25, 345], \"type\": \"choropleth\"}], \"name\": \"2020-04-02\"}, {\"data\": [{\"coloraxis\": \"coloraxis\", \"featureidkey\": \"properties.reg_istat_code_num\", \"geo\": \"geo\", \"geojson\": \"https://raw.githubusercontent.com/openpolis/geojson-italy/master/geojson/limits_IT_regions.geojson\", \"hovertemplate\": \"Date=2020-04-03<br>Region=%{location}<br>ICU=%{z}<extra></extra>\", \"locations\": [13, 17, 18, 15, 8, 6, 12, 7, 3, 11, 14, 4, 4, 1, 16, 20, 19, 9, 10, 2, 5], \"name\": \"\", \"z\": [76, 19, 17, 115, 364, 61, 188, 173, 1381, 158, 8, 60, 80, 452, 123, 24, 73, 288, 48, 25, 335], \"type\": \"choropleth\"}], \"name\": \"2020-04-03\"}, {\"data\": [{\"coloraxis\": \"coloraxis\", \"featureidkey\": \"properties.reg_istat_code_num\", \"geo\": \"geo\", \"geojson\": \"https://raw.githubusercontent.com/openpolis/geojson-italy/master/geojson/limits_IT_regions.geojson\", \"hovertemplate\": \"Date=2020-04-04<br>Region=%{location}<br>ICU=%{z}<extra></extra>\", \"locations\": [13, 17, 18, 15, 8, 6, 12, 7, 3, 11, 14, 4, 4, 1, 16, 20, 19, 9, 10, 2, 5], \"name\": \"\", \"z\": [71, 19, 15, 114, 358, 50, 193, 169, 1326, 153, 6, 61, 81, 450, 153, 24, 74, 286, 44, 23, 324], \"type\": \"choropleth\"}], \"name\": \"2020-04-04\"}, {\"data\": [{\"coloraxis\": \"coloraxis\", \"featureidkey\": \"properties.reg_istat_code_num\", \"geo\": \"geo\", \"geojson\": \"https://raw.githubusercontent.com/openpolis/geojson-italy/master/geojson/limits_IT_regions.geojson\", \"hovertemplate\": \"Date=2020-04-05<br>Region=%{location}<br>ICU=%{z}<extra></extra>\", \"locations\": [13, 17, 18, 15, 8, 6, 12, 7, 3, 11, 14, 4, 4, 1, 16, 20, 19, 9, 10, 2, 5], \"name\": \"\", \"z\": [67, 18, 13, 108, 375, 50, 197, 165, 1317, 151, 6, 53, 80, 444, 159, 25, 76, 276, 45, 23, 329], \"type\": \"choropleth\"}], \"name\": \"2020-04-05\"}, {\"data\": [{\"coloraxis\": \"coloraxis\", \"featureidkey\": \"properties.reg_istat_code_num\", \"geo\": \"geo\", \"geojson\": \"https://raw.githubusercontent.com/openpolis/geojson-italy/master/geojson/limits_IT_regions.geojson\", \"hovertemplate\": \"Date=2020-04-06<br>Region=%{location}<br>ICU=%{z}<extra></extra>\", \"locations\": [13, 17, 18, 15, 8, 6, 12, 7, 3, 11, 14, 4, 4, 1, 16, 20, 19, 9, 10, 2, 5], \"name\": \"\", \"z\": [66, 18, 14, 101, 372, 46, 197, 162, 1343, 140, 5, 52, 79, 438, 97, 26, 74, 279, 46, 21, 322], \"type\": \"choropleth\"}], \"name\": \"2020-04-06\"}, {\"data\": [{\"coloraxis\": \"coloraxis\", \"featureidkey\": \"properties.reg_istat_code_num\", \"geo\": \"geo\", \"geojson\": \"https://raw.githubusercontent.com/openpolis/geojson-italy/master/geojson/limits_IT_regions.geojson\", \"hovertemplate\": \"Date=2020-04-07<br>Region=%{location}<br>ICU=%{z}<extra></extra>\", \"locations\": [13, 17, 18, 15, 8, 6, 12, 7, 3, 11, 14, 4, 4, 1, 16, 20, 19, 9, 10, 2, 5], \"name\": \"\", \"z\": [67, 17, 14, 103, 366, 44, 192, 156, 1305, 139, 5, 64, 78, 432, 93, 26, 73, 263, 41, 17, 297], \"type\": \"choropleth\"}], \"name\": \"2020-04-07\"}, {\"data\": [{\"coloraxis\": \"coloraxis\", \"featureidkey\": \"properties.reg_istat_code_num\", \"geo\": \"geo\", \"geojson\": \"https://raw.githubusercontent.com/openpolis/geojson-italy/master/geojson/limits_IT_regions.geojson\", \"hovertemplate\": \"Date=2020-04-08<br>Region=%{location}<br>ICU=%{z}<extra></extra>\", \"locations\": [13, 17, 18, 15, 8, 6, 12, 7, 3, 11, 14, 4, 4, 1, 16, 20, 19, 9, 10, 2, 5], \"name\": \"\", \"z\": [62, 17, 15, 97, 361, 41, 196, 153, 1257, 133, 4, 65, 77, 423, 90, 31, 65, 260, 41, 20, 285], \"type\": \"choropleth\"}], \"name\": \"2020-04-08\"}, {\"data\": [{\"coloraxis\": \"coloraxis\", \"featureidkey\": \"properties.reg_istat_code_num\", \"geo\": \"geo\", \"geojson\": \"https://raw.githubusercontent.com/openpolis/geojson-italy/master/geojson/limits_IT_regions.geojson\", \"hovertemplate\": \"Date=2020-04-09<br>Region=%{location}<br>ICU=%{z}<extra></extra>\", \"locations\": [13, 17, 18, 15, 8, 6, 12, 7, 3, 11, 14, 4, 4, 1, 16, 20, 19, 9, 10, 2, 5], \"name\": \"\", \"z\": [57, 17, 15, 94, 355, 37, 198, 154, 1236, 133, 4, 64, 69, 412, 86, 25, 63, 256, 38, 18, 274], \"type\": \"choropleth\"}], \"name\": \"2020-04-09\"}, {\"data\": [{\"coloraxis\": \"coloraxis\", \"featureidkey\": \"properties.reg_istat_code_num\", \"geo\": \"geo\", \"geojson\": \"https://raw.githubusercontent.com/openpolis/geojson-italy/master/geojson/limits_IT_regions.geojson\", \"hovertemplate\": \"Date=2020-04-10<br>Region=%{location}<br>ICU=%{z}<extra></extra>\", \"locations\": [13, 17, 18, 15, 8, 6, 12, 7, 3, 11, 14, 4, 4, 1, 16, 20, 19, 9, 10, 2, 5], \"name\": \"\", \"z\": [53, 15, 14, 90, 349, 33, 201, 151, 1202, 127, 4, 58, 70, 394, 80, 26, 62, 256, 39, 16, 257], \"type\": \"choropleth\"}], \"name\": \"2020-04-10\"}, {\"data\": [{\"coloraxis\": \"coloraxis\", \"featureidkey\": \"properties.reg_istat_code_num\", \"geo\": \"geo\", \"geojson\": \"https://raw.githubusercontent.com/openpolis/geojson-italy/master/geojson/limits_IT_regions.geojson\", \"hovertemplate\": \"Date=2020-04-11<br>Region=%{location}<br>ICU=%{z}<extra></extra>\", \"locations\": [13, 17, 18, 15, 8, 6, 12, 7, 3, 11, 14, 4, 4, 1, 16, 20, 19, 9, 10, 2, 5], \"name\": \"\", \"z\": [54, 12, 15, 85, 341, 28, 203, 146, 1174, 118, 4, 56, 62, 384, 73, 24, 58, 237, 39, 17, 251], \"type\": \"choropleth\"}], \"name\": \"2020-04-11\"}, {\"data\": [{\"coloraxis\": \"coloraxis\", \"featureidkey\": \"properties.reg_istat_code_num\", \"geo\": \"geo\", \"geojson\": \"https://raw.githubusercontent.com/openpolis/geojson-italy/master/geojson/limits_IT_regions.geojson\", \"hovertemplate\": \"Date=2020-04-12<br>Region=%{location}<br>ICU=%{z}<extra></extra>\", \"locations\": [13, 17, 18, 15, 8, 6, 12, 7, 3, 11, 14, 4, 4, 1, 16, 20, 19, 9, 10, 2, 5], \"name\": \"\", \"z\": [54, 12, 14, 82, 335, 28, 201, 144, 1176, 114, 4, 45, 61, 381, 71, 26, 53, 238, 39, 16, 249], \"type\": \"choropleth\"}], \"name\": \"2020-04-12\"}, {\"data\": [{\"coloraxis\": \"coloraxis\", \"featureidkey\": \"properties.reg_istat_code_num\", \"geo\": \"geo\", \"geojson\": \"https://raw.githubusercontent.com/openpolis/geojson-italy/master/geojson/limits_IT_regions.geojson\", \"hovertemplate\": \"Date=2020-04-13<br>Region=%{location}<br>ICU=%{z}<extra></extra>\", \"locations\": [13, 17, 18, 15, 8, 6, 12, 7, 3, 11, 14, 4, 4, 1, 16, 20, 19, 9, 10, 2, 5], \"name\": \"\", \"z\": [54, 12, 12, 80, 331, 30, 200, 138, 1143, 108, 4, 41, 56, 379, 71, 27, 51, 225, 38, 15, 245], \"type\": \"choropleth\"}], \"name\": \"2020-04-13\"}, {\"data\": [{\"coloraxis\": \"coloraxis\", \"featureidkey\": \"properties.reg_istat_code_num\", \"geo\": \"geo\", \"geojson\": \"https://raw.githubusercontent.com/openpolis/geojson-italy/master/geojson/limits_IT_regions.geojson\", \"hovertemplate\": \"Date=2020-04-14<br>Region=%{location}<br>ICU=%{z}<extra></extra>\", \"locations\": [13, 17, 18, 15, 8, 6, 12, 7, 3, 11, 14, 4, 4, 1, 16, 20, 19, 9, 10, 2, 5], \"name\": \"\", \"z\": [52, 12, 12, 82, 328, 28, 199, 133, 1122, 106, 4, 39, 54, 367, 62, 24, 53, 225, 37, 14, 233], \"type\": \"choropleth\"}], \"name\": \"2020-04-14\"}, {\"data\": [{\"coloraxis\": \"coloraxis\", \"featureidkey\": \"properties.reg_istat_code_num\", \"geo\": \"geo\", \"geojson\": \"https://raw.githubusercontent.com/openpolis/geojson-italy/master/geojson/limits_IT_regions.geojson\", \"hovertemplate\": \"Date=2020-04-15<br>Region=%{location}<br>ICU=%{z}<extra></extra>\", \"locations\": [13, 17, 18, 15, 8, 6, 12, 7, 3, 11, 14, 4, 4, 1, 16, 20, 19, 9, 10, 2, 5], \"name\": \"\", \"z\": [44, 12, 11, 86, 325, 24, 196, 120, 1074, 106, 4, 32, 48, 366, 73, 26, 49, 216, 37, 11, 219], \"type\": \"choropleth\"}], \"name\": \"2020-04-15\"}, {\"data\": [{\"coloraxis\": \"coloraxis\", \"featureidkey\": \"properties.reg_istat_code_num\", \"geo\": \"geo\", \"geojson\": \"https://raw.githubusercontent.com/openpolis/geojson-italy/master/geojson/limits_IT_regions.geojson\", \"hovertemplate\": \"Date=2020-04-16<br>Region=%{location}<br>ICU=%{z}<extra></extra>\", \"locations\": [13, 17, 18, 15, 8, 6, 12, 7, 3, 11, 14, 4, 4, 1, 16, 20, 19, 9, 10, 2, 5], \"name\": \"\", \"z\": [42, 9, 9, 76, 316, 26, 197, 103, 1032, 102, 4, 34, 43, 346, 58, 24, 48, 213, 33, 12, 209], \"type\": \"choropleth\"}], \"name\": \"2020-04-16\"}, {\"data\": [{\"coloraxis\": \"coloraxis\", \"featureidkey\": \"properties.reg_istat_code_num\", \"geo\": \"geo\", \"geojson\": \"https://raw.githubusercontent.com/openpolis/geojson-italy/master/geojson/limits_IT_regions.geojson\", \"hovertemplate\": \"Date=2020-04-17<br>Region=%{location}<br>ICU=%{z}<extra></extra>\", \"locations\": [13, 17, 18, 15, 8, 6, 12, 7, 3, 11, 14, 4, 4, 1, 16, 20, 19, 9, 10, 2, 5], \"name\": \"\", \"z\": [43, 9, 7, 76, 309, 23, 187, 105, 971, 94, 4, 32, 44, 333, 62, 23, 46, 207, 31, 9, 197], \"type\": \"choropleth\"}], \"name\": \"2020-04-17\"}, {\"data\": [{\"coloraxis\": \"coloraxis\", \"featureidkey\": \"properties.reg_istat_code_num\", \"geo\": \"geo\", \"geojson\": \"https://raw.githubusercontent.com/openpolis/geojson-italy/master/geojson/limits_IT_regions.geojson\", \"hovertemplate\": \"Date=2020-04-18<br>Region=%{location}<br>ICU=%{z}<extra></extra>\", \"locations\": [13, 17, 18, 15, 8, 6, 12, 7, 3, 11, 14, 4, 4, 1, 16, 20, 19, 9, 10, 2, 5], \"name\": \"\", \"z\": [41, 8, 7, 76, 296, 27, 186, 105, 947, 88, 4, 28, 42, 323, 60, 23, 42, 198, 32, 10, 190], \"type\": \"choropleth\"}], \"name\": \"2020-04-18\"}, {\"data\": [{\"coloraxis\": \"coloraxis\", \"featureidkey\": \"properties.reg_istat_code_num\", \"geo\": \"geo\", \"geojson\": \"https://raw.githubusercontent.com/openpolis/geojson-italy/master/geojson/limits_IT_regions.geojson\", \"hovertemplate\": \"Date=2020-04-19<br>Region=%{location}<br>ICU=%{z}<extra></extra>\", \"locations\": [13, 17, 18, 15, 8, 6, 12, 7, 3, 11, 14, 4, 4, 1, 16, 20, 19, 9, 10, 2, 5], \"name\": \"\", \"z\": [40, 8, 6, 61, 289, 25, 185, 101, 922, 86, 4, 23, 41, 305, 60, 22, 41, 192, 30, 10, 184], \"type\": \"choropleth\"}], \"name\": \"2020-04-19\"}, {\"data\": [{\"coloraxis\": \"coloraxis\", \"featureidkey\": \"properties.reg_istat_code_num\", \"geo\": \"geo\", \"geojson\": \"https://raw.githubusercontent.com/openpolis/geojson-italy/master/geojson/limits_IT_regions.geojson\", \"hovertemplate\": \"Date=2020-04-20<br>Region=%{location}<br>ICU=%{z}<extra></extra>\", \"locations\": [13, 17, 18, 15, 8, 6, 12, 7, 3, 11, 14, 4, 4, 1, 16, 20, 19, 9, 10, 2, 5], \"name\": \"\", \"z\": [38, 7, 7, 61, 283, 22, 185, 102, 901, 80, 2, 19, 40, 301, 66, 21, 39, 182, 29, 8, 180], \"type\": \"choropleth\"}], \"name\": \"2020-04-20\"}, {\"data\": [{\"coloraxis\": \"coloraxis\", \"featureidkey\": \"properties.reg_istat_code_num\", \"geo\": \"geo\", \"geojson\": \"https://raw.githubusercontent.com/openpolis/geojson-italy/master/geojson/limits_IT_regions.geojson\", \"hovertemplate\": \"Date=2020-04-21<br>Region=%{location}<br>ICU=%{z}<extra></extra>\", \"locations\": [13, 17, 18, 15, 8, 6, 12, 7, 3, 11, 14, 4, 4, 1, 16, 20, 19, 9, 10, 2, 5], \"name\": \"\", \"z\": [35, 7, 7, 58, 282, 21, 184, 94, 851, 78, 2, 20, 38, 293, 65, 21, 37, 171, 22, 8, 177], \"type\": \"choropleth\"}], \"name\": \"2020-04-21\"}, {\"data\": [{\"coloraxis\": \"coloraxis\", \"featureidkey\": \"properties.reg_istat_code_num\", \"geo\": \"geo\", \"geojson\": \"https://raw.githubusercontent.com/openpolis/geojson-italy/master/geojson/limits_IT_regions.geojson\", \"hovertemplate\": \"Date=2020-04-22<br>Region=%{location}<br>ICU=%{z}<extra></extra>\", \"locations\": [13, 17, 18, 15, 8, 6, 12, 7, 3, 11, 14, 4, 4, 1, 16, 20, 19, 9, 10, 2, 5], \"name\": \"\", \"z\": [35, 7, 7, 53, 282, 20, 187, 92, 817, 76, 2, 19, 34, 273, 60, 20, 35, 174, 20, 8, 163], \"type\": \"choropleth\"}], \"name\": \"2020-04-22\"}, {\"data\": [{\"coloraxis\": \"coloraxis\", \"featureidkey\": \"properties.reg_istat_code_num\", \"geo\": \"geo\", \"geojson\": \"https://raw.githubusercontent.com/openpolis/geojson-italy/master/geojson/limits_IT_regions.geojson\", \"hovertemplate\": \"Date=2020-04-23<br>Region=%{location}<br>ICU=%{z}<extra></extra>\", \"locations\": [13, 17, 18, 15, 8, 6, 12, 7, 3, 11, 14, 4, 4, 1, 16, 20, 19, 9, 10, 2, 5], \"name\": \"\", \"z\": [31, 7, 7, 47, 266, 18, 186, 91, 790, 71, 1, 17, 29, 261, 55, 20, 34, 168, 19, 9, 140], \"type\": \"choropleth\"}], \"name\": \"2020-04-23\"}, {\"data\": [{\"coloraxis\": \"coloraxis\", \"featureidkey\": \"properties.reg_istat_code_num\", \"geo\": \"geo\", \"geojson\": \"https://raw.githubusercontent.com/openpolis/geojson-italy/master/geojson/limits_IT_regions.geojson\", \"hovertemplate\": \"Date=2020-04-24<br>Region=%{location}<br>ICU=%{z}<extra></extra>\", \"locations\": [13, 17, 18, 15, 8, 6, 12, 7, 3, 11, 14, 4, 4, 1, 16, 20, 19, 9, 10, 2, 5], \"name\": \"\", \"z\": [28, 7, 7, 44, 264, 16, 184, 87, 756, 61, 1, 16, 28, 257, 51, 19, 32, 159, 19, 7, 130], \"type\": \"choropleth\"}], \"name\": \"2020-04-24\"}, {\"data\": [{\"coloraxis\": \"coloraxis\", \"featureidkey\": \"properties.reg_istat_code_num\", \"geo\": \"geo\", \"geojson\": \"https://raw.githubusercontent.com/openpolis/geojson-italy/master/geojson/limits_IT_regions.geojson\", \"hovertemplate\": \"Date=2020-04-25<br>Region=%{location}<br>ICU=%{z}<extra></extra>\", \"locations\": [13, 17, 18, 15, 8, 6, 12, 7, 3, 11, 14, 4, 4, 1, 16, 20, 19, 9, 10, 2, 5], \"name\": \"\", \"z\": [26, 7, 7, 55, 246, 15, 183, 83, 724, 58, 1, 14, 27, 238, 48, 18, 33, 166, 18, 6, 129], \"type\": \"choropleth\"}], \"name\": \"2020-04-25\"}, {\"data\": [{\"coloraxis\": \"coloraxis\", \"featureidkey\": \"properties.reg_istat_code_num\", \"geo\": \"geo\", \"geojson\": \"https://raw.githubusercontent.com/openpolis/geojson-italy/master/geojson/limits_IT_regions.geojson\", \"hovertemplate\": \"Date=2020-04-26<br>Region=%{location}<br>ICU=%{z}<extra></extra>\", \"locations\": [13, 17, 18, 15, 8, 6, 12, 7, 3, 11, 14, 4, 4, 1, 16, 20, 19, 9, 10, 2, 5], \"name\": \"\", \"z\": [24, 7, 8, 45, 245, 13, 161, 82, 706, 58, 1, 14, 24, 214, 48, 20, 33, 158, 17, 7, 124], \"type\": \"choropleth\"}], \"name\": \"2020-04-26\"}, {\"data\": [{\"coloraxis\": \"coloraxis\", \"featureidkey\": \"properties.reg_istat_code_num\", \"geo\": \"geo\", \"geojson\": \"https://raw.githubusercontent.com/openpolis/geojson-italy/master/geojson/limits_IT_regions.geojson\", \"hovertemplate\": \"Date=2020-04-27<br>Region=%{location}<br>ICU=%{z}<extra></extra>\", \"locations\": [13, 17, 18, 15, 8, 6, 12, 7, 3, 11, 14, 4, 4, 1, 16, 20, 19, 9, 10, 2, 5], \"name\": \"\", \"z\": [23, 7, 6, 37, 247, 13, 143, 83, 680, 58, 1, 16, 23, 214, 51, 19, 35, 154, 16, 7, 123], \"type\": \"choropleth\"}], \"name\": \"2020-04-27\"}, {\"data\": [{\"coloraxis\": \"coloraxis\", \"featureidkey\": \"properties.reg_istat_code_num\", \"geo\": \"geo\", \"geojson\": \"https://raw.githubusercontent.com/openpolis/geojson-italy/master/geojson/limits_IT_regions.geojson\", \"hovertemplate\": \"Date=2020-04-28<br>Region=%{location}<br>ICU=%{z}<extra></extra>\", \"locations\": [13, 17, 18, 15, 8, 6, 12, 7, 3, 11, 14, 4, 4, 1, 16, 20, 19, 9, 10, 2, 5], \"name\": \"\", \"z\": [21, 7, 6, 33, 228, 13, 132, 81, 655, 58, 1, 15, 22, 202, 51, 18, 34, 144, 17, 5, 120], \"type\": \"choropleth\"}], \"name\": \"2020-04-28\"}, {\"data\": [{\"coloraxis\": \"coloraxis\", \"featureidkey\": \"properties.reg_istat_code_num\", \"geo\": \"geo\", \"geojson\": \"https://raw.githubusercontent.com/openpolis/geojson-italy/master/geojson/limits_IT_regions.geojson\", \"hovertemplate\": \"Date=2020-04-29<br>Region=%{location}<br>ICU=%{z}<extra></extra>\", \"locations\": [13, 17, 18, 15, 8, 6, 12, 7, 3, 11, 14, 4, 4, 1, 16, 20, 19, 9, 10, 2, 5], \"name\": \"\", \"z\": [19, 4, 6, 31, 226, 12, 130, 70, 634, 52, 1, 14, 22, 202, 47, 17, 34, 139, 16, 5, 114], \"type\": \"choropleth\"}], \"name\": \"2020-04-29\"}, {\"data\": [{\"coloraxis\": \"coloraxis\", \"featureidkey\": \"properties.reg_istat_code_num\", \"geo\": \"geo\", \"geojson\": \"https://raw.githubusercontent.com/openpolis/geojson-italy/master/geojson/limits_IT_regions.geojson\", \"hovertemplate\": \"Date=2020-04-30<br>Region=%{location}<br>ICU=%{z}<extra></extra>\", \"locations\": [13, 17, 18, 15, 8, 6, 12, 7, 3, 11, 14, 4, 4, 1, 16, 20, 19, 9, 10, 2, 5], \"name\": \"\", \"z\": [16, 4, 6, 29, 206, 11, 115, 69, 605, 48, 1, 13, 21, 199, 42, 16, 33, 126, 16, 4, 114], \"type\": \"choropleth\"}], \"name\": \"2020-04-30\"}, {\"data\": [{\"coloraxis\": \"coloraxis\", \"featureidkey\": \"properties.reg_istat_code_num\", \"geo\": \"geo\", \"geojson\": \"https://raw.githubusercontent.com/openpolis/geojson-italy/master/geojson/limits_IT_regions.geojson\", \"hovertemplate\": \"Date=2020-05-01<br>Region=%{location}<br>ICU=%{z}<extra></extra>\", \"locations\": [13, 17, 18, 15, 8, 6, 12, 7, 3, 11, 14, 4, 4, 1, 16, 20, 19, 9, 10, 2, 5], \"name\": \"\", \"z\": [16, 4, 3, 29, 197, 6, 105, 68, 563, 44, 1, 11, 19, 181, 39, 12, 30, 124, 13, 3, 110], \"type\": \"choropleth\"}], \"name\": \"2020-05-01\"}, {\"data\": [{\"coloraxis\": \"coloraxis\", \"featureidkey\": \"properties.reg_istat_code_num\", \"geo\": \"geo\", \"geojson\": \"https://raw.githubusercontent.com/openpolis/geojson-italy/master/geojson/limits_IT_regions.geojson\", \"hovertemplate\": \"Date=2020-05-02<br>Region=%{location}<br>ICU=%{z}<extra></extra>\", \"locations\": [13, 17, 18, 15, 8, 6, 12, 7, 3, 11, 14, 4, 4, 1, 16, 20, 19, 9, 10, 2, 5], \"name\": \"\", \"z\": [16, 4, 4, 27, 196, 5, 96, 68, 545, 46, 1, 10, 19, 178, 39, 13, 30, 118, 13, 3, 108], \"type\": \"choropleth\"}], \"name\": \"2020-05-02\"}, {\"data\": [{\"coloraxis\": \"coloraxis\", \"featureidkey\": \"properties.reg_istat_code_num\", \"geo\": \"geo\", \"geojson\": \"https://raw.githubusercontent.com/openpolis/geojson-italy/master/geojson/limits_IT_regions.geojson\", \"hovertemplate\": \"Date=2020-05-03<br>Region=%{location}<br>ICU=%{z}<extra></extra>\", \"locations\": [13, 17, 18, 15, 8, 6, 12, 7, 3, 11, 14, 4, 4, 1, 16, 20, 19, 9, 10, 2, 5], \"name\": \"\", \"z\": [16, 3, 4, 30, 197, 6, 95, 68, 532, 43, 1, 11, 17, 169, 40, 10, 29, 112, 13, 2, 103], \"type\": \"choropleth\"}], \"name\": \"2020-05-03\"}, {\"data\": [{\"coloraxis\": \"coloraxis\", \"featureidkey\": \"properties.reg_istat_code_num\", \"geo\": \"geo\", \"geojson\": \"https://raw.githubusercontent.com/openpolis/geojson-italy/master/geojson/limits_IT_regions.geojson\", \"hovertemplate\": \"Date=2020-05-04<br>Region=%{location}<br>ICU=%{z}<extra></extra>\", \"locations\": [13, 17, 18, 15, 8, 6, 12, 7, 3, 11, 14, 4, 4, 1, 16, 20, 19, 9, 10, 2, 5], \"name\": \"\", \"z\": [15, 3, 4, 24, 199, 4, 95, 72, 532, 44, 1, 10, 17, 161, 39, 9, 27, 107, 13, 2, 101], \"type\": \"choropleth\"}], \"name\": \"2020-05-04\"}, {\"data\": [{\"coloraxis\": \"coloraxis\", \"featureidkey\": \"properties.reg_istat_code_num\", \"geo\": \"geo\", \"geojson\": \"https://raw.githubusercontent.com/openpolis/geojson-italy/master/geojson/limits_IT_regions.geojson\", \"hovertemplate\": \"Date=2020-05-05<br>Region=%{location}<br>ICU=%{z}<extra></extra>\", \"locations\": [13, 17, 18, 15, 8, 6, 12, 7, 3, 11, 14, 4, 4, 1, 16, 20, 19, 9, 10, 2, 5], \"name\": \"\", \"z\": [11, 3, 4, 25, 191, 4, 91, 68, 509, 42, 1, 11, 15, 155, 39, 9, 26, 111, 11, 3, 98], \"type\": \"choropleth\"}], \"name\": \"2020-05-05\"}, {\"data\": [{\"coloraxis\": \"coloraxis\", \"featureidkey\": \"properties.reg_istat_code_num\", \"geo\": \"geo\", \"geojson\": \"https://raw.githubusercontent.com/openpolis/geojson-italy/master/geojson/limits_IT_regions.geojson\", \"hovertemplate\": \"Date=2020-05-06<br>Region=%{location}<br>ICU=%{z}<extra></extra>\", \"locations\": [13, 17, 18, 15, 8, 6, 12, 7, 3, 11, 14, 4, 4, 1, 16, 20, 19, 9, 10, 2, 5], \"name\": \"\", \"z\": [11, 3, 3, 25, 176, 3, 91, 59, 480, 42, 0, 11, 13, 150, 36, 11, 25, 92, 9, 3, 90], \"type\": \"choropleth\"}], \"name\": \"2020-05-06\"}, {\"data\": [{\"coloraxis\": \"coloraxis\", \"featureidkey\": \"properties.reg_istat_code_num\", \"geo\": \"geo\", \"geojson\": \"https://raw.githubusercontent.com/openpolis/geojson-italy/master/geojson/limits_IT_regions.geojson\", \"hovertemplate\": \"Date=2020-05-07<br>Region=%{location}<br>ICU=%{z}<extra></extra>\", \"locations\": [13, 17, 18, 15, 8, 6, 12, 7, 3, 11, 14, 4, 4, 1, 16, 20, 19, 9, 10, 2, 5], \"name\": \"\", \"z\": [12, 2, 2, 27, 173, 2, 89, 57, 480, 41, 0, 11, 11, 150, 35, 9, 21, 91, 9, 2, 87], \"type\": \"choropleth\"}], \"name\": \"2020-05-07\"}, {\"data\": [{\"coloraxis\": \"coloraxis\", \"featureidkey\": \"properties.reg_istat_code_num\", \"geo\": \"geo\", \"geojson\": \"https://raw.githubusercontent.com/openpolis/geojson-italy/master/geojson/limits_IT_regions.geojson\", \"hovertemplate\": \"Date=2020-05-08<br>Region=%{location}<br>ICU=%{z}<extra></extra>\", \"locations\": [13, 17, 18, 15, 8, 6, 12, 7, 3, 11, 14, 4, 4, 1, 16, 20, 19, 9, 10, 2, 5], \"name\": \"\", \"z\": [10, 2, 2, 28, 163, 2, 84, 46, 400, 38, 0, 9, 11, 140, 33, 10, 19, 84, 6, 2, 79], \"type\": \"choropleth\"}], \"name\": \"2020-05-08\"}, {\"data\": [{\"coloraxis\": \"coloraxis\", \"featureidkey\": \"properties.reg_istat_code_num\", \"geo\": \"geo\", \"geojson\": \"https://raw.githubusercontent.com/openpolis/geojson-italy/master/geojson/limits_IT_regions.geojson\", \"hovertemplate\": \"Date=2020-05-09<br>Region=%{location}<br>ICU=%{z}<extra></extra>\", \"locations\": [13, 17, 18, 15, 8, 6, 12, 7, 3, 11, 14, 4, 4, 1, 16, 20, 19, 9, 10, 2, 5], \"name\": \"\", \"z\": [10, 1, 2, 26, 155, 3, 82, 42, 330, 32, 0, 9, 10, 143, 33, 11, 17, 79, 6, 3, 40], \"type\": \"choropleth\"}], \"name\": \"2020-05-09\"}, {\"data\": [{\"coloraxis\": \"coloraxis\", \"featureidkey\": \"properties.reg_istat_code_num\", \"geo\": \"geo\", \"geojson\": \"https://raw.githubusercontent.com/openpolis/geojson-italy/master/geojson/limits_IT_regions.geojson\", \"hovertemplate\": \"Date=2020-05-10<br>Region=%{location}<br>ICU=%{z}<extra></extra>\", \"locations\": [13, 17, 18, 15, 8, 6, 12, 7, 3, 11, 14, 4, 4, 1, 16, 20, 19, 9, 10, 2, 5], \"name\": \"\", \"z\": [10, 1, 2, 20, 150, 3, 84, 41, 348, 30, 0, 8, 10, 137, 34, 10, 16, 78, 6, 2, 37], \"type\": \"choropleth\"}], \"name\": \"2020-05-10\"}, {\"data\": [{\"coloraxis\": \"coloraxis\", \"featureidkey\": \"properties.reg_istat_code_num\", \"geo\": \"geo\", \"geojson\": \"https://raw.githubusercontent.com/openpolis/geojson-italy/master/geojson/limits_IT_regions.geojson\", \"hovertemplate\": \"Date=2020-05-11<br>Region=%{location}<br>ICU=%{z}<extra></extra>\", \"locations\": [13, 17, 18, 15, 8, 6, 12, 7, 3, 11, 14, 4, 4, 1, 16, 20, 19, 9, 10, 2, 5], \"name\": \"\", \"z\": [9, 1, 1, 23, 141, 3, 83, 38, 341, 28, 0, 7, 11, 135, 32, 10, 16, 77, 4, 1, 38], \"type\": \"choropleth\"}], \"name\": \"2020-05-11\"}, {\"data\": [{\"coloraxis\": \"coloraxis\", \"featureidkey\": \"properties.reg_istat_code_num\", \"geo\": \"geo\", \"geojson\": \"https://raw.githubusercontent.com/openpolis/geojson-italy/master/geojson/limits_IT_regions.geojson\", \"hovertemplate\": \"Date=2020-05-12<br>Region=%{location}<br>ICU=%{z}<extra></extra>\", \"locations\": [13, 17, 18, 15, 8, 6, 12, 7, 3, 11, 14, 4, 4, 1, 16, 20, 19, 9, 10, 2, 5], \"name\": \"\", \"z\": [8, 1, 1, 20, 136, 2, 84, 35, 322, 24, 1, 7, 9, 136, 31, 11, 15, 72, 4, 0, 33], \"type\": \"choropleth\"}], \"name\": \"2020-05-12\"}, {\"data\": [{\"coloraxis\": \"coloraxis\", \"featureidkey\": \"properties.reg_istat_code_num\", \"geo\": \"geo\", \"geojson\": \"https://raw.githubusercontent.com/openpolis/geojson-italy/master/geojson/limits_IT_regions.geojson\", \"hovertemplate\": \"Date=2020-05-13<br>Region=%{location}<br>ICU=%{z}<extra></extra>\", \"locations\": [13, 17, 18, 15, 8, 6, 12, 7, 3, 11, 14, 4, 4, 1, 16, 20, 19, 9, 10, 2, 5], \"name\": \"\", \"z\": [7, 1, 1, 19, 123, 2, 83, 35, 307, 20, 1, 7, 9, 122, 27, 10, 13, 72, 4, 0, 30], \"type\": \"choropleth\"}], \"name\": \"2020-05-13\"}, {\"data\": [{\"coloraxis\": \"coloraxis\", \"featureidkey\": \"properties.reg_istat_code_num\", \"geo\": \"geo\", \"geojson\": \"https://raw.githubusercontent.com/openpolis/geojson-italy/master/geojson/limits_IT_regions.geojson\", \"hovertemplate\": \"Date=2020-05-14<br>Region=%{location}<br>ICU=%{z}<extra></extra>\", \"locations\": [13, 17, 18, 15, 8, 6, 12, 7, 3, 11, 14, 4, 4, 1, 16, 20, 19, 9, 10, 2, 5], \"name\": \"\", \"z\": [6, 1, 2, 19, 122, 2, 79, 35, 297, 18, 1, 7, 9, 116, 24, 10, 12, 68, 1, 0, 26], \"type\": \"choropleth\"}], \"name\": \"2020-05-14\"}, {\"data\": [{\"coloraxis\": \"coloraxis\", \"featureidkey\": \"properties.reg_istat_code_num\", \"geo\": \"geo\", \"geojson\": \"https://raw.githubusercontent.com/openpolis/geojson-italy/master/geojson/limits_IT_regions.geojson\", \"hovertemplate\": \"Date=2020-05-15<br>Region=%{location}<br>ICU=%{z}<extra></extra>\", \"locations\": [13, 17, 18, 15, 8, 6, 12, 7, 3, 11, 14, 4, 4, 1, 16, 20, 19, 9, 10, 2, 5], \"name\": \"\", \"z\": [6, 1, 2, 17, 114, 3, 79, 31, 276, 18, 2, 5, 9, 108, 23, 10, 11, 67, 2, 0, 24], \"type\": \"choropleth\"}], \"name\": \"2020-05-15\"}, {\"data\": [{\"coloraxis\": \"coloraxis\", \"featureidkey\": \"properties.reg_istat_code_num\", \"geo\": \"geo\", \"geojson\": \"https://raw.githubusercontent.com/openpolis/geojson-italy/master/geojson/limits_IT_regions.geojson\", \"hovertemplate\": \"Date=2020-05-16<br>Region=%{location}<br>ICU=%{z}<extra></extra>\", \"locations\": [13, 17, 18, 15, 8, 6, 12, 7, 3, 11, 14, 4, 4, 1, 16, 20, 19, 9, 10, 2, 5], \"name\": \"\", \"z\": [7, 1, 2, 16, 112, 3, 76, 26, 268, 17, 2, 5, 8, 100, 22, 10, 12, 66, 2, 0, 20], \"type\": \"choropleth\"}], \"name\": \"2020-05-16\"}, {\"data\": [{\"coloraxis\": \"coloraxis\", \"featureidkey\": \"properties.reg_istat_code_num\", \"geo\": \"geo\", \"geojson\": \"https://raw.githubusercontent.com/openpolis/geojson-italy/master/geojson/limits_IT_regions.geojson\", \"hovertemplate\": \"Date=2020-05-17<br>Region=%{location}<br>ICU=%{z}<extra></extra>\", \"locations\": [13, 17, 18, 15, 8, 6, 12, 7, 3, 11, 14, 4, 4, 1, 16, 20, 19, 9, 10, 2, 5], \"name\": \"\", \"z\": [6, 1, 2, 17, 111, 3, 74, 24, 255, 18, 2, 5, 8, 101, 21, 10, 13, 67, 2, 0, 22], \"type\": \"choropleth\"}], \"name\": \"2020-05-17\"}, {\"data\": [{\"coloraxis\": \"coloraxis\", \"featureidkey\": \"properties.reg_istat_code_num\", \"geo\": \"geo\", \"geojson\": \"https://raw.githubusercontent.com/openpolis/geojson-italy/master/geojson/limits_IT_regions.geojson\", \"hovertemplate\": \"Date=2020-05-18<br>Region=%{location}<br>ICU=%{z}<extra></extra>\", \"locations\": [13, 17, 18, 15, 8, 6, 12, 7, 3, 11, 14, 4, 4, 1, 16, 20, 19, 9, 10, 2, 5], \"name\": \"\", \"z\": [6, 1, 2, 17, 105, 3, 73, 23, 252, 17, 2, 6, 8, 99, 22, 10, 13, 66, 2, 0, 22], \"type\": \"choropleth\"}], \"name\": \"2020-05-18\"}, {\"data\": [{\"coloraxis\": \"coloraxis\", \"featureidkey\": \"properties.reg_istat_code_num\", \"geo\": \"geo\", \"geojson\": \"https://raw.githubusercontent.com/openpolis/geojson-italy/master/geojson/limits_IT_regions.geojson\", \"hovertemplate\": \"Date=2020-05-19<br>Region=%{location}<br>ICU=%{z}<extra></extra>\", \"locations\": [13, 17, 18, 15, 8, 6, 12, 7, 3, 11, 14, 4, 4, 1, 16, 20, 19, 9, 10, 2, 5], \"name\": \"\", \"z\": [6, 1, 2, 17, 99, 2, 74, 22, 244, 17, 2, 6, 8, 96, 22, 9, 12, 56, 2, 1, 18], \"type\": \"choropleth\"}], \"name\": \"2020-05-19\"}, {\"data\": [{\"coloraxis\": \"coloraxis\", \"featureidkey\": \"properties.reg_istat_code_num\", \"geo\": \"geo\", \"geojson\": \"https://raw.githubusercontent.com/openpolis/geojson-italy/master/geojson/limits_IT_regions.geojson\", \"hovertemplate\": \"Date=2020-05-20<br>Region=%{location}<br>ICU=%{z}<extra></extra>\", \"locations\": [13, 17, 18, 15, 8, 6, 12, 7, 3, 11, 14, 4, 4, 1, 16, 20, 19, 9, 10, 2, 5], \"name\": \"\", \"z\": [6, 1, 1, 12, 96, 2, 74, 22, 231, 16, 2, 5, 6, 96, 21, 10, 11, 45, 2, 1, 16], \"type\": \"choropleth\"}], \"name\": \"2020-05-20\"}, {\"data\": [{\"coloraxis\": \"coloraxis\", \"featureidkey\": \"properties.reg_istat_code_num\", \"geo\": \"geo\", \"geojson\": \"https://raw.githubusercontent.com/openpolis/geojson-italy/master/geojson/limits_IT_regions.geojson\", \"hovertemplate\": \"Date=2020-05-21<br>Region=%{location}<br>ICU=%{z}<extra></extra>\", \"locations\": [13, 17, 18, 15, 8, 6, 12, 7, 3, 11, 14, 4, 4, 1, 16, 20, 19, 9, 10, 2, 5], \"name\": \"\", \"z\": [5, 1, 1, 9, 92, 2, 68, 22, 226, 16, 2, 5, 6, 83, 20, 12, 11, 41, 2, 1, 15], \"type\": \"choropleth\"}], \"name\": \"2020-05-21\"}, {\"data\": [{\"coloraxis\": \"coloraxis\", \"featureidkey\": \"properties.reg_istat_code_num\", \"geo\": \"geo\", \"geojson\": \"https://raw.githubusercontent.com/openpolis/geojson-italy/master/geojson/limits_IT_regions.geojson\", \"hovertemplate\": \"Date=2020-05-22<br>Region=%{location}<br>ICU=%{z}<extra></extra>\", \"locations\": [13, 17, 18, 15, 8, 6, 12, 7, 3, 11, 14, 4, 4, 1, 16, 20, 19, 9, 10, 2, 5], \"name\": \"\", \"z\": [4, 1, 1, 9, 89, 2, 67, 19, 207, 15, 2, 5, 4, 79, 17, 6, 10, 42, 2, 2, 12], \"type\": \"choropleth\"}], \"name\": \"2020-05-22\"}, {\"data\": [{\"coloraxis\": \"coloraxis\", \"featureidkey\": \"properties.reg_istat_code_num\", \"geo\": \"geo\", \"geojson\": \"https://raw.githubusercontent.com/openpolis/geojson-italy/master/geojson/limits_IT_regions.geojson\", \"hovertemplate\": \"Date=2020-05-23<br>Region=%{location}<br>ICU=%{z}<extra></extra>\", \"locations\": [13, 17, 18, 15, 8, 6, 12, 7, 3, 11, 14, 4, 4, 1, 16, 20, 19, 9, 10, 2, 5], \"name\": \"\", \"z\": [4, 1, 1, 10, 84, 1, 60, 20, 199, 15, 2, 5, 4, 76, 17, 6, 9, 40, 2, 2, 14], \"type\": \"choropleth\"}], \"name\": \"2020-05-23\"}, {\"data\": [{\"coloraxis\": \"coloraxis\", \"featureidkey\": \"properties.reg_istat_code_num\", \"geo\": \"geo\", \"geojson\": \"https://raw.githubusercontent.com/openpolis/geojson-italy/master/geojson/limits_IT_regions.geojson\", \"hovertemplate\": \"Date=2020-05-24<br>Region=%{location}<br>ICU=%{z}<extra></extra>\", \"locations\": [13, 17, 18, 15, 8, 6, 12, 7, 3, 11, 14, 4, 4, 1, 16, 20, 19, 9, 10, 2, 5], \"name\": \"\", \"z\": [3, 1, 1, 8, 83, 1, 61, 18, 197, 13, 2, 5, 4, 75, 17, 3, 9, 38, 2, 1, 11], \"type\": \"choropleth\"}], \"name\": \"2020-05-24\"}, {\"data\": [{\"coloraxis\": \"coloraxis\", \"featureidkey\": \"properties.reg_istat_code_num\", \"geo\": \"geo\", \"geojson\": \"https://raw.githubusercontent.com/openpolis/geojson-italy/master/geojson/limits_IT_regions.geojson\", \"hovertemplate\": \"Date=2020-05-25<br>Region=%{location}<br>ICU=%{z}<extra></extra>\", \"locations\": [13, 17, 18, 15, 8, 6, 12, 7, 3, 11, 14, 4, 4, 1, 16, 20, 19, 9, 10, 2, 5], \"name\": \"\", \"z\": [3, 0, 1, 7, 82, 1, 60, 18, 196, 13, 2, 5, 4, 72, 15, 3, 9, 37, 2, 1, 10], \"type\": \"choropleth\"}], \"name\": \"2020-05-25\"}, {\"data\": [{\"coloraxis\": \"coloraxis\", \"featureidkey\": \"properties.reg_istat_code_num\", \"geo\": \"geo\", \"geojson\": \"https://raw.githubusercontent.com/openpolis/geojson-italy/master/geojson/limits_IT_regions.geojson\", \"hovertemplate\": \"Date=2020-05-26<br>Region=%{location}<br>ICU=%{z}<extra></extra>\", \"locations\": [13, 17, 18, 15, 8, 6, 12, 7, 3, 11, 14, 4, 4, 1, 16, 20, 19, 9, 10, 2, 5], \"name\": \"\", \"z\": [3, 0, 1, 5, 80, 1, 59, 19, 183, 13, 2, 5, 3, 70, 17, 2, 10, 34, 2, 1, 11], \"type\": \"choropleth\"}], \"name\": \"2020-05-26\"}, {\"data\": [{\"coloraxis\": \"coloraxis\", \"featureidkey\": \"properties.reg_istat_code_num\", \"geo\": \"geo\", \"geojson\": \"https://raw.githubusercontent.com/openpolis/geojson-italy/master/geojson/limits_IT_regions.geojson\", \"hovertemplate\": \"Date=2020-05-27<br>Region=%{location}<br>ICU=%{z}<extra></extra>\", \"locations\": [13, 17, 18, 15, 8, 6, 12, 7, 3, 11, 14, 4, 4, 1, 16, 20, 19, 9, 10, 2, 5], \"name\": \"\", \"z\": [3, 0, 1, 6, 78, 1, 65, 14, 175, 13, 2, 5, 2, 68, 17, 2, 10, 31, 2, 1, 9], \"type\": \"choropleth\"}], \"name\": \"2020-05-27\"}, {\"data\": [{\"coloraxis\": \"coloraxis\", \"featureidkey\": \"properties.reg_istat_code_num\", \"geo\": \"geo\", \"geojson\": \"https://raw.githubusercontent.com/openpolis/geojson-italy/master/geojson/limits_IT_regions.geojson\", \"hovertemplate\": \"Date=2020-05-28<br>Region=%{location}<br>ICU=%{z}<extra></extra>\", \"locations\": [13, 17, 18, 15, 8, 6, 12, 7, 3, 11, 14, 4, 4, 1, 16, 20, 19, 9, 10, 2, 5], \"name\": \"\", \"z\": [3, 0, 1, 6, 77, 1, 64, 13, 173, 13, 2, 5, 3, 64, 16, 2, 8, 27, 2, 0, 9], \"type\": \"choropleth\"}], \"name\": \"2020-05-28\"}, {\"data\": [{\"coloraxis\": \"coloraxis\", \"featureidkey\": \"properties.reg_istat_code_num\", \"geo\": \"geo\", \"geojson\": \"https://raw.githubusercontent.com/openpolis/geojson-italy/master/geojson/limits_IT_regions.geojson\", \"hovertemplate\": \"Date=2020-05-29<br>Region=%{location}<br>ICU=%{z}<extra></extra>\", \"locations\": [13, 17, 18, 15, 8, 6, 12, 7, 3, 11, 14, 4, 4, 1, 16, 20, 19, 9, 10, 2, 5], \"name\": \"\", \"z\": [3, 0, 1, 7, 76, 2, 59, 13, 173, 9, 2, 5, 3, 61, 12, 2, 7, 31, 2, 0, 7], \"type\": \"choropleth\"}], \"name\": \"2020-05-29\"}, {\"data\": [{\"coloraxis\": \"coloraxis\", \"featureidkey\": \"properties.reg_istat_code_num\", \"geo\": \"geo\", \"geojson\": \"https://raw.githubusercontent.com/openpolis/geojson-italy/master/geojson/limits_IT_regions.geojson\", \"hovertemplate\": \"Date=2020-05-30<br>Region=%{location}<br>ICU=%{z}<extra></extra>\", \"locations\": [13, 17, 18, 15, 8, 6, 12, 7, 3, 11, 14, 4, 4, 1, 16, 20, 19, 9, 10, 2, 5], \"name\": \"\", \"z\": [3, 0, 1, 7, 65, 1, 58, 9, 172, 9, 2, 4, 3, 60, 12, 2, 7, 27, 1, 0, 7], \"type\": \"choropleth\"}], \"name\": \"2020-05-30\"}, {\"data\": [{\"coloraxis\": \"coloraxis\", \"featureidkey\": \"properties.reg_istat_code_num\", \"geo\": \"geo\", \"geojson\": \"https://raw.githubusercontent.com/openpolis/geojson-italy/master/geojson/limits_IT_regions.geojson\", \"hovertemplate\": \"Date=2020-05-31<br>Region=%{location}<br>ICU=%{z}<extra></extra>\", \"locations\": [13, 17, 18, 15, 8, 6, 12, 7, 3, 11, 14, 4, 4, 1, 16, 20, 19, 9, 10, 2, 5], \"name\": \"\", \"z\": [4, 0, 1, 5, 57, 1, 57, 8, 170, 9, 2, 4, 3, 58, 11, 2, 7, 28, 2, 0, 6], \"type\": \"choropleth\"}], \"name\": \"2020-05-31\"}, {\"data\": [{\"coloraxis\": \"coloraxis\", \"featureidkey\": \"properties.reg_istat_code_num\", \"geo\": \"geo\", \"geojson\": \"https://raw.githubusercontent.com/openpolis/geojson-italy/master/geojson/limits_IT_regions.geojson\", \"hovertemplate\": \"Date=2020-06-01<br>Region=%{location}<br>ICU=%{z}<extra></extra>\", \"locations\": [13, 17, 18, 15, 8, 6, 12, 7, 3, 11, 14, 4, 4, 1, 16, 20, 19, 9, 10, 2, 5], \"name\": \"\", \"z\": [6, 0, 1, 6, 54, 2, 56, 7, 167, 9, 2, 4, 3, 54, 11, 1, 8, 25, 2, 0, 6], \"type\": \"choropleth\"}], \"name\": \"2020-06-01\"}, {\"data\": [{\"coloraxis\": \"coloraxis\", \"featureidkey\": \"properties.reg_istat_code_num\", \"geo\": \"geo\", \"geojson\": \"https://raw.githubusercontent.com/openpolis/geojson-italy/master/geojson/limits_IT_regions.geojson\", \"hovertemplate\": \"Date=2020-06-02<br>Region=%{location}<br>ICU=%{z}<extra></extra>\", \"locations\": [13, 17, 18, 15, 8, 6, 12, 7, 3, 11, 14, 4, 4, 1, 16, 20, 19, 9, 10, 2, 5], \"name\": \"\", \"z\": [6, 0, 1, 7, 50, 2, 56, 7, 166, 9, 2, 3, 2, 46, 11, 1, 7, 25, 2, 0, 5], \"type\": \"choropleth\"}], \"name\": \"2020-06-02\"}, {\"data\": [{\"coloraxis\": \"coloraxis\", \"featureidkey\": \"properties.reg_istat_code_num\", \"geo\": \"geo\", \"geojson\": \"https://raw.githubusercontent.com/openpolis/geojson-italy/master/geojson/limits_IT_regions.geojson\", \"hovertemplate\": \"Date=2020-06-03<br>Region=%{location}<br>ICU=%{z}<extra></extra>\", \"locations\": [13, 17, 18, 15, 8, 6, 12, 7, 3, 11, 14, 4, 4, 1, 16, 20, 19, 9, 10, 2, 5], \"name\": \"\", \"z\": [3, 0, 0, 4, 50, 2, 51, 6, 131, 8, 2, 3, 2, 44, 10, 1, 7, 25, 2, 0, 2], \"type\": \"choropleth\"}], \"name\": \"2020-06-03\"}, {\"data\": [{\"coloraxis\": \"coloraxis\", \"featureidkey\": \"properties.reg_istat_code_num\", \"geo\": \"geo\", \"geojson\": \"https://raw.githubusercontent.com/openpolis/geojson-italy/master/geojson/limits_IT_regions.geojson\", \"hovertemplate\": \"Date=2020-06-04<br>Region=%{location}<br>ICU=%{z}<extra></extra>\", \"locations\": [13, 17, 18, 15, 8, 6, 12, 7, 3, 11, 14, 4, 4, 1, 16, 20, 19, 9, 10, 2, 5], \"name\": \"\", \"z\": [3, 0, 0, 5, 49, 2, 51, 6, 125, 5, 2, 2, 1, 43, 9, 1, 6, 24, 2, 0, 2], \"type\": \"choropleth\"}], \"name\": \"2020-06-04\"}, {\"data\": [{\"coloraxis\": \"coloraxis\", \"featureidkey\": \"properties.reg_istat_code_num\", \"geo\": \"geo\", \"geojson\": \"https://raw.githubusercontent.com/openpolis/geojson-italy/master/geojson/limits_IT_regions.geojson\", \"hovertemplate\": \"Date=2020-06-05<br>Region=%{location}<br>ICU=%{z}<extra></extra>\", \"locations\": [13, 17, 18, 15, 8, 6, 12, 7, 3, 11, 14, 4, 4, 1, 16, 20, 19, 9, 10, 2, 5], \"name\": \"\", \"z\": [4, 0, 0, 7, 38, 2, 51, 6, 120, 5, 2, 2, 1, 40, 5, 0, 6, 23, 2, 0, 2], \"type\": \"choropleth\"}], \"name\": \"2020-06-05\"}, {\"data\": [{\"coloraxis\": \"coloraxis\", \"featureidkey\": \"properties.reg_istat_code_num\", \"geo\": \"geo\", \"geojson\": \"https://raw.githubusercontent.com/openpolis/geojson-italy/master/geojson/limits_IT_regions.geojson\", \"hovertemplate\": \"Date=2020-06-06<br>Region=%{location}<br>ICU=%{z}<extra></extra>\", \"locations\": [13, 17, 18, 15, 8, 6, 12, 7, 3, 11, 14, 4, 4, 1, 16, 20, 19, 9, 10, 2, 5], \"name\": \"\", \"z\": [3, 0, 0, 7, 35, 2, 49, 4, 110, 3, 2, 2, 1, 37, 4, 1, 7, 22, 2, 0, 2], \"type\": \"choropleth\"}], \"name\": \"2020-06-06\"}, {\"data\": [{\"coloraxis\": \"coloraxis\", \"featureidkey\": \"properties.reg_istat_code_num\", \"geo\": \"geo\", \"geojson\": \"https://raw.githubusercontent.com/openpolis/geojson-italy/master/geojson/limits_IT_regions.geojson\", \"hovertemplate\": \"Date=2020-06-07<br>Region=%{location}<br>ICU=%{z}<extra></extra>\", \"locations\": [13, 17, 18, 15, 8, 6, 12, 7, 3, 11, 14, 4, 4, 1, 16, 20, 19, 9, 10, 2, 5], \"name\": \"\", \"z\": [4, 0, 0, 6, 32, 4, 49, 5, 107, 2, 2, 2, 1, 38, 4, 1, 7, 20, 2, 0, 1], \"type\": \"choropleth\"}], \"name\": \"2020-06-07\"}, {\"data\": [{\"coloraxis\": \"coloraxis\", \"featureidkey\": \"properties.reg_istat_code_num\", \"geo\": \"geo\", \"geojson\": \"https://raw.githubusercontent.com/openpolis/geojson-italy/master/geojson/limits_IT_regions.geojson\", \"hovertemplate\": \"Date=2020-06-08<br>Region=%{location}<br>ICU=%{z}<extra></extra>\", \"locations\": [13, 17, 18, 15, 8, 6, 12, 7, 3, 11, 14, 4, 4, 1, 16, 20, 19, 9, 10, 2, 5], \"name\": \"\", \"z\": [4, 0, 0, 6, 31, 3, 49, 5, 107, 2, 2, 2, 1, 36, 4, 1, 7, 20, 2, 0, 1], \"type\": \"choropleth\"}], \"name\": \"2020-06-08\"}, {\"data\": [{\"coloraxis\": \"coloraxis\", \"featureidkey\": \"properties.reg_istat_code_num\", \"geo\": \"geo\", \"geojson\": \"https://raw.githubusercontent.com/openpolis/geojson-italy/master/geojson/limits_IT_regions.geojson\", \"hovertemplate\": \"Date=2020-06-09<br>Region=%{location}<br>ICU=%{z}<extra></extra>\", \"locations\": [13, 17, 18, 15, 8, 6, 12, 7, 3, 11, 14, 4, 4, 1, 16, 20, 19, 9, 10, 2, 5], \"name\": \"\", \"z\": [4, 0, 0, 3, 31, 2, 47, 5, 96, 0, 2, 2, 1, 39, 5, 1, 6, 17, 2, 0, 0], \"type\": \"choropleth\"}], \"name\": \"2020-06-09\"}, {\"data\": [{\"coloraxis\": \"coloraxis\", \"featureidkey\": \"properties.reg_istat_code_num\", \"geo\": \"geo\", \"geojson\": \"https://raw.githubusercontent.com/openpolis/geojson-italy/master/geojson/limits_IT_regions.geojson\", \"hovertemplate\": \"Date=2020-06-10<br>Region=%{location}<br>ICU=%{z}<extra></extra>\", \"locations\": [13, 17, 18, 15, 8, 6, 12, 7, 3, 11, 14, 4, 4, 1, 16, 20, 19, 9, 10, 2, 5], \"name\": \"\", \"z\": [5, 0, 0, 2, 25, 1, 47, 3, 98, 0, 2, 2, 1, 35, 4, 1, 6, 15, 2, 0, 0], \"type\": \"choropleth\"}], \"name\": \"2020-06-10\"}, {\"data\": [{\"coloraxis\": \"coloraxis\", \"featureidkey\": \"properties.reg_istat_code_num\", \"geo\": \"geo\", \"geojson\": \"https://raw.githubusercontent.com/openpolis/geojson-italy/master/geojson/limits_IT_regions.geojson\", \"hovertemplate\": \"Date=2020-06-11<br>Region=%{location}<br>ICU=%{z}<extra></extra>\", \"locations\": [13, 17, 18, 15, 8, 6, 12, 7, 3, 11, 14, 4, 4, 1, 16, 20, 19, 9, 10, 2, 5], \"name\": \"\", \"z\": [5, 1, 1, 2, 18, 0, 46, 3, 97, 0, 1, 2, 1, 33, 3, 1, 5, 15, 2, 0, 0], \"type\": \"choropleth\"}], \"name\": \"2020-06-11\"}, {\"data\": [{\"coloraxis\": \"coloraxis\", \"featureidkey\": \"properties.reg_istat_code_num\", \"geo\": \"geo\", \"geojson\": \"https://raw.githubusercontent.com/openpolis/geojson-italy/master/geojson/limits_IT_regions.geojson\", \"hovertemplate\": \"Date=2020-06-12<br>Region=%{location}<br>ICU=%{z}<extra></extra>\", \"locations\": [13, 17, 18, 15, 8, 6, 12, 7, 3, 11, 14, 4, 4, 1, 16, 20, 19, 9, 10, 2, 5], \"name\": \"\", \"z\": [4, 1, 1, 2, 17, 0, 47, 3, 97, 0, 1, 2, 1, 30, 2, 1, 3, 14, 1, 0, 0], \"type\": \"choropleth\"}], \"name\": \"2020-06-12\"}, {\"data\": [{\"coloraxis\": \"coloraxis\", \"featureidkey\": \"properties.reg_istat_code_num\", \"geo\": \"geo\", \"geojson\": \"https://raw.githubusercontent.com/openpolis/geojson-italy/master/geojson/limits_IT_regions.geojson\", \"hovertemplate\": \"Date=2020-06-13<br>Region=%{location}<br>ICU=%{z}<extra></extra>\", \"locations\": [13, 17, 18, 15, 8, 6, 12, 7, 3, 11, 14, 4, 4, 1, 16, 20, 19, 9, 10, 2, 5], \"name\": \"\", \"z\": [4, 1, 1, 2, 15, 0, 45, 3, 96, 0, 0, 2, 1, 27, 2, 0, 3, 16, 1, 0, 1], \"type\": \"choropleth\"}], \"name\": \"2020-06-13\"}, {\"data\": [{\"coloraxis\": \"coloraxis\", \"featureidkey\": \"properties.reg_istat_code_num\", \"geo\": \"geo\", \"geojson\": \"https://raw.githubusercontent.com/openpolis/geojson-italy/master/geojson/limits_IT_regions.geojson\", \"hovertemplate\": \"Date=2020-06-14<br>Region=%{location}<br>ICU=%{z}<extra></extra>\", \"locations\": [13, 17, 18, 15, 8, 6, 12, 7, 3, 11, 14, 4, 4, 1, 16, 20, 19, 9, 10, 2, 5], \"name\": \"\", \"z\": [4, 1, 1, 2, 14, 1, 37, 3, 94, 0, 0, 2, 1, 26, 2, 0, 3, 16, 1, 0, 1], \"type\": \"choropleth\"}], \"name\": \"2020-06-14\"}, {\"data\": [{\"coloraxis\": \"coloraxis\", \"featureidkey\": \"properties.reg_istat_code_num\", \"geo\": \"geo\", \"geojson\": \"https://raw.githubusercontent.com/openpolis/geojson-italy/master/geojson/limits_IT_regions.geojson\", \"hovertemplate\": \"Date=2020-06-15<br>Region=%{location}<br>ICU=%{z}<extra></extra>\", \"locations\": [13, 17, 18, 15, 8, 6, 12, 7, 3, 11, 14, 4, 4, 1, 16, 20, 19, 9, 10, 2, 5], \"name\": \"\", \"z\": [3, 1, 1, 2, 13, 1, 37, 2, 94, 0, 0, 1, 0, 28, 2, 0, 4, 16, 1, 0, 1], \"type\": \"choropleth\"}], \"name\": \"2020-06-15\"}, {\"data\": [{\"coloraxis\": \"coloraxis\", \"featureidkey\": \"properties.reg_istat_code_num\", \"geo\": \"geo\", \"geojson\": \"https://raw.githubusercontent.com/openpolis/geojson-italy/master/geojson/limits_IT_regions.geojson\", \"hovertemplate\": \"Date=2020-06-16<br>Region=%{location}<br>ICU=%{z}<extra></extra>\", \"locations\": [13, 17, 18, 15, 8, 6, 12, 7, 3, 11, 14, 4, 4, 1, 16, 20, 19, 9, 10, 2, 5], \"name\": \"\", \"z\": [3, 1, 0, 2, 11, 0, 38, 2, 69, 0, 0, 1, 0, 28, 2, 0, 4, 14, 1, 0, 1], \"type\": \"choropleth\"}], \"name\": \"2020-06-16\"}, {\"data\": [{\"coloraxis\": \"coloraxis\", \"featureidkey\": \"properties.reg_istat_code_num\", \"geo\": \"geo\", \"geojson\": \"https://raw.githubusercontent.com/openpolis/geojson-italy/master/geojson/limits_IT_regions.geojson\", \"hovertemplate\": \"Date=2020-06-17<br>Region=%{location}<br>ICU=%{z}<extra></extra>\", \"locations\": [13, 17, 18, 15, 8, 6, 12, 7, 3, 11, 14, 4, 4, 1, 16, 20, 19, 9, 10, 2, 5], \"name\": \"\", \"z\": [2, 1, 0, 2, 11, 0, 38, 2, 59, 0, 0, 1, 0, 25, 2, 0, 3, 14, 2, 0, 1], \"type\": \"choropleth\"}], \"name\": \"2020-06-17\"}, {\"data\": [{\"coloraxis\": \"coloraxis\", \"featureidkey\": \"properties.reg_istat_code_num\", \"geo\": \"geo\", \"geojson\": \"https://raw.githubusercontent.com/openpolis/geojson-italy/master/geojson/limits_IT_regions.geojson\", \"hovertemplate\": \"Date=2020-06-18<br>Region=%{location}<br>ICU=%{z}<extra></extra>\", \"locations\": [13, 17, 18, 15, 8, 6, 12, 7, 3, 11, 14, 4, 4, 1, 16, 20, 19, 9, 10, 2, 5], \"name\": \"\", \"z\": [2, 1, 0, 6, 11, 1, 38, 2, 60, 0, 0, 2, 0, 25, 1, 0, 3, 13, 2, 0, 1], \"type\": \"choropleth\"}], \"name\": \"2020-06-18\"}, {\"data\": [{\"coloraxis\": \"coloraxis\", \"featureidkey\": \"properties.reg_istat_code_num\", \"geo\": \"geo\", \"geojson\": \"https://raw.githubusercontent.com/openpolis/geojson-italy/master/geojson/limits_IT_regions.geojson\", \"hovertemplate\": \"Date=2020-06-19<br>Region=%{location}<br>ICU=%{z}<extra></extra>\", \"locations\": [13, 17, 18, 15, 8, 6, 12, 7, 3, 11, 14, 4, 4, 1, 16, 20, 19, 9, 10, 2, 5], \"name\": \"\", \"z\": [1, 1, 0, 3, 11, 0, 38, 3, 60, 0, 0, 1, 0, 22, 1, 0, 5, 12, 2, 0, 1], \"type\": \"choropleth\"}], \"name\": \"2020-06-19\"}, {\"data\": [{\"coloraxis\": \"coloraxis\", \"featureidkey\": \"properties.reg_istat_code_num\", \"geo\": \"geo\", \"geojson\": \"https://raw.githubusercontent.com/openpolis/geojson-italy/master/geojson/limits_IT_regions.geojson\", \"hovertemplate\": \"Date=2020-06-20<br>Region=%{location}<br>ICU=%{z}<extra></extra>\", \"locations\": [13, 17, 18, 15, 8, 6, 12, 7, 3, 11, 14, 4, 4, 1, 16, 20, 19, 9, 10, 2, 5], \"name\": \"\", \"z\": [3, 1, 0, 1, 11, 1, 39, 3, 54, 0, 0, 1, 0, 17, 1, 0, 5, 12, 2, 0, 1], \"type\": \"choropleth\"}], \"name\": \"2020-06-20\"}, {\"data\": [{\"coloraxis\": \"coloraxis\", \"featureidkey\": \"properties.reg_istat_code_num\", \"geo\": \"geo\", \"geojson\": \"https://raw.githubusercontent.com/openpolis/geojson-italy/master/geojson/limits_IT_regions.geojson\", \"hovertemplate\": \"Date=2020-06-21<br>Region=%{location}<br>ICU=%{z}<extra></extra>\", \"locations\": [13, 17, 18, 15, 8, 6, 12, 7, 3, 11, 14, 4, 4, 1, 16, 20, 19, 9, 10, 2, 5], \"name\": \"\", \"z\": [3, 0, 0, 1, 12, 0, 39, 2, 53, 0, 0, 1, 0, 19, 1, 0, 6, 9, 1, 0, 1], \"type\": \"choropleth\"}], \"name\": \"2020-06-21\"}, {\"data\": [{\"coloraxis\": \"coloraxis\", \"featureidkey\": \"properties.reg_istat_code_num\", \"geo\": \"geo\", \"geojson\": \"https://raw.githubusercontent.com/openpolis/geojson-italy/master/geojson/limits_IT_regions.geojson\", \"hovertemplate\": \"Date=2020-06-22<br>Region=%{location}<br>ICU=%{z}<extra></extra>\", \"locations\": [13, 17, 18, 15, 8, 6, 12, 7, 3, 11, 14, 4, 4, 1, 16, 20, 19, 9, 10, 2, 5], \"name\": \"\", \"z\": [3, 0, 0, 0, 12, 0, 23, 1, 51, 0, 0, 1, 0, 19, 0, 0, 6, 9, 1, 0, 1], \"type\": \"choropleth\"}], \"name\": \"2020-06-22\"}, {\"data\": [{\"coloraxis\": \"coloraxis\", \"featureidkey\": \"properties.reg_istat_code_num\", \"geo\": \"geo\", \"geojson\": \"https://raw.githubusercontent.com/openpolis/geojson-italy/master/geojson/limits_IT_regions.geojson\", \"hovertemplate\": \"Date=2020-06-23<br>Region=%{location}<br>ICU=%{z}<extra></extra>\", \"locations\": [13, 17, 18, 15, 8, 6, 12, 7, 3, 11, 14, 4, 4, 1, 16, 20, 19, 9, 10, 2, 5], \"name\": \"\", \"z\": [3, 0, 0, 0, 12, 0, 16, 1, 51, 0, 0, 1, 0, 18, 0, 0, 5, 6, 1, 0, 1], \"type\": \"choropleth\"}], \"name\": \"2020-06-23\"}, {\"data\": [{\"coloraxis\": \"coloraxis\", \"featureidkey\": \"properties.reg_istat_code_num\", \"geo\": \"geo\", \"geojson\": \"https://raw.githubusercontent.com/openpolis/geojson-italy/master/geojson/limits_IT_regions.geojson\", \"hovertemplate\": \"Date=2020-06-24<br>Region=%{location}<br>ICU=%{z}<extra></extra>\", \"locations\": [13, 17, 18, 15, 8, 6, 12, 7, 3, 11, 14, 4, 4, 1, 16, 20, 19, 9, 10, 2, 5], \"name\": \"\", \"z\": [2, 0, 0, 0, 12, 0, 13, 1, 48, 0, 0, 1, 0, 18, 0, 0, 5, 5, 1, 0, 1], \"type\": \"choropleth\"}], \"name\": \"2020-06-24\"}, {\"data\": [{\"coloraxis\": \"coloraxis\", \"featureidkey\": \"properties.reg_istat_code_num\", \"geo\": \"geo\", \"geojson\": \"https://raw.githubusercontent.com/openpolis/geojson-italy/master/geojson/limits_IT_regions.geojson\", \"hovertemplate\": \"Date=2020-06-25<br>Region=%{location}<br>ICU=%{z}<extra></extra>\", \"locations\": [13, 17, 18, 15, 8, 6, 12, 7, 3, 11, 14, 4, 4, 1, 16, 20, 19, 9, 10, 2, 5], \"name\": \"\", \"z\": [2, 0, 0, 0, 11, 0, 12, 1, 48, 0, 0, 1, 0, 15, 0, 0, 5, 6, 1, 0, 1], \"type\": \"choropleth\"}], \"name\": \"2020-06-25\"}, {\"data\": [{\"coloraxis\": \"coloraxis\", \"featureidkey\": \"properties.reg_istat_code_num\", \"geo\": \"geo\", \"geojson\": \"https://raw.githubusercontent.com/openpolis/geojson-italy/master/geojson/limits_IT_regions.geojson\", \"hovertemplate\": \"Date=2020-06-26<br>Region=%{location}<br>ICU=%{z}<extra></extra>\", \"locations\": [13, 17, 18, 15, 8, 6, 12, 7, 3, 11, 14, 4, 4, 1, 16, 20, 19, 9, 10, 2, 5], \"name\": \"\", \"z\": [2, 0, 0, 1, 12, 0, 13, 3, 47, 0, 0, 1, 0, 14, 0, 0, 4, 6, 1, 0, 1], \"type\": \"choropleth\"}], \"name\": \"2020-06-26\"}, {\"data\": [{\"coloraxis\": \"coloraxis\", \"featureidkey\": \"properties.reg_istat_code_num\", \"geo\": \"geo\", \"geojson\": \"https://raw.githubusercontent.com/openpolis/geojson-italy/master/geojson/limits_IT_regions.geojson\", \"hovertemplate\": \"Date=2020-06-27<br>Region=%{location}<br>ICU=%{z}<extra></extra>\", \"locations\": [13, 17, 18, 15, 8, 6, 12, 7, 3, 11, 14, 4, 4, 1, 16, 20, 19, 9, 10, 2, 5], \"name\": \"\", \"z\": [2, 0, 0, 0, 11, 0, 13, 3, 43, 0, 0, 1, 0, 12, 0, 0, 4, 6, 1, 0, 1], \"type\": \"choropleth\"}], \"name\": \"2020-06-27\"}, {\"data\": [{\"coloraxis\": \"coloraxis\", \"featureidkey\": \"properties.reg_istat_code_num\", \"geo\": \"geo\", \"geojson\": \"https://raw.githubusercontent.com/openpolis/geojson-italy/master/geojson/limits_IT_regions.geojson\", \"hovertemplate\": \"Date=2020-06-28<br>Region=%{location}<br>ICU=%{z}<extra></extra>\", \"locations\": [13, 17, 18, 15, 8, 6, 12, 7, 3, 11, 14, 4, 4, 1, 16, 20, 19, 9, 10, 2, 5], \"name\": \"\", \"z\": [2, 0, 0, 0, 12, 0, 13, 3, 43, 0, 0, 1, 0, 12, 0, 0, 4, 6, 1, 0, 1], \"type\": \"choropleth\"}], \"name\": \"2020-06-28\"}, {\"data\": [{\"coloraxis\": \"coloraxis\", \"featureidkey\": \"properties.reg_istat_code_num\", \"geo\": \"geo\", \"geojson\": \"https://raw.githubusercontent.com/openpolis/geojson-italy/master/geojson/limits_IT_regions.geojson\", \"hovertemplate\": \"Date=2020-06-29<br>Region=%{location}<br>ICU=%{z}<extra></extra>\", \"locations\": [13, 17, 18, 15, 8, 6, 12, 7, 3, 11, 14, 4, 4, 1, 16, 20, 19, 9, 10, 2, 5], \"name\": \"\", \"z\": [2, 0, 0, 0, 12, 0, 13, 3, 43, 0, 0, 1, 0, 11, 0, 0, 3, 6, 1, 0, 1], \"type\": \"choropleth\"}], \"name\": \"2020-06-29\"}, {\"data\": [{\"coloraxis\": \"coloraxis\", \"featureidkey\": \"properties.reg_istat_code_num\", \"geo\": \"geo\", \"geojson\": \"https://raw.githubusercontent.com/openpolis/geojson-italy/master/geojson/limits_IT_regions.geojson\", \"hovertemplate\": \"Date=2020-06-30<br>Region=%{location}<br>ICU=%{z}<extra></extra>\", \"locations\": [13, 17, 18, 15, 8, 6, 12, 7, 3, 11, 14, 4, 4, 1, 16, 20, 19, 9, 10, 2, 5], \"name\": \"\", \"z\": [0, 0, 0, 0, 12, 0, 13, 3, 42, 0, 0, 1, 0, 12, 0, 0, 3, 6, 1, 0, 0], \"type\": \"choropleth\"}], \"name\": \"2020-06-30\"}, {\"data\": [{\"coloraxis\": \"coloraxis\", \"featureidkey\": \"properties.reg_istat_code_num\", \"geo\": \"geo\", \"geojson\": \"https://raw.githubusercontent.com/openpolis/geojson-italy/master/geojson/limits_IT_regions.geojson\", \"hovertemplate\": \"Date=2020-07-01<br>Region=%{location}<br>ICU=%{z}<extra></extra>\", \"locations\": [13, 17, 18, 15, 8, 6, 12, 7, 3, 11, 14, 4, 4, 1, 16, 20, 19, 9, 10, 2, 5], \"name\": \"\", \"z\": [0, 0, 0, 0, 10, 0, 12, 3, 41, 0, 0, 1, 0, 11, 0, 0, 3, 5, 1, 0, 0], \"type\": \"choropleth\"}], \"name\": \"2020-07-01\"}, {\"data\": [{\"coloraxis\": \"coloraxis\", \"featureidkey\": \"properties.reg_istat_code_num\", \"geo\": \"geo\", \"geojson\": \"https://raw.githubusercontent.com/openpolis/geojson-italy/master/geojson/limits_IT_regions.geojson\", \"hovertemplate\": \"Date=2020-07-02<br>Region=%{location}<br>ICU=%{z}<extra></extra>\", \"locations\": [13, 17, 18, 15, 8, 6, 12, 7, 3, 11, 14, 4, 4, 1, 16, 20, 19, 9, 10, 2, 5], \"name\": \"\", \"z\": [0, 0, 0, 0, 9, 0, 11, 3, 41, 0, 0, 0, 0, 11, 0, 0, 3, 3, 1, 0, 0], \"type\": \"choropleth\"}], \"name\": \"2020-07-02\"}, {\"data\": [{\"coloraxis\": \"coloraxis\", \"featureidkey\": \"properties.reg_istat_code_num\", \"geo\": \"geo\", \"geojson\": \"https://raw.githubusercontent.com/openpolis/geojson-italy/master/geojson/limits_IT_regions.geojson\", \"hovertemplate\": \"Date=2020-07-03<br>Region=%{location}<br>ICU=%{z}<extra></extra>\", \"locations\": [13, 17, 18, 15, 8, 6, 12, 7, 3, 11, 14, 4, 4, 1, 16, 20, 19, 9, 10, 2, 5], \"name\": \"\", \"z\": [0, 0, 0, 0, 9, 0, 11, 3, 41, 0, 0, 0, 0, 10, 0, 0, 2, 3, 0, 0, 0], \"type\": \"choropleth\"}], \"name\": \"2020-07-03\"}, {\"data\": [{\"coloraxis\": \"coloraxis\", \"featureidkey\": \"properties.reg_istat_code_num\", \"geo\": \"geo\", \"geojson\": \"https://raw.githubusercontent.com/openpolis/geojson-italy/master/geojson/limits_IT_regions.geojson\", \"hovertemplate\": \"Date=2020-07-04<br>Region=%{location}<br>ICU=%{z}<extra></extra>\", \"locations\": [13, 17, 18, 15, 8, 6, 12, 7, 3, 11, 14, 4, 4, 1, 16, 20, 19, 9, 10, 2, 5], \"name\": \"\", \"z\": [0, 0, 0, 0, 8, 0, 11, 2, 36, 0, 0, 0, 0, 9, 0, 0, 2, 2, 0, 0, 1], \"type\": \"choropleth\"}], \"name\": \"2020-07-04\"}, {\"data\": [{\"coloraxis\": \"coloraxis\", \"featureidkey\": \"properties.reg_istat_code_num\", \"geo\": \"geo\", \"geojson\": \"https://raw.githubusercontent.com/openpolis/geojson-italy/master/geojson/limits_IT_regions.geojson\", \"hovertemplate\": \"Date=2020-07-05<br>Region=%{location}<br>ICU=%{z}<extra></extra>\", \"locations\": [13, 17, 18, 15, 8, 6, 12, 7, 3, 11, 14, 4, 4, 1, 16, 20, 19, 9, 10, 2, 5], \"name\": \"\", \"z\": [0, 0, 0, 0, 9, 0, 11, 3, 36, 0, 0, 0, 0, 9, 0, 0, 2, 2, 0, 0, 2], \"type\": \"choropleth\"}], \"name\": \"2020-07-05\"}, {\"data\": [{\"coloraxis\": \"coloraxis\", \"featureidkey\": \"properties.reg_istat_code_num\", \"geo\": \"geo\", \"geojson\": \"https://raw.githubusercontent.com/openpolis/geojson-italy/master/geojson/limits_IT_regions.geojson\", \"hovertemplate\": \"Date=2020-07-06<br>Region=%{location}<br>ICU=%{z}<extra></extra>\", \"locations\": [13, 17, 18, 15, 8, 6, 12, 7, 3, 11, 14, 4, 4, 1, 16, 20, 19, 9, 10, 2, 5], \"name\": \"\", \"z\": [0, 0, 0, 0, 9, 0, 12, 0, 36, 0, 0, 0, 0, 9, 0, 0, 2, 2, 0, 0, 2], \"type\": \"choropleth\"}], \"name\": \"2020-07-06\"}, {\"data\": [{\"coloraxis\": \"coloraxis\", \"featureidkey\": \"properties.reg_istat_code_num\", \"geo\": \"geo\", \"geojson\": \"https://raw.githubusercontent.com/openpolis/geojson-italy/master/geojson/limits_IT_regions.geojson\", \"hovertemplate\": \"Date=2020-07-07<br>Region=%{location}<br>ICU=%{z}<extra></extra>\", \"locations\": [13, 17, 18, 15, 8, 6, 12, 7, 3, 11, 14, 4, 4, 1, 16, 20, 19, 9, 10, 2, 5], \"name\": \"\", \"z\": [0, 0, 0, 0, 10, 0, 13, 0, 36, 0, 0, 0, 0, 8, 0, 0, 0, 1, 0, 0, 2], \"type\": \"choropleth\"}], \"name\": \"2020-07-07\"}, {\"data\": [{\"coloraxis\": \"coloraxis\", \"featureidkey\": \"properties.reg_istat_code_num\", \"geo\": \"geo\", \"geojson\": \"https://raw.githubusercontent.com/openpolis/geojson-italy/master/geojson/limits_IT_regions.geojson\", \"hovertemplate\": \"Date=2020-07-08<br>Region=%{location}<br>ICU=%{z}<extra></extra>\", \"locations\": [13, 17, 18, 15, 8, 6, 12, 7, 3, 11, 14, 4, 4, 1, 16, 20, 19, 9, 10, 2, 5], \"name\": \"\", \"z\": [0, 0, 0, 0, 10, 0, 13, 1, 34, 0, 0, 0, 0, 8, 0, 0, 0, 2, 0, 0, 3], \"type\": \"choropleth\"}], \"name\": \"2020-07-08\"}, {\"data\": [{\"coloraxis\": \"coloraxis\", \"featureidkey\": \"properties.reg_istat_code_num\", \"geo\": \"geo\", \"geojson\": \"https://raw.githubusercontent.com/openpolis/geojson-italy/master/geojson/limits_IT_regions.geojson\", \"hovertemplate\": \"Date=2020-07-09<br>Region=%{location}<br>ICU=%{z}<extra></extra>\", \"locations\": [13, 17, 18, 15, 8, 6, 12, 7, 3, 11, 14, 4, 4, 1, 16, 20, 19, 9, 10, 2, 5], \"name\": \"\", \"z\": [0, 0, 0, 0, 10, 0, 13, 1, 31, 0, 0, 0, 0, 10, 0, 0, 0, 2, 0, 0, 2], \"type\": \"choropleth\"}], \"name\": \"2020-07-09\"}, {\"data\": [{\"coloraxis\": \"coloraxis\", \"featureidkey\": \"properties.reg_istat_code_num\", \"geo\": \"geo\", \"geojson\": \"https://raw.githubusercontent.com/openpolis/geojson-italy/master/geojson/limits_IT_regions.geojson\", \"hovertemplate\": \"Date=2020-07-10<br>Region=%{location}<br>ICU=%{z}<extra></extra>\", \"locations\": [13, 17, 18, 15, 8, 6, 12, 7, 3, 11, 14, 4, 4, 1, 16, 20, 19, 9, 10, 2, 5], \"name\": \"\", \"z\": [0, 0, 0, 0, 10, 0, 13, 1, 27, 0, 0, 0, 0, 9, 0, 0, 0, 2, 0, 0, 3], \"type\": \"choropleth\"}], \"name\": \"2020-07-10\"}, {\"data\": [{\"coloraxis\": \"coloraxis\", \"featureidkey\": \"properties.reg_istat_code_num\", \"geo\": \"geo\", \"geojson\": \"https://raw.githubusercontent.com/openpolis/geojson-italy/master/geojson/limits_IT_regions.geojson\", \"hovertemplate\": \"Date=2020-07-11<br>Region=%{location}<br>ICU=%{z}<extra></extra>\", \"locations\": [13, 17, 18, 15, 8, 6, 12, 7, 3, 11, 14, 4, 4, 1, 16, 20, 19, 9, 10, 2, 5], \"name\": \"\", \"z\": [0, 0, 0, 0, 10, 0, 13, 0, 29, 0, 0, 0, 0, 9, 0, 0, 0, 3, 0, 0, 3], \"type\": \"choropleth\"}], \"name\": \"2020-07-11\"}, {\"data\": [{\"coloraxis\": \"coloraxis\", \"featureidkey\": \"properties.reg_istat_code_num\", \"geo\": \"geo\", \"geojson\": \"https://raw.githubusercontent.com/openpolis/geojson-italy/master/geojson/limits_IT_regions.geojson\", \"hovertemplate\": \"Date=2020-07-12<br>Region=%{location}<br>ICU=%{z}<extra></extra>\", \"locations\": [13, 17, 18, 15, 8, 6, 12, 7, 3, 11, 14, 4, 4, 1, 16, 20, 19, 9, 10, 2, 5], \"name\": \"\", \"z\": [0, 0, 0, 0, 10, 0, 12, 0, 31, 0, 0, 0, 0, 9, 0, 0, 0, 3, 0, 0, 3], \"type\": \"choropleth\"}], \"name\": \"2020-07-12\"}, {\"data\": [{\"coloraxis\": \"coloraxis\", \"featureidkey\": \"properties.reg_istat_code_num\", \"geo\": \"geo\", \"geojson\": \"https://raw.githubusercontent.com/openpolis/geojson-italy/master/geojson/limits_IT_regions.geojson\", \"hovertemplate\": \"Date=2020-07-13<br>Region=%{location}<br>ICU=%{z}<extra></extra>\", \"locations\": [13, 17, 18, 15, 8, 6, 12, 7, 3, 11, 14, 4, 4, 1, 16, 20, 19, 9, 10, 2, 5], \"name\": \"\", \"z\": [0, 0, 0, 0, 9, 0, 11, 0, 30, 0, 0, 0, 0, 9, 0, 0, 0, 3, 0, 0, 3], \"type\": \"choropleth\"}], \"name\": \"2020-07-13\"}, {\"data\": [{\"coloraxis\": \"coloraxis\", \"featureidkey\": \"properties.reg_istat_code_num\", \"geo\": \"geo\", \"geojson\": \"https://raw.githubusercontent.com/openpolis/geojson-italy/master/geojson/limits_IT_regions.geojson\", \"hovertemplate\": \"Date=2020-07-14<br>Region=%{location}<br>ICU=%{z}<extra></extra>\", \"locations\": [13, 17, 18, 15, 8, 6, 12, 7, 3, 11, 14, 4, 4, 1, 16, 20, 19, 9, 10, 2, 5], \"name\": \"\", \"z\": [0, 0, 0, 1, 9, 0, 10, 0, 27, 0, 0, 0, 0, 9, 0, 0, 0, 2, 0, 0, 2], \"type\": \"choropleth\"}], \"name\": \"2020-07-14\"}, {\"data\": [{\"coloraxis\": \"coloraxis\", \"featureidkey\": \"properties.reg_istat_code_num\", \"geo\": \"geo\", \"geojson\": \"https://raw.githubusercontent.com/openpolis/geojson-italy/master/geojson/limits_IT_regions.geojson\", \"hovertemplate\": \"Date=2020-07-15<br>Region=%{location}<br>ICU=%{z}<extra></extra>\", \"locations\": [13, 17, 18, 15, 8, 6, 12, 7, 3, 11, 14, 4, 4, 1, 16, 20, 19, 9, 10, 2, 5], \"name\": \"\", \"z\": [0, 0, 0, 1, 9, 0, 10, 0, 23, 1, 0, 0, 0, 8, 0, 0, 0, 3, 0, 0, 2], \"type\": \"choropleth\"}], \"name\": \"2020-07-15\"}, {\"data\": [{\"coloraxis\": \"coloraxis\", \"featureidkey\": \"properties.reg_istat_code_num\", \"geo\": \"geo\", \"geojson\": \"https://raw.githubusercontent.com/openpolis/geojson-italy/master/geojson/limits_IT_regions.geojson\", \"hovertemplate\": \"Date=2020-07-16<br>Region=%{location}<br>ICU=%{z}<extra></extra>\", \"locations\": [13, 17, 18, 15, 8, 6, 12, 7, 3, 11, 14, 4, 4, 1, 16, 20, 19, 9, 10, 2, 5], \"name\": \"\", \"z\": [0, 0, 0, 1, 9, 0, 9, 0, 23, 1, 0, 0, 0, 6, 0, 0, 0, 2, 0, 0, 2], \"type\": \"choropleth\"}], \"name\": \"2020-07-16\"}, {\"data\": [{\"coloraxis\": \"coloraxis\", \"featureidkey\": \"properties.reg_istat_code_num\", \"geo\": \"geo\", \"geojson\": \"https://raw.githubusercontent.com/openpolis/geojson-italy/master/geojson/limits_IT_regions.geojson\", \"hovertemplate\": \"Date=2020-07-17<br>Region=%{location}<br>ICU=%{z}<extra></extra>\", \"locations\": [13, 17, 18, 15, 8, 6, 12, 7, 3, 11, 14, 4, 4, 1, 16, 20, 19, 9, 10, 2, 5], \"name\": \"\", \"z\": [0, 0, 0, 1, 8, 0, 9, 0, 22, 1, 0, 0, 0, 6, 0, 0, 0, 1, 0, 0, 2], \"type\": \"choropleth\"}], \"name\": \"2020-07-17\"}, {\"data\": [{\"coloraxis\": \"coloraxis\", \"featureidkey\": \"properties.reg_istat_code_num\", \"geo\": \"geo\", \"geojson\": \"https://raw.githubusercontent.com/openpolis/geojson-italy/master/geojson/limits_IT_regions.geojson\", \"hovertemplate\": \"Date=2020-07-18<br>Region=%{location}<br>ICU=%{z}<extra></extra>\", \"locations\": [13, 17, 18, 15, 8, 6, 12, 7, 3, 11, 14, 4, 4, 1, 16, 20, 19, 9, 10, 2, 5], \"name\": \"\", \"z\": [0, 0, 0, 1, 8, 0, 9, 0, 22, 1, 0, 0, 0, 6, 0, 0, 0, 1, 0, 0, 2], \"type\": \"choropleth\"}], \"name\": \"2020-07-18\"}, {\"data\": [{\"coloraxis\": \"coloraxis\", \"featureidkey\": \"properties.reg_istat_code_num\", \"geo\": \"geo\", \"geojson\": \"https://raw.githubusercontent.com/openpolis/geojson-italy/master/geojson/limits_IT_regions.geojson\", \"hovertemplate\": \"Date=2020-07-19<br>Region=%{location}<br>ICU=%{z}<extra></extra>\", \"locations\": [13, 17, 18, 15, 8, 6, 12, 7, 3, 11, 14, 4, 4, 1, 16, 20, 19, 9, 10, 2, 5], \"name\": \"\", \"z\": [0, 0, 0, 0, 8, 0, 9, 0, 22, 1, 0, 0, 0, 6, 0, 0, 1, 0, 0, 0, 2], \"type\": \"choropleth\"}], \"name\": \"2020-07-19\"}, {\"data\": [{\"coloraxis\": \"coloraxis\", \"featureidkey\": \"properties.reg_istat_code_num\", \"geo\": \"geo\", \"geojson\": \"https://raw.githubusercontent.com/openpolis/geojson-italy/master/geojson/limits_IT_regions.geojson\", \"hovertemplate\": \"Date=2020-07-20<br>Region=%{location}<br>ICU=%{z}<extra></extra>\", \"locations\": [13, 17, 18, 15, 8, 6, 12, 7, 3, 11, 14, 4, 4, 1, 16, 20, 19, 9, 10, 2, 5], \"name\": \"\", \"z\": [0, 0, 0, 0, 6, 0, 9, 0, 21, 1, 0, 0, 0, 6, 0, 0, 2, 0, 0, 0, 2], \"type\": \"choropleth\"}], \"name\": \"2020-07-20\"}, {\"data\": [{\"coloraxis\": \"coloraxis\", \"featureidkey\": \"properties.reg_istat_code_num\", \"geo\": \"geo\", \"geojson\": \"https://raw.githubusercontent.com/openpolis/geojson-italy/master/geojson/limits_IT_regions.geojson\", \"hovertemplate\": \"Date=2020-07-21<br>Region=%{location}<br>ICU=%{z}<extra></extra>\", \"locations\": [13, 17, 18, 15, 8, 6, 12, 7, 3, 11, 14, 4, 4, 1, 16, 20, 19, 9, 10, 2, 5], \"name\": \"\", \"z\": [0, 0, 0, 1, 6, 0, 9, 0, 21, 1, 0, 0, 0, 6, 0, 0, 2, 1, 0, 0, 2], \"type\": \"choropleth\"}], \"name\": \"2020-07-21\"}, {\"data\": [{\"coloraxis\": \"coloraxis\", \"featureidkey\": \"properties.reg_istat_code_num\", \"geo\": \"geo\", \"geojson\": \"https://raw.githubusercontent.com/openpolis/geojson-italy/master/geojson/limits_IT_regions.geojson\", \"hovertemplate\": \"Date=2020-07-22<br>Region=%{location}<br>ICU=%{z}<extra></extra>\", \"locations\": [13, 17, 18, 15, 8, 6, 12, 7, 3, 11, 14, 4, 4, 1, 16, 20, 19, 9, 10, 2, 5], \"name\": \"\", \"z\": [1, 0, 0, 1, 7, 0, 9, 0, 17, 1, 0, 0, 0, 6, 0, 0, 3, 1, 0, 0, 2], \"type\": \"choropleth\"}], \"name\": \"2020-07-22\"}, {\"data\": [{\"coloraxis\": \"coloraxis\", \"featureidkey\": \"properties.reg_istat_code_num\", \"geo\": \"geo\", \"geojson\": \"https://raw.githubusercontent.com/openpolis/geojson-italy/master/geojson/limits_IT_regions.geojson\", \"hovertemplate\": \"Date=2020-07-23<br>Region=%{location}<br>ICU=%{z}<extra></extra>\", \"locations\": [13, 17, 18, 15, 8, 6, 12, 7, 3, 11, 14, 4, 4, 1, 16, 20, 19, 9, 10, 2, 5], \"name\": \"\", \"z\": [2, 0, 0, 1, 6, 1, 9, 0, 17, 1, 0, 0, 0, 6, 0, 0, 3, 1, 0, 0, 2], \"type\": \"choropleth\"}], \"name\": \"2020-07-23\"}, {\"data\": [{\"coloraxis\": \"coloraxis\", \"featureidkey\": \"properties.reg_istat_code_num\", \"geo\": \"geo\", \"geojson\": \"https://raw.githubusercontent.com/openpolis/geojson-italy/master/geojson/limits_IT_regions.geojson\", \"hovertemplate\": \"Date=2020-07-24<br>Region=%{location}<br>ICU=%{z}<extra></extra>\", \"locations\": [13, 17, 18, 15, 8, 6, 12, 7, 3, 11, 14, 4, 4, 1, 16, 20, 19, 9, 10, 2, 5], \"name\": \"\", \"z\": [2, 0, 0, 2, 4, 2, 9, 0, 17, 1, 0, 0, 0, 5, 0, 0, 2, 0, 0, 0, 2], \"type\": \"choropleth\"}], \"name\": \"2020-07-24\"}, {\"data\": [{\"coloraxis\": \"coloraxis\", \"featureidkey\": \"properties.reg_istat_code_num\", \"geo\": \"geo\", \"geojson\": \"https://raw.githubusercontent.com/openpolis/geojson-italy/master/geojson/limits_IT_regions.geojson\", \"hovertemplate\": \"Date=2020-07-25<br>Region=%{location}<br>ICU=%{z}<extra></extra>\", \"locations\": [13, 17, 18, 15, 8, 6, 12, 7, 3, 11, 14, 4, 4, 1, 16, 20, 19, 9, 10, 2, 5], \"name\": \"\", \"z\": [2, 0, 0, 2, 4, 2, 9, 0, 13, 1, 0, 0, 0, 5, 0, 0, 2, 0, 0, 0, 1], \"type\": \"choropleth\"}], \"name\": \"2020-07-25\"}, {\"data\": [{\"coloraxis\": \"coloraxis\", \"featureidkey\": \"properties.reg_istat_code_num\", \"geo\": \"geo\", \"geojson\": \"https://raw.githubusercontent.com/openpolis/geojson-italy/master/geojson/limits_IT_regions.geojson\", \"hovertemplate\": \"Date=2020-07-26<br>Region=%{location}<br>ICU=%{z}<extra></extra>\", \"locations\": [13, 17, 18, 15, 8, 6, 12, 7, 3, 11, 14, 4, 4, 1, 16, 20, 19, 9, 10, 2, 5], \"name\": \"\", \"z\": [2, 0, 0, 4, 4, 2, 9, 1, 13, 1, 0, 0, 0, 5, 0, 0, 2, 0, 0, 0, 1], \"type\": \"choropleth\"}], \"name\": \"2020-07-26\"}, {\"data\": [{\"coloraxis\": \"coloraxis\", \"featureidkey\": \"properties.reg_istat_code_num\", \"geo\": \"geo\", \"geojson\": \"https://raw.githubusercontent.com/openpolis/geojson-italy/master/geojson/limits_IT_regions.geojson\", \"hovertemplate\": \"Date=2020-07-27<br>Region=%{location}<br>ICU=%{z}<extra></extra>\", \"locations\": [13, 17, 18, 15, 8, 6, 12, 7, 3, 11, 14, 4, 4, 1, 16, 20, 19, 9, 10, 2, 5], \"name\": \"\", \"z\": [1, 0, 0, 4, 4, 2, 9, 1, 14, 0, 0, 0, 0, 5, 0, 0, 4, 0, 1, 0, 0], \"type\": \"choropleth\"}], \"name\": \"2020-07-27\"}, {\"data\": [{\"coloraxis\": \"coloraxis\", \"featureidkey\": \"properties.reg_istat_code_num\", \"geo\": \"geo\", \"geojson\": \"https://raw.githubusercontent.com/openpolis/geojson-italy/master/geojson/limits_IT_regions.geojson\", \"hovertemplate\": \"Date=2020-07-28<br>Region=%{location}<br>ICU=%{z}<extra></extra>\", \"locations\": [13, 17, 18, 15, 8, 6, 12, 7, 3, 11, 14, 4, 4, 1, 16, 20, 19, 9, 10, 2, 5], \"name\": \"\", \"z\": [1, 0, 0, 4, 3, 2, 9, 0, 13, 0, 0, 0, 0, 5, 0, 0, 2, 0, 1, 0, 0], \"type\": \"choropleth\"}], \"name\": \"2020-07-28\"}, {\"data\": [{\"coloraxis\": \"coloraxis\", \"featureidkey\": \"properties.reg_istat_code_num\", \"geo\": \"geo\", \"geojson\": \"https://raw.githubusercontent.com/openpolis/geojson-italy/master/geojson/limits_IT_regions.geojson\", \"hovertemplate\": \"Date=2020-07-29<br>Region=%{location}<br>ICU=%{z}<extra></extra>\", \"locations\": [13, 17, 18, 15, 8, 6, 12, 7, 3, 11, 14, 4, 4, 1, 16, 20, 19, 9, 10, 2, 5], \"name\": \"\", \"z\": [1, 0, 0, 1, 3, 2, 9, 0, 13, 0, 0, 1, 0, 5, 0, 0, 2, 0, 1, 0, 0], \"type\": \"choropleth\"}], \"name\": \"2020-07-29\"}, {\"data\": [{\"coloraxis\": \"coloraxis\", \"featureidkey\": \"properties.reg_istat_code_num\", \"geo\": \"geo\", \"geojson\": \"https://raw.githubusercontent.com/openpolis/geojson-italy/master/geojson/limits_IT_regions.geojson\", \"hovertemplate\": \"Date=2020-07-30<br>Region=%{location}<br>ICU=%{z}<extra></extra>\", \"locations\": [13, 17, 18, 15, 8, 6, 12, 7, 3, 11, 14, 4, 4, 1, 16, 20, 19, 9, 10, 2, 5], \"name\": \"\", \"z\": [1, 0, 1, 6, 4, 2, 9, 0, 13, 0, 0, 1, 0, 5, 0, 0, 2, 0, 0, 0, 3], \"type\": \"choropleth\"}], \"name\": \"2020-07-30\"}, {\"data\": [{\"coloraxis\": \"coloraxis\", \"featureidkey\": \"properties.reg_istat_code_num\", \"geo\": \"geo\", \"geojson\": \"https://raw.githubusercontent.com/openpolis/geojson-italy/master/geojson/limits_IT_regions.geojson\", \"hovertemplate\": \"Date=2020-07-31<br>Region=%{location}<br>ICU=%{z}<extra></extra>\", \"locations\": [13, 17, 18, 15, 8, 6, 12, 7, 3, 11, 14, 4, 4, 1, 16, 20, 19, 9, 10, 2, 5], \"name\": \"\", \"z\": [1, 0, 1, 6, 4, 2, 9, 0, 7, 0, 0, 1, 0, 5, 0, 0, 2, 0, 0, 0, 3], \"type\": \"choropleth\"}], \"name\": \"2020-07-31\"}, {\"data\": [{\"coloraxis\": \"coloraxis\", \"featureidkey\": \"properties.reg_istat_code_num\", \"geo\": \"geo\", \"geojson\": \"https://raw.githubusercontent.com/openpolis/geojson-italy/master/geojson/limits_IT_regions.geojson\", \"hovertemplate\": \"Date=2020-08-01<br>Region=%{location}<br>ICU=%{z}<extra></extra>\", \"locations\": [13, 17, 18, 15, 8, 6, 12, 7, 3, 11, 14, 4, 4, 1, 16, 20, 19, 9, 10, 2, 5], \"name\": \"\", \"z\": [1, 0, 1, 3, 4, 3, 9, 0, 9, 0, 0, 1, 0, 5, 0, 0, 3, 0, 0, 0, 4], \"type\": \"choropleth\"}], \"name\": \"2020-08-01\"}, {\"data\": [{\"coloraxis\": \"coloraxis\", \"featureidkey\": \"properties.reg_istat_code_num\", \"geo\": \"geo\", \"geojson\": \"https://raw.githubusercontent.com/openpolis/geojson-italy/master/geojson/limits_IT_regions.geojson\", \"hovertemplate\": \"Date=2020-08-02<br>Region=%{location}<br>ICU=%{z}<extra></extra>\", \"locations\": [13, 17, 18, 15, 8, 6, 12, 7, 3, 11, 14, 4, 4, 1, 16, 20, 19, 9, 10, 2, 5], \"name\": \"\", \"z\": [1, 0, 1, 3, 4, 3, 9, 0, 9, 0, 0, 0, 0, 5, 0, 0, 3, 0, 0, 0, 4], \"type\": \"choropleth\"}], \"name\": \"2020-08-02\"}, {\"data\": [{\"coloraxis\": \"coloraxis\", \"featureidkey\": \"properties.reg_istat_code_num\", \"geo\": \"geo\", \"geojson\": \"https://raw.githubusercontent.com/openpolis/geojson-italy/master/geojson/limits_IT_regions.geojson\", \"hovertemplate\": \"Date=2020-08-03<br>Region=%{location}<br>ICU=%{z}<extra></extra>\", \"locations\": [13, 17, 18, 15, 8, 6, 12, 7, 3, 11, 14, 4, 4, 1, 16, 20, 19, 9, 10, 2, 5], \"name\": \"\", \"z\": [1, 0, 1, 2, 3, 3, 9, 0, 9, 0, 0, 0, 0, 5, 0, 0, 3, 1, 0, 0, 4], \"type\": \"choropleth\"}], \"name\": \"2020-08-03\"}, {\"data\": [{\"coloraxis\": \"coloraxis\", \"featureidkey\": \"properties.reg_istat_code_num\", \"geo\": \"geo\", \"geojson\": \"https://raw.githubusercontent.com/openpolis/geojson-italy/master/geojson/limits_IT_regions.geojson\", \"hovertemplate\": \"Date=2020-08-04<br>Region=%{location}<br>ICU=%{z}<extra></extra>\", \"locations\": [13, 17, 18, 15, 8, 6, 12, 7, 3, 11, 14, 4, 4, 1, 16, 20, 19, 9, 10, 2, 5], \"name\": \"\", \"z\": [1, 0, 1, 2, 4, 2, 8, 0, 9, 0, 0, 0, 0, 6, 0, 0, 3, 0, 0, 0, 5], \"type\": \"choropleth\"}], \"name\": \"2020-08-04\"}, {\"data\": [{\"coloraxis\": \"coloraxis\", \"featureidkey\": \"properties.reg_istat_code_num\", \"geo\": \"geo\", \"geojson\": \"https://raw.githubusercontent.com/openpolis/geojson-italy/master/geojson/limits_IT_regions.geojson\", \"hovertemplate\": \"Date=2020-08-05<br>Region=%{location}<br>ICU=%{z}<extra></extra>\", \"locations\": [13, 17, 18, 15, 8, 6, 12, 7, 3, 11, 14, 4, 4, 1, 16, 20, 19, 9, 10, 2, 5], \"name\": \"\", \"z\": [1, 0, 1, 1, 4, 2, 7, 0, 11, 0, 0, 0, 0, 4, 0, 0, 4, 0, 0, 0, 6], \"type\": \"choropleth\"}], \"name\": \"2020-08-05\"}, {\"data\": [{\"coloraxis\": \"coloraxis\", \"featureidkey\": \"properties.reg_istat_code_num\", \"geo\": \"geo\", \"geojson\": \"https://raw.githubusercontent.com/openpolis/geojson-italy/master/geojson/limits_IT_regions.geojson\", \"hovertemplate\": \"Date=2020-08-06<br>Region=%{location}<br>ICU=%{z}<extra></extra>\", \"locations\": [13, 17, 18, 15, 8, 6, 12, 7, 3, 11, 14, 4, 4, 1, 16, 20, 19, 9, 10, 2, 5], \"name\": \"\", \"z\": [1, 0, 1, 1, 4, 2, 8, 0, 11, 0, 0, 0, 0, 4, 0, 0, 4, 0, 0, 0, 6], \"type\": \"choropleth\"}], \"name\": \"2020-08-06\"}, {\"data\": [{\"coloraxis\": \"coloraxis\", \"featureidkey\": \"properties.reg_istat_code_num\", \"geo\": \"geo\", \"geojson\": \"https://raw.githubusercontent.com/openpolis/geojson-italy/master/geojson/limits_IT_regions.geojson\", \"hovertemplate\": \"Date=2020-08-07<br>Region=%{location}<br>ICU=%{z}<extra></extra>\", \"locations\": [13, 17, 18, 15, 8, 6, 12, 7, 3, 11, 14, 4, 4, 1, 16, 20, 19, 9, 10, 2, 5], \"name\": \"\", \"z\": [1, 0, 1, 2, 4, 3, 8, 1, 9, 0, 0, 0, 0, 3, 0, 0, 4, 0, 0, 0, 6], \"type\": \"choropleth\"}], \"name\": \"2020-08-07\"}, {\"data\": [{\"coloraxis\": \"coloraxis\", \"featureidkey\": \"properties.reg_istat_code_num\", \"geo\": \"geo\", \"geojson\": \"https://raw.githubusercontent.com/openpolis/geojson-italy/master/geojson/limits_IT_regions.geojson\", \"hovertemplate\": \"Date=2020-08-08<br>Region=%{location}<br>ICU=%{z}<extra></extra>\", \"locations\": [13, 17, 18, 15, 8, 6, 12, 7, 3, 11, 14, 4, 4, 1, 16, 20, 19, 9, 10, 2, 5], \"name\": \"\", \"z\": [1, 0, 1, 2, 4, 3, 8, 1, 9, 0, 0, 0, 0, 3, 0, 0, 4, 1, 0, 0, 6], \"type\": \"choropleth\"}], \"name\": \"2020-08-08\"}, {\"data\": [{\"coloraxis\": \"coloraxis\", \"featureidkey\": \"properties.reg_istat_code_num\", \"geo\": \"geo\", \"geojson\": \"https://raw.githubusercontent.com/openpolis/geojson-italy/master/geojson/limits_IT_regions.geojson\", \"hovertemplate\": \"Date=2020-08-09<br>Region=%{location}<br>ICU=%{z}<extra></extra>\", \"locations\": [13, 17, 18, 15, 8, 6, 12, 7, 3, 11, 14, 4, 4, 1, 16, 20, 19, 9, 10, 2, 5], \"name\": \"\", \"z\": [1, 0, 1, 2, 4, 3, 8, 2, 9, 0, 0, 0, 0, 3, 0, 0, 5, 1, 0, 0, 6], \"type\": \"choropleth\"}], \"name\": \"2020-08-09\"}, {\"data\": [{\"coloraxis\": \"coloraxis\", \"featureidkey\": \"properties.reg_istat_code_num\", \"geo\": \"geo\", \"geojson\": \"https://raw.githubusercontent.com/openpolis/geojson-italy/master/geojson/limits_IT_regions.geojson\", \"hovertemplate\": \"Date=2020-08-10<br>Region=%{location}<br>ICU=%{z}<extra></extra>\", \"locations\": [13, 17, 18, 15, 8, 6, 12, 7, 3, 11, 14, 4, 4, 1, 16, 20, 19, 9, 10, 2, 5], \"name\": \"\", \"z\": [1, 0, 1, 1, 4, 3, 8, 2, 9, 0, 0, 0, 0, 3, 1, 0, 6, 1, 0, 0, 6], \"type\": \"choropleth\"}], \"name\": \"2020-08-10\"}, {\"data\": [{\"coloraxis\": \"coloraxis\", \"featureidkey\": \"properties.reg_istat_code_num\", \"geo\": \"geo\", \"geojson\": \"https://raw.githubusercontent.com/openpolis/geojson-italy/master/geojson/limits_IT_regions.geojson\", \"hovertemplate\": \"Date=2020-08-11<br>Region=%{location}<br>ICU=%{z}<extra></extra>\", \"locations\": [13, 17, 18, 15, 8, 6, 12, 7, 3, 11, 14, 4, 4, 1, 16, 20, 19, 9, 10, 2, 5], \"name\": \"\", \"z\": [1, 0, 1, 2, 4, 3, 9, 2, 10, 0, 0, 0, 0, 3, 1, 0, 6, 1, 0, 0, 6], \"type\": \"choropleth\"}], \"name\": \"2020-08-11\"}, {\"data\": [{\"coloraxis\": \"coloraxis\", \"featureidkey\": \"properties.reg_istat_code_num\", \"geo\": \"geo\", \"geojson\": \"https://raw.githubusercontent.com/openpolis/geojson-italy/master/geojson/limits_IT_regions.geojson\", \"hovertemplate\": \"Date=2020-08-12<br>Region=%{location}<br>ICU=%{z}<extra></extra>\", \"locations\": [13, 17, 18, 15, 8, 6, 12, 7, 3, 11, 14, 4, 4, 1, 16, 20, 19, 9, 10, 2, 5], \"name\": \"\", \"z\": [1, 0, 1, 2, 4, 3, 9, 2, 10, 0, 0, 0, 1, 3, 2, 0, 6, 3, 0, 0, 6], \"type\": \"choropleth\"}], \"name\": \"2020-08-12\"}, {\"data\": [{\"coloraxis\": \"coloraxis\", \"featureidkey\": \"properties.reg_istat_code_num\", \"geo\": \"geo\", \"geojson\": \"https://raw.githubusercontent.com/openpolis/geojson-italy/master/geojson/limits_IT_regions.geojson\", \"hovertemplate\": \"Date=2020-08-13<br>Region=%{location}<br>ICU=%{z}<extra></extra>\", \"locations\": [13, 17, 18, 15, 8, 6, 12, 7, 3, 11, 14, 4, 4, 1, 16, 20, 19, 9, 10, 2, 5], \"name\": \"\", \"z\": [1, 0, 1, 2, 4, 3, 9, 2, 11, 0, 0, 1, 1, 3, 2, 0, 6, 3, 0, 0, 6], \"type\": \"choropleth\"}], \"name\": \"2020-08-13\"}, {\"data\": [{\"coloraxis\": \"coloraxis\", \"featureidkey\": \"properties.reg_istat_code_num\", \"geo\": \"geo\", \"geojson\": \"https://raw.githubusercontent.com/openpolis/geojson-italy/master/geojson/limits_IT_regions.geojson\", \"hovertemplate\": \"Date=2020-08-14<br>Region=%{location}<br>ICU=%{z}<extra></extra>\", \"locations\": [13, 17, 18, 15, 8, 6, 12, 7, 3, 11, 14, 4, 4, 1, 16, 20, 19, 9, 10, 2, 5], \"name\": \"\", \"z\": [1, 0, 1, 1, 4, 3, 9, 3, 12, 1, 0, 1, 1, 3, 1, 0, 6, 3, 0, 0, 6], \"type\": \"choropleth\"}], \"name\": \"2020-08-14\"}, {\"data\": [{\"coloraxis\": \"coloraxis\", \"featureidkey\": \"properties.reg_istat_code_num\", \"geo\": \"geo\", \"geojson\": \"https://raw.githubusercontent.com/openpolis/geojson-italy/master/geojson/limits_IT_regions.geojson\", \"hovertemplate\": \"Date=2020-08-15<br>Region=%{location}<br>ICU=%{z}<extra></extra>\", \"locations\": [13, 17, 18, 15, 8, 6, 12, 7, 3, 11, 14, 4, 4, 1, 16, 20, 19, 9, 10, 2, 5], \"name\": \"\", \"z\": [1, 0, 1, 1, 4, 3, 9, 3, 12, 1, 0, 1, 1, 3, 1, 0, 5, 4, 1, 0, 4], \"type\": \"choropleth\"}], \"name\": \"2020-08-15\"}, {\"data\": [{\"coloraxis\": \"coloraxis\", \"featureidkey\": \"properties.reg_istat_code_num\", \"geo\": \"geo\", \"geojson\": \"https://raw.githubusercontent.com/openpolis/geojson-italy/master/geojson/limits_IT_regions.geojson\", \"hovertemplate\": \"Date=2020-08-16<br>Region=%{location}<br>ICU=%{z}<extra></extra>\", \"locations\": [13, 17, 18, 15, 8, 6, 12, 7, 3, 11, 14, 4, 4, 1, 16, 20, 19, 9, 10, 2, 5], \"name\": \"\", \"z\": [1, 0, 1, 1, 4, 3, 9, 3, 13, 1, 0, 1, 1, 3, 1, 0, 5, 4, 1, 0, 4], \"type\": \"choropleth\"}], \"name\": \"2020-08-16\"}, {\"data\": [{\"coloraxis\": \"coloraxis\", \"featureidkey\": \"properties.reg_istat_code_num\", \"geo\": \"geo\", \"geojson\": \"https://raw.githubusercontent.com/openpolis/geojson-italy/master/geojson/limits_IT_regions.geojson\", \"hovertemplate\": \"Date=2020-08-17<br>Region=%{location}<br>ICU=%{z}<extra></extra>\", \"locations\": [13, 17, 18, 15, 8, 6, 12, 7, 3, 11, 14, 4, 4, 1, 16, 20, 19, 9, 10, 2, 5], \"name\": \"\", \"z\": [1, 0, 1, 1, 4, 3, 9, 3, 14, 1, 0, 1, 1, 2, 2, 0, 6, 4, 1, 0, 4], \"type\": \"choropleth\"}], \"name\": \"2020-08-17\"}, {\"data\": [{\"coloraxis\": \"coloraxis\", \"featureidkey\": \"properties.reg_istat_code_num\", \"geo\": \"geo\", \"geojson\": \"https://raw.githubusercontent.com/openpolis/geojson-italy/master/geojson/limits_IT_regions.geojson\", \"hovertemplate\": \"Date=2020-08-18<br>Region=%{location}<br>ICU=%{z}<extra></extra>\", \"locations\": [13, 17, 18, 15, 8, 6, 12, 7, 3, 11, 14, 4, 4, 1, 16, 20, 19, 9, 10, 2, 5], \"name\": \"\", \"z\": [1, 0, 1, 2, 4, 3, 6, 1, 14, 1, 0, 1, 1, 3, 3, 0, 6, 4, 1, 0, 6], \"type\": \"choropleth\"}], \"name\": \"2020-08-18\"}, {\"data\": [{\"coloraxis\": \"coloraxis\", \"featureidkey\": \"properties.reg_istat_code_num\", \"geo\": \"geo\", \"geojson\": \"https://raw.githubusercontent.com/openpolis/geojson-italy/master/geojson/limits_IT_regions.geojson\", \"hovertemplate\": \"Date=2020-08-19<br>Region=%{location}<br>ICU=%{z}<extra></extra>\", \"locations\": [13, 17, 18, 15, 8, 6, 12, 7, 3, 11, 14, 4, 4, 1, 16, 20, 19, 9, 10, 2, 5], \"name\": \"\", \"z\": [2, 0, 1, 2, 7, 3, 6, 1, 14, 1, 0, 1, 1, 3, 3, 0, 8, 5, 2, 0, 6], \"type\": \"choropleth\"}], \"name\": \"2020-08-19\"}, {\"data\": [{\"coloraxis\": \"coloraxis\", \"featureidkey\": \"properties.reg_istat_code_num\", \"geo\": \"geo\", \"geojson\": \"https://raw.githubusercontent.com/openpolis/geojson-italy/master/geojson/limits_IT_regions.geojson\", \"hovertemplate\": \"Date=2020-08-20<br>Region=%{location}<br>ICU=%{z}<extra></extra>\", \"locations\": [13, 17, 18, 15, 8, 6, 12, 7, 3, 11, 14, 4, 4, 1, 16, 20, 19, 9, 10, 2, 5], \"name\": \"\", \"z\": [1, 0, 1, 2, 8, 3, 6, 1, 16, 1, 0, 1, 1, 3, 3, 0, 8, 5, 1, 0, 7], \"type\": \"choropleth\"}], \"name\": \"2020-08-20\"}, {\"data\": [{\"coloraxis\": \"coloraxis\", \"featureidkey\": \"properties.reg_istat_code_num\", \"geo\": \"geo\", \"geojson\": \"https://raw.githubusercontent.com/openpolis/geojson-italy/master/geojson/limits_IT_regions.geojson\", \"hovertemplate\": \"Date=2020-08-21<br>Region=%{location}<br>ICU=%{z}<extra></extra>\", \"locations\": [13, 17, 18, 15, 8, 6, 12, 7, 3, 11, 14, 4, 4, 1, 16, 20, 19, 9, 10, 2, 5], \"name\": \"\", \"z\": [1, 0, 1, 2, 8, 2, 6, 1, 17, 1, 0, 1, 1, 4, 4, 0, 8, 5, 1, 0, 6], \"type\": \"choropleth\"}], \"name\": \"2020-08-21\"}, {\"data\": [{\"coloraxis\": \"coloraxis\", \"featureidkey\": \"properties.reg_istat_code_num\", \"geo\": \"geo\", \"geojson\": \"https://raw.githubusercontent.com/openpolis/geojson-italy/master/geojson/limits_IT_regions.geojson\", \"hovertemplate\": \"Date=2020-08-22<br>Region=%{location}<br>ICU=%{z}<extra></extra>\", \"locations\": [13, 17, 18, 15, 8, 6, 12, 7, 3, 11, 14, 4, 4, 1, 16, 20, 19, 9, 10, 2, 5], \"name\": \"\", \"z\": [1, 0, 1, 1, 8, 2, 6, 1, 14, 1, 0, 1, 1, 4, 4, 0, 8, 6, 1, 0, 4], \"type\": \"choropleth\"}], \"name\": \"2020-08-22\"}, {\"data\": [{\"coloraxis\": \"coloraxis\", \"featureidkey\": \"properties.reg_istat_code_num\", \"geo\": \"geo\", \"geojson\": \"https://raw.githubusercontent.com/openpolis/geojson-italy/master/geojson/limits_IT_regions.geojson\", \"hovertemplate\": \"Date=2020-08-23<br>Region=%{location}<br>ICU=%{z}<extra></extra>\", \"locations\": [13, 17, 18, 15, 8, 6, 12, 7, 3, 11, 14, 4, 4, 1, 16, 20, 19, 9, 10, 2, 5], \"name\": \"\", \"z\": [1, 0, 1, 2, 8, 2, 6, 1, 14, 1, 0, 1, 1, 5, 4, 0, 10, 7, 1, 0, 4], \"type\": \"choropleth\"}], \"name\": \"2020-08-23\"}, {\"data\": [{\"coloraxis\": \"coloraxis\", \"featureidkey\": \"properties.reg_istat_code_num\", \"geo\": \"geo\", \"geojson\": \"https://raw.githubusercontent.com/openpolis/geojson-italy/master/geojson/limits_IT_regions.geojson\", \"hovertemplate\": \"Date=2020-08-24<br>Region=%{location}<br>ICU=%{z}<extra></extra>\", \"locations\": [13, 17, 18, 15, 8, 6, 12, 7, 3, 11, 14, 4, 4, 1, 16, 20, 19, 9, 10, 2, 5], \"name\": \"\", \"z\": [1, 0, 1, 2, 8, 2, 6, 0, 15, 0, 0, 1, 1, 5, 4, 0, 9, 5, 1, 0, 4], \"type\": \"choropleth\"}], \"name\": \"2020-08-24\"}, {\"data\": [{\"coloraxis\": \"coloraxis\", \"featureidkey\": \"properties.reg_istat_code_num\", \"geo\": \"geo\", \"geojson\": \"https://raw.githubusercontent.com/openpolis/geojson-italy/master/geojson/limits_IT_regions.geojson\", \"hovertemplate\": \"Date=2020-08-25<br>Region=%{location}<br>ICU=%{z}<extra></extra>\", \"locations\": [13, 17, 18, 15, 8, 6, 12, 7, 3, 11, 14, 4, 4, 1, 16, 20, 19, 9, 10, 2, 5], \"name\": \"\", \"z\": [1, 0, 1, 3, 5, 2, 6, 0, 15, 0, 0, 1, 1, 6, 4, 0, 10, 5, 1, 0, 5], \"type\": \"choropleth\"}], \"name\": \"2020-08-25\"}, {\"data\": [{\"coloraxis\": \"coloraxis\", \"featureidkey\": \"properties.reg_istat_code_num\", \"geo\": \"geo\", \"geojson\": \"https://raw.githubusercontent.com/openpolis/geojson-italy/master/geojson/limits_IT_regions.geojson\", \"hovertemplate\": \"Date=2020-08-26<br>Region=%{location}<br>ICU=%{z}<extra></extra>\", \"locations\": [13, 17, 18, 15, 8, 6, 12, 7, 3, 11, 14, 4, 4, 1, 16, 20, 19, 9, 10, 2, 5], \"name\": \"\", \"z\": [1, 0, 0, 3, 6, 0, 6, 0, 17, 0, 0, 1, 1, 6, 4, 1, 10, 6, 1, 0, 6], \"type\": \"choropleth\"}], \"name\": \"2020-08-26\"}, {\"data\": [{\"coloraxis\": \"coloraxis\", \"featureidkey\": \"properties.reg_istat_code_num\", \"geo\": \"geo\", \"geojson\": \"https://raw.githubusercontent.com/openpolis/geojson-italy/master/geojson/limits_IT_regions.geojson\", \"hovertemplate\": \"Date=2020-08-27<br>Region=%{location}<br>ICU=%{z}<extra></extra>\", \"locations\": [13, 17, 18, 15, 8, 6, 12, 7, 3, 11, 14, 4, 4, 1, 16, 20, 19, 9, 10, 2, 5], \"name\": \"\", \"z\": [1, 0, 0, 4, 8, 0, 6, 0, 14, 0, 0, 1, 1, 6, 3, 2, 10, 5, 1, 0, 5], \"type\": \"choropleth\"}], \"name\": \"2020-08-27\"}, {\"data\": [{\"coloraxis\": \"coloraxis\", \"featureidkey\": \"properties.reg_istat_code_num\", \"geo\": \"geo\", \"geojson\": \"https://raw.githubusercontent.com/openpolis/geojson-italy/master/geojson/limits_IT_regions.geojson\", \"hovertemplate\": \"Date=2020-08-28<br>Region=%{location}<br>ICU=%{z}<extra></extra>\", \"locations\": [13, 17, 18, 15, 8, 6, 12, 7, 3, 11, 14, 4, 4, 1, 16, 20, 19, 9, 10, 2, 5], \"name\": \"\", \"z\": [1, 1, 0, 5, 9, 0, 6, 0, 17, 1, 0, 1, 1, 6, 5, 2, 9, 4, 0, 0, 6], \"type\": \"choropleth\"}], \"name\": \"2020-08-28\"}, {\"data\": [{\"coloraxis\": \"coloraxis\", \"featureidkey\": \"properties.reg_istat_code_num\", \"geo\": \"geo\", \"geojson\": \"https://raw.githubusercontent.com/openpolis/geojson-italy/master/geojson/limits_IT_regions.geojson\", \"hovertemplate\": \"Date=2020-08-29<br>Region=%{location}<br>ICU=%{z}<extra></extra>\", \"locations\": [13, 17, 18, 15, 8, 6, 12, 7, 3, 11, 14, 4, 4, 1, 16, 20, 19, 9, 10, 2, 5], \"name\": \"\", \"z\": [1, 1, 0, 2, 10, 0, 8, 1, 18, 1, 0, 2, 1, 5, 5, 2, 10, 5, 1, 0, 6], \"type\": \"choropleth\"}], \"name\": \"2020-08-29\"}, {\"data\": [{\"coloraxis\": \"coloraxis\", \"featureidkey\": \"properties.reg_istat_code_num\", \"geo\": \"geo\", \"geojson\": \"https://raw.githubusercontent.com/openpolis/geojson-italy/master/geojson/limits_IT_regions.geojson\", \"hovertemplate\": \"Date=2020-08-30<br>Region=%{location}<br>ICU=%{z}<extra></extra>\", \"locations\": [13, 17, 18, 15, 8, 6, 12, 7, 3, 11, 14, 4, 4, 1, 16, 20, 19, 9, 10, 2, 5], \"name\": \"\", \"z\": [1, 1, 0, 4, 11, 1, 7, 1, 20, 1, 0, 2, 1, 5, 5, 3, 10, 5, 1, 0, 7], \"type\": \"choropleth\"}], \"name\": \"2020-08-30\"}, {\"data\": [{\"coloraxis\": \"coloraxis\", \"featureidkey\": \"properties.reg_istat_code_num\", \"geo\": \"geo\", \"geojson\": \"https://raw.githubusercontent.com/openpolis/geojson-italy/master/geojson/limits_IT_regions.geojson\", \"hovertemplate\": \"Date=2020-08-31<br>Region=%{location}<br>ICU=%{z}<extra></extra>\", \"locations\": [13, 17, 18, 15, 8, 6, 12, 7, 3, 11, 14, 4, 4, 1, 16, 20, 19, 9, 10, 2, 5], \"name\": \"\", \"z\": [1, 1, 0, 1, 9, 2, 7, 1, 22, 1, 0, 2, 1, 7, 7, 4, 10, 8, 2, 0, 8], \"type\": \"choropleth\"}], \"name\": \"2020-08-31\"}, {\"data\": [{\"coloraxis\": \"coloraxis\", \"featureidkey\": \"properties.reg_istat_code_num\", \"geo\": \"geo\", \"geojson\": \"https://raw.githubusercontent.com/openpolis/geojson-italy/master/geojson/limits_IT_regions.geojson\", \"hovertemplate\": \"Date=2020-09-01<br>Region=%{location}<br>ICU=%{z}<extra></extra>\", \"locations\": [13, 17, 18, 15, 8, 6, 12, 7, 3, 11, 14, 4, 4, 1, 16, 20, 19, 9, 10, 2, 5], \"name\": \"\", \"z\": [1, 1, 0, 6, 9, 2, 8, 5, 21, 1, 0, 2, 1, 7, 7, 6, 10, 9, 2, 0, 9], \"type\": \"choropleth\"}], \"name\": \"2020-09-01\"}, {\"data\": [{\"coloraxis\": \"coloraxis\", \"featureidkey\": \"properties.reg_istat_code_num\", \"geo\": \"geo\", \"geojson\": \"https://raw.githubusercontent.com/openpolis/geojson-italy/master/geojson/limits_IT_regions.geojson\", \"hovertemplate\": \"Date=2020-09-02<br>Region=%{location}<br>ICU=%{z}<extra></extra>\", \"locations\": [13, 17, 18, 15, 8, 6, 12, 7, 3, 11, 14, 4, 4, 1, 16, 20, 19, 9, 10, 2, 5], \"name\": \"\", \"z\": [1, 1, 0, 4, 10, 3, 9, 6, 22, 1, 0, 2, 1, 7, 6, 5, 12, 8, 2, 0, 9], \"type\": \"choropleth\"}], \"name\": \"2020-09-02\"}, {\"data\": [{\"coloraxis\": \"coloraxis\", \"featureidkey\": \"properties.reg_istat_code_num\", \"geo\": \"geo\", \"geojson\": \"https://raw.githubusercontent.com/openpolis/geojson-italy/master/geojson/limits_IT_regions.geojson\", \"hovertemplate\": \"Date=2020-09-03<br>Region=%{location}<br>ICU=%{z}<extra></extra>\", \"locations\": [13, 17, 18, 15, 8, 6, 12, 7, 3, 11, 14, 4, 4, 1, 16, 20, 19, 9, 10, 2, 5], \"name\": \"\", \"z\": [1, 1, 1, 4, 11, 3, 9, 7, 27, 1, 0, 2, 1, 7, 6, 6, 12, 7, 2, 0, 12], \"type\": \"choropleth\"}], \"name\": \"2020-09-03\"}, {\"data\": [{\"coloraxis\": \"coloraxis\", \"featureidkey\": \"properties.reg_istat_code_num\", \"geo\": \"geo\", \"geojson\": \"https://raw.githubusercontent.com/openpolis/geojson-italy/master/geojson/limits_IT_regions.geojson\", \"hovertemplate\": \"Date=2020-09-04<br>Region=%{location}<br>ICU=%{z}<extra></extra>\", \"locations\": [13, 17, 18, 15, 8, 6, 12, 7, 3, 11, 14, 4, 4, 1, 16, 20, 19, 9, 10, 2, 5], \"name\": \"\", \"z\": [1, 1, 1, 5, 13, 4, 9, 6, 26, 1, 0, 2, 0, 7, 7, 6, 11, 8, 3, 0, 10], \"type\": \"choropleth\"}], \"name\": \"2020-09-04\"}, {\"data\": [{\"coloraxis\": \"coloraxis\", \"featureidkey\": \"properties.reg_istat_code_num\", \"geo\": \"geo\", \"geojson\": \"https://raw.githubusercontent.com/openpolis/geojson-italy/master/geojson/limits_IT_regions.geojson\", \"hovertemplate\": \"Date=2020-09-05<br>Region=%{location}<br>ICU=%{z}<extra></extra>\", \"locations\": [13, 17, 18, 15, 8, 6, 12, 7, 3, 11, 14, 4, 4, 1, 16, 20, 19, 9, 10, 2, 5], \"name\": \"\", \"z\": [2, 1, 0, 6, 12, 3, 11, 7, 23, 1, 0, 2, 0, 7, 7, 8, 12, 8, 2, 0, 9], \"type\": \"choropleth\"}], \"name\": \"2020-09-05\"}, {\"data\": [{\"coloraxis\": \"coloraxis\", \"featureidkey\": \"properties.reg_istat_code_num\", \"geo\": \"geo\", \"geojson\": \"https://raw.githubusercontent.com/openpolis/geojson-italy/master/geojson/limits_IT_regions.geojson\", \"hovertemplate\": \"Date=2020-09-06<br>Region=%{location}<br>ICU=%{z}<extra></extra>\", \"locations\": [13, 17, 18, 15, 8, 6, 12, 7, 3, 11, 14, 4, 4, 1, 16, 20, 19, 9, 10, 2, 5], \"name\": \"\", \"z\": [2, 1, 0, 7, 14, 4, 10, 9, 25, 1, 0, 2, 0, 8, 7, 8, 13, 8, 2, 0, 12], \"type\": \"choropleth\"}], \"name\": \"2020-09-06\"}, {\"data\": [{\"coloraxis\": \"coloraxis\", \"featureidkey\": \"properties.reg_istat_code_num\", \"geo\": \"geo\", \"geojson\": \"https://raw.githubusercontent.com/openpolis/geojson-italy/master/geojson/limits_IT_regions.geojson\", \"hovertemplate\": \"Date=2020-09-07<br>Region=%{location}<br>ICU=%{z}<extra></extra>\", \"locations\": [13, 17, 18, 15, 8, 6, 12, 7, 3, 11, 14, 4, 4, 1, 16, 20, 19, 9, 10, 2, 5], \"name\": \"\", \"z\": [2, 1, 1, 7, 18, 4, 9, 10, 26, 1, 0, 2, 0, 8, 6, 10, 13, 9, 2, 0, 13], \"type\": \"choropleth\"}], \"name\": \"2020-09-07\"}, {\"data\": [{\"coloraxis\": \"coloraxis\", \"featureidkey\": \"properties.reg_istat_code_num\", \"geo\": \"geo\", \"geojson\": \"https://raw.githubusercontent.com/openpolis/geojson-italy/master/geojson/limits_IT_regions.geojson\", \"hovertemplate\": \"Date=2020-09-08<br>Region=%{location}<br>ICU=%{z}<extra></extra>\", \"locations\": [13, 17, 18, 15, 8, 6, 12, 7, 3, 11, 14, 4, 4, 1, 16, 20, 19, 9, 10, 2, 5], \"name\": \"\", \"z\": [2, 1, 1, 9, 16, 4, 9, 11, 27, 1, 0, 0, 0, 9, 7, 10, 13, 9, 2, 0, 12], \"type\": \"choropleth\"}], \"name\": \"2020-09-08\"}, {\"data\": [{\"coloraxis\": \"coloraxis\", \"featureidkey\": \"properties.reg_istat_code_num\", \"geo\": \"geo\", \"geojson\": \"https://raw.githubusercontent.com/openpolis/geojson-italy/master/geojson/limits_IT_regions.geojson\", \"hovertemplate\": \"Date=2020-09-09<br>Region=%{location}<br>ICU=%{z}<extra></extra>\", \"locations\": [13, 17, 18, 15, 8, 6, 12, 7, 3, 11, 14, 4, 4, 1, 16, 20, 19, 9, 10, 2, 5], \"name\": \"\", \"z\": [2, 1, 2, 10, 16, 3, 9, 11, 27, 2, 0, 0, 0, 9, 6, 12, 15, 11, 2, 0, 12], \"type\": \"choropleth\"}], \"name\": \"2020-09-09\"}, {\"data\": [{\"coloraxis\": \"coloraxis\", \"featureidkey\": \"properties.reg_istat_code_num\", \"geo\": \"geo\", \"geojson\": \"https://raw.githubusercontent.com/openpolis/geojson-italy/master/geojson/limits_IT_regions.geojson\", \"hovertemplate\": \"Date=2020-09-10<br>Region=%{location}<br>ICU=%{z}<extra></extra>\", \"locations\": [13, 17, 18, 15, 8, 6, 12, 7, 3, 11, 14, 4, 4, 1, 16, 20, 19, 9, 10, 2, 5], \"name\": \"\", \"z\": [3, 1, 3, 10, 17, 3, 9, 11, 30, 2, 0, 0, 0, 9, 8, 12, 18, 13, 3, 0, 12], \"type\": \"choropleth\"}], \"name\": \"2020-09-10\"}, {\"data\": [{\"coloraxis\": \"coloraxis\", \"featureidkey\": \"properties.reg_istat_code_num\", \"geo\": \"geo\", \"geojson\": \"https://raw.githubusercontent.com/openpolis/geojson-italy/master/geojson/limits_IT_regions.geojson\", \"hovertemplate\": \"Date=2020-09-11<br>Region=%{location}<br>ICU=%{z}<extra></extra>\", \"locations\": [13, 17, 18, 15, 8, 6, 12, 7, 3, 11, 14, 4, 4, 1, 16, 20, 19, 9, 10, 2, 5], \"name\": \"\", \"z\": [4, 1, 3, 13, 18, 3, 14, 12, 27, 2, 0, 0, 0, 9, 8, 12, 17, 17, 4, 0, 11], \"type\": \"choropleth\"}], \"name\": \"2020-09-11\"}, {\"data\": [{\"coloraxis\": \"coloraxis\", \"featureidkey\": \"properties.reg_istat_code_num\", \"geo\": \"geo\", \"geojson\": \"https://raw.githubusercontent.com/openpolis/geojson-italy/master/geojson/limits_IT_regions.geojson\", \"hovertemplate\": \"Date=2020-09-12<br>Region=%{location}<br>ICU=%{z}<extra></extra>\", \"locations\": [13, 17, 18, 15, 8, 6, 12, 7, 3, 11, 14, 4, 4, 1, 16, 20, 19, 9, 10, 2, 5], \"name\": \"\", \"z\": [3, 1, 3, 17, 17, 2, 16, 11, 27, 2, 0, 0, 0, 9, 8, 14, 18, 18, 4, 0, 12], \"type\": \"choropleth\"}], \"name\": \"2020-09-12\"}, {\"data\": [{\"coloraxis\": \"coloraxis\", \"featureidkey\": \"properties.reg_istat_code_num\", \"geo\": \"geo\", \"geojson\": \"https://raw.githubusercontent.com/openpolis/geojson-italy/master/geojson/limits_IT_regions.geojson\", \"hovertemplate\": \"Date=2020-09-13<br>Region=%{location}<br>ICU=%{z}<extra></extra>\", \"locations\": [13, 17, 18, 15, 8, 6, 12, 7, 3, 11, 14, 4, 4, 1, 16, 20, 19, 9, 10, 2, 5], \"name\": \"\", \"z\": [3, 1, 3, 19, 17, 2, 17, 11, 28, 2, 1, 0, 0, 8, 9, 14, 17, 17, 4, 0, 14], \"type\": \"choropleth\"}], \"name\": \"2020-09-13\"}, {\"data\": [{\"coloraxis\": \"coloraxis\", \"featureidkey\": \"properties.reg_istat_code_num\", \"geo\": \"geo\", \"geojson\": \"https://raw.githubusercontent.com/openpolis/geojson-italy/master/geojson/limits_IT_regions.geojson\", \"hovertemplate\": \"Date=2020-09-14<br>Region=%{location}<br>ICU=%{z}<extra></extra>\", \"locations\": [13, 17, 18, 15, 8, 6, 12, 7, 3, 11, 14, 4, 4, 1, 16, 20, 19, 9, 10, 2, 5], \"name\": \"\", \"z\": [4, 1, 2, 19, 18, 3, 17, 12, 28, 2, 1, 0, 0, 9, 11, 16, 16, 18, 5, 1, 14], \"type\": \"choropleth\"}], \"name\": \"2020-09-14\"}, {\"data\": [{\"coloraxis\": \"coloraxis\", \"featureidkey\": \"properties.reg_istat_code_num\", \"geo\": \"geo\", \"geojson\": \"https://raw.githubusercontent.com/openpolis/geojson-italy/master/geojson/limits_IT_regions.geojson\", \"hovertemplate\": \"Date=2020-09-15<br>Region=%{location}<br>ICU=%{z}<extra></extra>\", \"locations\": [13, 17, 18, 15, 8, 6, 12, 7, 3, 11, 14, 4, 4, 1, 16, 20, 19, 9, 10, 2, 5], \"name\": \"\", \"z\": [4, 1, 2, 18, 17, 2, 18, 12, 29, 2, 1, 1, 0, 8, 13, 18, 17, 17, 6, 0, 15], \"type\": \"choropleth\"}], \"name\": \"2020-09-15\"}, {\"data\": [{\"coloraxis\": \"coloraxis\", \"featureidkey\": \"properties.reg_istat_code_num\", \"geo\": \"geo\", \"geojson\": \"https://raw.githubusercontent.com/openpolis/geojson-italy/master/geojson/limits_IT_regions.geojson\", \"hovertemplate\": \"Date=2020-09-16<br>Region=%{location}<br>ICU=%{z}<extra></extra>\", \"locations\": [13, 17, 18, 15, 8, 6, 12, 7, 3, 11, 14, 4, 4, 1, 16, 20, 19, 9, 10, 2, 5], \"name\": \"\", \"z\": [5, 1, 2, 19, 19, 3, 18, 13, 30, 2, 1, 2, 0, 6, 14, 17, 16, 20, 5, 0, 14], \"type\": \"choropleth\"}], \"name\": \"2020-09-16\"}, {\"data\": [{\"coloraxis\": \"coloraxis\", \"featureidkey\": \"properties.reg_istat_code_num\", \"geo\": \"geo\", \"geojson\": \"https://raw.githubusercontent.com/openpolis/geojson-italy/master/geojson/limits_IT_regions.geojson\", \"hovertemplate\": \"Date=2020-09-17<br>Region=%{location}<br>ICU=%{z}<extra></extra>\", \"locations\": [13, 17, 18, 15, 8, 6, 12, 7, 3, 11, 14, 4, 4, 1, 16, 20, 19, 9, 10, 2, 5], \"name\": \"\", \"z\": [5, 1, 4, 21, 21, 4, 16, 15, 32, 2, 1, 2, 0, 6, 14, 17, 14, 20, 5, 0, 12], \"type\": \"choropleth\"}], \"name\": \"2020-09-17\"}, {\"data\": [{\"coloraxis\": \"coloraxis\", \"featureidkey\": \"properties.reg_istat_code_num\", \"geo\": \"geo\", \"geojson\": \"https://raw.githubusercontent.com/openpolis/geojson-italy/master/geojson/limits_IT_regions.geojson\", \"hovertemplate\": \"Date=2020-09-18<br>Region=%{location}<br>ICU=%{z}<extra></extra>\", \"locations\": [13, 17, 18, 15, 8, 6, 12, 7, 3, 11, 14, 4, 4, 1, 16, 20, 19, 9, 10, 2, 5], \"name\": \"\", \"z\": [5, 1, 4, 20, 21, 4, 17, 16, 32, 1, 1, 2, 0, 6, 12, 17, 15, 21, 5, 0, 8], \"type\": \"choropleth\"}], \"name\": \"2020-09-18\"}, {\"data\": [{\"coloraxis\": \"coloraxis\", \"featureidkey\": \"properties.reg_istat_code_num\", \"geo\": \"geo\", \"geojson\": \"https://raw.githubusercontent.com/openpolis/geojson-italy/master/geojson/limits_IT_regions.geojson\", \"hovertemplate\": \"Date=2020-09-19<br>Region=%{location}<br>ICU=%{z}<extra></extra>\", \"locations\": [13, 17, 18, 15, 8, 6, 12, 7, 3, 11, 14, 4, 4, 1, 16, 20, 19, 9, 10, 2, 5], \"name\": \"\", \"z\": [5, 1, 4, 19, 19, 3, 22, 16, 36, 2, 1, 2, 0, 6, 13, 18, 13, 21, 4, 0, 10], \"type\": \"choropleth\"}], \"name\": \"2020-09-19\"}, {\"data\": [{\"coloraxis\": \"coloraxis\", \"featureidkey\": \"properties.reg_istat_code_num\", \"geo\": \"geo\", \"geojson\": \"https://raw.githubusercontent.com/openpolis/geojson-italy/master/geojson/limits_IT_regions.geojson\", \"hovertemplate\": \"Date=2020-09-20<br>Region=%{location}<br>ICU=%{z}<extra></extra>\", \"locations\": [13, 17, 18, 15, 8, 6, 12, 7, 3, 11, 14, 4, 4, 1, 16, 20, 19, 9, 10, 2, 5], \"name\": \"\", \"z\": [5, 1, 4, 22, 19, 4, 23, 15, 38, 2, 1, 2, 0, 7, 11, 18, 13, 23, 4, 0, 10], \"type\": \"choropleth\"}], \"name\": \"2020-09-20\"}, {\"data\": [{\"coloraxis\": \"coloraxis\", \"featureidkey\": \"properties.reg_istat_code_num\", \"geo\": \"geo\", \"geojson\": \"https://raw.githubusercontent.com/openpolis/geojson-italy/master/geojson/limits_IT_regions.geojson\", \"hovertemplate\": \"Date=2020-09-21<br>Region=%{location}<br>ICU=%{z}<extra></extra>\", \"locations\": [13, 17, 18, 15, 8, 6, 12, 7, 3, 11, 14, 4, 4, 1, 16, 20, 19, 9, 10, 2, 5], \"name\": \"\", \"z\": [5, 1, 4, 21, 23, 5, 27, 15, 36, 2, 1, 1, 0, 7, 11, 20, 14, 23, 4, 0, 12], \"type\": \"choropleth\"}], \"name\": \"2020-09-21\"}, {\"data\": [{\"coloraxis\": \"coloraxis\", \"featureidkey\": \"properties.reg_istat_code_num\", \"geo\": \"geo\", \"geojson\": \"https://raw.githubusercontent.com/openpolis/geojson-italy/master/geojson/limits_IT_regions.geojson\", \"hovertemplate\": \"Date=2020-09-22<br>Region=%{location}<br>ICU=%{z}<extra></extra>\", \"locations\": [13, 17, 18, 15, 8, 6, 12, 7, 3, 11, 14, 4, 4, 1, 16, 20, 19, 9, 10, 2, 5], \"name\": \"\", \"z\": [5, 1, 4, 23, 22, 5, 31, 17, 34, 3, 1, 1, 0, 7, 10, 21, 15, 21, 4, 0, 14], \"type\": \"choropleth\"}], \"name\": \"2020-09-22\"}, {\"data\": [{\"coloraxis\": \"coloraxis\", \"featureidkey\": \"properties.reg_istat_code_num\", \"geo\": \"geo\", \"geojson\": \"https://raw.githubusercontent.com/openpolis/geojson-italy/master/geojson/limits_IT_regions.geojson\", \"hovertemplate\": \"Date=2020-09-23<br>Region=%{location}<br>ICU=%{z}<extra></extra>\", \"locations\": [13, 17, 18, 15, 8, 6, 12, 7, 3, 11, 14, 4, 4, 1, 16, 20, 19, 9, 10, 2, 5], \"name\": \"\", \"z\": [4, 1, 4, 22, 20, 6, 32, 18, 33, 4, 1, 1, 0, 8, 10, 21, 16, 24, 3, 0, 16], \"type\": \"choropleth\"}], \"name\": \"2020-09-23\"}, {\"data\": [{\"coloraxis\": \"coloraxis\", \"featureidkey\": \"properties.reg_istat_code_num\", \"geo\": \"geo\", \"geojson\": \"https://raw.githubusercontent.com/openpolis/geojson-italy/master/geojson/limits_IT_regions.geojson\", \"hovertemplate\": \"Date=2020-09-24<br>Region=%{location}<br>ICU=%{z}<extra></extra>\", \"locations\": [13, 17, 18, 15, 8, 6, 12, 7, 3, 11, 14, 4, 4, 1, 16, 20, 19, 9, 10, 2, 5], \"name\": \"\", \"z\": [4, 1, 4, 25, 20, 6, 35, 18, 31, 3, 1, 1, 0, 9, 10, 18, 16, 24, 3, 0, 17], \"type\": \"choropleth\"}], \"name\": \"2020-09-24\"}, {\"data\": [{\"coloraxis\": \"coloraxis\", \"featureidkey\": \"properties.reg_istat_code_num\", \"geo\": \"geo\", \"geojson\": \"https://raw.githubusercontent.com/openpolis/geojson-italy/master/geojson/limits_IT_regions.geojson\", \"hovertemplate\": \"Date=2020-09-25<br>Region=%{location}<br>ICU=%{z}<extra></extra>\", \"locations\": [13, 17, 18, 15, 8, 6, 12, 7, 3, 11, 14, 4, 4, 1, 16, 20, 19, 9, 10, 2, 5], \"name\": \"\", \"z\": [5, 1, 3, 27, 18, 6, 36, 17, 30, 2, 1, 1, 0, 9, 10, 19, 13, 24, 3, 0, 19], \"type\": \"choropleth\"}], \"name\": \"2020-09-25\"}, {\"data\": [{\"coloraxis\": \"coloraxis\", \"featureidkey\": \"properties.reg_istat_code_num\", \"geo\": \"geo\", \"geojson\": \"https://raw.githubusercontent.com/openpolis/geojson-italy/master/geojson/limits_IT_regions.geojson\", \"hovertemplate\": \"Date=2020-09-26<br>Region=%{location}<br>ICU=%{z}<extra></extra>\", \"locations\": [13, 17, 18, 15, 8, 6, 12, 7, 3, 11, 14, 4, 4, 1, 16, 20, 19, 9, 10, 2, 5], \"name\": \"\", \"z\": [5, 1, 2, 29, 17, 6, 35, 19, 30, 2, 1, 0, 0, 10, 11, 18, 13, 24, 3, 0, 21], \"type\": \"choropleth\"}], \"name\": \"2020-09-26\"}, {\"data\": [{\"coloraxis\": \"coloraxis\", \"featureidkey\": \"properties.reg_istat_code_num\", \"geo\": \"geo\", \"geojson\": \"https://raw.githubusercontent.com/openpolis/geojson-italy/master/geojson/limits_IT_regions.geojson\", \"hovertemplate\": \"Date=2020-09-27<br>Region=%{location}<br>ICU=%{z}<extra></extra>\", \"locations\": [13, 17, 18, 15, 8, 6, 12, 7, 3, 11, 14, 4, 4, 1, 16, 20, 19, 9, 10, 2, 5], \"name\": \"\", \"z\": [5, 1, 2, 30, 15, 6, 38, 22, 31, 2, 1, 0, 0, 10, 12, 18, 14, 23, 3, 0, 21], \"type\": \"choropleth\"}], \"name\": \"2020-09-27\"}, {\"data\": [{\"coloraxis\": \"coloraxis\", \"featureidkey\": \"properties.reg_istat_code_num\", \"geo\": \"geo\", \"geojson\": \"https://raw.githubusercontent.com/openpolis/geojson-italy/master/geojson/limits_IT_regions.geojson\", \"hovertemplate\": \"Date=2020-09-28<br>Region=%{location}<br>ICU=%{z}<extra></extra>\", \"locations\": [13, 17, 18, 15, 8, 6, 12, 7, 3, 11, 14, 4, 4, 1, 16, 20, 19, 9, 10, 2, 5], \"name\": \"\", \"z\": [4, 1, 2, 30, 15, 6, 41, 24, 31, 4, 1, 0, 0, 12, 15, 17, 15, 22, 3, 0, 21], \"type\": \"choropleth\"}], \"name\": \"2020-09-28\"}, {\"data\": [{\"coloraxis\": \"coloraxis\", \"featureidkey\": \"properties.reg_istat_code_num\", \"geo\": \"geo\", \"geojson\": \"https://raw.githubusercontent.com/openpolis/geojson-italy/master/geojson/limits_IT_regions.geojson\", \"hovertemplate\": \"Date=2020-09-29<br>Region=%{location}<br>ICU=%{z}<extra></extra>\", \"locations\": [13, 17, 18, 15, 8, 6, 12, 7, 3, 11, 14, 4, 4, 1, 16, 20, 19, 9, 10, 2, 5], \"name\": \"\", \"z\": [4, 1, 2, 35, 14, 6, 45, 22, 33, 3, 1, 0, 0, 12, 14, 19, 16, 20, 3, 0, 21], \"type\": \"choropleth\"}], \"name\": \"2020-09-29\"}, {\"data\": [{\"coloraxis\": \"coloraxis\", \"featureidkey\": \"properties.reg_istat_code_num\", \"geo\": \"geo\", \"geojson\": \"https://raw.githubusercontent.com/openpolis/geojson-italy/master/geojson/limits_IT_regions.geojson\", \"hovertemplate\": \"Date=2020-09-30<br>Region=%{location}<br>ICU=%{z}<extra></extra>\", \"locations\": [13, 17, 18, 15, 8, 6, 12, 7, 3, 11, 14, 4, 4, 1, 16, 20, 19, 9, 10, 2, 5], \"name\": \"\", \"z\": [5, 2, 2, 39, 14, 6, 47, 22, 34, 2, 0, 0, 0, 12, 11, 19, 19, 22, 3, 0, 21], \"type\": \"choropleth\"}], \"name\": \"2020-09-30\"}, {\"data\": [{\"coloraxis\": \"coloraxis\", \"featureidkey\": \"properties.reg_istat_code_num\", \"geo\": \"geo\", \"geojson\": \"https://raw.githubusercontent.com/openpolis/geojson-italy/master/geojson/limits_IT_regions.geojson\", \"hovertemplate\": \"Date=2020-10-01<br>Region=%{location}<br>ICU=%{z}<extra></extra>\", \"locations\": [13, 17, 18, 15, 8, 6, 12, 7, 3, 11, 14, 4, 4, 1, 16, 20, 19, 9, 10, 2, 5], \"name\": \"\", \"z\": [5, 2, 2, 38, 14, 4, 49, 21, 35, 6, 0, 0, 0, 12, 14, 20, 20, 22, 3, 0, 24], \"type\": \"choropleth\"}], \"name\": \"2020-10-01\"}, {\"data\": [{\"coloraxis\": \"coloraxis\", \"featureidkey\": \"properties.reg_istat_code_num\", \"geo\": \"geo\", \"geojson\": \"https://raw.githubusercontent.com/openpolis/geojson-italy/master/geojson/limits_IT_regions.geojson\", \"hovertemplate\": \"Date=2020-10-02<br>Region=%{location}<br>ICU=%{z}<extra></extra>\", \"locations\": [13, 17, 18, 15, 8, 6, 12, 7, 3, 11, 14, 4, 4, 1, 16, 20, 19, 9, 10, 2, 5], \"name\": \"\", \"z\": [6, 2, 1, 39, 11, 2, 49, 23, 39, 4, 0, 0, 0, 13, 13, 21, 21, 24, 4, 0, 22], \"type\": \"choropleth\"}], \"name\": \"2020-10-02\"}, {\"data\": [{\"coloraxis\": \"coloraxis\", \"featureidkey\": \"properties.reg_istat_code_num\", \"geo\": \"geo\", \"geojson\": \"https://raw.githubusercontent.com/openpolis/geojson-italy/master/geojson/limits_IT_regions.geojson\", \"hovertemplate\": \"Date=2020-10-03<br>Region=%{location}<br>ICU=%{z}<extra></extra>\", \"locations\": [13, 17, 18, 15, 8, 6, 12, 7, 3, 11, 14, 4, 4, 1, 16, 20, 19, 9, 10, 2, 5], \"name\": \"\", \"z\": [6, 2, 2, 40, 11, 5, 47, 21, 42, 6, 0, 0, 0, 12, 12, 21, 20, 24, 5, 0, 21], \"type\": \"choropleth\"}], \"name\": \"2020-10-03\"}, {\"data\": [{\"coloraxis\": \"coloraxis\", \"featureidkey\": \"properties.reg_istat_code_num\", \"geo\": \"geo\", \"geojson\": \"https://raw.githubusercontent.com/openpolis/geojson-italy/master/geojson/limits_IT_regions.geojson\", \"hovertemplate\": \"Date=2020-10-04<br>Region=%{location}<br>ICU=%{z}<extra></extra>\", \"locations\": [13, 17, 18, 15, 8, 6, 12, 7, 3, 11, 14, 4, 4, 1, 16, 20, 19, 9, 10, 2, 5], \"name\": \"\", \"z\": [6, 2, 2, 41, 11, 5, 48, 23, 39, 6, 0, 0, 0, 13, 13, 20, 24, 26, 4, 0, 20], \"type\": \"choropleth\"}], \"name\": \"2020-10-04\"}, {\"data\": [{\"coloraxis\": \"coloraxis\", \"featureidkey\": \"properties.reg_istat_code_num\", \"geo\": \"geo\", \"geojson\": \"https://raw.githubusercontent.com/openpolis/geojson-italy/master/geojson/limits_IT_regions.geojson\", \"hovertemplate\": \"Date=2020-10-05<br>Region=%{location}<br>ICU=%{z}<extra></extra>\", \"locations\": [13, 17, 18, 15, 8, 6, 12, 7, 3, 11, 14, 4, 4, 1, 16, 20, 19, 9, 10, 2, 5], \"name\": \"\", \"z\": [7, 2, 2, 43, 11, 5, 48, 24, 41, 6, 0, 0, 0, 15, 14, 19, 28, 32, 5, 1, 20], \"type\": \"choropleth\"}], \"name\": \"2020-10-05\"}, {\"data\": [{\"coloraxis\": \"coloraxis\", \"featureidkey\": \"properties.reg_istat_code_num\", \"geo\": \"geo\", \"geojson\": \"https://raw.githubusercontent.com/openpolis/geojson-italy/master/geojson/limits_IT_regions.geojson\", \"hovertemplate\": \"Date=2020-10-06<br>Region=%{location}<br>ICU=%{z}<extra></extra>\", \"locations\": [13, 17, 18, 15, 8, 6, 12, 7, 3, 11, 14, 4, 4, 1, 16, 20, 19, 9, 10, 2, 5], \"name\": \"\", \"z\": [6, 2, 1, 47, 13, 5, 44, 23, 40, 6, 0, 0, 0, 15, 21, 19, 28, 28, 5, 1, 15], \"type\": \"choropleth\"}], \"name\": \"2020-10-06\"}, {\"data\": [{\"coloraxis\": \"coloraxis\", \"featureidkey\": \"properties.reg_istat_code_num\", \"geo\": \"geo\", \"geojson\": \"https://raw.githubusercontent.com/openpolis/geojson-italy/master/geojson/limits_IT_regions.geojson\", \"hovertemplate\": \"Date=2020-10-07<br>Region=%{location}<br>ICU=%{z}<extra></extra>\", \"locations\": [13, 17, 18, 15, 8, 6, 12, 7, 3, 11, 14, 4, 4, 1, 16, 20, 19, 9, 10, 2, 5], \"name\": \"\", \"z\": [6, 0, 1, 52, 14, 6, 48, 24, 40, 5, 0, 1, 0, 15, 23, 19, 30, 28, 8, 1, 16], \"type\": \"choropleth\"}], \"name\": \"2020-10-07\"}, {\"data\": [{\"coloraxis\": \"coloraxis\", \"featureidkey\": \"properties.reg_istat_code_num\", \"geo\": \"geo\", \"geojson\": \"https://raw.githubusercontent.com/openpolis/geojson-italy/master/geojson/limits_IT_regions.geojson\", \"hovertemplate\": \"Date=2020-10-08<br>Region=%{location}<br>ICU=%{z}<extra></extra>\", \"locations\": [13, 17, 18, 15, 8, 6, 12, 7, 3, 11, 14, 4, 4, 1, 16, 20, 19, 9, 10, 2, 5], \"name\": \"\", \"z\": [7, 0, 1, 55, 13, 6, 55, 28, 41, 5, 0, 1, 0, 16, 23, 19, 33, 27, 8, 1, 19], \"type\": \"choropleth\"}], \"name\": \"2020-10-08\"}, {\"data\": [{\"coloraxis\": \"coloraxis\", \"featureidkey\": \"properties.reg_istat_code_num\", \"geo\": \"geo\", \"geojson\": \"https://raw.githubusercontent.com/openpolis/geojson-italy/master/geojson/limits_IT_regions.geojson\", \"hovertemplate\": \"Date=2020-10-09<br>Region=%{location}<br>ICU=%{z}<extra></extra>\", \"locations\": [13, 17, 18, 15, 8, 6, 12, 7, 3, 11, 14, 4, 4, 1, 16, 20, 19, 9, 10, 2, 5], \"name\": \"\", \"z\": [7, 0, 1, 63, 14, 6, 57, 26, 44, 3, 0, 2, 0, 22, 23, 23, 35, 30, 8, 2, 21], \"type\": \"choropleth\"}], \"name\": \"2020-10-09\"}, {\"data\": [{\"coloraxis\": \"coloraxis\", \"featureidkey\": \"properties.reg_istat_code_num\", \"geo\": \"geo\", \"geojson\": \"https://raw.githubusercontent.com/openpolis/geojson-italy/master/geojson/limits_IT_regions.geojson\", \"hovertemplate\": \"Date=2020-10-10<br>Region=%{location}<br>ICU=%{z}<extra></extra>\", \"locations\": [13, 17, 18, 15, 8, 6, 12, 7, 3, 11, 14, 4, 4, 1, 16, 20, 19, 9, 10, 2, 5], \"name\": \"\", \"z\": [7, 0, 1, 63, 16, 6, 57, 26, 44, 3, 0, 2, 0, 22, 22, 25, 35, 30, 8, 3, 20], \"type\": \"choropleth\"}], \"name\": \"2020-10-10\"}, {\"data\": [{\"coloraxis\": \"coloraxis\", \"featureidkey\": \"properties.reg_istat_code_num\", \"geo\": \"geo\", \"geojson\": \"https://raw.githubusercontent.com/openpolis/geojson-italy/master/geojson/limits_IT_regions.geojson\", \"hovertemplate\": \"Date=2020-10-11<br>Region=%{location}<br>ICU=%{z}<extra></extra>\", \"locations\": [13, 17, 18, 15, 8, 6, 12, 7, 3, 11, 14, 4, 4, 1, 16, 20, 19, 9, 10, 2, 5], \"name\": \"\", \"z\": [8, 0, 1, 61, 23, 5, 69, 26, 48, 6, 0, 1, 0, 24, 21, 22, 38, 31, 9, 3, 24], \"type\": \"choropleth\"}], \"name\": \"2020-10-11\"}, {\"data\": [{\"coloraxis\": \"coloraxis\", \"featureidkey\": \"properties.reg_istat_code_num\", \"geo\": \"geo\", \"geojson\": \"https://raw.githubusercontent.com/openpolis/geojson-italy/master/geojson/limits_IT_regions.geojson\", \"hovertemplate\": \"Date=2020-10-12<br>Region=%{location}<br>ICU=%{z}<extra></extra>\", \"locations\": [13, 17, 18, 15, 8, 6, 12, 7, 3, 11, 14, 4, 4, 1, 16, 20, 19, 9, 10, 2, 5], \"name\": \"\", \"z\": [11, 0, 1, 64, 25, 5, 78, 24, 50, 5, 0, 2, 0, 22, 19, 23, 42, 40, 9, 3, 29], \"type\": \"choropleth\"}], \"name\": \"2020-10-12\"}, {\"data\": [{\"coloraxis\": \"coloraxis\", \"featureidkey\": \"properties.reg_istat_code_num\", \"geo\": \"geo\", \"geojson\": \"https://raw.githubusercontent.com/openpolis/geojson-italy/master/geojson/limits_IT_regions.geojson\", \"hovertemplate\": \"Date=2020-10-13<br>Region=%{location}<br>ICU=%{z}<extra></extra>\", \"locations\": [13, 17, 18, 15, 8, 6, 12, 7, 3, 11, 14, 4, 4, 1, 16, 20, 19, 9, 10, 2, 5], \"name\": \"\", \"z\": [15, 0, 1, 62, 31, 10, 83, 27, 62, 6, 0, 3, 0, 30, 23, 26, 44, 44, 11, 3, 33], \"type\": \"choropleth\"}], \"name\": \"2020-10-13\"}, {\"data\": [{\"coloraxis\": \"coloraxis\", \"featureidkey\": \"properties.reg_istat_code_num\", \"geo\": \"geo\", \"geojson\": \"https://raw.githubusercontent.com/openpolis/geojson-italy/master/geojson/limits_IT_regions.geojson\", \"hovertemplate\": \"Date=2020-10-14<br>Region=%{location}<br>ICU=%{z}<extra></extra>\", \"locations\": [13, 17, 18, 15, 8, 6, 12, 7, 3, 11, 14, 4, 4, 1, 16, 20, 19, 9, 10, 2, 5], \"name\": \"\", \"z\": [15, 0, 1, 61, 35, 11, 85, 29, 64, 8, 0, 3, 0, 33, 23, 26, 49, 46, 12, 3, 35], \"type\": \"choropleth\"}], \"name\": \"2020-10-14\"}, {\"data\": [{\"coloraxis\": \"coloraxis\", \"featureidkey\": \"properties.reg_istat_code_num\", \"geo\": \"geo\", \"geojson\": \"https://raw.githubusercontent.com/openpolis/geojson-italy/master/geojson/limits_IT_regions.geojson\", \"hovertemplate\": \"Date=2020-10-15<br>Region=%{location}<br>ICU=%{z}<extra></extra>\", \"locations\": [13, 17, 18, 15, 8, 6, 12, 7, 3, 11, 14, 4, 4, 1, 16, 20, 19, 9, 10, 2, 5], \"name\": \"\", \"z\": [10, 0, 3, 66, 49, 11, 90, 26, 72, 9, 0, 3, 0, 40, 26, 28, 52, 46, 12, 3, 40], \"type\": \"choropleth\"}], \"name\": \"2020-10-15\"}, {\"data\": [{\"coloraxis\": \"coloraxis\", \"featureidkey\": \"properties.reg_istat_code_num\", \"geo\": \"geo\", \"geojson\": \"https://raw.githubusercontent.com/openpolis/geojson-italy/master/geojson/limits_IT_regions.geojson\", \"hovertemplate\": \"Date=2020-10-16<br>Region=%{location}<br>ICU=%{z}<extra></extra>\", \"locations\": [13, 17, 18, 15, 8, 6, 12, 7, 3, 11, 14, 4, 4, 1, 16, 20, 19, 9, 10, 2, 5], \"name\": \"\", \"z\": [11, 0, 4, 67, 61, 12, 98, 32, 71, 10, 0, 6, 0, 43, 26, 29, 58, 51, 15, 4, 40], \"type\": \"choropleth\"}], \"name\": \"2020-10-16\"}, {\"data\": [{\"coloraxis\": \"coloraxis\", \"featureidkey\": \"properties.reg_istat_code_num\", \"geo\": \"geo\", \"geojson\": \"https://raw.githubusercontent.com/openpolis/geojson-italy/master/geojson/limits_IT_regions.geojson\", \"hovertemplate\": \"Date=2020-10-17<br>Region=%{location}<br>ICU=%{z}<extra></extra>\", \"locations\": [13, 17, 18, 15, 8, 6, 12, 7, 3, 11, 14, 4, 4, 1, 16, 20, 19, 9, 10, 2, 5], \"name\": \"\", \"z\": [13, 0, 5, 75, 65, 13, 98, 38, 96, 10, 0, 6, 0, 51, 33, 30, 61, 50, 16, 2, 43], \"type\": \"choropleth\"}], \"name\": \"2020-10-17\"}, {\"data\": [{\"coloraxis\": \"coloraxis\", \"featureidkey\": \"properties.reg_istat_code_num\", \"geo\": \"geo\", \"geojson\": \"https://raw.githubusercontent.com/openpolis/geojson-italy/master/geojson/limits_IT_regions.geojson\", \"hovertemplate\": \"Date=2020-10-18<br>Region=%{location}<br>ICU=%{z}<extra></extra>\", \"locations\": [13, 17, 18, 15, 8, 6, 12, 7, 3, 11, 14, 4, 4, 1, 16, 20, 19, 9, 10, 2, 5], \"name\": \"\", \"z\": [13, 0, 5, 78, 67, 14, 99, 39, 110, 13, 0, 7, 0, 55, 36, 29, 70, 55, 14, 2, 44], \"type\": \"choropleth\"}], \"name\": \"2020-10-18\"}, {\"data\": [{\"coloraxis\": \"coloraxis\", \"featureidkey\": \"properties.reg_istat_code_num\", \"geo\": \"geo\", \"geojson\": \"https://raw.githubusercontent.com/openpolis/geojson-italy/master/geojson/limits_IT_regions.geojson\", \"hovertemplate\": \"Date=2020-10-19<br>Region=%{location}<br>ICU=%{z}<extra></extra>\", \"locations\": [13, 17, 18, 15, 8, 6, 12, 7, 3, 11, 14, 4, 4, 1, 16, 20, 19, 9, 10, 2, 5], \"name\": \"\", \"z\": [13, 1, 5, 85, 70, 13, 111, 34, 113, 16, 0, 7, 0, 61, 38, 33, 72, 62, 15, 4, 44], \"type\": \"choropleth\"}], \"name\": \"2020-10-19\"}, {\"data\": [{\"coloraxis\": \"coloraxis\", \"featureidkey\": \"properties.reg_istat_code_num\", \"geo\": \"geo\", \"geojson\": \"https://raw.githubusercontent.com/openpolis/geojson-italy/master/geojson/limits_IT_regions.geojson\", \"hovertemplate\": \"Date=2020-10-20<br>Region=%{location}<br>ICU=%{z}<extra></extra>\", \"locations\": [13, 17, 18, 15, 8, 6, 12, 7, 3, 11, 14, 4, 4, 1, 16, 20, 19, 9, 10, 2, 5], \"name\": \"\", \"z\": [15, 1, 6, 91, 78, 14, 123, 32, 123, 19, 0, 7, 1, 62, 39, 34, 77, 72, 20, 5, 51], \"type\": \"choropleth\"}], \"name\": \"2020-10-20\"}, {\"data\": [{\"coloraxis\": \"coloraxis\", \"featureidkey\": \"properties.reg_istat_code_num\", \"geo\": \"geo\", \"geojson\": \"https://raw.githubusercontent.com/openpolis/geojson-italy/master/geojson/limits_IT_regions.geojson\", \"hovertemplate\": \"Date=2020-10-21<br>Region=%{location}<br>ICU=%{z}<extra></extra>\", \"locations\": [13, 17, 18, 15, 8, 6, 12, 7, 3, 11, 14, 4, 4, 1, 16, 20, 19, 9, 10, 2, 5], \"name\": \"\", \"z\": [14, 4, 6, 85, 86, 16, 129, 31, 134, 19, 1, 7, 2, 74, 42, 36, 83, 76, 20, 5, 56], \"type\": \"choropleth\"}], \"name\": \"2020-10-21\"}, {\"data\": [{\"coloraxis\": \"coloraxis\", \"featureidkey\": \"properties.reg_istat_code_num\", \"geo\": \"geo\", \"geojson\": \"https://raw.githubusercontent.com/openpolis/geojson-italy/master/geojson/limits_IT_regions.geojson\", \"hovertemplate\": \"Date=2020-10-22<br>Region=%{location}<br>ICU=%{z}<extra></extra>\", \"locations\": [13, 17, 18, 15, 8, 6, 12, 7, 3, 11, 14, 4, 4, 1, 16, 20, 19, 9, 10, 2, 5], \"name\": \"\", \"z\": [16, 4, 8, 94, 86, 14, 131, 34, 156, 19, 1, 8, 1, 79, 50, 36, 89, 82, 22, 3, 59], \"type\": \"choropleth\"}], \"name\": \"2020-10-22\"}, {\"data\": [{\"coloraxis\": \"coloraxis\", \"featureidkey\": \"properties.reg_istat_code_num\", \"geo\": \"geo\", \"geojson\": \"https://raw.githubusercontent.com/openpolis/geojson-italy/master/geojson/limits_IT_regions.geojson\", \"hovertemplate\": \"Date=2020-10-23<br>Region=%{location}<br>ICU=%{z}<extra></extra>\", \"locations\": [13, 17, 18, 15, 8, 6, 12, 7, 3, 11, 14, 4, 4, 1, 16, 20, 19, 9, 10, 2, 5], \"name\": \"\", \"z\": [16, 4, 9, 98, 86, 19, 135, 33, 184, 22, 1, 8, 3, 84, 52, 36, 89, 82, 21, 3, 64], \"type\": \"choropleth\"}], \"name\": \"2020-10-23\"}, {\"data\": [{\"coloraxis\": \"coloraxis\", \"featureidkey\": \"properties.reg_istat_code_num\", \"geo\": \"geo\", \"geojson\": \"https://raw.githubusercontent.com/openpolis/geojson-italy/master/geojson/limits_IT_regions.geojson\", \"hovertemplate\": \"Date=2020-10-24<br>Region=%{location}<br>ICU=%{z}<extra></extra>\", \"locations\": [13, 17, 18, 15, 8, 6, 12, 7, 3, 11, 14, 4, 4, 1, 16, 20, 19, 9, 10, 2, 5], \"name\": \"\", \"z\": [18, 5, 10, 108, 89, 16, 141, 38, 213, 23, 2, 12, 4, 88, 53, 36, 90, 87, 25, 2, 68], \"type\": \"choropleth\"}], \"name\": \"2020-10-24\"}, {\"data\": [{\"coloraxis\": \"coloraxis\", \"featureidkey\": \"properties.reg_istat_code_num\", \"geo\": \"geo\", \"geojson\": \"https://raw.githubusercontent.com/openpolis/geojson-italy/master/geojson/limits_IT_regions.geojson\", \"hovertemplate\": \"Date=2020-10-25<br>Region=%{location}<br>ICU=%{z}<extra></extra>\", \"locations\": [13, 17, 18, 15, 8, 6, 12, 7, 3, 11, 14, 4, 4, 1, 16, 20, 19, 9, 10, 2, 5], \"name\": \"\", \"z\": [18, 5, 10, 113, 88, 23, 146, 41, 231, 23, 2, 11, 4, 94, 57, 34, 95, 111, 29, 2, 71], \"type\": \"choropleth\"}], \"name\": \"2020-10-25\"}, {\"data\": [{\"coloraxis\": \"coloraxis\", \"featureidkey\": \"properties.reg_istat_code_num\", \"geo\": \"geo\", \"geojson\": \"https://raw.githubusercontent.com/openpolis/geojson-italy/master/geojson/limits_IT_regions.geojson\", \"hovertemplate\": \"Date=2020-10-26<br>Region=%{location}<br>ICU=%{z}<extra></extra>\", \"locations\": [13, 17, 18, 15, 8, 6, 12, 7, 3, 11, 14, 4, 4, 1, 16, 20, 19, 9, 10, 2, 5], \"name\": \"\", \"z\": [21, 6, 9, 123, 93, 27, 158, 46, 242, 26, 3, 12, 5, 102, 59, 35, 98, 110, 31, 2, 76], \"type\": \"choropleth\"}], \"name\": \"2020-10-26\"}, {\"data\": [{\"coloraxis\": \"coloraxis\", \"featureidkey\": \"properties.reg_istat_code_num\", \"geo\": \"geo\", \"geojson\": \"https://raw.githubusercontent.com/openpolis/geojson-italy/master/geojson/limits_IT_regions.geojson\", \"hovertemplate\": \"Date=2020-10-27<br>Region=%{location}<br>ICU=%{z}<extra></extra>\", \"locations\": [13, 17, 18, 15, 8, 6, 12, 7, 3, 11, 14, 4, 4, 1, 16, 20, 19, 9, 10, 2, 5], \"name\": \"\", \"z\": [22, 7, 9, 140, 103, 31, 166, 45, 271, 28, 4, 12, 5, 121, 62, 36, 103, 119, 37, 7, 83], \"type\": \"choropleth\"}], \"name\": \"2020-10-27\"}, {\"data\": [{\"coloraxis\": \"coloraxis\", \"featureidkey\": \"properties.reg_istat_code_num\", \"geo\": \"geo\", \"geojson\": \"https://raw.githubusercontent.com/openpolis/geojson-italy/master/geojson/limits_IT_regions.geojson\", \"hovertemplate\": \"Date=2020-10-28<br>Region=%{location}<br>ICU=%{z}<extra></extra>\", \"locations\": [13, 17, 18, 15, 8, 6, 12, 7, 3, 11, 14, 4, 4, 1, 16, 20, 19, 9, 10, 2, 5], \"name\": \"\", \"z\": [26, 7, 11, 160, 119, 35, 166, 46, 292, 32, 4, 15, 6, 135, 70, 37, 111, 130, 37, 7, 90], \"type\": \"choropleth\"}], \"name\": \"2020-10-28\"}, {\"data\": [{\"coloraxis\": \"coloraxis\", \"featureidkey\": \"properties.reg_istat_code_num\", \"geo\": \"geo\", \"geojson\": \"https://raw.githubusercontent.com/openpolis/geojson-italy/master/geojson/limits_IT_regions.geojson\", \"hovertemplate\": \"Date=2020-10-29<br>Region=%{location}<br>ICU=%{z}<extra></extra>\", \"locations\": [13, 17, 18, 15, 8, 6, 12, 7, 3, 11, 14, 4, 4, 1, 16, 20, 19, 9, 10, 2, 5], \"name\": \"\", \"z\": [26, 7, 7, 164, 123, 34, 168, 50, 345, 39, 4, 15, 9, 146, 78, 39, 115, 137, 41, 7, 97], \"type\": \"choropleth\"}], \"name\": \"2020-10-29\"}, {\"data\": [{\"coloraxis\": \"coloraxis\", \"featureidkey\": \"properties.reg_istat_code_num\", \"geo\": \"geo\", \"geojson\": \"https://raw.githubusercontent.com/openpolis/geojson-italy/master/geojson/limits_IT_regions.geojson\", \"hovertemplate\": \"Date=2020-10-30<br>Region=%{location}<br>ICU=%{z}<extra></extra>\", \"locations\": [13, 17, 18, 15, 8, 6, 12, 7, 3, 11, 14, 4, 4, 1, 16, 20, 19, 9, 10, 2, 5], \"name\": \"\", \"z\": [27, 7, 9, 161, 119, 35, 175, 52, 370, 39, 6, 18, 9, 159, 84, 40, 117, 153, 42, 7, 117], \"type\": \"choropleth\"}], \"name\": \"2020-10-30\"}, {\"data\": [{\"coloraxis\": \"coloraxis\", \"featureidkey\": \"properties.reg_istat_code_num\", \"geo\": \"geo\", \"geojson\": \"https://raw.githubusercontent.com/openpolis/geojson-italy/master/geojson/limits_IT_regions.geojson\", \"hovertemplate\": \"Date=2020-10-31<br>Region=%{location}<br>ICU=%{z}<extra></extra>\", \"locations\": [13, 17, 18, 15, 8, 6, 12, 7, 3, 11, 14, 4, 4, 1, 16, 20, 19, 9, 10, 2, 5], \"name\": \"\", \"z\": [29, 7, 9, 168, 125, 36, 182, 57, 392, 47, 6, 18, 9, 174, 87, 39, 122, 163, 43, 7, 123], \"type\": \"choropleth\"}], \"name\": \"2020-10-31\"}, {\"data\": [{\"coloraxis\": \"coloraxis\", \"featureidkey\": \"properties.reg_istat_code_num\", \"geo\": \"geo\", \"geojson\": \"https://raw.githubusercontent.com/openpolis/geojson-italy/master/geojson/limits_IT_regions.geojson\", \"hovertemplate\": \"Date=2020-11-01<br>Region=%{location}<br>ICU=%{z}<extra></extra>\", \"locations\": [13, 17, 18, 15, 8, 6, 12, 7, 3, 11, 14, 4, 4, 1, 16, 20, 19, 9, 10, 2, 5], \"name\": \"\", \"z\": [32, 11, 13, 170, 132, 38, 185, 63, 418, 42, 5, 17, 9, 179, 87, 43, 132, 173, 46, 12, 132], \"type\": \"choropleth\"}], \"name\": \"2020-11-01\"}, {\"data\": [{\"coloraxis\": \"coloraxis\", \"featureidkey\": \"properties.reg_istat_code_num\", \"geo\": \"geo\", \"geojson\": \"https://raw.githubusercontent.com/openpolis/geojson-italy/master/geojson/limits_IT_regions.geojson\", \"hovertemplate\": \"Date=2020-11-02<br>Region=%{location}<br>ICU=%{z}<extra></extra>\", \"locations\": [13, 17, 18, 15, 8, 6, 12, 7, 3, 11, 14, 4, 4, 1, 16, 20, 19, 9, 10, 2, 5], \"name\": \"\", \"z\": [33, 13, 19, 171, 138, 37, 185, 57, 435, 50, 5, 23, 11, 196, 88, 43, 142, 182, 46, 12, 136], \"type\": \"choropleth\"}], \"name\": \"2020-11-02\"}, {\"data\": [{\"coloraxis\": \"coloraxis\", \"featureidkey\": \"properties.reg_istat_code_num\", \"geo\": \"geo\", \"geojson\": \"https://raw.githubusercontent.com/openpolis/geojson-italy/master/geojson/limits_IT_regions.geojson\", \"hovertemplate\": \"Date=2020-11-03<br>Region=%{location}<br>ICU=%{z}<extra></extra>\", \"locations\": [13, 17, 18, 15, 8, 6, 12, 7, 3, 11, 14, 4, 4, 1, 16, 20, 19, 9, 10, 2, 5], \"name\": \"\", \"z\": [38, 11, 26, 227, 153, 39, 197, 64, 475, 53, 6, 28, 12, 213, 95, 45, 150, 190, 48, 13, 142], \"type\": \"choropleth\"}], \"name\": \"2020-11-03\"}, {\"data\": [{\"coloraxis\": \"coloraxis\", \"featureidkey\": \"properties.reg_istat_code_num\", \"geo\": \"geo\", \"geojson\": \"https://raw.githubusercontent.com/openpolis/geojson-italy/master/geojson/limits_IT_regions.geojson\", \"hovertemplate\": \"Date=2020-11-04<br>Region=%{location}<br>ICU=%{z}<extra></extra>\", \"locations\": [13, 17, 18, 15, 8, 6, 12, 7, 3, 11, 14, 4, 4, 1, 16, 20, 19, 9, 10, 2, 5], \"name\": \"\", \"z\": [36, 15, 11, 175, 161, 40, 217, 77, 507, 54, 7, 33, 11, 233, 116, 45, 148, 197, 49, 11, 149], \"type\": \"choropleth\"}], \"name\": \"2020-11-04\"}, {\"data\": [{\"coloraxis\": \"coloraxis\", \"featureidkey\": \"properties.reg_istat_code_num\", \"geo\": \"geo\", \"geojson\": \"https://raw.githubusercontent.com/openpolis/geojson-italy/master/geojson/limits_IT_regions.geojson\", \"hovertemplate\": \"Date=2020-11-05<br>Region=%{location}<br>ICU=%{z}<extra></extra>\", \"locations\": [13, 17, 18, 15, 8, 6, 12, 7, 3, 11, 14, 4, 4, 1, 16, 20, 19, 9, 10, 2, 5], \"name\": \"\", \"z\": [36, 16, 11, 174, 177, 44, 222, 76, 522, 56, 7, 33, 15, 249, 122, 46, 157, 202, 50, 12, 164], \"type\": \"choropleth\"}], \"name\": \"2020-11-05\"}, {\"data\": [{\"coloraxis\": \"coloraxis\", \"featureidkey\": \"properties.reg_istat_code_num\", \"geo\": \"geo\", \"geojson\": \"https://raw.githubusercontent.com/openpolis/geojson-italy/master/geojson/limits_IT_regions.geojson\", \"hovertemplate\": \"Date=2020-11-06<br>Region=%{location}<br>ICU=%{z}<extra></extra>\", \"locations\": [13, 17, 18, 15, 8, 6, 12, 7, 3, 11, 14, 4, 4, 1, 16, 20, 19, 9, 10, 2, 5], \"name\": \"\", \"z\": [42, 16, 15, 180, 177, 44, 234, 78, 570, 60, 8, 35, 17, 268, 122, 46, 159, 209, 53, 13, 169], \"type\": \"choropleth\"}], \"name\": \"2020-11-06\"}, {\"data\": [{\"coloraxis\": \"coloraxis\", \"featureidkey\": \"properties.reg_istat_code_num\", \"geo\": \"geo\", \"geojson\": \"https://raw.githubusercontent.com/openpolis/geojson-italy/master/geojson/limits_IT_regions.geojson\", \"hovertemplate\": \"Date=2020-11-07<br>Region=%{location}<br>ICU=%{z}<extra></extra>\", \"locations\": [13, 17, 18, 15, 8, 6, 12, 7, 3, 11, 14, 4, 4, 1, 16, 20, 19, 9, 10, 2, 5], \"name\": \"\", \"z\": [43, 15, 16, 179, 188, 45, 237, 77, 610, 67, 8, 36, 18, 284, 124, 56, 169, 214, 58, 14, 176], \"type\": \"choropleth\"}], \"name\": \"2020-11-07\"}, {\"data\": [{\"coloraxis\": \"coloraxis\", \"featureidkey\": \"properties.reg_istat_code_num\", \"geo\": \"geo\", \"geojson\": \"https://raw.githubusercontent.com/openpolis/geojson-italy/master/geojson/limits_IT_regions.geojson\", \"hovertemplate\": \"Date=2020-11-08<br>Region=%{location}<br>ICU=%{z}<extra></extra>\", \"locations\": [13, 17, 18, 15, 8, 6, 12, 7, 3, 11, 14, 4, 4, 1, 16, 20, 19, 9, 10, 2, 5], \"name\": \"\", \"z\": [43, 16, 16, 186, 194, 45, 237, 81, 650, 69, 7, 39, 20, 304, 123, 55, 177, 226, 62, 14, 185], \"type\": \"choropleth\"}], \"name\": \"2020-11-08\"}, {\"data\": [{\"coloraxis\": \"coloraxis\", \"featureidkey\": \"properties.reg_istat_code_num\", \"geo\": \"geo\", \"geojson\": \"https://raw.githubusercontent.com/openpolis/geojson-italy/master/geojson/limits_IT_regions.geojson\", \"hovertemplate\": \"Date=2020-11-09<br>Region=%{location}<br>ICU=%{z}<extra></extra>\", \"locations\": [13, 17, 18, 15, 8, 6, 12, 7, 3, 11, 14, 4, 4, 1, 16, 20, 19, 9, 10, 2, 5], \"name\": \"\", \"z\": [48, 18, 16, 191, 204, 46, 237, 92, 670, 71, 7, 41, 24, 312, 119, 58, 187, 234, 64, 15, 195], \"type\": \"choropleth\"}], \"name\": \"2020-11-09\"}, {\"data\": [{\"coloraxis\": \"coloraxis\", \"featureidkey\": \"properties.reg_istat_code_num\", \"geo\": \"geo\", \"geojson\": \"https://raw.githubusercontent.com/openpolis/geojson-italy/master/geojson/limits_IT_regions.geojson\", \"hovertemplate\": \"Date=2020-11-10<br>Region=%{location}<br>ICU=%{z}<extra></extra>\", \"locations\": [13, 17, 18, 15, 8, 6, 12, 7, 3, 11, 14, 4, 4, 1, 16, 20, 19, 9, 10, 2, 5], \"name\": \"\", \"z\": [46, 18, 19, 193, 215, 47, 257, 92, 708, 75, 7, 37, 28, 325, 131, 51, 195, 242, 66, 15, 204], \"type\": \"choropleth\"}], \"name\": \"2020-11-10\"}, {\"data\": [{\"coloraxis\": \"coloraxis\", \"featureidkey\": \"properties.reg_istat_code_num\", \"geo\": \"geo\", \"geojson\": \"https://raw.githubusercontent.com/openpolis/geojson-italy/master/geojson/limits_IT_regions.geojson\", \"hovertemplate\": \"Date=2020-11-11<br>Region=%{location}<br>ICU=%{z}<extra></extra>\", \"locations\": [13, 17, 18, 15, 8, 6, 12, 7, 3, 11, 14, 4, 4, 1, 16, 20, 19, 9, 10, 2, 5], \"name\": \"\", \"z\": [51, 19, 18, 181, 222, 46, 255, 98, 764, 74, 8, 37, 31, 340, 142, 54, 202, 246, 68, 17, 208], \"type\": \"choropleth\"}], \"name\": \"2020-11-11\"}, {\"data\": [{\"coloraxis\": \"coloraxis\", \"featureidkey\": \"properties.reg_istat_code_num\", \"geo\": \"geo\", \"geojson\": \"https://raw.githubusercontent.com/openpolis/geojson-italy/master/geojson/limits_IT_regions.geojson\", \"hovertemplate\": \"Date=2020-11-12<br>Region=%{location}<br>ICU=%{z}<extra></extra>\", \"locations\": [13, 17, 18, 15, 8, 6, 12, 7, 3, 11, 14, 4, 4, 1, 16, 20, 19, 9, 10, 2, 5], \"name\": \"\", \"z\": [52, 19, 21, 192, 228, 47, 259, 109, 782, 74, 7, 42, 30, 348, 145, 56, 205, 256, 69, 16, 213], \"type\": \"choropleth\"}], \"name\": \"2020-11-12\"}, {\"data\": [{\"coloraxis\": \"coloraxis\", \"featureidkey\": \"properties.reg_istat_code_num\", \"geo\": \"geo\", \"geojson\": \"https://raw.githubusercontent.com/openpolis/geojson-italy/master/geojson/limits_IT_regions.geojson\", \"hovertemplate\": \"Date=2020-11-13<br>Region=%{location}<br>ICU=%{z}<extra></extra>\", \"locations\": [13, 17, 18, 15, 8, 6, 12, 7, 3, 11, 14, 4, 4, 1, 16, 20, 19, 9, 10, 2, 5], \"name\": \"\", \"z\": [57, 23, 27, 183, 225, 47, 260, 110, 801, 74, 7, 41, 30, 353, 158, 57, 210, 265, 68, 15, 219], \"type\": \"choropleth\"}], \"name\": \"2020-11-13\"}, {\"data\": [{\"coloraxis\": \"coloraxis\", \"featureidkey\": \"properties.reg_istat_code_num\", \"geo\": \"geo\", \"geojson\": \"https://raw.githubusercontent.com/openpolis/geojson-italy/master/geojson/limits_IT_regions.geojson\", \"hovertemplate\": \"Date=2020-11-14<br>Region=%{location}<br>ICU=%{z}<extra></extra>\", \"locations\": [13, 17, 18, 15, 8, 6, 12, 7, 3, 11, 14, 4, 4, 1, 16, 20, 19, 9, 10, 2, 5], \"name\": \"\", \"z\": [59, 21, 26, 184, 231, 45, 273, 108, 817, 74, 6, 44, 31, 360, 178, 59, 215, 266, 68, 13, 228], \"type\": \"choropleth\"}], \"name\": \"2020-11-14\"}, {\"data\": [{\"coloraxis\": \"coloraxis\", \"featureidkey\": \"properties.reg_istat_code_num\", \"geo\": \"geo\", \"geojson\": \"https://raw.githubusercontent.com/openpolis/geojson-italy/master/geojson/limits_IT_regions.geojson\", \"hovertemplate\": \"Date=2020-11-15<br>Region=%{location}<br>ICU=%{z}<extra></extra>\", \"locations\": [13, 17, 18, 15, 8, 6, 12, 7, 3, 11, 14, 4, 4, 1, 16, 20, 19, 9, 10, 2, 5], \"name\": \"\", \"z\": [59, 26, 41, 194, 246, 43, 274, 115, 837, 77, 7, 43, 33, 372, 180, 60, 217, 274, 71, 12, 241], \"type\": \"choropleth\"}], \"name\": \"2020-11-15\"}, {\"data\": [{\"coloraxis\": \"coloraxis\", \"featureidkey\": \"properties.reg_istat_code_num\", \"geo\": \"geo\", \"geojson\": \"https://raw.githubusercontent.com/openpolis/geojson-italy/master/geojson/limits_IT_regions.geojson\", \"hovertemplate\": \"Date=2020-11-16<br>Region=%{location}<br>ICU=%{z}<extra></extra>\", \"locations\": [13, 17, 18, 15, 8, 6, 12, 7, 3, 11, 14, 4, 4, 1, 16, 20, 19, 9, 10, 2, 5], \"name\": \"\", \"z\": [59, 27, 45, 192, 247, 47, 278, 111, 855, 78, 7, 43, 32, 378, 182, 63, 224, 284, 72, 16, 252], \"type\": \"choropleth\"}], \"name\": \"2020-11-16\"}, {\"data\": [{\"coloraxis\": \"coloraxis\", \"featureidkey\": \"properties.reg_istat_code_num\", \"geo\": \"geo\", \"geojson\": \"https://raw.githubusercontent.com/openpolis/geojson-italy/master/geojson/limits_IT_regions.geojson\", \"hovertemplate\": \"Date=2020-11-17<br>Region=%{location}<br>ICU=%{z}<extra></extra>\", \"locations\": [13, 17, 18, 15, 8, 6, 12, 7, 3, 11, 14, 4, 4, 1, 16, 20, 19, 9, 10, 2, 5], \"name\": \"\", \"z\": [66, 30, 53, 201, 247, 44, 308, 117, 894, 78, 9, 44, 35, 384, 181, 64, 227, 277, 70, 17, 266], \"type\": \"choropleth\"}], \"name\": \"2020-11-17\"}, {\"data\": [{\"coloraxis\": \"coloraxis\", \"featureidkey\": \"properties.reg_istat_code_num\", \"geo\": \"geo\", \"geojson\": \"https://raw.githubusercontent.com/openpolis/geojson-italy/master/geojson/limits_IT_regions.geojson\", \"hovertemplate\": \"Date=2020-11-18<br>Region=%{location}<br>ICU=%{z}<extra></extra>\", \"locations\": [13, 17, 18, 15, 8, 6, 12, 7, 3, 11, 14, 4, 4, 1, 16, 20, 19, 9, 10, 2, 5], \"name\": \"\", \"z\": [65, 28, 46, 200, 244, 49, 318, 118, 903, 79, 7, 39, 38, 388, 198, 63, 240, 282, 74, 17, 274], \"type\": \"choropleth\"}], \"name\": \"2020-11-18\"}, {\"data\": [{\"coloraxis\": \"coloraxis\", \"featureidkey\": \"properties.reg_istat_code_num\", \"geo\": \"geo\", \"geojson\": \"https://raw.githubusercontent.com/openpolis/geojson-italy/master/geojson/limits_IT_regions.geojson\", \"hovertemplate\": \"Date=2020-11-19<br>Region=%{location}<br>ICU=%{z}<extra></extra>\", \"locations\": [13, 17, 18, 15, 8, 6, 12, 7, 3, 11, 14, 4, 4, 1, 16, 20, 19, 9, 10, 2, 5], \"name\": \"\", \"z\": [74, 28, 47, 194, 244, 48, 329, 119, 915, 78, 8, 39, 39, 390, 200, 67, 240, 287, 75, 12, 279], \"type\": \"choropleth\"}], \"name\": \"2020-11-19\"}, {\"data\": [{\"coloraxis\": \"coloraxis\", \"featureidkey\": \"properties.reg_istat_code_num\", \"geo\": \"geo\", \"geojson\": \"https://raw.githubusercontent.com/openpolis/geojson-italy/master/geojson/limits_IT_regions.geojson\", \"hovertemplate\": \"Date=2020-11-20<br>Region=%{location}<br>ICU=%{z}<extra></extra>\", \"locations\": [13, 17, 18, 15, 8, 6, 12, 7, 3, 11, 14, 4, 4, 1, 16, 20, 19, 9, 10, 2, 5], \"name\": \"\", \"z\": [75, 27, 46, 201, 244, 54, 337, 120, 930, 81, 8, 38, 38, 393, 202, 69, 242, 295, 71, 10, 267], \"type\": \"choropleth\"}], \"name\": \"2020-11-20\"}, {\"data\": [{\"coloraxis\": \"coloraxis\", \"featureidkey\": \"properties.reg_istat_code_num\", \"geo\": \"geo\", \"geojson\": \"https://raw.githubusercontent.com/openpolis/geojson-italy/master/geojson/limits_IT_regions.geojson\", \"hovertemplate\": \"Date=2020-11-21<br>Region=%{location}<br>ICU=%{z}<extra></extra>\", \"locations\": [13, 17, 18, 15, 8, 6, 12, 7, 3, 11, 14, 4, 4, 1, 16, 20, 19, 9, 10, 2, 5], \"name\": \"\", \"z\": [73, 24, 45, 198, 241, 55, 337, 119, 936, 86, 9, 39, 40, 390, 197, 70, 242, 296, 75, 11, 275], \"type\": \"choropleth\"}], \"name\": \"2020-11-21\"}, {\"data\": [{\"coloraxis\": \"coloraxis\", \"featureidkey\": \"properties.reg_istat_code_num\", \"geo\": \"geo\", \"geojson\": \"https://raw.githubusercontent.com/openpolis/geojson-italy/master/geojson/limits_IT_regions.geojson\", \"hovertemplate\": \"Date=2020-11-22<br>Region=%{location}<br>ICU=%{z}<extra></extra>\", \"locations\": [13, 17, 18, 15, 8, 6, 12, 7, 3, 11, 14, 4, 4, 1, 16, 20, 19, 9, 10, 2, 5], \"name\": \"\", \"z\": [72, 23, 47, 201, 249, 56, 339, 122, 949, 88, 11, 38, 41, 398, 188, 70, 241, 298, 75, 14, 281], \"type\": \"choropleth\"}], \"name\": \"2020-11-22\"}, {\"data\": [{\"coloraxis\": \"coloraxis\", \"featureidkey\": \"properties.reg_istat_code_num\", \"geo\": \"geo\", \"geojson\": \"https://raw.githubusercontent.com/openpolis/geojson-italy/master/geojson/limits_IT_regions.geojson\", \"hovertemplate\": \"Date=2020-11-23<br>Region=%{location}<br>ICU=%{z}<extra></extra>\", \"locations\": [13, 17, 18, 15, 8, 6, 12, 7, 3, 11, 14, 4, 4, 1, 16, 20, 19, 9, 10, 2, 5], \"name\": \"\", \"z\": [71, 23, 47, 201, 248, 55, 335, 122, 945, 90, 10, 38, 43, 399, 191, 72, 243, 296, 78, 13, 290], \"type\": \"choropleth\"}], \"name\": \"2020-11-23\"}, {\"data\": [{\"coloraxis\": \"coloraxis\", \"featureidkey\": \"properties.reg_istat_code_num\", \"geo\": \"geo\", \"geojson\": \"https://raw.githubusercontent.com/openpolis/geojson-italy/master/geojson/limits_IT_regions.geojson\", \"hovertemplate\": \"Date=2020-11-24<br>Region=%{location}<br>ICU=%{z}<extra></extra>\", \"locations\": [13, 17, 18, 15, 8, 6, 12, 7, 3, 11, 14, 4, 4, 1, 16, 20, 19, 9, 10, 2, 5], \"name\": \"\", \"z\": [71, 19, 42, 201, 243, 54, 345, 121, 932, 89, 10, 40, 42, 404, 205, 73, 243, 296, 72, 14, 300], \"type\": \"choropleth\"}], \"name\": \"2020-11-24\"}, {\"data\": [{\"coloraxis\": \"coloraxis\", \"featureidkey\": \"properties.reg_istat_code_num\", \"geo\": \"geo\", \"geojson\": \"https://raw.githubusercontent.com/openpolis/geojson-italy/master/geojson/limits_IT_regions.geojson\", \"hovertemplate\": \"Date=2020-11-25<br>Region=%{location}<br>ICU=%{z}<extra></extra>\", \"locations\": [13, 17, 18, 15, 8, 6, 12, 7, 3, 11, 14, 4, 4, 1, 16, 20, 19, 9, 10, 2, 5], \"name\": \"\", \"z\": [72, 22, 43, 192, 249, 54, 349, 123, 942, 94, 10, 41, 41, 403, 210, 76, 250, 286, 70, 16, 305], \"type\": \"choropleth\"}], \"name\": \"2020-11-25\"}, {\"data\": [{\"coloraxis\": \"coloraxis\", \"featureidkey\": \"properties.reg_istat_code_num\", \"geo\": \"geo\", \"geojson\": \"https://raw.githubusercontent.com/openpolis/geojson-italy/master/geojson/limits_IT_regions.geojson\", \"hovertemplate\": \"Date=2020-11-26<br>Region=%{location}<br>ICU=%{z}<extra></extra>\", \"locations\": [13, 17, 18, 15, 8, 6, 12, 7, 3, 11, 14, 4, 4, 1, 16, 20, 19, 9, 10, 2, 5], \"name\": \"\", \"z\": [74, 22, 45, 200, 258, 55, 352, 114, 934, 90, 9, 40, 43, 403, 211, 73, 253, 281, 68, 17, 304], \"type\": \"choropleth\"}], \"name\": \"2020-11-26\"}, {\"data\": [{\"coloraxis\": \"coloraxis\", \"featureidkey\": \"properties.reg_istat_code_num\", \"geo\": \"geo\", \"geojson\": \"https://raw.githubusercontent.com/openpolis/geojson-italy/master/geojson/limits_IT_regions.geojson\", \"hovertemplate\": \"Date=2020-11-27<br>Region=%{location}<br>ICU=%{z}<extra></extra>\", \"locations\": [13, 17, 18, 15, 8, 6, 12, 7, 3, 11, 14, 4, 4, 1, 16, 20, 19, 9, 10, 2, 5], \"name\": \"\", \"z\": [74, 23, 44, 184, 250, 55, 355, 109, 925, 91, 11, 42, 44, 395, 201, 71, 250, 278, 62, 15, 303], \"type\": \"choropleth\"}], \"name\": \"2020-11-27\"}, {\"data\": [{\"coloraxis\": \"coloraxis\", \"featureidkey\": \"properties.reg_istat_code_num\", \"geo\": \"geo\", \"geojson\": \"https://raw.githubusercontent.com/openpolis/geojson-italy/master/geojson/limits_IT_regions.geojson\", \"hovertemplate\": \"Date=2020-11-28<br>Region=%{location}<br>ICU=%{z}<extra></extra>\", \"locations\": [13, 17, 18, 15, 8, 6, 12, 7, 3, 11, 14, 4, 4, 1, 16, 20, 19, 9, 10, 2, 5], \"name\": \"\", \"z\": [77, 22, 42, 186, 245, 53, 356, 117, 919, 85, 12, 36, 42, 384, 200, 73, 247, 279, 64, 14, 309], \"type\": \"choropleth\"}], \"name\": \"2020-11-28\"}, {\"data\": [{\"coloraxis\": \"coloraxis\", \"featureidkey\": \"properties.reg_istat_code_num\", \"geo\": \"geo\", \"geojson\": \"https://raw.githubusercontent.com/openpolis/geojson-italy/master/geojson/limits_IT_regions.geojson\", \"hovertemplate\": \"Date=2020-11-29<br>Region=%{location}<br>ICU=%{z}<extra></extra>\", \"locations\": [13, 17, 18, 15, 8, 6, 12, 7, 3, 11, 14, 4, 4, 1, 16, 20, 19, 9, 10, 2, 5], \"name\": \"\", \"z\": [75, 25, 43, 183, 245, 57, 355, 111, 907, 85, 13, 36, 44, 385, 212, 69, 241, 278, 65, 13, 311], \"type\": \"choropleth\"}], \"name\": \"2020-11-29\"}, {\"data\": [{\"coloraxis\": \"coloraxis\", \"featureidkey\": \"properties.reg_istat_code_num\", \"geo\": \"geo\", \"geojson\": \"https://raw.githubusercontent.com/openpolis/geojson-italy/master/geojson/limits_IT_regions.geojson\", \"hovertemplate\": \"Date=2020-11-30<br>Region=%{location}<br>ICU=%{z}<extra></extra>\", \"locations\": [13, 17, 18, 15, 8, 6, 12, 7, 3, 11, 14, 4, 4, 1, 16, 20, 19, 9, 10, 2, 5], \"name\": \"\", \"z\": [76, 22, 42, 182, 249, 55, 350, 113, 906, 87, 14, 37, 44, 388, 209, 70, 226, 278, 65, 11, 320], \"type\": \"choropleth\"}], \"name\": \"2020-11-30\"}, {\"data\": [{\"coloraxis\": \"coloraxis\", \"featureidkey\": \"properties.reg_istat_code_num\", \"geo\": \"geo\", \"geojson\": \"https://raw.githubusercontent.com/openpolis/geojson-italy/master/geojson/limits_IT_regions.geojson\", \"hovertemplate\": \"Date=2020-12-01<br>Region=%{location}<br>ICU=%{z}<extra></extra>\", \"locations\": [13, 17, 18, 15, 8, 6, 12, 7, 3, 11, 14, 4, 4, 1, 16, 20, 19, 9, 10, 2, 5], \"name\": \"\", \"z\": [76, 21, 40, 179, 247, 62, 352, 105, 876, 86, 13, 34, 44, 377, 218, 68, 220, 267, 64, 13, 301], \"type\": \"choropleth\"}], \"name\": \"2020-12-01\"}, {\"data\": [{\"coloraxis\": \"coloraxis\", \"featureidkey\": \"properties.reg_istat_code_num\", \"geo\": \"geo\", \"geojson\": \"https://raw.githubusercontent.com/openpolis/geojson-italy/master/geojson/limits_IT_regions.geojson\", \"hovertemplate\": \"Date=2020-12-02<br>Region=%{location}<br>ICU=%{z}<extra></extra>\", \"locations\": [13, 17, 18, 15, 8, 6, 12, 7, 3, 11, 14, 4, 4, 1, 16, 20, 19, 9, 10, 2, 5], \"name\": \"\", \"z\": [74, 21, 36, 173, 247, 58, 350, 102, 855, 85, 9, 33, 47, 382, 204, 66, 220, 271, 62, 13, 308], \"type\": \"choropleth\"}], \"name\": \"2020-12-02\"}, {\"data\": [{\"coloraxis\": \"coloraxis\", \"featureidkey\": \"properties.reg_istat_code_num\", \"geo\": \"geo\", \"geojson\": \"https://raw.githubusercontent.com/openpolis/geojson-italy/master/geojson/limits_IT_regions.geojson\", \"hovertemplate\": \"Date=2020-12-03<br>Region=%{location}<br>ICU=%{z}<extra></extra>\", \"locations\": [13, 17, 18, 15, 8, 6, 12, 7, 3, 11, 14, 4, 4, 1, 16, 20, 19, 9, 10, 2, 5], \"name\": \"\", \"z\": [76, 20, 32, 162, 245, 59, 364, 102, 836, 88, 10, 35, 45, 366, 226, 66, 221, 272, 54, 11, 307], \"type\": \"choropleth\"}], \"name\": \"2020-12-03\"}, {\"data\": [{\"coloraxis\": \"coloraxis\", \"featureidkey\": \"properties.reg_istat_code_num\", \"geo\": \"geo\", \"geojson\": \"https://raw.githubusercontent.com/openpolis/geojson-italy/master/geojson/limits_IT_regions.geojson\", \"hovertemplate\": \"Date=2020-12-04<br>Region=%{location}<br>ICU=%{z}<extra></extra>\", \"locations\": [13, 17, 18, 15, 8, 6, 12, 7, 3, 11, 14, 4, 4, 1, 16, 20, 19, 9, 10, 2, 5], \"name\": \"\", \"z\": [73, 20, 34, 166, 248, 59, 360, 99, 822, 87, 10, 32, 47, 357, 227, 70, 216, 263, 57, 11, 309], \"type\": \"choropleth\"}], \"name\": \"2020-12-04\"}, {\"data\": [{\"coloraxis\": \"coloraxis\", \"featureidkey\": \"properties.reg_istat_code_num\", \"geo\": \"geo\", \"geojson\": \"https://raw.githubusercontent.com/openpolis/geojson-italy/master/geojson/limits_IT_regions.geojson\", \"hovertemplate\": \"Date=2020-12-05<br>Region=%{location}<br>ICU=%{z}<extra></extra>\", \"locations\": [13, 17, 18, 15, 8, 6, 12, 7, 3, 11, 14, 4, 4, 1, 16, 20, 19, 9, 10, 2, 5], \"name\": \"\", \"z\": [73, 19, 29, 165, 243, 58, 349, 93, 805, 84, 9, 31, 48, 366, 220, 67, 215, 261, 61, 9, 312], \"type\": \"choropleth\"}], \"name\": \"2020-12-05\"}, {\"data\": [{\"coloraxis\": \"coloraxis\", \"featureidkey\": \"properties.reg_istat_code_num\", \"geo\": \"geo\", \"geojson\": \"https://raw.githubusercontent.com/openpolis/geojson-italy/master/geojson/limits_IT_regions.geojson\", \"hovertemplate\": \"Date=2020-12-06<br>Region=%{location}<br>ICU=%{z}<extra></extra>\", \"locations\": [13, 17, 18, 15, 8, 6, 12, 7, 3, 11, 14, 4, 4, 1, 16, 20, 19, 9, 10, 2, 5], \"name\": \"\", \"z\": [71, 18, 32, 155, 241, 59, 340, 92, 807, 82, 10, 32, 48, 359, 203, 64, 213, 252, 60, 8, 308], \"type\": \"choropleth\"}], \"name\": \"2020-12-06\"}, {\"data\": [{\"coloraxis\": \"coloraxis\", \"featureidkey\": \"properties.reg_istat_code_num\", \"geo\": \"geo\", \"geojson\": \"https://raw.githubusercontent.com/openpolis/geojson-italy/master/geojson/limits_IT_regions.geojson\", \"hovertemplate\": \"Date=2020-12-07<br>Region=%{location}<br>ICU=%{z}<extra></extra>\", \"locations\": [13, 17, 18, 15, 8, 6, 12, 7, 3, 11, 14, 4, 4, 1, 16, 20, 19, 9, 10, 2, 5], \"name\": \"\", \"z\": [73, 16, 27, 137, 239, 58, 340, 92, 781, 82, 9, 33, 48, 345, 197, 64, 205, 253, 56, 10, 317], \"type\": \"choropleth\"}], \"name\": \"2020-12-07\"}, {\"data\": [{\"coloraxis\": \"coloraxis\", \"featureidkey\": \"properties.reg_istat_code_num\", \"geo\": \"geo\", \"geojson\": \"https://raw.githubusercontent.com/openpolis/geojson-italy/master/geojson/limits_IT_regions.geojson\", \"hovertemplate\": \"Date=2020-12-08<br>Region=%{location}<br>ICU=%{z}<extra></extra>\", \"locations\": [13, 17, 18, 15, 8, 6, 12, 7, 3, 11, 14, 4, 4, 1, 16, 20, 19, 9, 10, 2, 5], \"name\": \"\", \"z\": [69, 15, 25, 140, 234, 64, 341, 91, 767, 87, 8, 30, 48, 330, 197, 62, 199, 253, 57, 9, 319], \"type\": \"choropleth\"}], \"name\": \"2020-12-08\"}, {\"data\": [{\"coloraxis\": \"coloraxis\", \"featureidkey\": \"properties.reg_istat_code_num\", \"geo\": \"geo\", \"geojson\": \"https://raw.githubusercontent.com/openpolis/geojson-italy/master/geojson/limits_IT_regions.geojson\", \"hovertemplate\": \"Date=2020-12-09<br>Region=%{location}<br>ICU=%{z}<extra></extra>\", \"locations\": [13, 17, 18, 15, 8, 6, 12, 7, 3, 11, 14, 4, 4, 1, 16, 20, 19, 9, 10, 2, 5], \"name\": \"\", \"z\": [64, 13, 25, 138, 233, 63, 342, 88, 766, 85, 8, 30, 48, 318, 199, 61, 198, 253, 56, 13, 319], \"type\": \"choropleth\"}], \"name\": \"2020-12-09\"}, {\"data\": [{\"coloraxis\": \"coloraxis\", \"featureidkey\": \"properties.reg_istat_code_num\", \"geo\": \"geo\", \"geojson\": \"https://raw.githubusercontent.com/openpolis/geojson-italy/master/geojson/limits_IT_regions.geojson\", \"hovertemplate\": \"Date=2020-12-10<br>Region=%{location}<br>ICU=%{z}<extra></extra>\", \"locations\": [13, 17, 18, 15, 8, 6, 12, 7, 3, 11, 14, 4, 4, 1, 16, 20, 19, 9, 10, 2, 5], \"name\": \"\", \"z\": [65, 15, 24, 140, 229, 62, 339, 85, 748, 86, 7, 31, 48, 310, 200, 63, 197, 247, 55, 10, 330], \"type\": \"choropleth\"}], \"name\": \"2020-12-10\"}, {\"data\": [{\"coloraxis\": \"coloraxis\", \"featureidkey\": \"properties.reg_istat_code_num\", \"geo\": \"geo\", \"geojson\": \"https://raw.githubusercontent.com/openpolis/geojson-italy/master/geojson/limits_IT_regions.geojson\", \"hovertemplate\": \"Date=2020-12-11<br>Region=%{location}<br>ICU=%{z}<extra></extra>\", \"locations\": [13, 17, 18, 15, 8, 6, 12, 7, 3, 11, 14, 4, 4, 1, 16, 20, 19, 9, 10, 2, 5], \"name\": \"\", \"z\": [66, 15, 21, 144, 231, 63, 339, 84, 733, 86, 8, 27, 47, 300, 187, 64, 197, 241, 54, 9, 349], \"type\": \"choropleth\"}], \"name\": \"2020-12-11\"}, {\"data\": [{\"coloraxis\": \"coloraxis\", \"featureidkey\": \"properties.reg_istat_code_num\", \"geo\": \"geo\", \"geojson\": \"https://raw.githubusercontent.com/openpolis/geojson-italy/master/geojson/limits_IT_regions.geojson\", \"hovertemplate\": \"Date=2020-12-12<br>Region=%{location}<br>ICU=%{z}<extra></extra>\", \"locations\": [13, 17, 18, 15, 8, 6, 12, 7, 3, 11, 14, 4, 4, 1, 16, 20, 19, 9, 10, 2, 5], \"name\": \"\", \"z\": [64, 14, 22, 137, 222, 59, 337, 77, 717, 86, 8, 27, 44, 304, 194, 61, 196, 228, 49, 8, 345], \"type\": \"choropleth\"}], \"name\": \"2020-12-12\"}, {\"data\": [{\"coloraxis\": \"coloraxis\", \"featureidkey\": \"properties.reg_istat_code_num\", \"geo\": \"geo\", \"geojson\": \"https://raw.githubusercontent.com/openpolis/geojson-italy/master/geojson/limits_IT_regions.geojson\", \"hovertemplate\": \"Date=2020-12-13<br>Region=%{location}<br>ICU=%{z}<extra></extra>\", \"locations\": [13, 17, 18, 15, 8, 6, 12, 7, 3, 11, 14, 4, 4, 1, 16, 20, 19, 9, 10, 2, 5], \"name\": \"\", \"z\": [63, 15, 23, 134, 220, 60, 341, 75, 714, 81, 7, 26, 48, 291, 191, 59, 198, 219, 45, 8, 340], \"type\": \"choropleth\"}], \"name\": \"2020-12-13\"}, {\"data\": [{\"coloraxis\": \"coloraxis\", \"featureidkey\": \"properties.reg_istat_code_num\", \"geo\": \"geo\", \"geojson\": \"https://raw.githubusercontent.com/openpolis/geojson-italy/master/geojson/limits_IT_regions.geojson\", \"hovertemplate\": \"Date=2020-12-14<br>Region=%{location}<br>ICU=%{z}<extra></extra>\", \"locations\": [13, 17, 18, 15, 8, 6, 12, 7, 3, 11, 14, 4, 4, 1, 16, 20, 19, 9, 10, 2, 5], \"name\": \"\", \"z\": [64, 12, 21, 130, 222, 58, 347, 73, 685, 83, 8, 26, 53, 278, 184, 57, 189, 210, 41, 9, 345], \"type\": \"choropleth\"}], \"name\": \"2020-12-14\"}, {\"data\": [{\"coloraxis\": \"coloraxis\", \"featureidkey\": \"properties.reg_istat_code_num\", \"geo\": \"geo\", \"geojson\": \"https://raw.githubusercontent.com/openpolis/geojson-italy/master/geojson/limits_IT_regions.geojson\", \"hovertemplate\": \"Date=2020-12-15<br>Region=%{location}<br>ICU=%{z}<extra></extra>\", \"locations\": [13, 17, 18, 15, 8, 6, 12, 7, 3, 11, 14, 4, 4, 1, 16, 20, 19, 9, 10, 2, 5], \"name\": \"\", \"z\": [59, 11, 21, 123, 214, 56, 321, 71, 656, 78, 8, 24, 53, 266, 187, 58, 185, 214, 46, 6, 346], \"type\": \"choropleth\"}], \"name\": \"2020-12-15\"}, {\"data\": [{\"coloraxis\": \"coloraxis\", \"featureidkey\": \"properties.reg_istat_code_num\", \"geo\": \"geo\", \"geojson\": \"https://raw.githubusercontent.com/openpolis/geojson-italy/master/geojson/limits_IT_regions.geojson\", \"hovertemplate\": \"Date=2020-12-16<br>Region=%{location}<br>ICU=%{z}<extra></extra>\", \"locations\": [13, 17, 18, 15, 8, 6, 12, 7, 3, 11, 14, 4, 4, 1, 16, 20, 19, 9, 10, 2, 5], \"name\": \"\", \"z\": [56, 11, 22, 124, 212, 54, 305, 71, 629, 75, 10, 22, 50, 257, 185, 57, 183, 202, 47, 7, 347], \"type\": \"choropleth\"}], \"name\": \"2020-12-16\"}, {\"data\": [{\"coloraxis\": \"coloraxis\", \"featureidkey\": \"properties.reg_istat_code_num\", \"geo\": \"geo\", \"geojson\": \"https://raw.githubusercontent.com/openpolis/geojson-italy/master/geojson/limits_IT_regions.geojson\", \"hovertemplate\": \"Date=2020-12-17<br>Region=%{location}<br>ICU=%{z}<extra></extra>\", \"locations\": [13, 17, 18, 15, 8, 6, 12, 7, 3, 11, 14, 4, 4, 1, 16, 20, 19, 9, 10, 2, 5], \"name\": \"\", \"z\": [49, 10, 21, 119, 206, 57, 311, 69, 611, 67, 10, 22, 48, 240, 179, 56, 179, 199, 42, 8, 352], \"type\": \"choropleth\"}], \"name\": \"2020-12-17\"}, {\"data\": [{\"coloraxis\": \"coloraxis\", \"featureidkey\": \"properties.reg_istat_code_num\", \"geo\": \"geo\", \"geojson\": \"https://raw.githubusercontent.com/openpolis/geojson-italy/master/geojson/limits_IT_regions.geojson\", \"hovertemplate\": \"Date=2020-12-18<br>Region=%{location}<br>ICU=%{z}<extra></extra>\", \"locations\": [13, 17, 18, 15, 8, 6, 12, 7, 3, 11, 14, 4, 4, 1, 16, 20, 19, 9, 10, 2, 5], \"name\": \"\", \"z\": [42, 10, 21, 120, 207, 59, 310, 70, 602, 64, 9, 23, 50, 243, 174, 53, 182, 191, 43, 7, 339], \"type\": \"choropleth\"}], \"name\": \"2020-12-18\"}, {\"data\": [{\"coloraxis\": \"coloraxis\", \"featureidkey\": \"properties.reg_istat_code_num\", \"geo\": \"geo\", \"geojson\": \"https://raw.githubusercontent.com/openpolis/geojson-italy/master/geojson/limits_IT_regions.geojson\", \"hovertemplate\": \"Date=2020-12-19<br>Region=%{location}<br>ICU=%{z}<extra></extra>\", \"locations\": [13, 17, 18, 15, 8, 6, 12, 7, 3, 11, 14, 4, 4, 1, 16, 20, 19, 9, 10, 2, 5], \"name\": \"\", \"z\": [43, 10, 21, 122, 206, 55, 306, 71, 592, 65, 10, 23, 50, 234, 177, 52, 174, 189, 41, 4, 339], \"type\": \"choropleth\"}], \"name\": \"2020-12-19\"}, {\"data\": [{\"coloraxis\": \"coloraxis\", \"featureidkey\": \"properties.reg_istat_code_num\", \"geo\": \"geo\", \"geojson\": \"https://raw.githubusercontent.com/openpolis/geojson-italy/master/geojson/limits_IT_regions.geojson\", \"hovertemplate\": \"Date=2020-12-20<br>Region=%{location}<br>ICU=%{z}<extra></extra>\", \"locations\": [13, 17, 18, 15, 8, 6, 12, 7, 3, 11, 14, 4, 4, 1, 16, 20, 19, 9, 10, 2, 5], \"name\": \"\", \"z\": [42, 9, 22, 119, 201, 55, 306, 70, 583, 64, 11, 20, 49, 221, 169, 50, 178, 187, 44, 4, 339], \"type\": \"choropleth\"}], \"name\": \"2020-12-20\"}, {\"data\": [{\"coloraxis\": \"coloraxis\", \"featureidkey\": \"properties.reg_istat_code_num\", \"geo\": \"geo\", \"geojson\": \"https://raw.githubusercontent.com/openpolis/geojson-italy/master/geojson/limits_IT_regions.geojson\", \"hovertemplate\": \"Date=2020-12-21<br>Region=%{location}<br>ICU=%{z}<extra></extra>\", \"locations\": [13, 17, 18, 15, 8, 6, 12, 7, 3, 11, 14, 4, 4, 1, 16, 20, 19, 9, 10, 2, 5], \"name\": \"\", \"z\": [43, 8, 22, 120, 203, 56, 307, 70, 561, 63, 9, 22, 49, 230, 164, 48, 181, 185, 41, 4, 345], \"type\": \"choropleth\"}], \"name\": \"2020-12-21\"}, {\"data\": [{\"coloraxis\": \"coloraxis\", \"featureidkey\": \"properties.reg_istat_code_num\", \"geo\": \"geo\", \"geojson\": \"https://raw.githubusercontent.com/openpolis/geojson-italy/master/geojson/limits_IT_regions.geojson\", \"hovertemplate\": \"Date=2020-12-22<br>Region=%{location}<br>ICU=%{z}<extra></extra>\", \"locations\": [13, 17, 18, 15, 8, 6, 12, 7, 3, 11, 14, 4, 4, 1, 16, 20, 19, 9, 10, 2, 5], \"name\": \"\", \"z\": [41, 8, 23, 118, 210, 57, 292, 65, 540, 61, 8, 23, 49, 228, 167, 48, 176, 175, 44, 5, 349], \"type\": \"choropleth\"}], \"name\": \"2020-12-22\"}, {\"data\": [{\"coloraxis\": \"coloraxis\", \"featureidkey\": \"properties.reg_istat_code_num\", \"geo\": \"geo\", \"geojson\": \"https://raw.githubusercontent.com/openpolis/geojson-italy/master/geojson/limits_IT_regions.geojson\", \"hovertemplate\": \"Date=2020-12-23<br>Region=%{location}<br>ICU=%{z}<extra></extra>\", \"locations\": [13, 17, 18, 15, 8, 6, 12, 7, 3, 11, 14, 4, 4, 1, 16, 20, 19, 9, 10, 2, 5], \"name\": \"\", \"z\": [39, 9, 19, 107, 207, 56, 286, 64, 536, 61, 7, 19, 47, 215, 172, 44, 176, 166, 40, 4, 350], \"type\": \"choropleth\"}], \"name\": \"2020-12-23\"}, {\"data\": [{\"coloraxis\": \"coloraxis\", \"featureidkey\": \"properties.reg_istat_code_num\", \"geo\": \"geo\", \"geojson\": \"https://raw.githubusercontent.com/openpolis/geojson-italy/master/geojson/limits_IT_regions.geojson\", \"hovertemplate\": \"Date=2020-12-24<br>Region=%{location}<br>ICU=%{z}<extra></extra>\", \"locations\": [13, 17, 18, 15, 8, 6, 12, 7, 3, 11, 14, 4, 4, 1, 16, 20, 19, 9, 10, 2, 5], \"name\": \"\", \"z\": [35, 8, 21, 102, 201, 56, 293, 64, 521, 64, 7, 17, 49, 213, 170, 41, 173, 161, 38, 4, 351], \"type\": \"choropleth\"}], \"name\": \"2020-12-24\"}, {\"data\": [{\"coloraxis\": \"coloraxis\", \"featureidkey\": \"properties.reg_istat_code_num\", \"geo\": \"geo\", \"geojson\": \"https://raw.githubusercontent.com/openpolis/geojson-italy/master/geojson/limits_IT_regions.geojson\", \"hovertemplate\": \"Date=2020-12-25<br>Region=%{location}<br>ICU=%{z}<extra></extra>\", \"locations\": [13, 17, 18, 15, 8, 6, 12, 7, 3, 11, 14, 4, 4, 1, 16, 20, 19, 9, 10, 2, 5], \"name\": \"\", \"z\": [34, 7, 21, 102, 206, 54, 290, 64, 522, 60, 7, 19, 49, 214, 166, 43, 174, 166, 36, 4, 346], \"type\": \"choropleth\"}], \"name\": \"2020-12-25\"}, {\"data\": [{\"coloraxis\": \"coloraxis\", \"featureidkey\": \"properties.reg_istat_code_num\", \"geo\": \"geo\", \"geojson\": \"https://raw.githubusercontent.com/openpolis/geojson-italy/master/geojson/limits_IT_regions.geojson\", \"hovertemplate\": \"Date=2020-12-26<br>Region=%{location}<br>ICU=%{z}<extra></extra>\", \"locations\": [13, 17, 18, 15, 8, 6, 12, 7, 3, 11, 14, 4, 4, 1, 16, 20, 19, 9, 10, 2, 5], \"name\": \"\", \"z\": [36, 7, 18, 98, 214, 56, 297, 66, 513, 64, 8, 17, 48, 208, 158, 43, 170, 166, 34, 4, 355], \"type\": \"choropleth\"}], \"name\": \"2020-12-26\"}, {\"data\": [{\"coloraxis\": \"coloraxis\", \"featureidkey\": \"properties.reg_istat_code_num\", \"geo\": \"geo\", \"geojson\": \"https://raw.githubusercontent.com/openpolis/geojson-italy/master/geojson/limits_IT_regions.geojson\", \"hovertemplate\": \"Date=2020-12-27<br>Region=%{location}<br>ICU=%{z}<extra></extra>\", \"locations\": [13, 17, 18, 15, 8, 6, 12, 7, 3, 11, 14, 4, 4, 1, 16, 20, 19, 9, 10, 2, 5], \"name\": \"\", \"z\": [36, 5, 18, 95, 210, 58, 301, 66, 508, 65, 8, 20, 45, 211, 154, 43, 174, 165, 36, 2, 360], \"type\": \"choropleth\"}], \"name\": \"2020-12-27\"}, {\"data\": [{\"coloraxis\": \"coloraxis\", \"featureidkey\": \"properties.reg_istat_code_num\", \"geo\": \"geo\", \"geojson\": \"https://raw.githubusercontent.com/openpolis/geojson-italy/master/geojson/limits_IT_regions.geojson\", \"hovertemplate\": \"Date=2020-12-28<br>Region=%{location}<br>ICU=%{z}<extra></extra>\", \"locations\": [13, 17, 18, 15, 8, 6, 12, 7, 3, 11, 14, 4, 4, 1, 16, 20, 19, 9, 10, 2, 5], \"name\": \"\", \"z\": [38, 6, 14, 98, 220, 56, 307, 61, 512, 60, 8, 20, 45, 205, 139, 44, 175, 164, 34, 4, 355], \"type\": \"choropleth\"}], \"name\": \"2020-12-28\"}, {\"data\": [{\"coloraxis\": \"coloraxis\", \"featureidkey\": \"properties.reg_istat_code_num\", \"geo\": \"geo\", \"geojson\": \"https://raw.githubusercontent.com/openpolis/geojson-italy/master/geojson/limits_IT_regions.geojson\", \"hovertemplate\": \"Date=2020-12-29<br>Region=%{location}<br>ICU=%{z}<extra></extra>\", \"locations\": [13, 17, 18, 15, 8, 6, 12, 7, 3, 11, 14, 4, 4, 1, 16, 20, 19, 9, 10, 2, 5], \"name\": \"\", \"z\": [38, 6, 16, 97, 221, 60, 305, 63, 498, 61, 8, 22, 46, 196, 136, 45, 169, 157, 38, 1, 366], \"type\": \"choropleth\"}], \"name\": \"2020-12-29\"}, {\"data\": [{\"coloraxis\": \"coloraxis\", \"featureidkey\": \"properties.reg_istat_code_num\", \"geo\": \"geo\", \"geojson\": \"https://raw.githubusercontent.com/openpolis/geojson-italy/master/geojson/limits_IT_regions.geojson\", \"hovertemplate\": \"Date=2020-12-30<br>Region=%{location}<br>ICU=%{z}<extra></extra>\", \"locations\": [13, 17, 18, 15, 8, 6, 12, 7, 3, 11, 14, 4, 4, 1, 16, 20, 19, 9, 10, 2, 5], \"name\": \"\", \"z\": [36, 4, 17, 102, 230, 59, 303, 63, 481, 62, 10, 22, 45, 192, 128, 44, 166, 160, 44, 2, 358], \"type\": \"choropleth\"}], \"name\": \"2020-12-30\"}, {\"data\": [{\"coloraxis\": \"coloraxis\", \"featureidkey\": \"properties.reg_istat_code_num\", \"geo\": \"geo\", \"geojson\": \"https://raw.githubusercontent.com/openpolis/geojson-italy/master/geojson/limits_IT_regions.geojson\", \"hovertemplate\": \"Date=2020-12-31<br>Region=%{location}<br>ICU=%{z}<extra></extra>\", \"locations\": [13, 17, 18, 15, 8, 6, 12, 7, 3, 11, 14, 4, 4, 1, 16, 20, 19, 9, 10, 2, 5], \"name\": \"\", \"z\": [35, 4, 18, 113, 233, 62, 303, 65, 489, 62, 10, 26, 42, 190, 129, 46, 171, 150, 44, 2, 361], \"type\": \"choropleth\"}], \"name\": \"2020-12-31\"}, {\"data\": [{\"coloraxis\": \"coloraxis\", \"featureidkey\": \"properties.reg_istat_code_num\", \"geo\": \"geo\", \"geojson\": \"https://raw.githubusercontent.com/openpolis/geojson-italy/master/geojson/limits_IT_regions.geojson\", \"hovertemplate\": \"Date=2021-01-01<br>Region=%{location}<br>ICU=%{z}<extra></extra>\", \"locations\": [13, 17, 18, 15, 8, 6, 12, 7, 3, 11, 14, 4, 4, 1, 16, 20, 19, 9, 10, 2, 5], \"name\": \"\", \"z\": [38, 5, 18, 104, 231, 63, 305, 63, 487, 61, 11, 27, 39, 184, 137, 42, 176, 143, 46, 1, 372], \"type\": \"choropleth\"}], \"name\": \"2021-01-01\"}, {\"data\": [{\"coloraxis\": \"coloraxis\", \"featureidkey\": \"properties.reg_istat_code_num\", \"geo\": \"geo\", \"geojson\": \"https://raw.githubusercontent.com/openpolis/geojson-italy/master/geojson/limits_IT_regions.geojson\", \"hovertemplate\": \"Date=2021-01-02<br>Region=%{location}<br>ICU=%{z}<extra></extra>\", \"locations\": [13, 17, 18, 15, 8, 6, 12, 7, 3, 11, 14, 4, 4, 1, 16, 20, 19, 9, 10, 2, 5], \"name\": \"\", \"z\": [37, 3, 19, 99, 229, 63, 315, 66, 491, 65, 9, 24, 41, 182, 139, 41, 186, 139, 47, 2, 372], \"type\": \"choropleth\"}], \"name\": \"2021-01-02\"}, {\"data\": [{\"coloraxis\": \"coloraxis\", \"featureidkey\": \"properties.reg_istat_code_num\", \"geo\": \"geo\", \"geojson\": \"https://raw.githubusercontent.com/openpolis/geojson-italy/master/geojson/limits_IT_regions.geojson\", \"hovertemplate\": \"Date=2021-01-03<br>Region=%{location}<br>ICU=%{z}<extra></extra>\", \"locations\": [13, 17, 18, 15, 8, 6, 12, 7, 3, 11, 14, 4, 4, 1, 16, 20, 19, 9, 10, 2, 5], \"name\": \"\", \"z\": [41, 3, 19, 98, 234, 61, 309, 71, 489, 67, 10, 24, 44, 188, 136, 43, 184, 147, 48, 2, 365], \"type\": \"choropleth\"}], \"name\": \"2021-01-03\"}, {\"data\": [{\"coloraxis\": \"coloraxis\", \"featureidkey\": \"properties.reg_istat_code_num\", \"geo\": \"geo\", \"geojson\": \"https://raw.githubusercontent.com/openpolis/geojson-italy/master/geojson/limits_IT_regions.geojson\", \"hovertemplate\": \"Date=2021-01-04<br>Region=%{location}<br>ICU=%{z}<extra></extra>\", \"locations\": [13, 17, 18, 15, 8, 6, 12, 7, 3, 11, 14, 4, 4, 1, 16, 20, 19, 9, 10, 2, 5], \"name\": \"\", \"z\": [39, 4, 19, 96, 235, 63, 318, 75, 484, 65, 10, 25, 43, 183, 137, 43, 186, 141, 44, 1, 368], \"type\": \"choropleth\"}], \"name\": \"2021-01-04\"}, {\"data\": [{\"coloraxis\": \"coloraxis\", \"featureidkey\": \"properties.reg_istat_code_num\", \"geo\": \"geo\", \"geojson\": \"https://raw.githubusercontent.com/openpolis/geojson-italy/master/geojson/limits_IT_regions.geojson\", \"hovertemplate\": \"Date=2021-01-05<br>Region=%{location}<br>ICU=%{z}<extra></extra>\", \"locations\": [13, 17, 18, 15, 8, 6, 12, 7, 3, 11, 14, 4, 4, 1, 16, 20, 19, 9, 10, 2, 5], \"name\": \"\", \"z\": [39, 4, 19, 97, 232, 59, 308, 73, 475, 65, 8, 27, 45, 187, 152, 45, 190, 139, 43, 1, 361], \"type\": \"choropleth\"}], \"name\": \"2021-01-05\"}, {\"data\": [{\"coloraxis\": \"coloraxis\", \"featureidkey\": \"properties.reg_istat_code_num\", \"geo\": \"geo\", \"geojson\": \"https://raw.githubusercontent.com/openpolis/geojson-italy/master/geojson/limits_IT_regions.geojson\", \"hovertemplate\": \"Date=2021-01-06<br>Region=%{location}<br>ICU=%{z}<extra></extra>\", \"locations\": [13, 17, 18, 15, 8, 6, 12, 7, 3, 11, 14, 4, 4, 1, 16, 20, 19, 9, 10, 2, 5], \"name\": \"\", \"z\": [39, 4, 20, 99, 236, 62, 306, 65, 471, 67, 9, 27, 45, 192, 153, 47, 194, 146, 45, 1, 343], \"type\": \"choropleth\"}], \"name\": \"2021-01-06\"}, {\"data\": [{\"coloraxis\": \"coloraxis\", \"featureidkey\": \"properties.reg_istat_code_num\", \"geo\": \"geo\", \"geojson\": \"https://raw.githubusercontent.com/openpolis/geojson-italy/master/geojson/limits_IT_regions.geojson\", \"hovertemplate\": \"Date=2021-01-07<br>Region=%{location}<br>ICU=%{z}<extra></extra>\", \"locations\": [13, 17, 18, 15, 8, 6, 12, 7, 3, 11, 14, 4, 4, 1, 16, 20, 19, 9, 10, 2, 5], \"name\": \"\", \"z\": [36, 4, 21, 96, 240, 64, 310, 62, 473, 69, 8, 25, 47, 184, 154, 48, 196, 146, 44, 1, 359], \"type\": \"choropleth\"}], \"name\": \"2021-01-07\"}, {\"data\": [{\"coloraxis\": \"coloraxis\", \"featureidkey\": \"properties.reg_istat_code_num\", \"geo\": \"geo\", \"geojson\": \"https://raw.githubusercontent.com/openpolis/geojson-italy/master/geojson/limits_IT_regions.geojson\", \"hovertemplate\": \"Date=2021-01-08<br>Region=%{location}<br>ICU=%{z}<extra></extra>\", \"locations\": [13, 17, 18, 15, 8, 6, 12, 7, 3, 11, 14, 4, 4, 1, 16, 20, 19, 9, 10, 2, 5], \"name\": \"\", \"z\": [36, 4, 21, 100, 245, 64, 309, 67, 466, 68, 8, 24, 46, 176, 163, 50, 200, 139, 43, 1, 357], \"type\": \"choropleth\"}], \"name\": \"2021-01-08\"}, {\"data\": [{\"coloraxis\": \"coloraxis\", \"featureidkey\": \"properties.reg_istat_code_num\", \"geo\": \"geo\", \"geojson\": \"https://raw.githubusercontent.com/openpolis/geojson-italy/master/geojson/limits_IT_regions.geojson\", \"hovertemplate\": \"Date=2021-01-09<br>Region=%{location}<br>ICU=%{z}<extra></extra>\", \"locations\": [13, 17, 18, 15, 8, 6, 12, 7, 3, 11, 14, 4, 4, 1, 16, 20, 19, 9, 10, 2, 5], \"name\": \"\", \"z\": [40, 4, 22, 107, 240, 62, 310, 65, 456, 71, 9, 24, 48, 172, 175, 47, 205, 139, 47, 1, 349], \"type\": \"choropleth\"}], \"name\": \"2021-01-09\"}, {\"data\": [{\"coloraxis\": \"coloraxis\", \"featureidkey\": \"properties.reg_istat_code_num\", \"geo\": \"geo\", \"geojson\": \"https://raw.githubusercontent.com/openpolis/geojson-italy/master/geojson/limits_IT_regions.geojson\", \"hovertemplate\": \"Date=2021-01-10<br>Region=%{location}<br>ICU=%{z}<extra></extra>\", \"locations\": [13, 17, 18, 15, 8, 6, 12, 7, 3, 11, 14, 4, 4, 1, 16, 20, 19, 9, 10, 2, 5], \"name\": \"\", \"z\": [41, 4, 25, 106, 237, 64, 323, 64, 459, 73, 7, 24, 46, 176, 165, 47, 208, 140, 50, 1, 355], \"type\": \"choropleth\"}], \"name\": \"2021-01-10\"}, {\"data\": [{\"coloraxis\": \"coloraxis\", \"featureidkey\": \"properties.reg_istat_code_num\", \"geo\": \"geo\", \"geojson\": \"https://raw.githubusercontent.com/openpolis/geojson-italy/master/geojson/limits_IT_regions.geojson\", \"hovertemplate\": \"Date=2021-01-11<br>Region=%{location}<br>ICU=%{z}<extra></extra>\", \"locations\": [13, 17, 18, 15, 8, 6, 12, 7, 3, 11, 14, 4, 4, 1, 16, 20, 19, 9, 10, 2, 5], \"name\": \"\", \"z\": [38, 6, 24, 109, 238, 67, 321, 64, 462, 81, 7, 24, 45, 177, 169, 48, 208, 144, 51, 1, 358], \"type\": \"choropleth\"}], \"name\": \"2021-01-11\"}, {\"data\": [{\"coloraxis\": \"coloraxis\", \"featureidkey\": \"properties.reg_istat_code_num\", \"geo\": \"geo\", \"geojson\": \"https://raw.githubusercontent.com/openpolis/geojson-italy/master/geojson/limits_IT_regions.geojson\", \"hovertemplate\": \"Date=2021-01-12<br>Region=%{location}<br>ICU=%{z}<extra></extra>\", \"locations\": [13, 17, 18, 15, 8, 6, 12, 7, 3, 11, 14, 4, 4, 1, 16, 20, 19, 9, 10, 2, 5], \"name\": \"\", \"z\": [38, 4, 22, 109, 237, 68, 326, 65, 466, 79, 6, 25, 43, 171, 170, 45, 209, 137, 56, 1, 359], \"type\": \"choropleth\"}], \"name\": \"2021-01-12\"}, {\"data\": [{\"coloraxis\": \"coloraxis\", \"featureidkey\": \"properties.reg_istat_code_num\", \"geo\": \"geo\", \"geojson\": \"https://raw.githubusercontent.com/openpolis/geojson-italy/master/geojson/limits_IT_regions.geojson\", \"hovertemplate\": \"Date=2021-01-13<br>Region=%{location}<br>ICU=%{z}<extra></extra>\", \"locations\": [13, 17, 18, 15, 8, 6, 12, 7, 3, 11, 14, 4, 4, 1, 16, 20, 19, 9, 10, 2, 5], \"name\": \"\", \"z\": [40, 4, 25, 106, 229, 69, 313, 62, 462, 73, 9, 23, 44, 172, 165, 47, 208, 140, 50, 2, 336], \"type\": \"choropleth\"}], \"name\": \"2021-01-13\"}, {\"data\": [{\"coloraxis\": \"coloraxis\", \"featureidkey\": \"properties.reg_istat_code_num\", \"geo\": \"geo\", \"geojson\": \"https://raw.githubusercontent.com/openpolis/geojson-italy/master/geojson/limits_IT_regions.geojson\", \"hovertemplate\": \"Date=2021-01-14<br>Region=%{location}<br>ICU=%{z}<extra></extra>\", \"locations\": [13, 17, 18, 15, 8, 6, 12, 7, 3, 11, 14, 4, 4, 1, 16, 20, 19, 9, 10, 2, 5], \"name\": \"\", \"z\": [40, 4, 29, 104, 233, 68, 295, 65, 468, 76, 8, 23, 42, 172, 162, 50, 205, 132, 51, 2, 328], \"type\": \"choropleth\"}], \"name\": \"2021-01-14\"}, {\"data\": [{\"coloraxis\": \"coloraxis\", \"featureidkey\": \"properties.reg_istat_code_num\", \"geo\": \"geo\", \"geojson\": \"https://raw.githubusercontent.com/openpolis/geojson-italy/master/geojson/limits_IT_regions.geojson\", \"hovertemplate\": \"Date=2021-01-15<br>Region=%{location}<br>ICU=%{z}<extra></extra>\", \"locations\": [13, 17, 18, 15, 8, 6, 12, 7, 3, 11, 14, 4, 4, 1, 16, 20, 19, 9, 10, 2, 5], \"name\": \"\", \"z\": [41, 4, 27, 93, 231, 68, 299, 59, 466, 82, 7, 23, 42, 163, 148, 50, 210, 129, 50, 3, 327], \"type\": \"choropleth\"}], \"name\": \"2021-01-15\"}, {\"data\": [{\"coloraxis\": \"coloraxis\", \"featureidkey\": \"properties.reg_istat_code_num\", \"geo\": \"geo\", \"geojson\": \"https://raw.githubusercontent.com/openpolis/geojson-italy/master/geojson/limits_IT_regions.geojson\", \"hovertemplate\": \"Date=2021-01-16<br>Region=%{location}<br>ICU=%{z}<extra></extra>\", \"locations\": [13, 17, 18, 15, 8, 6, 12, 7, 3, 11, 14, 4, 4, 1, 16, 20, 19, 9, 10, 2, 5], \"name\": \"\", \"z\": [41, 3, 27, 97, 231, 66, 286, 63, 454, 85, 8, 26, 46, 162, 148, 49, 212, 125, 49, 4, 338], \"type\": \"choropleth\"}], \"name\": \"2021-01-16\"}, {\"data\": [{\"coloraxis\": \"coloraxis\", \"featureidkey\": \"properties.reg_istat_code_num\", \"geo\": \"geo\", \"geojson\": \"https://raw.githubusercontent.com/openpolis/geojson-italy/master/geojson/limits_IT_regions.geojson\", \"hovertemplate\": \"Date=2021-01-17<br>Region=%{location}<br>ICU=%{z}<extra></extra>\", \"locations\": [13, 17, 18, 15, 8, 6, 12, 7, 3, 11, 14, 4, 4, 1, 16, 20, 19, 9, 10, 2, 5], \"name\": \"\", \"z\": [38, 4, 25, 94, 234, 63, 296, 62, 452, 83, 9, 26, 47, 164, 142, 48, 208, 118, 49, 3, 338], \"type\": \"choropleth\"}], \"name\": \"2021-01-17\"}, {\"data\": [{\"coloraxis\": \"coloraxis\", \"featureidkey\": \"properties.reg_istat_code_num\", \"geo\": \"geo\", \"geojson\": \"https://raw.githubusercontent.com/openpolis/geojson-italy/master/geojson/limits_IT_regions.geojson\", \"hovertemplate\": \"Date=2021-01-18<br>Region=%{location}<br>ICU=%{z}<extra></extra>\", \"locations\": [13, 17, 18, 15, 8, 6, 12, 7, 3, 11, 14, 4, 4, 1, 16, 20, 19, 9, 10, 2, 5], \"name\": \"\", \"z\": [43, 6, 24, 94, 238, 63, 315, 64, 449, 85, 10, 30, 46, 166, 143, 51, 205, 125, 49, 2, 336], \"type\": \"choropleth\"}], \"name\": \"2021-01-18\"}, {\"data\": [{\"coloraxis\": \"coloraxis\", \"featureidkey\": \"properties.reg_istat_code_num\", \"geo\": \"geo\", \"geojson\": \"https://raw.githubusercontent.com/openpolis/geojson-italy/master/geojson/limits_IT_regions.geojson\", \"hovertemplate\": \"Date=2021-01-19<br>Region=%{location}<br>ICU=%{z}<extra></extra>\", \"locations\": [13, 17, 18, 15, 8, 6, 12, 7, 3, 11, 14, 4, 4, 1, 16, 20, 19, 9, 10, 2, 5], \"name\": \"\", \"z\": [44, 5, 24, 97, 232, 63, 305, 60, 425, 85, 9, 30, 46, 168, 142, 53, 211, 121, 47, 2, 318], \"type\": \"choropleth\"}], \"name\": \"2021-01-19\"}, {\"data\": [{\"coloraxis\": \"coloraxis\", \"featureidkey\": \"properties.reg_istat_code_num\", \"geo\": \"geo\", \"geojson\": \"https://raw.githubusercontent.com/openpolis/geojson-italy/master/geojson/limits_IT_regions.geojson\", \"hovertemplate\": \"Date=2021-01-20<br>Region=%{location}<br>ICU=%{z}<extra></extra>\", \"locations\": [13, 17, 18, 15, 8, 6, 12, 7, 3, 11, 14, 4, 4, 1, 16, 20, 19, 9, 10, 2, 5], \"name\": \"\", \"z\": [45, 4, 27, 100, 230, 58, 288, 59, 428, 84, 9, 30, 42, 165, 148, 53, 215, 113, 46, 2, 315], \"type\": \"choropleth\"}], \"name\": \"2021-01-20\"}, {\"data\": [{\"coloraxis\": \"coloraxis\", \"featureidkey\": \"properties.reg_istat_code_num\", \"geo\": \"geo\", \"geojson\": \"https://raw.githubusercontent.com/openpolis/geojson-italy/master/geojson/limits_IT_regions.geojson\", \"hovertemplate\": \"Date=2021-01-21<br>Region=%{location}<br>ICU=%{z}<extra></extra>\", \"locations\": [13, 17, 18, 15, 8, 6, 12, 7, 3, 11, 14, 4, 4, 1, 16, 20, 19, 9, 10, 2, 5], \"name\": \"\", \"z\": [43, 6, 26, 100, 218, 59, 280, 62, 411, 83, 8, 28, 43, 159, 151, 51, 221, 116, 46, 2, 305], \"type\": \"choropleth\"}], \"name\": \"2021-01-21\"}, {\"data\": [{\"coloraxis\": \"coloraxis\", \"featureidkey\": \"properties.reg_istat_code_num\", \"geo\": \"geo\", \"geojson\": \"https://raw.githubusercontent.com/openpolis/geojson-italy/master/geojson/limits_IT_regions.geojson\", \"hovertemplate\": \"Date=2021-01-22<br>Region=%{location}<br>ICU=%{z}<extra></extra>\", \"locations\": [13, 17, 18, 15, 8, 6, 12, 7, 3, 11, 14, 4, 4, 1, 16, 20, 19, 9, 10, 2, 5], \"name\": \"\", \"z\": [40, 5, 24, 104, 220, 61, 289, 61, 408, 79, 8, 24, 41, 152, 153, 52, 222, 110, 44, 2, 291], \"type\": \"choropleth\"}], \"name\": \"2021-01-22\"}, {\"data\": [{\"coloraxis\": \"coloraxis\", \"featureidkey\": \"properties.reg_istat_code_num\", \"geo\": \"geo\", \"geojson\": \"https://raw.githubusercontent.com/openpolis/geojson-italy/master/geojson/limits_IT_regions.geojson\", \"hovertemplate\": \"Date=2021-01-23<br>Region=%{location}<br>ICU=%{z}<extra></extra>\", \"locations\": [13, 17, 18, 15, 8, 6, 12, 7, 3, 11, 14, 4, 4, 1, 16, 20, 19, 9, 10, 2, 5], \"name\": \"\", \"z\": [41, 4, 24, 114, 217, 63, 283, 65, 398, 77, 8, 24, 43, 156, 159, 46, 223, 107, 46, 2, 286], \"type\": \"choropleth\"}], \"name\": \"2021-01-23\"}, {\"data\": [{\"coloraxis\": \"coloraxis\", \"featureidkey\": \"properties.reg_istat_code_num\", \"geo\": \"geo\", \"geojson\": \"https://raw.githubusercontent.com/openpolis/geojson-italy/master/geojson/limits_IT_regions.geojson\", \"hovertemplate\": \"Date=2021-01-24<br>Region=%{location}<br>ICU=%{z}<extra></extra>\", \"locations\": [13, 17, 18, 15, 8, 6, 12, 7, 3, 11, 14, 4, 4, 1, 16, 20, 19, 9, 10, 2, 5], \"name\": \"\", \"z\": [44, 4, 21, 112, 219, 61, 286, 64, 405, 74, 9, 25, 43, 156, 164, 45, 227, 106, 47, 2, 286], \"type\": \"choropleth\"}], \"name\": \"2021-01-24\"}, {\"data\": [{\"coloraxis\": \"coloraxis\", \"featureidkey\": \"properties.reg_istat_code_num\", \"geo\": \"geo\", \"geojson\": \"https://raw.githubusercontent.com/openpolis/geojson-italy/master/geojson/limits_IT_regions.geojson\", \"hovertemplate\": \"Date=2021-01-25<br>Region=%{location}<br>ICU=%{z}<extra></extra>\", \"locations\": [13, 17, 18, 15, 8, 6, 12, 7, 3, 11, 14, 4, 4, 1, 16, 20, 19, 9, 10, 2, 5], \"name\": \"\", \"z\": [44, 6, 22, 105, 222, 62, 287, 67, 407, 73, 7, 28, 41, 163, 169, 48, 227, 109, 47, 3, 284], \"type\": \"choropleth\"}], \"name\": \"2021-01-25\"}, {\"data\": [{\"coloraxis\": \"coloraxis\", \"featureidkey\": \"properties.reg_istat_code_num\", \"geo\": \"geo\", \"geojson\": \"https://raw.githubusercontent.com/openpolis/geojson-italy/master/geojson/limits_IT_regions.geojson\", \"hovertemplate\": \"Date=2021-01-26<br>Region=%{location}<br>ICU=%{z}<extra></extra>\", \"locations\": [13, 17, 18, 15, 8, 6, 12, 7, 3, 11, 14, 4, 4, 1, 16, 20, 19, 9, 10, 2, 5], \"name\": \"\", \"z\": [42, 2, 19, 101, 220, 64, 283, 65, 392, 73, 7, 30, 36, 163, 180, 44, 229, 103, 50, 4, 265], \"type\": \"choropleth\"}], \"name\": \"2021-01-26\"}, {\"data\": [{\"coloraxis\": \"coloraxis\", \"featureidkey\": \"properties.reg_istat_code_num\", \"geo\": \"geo\", \"geojson\": \"https://raw.githubusercontent.com/openpolis/geojson-italy/master/geojson/limits_IT_regions.geojson\", \"hovertemplate\": \"Date=2021-01-27<br>Region=%{location}<br>ICU=%{z}<extra></extra>\", \"locations\": [13, 17, 18, 15, 8, 6, 12, 7, 3, 11, 14, 4, 4, 1, 16, 20, 19, 9, 10, 2, 5], \"name\": \"\", \"z\": [40, 2, 22, 107, 210, 61, 283, 68, 377, 72, 8, 32, 35, 163, 182, 43, 232, 103, 50, 4, 258], \"type\": \"choropleth\"}], \"name\": \"2021-01-27\"}]);\n",
       "                        }).then(function(){\n",
       "                            \n",
       "var gd = document.getElementById('8f60caf8-074d-4bc2-941e-17240059385c');\n",
       "var x = new MutationObserver(function (mutations, observer) {{\n",
       "        var display = window.getComputedStyle(gd).display;\n",
       "        if (!display || display === 'none') {{\n",
       "            console.log([gd, 'removed!']);\n",
       "            Plotly.purge(gd);\n",
       "            observer.disconnect();\n",
       "        }}\n",
       "}});\n",
       "\n",
       "// Listen for the removal of the full notebook cells\n",
       "var notebookContainer = gd.closest('#notebook-container');\n",
       "if (notebookContainer) {{\n",
       "    x.observe(notebookContainer, {childList: true});\n",
       "}}\n",
       "\n",
       "// Listen for the clearing of the current output cell\n",
       "var outputEl = gd.closest('.output');\n",
       "if (outputEl) {{\n",
       "    x.observe(outputEl, {childList: true});\n",
       "}}\n",
       "\n",
       "                        })                };                });            </script>        </div>"
      ]
     },
     "metadata": {},
     "output_type": "display_data"
    }
   ],
   "source": [
    "fig = px.choropleth(df, \n",
    "    geojson='https://raw.githubusercontent.com/openpolis/geojson-italy/master/geojson/limits_IT_regions.geojson', \n",
    "    locations='Region', color='ICU', color_continuous_scale='reds', \n",
    "    featureidkey='properties.reg_istat_code_num', animation_frame='Date', \n",
    "    range_color=(0, max(df['ICU'])))\n",
    "fig.update_layout(margin={\"r\": 0, \"t\": 0, \"l\": 0, \"b\": 0})\n",
    "fig.update_geos(fitbounds=\"locations\", visible=False)\n",
    "fig.write_html('IntensiveCareUnits_by_region_time_frame.html')\n",
    "fig.show()"
   ]
  },
  {
   "cell_type": "markdown",
   "id": "strange-poland",
   "metadata": {},
   "source": [
    "Intensive Care Units occupation from the covid-19 start date:"
   ]
  },
  {
   "cell_type": "code",
   "execution_count": 76,
   "id": "systematic-search",
   "metadata": {},
   "outputs": [
    {
     "data": {
      "application/vnd.plotly.v1+json": {
       "config": {
        "linkText": "Export to plot.ly",
        "plotlyServerURL": "https://plot.ly",
        "showLink": true
       },
       "data": [
        {
         "marker": {
          "color": "rgba(255, 153, 51, 0.6)",
          "line": {
           "color": "rgba(255, 153, 51, 1.0)",
           "width": 1
          }
         },
         "name": "ICU",
         "orientation": "v",
         "text": "",
         "type": "bar",
         "x": [
          "2020-02-24",
          "2020-02-25",
          "2020-02-26",
          "2020-02-27",
          "2020-02-28",
          "2020-02-29",
          "2020-03-01",
          "2020-03-02",
          "2020-03-03",
          "2020-03-04",
          "2020-03-05",
          "2020-03-06",
          "2020-03-07",
          "2020-03-08",
          "2020-03-09",
          "2020-03-10",
          "2020-03-11",
          "2020-03-12",
          "2020-03-13",
          "2020-03-14",
          "2020-03-15",
          "2020-03-16",
          "2020-03-17",
          "2020-03-18",
          "2020-03-19",
          "2020-03-20",
          "2020-03-21",
          "2020-03-22",
          "2020-03-23",
          "2020-03-24",
          "2020-03-25",
          "2020-03-26",
          "2020-03-27",
          "2020-03-28",
          "2020-03-29",
          "2020-03-30",
          "2020-03-31",
          "2020-04-01",
          "2020-04-02",
          "2020-04-03",
          "2020-04-04",
          "2020-04-05",
          "2020-04-06",
          "2020-04-07",
          "2020-04-08",
          "2020-04-09",
          "2020-04-10",
          "2020-04-11",
          "2020-04-12",
          "2020-04-13",
          "2020-04-14",
          "2020-04-15",
          "2020-04-16",
          "2020-04-17",
          "2020-04-18",
          "2020-04-19",
          "2020-04-20",
          "2020-04-21",
          "2020-04-22",
          "2020-04-23",
          "2020-04-24",
          "2020-04-25",
          "2020-04-26",
          "2020-04-27",
          "2020-04-28",
          "2020-04-29",
          "2020-04-30",
          "2020-05-01",
          "2020-05-02",
          "2020-05-03",
          "2020-05-04",
          "2020-05-05",
          "2020-05-06",
          "2020-05-07",
          "2020-05-08",
          "2020-05-09",
          "2020-05-10",
          "2020-05-11",
          "2020-05-12",
          "2020-05-13",
          "2020-05-14",
          "2020-05-15",
          "2020-05-16",
          "2020-05-17",
          "2020-05-18",
          "2020-05-19",
          "2020-05-20",
          "2020-05-21",
          "2020-05-22",
          "2020-05-23",
          "2020-05-24",
          "2020-05-25",
          "2020-05-26",
          "2020-05-27",
          "2020-05-28",
          "2020-05-29",
          "2020-05-30",
          "2020-05-31",
          "2020-06-01",
          "2020-06-02",
          "2020-06-03",
          "2020-06-04",
          "2020-06-05",
          "2020-06-06",
          "2020-06-07",
          "2020-06-08",
          "2020-06-09",
          "2020-06-10",
          "2020-06-11",
          "2020-06-12",
          "2020-06-13",
          "2020-06-14",
          "2020-06-15",
          "2020-06-16",
          "2020-06-17",
          "2020-06-18",
          "2020-06-19",
          "2020-06-20",
          "2020-06-21",
          "2020-06-22",
          "2020-06-23",
          "2020-06-24",
          "2020-06-25",
          "2020-06-26",
          "2020-06-27",
          "2020-06-28",
          "2020-06-29",
          "2020-06-30",
          "2020-07-01",
          "2020-07-02",
          "2020-07-03",
          "2020-07-04",
          "2020-07-05",
          "2020-07-06",
          "2020-07-07",
          "2020-07-08",
          "2020-07-09",
          "2020-07-10",
          "2020-07-11",
          "2020-07-12",
          "2020-07-13",
          "2020-07-14",
          "2020-07-15",
          "2020-07-16",
          "2020-07-17",
          "2020-07-18",
          "2020-07-19",
          "2020-07-20",
          "2020-07-21",
          "2020-07-22",
          "2020-07-23",
          "2020-07-24",
          "2020-07-25",
          "2020-07-26",
          "2020-07-27",
          "2020-07-28",
          "2020-07-29",
          "2020-07-30",
          "2020-07-31",
          "2020-08-01",
          "2020-08-02",
          "2020-08-03",
          "2020-08-04",
          "2020-08-05",
          "2020-08-06",
          "2020-08-07",
          "2020-08-08",
          "2020-08-09",
          "2020-08-10",
          "2020-08-11",
          "2020-08-12",
          "2020-08-13",
          "2020-08-14",
          "2020-08-15",
          "2020-08-16",
          "2020-08-17",
          "2020-08-18",
          "2020-08-19",
          "2020-08-20",
          "2020-08-21",
          "2020-08-22",
          "2020-08-23",
          "2020-08-24",
          "2020-08-25",
          "2020-08-26",
          "2020-08-27",
          "2020-08-28",
          "2020-08-29",
          "2020-08-30",
          "2020-08-31",
          "2020-09-01",
          "2020-09-02",
          "2020-09-03",
          "2020-09-04",
          "2020-09-05",
          "2020-09-06",
          "2020-09-07",
          "2020-09-08",
          "2020-09-09",
          "2020-09-10",
          "2020-09-11",
          "2020-09-12",
          "2020-09-13",
          "2020-09-14",
          "2020-09-15",
          "2020-09-16",
          "2020-09-17",
          "2020-09-18",
          "2020-09-19",
          "2020-09-20",
          "2020-09-21",
          "2020-09-22",
          "2020-09-23",
          "2020-09-24",
          "2020-09-25",
          "2020-09-26",
          "2020-09-27",
          "2020-09-28",
          "2020-09-29",
          "2020-09-30",
          "2020-10-01",
          "2020-10-02",
          "2020-10-03",
          "2020-10-04",
          "2020-10-05",
          "2020-10-06",
          "2020-10-07",
          "2020-10-08",
          "2020-10-09",
          "2020-10-10",
          "2020-10-11",
          "2020-10-12",
          "2020-10-13",
          "2020-10-14",
          "2020-10-15",
          "2020-10-16",
          "2020-10-17",
          "2020-10-18",
          "2020-10-19",
          "2020-10-20",
          "2020-10-21",
          "2020-10-22",
          "2020-10-23",
          "2020-10-24",
          "2020-10-25",
          "2020-10-26",
          "2020-10-27",
          "2020-10-28",
          "2020-10-29",
          "2020-10-30",
          "2020-10-31",
          "2020-11-01",
          "2020-11-02",
          "2020-11-03",
          "2020-11-04",
          "2020-11-05",
          "2020-11-06",
          "2020-11-07",
          "2020-11-08",
          "2020-11-09",
          "2020-11-10",
          "2020-11-11",
          "2020-11-12",
          "2020-11-13",
          "2020-11-14",
          "2020-11-15",
          "2020-11-16",
          "2020-11-17",
          "2020-11-18",
          "2020-11-19",
          "2020-11-20",
          "2020-11-21",
          "2020-11-22",
          "2020-11-23",
          "2020-11-24",
          "2020-11-25",
          "2020-11-26",
          "2020-11-27",
          "2020-11-28",
          "2020-11-29",
          "2020-11-30",
          "2020-12-01",
          "2020-12-02",
          "2020-12-03",
          "2020-12-04",
          "2020-12-05",
          "2020-12-06",
          "2020-12-07",
          "2020-12-08",
          "2020-12-09",
          "2020-12-10",
          "2020-12-11",
          "2020-12-12",
          "2020-12-13",
          "2020-12-14",
          "2020-12-15",
          "2020-12-16",
          "2020-12-17",
          "2020-12-18",
          "2020-12-19",
          "2020-12-20",
          "2020-12-21",
          "2020-12-22",
          "2020-12-23",
          "2020-12-24",
          "2020-12-25",
          "2020-12-26",
          "2020-12-27",
          "2020-12-28",
          "2020-12-29",
          "2020-12-30",
          "2020-12-31",
          "2021-01-01",
          "2021-01-02",
          "2021-01-03",
          "2021-01-04",
          "2021-01-05",
          "2021-01-06",
          "2021-01-07",
          "2021-01-08",
          "2021-01-09",
          "2021-01-10",
          "2021-01-11",
          "2021-01-12",
          "2021-01-13",
          "2021-01-14",
          "2021-01-15",
          "2021-01-16",
          "2021-01-17",
          "2021-01-18",
          "2021-01-19",
          "2021-01-20",
          "2021-01-21",
          "2021-01-22",
          "2021-01-23",
          "2021-01-24",
          "2021-01-25",
          "2021-01-26",
          "2021-01-27"
         ],
         "y": [
          26,
          35,
          36,
          56,
          64,
          105,
          140,
          166,
          229,
          295,
          351,
          462,
          567,
          650,
          733,
          877,
          1028,
          1153,
          1328,
          1518,
          1672,
          1851,
          2060,
          2257,
          2498,
          2655,
          2857,
          3009,
          3204,
          3396,
          3489,
          3612,
          3732,
          3856,
          3906,
          3981,
          4023,
          4035,
          4053,
          4068,
          3994,
          3977,
          3898,
          3792,
          3693,
          3605,
          3497,
          3381,
          3343,
          3260,
          3186,
          3079,
          2936,
          2812,
          2733,
          2635,
          2573,
          2471,
          2384,
          2267,
          2173,
          2102,
          2009,
          1956,
          1863,
          1795,
          1694,
          1578,
          1539,
          1501,
          1479,
          1427,
          1333,
          1311,
          1168,
          1034,
          1027,
          999,
          952,
          893,
          855,
          808,
          775,
          762,
          749,
          716,
          676,
          640,
          595,
          572,
          553,
          541,
          521,
          505,
          489,
          475,
          450,
          435,
          424,
          408,
          353,
          338,
          316,
          293,
          287,
          283,
          263,
          249,
          236,
          227,
          220,
          209,
          207,
          177,
          163,
          168,
          161,
          152,
          148,
          127,
          115,
          107,
          103,
          105,
          97,
          98,
          96,
          93,
          87,
          82,
          79,
          71,
          74,
          72,
          70,
          71,
          69,
          65,
          67,
          68,
          65,
          60,
          57,
          53,
          50,
          50,
          49,
          47,
          49,
          48,
          49,
          46,
          41,
          44,
          45,
          40,
          38,
          47,
          41,
          43,
          42,
          41,
          41,
          41,
          42,
          42,
          43,
          45,
          46,
          49,
          53,
          55,
          56,
          55,
          56,
          58,
          58,
          66,
          68,
          69,
          64,
          69,
          65,
          66,
          69,
          67,
          74,
          79,
          86,
          94,
          107,
          109,
          120,
          121,
          121,
          133,
          142,
          143,
          150,
          164,
          175,
          182,
          187,
          197,
          201,
          207,
          212,
          208,
          215,
          222,
          232,
          239,
          244,
          246,
          244,
          247,
          254,
          264,
          271,
          280,
          291,
          294,
          297,
          303,
          323,
          319,
          337,
          358,
          387,
          390,
          420,
          452,
          514,
          539,
          586,
          638,
          705,
          750,
          797,
          870,
          926,
          992,
          1049,
          1128,
          1208,
          1284,
          1411,
          1536,
          1651,
          1746,
          1843,
          1939,
          2022,
          2225,
          2292,
          2391,
          2515,
          2634,
          2749,
          2849,
          2971,
          3081,
          3170,
          3230,
          3306,
          3422,
          3492,
          3612,
          3670,
          3712,
          3748,
          3758,
          3801,
          3810,
          3816,
          3848,
          3846,
          3782,
          3762,
          3753,
          3744,
          3663,
          3616,
          3597,
          3567,
          3517,
          3454,
          3382,
          3345,
          3320,
          3291,
          3265,
          3199,
          3158,
          3095,
          3003,
          2926,
          2855,
          2819,
          2784,
          2743,
          2731,
          2687,
          2624,
          2589,
          2584,
          2580,
          2580,
          2565,
          2549,
          2528,
          2555,
          2553,
          2569,
          2583,
          2579,
          2569,
          2571,
          2587,
          2587,
          2593,
          2615,
          2642,
          2636,
          2579,
          2557,
          2522,
          2520,
          2503,
          2544,
          2487,
          2461,
          2418,
          2390,
          2386,
          2400,
          2421,
          2372,
          2352
         ]
        }
       ],
       "layout": {
        "legend": {
         "bgcolor": "#F5F6F9",
         "font": {
          "color": "#4D5663"
         }
        },
        "paper_bgcolor": "#F5F6F9",
        "plot_bgcolor": "#F5F6F9",
        "template": {
         "data": {
          "bar": [
           {
            "error_x": {
             "color": "#2a3f5f"
            },
            "error_y": {
             "color": "#2a3f5f"
            },
            "marker": {
             "line": {
              "color": "#E5ECF6",
              "width": 0.5
             }
            },
            "type": "bar"
           }
          ],
          "barpolar": [
           {
            "marker": {
             "line": {
              "color": "#E5ECF6",
              "width": 0.5
             }
            },
            "type": "barpolar"
           }
          ],
          "carpet": [
           {
            "aaxis": {
             "endlinecolor": "#2a3f5f",
             "gridcolor": "white",
             "linecolor": "white",
             "minorgridcolor": "white",
             "startlinecolor": "#2a3f5f"
            },
            "baxis": {
             "endlinecolor": "#2a3f5f",
             "gridcolor": "white",
             "linecolor": "white",
             "minorgridcolor": "white",
             "startlinecolor": "#2a3f5f"
            },
            "type": "carpet"
           }
          ],
          "choropleth": [
           {
            "colorbar": {
             "outlinewidth": 0,
             "ticks": ""
            },
            "type": "choropleth"
           }
          ],
          "contour": [
           {
            "colorbar": {
             "outlinewidth": 0,
             "ticks": ""
            },
            "colorscale": [
             [
              0,
              "#0d0887"
             ],
             [
              0.1111111111111111,
              "#46039f"
             ],
             [
              0.2222222222222222,
              "#7201a8"
             ],
             [
              0.3333333333333333,
              "#9c179e"
             ],
             [
              0.4444444444444444,
              "#bd3786"
             ],
             [
              0.5555555555555556,
              "#d8576b"
             ],
             [
              0.6666666666666666,
              "#ed7953"
             ],
             [
              0.7777777777777778,
              "#fb9f3a"
             ],
             [
              0.8888888888888888,
              "#fdca26"
             ],
             [
              1,
              "#f0f921"
             ]
            ],
            "type": "contour"
           }
          ],
          "contourcarpet": [
           {
            "colorbar": {
             "outlinewidth": 0,
             "ticks": ""
            },
            "type": "contourcarpet"
           }
          ],
          "heatmap": [
           {
            "colorbar": {
             "outlinewidth": 0,
             "ticks": ""
            },
            "colorscale": [
             [
              0,
              "#0d0887"
             ],
             [
              0.1111111111111111,
              "#46039f"
             ],
             [
              0.2222222222222222,
              "#7201a8"
             ],
             [
              0.3333333333333333,
              "#9c179e"
             ],
             [
              0.4444444444444444,
              "#bd3786"
             ],
             [
              0.5555555555555556,
              "#d8576b"
             ],
             [
              0.6666666666666666,
              "#ed7953"
             ],
             [
              0.7777777777777778,
              "#fb9f3a"
             ],
             [
              0.8888888888888888,
              "#fdca26"
             ],
             [
              1,
              "#f0f921"
             ]
            ],
            "type": "heatmap"
           }
          ],
          "heatmapgl": [
           {
            "colorbar": {
             "outlinewidth": 0,
             "ticks": ""
            },
            "colorscale": [
             [
              0,
              "#0d0887"
             ],
             [
              0.1111111111111111,
              "#46039f"
             ],
             [
              0.2222222222222222,
              "#7201a8"
             ],
             [
              0.3333333333333333,
              "#9c179e"
             ],
             [
              0.4444444444444444,
              "#bd3786"
             ],
             [
              0.5555555555555556,
              "#d8576b"
             ],
             [
              0.6666666666666666,
              "#ed7953"
             ],
             [
              0.7777777777777778,
              "#fb9f3a"
             ],
             [
              0.8888888888888888,
              "#fdca26"
             ],
             [
              1,
              "#f0f921"
             ]
            ],
            "type": "heatmapgl"
           }
          ],
          "histogram": [
           {
            "marker": {
             "colorbar": {
              "outlinewidth": 0,
              "ticks": ""
             }
            },
            "type": "histogram"
           }
          ],
          "histogram2d": [
           {
            "colorbar": {
             "outlinewidth": 0,
             "ticks": ""
            },
            "colorscale": [
             [
              0,
              "#0d0887"
             ],
             [
              0.1111111111111111,
              "#46039f"
             ],
             [
              0.2222222222222222,
              "#7201a8"
             ],
             [
              0.3333333333333333,
              "#9c179e"
             ],
             [
              0.4444444444444444,
              "#bd3786"
             ],
             [
              0.5555555555555556,
              "#d8576b"
             ],
             [
              0.6666666666666666,
              "#ed7953"
             ],
             [
              0.7777777777777778,
              "#fb9f3a"
             ],
             [
              0.8888888888888888,
              "#fdca26"
             ],
             [
              1,
              "#f0f921"
             ]
            ],
            "type": "histogram2d"
           }
          ],
          "histogram2dcontour": [
           {
            "colorbar": {
             "outlinewidth": 0,
             "ticks": ""
            },
            "colorscale": [
             [
              0,
              "#0d0887"
             ],
             [
              0.1111111111111111,
              "#46039f"
             ],
             [
              0.2222222222222222,
              "#7201a8"
             ],
             [
              0.3333333333333333,
              "#9c179e"
             ],
             [
              0.4444444444444444,
              "#bd3786"
             ],
             [
              0.5555555555555556,
              "#d8576b"
             ],
             [
              0.6666666666666666,
              "#ed7953"
             ],
             [
              0.7777777777777778,
              "#fb9f3a"
             ],
             [
              0.8888888888888888,
              "#fdca26"
             ],
             [
              1,
              "#f0f921"
             ]
            ],
            "type": "histogram2dcontour"
           }
          ],
          "mesh3d": [
           {
            "colorbar": {
             "outlinewidth": 0,
             "ticks": ""
            },
            "type": "mesh3d"
           }
          ],
          "parcoords": [
           {
            "line": {
             "colorbar": {
              "outlinewidth": 0,
              "ticks": ""
             }
            },
            "type": "parcoords"
           }
          ],
          "pie": [
           {
            "automargin": true,
            "type": "pie"
           }
          ],
          "scatter": [
           {
            "marker": {
             "colorbar": {
              "outlinewidth": 0,
              "ticks": ""
             }
            },
            "type": "scatter"
           }
          ],
          "scatter3d": [
           {
            "line": {
             "colorbar": {
              "outlinewidth": 0,
              "ticks": ""
             }
            },
            "marker": {
             "colorbar": {
              "outlinewidth": 0,
              "ticks": ""
             }
            },
            "type": "scatter3d"
           }
          ],
          "scattercarpet": [
           {
            "marker": {
             "colorbar": {
              "outlinewidth": 0,
              "ticks": ""
             }
            },
            "type": "scattercarpet"
           }
          ],
          "scattergeo": [
           {
            "marker": {
             "colorbar": {
              "outlinewidth": 0,
              "ticks": ""
             }
            },
            "type": "scattergeo"
           }
          ],
          "scattergl": [
           {
            "marker": {
             "colorbar": {
              "outlinewidth": 0,
              "ticks": ""
             }
            },
            "type": "scattergl"
           }
          ],
          "scattermapbox": [
           {
            "marker": {
             "colorbar": {
              "outlinewidth": 0,
              "ticks": ""
             }
            },
            "type": "scattermapbox"
           }
          ],
          "scatterpolar": [
           {
            "marker": {
             "colorbar": {
              "outlinewidth": 0,
              "ticks": ""
             }
            },
            "type": "scatterpolar"
           }
          ],
          "scatterpolargl": [
           {
            "marker": {
             "colorbar": {
              "outlinewidth": 0,
              "ticks": ""
             }
            },
            "type": "scatterpolargl"
           }
          ],
          "scatterternary": [
           {
            "marker": {
             "colorbar": {
              "outlinewidth": 0,
              "ticks": ""
             }
            },
            "type": "scatterternary"
           }
          ],
          "surface": [
           {
            "colorbar": {
             "outlinewidth": 0,
             "ticks": ""
            },
            "colorscale": [
             [
              0,
              "#0d0887"
             ],
             [
              0.1111111111111111,
              "#46039f"
             ],
             [
              0.2222222222222222,
              "#7201a8"
             ],
             [
              0.3333333333333333,
              "#9c179e"
             ],
             [
              0.4444444444444444,
              "#bd3786"
             ],
             [
              0.5555555555555556,
              "#d8576b"
             ],
             [
              0.6666666666666666,
              "#ed7953"
             ],
             [
              0.7777777777777778,
              "#fb9f3a"
             ],
             [
              0.8888888888888888,
              "#fdca26"
             ],
             [
              1,
              "#f0f921"
             ]
            ],
            "type": "surface"
           }
          ],
          "table": [
           {
            "cells": {
             "fill": {
              "color": "#EBF0F8"
             },
             "line": {
              "color": "white"
             }
            },
            "header": {
             "fill": {
              "color": "#C8D4E3"
             },
             "line": {
              "color": "white"
             }
            },
            "type": "table"
           }
          ]
         },
         "layout": {
          "annotationdefaults": {
           "arrowcolor": "#2a3f5f",
           "arrowhead": 0,
           "arrowwidth": 1
          },
          "autotypenumbers": "strict",
          "coloraxis": {
           "colorbar": {
            "outlinewidth": 0,
            "ticks": ""
           }
          },
          "colorscale": {
           "diverging": [
            [
             0,
             "#8e0152"
            ],
            [
             0.1,
             "#c51b7d"
            ],
            [
             0.2,
             "#de77ae"
            ],
            [
             0.3,
             "#f1b6da"
            ],
            [
             0.4,
             "#fde0ef"
            ],
            [
             0.5,
             "#f7f7f7"
            ],
            [
             0.6,
             "#e6f5d0"
            ],
            [
             0.7,
             "#b8e186"
            ],
            [
             0.8,
             "#7fbc41"
            ],
            [
             0.9,
             "#4d9221"
            ],
            [
             1,
             "#276419"
            ]
           ],
           "sequential": [
            [
             0,
             "#0d0887"
            ],
            [
             0.1111111111111111,
             "#46039f"
            ],
            [
             0.2222222222222222,
             "#7201a8"
            ],
            [
             0.3333333333333333,
             "#9c179e"
            ],
            [
             0.4444444444444444,
             "#bd3786"
            ],
            [
             0.5555555555555556,
             "#d8576b"
            ],
            [
             0.6666666666666666,
             "#ed7953"
            ],
            [
             0.7777777777777778,
             "#fb9f3a"
            ],
            [
             0.8888888888888888,
             "#fdca26"
            ],
            [
             1,
             "#f0f921"
            ]
           ],
           "sequentialminus": [
            [
             0,
             "#0d0887"
            ],
            [
             0.1111111111111111,
             "#46039f"
            ],
            [
             0.2222222222222222,
             "#7201a8"
            ],
            [
             0.3333333333333333,
             "#9c179e"
            ],
            [
             0.4444444444444444,
             "#bd3786"
            ],
            [
             0.5555555555555556,
             "#d8576b"
            ],
            [
             0.6666666666666666,
             "#ed7953"
            ],
            [
             0.7777777777777778,
             "#fb9f3a"
            ],
            [
             0.8888888888888888,
             "#fdca26"
            ],
            [
             1,
             "#f0f921"
            ]
           ]
          },
          "colorway": [
           "#636efa",
           "#EF553B",
           "#00cc96",
           "#ab63fa",
           "#FFA15A",
           "#19d3f3",
           "#FF6692",
           "#B6E880",
           "#FF97FF",
           "#FECB52"
          ],
          "font": {
           "color": "#2a3f5f"
          },
          "geo": {
           "bgcolor": "white",
           "lakecolor": "white",
           "landcolor": "#E5ECF6",
           "showlakes": true,
           "showland": true,
           "subunitcolor": "white"
          },
          "hoverlabel": {
           "align": "left"
          },
          "hovermode": "closest",
          "mapbox": {
           "style": "light"
          },
          "paper_bgcolor": "white",
          "plot_bgcolor": "#E5ECF6",
          "polar": {
           "angularaxis": {
            "gridcolor": "white",
            "linecolor": "white",
            "ticks": ""
           },
           "bgcolor": "#E5ECF6",
           "radialaxis": {
            "gridcolor": "white",
            "linecolor": "white",
            "ticks": ""
           }
          },
          "scene": {
           "xaxis": {
            "backgroundcolor": "#E5ECF6",
            "gridcolor": "white",
            "gridwidth": 2,
            "linecolor": "white",
            "showbackground": true,
            "ticks": "",
            "zerolinecolor": "white"
           },
           "yaxis": {
            "backgroundcolor": "#E5ECF6",
            "gridcolor": "white",
            "gridwidth": 2,
            "linecolor": "white",
            "showbackground": true,
            "ticks": "",
            "zerolinecolor": "white"
           },
           "zaxis": {
            "backgroundcolor": "#E5ECF6",
            "gridcolor": "white",
            "gridwidth": 2,
            "linecolor": "white",
            "showbackground": true,
            "ticks": "",
            "zerolinecolor": "white"
           }
          },
          "shapedefaults": {
           "line": {
            "color": "#2a3f5f"
           }
          },
          "ternary": {
           "aaxis": {
            "gridcolor": "white",
            "linecolor": "white",
            "ticks": ""
           },
           "baxis": {
            "gridcolor": "white",
            "linecolor": "white",
            "ticks": ""
           },
           "bgcolor": "#E5ECF6",
           "caxis": {
            "gridcolor": "white",
            "linecolor": "white",
            "ticks": ""
           }
          },
          "title": {
           "x": 0.05
          },
          "xaxis": {
           "automargin": true,
           "gridcolor": "white",
           "linecolor": "white",
           "ticks": "",
           "title": {
            "standoff": 15
           },
           "zerolinecolor": "white",
           "zerolinewidth": 2
          },
          "yaxis": {
           "automargin": true,
           "gridcolor": "white",
           "linecolor": "white",
           "ticks": "",
           "title": {
            "standoff": 15
           },
           "zerolinecolor": "white",
           "zerolinewidth": 2
          }
         }
        },
        "title": {
         "font": {
          "color": "#4D5663"
         }
        },
        "xaxis": {
         "gridcolor": "#E1E5ED",
         "showgrid": true,
         "tickfont": {
          "color": "#4D5663"
         },
         "title": {
          "font": {
           "color": "#4D5663"
          },
          "text": "Date"
         },
         "zerolinecolor": "#E1E5ED"
        },
        "yaxis": {
         "gridcolor": "#E1E5ED",
         "showgrid": true,
         "tickfont": {
          "color": "#4D5663"
         },
         "title": {
          "font": {
           "color": "#4D5663"
          },
          "text": "Intensive Care Unit (ICU)"
         },
         "zerolinecolor": "#E1E5ED"
        }
       }
      },
      "text/html": [
       "<div>                            <div id=\"450c2237-1cce-4700-9cfa-6f52410314f9\" class=\"plotly-graph-div\" style=\"height:525px; width:100%;\"></div>            <script type=\"text/javascript\">                require([\"plotly\"], function(Plotly) {                    window.PLOTLYENV=window.PLOTLYENV || {};\n",
       "                    window.PLOTLYENV.BASE_URL='https://plot.ly';                                    if (document.getElementById(\"450c2237-1cce-4700-9cfa-6f52410314f9\")) {                    Plotly.newPlot(                        \"450c2237-1cce-4700-9cfa-6f52410314f9\",                        [{\"marker\": {\"color\": \"rgba(255, 153, 51, 0.6)\", \"line\": {\"color\": \"rgba(255, 153, 51, 1.0)\", \"width\": 1}}, \"name\": \"ICU\", \"orientation\": \"v\", \"text\": \"\", \"type\": \"bar\", \"x\": [\"2020-02-24\", \"2020-02-25\", \"2020-02-26\", \"2020-02-27\", \"2020-02-28\", \"2020-02-29\", \"2020-03-01\", \"2020-03-02\", \"2020-03-03\", \"2020-03-04\", \"2020-03-05\", \"2020-03-06\", \"2020-03-07\", \"2020-03-08\", \"2020-03-09\", \"2020-03-10\", \"2020-03-11\", \"2020-03-12\", \"2020-03-13\", \"2020-03-14\", \"2020-03-15\", \"2020-03-16\", \"2020-03-17\", \"2020-03-18\", \"2020-03-19\", \"2020-03-20\", \"2020-03-21\", \"2020-03-22\", \"2020-03-23\", \"2020-03-24\", \"2020-03-25\", \"2020-03-26\", \"2020-03-27\", \"2020-03-28\", \"2020-03-29\", \"2020-03-30\", \"2020-03-31\", \"2020-04-01\", \"2020-04-02\", \"2020-04-03\", \"2020-04-04\", \"2020-04-05\", \"2020-04-06\", \"2020-04-07\", \"2020-04-08\", \"2020-04-09\", \"2020-04-10\", \"2020-04-11\", \"2020-04-12\", \"2020-04-13\", \"2020-04-14\", \"2020-04-15\", \"2020-04-16\", \"2020-04-17\", \"2020-04-18\", \"2020-04-19\", \"2020-04-20\", \"2020-04-21\", \"2020-04-22\", \"2020-04-23\", \"2020-04-24\", \"2020-04-25\", \"2020-04-26\", \"2020-04-27\", \"2020-04-28\", \"2020-04-29\", \"2020-04-30\", \"2020-05-01\", \"2020-05-02\", \"2020-05-03\", \"2020-05-04\", \"2020-05-05\", \"2020-05-06\", \"2020-05-07\", \"2020-05-08\", \"2020-05-09\", \"2020-05-10\", \"2020-05-11\", \"2020-05-12\", \"2020-05-13\", \"2020-05-14\", \"2020-05-15\", \"2020-05-16\", \"2020-05-17\", \"2020-05-18\", \"2020-05-19\", \"2020-05-20\", \"2020-05-21\", \"2020-05-22\", \"2020-05-23\", \"2020-05-24\", \"2020-05-25\", \"2020-05-26\", \"2020-05-27\", \"2020-05-28\", \"2020-05-29\", \"2020-05-30\", \"2020-05-31\", \"2020-06-01\", \"2020-06-02\", \"2020-06-03\", \"2020-06-04\", \"2020-06-05\", \"2020-06-06\", \"2020-06-07\", \"2020-06-08\", \"2020-06-09\", \"2020-06-10\", \"2020-06-11\", \"2020-06-12\", \"2020-06-13\", \"2020-06-14\", \"2020-06-15\", \"2020-06-16\", \"2020-06-17\", \"2020-06-18\", \"2020-06-19\", \"2020-06-20\", \"2020-06-21\", \"2020-06-22\", \"2020-06-23\", \"2020-06-24\", \"2020-06-25\", \"2020-06-26\", \"2020-06-27\", \"2020-06-28\", \"2020-06-29\", \"2020-06-30\", \"2020-07-01\", \"2020-07-02\", \"2020-07-03\", \"2020-07-04\", \"2020-07-05\", \"2020-07-06\", \"2020-07-07\", \"2020-07-08\", \"2020-07-09\", \"2020-07-10\", \"2020-07-11\", \"2020-07-12\", \"2020-07-13\", \"2020-07-14\", \"2020-07-15\", \"2020-07-16\", \"2020-07-17\", \"2020-07-18\", \"2020-07-19\", \"2020-07-20\", \"2020-07-21\", \"2020-07-22\", \"2020-07-23\", \"2020-07-24\", \"2020-07-25\", \"2020-07-26\", \"2020-07-27\", \"2020-07-28\", \"2020-07-29\", \"2020-07-30\", \"2020-07-31\", \"2020-08-01\", \"2020-08-02\", \"2020-08-03\", \"2020-08-04\", \"2020-08-05\", \"2020-08-06\", \"2020-08-07\", \"2020-08-08\", \"2020-08-09\", \"2020-08-10\", \"2020-08-11\", \"2020-08-12\", \"2020-08-13\", \"2020-08-14\", \"2020-08-15\", \"2020-08-16\", \"2020-08-17\", \"2020-08-18\", \"2020-08-19\", \"2020-08-20\", \"2020-08-21\", \"2020-08-22\", \"2020-08-23\", \"2020-08-24\", \"2020-08-25\", \"2020-08-26\", \"2020-08-27\", \"2020-08-28\", \"2020-08-29\", \"2020-08-30\", \"2020-08-31\", \"2020-09-01\", \"2020-09-02\", \"2020-09-03\", \"2020-09-04\", \"2020-09-05\", \"2020-09-06\", \"2020-09-07\", \"2020-09-08\", \"2020-09-09\", \"2020-09-10\", \"2020-09-11\", \"2020-09-12\", \"2020-09-13\", \"2020-09-14\", \"2020-09-15\", \"2020-09-16\", \"2020-09-17\", \"2020-09-18\", \"2020-09-19\", \"2020-09-20\", \"2020-09-21\", \"2020-09-22\", \"2020-09-23\", \"2020-09-24\", \"2020-09-25\", \"2020-09-26\", \"2020-09-27\", \"2020-09-28\", \"2020-09-29\", \"2020-09-30\", \"2020-10-01\", \"2020-10-02\", \"2020-10-03\", \"2020-10-04\", \"2020-10-05\", \"2020-10-06\", \"2020-10-07\", \"2020-10-08\", \"2020-10-09\", \"2020-10-10\", \"2020-10-11\", \"2020-10-12\", \"2020-10-13\", \"2020-10-14\", \"2020-10-15\", \"2020-10-16\", \"2020-10-17\", \"2020-10-18\", \"2020-10-19\", \"2020-10-20\", \"2020-10-21\", \"2020-10-22\", \"2020-10-23\", \"2020-10-24\", \"2020-10-25\", \"2020-10-26\", \"2020-10-27\", \"2020-10-28\", \"2020-10-29\", \"2020-10-30\", \"2020-10-31\", \"2020-11-01\", \"2020-11-02\", \"2020-11-03\", \"2020-11-04\", \"2020-11-05\", \"2020-11-06\", \"2020-11-07\", \"2020-11-08\", \"2020-11-09\", \"2020-11-10\", \"2020-11-11\", \"2020-11-12\", \"2020-11-13\", \"2020-11-14\", \"2020-11-15\", \"2020-11-16\", \"2020-11-17\", \"2020-11-18\", \"2020-11-19\", \"2020-11-20\", \"2020-11-21\", \"2020-11-22\", \"2020-11-23\", \"2020-11-24\", \"2020-11-25\", \"2020-11-26\", \"2020-11-27\", \"2020-11-28\", \"2020-11-29\", \"2020-11-30\", \"2020-12-01\", \"2020-12-02\", \"2020-12-03\", \"2020-12-04\", \"2020-12-05\", \"2020-12-06\", \"2020-12-07\", \"2020-12-08\", \"2020-12-09\", \"2020-12-10\", \"2020-12-11\", \"2020-12-12\", \"2020-12-13\", \"2020-12-14\", \"2020-12-15\", \"2020-12-16\", \"2020-12-17\", \"2020-12-18\", \"2020-12-19\", \"2020-12-20\", \"2020-12-21\", \"2020-12-22\", \"2020-12-23\", \"2020-12-24\", \"2020-12-25\", \"2020-12-26\", \"2020-12-27\", \"2020-12-28\", \"2020-12-29\", \"2020-12-30\", \"2020-12-31\", \"2021-01-01\", \"2021-01-02\", \"2021-01-03\", \"2021-01-04\", \"2021-01-05\", \"2021-01-06\", \"2021-01-07\", \"2021-01-08\", \"2021-01-09\", \"2021-01-10\", \"2021-01-11\", \"2021-01-12\", \"2021-01-13\", \"2021-01-14\", \"2021-01-15\", \"2021-01-16\", \"2021-01-17\", \"2021-01-18\", \"2021-01-19\", \"2021-01-20\", \"2021-01-21\", \"2021-01-22\", \"2021-01-23\", \"2021-01-24\", \"2021-01-25\", \"2021-01-26\", \"2021-01-27\"], \"y\": [26, 35, 36, 56, 64, 105, 140, 166, 229, 295, 351, 462, 567, 650, 733, 877, 1028, 1153, 1328, 1518, 1672, 1851, 2060, 2257, 2498, 2655, 2857, 3009, 3204, 3396, 3489, 3612, 3732, 3856, 3906, 3981, 4023, 4035, 4053, 4068, 3994, 3977, 3898, 3792, 3693, 3605, 3497, 3381, 3343, 3260, 3186, 3079, 2936, 2812, 2733, 2635, 2573, 2471, 2384, 2267, 2173, 2102, 2009, 1956, 1863, 1795, 1694, 1578, 1539, 1501, 1479, 1427, 1333, 1311, 1168, 1034, 1027, 999, 952, 893, 855, 808, 775, 762, 749, 716, 676, 640, 595, 572, 553, 541, 521, 505, 489, 475, 450, 435, 424, 408, 353, 338, 316, 293, 287, 283, 263, 249, 236, 227, 220, 209, 207, 177, 163, 168, 161, 152, 148, 127, 115, 107, 103, 105, 97, 98, 96, 93, 87, 82, 79, 71, 74, 72, 70, 71, 69, 65, 67, 68, 65, 60, 57, 53, 50, 50, 49, 47, 49, 48, 49, 46, 41, 44, 45, 40, 38, 47, 41, 43, 42, 41, 41, 41, 42, 42, 43, 45, 46, 49, 53, 55, 56, 55, 56, 58, 58, 66, 68, 69, 64, 69, 65, 66, 69, 67, 74, 79, 86, 94, 107, 109, 120, 121, 121, 133, 142, 143, 150, 164, 175, 182, 187, 197, 201, 207, 212, 208, 215, 222, 232, 239, 244, 246, 244, 247, 254, 264, 271, 280, 291, 294, 297, 303, 323, 319, 337, 358, 387, 390, 420, 452, 514, 539, 586, 638, 705, 750, 797, 870, 926, 992, 1049, 1128, 1208, 1284, 1411, 1536, 1651, 1746, 1843, 1939, 2022, 2225, 2292, 2391, 2515, 2634, 2749, 2849, 2971, 3081, 3170, 3230, 3306, 3422, 3492, 3612, 3670, 3712, 3748, 3758, 3801, 3810, 3816, 3848, 3846, 3782, 3762, 3753, 3744, 3663, 3616, 3597, 3567, 3517, 3454, 3382, 3345, 3320, 3291, 3265, 3199, 3158, 3095, 3003, 2926, 2855, 2819, 2784, 2743, 2731, 2687, 2624, 2589, 2584, 2580, 2580, 2565, 2549, 2528, 2555, 2553, 2569, 2583, 2579, 2569, 2571, 2587, 2587, 2593, 2615, 2642, 2636, 2579, 2557, 2522, 2520, 2503, 2544, 2487, 2461, 2418, 2390, 2386, 2400, 2421, 2372, 2352]}],                        {\"legend\": {\"bgcolor\": \"#F5F6F9\", \"font\": {\"color\": \"#4D5663\"}}, \"paper_bgcolor\": \"#F5F6F9\", \"plot_bgcolor\": \"#F5F6F9\", \"template\": {\"data\": {\"bar\": [{\"error_x\": {\"color\": \"#2a3f5f\"}, \"error_y\": {\"color\": \"#2a3f5f\"}, \"marker\": {\"line\": {\"color\": \"#E5ECF6\", \"width\": 0.5}}, \"type\": \"bar\"}], \"barpolar\": [{\"marker\": {\"line\": {\"color\": \"#E5ECF6\", \"width\": 0.5}}, \"type\": \"barpolar\"}], \"carpet\": [{\"aaxis\": {\"endlinecolor\": \"#2a3f5f\", \"gridcolor\": \"white\", \"linecolor\": \"white\", \"minorgridcolor\": \"white\", \"startlinecolor\": \"#2a3f5f\"}, \"baxis\": {\"endlinecolor\": \"#2a3f5f\", \"gridcolor\": \"white\", \"linecolor\": \"white\", \"minorgridcolor\": \"white\", \"startlinecolor\": \"#2a3f5f\"}, \"type\": \"carpet\"}], \"choropleth\": [{\"colorbar\": {\"outlinewidth\": 0, \"ticks\": \"\"}, \"type\": \"choropleth\"}], \"contour\": [{\"colorbar\": {\"outlinewidth\": 0, \"ticks\": \"\"}, \"colorscale\": [[0.0, \"#0d0887\"], [0.1111111111111111, \"#46039f\"], [0.2222222222222222, \"#7201a8\"], [0.3333333333333333, \"#9c179e\"], [0.4444444444444444, \"#bd3786\"], [0.5555555555555556, \"#d8576b\"], [0.6666666666666666, \"#ed7953\"], [0.7777777777777778, \"#fb9f3a\"], [0.8888888888888888, \"#fdca26\"], [1.0, \"#f0f921\"]], \"type\": \"contour\"}], \"contourcarpet\": [{\"colorbar\": {\"outlinewidth\": 0, \"ticks\": \"\"}, \"type\": \"contourcarpet\"}], \"heatmap\": [{\"colorbar\": {\"outlinewidth\": 0, \"ticks\": \"\"}, \"colorscale\": [[0.0, \"#0d0887\"], [0.1111111111111111, \"#46039f\"], [0.2222222222222222, \"#7201a8\"], [0.3333333333333333, \"#9c179e\"], [0.4444444444444444, \"#bd3786\"], [0.5555555555555556, \"#d8576b\"], [0.6666666666666666, \"#ed7953\"], [0.7777777777777778, \"#fb9f3a\"], [0.8888888888888888, \"#fdca26\"], [1.0, \"#f0f921\"]], \"type\": \"heatmap\"}], \"heatmapgl\": [{\"colorbar\": {\"outlinewidth\": 0, \"ticks\": \"\"}, \"colorscale\": [[0.0, \"#0d0887\"], [0.1111111111111111, \"#46039f\"], [0.2222222222222222, \"#7201a8\"], [0.3333333333333333, \"#9c179e\"], [0.4444444444444444, \"#bd3786\"], [0.5555555555555556, \"#d8576b\"], [0.6666666666666666, \"#ed7953\"], [0.7777777777777778, \"#fb9f3a\"], [0.8888888888888888, \"#fdca26\"], [1.0, \"#f0f921\"]], \"type\": \"heatmapgl\"}], \"histogram\": [{\"marker\": {\"colorbar\": {\"outlinewidth\": 0, \"ticks\": \"\"}}, \"type\": \"histogram\"}], \"histogram2d\": [{\"colorbar\": {\"outlinewidth\": 0, \"ticks\": \"\"}, \"colorscale\": [[0.0, \"#0d0887\"], [0.1111111111111111, \"#46039f\"], [0.2222222222222222, \"#7201a8\"], [0.3333333333333333, \"#9c179e\"], [0.4444444444444444, \"#bd3786\"], [0.5555555555555556, \"#d8576b\"], [0.6666666666666666, \"#ed7953\"], [0.7777777777777778, \"#fb9f3a\"], [0.8888888888888888, \"#fdca26\"], [1.0, \"#f0f921\"]], \"type\": \"histogram2d\"}], \"histogram2dcontour\": [{\"colorbar\": {\"outlinewidth\": 0, \"ticks\": \"\"}, \"colorscale\": [[0.0, \"#0d0887\"], [0.1111111111111111, \"#46039f\"], [0.2222222222222222, \"#7201a8\"], [0.3333333333333333, \"#9c179e\"], [0.4444444444444444, \"#bd3786\"], [0.5555555555555556, \"#d8576b\"], [0.6666666666666666, \"#ed7953\"], [0.7777777777777778, \"#fb9f3a\"], [0.8888888888888888, \"#fdca26\"], [1.0, \"#f0f921\"]], \"type\": \"histogram2dcontour\"}], \"mesh3d\": [{\"colorbar\": {\"outlinewidth\": 0, \"ticks\": \"\"}, \"type\": \"mesh3d\"}], \"parcoords\": [{\"line\": {\"colorbar\": {\"outlinewidth\": 0, \"ticks\": \"\"}}, \"type\": \"parcoords\"}], \"pie\": [{\"automargin\": true, \"type\": \"pie\"}], \"scatter\": [{\"marker\": {\"colorbar\": {\"outlinewidth\": 0, \"ticks\": \"\"}}, \"type\": \"scatter\"}], \"scatter3d\": [{\"line\": {\"colorbar\": {\"outlinewidth\": 0, \"ticks\": \"\"}}, \"marker\": {\"colorbar\": {\"outlinewidth\": 0, \"ticks\": \"\"}}, \"type\": \"scatter3d\"}], \"scattercarpet\": [{\"marker\": {\"colorbar\": {\"outlinewidth\": 0, \"ticks\": \"\"}}, \"type\": \"scattercarpet\"}], \"scattergeo\": [{\"marker\": {\"colorbar\": {\"outlinewidth\": 0, \"ticks\": \"\"}}, \"type\": \"scattergeo\"}], \"scattergl\": [{\"marker\": {\"colorbar\": {\"outlinewidth\": 0, \"ticks\": \"\"}}, \"type\": \"scattergl\"}], \"scattermapbox\": [{\"marker\": {\"colorbar\": {\"outlinewidth\": 0, \"ticks\": \"\"}}, \"type\": \"scattermapbox\"}], \"scatterpolar\": [{\"marker\": {\"colorbar\": {\"outlinewidth\": 0, \"ticks\": \"\"}}, \"type\": \"scatterpolar\"}], \"scatterpolargl\": [{\"marker\": {\"colorbar\": {\"outlinewidth\": 0, \"ticks\": \"\"}}, \"type\": \"scatterpolargl\"}], \"scatterternary\": [{\"marker\": {\"colorbar\": {\"outlinewidth\": 0, \"ticks\": \"\"}}, \"type\": \"scatterternary\"}], \"surface\": [{\"colorbar\": {\"outlinewidth\": 0, \"ticks\": \"\"}, \"colorscale\": [[0.0, \"#0d0887\"], [0.1111111111111111, \"#46039f\"], [0.2222222222222222, \"#7201a8\"], [0.3333333333333333, \"#9c179e\"], [0.4444444444444444, \"#bd3786\"], [0.5555555555555556, \"#d8576b\"], [0.6666666666666666, \"#ed7953\"], [0.7777777777777778, \"#fb9f3a\"], [0.8888888888888888, \"#fdca26\"], [1.0, \"#f0f921\"]], \"type\": \"surface\"}], \"table\": [{\"cells\": {\"fill\": {\"color\": \"#EBF0F8\"}, \"line\": {\"color\": \"white\"}}, \"header\": {\"fill\": {\"color\": \"#C8D4E3\"}, \"line\": {\"color\": \"white\"}}, \"type\": \"table\"}]}, \"layout\": {\"annotationdefaults\": {\"arrowcolor\": \"#2a3f5f\", \"arrowhead\": 0, \"arrowwidth\": 1}, \"autotypenumbers\": \"strict\", \"coloraxis\": {\"colorbar\": {\"outlinewidth\": 0, \"ticks\": \"\"}}, \"colorscale\": {\"diverging\": [[0, \"#8e0152\"], [0.1, \"#c51b7d\"], [0.2, \"#de77ae\"], [0.3, \"#f1b6da\"], [0.4, \"#fde0ef\"], [0.5, \"#f7f7f7\"], [0.6, \"#e6f5d0\"], [0.7, \"#b8e186\"], [0.8, \"#7fbc41\"], [0.9, \"#4d9221\"], [1, \"#276419\"]], \"sequential\": [[0.0, \"#0d0887\"], [0.1111111111111111, \"#46039f\"], [0.2222222222222222, \"#7201a8\"], [0.3333333333333333, \"#9c179e\"], [0.4444444444444444, \"#bd3786\"], [0.5555555555555556, \"#d8576b\"], [0.6666666666666666, \"#ed7953\"], [0.7777777777777778, \"#fb9f3a\"], [0.8888888888888888, \"#fdca26\"], [1.0, \"#f0f921\"]], \"sequentialminus\": [[0.0, \"#0d0887\"], [0.1111111111111111, \"#46039f\"], [0.2222222222222222, \"#7201a8\"], [0.3333333333333333, \"#9c179e\"], [0.4444444444444444, \"#bd3786\"], [0.5555555555555556, \"#d8576b\"], [0.6666666666666666, \"#ed7953\"], [0.7777777777777778, \"#fb9f3a\"], [0.8888888888888888, \"#fdca26\"], [1.0, \"#f0f921\"]]}, \"colorway\": [\"#636efa\", \"#EF553B\", \"#00cc96\", \"#ab63fa\", \"#FFA15A\", \"#19d3f3\", \"#FF6692\", \"#B6E880\", \"#FF97FF\", \"#FECB52\"], \"font\": {\"color\": \"#2a3f5f\"}, \"geo\": {\"bgcolor\": \"white\", \"lakecolor\": \"white\", \"landcolor\": \"#E5ECF6\", \"showlakes\": true, \"showland\": true, \"subunitcolor\": \"white\"}, \"hoverlabel\": {\"align\": \"left\"}, \"hovermode\": \"closest\", \"mapbox\": {\"style\": \"light\"}, \"paper_bgcolor\": \"white\", \"plot_bgcolor\": \"#E5ECF6\", \"polar\": {\"angularaxis\": {\"gridcolor\": \"white\", \"linecolor\": \"white\", \"ticks\": \"\"}, \"bgcolor\": \"#E5ECF6\", \"radialaxis\": {\"gridcolor\": \"white\", \"linecolor\": \"white\", \"ticks\": \"\"}}, \"scene\": {\"xaxis\": {\"backgroundcolor\": \"#E5ECF6\", \"gridcolor\": \"white\", \"gridwidth\": 2, \"linecolor\": \"white\", \"showbackground\": true, \"ticks\": \"\", \"zerolinecolor\": \"white\"}, \"yaxis\": {\"backgroundcolor\": \"#E5ECF6\", \"gridcolor\": \"white\", \"gridwidth\": 2, \"linecolor\": \"white\", \"showbackground\": true, \"ticks\": \"\", \"zerolinecolor\": \"white\"}, \"zaxis\": {\"backgroundcolor\": \"#E5ECF6\", \"gridcolor\": \"white\", \"gridwidth\": 2, \"linecolor\": \"white\", \"showbackground\": true, \"ticks\": \"\", \"zerolinecolor\": \"white\"}}, \"shapedefaults\": {\"line\": {\"color\": \"#2a3f5f\"}}, \"ternary\": {\"aaxis\": {\"gridcolor\": \"white\", \"linecolor\": \"white\", \"ticks\": \"\"}, \"baxis\": {\"gridcolor\": \"white\", \"linecolor\": \"white\", \"ticks\": \"\"}, \"bgcolor\": \"#E5ECF6\", \"caxis\": {\"gridcolor\": \"white\", \"linecolor\": \"white\", \"ticks\": \"\"}}, \"title\": {\"x\": 0.05}, \"xaxis\": {\"automargin\": true, \"gridcolor\": \"white\", \"linecolor\": \"white\", \"ticks\": \"\", \"title\": {\"standoff\": 15}, \"zerolinecolor\": \"white\", \"zerolinewidth\": 2}, \"yaxis\": {\"automargin\": true, \"gridcolor\": \"white\", \"linecolor\": \"white\", \"ticks\": \"\", \"title\": {\"standoff\": 15}, \"zerolinecolor\": \"white\", \"zerolinewidth\": 2}}}, \"title\": {\"font\": {\"color\": \"#4D5663\"}}, \"xaxis\": {\"gridcolor\": \"#E1E5ED\", \"showgrid\": true, \"tickfont\": {\"color\": \"#4D5663\"}, \"title\": {\"font\": {\"color\": \"#4D5663\"}, \"text\": \"Date\"}, \"zerolinecolor\": \"#E1E5ED\"}, \"yaxis\": {\"gridcolor\": \"#E1E5ED\", \"showgrid\": true, \"tickfont\": {\"color\": \"#4D5663\"}, \"title\": {\"font\": {\"color\": \"#4D5663\"}, \"text\": \"Intensive Care Unit (ICU)\"}, \"zerolinecolor\": \"#E1E5ED\"}},                        {\"showLink\": true, \"linkText\": \"Export to plot.ly\", \"plotlyServerURL\": \"https://plot.ly\", \"responsive\": true}                    ).then(function(){\n",
       "                            \n",
       "var gd = document.getElementById('450c2237-1cce-4700-9cfa-6f52410314f9');\n",
       "var x = new MutationObserver(function (mutations, observer) {{\n",
       "        var display = window.getComputedStyle(gd).display;\n",
       "        if (!display || display === 'none') {{\n",
       "            console.log([gd, 'removed!']);\n",
       "            Plotly.purge(gd);\n",
       "            observer.disconnect();\n",
       "        }}\n",
       "}});\n",
       "\n",
       "// Listen for the removal of the full notebook cells\n",
       "var notebookContainer = gd.closest('#notebook-container');\n",
       "if (notebookContainer) {{\n",
       "    x.observe(notebookContainer, {childList: true});\n",
       "}}\n",
       "\n",
       "// Listen for the clearing of the current output cell\n",
       "var outputEl = gd.closest('.output');\n",
       "if (outputEl) {{\n",
       "    x.observe(outputEl, {childList: true});\n",
       "}}\n",
       "\n",
       "                        })                };                });            </script>        </div>"
      ]
     },
     "metadata": {},
     "output_type": "display_data"
    }
   ],
   "source": [
    "df2 = df2.rename(columns={'terapia_intensiva': 'ICU'})\n",
    "df2['Date'] = pd.to_datetime(df2['data'], format=\"%Y-%m-%d\")\n",
    "df2['Date'] = df2['Date'].dt.strftime('%Y-%m-%d')\n",
    "df2.iplot(kind='bar',x='Date',y='ICU', xTitle='Date', yTitle='Intensive Care Unit (ICU)')"
   ]
  }
 ],
 "metadata": {
  "kernelspec": {
   "display_name": "Python 3",
   "language": "python",
   "name": "python3"
  },
  "language_info": {
   "codemirror_mode": {
    "name": "ipython",
    "version": 3
   },
   "file_extension": ".py",
   "mimetype": "text/x-python",
   "name": "python",
   "nbconvert_exporter": "python",
   "pygments_lexer": "ipython3",
   "version": "3.7.3"
  }
 },
 "nbformat": 4,
 "nbformat_minor": 5
}
